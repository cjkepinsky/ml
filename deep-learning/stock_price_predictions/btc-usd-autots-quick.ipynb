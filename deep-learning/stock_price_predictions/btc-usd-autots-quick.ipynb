{
 "cells": [
  {
   "cell_type": "code",
   "execution_count": 5,
   "outputs": [
    {
     "name": "stderr",
     "output_type": "stream",
     "text": [
      "/Users/kkepins-macwro_1/.local/share/virtualenvs/data-science-upskills-eseJr18D/lib/python3.10/site-packages/autots/evaluator/auto_model.py:939: FutureWarning: iteritems is deprecated and will be removed in a future version. Use .items instead.\n",
      "  for index, value in models_to_iterate.iteritems():\n"
     ]
    },
    {
     "data": {
      "text/plain": "                   Close\n2023-03-13  22158.263030\n2023-03-14  22163.949219",
      "text/html": "<div>\n<style scoped>\n    .dataframe tbody tr th:only-of-type {\n        vertical-align: middle;\n    }\n\n    .dataframe tbody tr th {\n        vertical-align: top;\n    }\n\n    .dataframe thead th {\n        text-align: right;\n    }\n</style>\n<table border=\"1\" class=\"dataframe\">\n  <thead>\n    <tr style=\"text-align: right;\">\n      <th></th>\n      <th>Close</th>\n    </tr>\n  </thead>\n  <tbody>\n    <tr>\n      <th>2023-03-13</th>\n      <td>22158.263030</td>\n    </tr>\n    <tr>\n      <th>2023-03-14</th>\n      <td>22163.949219</td>\n    </tr>\n  </tbody>\n</table>\n</div>"
     },
     "execution_count": 5,
     "metadata": {},
     "output_type": "execute_result"
    }
   ],
   "source": [
    "import joblib\n",
    "\n",
    "model = joblib.load(\"btc-usd-AutoTS-2023-03-15-03-51-12.joblib\")\n",
    "prediction = model.predict(forecast_length=3)\n",
    "forecast = prediction.forecast\n",
    "forecast = forecast[:len(forecast)-1]\n",
    "forecast\n",
    "# forecast.values[:, 0]"
   ],
   "metadata": {
    "collapsed": false
   }
  },
  {
   "cell_type": "code",
   "execution_count": 6,
   "outputs": [
    {
     "data": {
      "text/plain": "         Date          Open          High           Low         Close  \\\n0  2023-03-13  22156.406250  24550.837891  21918.199219  24197.533203   \n1  2023-03-14  24201.765625  26514.716797  24081.183594  24746.074219   \n\n      Adj Close       Volume  \n0  24197.533203  49466362688  \n1  24746.074219  54622230164  ",
      "text/html": "<div>\n<style scoped>\n    .dataframe tbody tr th:only-of-type {\n        vertical-align: middle;\n    }\n\n    .dataframe tbody tr th {\n        vertical-align: top;\n    }\n\n    .dataframe thead th {\n        text-align: right;\n    }\n</style>\n<table border=\"1\" class=\"dataframe\">\n  <thead>\n    <tr style=\"text-align: right;\">\n      <th></th>\n      <th>Date</th>\n      <th>Open</th>\n      <th>High</th>\n      <th>Low</th>\n      <th>Close</th>\n      <th>Adj Close</th>\n      <th>Volume</th>\n    </tr>\n  </thead>\n  <tbody>\n    <tr>\n      <th>0</th>\n      <td>2023-03-13</td>\n      <td>22156.406250</td>\n      <td>24550.837891</td>\n      <td>21918.199219</td>\n      <td>24197.533203</td>\n      <td>24197.533203</td>\n      <td>49466362688</td>\n    </tr>\n    <tr>\n      <th>1</th>\n      <td>2023-03-14</td>\n      <td>24201.765625</td>\n      <td>26514.716797</td>\n      <td>24081.183594</td>\n      <td>24746.074219</td>\n      <td>24746.074219</td>\n      <td>54622230164</td>\n    </tr>\n  </tbody>\n</table>\n</div>"
     },
     "execution_count": 6,
     "metadata": {},
     "output_type": "execute_result"
    }
   ],
   "source": [
    "\n",
    "from dslibs.simple_yahoo import get_from_yahoo\n",
    "\n",
    "real = get_from_yahoo('BTC-USD', '2023-03-14', '2023-03-15')\n",
    "real"
   ],
   "metadata": {
    "collapsed": false
   }
  },
  {
   "cell_type": "code",
   "execution_count": 7,
   "outputs": [
    {
     "data": {
      "text/plain": "2310.6975864005235"
     },
     "execution_count": 7,
     "metadata": {},
     "output_type": "execute_result"
    }
   ],
   "source": [
    "\n",
    "import sklearn.metrics as skm\n",
    "mae = skm.mean_absolute_error(real['Close'], forecast.values[:, 0])\n",
    "mae"
   ],
   "metadata": {
    "collapsed": false
   }
  },
  {
   "cell_type": "code",
   "execution_count": 13,
   "outputs": [
    {
     "data": {
      "text/plain": "{'ConstantNaive': 1,\n 'LastValueNaive': 1,\n 'AverageValueNaive': 1,\n 'GLS': 1,\n 'SeasonalNaive': 1,\n 'GLM': 1,\n 'ETS': 1,\n 'FBProphet': 0.5,\n 'GluonTS': 0.5,\n 'UnobservedComponents': 1,\n 'VAR': 1,\n 'VECM': 1,\n 'ARIMA': 0.4,\n 'WindowRegression': 0.5,\n 'DatepartRegression': 1,\n 'UnivariateRegression': 0.3,\n 'MultivariateRegression': 0.4,\n 'UnivariateMotif': 1,\n 'MultivariateMotif': 1,\n 'SectionalMotif': 1,\n 'NVAR': 1,\n 'Theta': 1,\n 'ARDL': 1,\n 'ARCH': 1,\n 'MetricMotif': 1}"
     },
     "execution_count": 13,
     "metadata": {},
     "output_type": "execute_result"
    }
   ],
   "source": [
    "model.model_list"
   ],
   "metadata": {
    "collapsed": false
   }
  }
 ],
 "metadata": {
  "kernelspec": {
   "display_name": "Python 3",
   "language": "python",
   "name": "python3"
  },
  "language_info": {
   "codemirror_mode": {
    "name": "ipython",
    "version": 2
   },
   "file_extension": ".py",
   "mimetype": "text/x-python",
   "name": "python",
   "nbconvert_exporter": "python",
   "pygments_lexer": "ipython2",
   "version": "2.7.6"
  }
 },
 "nbformat": 4,
 "nbformat_minor": 0
}
