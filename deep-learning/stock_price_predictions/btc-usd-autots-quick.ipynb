{
 "cells": [
  {
   "cell_type": "code",
   "execution_count": 7,
   "outputs": [
    {
     "data": {
      "text/plain": "                   Close\n2023-02-24  24290.601748\n2023-02-25  23545.099918\n2023-02-26  23175.182029\n2023-02-27  23320.893432\n2023-02-28  23029.535619\n2023-03-01  22748.064854\n2023-03-02  22979.494553\n2023-03-03  22947.510988\n2023-03-04  22808.930959\n2023-03-05  22939.992719\n2023-03-06  21942.019841\n2023-03-07  21653.833912\n2023-03-08  21639.823481\n2023-03-09  21036.323963\n2023-03-10  19977.515002\n2023-03-11  20156.509033\n2023-03-12  19540.363398\n2023-03-13  19585.412982\n2023-03-14  19878.142221\n2023-03-15  20385.469511\n2023-03-16  20792.513368\n2023-03-17  20847.619450\n2023-03-18  21012.012732\n2023-03-19  21242.437249\n2023-03-20  21788.300655\n2023-03-21  21398.480673\n2023-03-22  21745.349183\n2023-03-23  21866.873471\n2023-03-24  21523.236876",
      "text/html": "<div>\n<style scoped>\n    .dataframe tbody tr th:only-of-type {\n        vertical-align: middle;\n    }\n\n    .dataframe tbody tr th {\n        vertical-align: top;\n    }\n\n    .dataframe thead th {\n        text-align: right;\n    }\n</style>\n<table border=\"1\" class=\"dataframe\">\n  <thead>\n    <tr style=\"text-align: right;\">\n      <th></th>\n      <th>Close</th>\n    </tr>\n  </thead>\n  <tbody>\n    <tr>\n      <th>2023-02-24</th>\n      <td>24290.601748</td>\n    </tr>\n    <tr>\n      <th>2023-02-25</th>\n      <td>23545.099918</td>\n    </tr>\n    <tr>\n      <th>2023-02-26</th>\n      <td>23175.182029</td>\n    </tr>\n    <tr>\n      <th>2023-02-27</th>\n      <td>23320.893432</td>\n    </tr>\n    <tr>\n      <th>2023-02-28</th>\n      <td>23029.535619</td>\n    </tr>\n    <tr>\n      <th>2023-03-01</th>\n      <td>22748.064854</td>\n    </tr>\n    <tr>\n      <th>2023-03-02</th>\n      <td>22979.494553</td>\n    </tr>\n    <tr>\n      <th>2023-03-03</th>\n      <td>22947.510988</td>\n    </tr>\n    <tr>\n      <th>2023-03-04</th>\n      <td>22808.930959</td>\n    </tr>\n    <tr>\n      <th>2023-03-05</th>\n      <td>22939.992719</td>\n    </tr>\n    <tr>\n      <th>2023-03-06</th>\n      <td>21942.019841</td>\n    </tr>\n    <tr>\n      <th>2023-03-07</th>\n      <td>21653.833912</td>\n    </tr>\n    <tr>\n      <th>2023-03-08</th>\n      <td>21639.823481</td>\n    </tr>\n    <tr>\n      <th>2023-03-09</th>\n      <td>21036.323963</td>\n    </tr>\n    <tr>\n      <th>2023-03-10</th>\n      <td>19977.515002</td>\n    </tr>\n    <tr>\n      <th>2023-03-11</th>\n      <td>20156.509033</td>\n    </tr>\n    <tr>\n      <th>2023-03-12</th>\n      <td>19540.363398</td>\n    </tr>\n    <tr>\n      <th>2023-03-13</th>\n      <td>19585.412982</td>\n    </tr>\n    <tr>\n      <th>2023-03-14</th>\n      <td>19878.142221</td>\n    </tr>\n    <tr>\n      <th>2023-03-15</th>\n      <td>20385.469511</td>\n    </tr>\n    <tr>\n      <th>2023-03-16</th>\n      <td>20792.513368</td>\n    </tr>\n    <tr>\n      <th>2023-03-17</th>\n      <td>20847.619450</td>\n    </tr>\n    <tr>\n      <th>2023-03-18</th>\n      <td>21012.012732</td>\n    </tr>\n    <tr>\n      <th>2023-03-19</th>\n      <td>21242.437249</td>\n    </tr>\n    <tr>\n      <th>2023-03-20</th>\n      <td>21788.300655</td>\n    </tr>\n    <tr>\n      <th>2023-03-21</th>\n      <td>21398.480673</td>\n    </tr>\n    <tr>\n      <th>2023-03-22</th>\n      <td>21745.349183</td>\n    </tr>\n    <tr>\n      <th>2023-03-23</th>\n      <td>21866.873471</td>\n    </tr>\n    <tr>\n      <th>2023-03-24</th>\n      <td>21523.236876</td>\n    </tr>\n  </tbody>\n</table>\n</div>"
     },
     "execution_count": 7,
     "metadata": {},
     "output_type": "execute_result"
    }
   ],
   "source": [
    "import joblib\n",
    "\n",
    "model = joblib.load(\"btc-usd-AutoTS-mae325-2023-02-28-13-28-40.joblib\")\n",
    "prediction = model.predict(forecast_length=30)\n",
    "forecast = prediction.forecast\n",
    "forecast = forecast[:len(forecast)-1]\n",
    "forecast\n",
    "# forecast.values[:, 0]"
   ],
   "metadata": {
    "collapsed": false
   }
  },
  {
   "cell_type": "code",
   "execution_count": 13,
   "outputs": [
    {
     "data": {
      "text/plain": "{'ConstantNaive': 1,\n 'LastValueNaive': 1,\n 'AverageValueNaive': 1,\n 'GLS': 1,\n 'SeasonalNaive': 1,\n 'GLM': 1,\n 'ETS': 1,\n 'FBProphet': 0.5,\n 'GluonTS': 0.5,\n 'UnobservedComponents': 1,\n 'VAR': 1,\n 'VECM': 1,\n 'ARIMA': 0.4,\n 'WindowRegression': 0.5,\n 'DatepartRegression': 1,\n 'UnivariateRegression': 0.3,\n 'MultivariateRegression': 0.4,\n 'UnivariateMotif': 1,\n 'MultivariateMotif': 1,\n 'SectionalMotif': 1,\n 'NVAR': 1,\n 'Theta': 1,\n 'ARDL': 1,\n 'ARCH': 1,\n 'MetricMotif': 1}"
     },
     "execution_count": 13,
     "metadata": {},
     "output_type": "execute_result"
    }
   ],
   "source": [
    "model.model_list"
   ],
   "metadata": {
    "collapsed": false
   }
  },
  {
   "cell_type": "code",
   "execution_count": 5,
   "outputs": [
    {
     "name": "stdout",
     "output_type": "stream",
     "text": [
      "Done\n"
     ]
    },
    {
     "data": {
      "text/plain": "          Date          Open          High           Low         Close  \\\n0   2023-02-24  23946.007813  24103.705078  23007.072266  23198.126953   \n1   2023-02-25  23200.125000  23210.210938  22861.558594  23175.375000   \n2   2023-02-26  23174.150391  23654.367188  23084.220703  23561.212891   \n3   2023-02-27  23561.451172  23857.890625  23205.878906  23522.871094   \n4   2023-02-28  23521.837891  23585.384766  23077.650391  23147.353516   \n5   2023-03-01  23150.929688  23880.632813  23088.626953  23646.550781   \n6   2023-03-02  23647.019531  23739.138672  23245.021484  23475.466797   \n7   2023-03-03  23476.632813  23479.347656  22213.238281  22362.679688   \n8   2023-03-04  22362.923828  22405.177734  22198.980469  22353.349609   \n9   2023-03-05  22354.144531  22613.685547  22307.142578  22435.513672   \n10  2023-03-06  22436.816406  22584.292969  22331.314453  22429.757813   \n\n       Adj Close       Volume  \n0   23198.126953  26811744928  \n1   23175.375000  16100721565  \n2   23561.212891  16644534842  \n3   23522.871094  22660763494  \n4   23147.353516  20535363434  \n5   23646.550781  24662841200  \n6   23475.466797  20386398516  \n7   22362.679688  26062404610  \n8   22353.349609  11166012913  \n9   22435.513672  13317001733  \n10  22429.757813  17353192895  ",
      "text/html": "<div>\n<style scoped>\n    .dataframe tbody tr th:only-of-type {\n        vertical-align: middle;\n    }\n\n    .dataframe tbody tr th {\n        vertical-align: top;\n    }\n\n    .dataframe thead th {\n        text-align: right;\n    }\n</style>\n<table border=\"1\" class=\"dataframe\">\n  <thead>\n    <tr style=\"text-align: right;\">\n      <th></th>\n      <th>Date</th>\n      <th>Open</th>\n      <th>High</th>\n      <th>Low</th>\n      <th>Close</th>\n      <th>Adj Close</th>\n      <th>Volume</th>\n    </tr>\n  </thead>\n  <tbody>\n    <tr>\n      <th>0</th>\n      <td>2023-02-24</td>\n      <td>23946.007813</td>\n      <td>24103.705078</td>\n      <td>23007.072266</td>\n      <td>23198.126953</td>\n      <td>23198.126953</td>\n      <td>26811744928</td>\n    </tr>\n    <tr>\n      <th>1</th>\n      <td>2023-02-25</td>\n      <td>23200.125000</td>\n      <td>23210.210938</td>\n      <td>22861.558594</td>\n      <td>23175.375000</td>\n      <td>23175.375000</td>\n      <td>16100721565</td>\n    </tr>\n    <tr>\n      <th>2</th>\n      <td>2023-02-26</td>\n      <td>23174.150391</td>\n      <td>23654.367188</td>\n      <td>23084.220703</td>\n      <td>23561.212891</td>\n      <td>23561.212891</td>\n      <td>16644534842</td>\n    </tr>\n    <tr>\n      <th>3</th>\n      <td>2023-02-27</td>\n      <td>23561.451172</td>\n      <td>23857.890625</td>\n      <td>23205.878906</td>\n      <td>23522.871094</td>\n      <td>23522.871094</td>\n      <td>22660763494</td>\n    </tr>\n    <tr>\n      <th>4</th>\n      <td>2023-02-28</td>\n      <td>23521.837891</td>\n      <td>23585.384766</td>\n      <td>23077.650391</td>\n      <td>23147.353516</td>\n      <td>23147.353516</td>\n      <td>20535363434</td>\n    </tr>\n    <tr>\n      <th>5</th>\n      <td>2023-03-01</td>\n      <td>23150.929688</td>\n      <td>23880.632813</td>\n      <td>23088.626953</td>\n      <td>23646.550781</td>\n      <td>23646.550781</td>\n      <td>24662841200</td>\n    </tr>\n    <tr>\n      <th>6</th>\n      <td>2023-03-02</td>\n      <td>23647.019531</td>\n      <td>23739.138672</td>\n      <td>23245.021484</td>\n      <td>23475.466797</td>\n      <td>23475.466797</td>\n      <td>20386398516</td>\n    </tr>\n    <tr>\n      <th>7</th>\n      <td>2023-03-03</td>\n      <td>23476.632813</td>\n      <td>23479.347656</td>\n      <td>22213.238281</td>\n      <td>22362.679688</td>\n      <td>22362.679688</td>\n      <td>26062404610</td>\n    </tr>\n    <tr>\n      <th>8</th>\n      <td>2023-03-04</td>\n      <td>22362.923828</td>\n      <td>22405.177734</td>\n      <td>22198.980469</td>\n      <td>22353.349609</td>\n      <td>22353.349609</td>\n      <td>11166012913</td>\n    </tr>\n    <tr>\n      <th>9</th>\n      <td>2023-03-05</td>\n      <td>22354.144531</td>\n      <td>22613.685547</td>\n      <td>22307.142578</td>\n      <td>22435.513672</td>\n      <td>22435.513672</td>\n      <td>13317001733</td>\n    </tr>\n    <tr>\n      <th>10</th>\n      <td>2023-03-06</td>\n      <td>22436.816406</td>\n      <td>22584.292969</td>\n      <td>22331.314453</td>\n      <td>22429.757813</td>\n      <td>22429.757813</td>\n      <td>17353192895</td>\n    </tr>\n  </tbody>\n</table>\n</div>"
     },
     "execution_count": 5,
     "metadata": {},
     "output_type": "execute_result"
    }
   ],
   "source": [
    "\n",
    "from dslibs.simple_yahoo import get_from_yahoo\n",
    "\n",
    "real = get_from_yahoo('BTC-USD', '2023-02-25', '2023-03-07')\n",
    "real"
   ],
   "metadata": {
    "collapsed": false
   }
  },
  {
   "cell_type": "code",
   "execution_count": 6,
   "outputs": [
    {
     "data": {
      "text/plain": "492.6592567978121"
     },
     "execution_count": 6,
     "metadata": {},
     "output_type": "execute_result"
    }
   ],
   "source": [
    "\n",
    "import sklearn.metrics as skm\n",
    "mae = skm.mean_absolute_error(real['Close'], forecast.values[:, 0])\n",
    "mae"
   ],
   "metadata": {
    "collapsed": false
   }
  }
 ],
 "metadata": {
  "kernelspec": {
   "display_name": "Python 3",
   "language": "python",
   "name": "python3"
  },
  "language_info": {
   "codemirror_mode": {
    "name": "ipython",
    "version": 2
   },
   "file_extension": ".py",
   "mimetype": "text/x-python",
   "name": "python",
   "nbconvert_exporter": "python",
   "pygments_lexer": "ipython2",
   "version": "2.7.6"
  }
 },
 "nbformat": 4,
 "nbformat_minor": 0
}
