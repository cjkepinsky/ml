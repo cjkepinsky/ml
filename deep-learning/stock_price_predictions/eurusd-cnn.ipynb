{
 "cells": [
  {
   "cell_type": "code",
   "execution_count": 19,
   "metadata": {
    "collapsed": true
   },
   "outputs": [
    {
     "name": "stdout",
     "output_type": "stream",
     "text": [
      "[*********************100%***********************]  1 of 1 completed\n"
     ]
    },
    {
     "data": {
      "text/plain": "                Open      High       Low     Close  Adj Close  Volume  \\\nDate                                                                    \n2010-01-04  1.431004  1.445191  1.426208  1.442398   1.442398       0   \n2010-01-05  1.442710  1.448310  1.435194  1.436596   1.436596       0   \n2010-01-06  1.436596  1.443460  1.429123  1.440403   1.440403       0   \n2010-01-07  1.440300  1.444481  1.430206  1.431803   1.431803       0   \n2010-01-08  1.432090  1.443606  1.427104  1.441109   1.441109       0   \n...              ...       ...       ...       ...        ...     ...   \n2022-02-21  1.131734  1.138563  1.131414  1.131721   1.131721       0   \n2022-02-22  1.130966  1.136377  1.128910  1.130966   1.130966       0   \n2022-02-23  1.133055  1.135976  1.130736  1.132913   1.132913       0   \n2022-02-24  1.130595  1.130595  1.111049  1.130569   1.130569       0   \n2022-02-25  1.119081  1.126608  1.116807  1.119069   1.119069       0   \n\n              Change  \nDate                  \n2010-01-04  0.003404  \n2010-01-05 -0.005802  \n2010-01-06  0.003807  \n2010-01-07 -0.008600  \n2010-01-08  0.009306  \n...              ...  \n2022-02-21 -0.004927  \n2022-02-22 -0.000755  \n2022-02-23  0.001948  \n2022-02-24 -0.002344  \n2022-02-25 -0.011500  \n\n[3165 rows x 7 columns]",
      "text/html": "<div>\n<style scoped>\n    .dataframe tbody tr th:only-of-type {\n        vertical-align: middle;\n    }\n\n    .dataframe tbody tr th {\n        vertical-align: top;\n    }\n\n    .dataframe thead th {\n        text-align: right;\n    }\n</style>\n<table border=\"1\" class=\"dataframe\">\n  <thead>\n    <tr style=\"text-align: right;\">\n      <th></th>\n      <th>Open</th>\n      <th>High</th>\n      <th>Low</th>\n      <th>Close</th>\n      <th>Adj Close</th>\n      <th>Volume</th>\n      <th>Change</th>\n    </tr>\n    <tr>\n      <th>Date</th>\n      <th></th>\n      <th></th>\n      <th></th>\n      <th></th>\n      <th></th>\n      <th></th>\n      <th></th>\n    </tr>\n  </thead>\n  <tbody>\n    <tr>\n      <th>2010-01-04</th>\n      <td>1.431004</td>\n      <td>1.445191</td>\n      <td>1.426208</td>\n      <td>1.442398</td>\n      <td>1.442398</td>\n      <td>0</td>\n      <td>0.003404</td>\n    </tr>\n    <tr>\n      <th>2010-01-05</th>\n      <td>1.442710</td>\n      <td>1.448310</td>\n      <td>1.435194</td>\n      <td>1.436596</td>\n      <td>1.436596</td>\n      <td>0</td>\n      <td>-0.005802</td>\n    </tr>\n    <tr>\n      <th>2010-01-06</th>\n      <td>1.436596</td>\n      <td>1.443460</td>\n      <td>1.429123</td>\n      <td>1.440403</td>\n      <td>1.440403</td>\n      <td>0</td>\n      <td>0.003807</td>\n    </tr>\n    <tr>\n      <th>2010-01-07</th>\n      <td>1.440300</td>\n      <td>1.444481</td>\n      <td>1.430206</td>\n      <td>1.431803</td>\n      <td>1.431803</td>\n      <td>0</td>\n      <td>-0.008600</td>\n    </tr>\n    <tr>\n      <th>2010-01-08</th>\n      <td>1.432090</td>\n      <td>1.443606</td>\n      <td>1.427104</td>\n      <td>1.441109</td>\n      <td>1.441109</td>\n      <td>0</td>\n      <td>0.009306</td>\n    </tr>\n    <tr>\n      <th>...</th>\n      <td>...</td>\n      <td>...</td>\n      <td>...</td>\n      <td>...</td>\n      <td>...</td>\n      <td>...</td>\n      <td>...</td>\n    </tr>\n    <tr>\n      <th>2022-02-21</th>\n      <td>1.131734</td>\n      <td>1.138563</td>\n      <td>1.131414</td>\n      <td>1.131721</td>\n      <td>1.131721</td>\n      <td>0</td>\n      <td>-0.004927</td>\n    </tr>\n    <tr>\n      <th>2022-02-22</th>\n      <td>1.130966</td>\n      <td>1.136377</td>\n      <td>1.128910</td>\n      <td>1.130966</td>\n      <td>1.130966</td>\n      <td>0</td>\n      <td>-0.000755</td>\n    </tr>\n    <tr>\n      <th>2022-02-23</th>\n      <td>1.133055</td>\n      <td>1.135976</td>\n      <td>1.130736</td>\n      <td>1.132913</td>\n      <td>1.132913</td>\n      <td>0</td>\n      <td>0.001948</td>\n    </tr>\n    <tr>\n      <th>2022-02-24</th>\n      <td>1.130595</td>\n      <td>1.130595</td>\n      <td>1.111049</td>\n      <td>1.130569</td>\n      <td>1.130569</td>\n      <td>0</td>\n      <td>-0.002344</td>\n    </tr>\n    <tr>\n      <th>2022-02-25</th>\n      <td>1.119081</td>\n      <td>1.126608</td>\n      <td>1.116807</td>\n      <td>1.119069</td>\n      <td>1.119069</td>\n      <td>0</td>\n      <td>-0.011500</td>\n    </tr>\n  </tbody>\n</table>\n<p>3165 rows × 7 columns</p>\n</div>"
     },
     "execution_count": 19,
     "metadata": {},
     "output_type": "execute_result"
    }
   ],
   "source": [
    "import pandas as pd\n",
    "import numpy as np\n",
    "from tensorflow.keras.models import Sequential\n",
    "from tensorflow.keras.layers import Conv1D, MaxPooling1D, MaxPooling2D, Flatten, Dense\n",
    "from sklearn.metrics import mean_squared_error\n",
    "from sklearn.model_selection import train_test_split\n",
    "import yfinance as yf\n",
    "\n",
    "# Pobieranie danych z Yahoo Finance\n",
    "symbol = 'EURUSD=X'\n",
    "start_date = '2010-01-01'\n",
    "end_date = '2022-02-28'\n",
    "data = yf.download(symbol, start=start_date, end=end_date)\n",
    "# Przetwarzanie danych\n",
    "data['Change'] = data['Close'].diff() # Kolumna 'Change' zawiera zmiany w cenie (zamknięcie - poprzednie zamknięcie)\n",
    "data.dropna(inplace=True)\n",
    "data"
   ]
  },
  {
   "cell_type": "code",
   "execution_count": 10,
   "outputs": [
    {
     "data": {
      "text/plain": "array([[1.44239783, 1.44239783, 1.44239783],\n       [1.43659592, 1.43659592, 1.43659592],\n       [1.44040334, 1.44040334, 1.44040334],\n       ...,\n       [1.13291335, 1.13291335, 1.13291335],\n       [1.13056946, 1.13056946, 1.13056946],\n       [1.11906898, 1.11906898, 1.11906898]])"
     },
     "execution_count": 10,
     "metadata": {},
     "output_type": "execute_result"
    }
   ],
   "source": [
    "\n",
    "X = np.array(data['Close']).reshape(-1, 1)\n",
    "y = np.array(data['Change']).reshape(-1, 1)\n",
    "\n",
    "# Dodanie dodatkowych obserwacji\n",
    "X = np.repeat(X, 3, axis=1)\n",
    "\n",
    "X"
   ],
   "metadata": {
    "collapsed": false
   }
  },
  {
   "cell_type": "code",
   "execution_count": 11,
   "outputs": [
    {
     "data": {
      "text/plain": "(2532, 3)"
     },
     "execution_count": 11,
     "metadata": {},
     "output_type": "execute_result"
    }
   ],
   "source": [
    "# Podział danych na zbiór treningowy i testowy\n",
    "X_train, X_test, y_train, y_test = train_test_split(X, y, test_size=0.2, shuffle=False)\n",
    "X_train.shape"
   ],
   "metadata": {
    "collapsed": false
   }
  },
  {
   "cell_type": "code",
   "execution_count": 26,
   "outputs": [
    {
     "ename": "ValueError",
     "evalue": "Input 0 of layer \"max_pooling1d_8\" is incompatible with the layer: expected ndim=3, found ndim=2. Full shape received: (None, None)",
     "output_type": "error",
     "traceback": [
      "\u001B[0;31m---------------------------------------------------------------------------\u001B[0m",
      "\u001B[0;31mValueError\u001B[0m                                Traceback (most recent call last)",
      "Cell \u001B[0;32mIn[26], line 5\u001B[0m\n\u001B[1;32m      3\u001B[0m model\u001B[38;5;241m.\u001B[39madd(Conv1D(filters\u001B[38;5;241m=\u001B[39m\u001B[38;5;241m64\u001B[39m, kernel_size\u001B[38;5;241m=\u001B[39m\u001B[38;5;241m3\u001B[39m, activation\u001B[38;5;241m=\u001B[39m\u001B[38;5;124m'\u001B[39m\u001B[38;5;124mrelu\u001B[39m\u001B[38;5;124m'\u001B[39m, input_shape\u001B[38;5;241m=\u001B[39m(\u001B[38;5;28;01mNone\u001B[39;00m, \u001B[38;5;241m2532\u001B[39m, \u001B[38;5;241m3\u001B[39m)))\n\u001B[1;32m      4\u001B[0m model\u001B[38;5;241m.\u001B[39madd(Flatten())\n\u001B[0;32m----> 5\u001B[0m \u001B[43mmodel\u001B[49m\u001B[38;5;241;43m.\u001B[39;49m\u001B[43madd\u001B[49m\u001B[43m(\u001B[49m\u001B[43mMaxPooling1D\u001B[49m\u001B[43m(\u001B[49m\u001B[43mpool_size\u001B[49m\u001B[38;5;241;43m=\u001B[39;49m\u001B[38;5;241;43m1\u001B[39;49m\u001B[43m)\u001B[49m\u001B[43m)\u001B[49m \u001B[38;5;66;03m# zmiana pool_size na 1\u001B[39;00m\n\u001B[1;32m      6\u001B[0m model\u001B[38;5;241m.\u001B[39madd(Dense(\u001B[38;5;241m50\u001B[39m, activation\u001B[38;5;241m=\u001B[39m\u001B[38;5;124m'\u001B[39m\u001B[38;5;124mrelu\u001B[39m\u001B[38;5;124m'\u001B[39m))\n\u001B[1;32m      7\u001B[0m model\u001B[38;5;241m.\u001B[39madd(Dense(\u001B[38;5;241m1\u001B[39m, activation\u001B[38;5;241m=\u001B[39m\u001B[38;5;124m'\u001B[39m\u001B[38;5;124mlinear\u001B[39m\u001B[38;5;124m'\u001B[39m))\n",
      "File \u001B[0;32m~/.local/share/virtualenvs/data-science-upskills-eseJr18D/lib/python3.10/site-packages/tensorflow/python/trackable/base.py:205\u001B[0m, in \u001B[0;36mno_automatic_dependency_tracking.<locals>._method_wrapper\u001B[0;34m(self, *args, **kwargs)\u001B[0m\n\u001B[1;32m    203\u001B[0m \u001B[38;5;28mself\u001B[39m\u001B[38;5;241m.\u001B[39m_self_setattr_tracking \u001B[38;5;241m=\u001B[39m \u001B[38;5;28;01mFalse\u001B[39;00m  \u001B[38;5;66;03m# pylint: disable=protected-access\u001B[39;00m\n\u001B[1;32m    204\u001B[0m \u001B[38;5;28;01mtry\u001B[39;00m:\n\u001B[0;32m--> 205\u001B[0m   result \u001B[38;5;241m=\u001B[39m \u001B[43mmethod\u001B[49m\u001B[43m(\u001B[49m\u001B[38;5;28;43mself\u001B[39;49m\u001B[43m,\u001B[49m\u001B[43m \u001B[49m\u001B[38;5;241;43m*\u001B[39;49m\u001B[43margs\u001B[49m\u001B[43m,\u001B[49m\u001B[43m \u001B[49m\u001B[38;5;241;43m*\u001B[39;49m\u001B[38;5;241;43m*\u001B[39;49m\u001B[43mkwargs\u001B[49m\u001B[43m)\u001B[49m\n\u001B[1;32m    206\u001B[0m \u001B[38;5;28;01mfinally\u001B[39;00m:\n\u001B[1;32m    207\u001B[0m   \u001B[38;5;28mself\u001B[39m\u001B[38;5;241m.\u001B[39m_self_setattr_tracking \u001B[38;5;241m=\u001B[39m previous_value  \u001B[38;5;66;03m# pylint: disable=protected-access\u001B[39;00m\n",
      "File \u001B[0;32m~/.local/share/virtualenvs/data-science-upskills-eseJr18D/lib/python3.10/site-packages/keras/utils/traceback_utils.py:70\u001B[0m, in \u001B[0;36mfilter_traceback.<locals>.error_handler\u001B[0;34m(*args, **kwargs)\u001B[0m\n\u001B[1;32m     67\u001B[0m     filtered_tb \u001B[38;5;241m=\u001B[39m _process_traceback_frames(e\u001B[38;5;241m.\u001B[39m__traceback__)\n\u001B[1;32m     68\u001B[0m     \u001B[38;5;66;03m# To get the full stack trace, call:\u001B[39;00m\n\u001B[1;32m     69\u001B[0m     \u001B[38;5;66;03m# `tf.debugging.disable_traceback_filtering()`\u001B[39;00m\n\u001B[0;32m---> 70\u001B[0m     \u001B[38;5;28;01mraise\u001B[39;00m e\u001B[38;5;241m.\u001B[39mwith_traceback(filtered_tb) \u001B[38;5;28;01mfrom\u001B[39;00m \u001B[38;5;28mNone\u001B[39m\n\u001B[1;32m     71\u001B[0m \u001B[38;5;28;01mfinally\u001B[39;00m:\n\u001B[1;32m     72\u001B[0m     \u001B[38;5;28;01mdel\u001B[39;00m filtered_tb\n",
      "File \u001B[0;32m~/.local/share/virtualenvs/data-science-upskills-eseJr18D/lib/python3.10/site-packages/keras/engine/input_spec.py:232\u001B[0m, in \u001B[0;36massert_input_compatibility\u001B[0;34m(input_spec, inputs, layer_name)\u001B[0m\n\u001B[1;32m    230\u001B[0m     ndim \u001B[38;5;241m=\u001B[39m shape\u001B[38;5;241m.\u001B[39mrank\n\u001B[1;32m    231\u001B[0m     \u001B[38;5;28;01mif\u001B[39;00m ndim \u001B[38;5;241m!=\u001B[39m spec\u001B[38;5;241m.\u001B[39mndim:\n\u001B[0;32m--> 232\u001B[0m         \u001B[38;5;28;01mraise\u001B[39;00m \u001B[38;5;167;01mValueError\u001B[39;00m(\n\u001B[1;32m    233\u001B[0m             \u001B[38;5;124mf\u001B[39m\u001B[38;5;124m'\u001B[39m\u001B[38;5;124mInput \u001B[39m\u001B[38;5;132;01m{\u001B[39;00minput_index\u001B[38;5;132;01m}\u001B[39;00m\u001B[38;5;124m of layer \u001B[39m\u001B[38;5;124m\"\u001B[39m\u001B[38;5;132;01m{\u001B[39;00mlayer_name\u001B[38;5;132;01m}\u001B[39;00m\u001B[38;5;124m\"\u001B[39m\u001B[38;5;124m \u001B[39m\u001B[38;5;124m'\u001B[39m\n\u001B[1;32m    234\u001B[0m             \u001B[38;5;124m\"\u001B[39m\u001B[38;5;124mis incompatible with the layer: \u001B[39m\u001B[38;5;124m\"\u001B[39m\n\u001B[1;32m    235\u001B[0m             \u001B[38;5;124mf\u001B[39m\u001B[38;5;124m\"\u001B[39m\u001B[38;5;124mexpected ndim=\u001B[39m\u001B[38;5;132;01m{\u001B[39;00mspec\u001B[38;5;241m.\u001B[39mndim\u001B[38;5;132;01m}\u001B[39;00m\u001B[38;5;124m, found ndim=\u001B[39m\u001B[38;5;132;01m{\u001B[39;00mndim\u001B[38;5;132;01m}\u001B[39;00m\u001B[38;5;124m. \u001B[39m\u001B[38;5;124m\"\u001B[39m\n\u001B[1;32m    236\u001B[0m             \u001B[38;5;124mf\u001B[39m\u001B[38;5;124m\"\u001B[39m\u001B[38;5;124mFull shape received: \u001B[39m\u001B[38;5;132;01m{\u001B[39;00m\u001B[38;5;28mtuple\u001B[39m(shape)\u001B[38;5;132;01m}\u001B[39;00m\u001B[38;5;124m\"\u001B[39m\n\u001B[1;32m    237\u001B[0m         )\n\u001B[1;32m    238\u001B[0m \u001B[38;5;28;01mif\u001B[39;00m spec\u001B[38;5;241m.\u001B[39mmax_ndim \u001B[38;5;129;01mis\u001B[39;00m \u001B[38;5;129;01mnot\u001B[39;00m \u001B[38;5;28;01mNone\u001B[39;00m:\n\u001B[1;32m    239\u001B[0m     ndim \u001B[38;5;241m=\u001B[39m x\u001B[38;5;241m.\u001B[39mshape\u001B[38;5;241m.\u001B[39mrank\n",
      "\u001B[0;31mValueError\u001B[0m: Input 0 of layer \"max_pooling1d_8\" is incompatible with the layer: expected ndim=3, found ndim=2. Full shape received: (None, None)"
     ]
    }
   ],
   "source": [
    "import tensorflow as tf\n",
    "\n",
    "# Definiowanie modelu\n",
    "model = Sequential()\n",
    "model.add(Conv1D(filters=64, kernel_size=3, activation='relu', input_shape=(None, 2532, 3)))\n",
    "model.add(tf.keras.layers.Flatten())\n",
    "model.add(MaxPooling1D(pool_size=1)) # zmiana pool_size na 1\n",
    "model.add(Dense(50, activation='relu'))\n",
    "model.add(Dense(1, activation='linear'))\n",
    "\n",
    "model.compile(optimizer='adam', loss='mse')\n",
    "model.fit(X_train, y_train, epochs=50, verbose=1)\n",
    "\n",
    "y_pred = model.predict(X_test)\n",
    "mse = mean_squared_error(y_test, y_pred)\n",
    "print(f'Błąd średniokwadratowy (MSE): {mse}')\n"
   ],
   "metadata": {
    "collapsed": false
   }
  }
 ],
 "metadata": {
  "kernelspec": {
   "display_name": "Python 3",
   "language": "python",
   "name": "python3"
  },
  "language_info": {
   "codemirror_mode": {
    "name": "ipython",
    "version": 2
   },
   "file_extension": ".py",
   "mimetype": "text/x-python",
   "name": "python",
   "nbconvert_exporter": "python",
   "pygments_lexer": "ipython2",
   "version": "2.7.6"
  }
 },
 "nbformat": 4,
 "nbformat_minor": 0
}
