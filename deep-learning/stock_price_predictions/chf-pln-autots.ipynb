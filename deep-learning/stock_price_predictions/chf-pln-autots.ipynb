{
 "cells": [
  {
   "cell_type": "markdown",
   "source": [],
   "metadata": {
    "collapsed": false
   }
  },
  {
   "cell_type": "code",
   "execution_count": 1,
   "outputs": [
    {
     "name": "stdout",
     "output_type": "stream",
     "text": [
      "Done\n"
     ]
    },
    {
     "data": {
      "text/plain": "            Date     Open     High       Low    Close  Adj Close  Volume\n0     2004-08-31  2.88380  2.89690  2.875800  2.88360    2.88360     0.0\n1     2004-09-01  2.88410  2.89910  2.881700  2.89380    2.89380     0.0\n2     2004-09-02  2.89390  2.89730  2.879900  2.88720    2.88720     0.0\n3     2004-09-03  2.88710  2.89090  2.872800  2.87890    2.87890     0.0\n4     2004-09-06  2.88270  2.88430  2.859800  2.86540    2.86540     0.0\n...          ...      ...      ...       ...      ...        ...     ...\n4856  2023-04-12  4.73399  4.73951  4.720680  4.73385    4.73385     0.0\n4857  2023-04-13  4.72254  4.73937  4.713690  4.71990    4.71990     0.0\n4858  2023-04-14  4.71555  4.74515  4.710389  4.71414    4.71414     0.0\n4859  2023-04-17  4.72039  4.72853  4.709650  4.72073    4.72073     0.0\n4860  2023-04-18  4.71710  4.71932  4.692240  4.71609    4.71609     0.0\n\n[4861 rows x 7 columns]",
      "text/html": "<div>\n<style scoped>\n    .dataframe tbody tr th:only-of-type {\n        vertical-align: middle;\n    }\n\n    .dataframe tbody tr th {\n        vertical-align: top;\n    }\n\n    .dataframe thead th {\n        text-align: right;\n    }\n</style>\n<table border=\"1\" class=\"dataframe\">\n  <thead>\n    <tr style=\"text-align: right;\">\n      <th></th>\n      <th>Date</th>\n      <th>Open</th>\n      <th>High</th>\n      <th>Low</th>\n      <th>Close</th>\n      <th>Adj Close</th>\n      <th>Volume</th>\n    </tr>\n  </thead>\n  <tbody>\n    <tr>\n      <th>0</th>\n      <td>2004-08-31</td>\n      <td>2.88380</td>\n      <td>2.89690</td>\n      <td>2.875800</td>\n      <td>2.88360</td>\n      <td>2.88360</td>\n      <td>0.0</td>\n    </tr>\n    <tr>\n      <th>1</th>\n      <td>2004-09-01</td>\n      <td>2.88410</td>\n      <td>2.89910</td>\n      <td>2.881700</td>\n      <td>2.89380</td>\n      <td>2.89380</td>\n      <td>0.0</td>\n    </tr>\n    <tr>\n      <th>2</th>\n      <td>2004-09-02</td>\n      <td>2.89390</td>\n      <td>2.89730</td>\n      <td>2.879900</td>\n      <td>2.88720</td>\n      <td>2.88720</td>\n      <td>0.0</td>\n    </tr>\n    <tr>\n      <th>3</th>\n      <td>2004-09-03</td>\n      <td>2.88710</td>\n      <td>2.89090</td>\n      <td>2.872800</td>\n      <td>2.87890</td>\n      <td>2.87890</td>\n      <td>0.0</td>\n    </tr>\n    <tr>\n      <th>4</th>\n      <td>2004-09-06</td>\n      <td>2.88270</td>\n      <td>2.88430</td>\n      <td>2.859800</td>\n      <td>2.86540</td>\n      <td>2.86540</td>\n      <td>0.0</td>\n    </tr>\n    <tr>\n      <th>...</th>\n      <td>...</td>\n      <td>...</td>\n      <td>...</td>\n      <td>...</td>\n      <td>...</td>\n      <td>...</td>\n      <td>...</td>\n    </tr>\n    <tr>\n      <th>4856</th>\n      <td>2023-04-12</td>\n      <td>4.73399</td>\n      <td>4.73951</td>\n      <td>4.720680</td>\n      <td>4.73385</td>\n      <td>4.73385</td>\n      <td>0.0</td>\n    </tr>\n    <tr>\n      <th>4857</th>\n      <td>2023-04-13</td>\n      <td>4.72254</td>\n      <td>4.73937</td>\n      <td>4.713690</td>\n      <td>4.71990</td>\n      <td>4.71990</td>\n      <td>0.0</td>\n    </tr>\n    <tr>\n      <th>4858</th>\n      <td>2023-04-14</td>\n      <td>4.71555</td>\n      <td>4.74515</td>\n      <td>4.710389</td>\n      <td>4.71414</td>\n      <td>4.71414</td>\n      <td>0.0</td>\n    </tr>\n    <tr>\n      <th>4859</th>\n      <td>2023-04-17</td>\n      <td>4.72039</td>\n      <td>4.72853</td>\n      <td>4.709650</td>\n      <td>4.72073</td>\n      <td>4.72073</td>\n      <td>0.0</td>\n    </tr>\n    <tr>\n      <th>4860</th>\n      <td>2023-04-18</td>\n      <td>4.71710</td>\n      <td>4.71932</td>\n      <td>4.692240</td>\n      <td>4.71609</td>\n      <td>4.71609</td>\n      <td>0.0</td>\n    </tr>\n  </tbody>\n</table>\n<p>4861 rows × 7 columns</p>\n</div>"
     },
     "execution_count": 1,
     "metadata": {},
     "output_type": "execute_result"
    }
   ],
   "source": [
    "import pandas as pd\n",
    "import logging, time, datetime\n",
    "from autots import AutoTS\n",
    "import matplotlib.pyplot as plt\n",
    "from dslibs.simple_yahoo import get_from_yahoo\n",
    "\n",
    "logging.getLogger('autots').setLevel(logging.ERROR)\n",
    "\n",
    "pair = 'CHFPLN=X'\n",
    "\n",
    "df = get_from_yahoo(pair, '2004-09-01', '2023-04-19')\n",
    "df"
   ],
   "metadata": {
    "collapsed": false
   }
  },
  {
   "cell_type": "code",
   "execution_count": 2,
   "outputs": [
    {
     "name": "stdout",
     "output_type": "stream",
     "text": [
      "Template Eval Error: ValueError('NaN, inf or invalid value detected in weights, estimation infeasible.') in model 1183: GLM\n",
      "Template Eval Error: Exception('Transformer MinMaxScaler failed on inverse') in model 1186: Theta\n",
      "Template Eval Error: ModuleNotFoundError(\"No module named 'lightgbm'\") in model 1187: MultivariateRegression\n",
      "Template Eval Error: Exception('Transformer Detrend failed on fit') in model 1192: MetricMotif\n",
      "Template Eval Error: Exception('Transformer Cointegration failed on fit') in model 1200: MultivariateMotif\n",
      "Template Eval Error: Exception('Transformer Cointegration failed on fit') in model 1201: SectionalMotif\n",
      "Template Eval Error: ValueError(\"regression_type='User' but no future_regressor supplied\") in model 1205: UnobservedComponents\n",
      "Template Eval Error: Exception('Transformer MinMaxScaler failed on inverse') in model 1209: Theta\n",
      "Template Eval Error: Exception('Transformer MinMaxScaler failed on inverse') in model 1213: ARIMA\n",
      "Template Eval Error: Exception('Transformer PowerTransformer failed on inverse') in model 1214: MultivariateRegression\n",
      "Template Eval Error: Exception('Transformer MinMaxScaler failed on inverse') in model 1218: GLM\n",
      "Template Eval Error: Exception('Transformer MinMaxScaler failed on inverse') in model 1219: ETS\n",
      "Template Eval Error: Exception('Transformer QuantileTransformer failed on inverse') in model 1224: GLS\n",
      "Template Eval Error: Exception('Transformer MaxAbsScaler failed on inverse') in model 1230: GLM\n",
      "Template Eval Error: Exception('Transformer FastICA failed on inverse') in model 1235: GLS\n",
      "Template Eval Error: Exception('Transformer MaxAbsScaler failed on inverse') in model 1242: Theta\n",
      "Template Eval Error: Exception('Transformer MinMaxScaler failed on inverse') in model 1243: ARDL\n",
      "Template Eval Error: Exception('Transformer MinMaxScaler failed on inverse') in model 1244: ARIMA\n",
      "Template Eval Error: Exception('Transformer MaxAbsScaler failed on inverse') in model 1245: ARIMA\n",
      "Template Eval Error: ValueError(\"regression_type='User' but no future_regressor passed\") in model 1246: WindowRegression\n",
      "Template Eval Error: Exception('Transformer MinMaxScaler failed on inverse') in model 1247: ARIMA\n",
      "HolidayTransformer: no anomalies detected.\n",
      "Template Eval Error: ValueError(\"regression_type='User' but no future_regressor supplied\") in model 1248: UnobservedComponents\n",
      "Template Eval Error: Exception('Transformer Cointegration failed on fit') in model 1253: UnivariateMotif\n",
      "Template Eval Error: ValueError(\"regression_type='User' but future_regressor not supplied\") in model 1254: ARDL\n",
      "Template Eval Error: ValueError(\"regression_type='User' but no future_regressor passed\") in model 1256: WindowRegression\n",
      "Time[min]: 96.97824193239212\n",
      "Model saved.\n"
     ]
    }
   ],
   "source": [
    "import logging\n",
    "import joblib\n",
    "import time\n",
    "import datetime\n",
    "\n",
    "logging.getLogger('autots').setLevel(logging.ERROR)\n",
    "\n",
    "start = time.time()\n",
    "model = AutoTS(forecast_length=7, frequency='D', prediction_interval=1, ensemble='simple', random_seed=42, verbose=0)\n",
    "model.fit(df, date_col='Date', value_col='Close')\n",
    "print('Time[min]: ' + str((time.time() - start)/60))\n",
    "\n",
    "current_time = time.time()\n",
    "datetime_obj = datetime.datetime.fromtimestamp(current_time)\n",
    "datetime_str = datetime_obj.strftime('%Y-%m-%d-%H-%M-%S')\n",
    "filename = \"chf-pln-AutoTS-\"+datetime_str+\".joblib\"\n",
    "joblib.dump(model, filename)\n",
    "\n",
    "print(\"Model saved.\")"
   ],
   "metadata": {
    "collapsed": false
   }
  },
  {
   "cell_type": "code",
   "execution_count": 6,
   "outputs": [
    {
     "data": {
      "text/plain": "               Close\n2023-04-15  4.717307\n2023-04-16  4.714353\n2023-04-17  4.715244\n2023-04-18  4.717606\n2023-04-19  4.713342\n...              ...\n2023-07-09  4.754173\n2023-07-10  4.756450\n2023-07-11  4.758899\n2023-07-12  4.758926\n2023-07-13  4.772032\n\n[90 rows x 1 columns]",
      "text/html": "<div>\n<style scoped>\n    .dataframe tbody tr th:only-of-type {\n        vertical-align: middle;\n    }\n\n    .dataframe tbody tr th {\n        vertical-align: top;\n    }\n\n    .dataframe thead th {\n        text-align: right;\n    }\n</style>\n<table border=\"1\" class=\"dataframe\">\n  <thead>\n    <tr style=\"text-align: right;\">\n      <th></th>\n      <th>Close</th>\n    </tr>\n  </thead>\n  <tbody>\n    <tr>\n      <th>2023-04-15</th>\n      <td>4.717307</td>\n    </tr>\n    <tr>\n      <th>2023-04-16</th>\n      <td>4.714353</td>\n    </tr>\n    <tr>\n      <th>2023-04-17</th>\n      <td>4.715244</td>\n    </tr>\n    <tr>\n      <th>2023-04-18</th>\n      <td>4.717606</td>\n    </tr>\n    <tr>\n      <th>2023-04-19</th>\n      <td>4.713342</td>\n    </tr>\n    <tr>\n      <th>...</th>\n      <td>...</td>\n    </tr>\n    <tr>\n      <th>2023-07-09</th>\n      <td>4.754173</td>\n    </tr>\n    <tr>\n      <th>2023-07-10</th>\n      <td>4.756450</td>\n    </tr>\n    <tr>\n      <th>2023-07-11</th>\n      <td>4.758899</td>\n    </tr>\n    <tr>\n      <th>2023-07-12</th>\n      <td>4.758926</td>\n    </tr>\n    <tr>\n      <th>2023-07-13</th>\n      <td>4.772032</td>\n    </tr>\n  </tbody>\n</table>\n<p>90 rows × 1 columns</p>\n</div>"
     },
     "execution_count": 6,
     "metadata": {},
     "output_type": "execute_result"
    }
   ],
   "source": [
    "                # Wyświetlenie prognozy\n",
    "# prediction = model.predict()#date_col='Date', value_col='Close')#test_data, )\n",
    "prediction = model.predict(forecast_length=90)#date_col='Date', value_col='Close')#test_data, )\n",
    "forecast = prediction.forecast\n",
    "\n",
    "forecast\n",
    "# df"
   ],
   "metadata": {
    "collapsed": false
   }
  },
  {
   "cell_type": "code",
   "execution_count": 7,
   "outputs": [
    {
     "name": "stdout",
     "output_type": "stream",
     "text": [
      "Ensemble\n",
      "{'model_name': 'BestN', 'model_count': 5, 'model_metric': 'bestn_horizontal', 'models': {'5dcdbd61f5d75fea0bf80486e184caae': {'Model': 'ETS', 'ModelParameters': '{\"damped_trend\": false, \"trend\": null, \"seasonal\": \"multiplicative\", \"seasonal_periods\": 4}', 'TransformationParameters': '{\"fillna\": \"akima\", \"transformations\": {\"0\": \"Log\", \"1\": \"Detrend\"}, \"transformation_params\": {\"0\": {}, \"1\": {\"model\": \"Linear\", \"phi\": 1, \"window\": null, \"transform_dict\": null}}}'}, '68e16f9b42a9c85508248cc718ca646f': {'Model': 'ETS', 'ModelParameters': '{\"damped_trend\": true, \"trend\": \"multiplicative\", \"seasonal\": \"additive\", \"seasonal_periods\": 16}', 'TransformationParameters': '{\"fillna\": \"akima\", \"transformations\": {\"0\": \"Log\", \"1\": \"Detrend\"}, \"transformation_params\": {\"0\": {}, \"1\": {\"model\": \"Linear\", \"phi\": 1, \"window\": null, \"transform_dict\": null}}}'}, '7b78f3041f525c7ee4815f81a665a6c8': {'Model': 'UnivariateMotif', 'ModelParameters': '{\"window\": 10, \"point_method\": \"weighted_mean\", \"distance_metric\": \"canberra\", \"k\": 15, \"max_windows\": 10000}', 'TransformationParameters': '{\"fillna\": \"rolling_mean\", \"transformations\": {\"0\": \"MinMaxScaler\", \"1\": \"cffilter\", \"2\": \"MeanDifference\"}, \"transformation_params\": {\"0\": {}, \"1\": {}, \"2\": {}}}'}, 'cfec0ee6253e2a24b8e4ad8805f003c7': {'Model': 'UnivariateMotif', 'ModelParameters': '{\"window\": 10, \"point_method\": \"weighted_mean\", \"distance_metric\": \"braycurtis\", \"k\": 10, \"max_windows\": 1000}', 'TransformationParameters': '{\"fillna\": \"pchip\", \"transformations\": {\"0\": \"SeasonalDifference\", \"1\": \"DifferencedTransformer\"}, \"transformation_params\": {\"0\": {\"lag_1\": 24, \"method\": \"Median\"}, \"1\": {}}}'}, 'ce7a2014ecd394903fd3f160de069770': {'Model': 'UnivariateMotif', 'ModelParameters': '{\"window\": 10, \"point_method\": \"median\", \"distance_metric\": \"braycurtis\", \"k\": 10, \"max_windows\": 10000}', 'TransformationParameters': '{\"fillna\": \"pchip\", \"transformations\": {\"0\": \"SeasonalDifference\", \"1\": \"DifferencedTransformer\", \"2\": \"MaxAbsScaler\"}, \"transformation_params\": {\"0\": {\"lag_1\": 24, \"method\": \"Median\"}, \"1\": {}, \"2\": {}}}'}}, 'point_method': 'median', 'model_weights': {}}\n"
     ]
    }
   ],
   "source": [
    "print(model.best_model_name)\n",
    "print(model.best_model_params)"
   ],
   "metadata": {
    "collapsed": false
   }
  },
  {
   "cell_type": "code",
   "execution_count": 8,
   "outputs": [
    {
     "data": {
      "text/plain": "         Date          Open          High           Low         Close  \\\n0  2023-03-24  28324.111328  28388.437500  27039.265625  27493.285156   \n1  2023-03-25  27487.337891  27791.826172  27196.234375  27494.707031   \n2  2023-03-26  27495.523438  28178.144531  27445.046875  27994.330078   \n3  2023-03-27  27994.068359  28037.925781  26606.689453  27139.888672   \n4  2023-03-28  27132.888672  27460.718750  26677.818359  27268.130859   \n5  2023-03-29  27267.031250  28619.542969  27259.662109  28348.441406   \n6  2023-03-30  28350.140625  29159.902344  27720.160156  28033.562500   \n7  2023-03-31  28032.261719  28639.896484  27583.714844  28478.484375   \n8  2023-04-01  28473.332031  28802.457031  28297.171875  28411.035156   \n\n      Adj Close       Volume  \n0  27493.285156  25980310960  \n1  27494.707031  13383005987  \n2  27994.330078  13878363192  \n3  27139.888672  18188895178  \n4  27268.130859  17783600385  \n5  28348.441406  20684945906  \n6  28033.562500  22435349951  \n7  28478.484375  19001327598  \n8  28411.035156  10876469901  ",
      "text/html": "<div>\n<style scoped>\n    .dataframe tbody tr th:only-of-type {\n        vertical-align: middle;\n    }\n\n    .dataframe tbody tr th {\n        vertical-align: top;\n    }\n\n    .dataframe thead th {\n        text-align: right;\n    }\n</style>\n<table border=\"1\" class=\"dataframe\">\n  <thead>\n    <tr style=\"text-align: right;\">\n      <th></th>\n      <th>Date</th>\n      <th>Open</th>\n      <th>High</th>\n      <th>Low</th>\n      <th>Close</th>\n      <th>Adj Close</th>\n      <th>Volume</th>\n    </tr>\n  </thead>\n  <tbody>\n    <tr>\n      <th>0</th>\n      <td>2023-03-24</td>\n      <td>28324.111328</td>\n      <td>28388.437500</td>\n      <td>27039.265625</td>\n      <td>27493.285156</td>\n      <td>27493.285156</td>\n      <td>25980310960</td>\n    </tr>\n    <tr>\n      <th>1</th>\n      <td>2023-03-25</td>\n      <td>27487.337891</td>\n      <td>27791.826172</td>\n      <td>27196.234375</td>\n      <td>27494.707031</td>\n      <td>27494.707031</td>\n      <td>13383005987</td>\n    </tr>\n    <tr>\n      <th>2</th>\n      <td>2023-03-26</td>\n      <td>27495.523438</td>\n      <td>28178.144531</td>\n      <td>27445.046875</td>\n      <td>27994.330078</td>\n      <td>27994.330078</td>\n      <td>13878363192</td>\n    </tr>\n    <tr>\n      <th>3</th>\n      <td>2023-03-27</td>\n      <td>27994.068359</td>\n      <td>28037.925781</td>\n      <td>26606.689453</td>\n      <td>27139.888672</td>\n      <td>27139.888672</td>\n      <td>18188895178</td>\n    </tr>\n    <tr>\n      <th>4</th>\n      <td>2023-03-28</td>\n      <td>27132.888672</td>\n      <td>27460.718750</td>\n      <td>26677.818359</td>\n      <td>27268.130859</td>\n      <td>27268.130859</td>\n      <td>17783600385</td>\n    </tr>\n    <tr>\n      <th>5</th>\n      <td>2023-03-29</td>\n      <td>27267.031250</td>\n      <td>28619.542969</td>\n      <td>27259.662109</td>\n      <td>28348.441406</td>\n      <td>28348.441406</td>\n      <td>20684945906</td>\n    </tr>\n    <tr>\n      <th>6</th>\n      <td>2023-03-30</td>\n      <td>28350.140625</td>\n      <td>29159.902344</td>\n      <td>27720.160156</td>\n      <td>28033.562500</td>\n      <td>28033.562500</td>\n      <td>22435349951</td>\n    </tr>\n    <tr>\n      <th>7</th>\n      <td>2023-03-31</td>\n      <td>28032.261719</td>\n      <td>28639.896484</td>\n      <td>27583.714844</td>\n      <td>28478.484375</td>\n      <td>28478.484375</td>\n      <td>19001327598</td>\n    </tr>\n    <tr>\n      <th>8</th>\n      <td>2023-04-01</td>\n      <td>28473.332031</td>\n      <td>28802.457031</td>\n      <td>28297.171875</td>\n      <td>28411.035156</td>\n      <td>28411.035156</td>\n      <td>10876469901</td>\n    </tr>\n  </tbody>\n</table>\n</div>"
     },
     "execution_count": 8,
     "metadata": {},
     "output_type": "execute_result"
    }
   ],
   "source": [
    "\n",
    "from dslibs.simple_yahoo import get_from_yahoo\n",
    "\n",
    "real = get_from_yahoo('BTC-USD', '2023-03-25', '2023-04-02')\n",
    "real"
   ],
   "metadata": {
    "collapsed": false
   }
  }
 ],
 "metadata": {
  "kernelspec": {
   "name": "ml3.10",
   "language": "python",
   "display_name": "ml3.10"
  },
  "language_info": {
   "codemirror_mode": {
    "name": "ipython",
    "version": 2
   },
   "file_extension": ".py",
   "mimetype": "text/x-python",
   "name": "python",
   "nbconvert_exporter": "python",
   "pygments_lexer": "ipython2",
   "version": "2.7.6"
  }
 },
 "nbformat": 4,
 "nbformat_minor": 0
}
