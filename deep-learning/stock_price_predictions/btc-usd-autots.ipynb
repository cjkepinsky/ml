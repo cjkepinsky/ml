{
 "cells": [
  {
   "cell_type": "markdown",
   "source": [],
   "metadata": {
    "collapsed": false
   }
  },
  {
   "cell_type": "code",
   "execution_count": null,
   "outputs": [],
   "source": [
    "import pandas as pd\n",
    "import logging, time, datetime\n",
    "from autots import AutoTS\n",
    "import matplotlib.pyplot as plt\n",
    "from dslibs.simple_yahoo import get_from_yahoo\n",
    "\n",
    "logging.getLogger('autots').setLevel(logging.ERROR)\n",
    "\n",
    "df = get_from_yahoo('BTC-USD', '2014-09-20', '2023-03-13')\n",
    "df"
   ],
   "metadata": {
    "collapsed": false,
    "pycharm": {
     "is_executing": true
    }
   }
  },
  {
   "cell_type": "code",
   "execution_count": null,
   "outputs": [],
   "source": [
    "import logging\n",
    "\n",
    "logging.getLogger('autots').setLevel(logging.ERROR)\n",
    "\n",
    "start = time.time()\n",
    "model = AutoTS(forecast_length=7, frequency='D', prediction_interval=1, ensemble='simple', random_seed=42, verbose=0)\n",
    "model.fit(df, date_col='Date', value_col='Close')\n",
    "print('Time[min]: ' + str((time.time() - start)/60))"
   ],
   "metadata": {
    "collapsed": false,
    "pycharm": {
     "is_executing": true
    }
   }
  },
  {
   "cell_type": "code",
   "execution_count": 3,
   "outputs": [
    {
     "name": "stdout",
     "output_type": "stream",
     "text": [
      "============= PROGNOZA ===================\n",
      "                   Close\n",
      "2023-03-13  22158.263030\n",
      "2023-03-14  22163.949219\n",
      "2023-03-15  21512.571230\n",
      "2023-03-16  21271.793213\n",
      "2023-03-17  21392.197273\n",
      "2023-03-18  21183.820343\n",
      "2023-03-19  20542.091905\n",
      "2023-03-20  20572.042788\n",
      "2023-03-21  20482.739619\n",
      "2023-03-22  20804.543898\n",
      "2023-03-23  20853.758513\n",
      "2023-03-24  20699.754274\n",
      "2023-03-25  20722.344045\n",
      "2023-03-26  20333.361173\n",
      "2023-03-27  20699.754274\n",
      "2023-03-28  20699.754274\n",
      "2023-03-29  21476.016886\n",
      "2023-03-30  22477.071938\n",
      "2023-03-31  22764.743898\n",
      "2023-04-01  22501.991647\n",
      "2023-04-02  21749.006855\n",
      "2023-04-03  21257.328676\n",
      "2023-04-04  20830.716550\n",
      "2023-04-05  20613.584692\n",
      "2023-04-06  20507.542938\n",
      "2023-04-07  20244.347593\n",
      "2023-04-08  20027.059074\n",
      "2023-04-09  19890.752995\n",
      "2023-04-10  19800.845847\n",
      "2023-04-11  19554.642649\n",
      "==========================================\n"
     ]
    }
   ],
   "source": [
    "                # Wyświetlenie prognozy\n",
    "# prediction = model.predict()#date_col='Date', value_col='Close')#test_data, )\n",
    "prediction = model.predict(forecast_length=30)#date_col='Date', value_col='Close')#test_data, )\n",
    "forecast = prediction.forecast\n",
    "print(\"============= PROGNOZA ===================\")\n",
    "print(forecast)\n",
    "print(\"==========================================\")\n",
    "\n",
    "# forecast.index\n",
    "# df"
   ],
   "metadata": {
    "collapsed": false
   }
  },
  {
   "cell_type": "code",
   "execution_count": 5,
   "outputs": [
    {
     "data": {
      "text/plain": "          Date          Open          High           Low         Close  \\\n0   2023-02-28  23521.837891  23585.384766  23077.650391  23147.353516   \n1   2023-03-01  23150.929688  23880.632813  23088.626953  23646.550781   \n2   2023-03-02  23647.019531  23739.138672  23245.021484  23475.466797   \n3   2023-03-03  23476.632813  23479.347656  22213.238281  22362.679688   \n4   2023-03-04  22362.923828  22405.177734  22198.980469  22353.349609   \n5   2023-03-05  22354.144531  22613.685547  22307.142578  22435.513672   \n6   2023-03-06  22436.816406  22584.292969  22331.314453  22429.757813   \n7   2023-03-07  22428.322266  22527.417969  22011.261719  22219.769531   \n8   2023-03-08  22216.441406  22268.896484  21708.050781  21718.080078   \n9   2023-03-09  21720.080078  21802.716797  20210.306641  20363.021484   \n10  2023-03-10  20367.001953  20370.595703  19628.253906  20187.244141   \n11  2023-03-11  20187.876953  20792.525391  20068.660156  20632.410156   \n12  2023-03-12  20628.029297  22185.031250  20448.806641  22163.949219   \n\n       Adj Close       Volume  \n0   23147.353516  20535363434  \n1   23646.550781  24662841200  \n2   23475.466797  20386398516  \n3   22362.679688  26062404610  \n4   22353.349609  11166012913  \n5   22435.513672  13317001733  \n6   22429.757813  17353192895  \n7   22219.769531  22765452204  \n8   21718.080078  22536575684  \n9   20363.021484  30364664171  \n10  20187.244141  39578257695  \n11  20632.410156  30180288176  \n12  22163.949219  29279035521  ",
      "text/html": "<div>\n<style scoped>\n    .dataframe tbody tr th:only-of-type {\n        vertical-align: middle;\n    }\n\n    .dataframe tbody tr th {\n        vertical-align: top;\n    }\n\n    .dataframe thead th {\n        text-align: right;\n    }\n</style>\n<table border=\"1\" class=\"dataframe\">\n  <thead>\n    <tr style=\"text-align: right;\">\n      <th></th>\n      <th>Date</th>\n      <th>Open</th>\n      <th>High</th>\n      <th>Low</th>\n      <th>Close</th>\n      <th>Adj Close</th>\n      <th>Volume</th>\n    </tr>\n  </thead>\n  <tbody>\n    <tr>\n      <th>0</th>\n      <td>2023-02-28</td>\n      <td>23521.837891</td>\n      <td>23585.384766</td>\n      <td>23077.650391</td>\n      <td>23147.353516</td>\n      <td>23147.353516</td>\n      <td>20535363434</td>\n    </tr>\n    <tr>\n      <th>1</th>\n      <td>2023-03-01</td>\n      <td>23150.929688</td>\n      <td>23880.632813</td>\n      <td>23088.626953</td>\n      <td>23646.550781</td>\n      <td>23646.550781</td>\n      <td>24662841200</td>\n    </tr>\n    <tr>\n      <th>2</th>\n      <td>2023-03-02</td>\n      <td>23647.019531</td>\n      <td>23739.138672</td>\n      <td>23245.021484</td>\n      <td>23475.466797</td>\n      <td>23475.466797</td>\n      <td>20386398516</td>\n    </tr>\n    <tr>\n      <th>3</th>\n      <td>2023-03-03</td>\n      <td>23476.632813</td>\n      <td>23479.347656</td>\n      <td>22213.238281</td>\n      <td>22362.679688</td>\n      <td>22362.679688</td>\n      <td>26062404610</td>\n    </tr>\n    <tr>\n      <th>4</th>\n      <td>2023-03-04</td>\n      <td>22362.923828</td>\n      <td>22405.177734</td>\n      <td>22198.980469</td>\n      <td>22353.349609</td>\n      <td>22353.349609</td>\n      <td>11166012913</td>\n    </tr>\n    <tr>\n      <th>5</th>\n      <td>2023-03-05</td>\n      <td>22354.144531</td>\n      <td>22613.685547</td>\n      <td>22307.142578</td>\n      <td>22435.513672</td>\n      <td>22435.513672</td>\n      <td>13317001733</td>\n    </tr>\n    <tr>\n      <th>6</th>\n      <td>2023-03-06</td>\n      <td>22436.816406</td>\n      <td>22584.292969</td>\n      <td>22331.314453</td>\n      <td>22429.757813</td>\n      <td>22429.757813</td>\n      <td>17353192895</td>\n    </tr>\n    <tr>\n      <th>7</th>\n      <td>2023-03-07</td>\n      <td>22428.322266</td>\n      <td>22527.417969</td>\n      <td>22011.261719</td>\n      <td>22219.769531</td>\n      <td>22219.769531</td>\n      <td>22765452204</td>\n    </tr>\n    <tr>\n      <th>8</th>\n      <td>2023-03-08</td>\n      <td>22216.441406</td>\n      <td>22268.896484</td>\n      <td>21708.050781</td>\n      <td>21718.080078</td>\n      <td>21718.080078</td>\n      <td>22536575684</td>\n    </tr>\n    <tr>\n      <th>9</th>\n      <td>2023-03-09</td>\n      <td>21720.080078</td>\n      <td>21802.716797</td>\n      <td>20210.306641</td>\n      <td>20363.021484</td>\n      <td>20363.021484</td>\n      <td>30364664171</td>\n    </tr>\n    <tr>\n      <th>10</th>\n      <td>2023-03-10</td>\n      <td>20367.001953</td>\n      <td>20370.595703</td>\n      <td>19628.253906</td>\n      <td>20187.244141</td>\n      <td>20187.244141</td>\n      <td>39578257695</td>\n    </tr>\n    <tr>\n      <th>11</th>\n      <td>2023-03-11</td>\n      <td>20187.876953</td>\n      <td>20792.525391</td>\n      <td>20068.660156</td>\n      <td>20632.410156</td>\n      <td>20632.410156</td>\n      <td>30180288176</td>\n    </tr>\n    <tr>\n      <th>12</th>\n      <td>2023-03-12</td>\n      <td>20628.029297</td>\n      <td>22185.031250</td>\n      <td>20448.806641</td>\n      <td>22163.949219</td>\n      <td>22163.949219</td>\n      <td>29279035521</td>\n    </tr>\n  </tbody>\n</table>\n</div>"
     },
     "execution_count": 5,
     "metadata": {},
     "output_type": "execute_result"
    }
   ],
   "source": [
    "\n",
    "from dslibs.simple_yahoo import get_from_yahoo\n",
    "\n",
    "real = get_from_yahoo('BTC-USD', '2023-03-01', '2023-03-13')\n",
    "real"
   ],
   "metadata": {
    "collapsed": false
   }
  },
  {
   "cell_type": "code",
   "execution_count": 6,
   "outputs": [
    {
     "name": "stdout",
     "output_type": "stream",
     "text": [
      "Model saved.\n"
     ]
    }
   ],
   "source": [
    "import joblib\n",
    "import time\n",
    "import datetime\n",
    "\n",
    "# Pobranie aktualnego czasu w sekundach\n",
    "current_time = time.time()\n",
    "\n",
    "# Konwersja na typ datetime.datetime\n",
    "datetime_obj = datetime.datetime.fromtimestamp(current_time)\n",
    "\n",
    "# Konwersja na string z formatem YYYY-MM-DD HH:MM:SS\n",
    "datetime_str = datetime_obj.strftime('%Y-%m-%d-%H-%M-%S')\n",
    "\n",
    "# filename = \"btc-usd-AutoTS-mae\"+str(int(mae))+\"-\"+datetime_str+\".joblib\"\n",
    "filename = \"btc-usd-AutoTS-\"+datetime_str+\".joblib\"\n",
    "\n",
    "joblib.dump(model, filename)\n",
    "\n",
    "print(\"Model saved.\")"
   ],
   "metadata": {
    "collapsed": false
   }
  },
  {
   "cell_type": "code",
   "execution_count": 8,
   "outputs": [
    {
     "name": "stdout",
     "output_type": "stream",
     "text": [
      "                   Close\n",
      "2023-03-13  22158.263030\n",
      "2023-03-14  22163.949219\n",
      "2023-03-15  21512.571230\n",
      "2023-03-16  21271.793213\n",
      "2023-03-17  21392.197273\n",
      "2023-03-18  21183.820343\n",
      "2023-03-19  20542.091905\n",
      "Ensemble\n"
     ]
    }
   ],
   "source": [
    "\n",
    "import joblib\n",
    "\n",
    "model1 = joblib.load(filename)\n",
    "prediction = model1.predict()\n",
    "forecast = prediction.forecast\n",
    "print(forecast)\n",
    "print(model1.best_model_name)\n"
   ],
   "metadata": {
    "collapsed": false
   }
  },
  {
   "cell_type": "code",
   "execution_count": 11,
   "outputs": [
    {
     "name": "stdout",
     "output_type": "stream",
     "text": [
      "Ensemble\n",
      "{'model_name': 'BestN', 'model_count': 5, 'model_metric': 'bestn_horizontal', 'models': {'3418965304fd833be4a87ab85c3ad45d': {'Model': 'MetricMotif', 'ModelParameters': '{\"window\": 10, \"point_method\": \"weighted_mean\", \"distance_metric\": \"mae\", \"k\": 10, \"comparison_transformation\": {\"fillna\": \"mean\", \"transformations\": {\"0\": \"KalmanSmoothing\"}, \"transformation_params\": {\"0\": {\"state_transition\": [[1]], \"process_noise\": [[0.034]], \"observation_model\": [[1]], \"observation_noise\": 1.0}}}, \"combination_transformation\": {\"fillna\": \"ffill_mean_biased\", \"transformations\": {\"0\": \"ScipyFilter\"}, \"transformation_params\": {\"0\": {\"method\": \"savgol_filter\", \"method_args\": {\"window_length\": 7, \"polyorder\": 2, \"deriv\": 0, \"mode\": \"mirror\"}}}}}', 'TransformationParameters': '{\"fillna\": \"pad\", \"transformations\": {\"0\": \"Log\", \"1\": \"RobustScaler\", \"2\": \"AlignLastValue\", \"3\": \"DifferencedTransformer\", \"4\": \"Detrend\"}, \"transformation_params\": {\"0\": {}, \"1\": {}, \"2\": {\"rows\": 2, \"lag\": 1, \"method\": \"additive\", \"strength\": 1.0, \"first_value_only\": true}, \"3\": {}, \"4\": {\"model\": \"Tweedie\", \"phi\": 1, \"window\": null, \"transform_dict\": {\"fillna\": null, \"transformations\": {\"0\": \"EWMAFilter\"}, \"transformation_params\": {\"0\": {\"span\": 2}}}}}}'}, '04cd94b1d0894add9cf04981201688a7': {'Model': 'WindowRegression', 'ModelParameters': '{\"window_size\": 2, \"input_dim\": \"univariate\", \"output_dim\": \"1step\", \"normalize_window\": false, \"max_windows\": 5000, \"regression_type\": null, \"regression_model\": {\"model\": \"RandomForest\", \"model_params\": {\"n_estimators\": 100, \"min_samples_leaf\": 2, \"bootstrap\": true}}}', 'TransformationParameters': '{\"fillna\": \"ffill_mean_biased\", \"transformations\": {\"0\": \"AlignLastValue\", \"1\": \"Slice\", \"2\": \"SeasonalDifference\", \"3\": \"AlignLastValue\", \"4\": \"RobustScaler\"}, \"transformation_params\": {\"0\": {\"rows\": 7, \"lag\": 1, \"method\": \"additive\", \"strength\": 1.0, \"first_value_only\": false}, \"1\": {\"method\": 0.8}, \"2\": {\"lag_1\": 364, \"method\": \"Median\"}, \"3\": {\"rows\": 4, \"lag\": 1, \"method\": \"additive\", \"strength\": 1.0, \"first_value_only\": false}, \"4\": {}}}'}, '8c4043715d5b0ea7e0168d4cf5aa6e46': {'Model': 'WindowRegression', 'ModelParameters': '{\"window_size\": 52, \"input_dim\": \"univariate\", \"output_dim\": \"1step\", \"normalize_window\": false, \"max_windows\": 5000, \"regression_type\": null, \"regression_model\": {\"model\": \"KNN\", \"model_params\": {\"n_neighbors\": 5, \"weights\": \"uniform\", \"p\": 2, \"leaf_size\": 30}}}', 'TransformationParameters': '{\"fillna\": \"ffill\", \"transformations\": {\"0\": \"QuantileTransformer\", \"1\": \"MinMaxScaler\", \"2\": \"StandardScaler\", \"3\": \"AlignLastValue\"}, \"transformation_params\": {\"0\": {\"output_distribution\": \"uniform\", \"n_quantiles\": 1000}, \"1\": {}, \"2\": {}, \"3\": {\"rows\": 1, \"lag\": 1, \"method\": \"additive\", \"strength\": 1.0, \"first_value_only\": false}}}'}, '96238315e70b9cb58dd46d09de81ae94': {'Model': 'WindowRegression', 'ModelParameters': '{\"window_size\": 52, \"input_dim\": \"univariate\", \"output_dim\": \"1step\", \"normalize_window\": false, \"max_windows\": 5000, \"regression_type\": null, \"regression_model\": {\"model\": \"KNN\", \"model_params\": {\"n_neighbors\": 5, \"weights\": \"uniform\", \"p\": 2, \"leaf_size\": 30}}}', 'TransformationParameters': '{\"fillna\": \"fake_date\", \"transformations\": {\"0\": \"QuantileTransformer\", \"1\": \"MinMaxScaler\", \"2\": \"StandardScaler\", \"3\": \"AlignLastValue\"}, \"transformation_params\": {\"0\": {\"output_distribution\": \"uniform\", \"n_quantiles\": 1000}, \"1\": {}, \"2\": {}, \"3\": {\"rows\": 1, \"lag\": 1, \"method\": \"additive\", \"strength\": 1.0, \"first_value_only\": false}}}'}, 'b40b1cee9ff41d162f958580f0ef5157': {'Model': 'UnivariateMotif', 'ModelParameters': '{\"window\": 14, \"point_method\": \"mean\", \"distance_metric\": \"jaccard\", \"k\": 10, \"max_windows\": 10000}', 'TransformationParameters': '{\"fillna\": \"quadratic\", \"transformations\": {\"0\": \"PctChangeTransformer\", \"1\": \"AlignLastValue\", \"2\": \"StandardScaler\"}, \"transformation_params\": {\"0\": {}, \"1\": {\"rows\": 1, \"lag\": 7, \"method\": \"additive\", \"strength\": 1.0, \"first_value_only\": false}, \"2\": {}}}'}}, 'point_method': 'median', 'model_weights': {}}\n"
     ]
    }
   ],
   "source": [
    "print(model1.best_model_name)\n",
    "print(model1.best_model_params)"
   ],
   "metadata": {
    "collapsed": false
   }
  }
 ],
 "metadata": {
  "kernelspec": {
   "name": "python3",
   "language": "python",
   "display_name": "Python 3 (ipykernel)"
  },
  "language_info": {
   "codemirror_mode": {
    "name": "ipython",
    "version": 2
   },
   "file_extension": ".py",
   "mimetype": "text/x-python",
   "name": "python",
   "nbconvert_exporter": "python",
   "pygments_lexer": "ipython2",
   "version": "2.7.6"
  }
 },
 "nbformat": 4,
 "nbformat_minor": 0
}
