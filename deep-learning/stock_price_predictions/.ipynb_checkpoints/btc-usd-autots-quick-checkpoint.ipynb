{
 "cells": [
  {
   "cell_type": "code",
   "execution_count": 4,
   "outputs": [
    {
     "ename": "ModuleNotFoundError",
     "evalue": "No module named 'pandas.core.indexes.numeric'",
     "output_type": "error",
     "traceback": [
      "\u001B[0;31m---------------------------------------------------------------------------\u001B[0m",
      "\u001B[0;31mModuleNotFoundError\u001B[0m                       Traceback (most recent call last)",
      "Cell \u001B[0;32mIn[4], line 4\u001B[0m\n\u001B[1;32m      1\u001B[0m \u001B[38;5;28;01mimport\u001B[39;00m \u001B[38;5;21;01mjoblib\u001B[39;00m\n\u001B[1;32m      2\u001B[0m \u001B[38;5;28;01mimport\u001B[39;00m \u001B[38;5;21;01mautots\u001B[39;00m\n\u001B[0;32m----> 4\u001B[0m model \u001B[38;5;241m=\u001B[39m \u001B[43mjoblib\u001B[49m\u001B[38;5;241;43m.\u001B[39;49m\u001B[43mload\u001B[49m\u001B[43m(\u001B[49m\u001B[38;5;124;43m\"\u001B[39;49m\u001B[38;5;124;43mbtc-usd-AutoTS-2023-04-14-07-16-49.joblib\u001B[39;49m\u001B[38;5;124;43m\"\u001B[39;49m\u001B[43m)\u001B[49m\n\u001B[1;32m      5\u001B[0m prediction \u001B[38;5;241m=\u001B[39m model\u001B[38;5;241m.\u001B[39mpredict(forecast_length\u001B[38;5;241m=\u001B[39m\u001B[38;5;241m30\u001B[39m)\n\u001B[1;32m      6\u001B[0m forecast \u001B[38;5;241m=\u001B[39m prediction\u001B[38;5;241m.\u001B[39mforecast\n",
      "File \u001B[0;32m~/.local/share/virtualenvs/ml-IYlnPhoE/lib/python3.10/site-packages/joblib/numpy_pickle.py:658\u001B[0m, in \u001B[0;36mload\u001B[0;34m(filename, mmap_mode)\u001B[0m\n\u001B[1;32m    652\u001B[0m             \u001B[38;5;28;01mif\u001B[39;00m \u001B[38;5;28misinstance\u001B[39m(fobj, \u001B[38;5;28mstr\u001B[39m):\n\u001B[1;32m    653\u001B[0m                 \u001B[38;5;66;03m# if the returned file object is a string, this means we\u001B[39;00m\n\u001B[1;32m    654\u001B[0m                 \u001B[38;5;66;03m# try to load a pickle file generated with an version of\u001B[39;00m\n\u001B[1;32m    655\u001B[0m                 \u001B[38;5;66;03m# Joblib so we load it with joblib compatibility function.\u001B[39;00m\n\u001B[1;32m    656\u001B[0m                 \u001B[38;5;28;01mreturn\u001B[39;00m load_compatibility(fobj)\n\u001B[0;32m--> 658\u001B[0m             obj \u001B[38;5;241m=\u001B[39m \u001B[43m_unpickle\u001B[49m\u001B[43m(\u001B[49m\u001B[43mfobj\u001B[49m\u001B[43m,\u001B[49m\u001B[43m \u001B[49m\u001B[43mfilename\u001B[49m\u001B[43m,\u001B[49m\u001B[43m \u001B[49m\u001B[43mmmap_mode\u001B[49m\u001B[43m)\u001B[49m\n\u001B[1;32m    659\u001B[0m \u001B[38;5;28;01mreturn\u001B[39;00m obj\n",
      "File \u001B[0;32m~/.local/share/virtualenvs/ml-IYlnPhoE/lib/python3.10/site-packages/joblib/numpy_pickle.py:577\u001B[0m, in \u001B[0;36m_unpickle\u001B[0;34m(fobj, filename, mmap_mode)\u001B[0m\n\u001B[1;32m    575\u001B[0m obj \u001B[38;5;241m=\u001B[39m \u001B[38;5;28;01mNone\u001B[39;00m\n\u001B[1;32m    576\u001B[0m \u001B[38;5;28;01mtry\u001B[39;00m:\n\u001B[0;32m--> 577\u001B[0m     obj \u001B[38;5;241m=\u001B[39m \u001B[43munpickler\u001B[49m\u001B[38;5;241;43m.\u001B[39;49m\u001B[43mload\u001B[49m\u001B[43m(\u001B[49m\u001B[43m)\u001B[49m\n\u001B[1;32m    578\u001B[0m     \u001B[38;5;28;01mif\u001B[39;00m unpickler\u001B[38;5;241m.\u001B[39mcompat_mode:\n\u001B[1;32m    579\u001B[0m         warnings\u001B[38;5;241m.\u001B[39mwarn(\u001B[38;5;124m\"\u001B[39m\u001B[38;5;124mThe file \u001B[39m\u001B[38;5;124m'\u001B[39m\u001B[38;5;132;01m%s\u001B[39;00m\u001B[38;5;124m'\u001B[39m\u001B[38;5;124m has been generated with a \u001B[39m\u001B[38;5;124m\"\u001B[39m\n\u001B[1;32m    580\u001B[0m                       \u001B[38;5;124m\"\u001B[39m\u001B[38;5;124mjoblib version less than 0.10. \u001B[39m\u001B[38;5;124m\"\u001B[39m\n\u001B[1;32m    581\u001B[0m                       \u001B[38;5;124m\"\u001B[39m\u001B[38;5;124mPlease regenerate this pickle file.\u001B[39m\u001B[38;5;124m\"\u001B[39m\n\u001B[1;32m    582\u001B[0m                       \u001B[38;5;241m%\u001B[39m filename,\n\u001B[1;32m    583\u001B[0m                       \u001B[38;5;167;01mDeprecationWarning\u001B[39;00m, stacklevel\u001B[38;5;241m=\u001B[39m\u001B[38;5;241m3\u001B[39m)\n",
      "File \u001B[0;32m/opt/homebrew/Cellar/python@3.10/3.10.10_1/Frameworks/Python.framework/Versions/3.10/lib/python3.10/pickle.py:1213\u001B[0m, in \u001B[0;36m_Unpickler.load\u001B[0;34m(self)\u001B[0m\n\u001B[1;32m   1211\u001B[0m             \u001B[38;5;28;01mraise\u001B[39;00m \u001B[38;5;167;01mEOFError\u001B[39;00m\n\u001B[1;32m   1212\u001B[0m         \u001B[38;5;28;01massert\u001B[39;00m \u001B[38;5;28misinstance\u001B[39m(key, bytes_types)\n\u001B[0;32m-> 1213\u001B[0m         \u001B[43mdispatch\u001B[49m\u001B[43m[\u001B[49m\u001B[43mkey\u001B[49m\u001B[43m[\u001B[49m\u001B[38;5;241;43m0\u001B[39;49m\u001B[43m]\u001B[49m\u001B[43m]\u001B[49m\u001B[43m(\u001B[49m\u001B[38;5;28;43mself\u001B[39;49m\u001B[43m)\u001B[49m\n\u001B[1;32m   1214\u001B[0m \u001B[38;5;28;01mexcept\u001B[39;00m _Stop \u001B[38;5;28;01mas\u001B[39;00m stopinst:\n\u001B[1;32m   1215\u001B[0m     \u001B[38;5;28;01mreturn\u001B[39;00m stopinst\u001B[38;5;241m.\u001B[39mvalue\n",
      "File \u001B[0;32m/opt/homebrew/Cellar/python@3.10/3.10.10_1/Frameworks/Python.framework/Versions/3.10/lib/python3.10/pickle.py:1538\u001B[0m, in \u001B[0;36m_Unpickler.load_stack_global\u001B[0;34m(self)\u001B[0m\n\u001B[1;32m   1536\u001B[0m \u001B[38;5;28;01mif\u001B[39;00m \u001B[38;5;28mtype\u001B[39m(name) \u001B[38;5;129;01mis\u001B[39;00m \u001B[38;5;129;01mnot\u001B[39;00m \u001B[38;5;28mstr\u001B[39m \u001B[38;5;129;01mor\u001B[39;00m \u001B[38;5;28mtype\u001B[39m(module) \u001B[38;5;129;01mis\u001B[39;00m \u001B[38;5;129;01mnot\u001B[39;00m \u001B[38;5;28mstr\u001B[39m:\n\u001B[1;32m   1537\u001B[0m     \u001B[38;5;28;01mraise\u001B[39;00m UnpicklingError(\u001B[38;5;124m\"\u001B[39m\u001B[38;5;124mSTACK_GLOBAL requires str\u001B[39m\u001B[38;5;124m\"\u001B[39m)\n\u001B[0;32m-> 1538\u001B[0m \u001B[38;5;28mself\u001B[39m\u001B[38;5;241m.\u001B[39mappend(\u001B[38;5;28;43mself\u001B[39;49m\u001B[38;5;241;43m.\u001B[39;49m\u001B[43mfind_class\u001B[49m\u001B[43m(\u001B[49m\u001B[43mmodule\u001B[49m\u001B[43m,\u001B[49m\u001B[43m \u001B[49m\u001B[43mname\u001B[49m\u001B[43m)\u001B[49m)\n",
      "File \u001B[0;32m/opt/homebrew/Cellar/python@3.10/3.10.10_1/Frameworks/Python.framework/Versions/3.10/lib/python3.10/pickle.py:1580\u001B[0m, in \u001B[0;36m_Unpickler.find_class\u001B[0;34m(self, module, name)\u001B[0m\n\u001B[1;32m   1578\u001B[0m     \u001B[38;5;28;01melif\u001B[39;00m module \u001B[38;5;129;01min\u001B[39;00m _compat_pickle\u001B[38;5;241m.\u001B[39mIMPORT_MAPPING:\n\u001B[1;32m   1579\u001B[0m         module \u001B[38;5;241m=\u001B[39m _compat_pickle\u001B[38;5;241m.\u001B[39mIMPORT_MAPPING[module]\n\u001B[0;32m-> 1580\u001B[0m \u001B[38;5;28;43m__import__\u001B[39;49m\u001B[43m(\u001B[49m\u001B[43mmodule\u001B[49m\u001B[43m,\u001B[49m\u001B[43m \u001B[49m\u001B[43mlevel\u001B[49m\u001B[38;5;241;43m=\u001B[39;49m\u001B[38;5;241;43m0\u001B[39;49m\u001B[43m)\u001B[49m\n\u001B[1;32m   1581\u001B[0m \u001B[38;5;28;01mif\u001B[39;00m \u001B[38;5;28mself\u001B[39m\u001B[38;5;241m.\u001B[39mproto \u001B[38;5;241m>\u001B[39m\u001B[38;5;241m=\u001B[39m \u001B[38;5;241m4\u001B[39m:\n\u001B[1;32m   1582\u001B[0m     \u001B[38;5;28;01mreturn\u001B[39;00m _getattribute(sys\u001B[38;5;241m.\u001B[39mmodules[module], name)[\u001B[38;5;241m0\u001B[39m]\n",
      "\u001B[0;31mModuleNotFoundError\u001B[0m: No module named 'pandas.core.indexes.numeric'"
     ]
    }
   ],
   "source": [
    "import joblib\n",
    "\n",
    "model = joblib.load(\"btc-usd-AutoTS-2023-04-14-07-16-49.joblib\")\n",
    "prediction = model.predict(forecast_length=30)\n",
    "forecast = prediction.forecast\n",
    "forecast = forecast[:len(forecast)-1]\n",
    "forecast\n",
    "# forecast.values[:, 0]"
   ],
   "metadata": {
    "collapsed": false
   }
  },
  {
   "cell_type": "code",
   "execution_count": 1,
   "outputs": [
    {
     "name": "stdout",
     "output_type": "stream",
     "text": [
      "Done\n"
     ]
    },
    {
     "data": {
      "text/plain": "          Date          Open          High           Low         Close   \n0   2023-04-13  29892.740234  30539.845703  29878.623047  30399.066406  \\\n1   2023-04-14  30409.562500  31005.607422  30044.498047  30485.699219   \n2   2023-04-15  30490.750000  30601.740234  30245.882813  30318.496094   \n3   2023-04-16  30315.976563  30555.537109  30157.832031  30315.355469   \n4   2023-04-17  30317.146484  30319.197266  29275.371094  29445.044922   \n5   2023-04-18  29449.091797  30470.302734  29154.849609  30397.552734   \n6   2023-04-19  30394.187500  30411.054688  28669.898438  28822.679688   \n7   2023-04-20  28823.683594  29076.400391  28037.257813  28245.988281   \n8   2023-04-21  28249.230469  28349.968750  27177.365234  27276.910156   \n9   2023-04-22  27265.894531  27872.142578  27169.570313  27817.500000   \n10  2023-04-23  27816.144531  27820.244141  27400.314453  27591.384766   \n11  2023-04-24  27591.730469  27979.982422  27070.849609  27525.339844   \n\n       Adj Close       Volume  \n0   30399.066406  17487721001  \n1   30485.699219  22659995079  \n2   30318.496094  11940685378  \n3   30315.355469  12854816417  \n4   29445.044922  17872186762  \n5   30397.552734  19480529496  \n6   28822.679688  24571565421  \n7   28245.988281  21340360360  \n8   27276.910156  20759504330  \n9   27817.500000  13125734602  \n10  27591.384766  12785446832  \n11  27525.339844  17703288330  ",
      "text/html": "<div>\n<style scoped>\n    .dataframe tbody tr th:only-of-type {\n        vertical-align: middle;\n    }\n\n    .dataframe tbody tr th {\n        vertical-align: top;\n    }\n\n    .dataframe thead th {\n        text-align: right;\n    }\n</style>\n<table border=\"1\" class=\"dataframe\">\n  <thead>\n    <tr style=\"text-align: right;\">\n      <th></th>\n      <th>Date</th>\n      <th>Open</th>\n      <th>High</th>\n      <th>Low</th>\n      <th>Close</th>\n      <th>Adj Close</th>\n      <th>Volume</th>\n    </tr>\n  </thead>\n  <tbody>\n    <tr>\n      <th>0</th>\n      <td>2023-04-13</td>\n      <td>29892.740234</td>\n      <td>30539.845703</td>\n      <td>29878.623047</td>\n      <td>30399.066406</td>\n      <td>30399.066406</td>\n      <td>17487721001</td>\n    </tr>\n    <tr>\n      <th>1</th>\n      <td>2023-04-14</td>\n      <td>30409.562500</td>\n      <td>31005.607422</td>\n      <td>30044.498047</td>\n      <td>30485.699219</td>\n      <td>30485.699219</td>\n      <td>22659995079</td>\n    </tr>\n    <tr>\n      <th>2</th>\n      <td>2023-04-15</td>\n      <td>30490.750000</td>\n      <td>30601.740234</td>\n      <td>30245.882813</td>\n      <td>30318.496094</td>\n      <td>30318.496094</td>\n      <td>11940685378</td>\n    </tr>\n    <tr>\n      <th>3</th>\n      <td>2023-04-16</td>\n      <td>30315.976563</td>\n      <td>30555.537109</td>\n      <td>30157.832031</td>\n      <td>30315.355469</td>\n      <td>30315.355469</td>\n      <td>12854816417</td>\n    </tr>\n    <tr>\n      <th>4</th>\n      <td>2023-04-17</td>\n      <td>30317.146484</td>\n      <td>30319.197266</td>\n      <td>29275.371094</td>\n      <td>29445.044922</td>\n      <td>29445.044922</td>\n      <td>17872186762</td>\n    </tr>\n    <tr>\n      <th>5</th>\n      <td>2023-04-18</td>\n      <td>29449.091797</td>\n      <td>30470.302734</td>\n      <td>29154.849609</td>\n      <td>30397.552734</td>\n      <td>30397.552734</td>\n      <td>19480529496</td>\n    </tr>\n    <tr>\n      <th>6</th>\n      <td>2023-04-19</td>\n      <td>30394.187500</td>\n      <td>30411.054688</td>\n      <td>28669.898438</td>\n      <td>28822.679688</td>\n      <td>28822.679688</td>\n      <td>24571565421</td>\n    </tr>\n    <tr>\n      <th>7</th>\n      <td>2023-04-20</td>\n      <td>28823.683594</td>\n      <td>29076.400391</td>\n      <td>28037.257813</td>\n      <td>28245.988281</td>\n      <td>28245.988281</td>\n      <td>21340360360</td>\n    </tr>\n    <tr>\n      <th>8</th>\n      <td>2023-04-21</td>\n      <td>28249.230469</td>\n      <td>28349.968750</td>\n      <td>27177.365234</td>\n      <td>27276.910156</td>\n      <td>27276.910156</td>\n      <td>20759504330</td>\n    </tr>\n    <tr>\n      <th>9</th>\n      <td>2023-04-22</td>\n      <td>27265.894531</td>\n      <td>27872.142578</td>\n      <td>27169.570313</td>\n      <td>27817.500000</td>\n      <td>27817.500000</td>\n      <td>13125734602</td>\n    </tr>\n    <tr>\n      <th>10</th>\n      <td>2023-04-23</td>\n      <td>27816.144531</td>\n      <td>27820.244141</td>\n      <td>27400.314453</td>\n      <td>27591.384766</td>\n      <td>27591.384766</td>\n      <td>12785446832</td>\n    </tr>\n    <tr>\n      <th>11</th>\n      <td>2023-04-24</td>\n      <td>27591.730469</td>\n      <td>27979.982422</td>\n      <td>27070.849609</td>\n      <td>27525.339844</td>\n      <td>27525.339844</td>\n      <td>17703288330</td>\n    </tr>\n  </tbody>\n</table>\n</div>"
     },
     "execution_count": 1,
     "metadata": {},
     "output_type": "execute_result"
    }
   ],
   "source": [
    "\n",
    "from dslibs.simple_yahoo import get_from_yahoo\n",
    "\n",
    "real = get_from_yahoo('BTC-USD', '2023-04-14', '2023-04-25')\n",
    "real"
   ],
   "metadata": {
    "collapsed": false
   }
  },
  {
   "cell_type": "code",
   "execution_count": 7,
   "outputs": [
    {
     "name": "stdout",
     "output_type": "stream",
     "text": [
      "MAPE:  0.18598176392638796\n",
      "MAE:  4979.783217613624\n"
     ]
    }
   ],
   "source": [
    "\n",
    "import sklearn.metrics as skm\n",
    "\n",
    "mae = skm.mean_absolute_error(real['Close'], forecast.values[:, 0])\n",
    "mape = skm.mean_absolute_percentage_error(real['Close'], forecast.values[:, 0])\n",
    "\n",
    "print(\"MAPE: \", mape)\n",
    "print(\"MAE: \", mae)"
   ],
   "metadata": {
    "collapsed": false
   }
  },
  {
   "cell_type": "code",
   "execution_count": 8,
   "outputs": [
    {
     "data": {
      "text/plain": "{'ConstantNaive': 1,\n 'LastValueNaive': 1,\n 'AverageValueNaive': 1,\n 'GLS': 1,\n 'SeasonalNaive': 1,\n 'GLM': 1,\n 'ETS': 1,\n 'FBProphet': 0.5,\n 'GluonTS': 0.5,\n 'UnobservedComponents': 1,\n 'VAR': 1,\n 'VECM': 1,\n 'ARIMA': 0.4,\n 'WindowRegression': 0.5,\n 'DatepartRegression': 1,\n 'UnivariateRegression': 0.3,\n 'MultivariateRegression': 0.4,\n 'UnivariateMotif': 1,\n 'MultivariateMotif': 1,\n 'SectionalMotif': 1,\n 'NVAR': 1,\n 'Theta': 1,\n 'ARDL': 1,\n 'ARCH': 1,\n 'MetricMotif': 1}"
     },
     "execution_count": 8,
     "metadata": {},
     "output_type": "execute_result"
    }
   ],
   "source": [
    "model.model_list"
   ],
   "metadata": {
    "collapsed": false
   }
  },
  {
   "cell_type": "code",
   "execution_count": 2,
   "outputs": [
    {
     "ename": "NameError",
     "evalue": "name 'model' is not defined",
     "output_type": "error",
     "traceback": [
      "\u001B[0;31m---------------------------------------------------------------------------\u001B[0m",
      "\u001B[0;31mNameError\u001B[0m                                 Traceback (most recent call last)",
      "Cell \u001B[0;32mIn[2], line 1\u001B[0m\n\u001B[0;32m----> 1\u001B[0m \u001B[43mmodel\u001B[49m\u001B[38;5;241m.\u001B[39mbest_model\n",
      "\u001B[0;31mNameError\u001B[0m: name 'model' is not defined"
     ]
    }
   ],
   "source": [
    "model.best_model"
   ],
   "metadata": {
    "collapsed": false
   }
  }
 ],
 "metadata": {
  "kernelspec": {
   "name": "ml3.10",
   "language": "python",
   "display_name": "ml3.10"
  },
  "language_info": {
   "codemirror_mode": {
    "name": "ipython",
    "version": 2
   },
   "file_extension": ".py",
   "mimetype": "text/x-python",
   "name": "python",
   "nbconvert_exporter": "python",
   "pygments_lexer": "ipython2",
   "version": "2.7.6"
  }
 },
 "nbformat": 4,
 "nbformat_minor": 0
}
