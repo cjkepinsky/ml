{
 "cells": [
  {
   "cell_type": "code",
   "execution_count": 5,
   "outputs": [
    {
     "name": "stdout",
     "output_type": "stream",
     "text": [
      "[*********************100%***********************]  1 of 1 completed\n",
      "MSE: 4.558415098831546e-05\n",
      "Przewidywana wartość EUR/USD: 1.1998011483101527\n"
     ]
    },
    {
     "name": "stderr",
     "output_type": "stream",
     "text": [
      "/var/folders/r3/hdngxsmd2vq391vqv6kg6f7w0000gq/T/ipykernel_40109/1160202764.py:18: SettingWithCopyWarning: \n",
      "A value is trying to be set on a copy of a slice from a DataFrame.\n",
      "Try using .loc[row_indexer,col_indexer] = value instead\n",
      "\n",
      "See the caveats in the documentation: https://pandas.pydata.org/pandas-docs/stable/user_guide/indexing.html#returning-a-view-versus-a-copy\n",
      "  data['Prev_Close'] = data['Close'].shift(1)\n",
      "/var/folders/r3/hdngxsmd2vq391vqv6kg6f7w0000gq/T/ipykernel_40109/1160202764.py:19: SettingWithCopyWarning: \n",
      "A value is trying to be set on a copy of a slice from a DataFrame\n",
      "\n",
      "See the caveats in the documentation: https://pandas.pydata.org/pandas-docs/stable/user_guide/indexing.html#returning-a-view-versus-a-copy\n",
      "  data.dropna(inplace=True)\n",
      "/Users/kkepins-macwro_1/.local/share/virtualenvs/data-science-upskills-eseJr18D/lib/python3.10/site-packages/sklearn/base.py:409: UserWarning: X does not have valid feature names, but LinearRegression was fitted with feature names\n",
      "  warnings.warn(\n"
     ]
    }
   ],
   "source": [
    "import numpy as np\n",
    "import pandas as pd\n",
    "import yfinance as yf\n",
    "import datetime\n",
    "from sklearn.linear_model import LinearRegression\n",
    "from sklearn.model_selection import train_test_split\n",
    "from sklearn.metrics import mean_squared_error\n",
    "\n",
    "# Pobierz dane\n",
    "start_date = datetime.datetime(2010, 1, 1)\n",
    "end_date = datetime.datetime(2023, 3, 10)\n",
    "data = yf.download(\"EURUSD=X\", start=start_date, end=end_date)\n",
    "\n",
    "# Usuń niepotrzebne kolumny\n",
    "data = data[['Close']]\n",
    "\n",
    "# Dodaj kolumny z wartościami przesuniętymi o 1 dzień\n",
    "data['Prev_Close'] = data['Close'].shift(1)\n",
    "data.dropna(inplace=True)\n",
    "\n",
    "# Przygotuj dane wejściowe i wyjściowe\n",
    "X = data[['Prev_Close']]\n",
    "y = data['Close']\n",
    "\n",
    "# Podziel dane na zbiory treningowe i testowe\n",
    "X_train, X_test, y_train, y_test = train_test_split(X, y, test_size=0.2, random_state=42)\n",
    "\n",
    "# Utwórz model regresji liniowej\n",
    "model = LinearRegression()\n",
    "\n",
    "# Trenuj model\n",
    "model.fit(X_train, y_train)\n",
    "\n",
    "# Przewidywanie na zbiorze testowym\n",
    "y_pred = model.predict(X_test)\n",
    "\n",
    "# Oblicz błąd średniokwadratowy\n",
    "mse = mean_squared_error(y_test, y_pred)\n",
    "print(f'MSE: {mse}')\n",
    "\n",
    "# Przykład przewidywania na podstawie nowych danych\n",
    "new_data = np.array([[1.20]])\n",
    "prediction = model.predict(new_data)\n",
    "print(f'Przewidywana wartość EUR/USD: {prediction[0]}')\n"
   ],
   "metadata": {
    "collapsed": false
   }
  }
 ],
 "metadata": {
  "kernelspec": {
   "display_name": "Python 3",
   "language": "python",
   "name": "python3"
  },
  "language_info": {
   "codemirror_mode": {
    "name": "ipython",
    "version": 2
   },
   "file_extension": ".py",
   "mimetype": "text/x-python",
   "name": "python",
   "nbconvert_exporter": "python",
   "pygments_lexer": "ipython2",
   "version": "2.7.6"
  }
 },
 "nbformat": 4,
 "nbformat_minor": 0
}
