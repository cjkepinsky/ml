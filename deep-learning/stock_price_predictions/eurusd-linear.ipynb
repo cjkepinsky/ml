{
 "cells": [
  {
   "cell_type": "code",
   "execution_count": 2,
   "outputs": [
    {
     "name": "stdout",
     "output_type": "stream",
     "text": [
      "Requirement already satisfied: pip in /Users/kkepins-macwro_1/.pyenv/versions/3.9.13/lib/python3.9/site-packages (23.0.1)\r\n",
      "Requirement already satisfied: yfinance in /Users/kkepins-macwro_1/.pyenv/versions/3.9.13/lib/python3.9/site-packages (0.2.12)\r\n",
      "Requirement already satisfied: pytz>=2022.5 in /Users/kkepins-macwro_1/.pyenv/versions/3.9.13/lib/python3.9/site-packages (from yfinance) (2022.6)\r\n",
      "Requirement already satisfied: frozendict>=2.3.4 in /Users/kkepins-macwro_1/.pyenv/versions/3.9.13/lib/python3.9/site-packages (from yfinance) (2.3.5)\r\n",
      "Requirement already satisfied: multitasking>=0.0.7 in /Users/kkepins-macwro_1/.pyenv/versions/3.9.13/lib/python3.9/site-packages (from yfinance) (0.0.11)\r\n",
      "Requirement already satisfied: cryptography>=3.3.2 in /Users/kkepins-macwro_1/.pyenv/versions/3.9.13/lib/python3.9/site-packages (from yfinance) (39.0.2)\r\n",
      "Requirement already satisfied: beautifulsoup4>=4.11.1 in /Users/kkepins-macwro_1/.pyenv/versions/3.9.13/lib/python3.9/site-packages (from yfinance) (4.11.1)\r\n",
      "Requirement already satisfied: numpy>=1.16.5 in /Users/kkepins-macwro_1/.local/lib/python3.9/site-packages (from yfinance) (1.23.4)\r\n",
      "Requirement already satisfied: requests>=2.26 in /Users/kkepins-macwro_1/.pyenv/versions/3.9.13/lib/python3.9/site-packages (from yfinance) (2.28.1)\r\n",
      "Requirement already satisfied: lxml>=4.9.1 in /Users/kkepins-macwro_1/.pyenv/versions/3.9.13/lib/python3.9/site-packages (from yfinance) (4.9.2)\r\n",
      "Requirement already satisfied: appdirs>=1.4.4 in /Users/kkepins-macwro_1/.pyenv/versions/3.9.13/lib/python3.9/site-packages (from yfinance) (1.4.4)\r\n",
      "Requirement already satisfied: html5lib>=1.1 in /Users/kkepins-macwro_1/.pyenv/versions/3.9.13/lib/python3.9/site-packages (from yfinance) (1.1)\r\n",
      "Requirement already satisfied: pandas>=1.3.0 in /Users/kkepins-macwro_1/.pyenv/versions/3.9.13/lib/python3.9/site-packages (from yfinance) (1.5.2)\r\n",
      "Requirement already satisfied: soupsieve>1.2 in /Users/kkepins-macwro_1/.pyenv/versions/3.9.13/lib/python3.9/site-packages (from beautifulsoup4>=4.11.1->yfinance) (2.3.2.post1)\r\n",
      "Requirement already satisfied: cffi>=1.12 in /Users/kkepins-macwro_1/.pyenv/versions/3.9.13/lib/python3.9/site-packages (from cryptography>=3.3.2->yfinance) (1.15.1)\r\n",
      "Requirement already satisfied: webencodings in /Users/kkepins-macwro_1/.pyenv/versions/3.9.13/lib/python3.9/site-packages (from html5lib>=1.1->yfinance) (0.5.1)\r\n",
      "Requirement already satisfied: six>=1.9 in /Users/kkepins-macwro_1/.pyenv/versions/3.9.13/lib/python3.9/site-packages (from html5lib>=1.1->yfinance) (1.16.0)\r\n",
      "Requirement already satisfied: python-dateutil>=2.8.1 in /Users/kkepins-macwro_1/.pyenv/versions/3.9.13/lib/python3.9/site-packages (from pandas>=1.3.0->yfinance) (2.8.2)\r\n",
      "Requirement already satisfied: urllib3<1.27,>=1.21.1 in /Users/kkepins-macwro_1/.pyenv/versions/3.9.13/lib/python3.9/site-packages (from requests>=2.26->yfinance) (1.26.13)\r\n",
      "Requirement already satisfied: certifi>=2017.4.17 in /Users/kkepins-macwro_1/.pyenv/versions/3.9.13/lib/python3.9/site-packages (from requests>=2.26->yfinance) (2022.9.24)\r\n",
      "Requirement already satisfied: idna<4,>=2.5 in /Users/kkepins-macwro_1/.pyenv/versions/3.9.13/lib/python3.9/site-packages (from requests>=2.26->yfinance) (3.4)\r\n",
      "Requirement already satisfied: charset-normalizer<3,>=2 in /Users/kkepins-macwro_1/.pyenv/versions/3.9.13/lib/python3.9/site-packages (from requests>=2.26->yfinance) (2.1.1)\r\n",
      "Requirement already satisfied: pycparser in /Users/kkepins-macwro_1/.pyenv/versions/3.9.13/lib/python3.9/site-packages (from cffi>=1.12->cryptography>=3.3.2->yfinance) (2.21)\r\n"
     ]
    }
   ],
   "source": [
    "!pip install --upgrade pip\n",
    "!pip install yfinance\n"
   ],
   "metadata": {
    "collapsed": false
   }
  },
  {
   "cell_type": "code",
   "execution_count": 5,
   "outputs": [
    {
     "name": "stdout",
     "output_type": "stream",
     "text": [
      "[*********************100%***********************]  1 of 1 completed\n",
      "MSE: 4.952469800063233e-05\n",
      "Przewidywana wartość EUR/USD: 1.1998456074035249\n",
      "[1.19984561]\n"
     ]
    },
    {
     "name": "stderr",
     "output_type": "stream",
     "text": [
      "/var/folders/r3/hdngxsmd2vq391vqv6kg6f7w0000gq/T/ipykernel_89948/435440484.py:18: SettingWithCopyWarning: \n",
      "A value is trying to be set on a copy of a slice from a DataFrame.\n",
      "Try using .loc[row_indexer,col_indexer] = value instead\n",
      "\n",
      "See the caveats in the documentation: https://pandas.pydata.org/pandas-docs/stable/user_guide/indexing.html#returning-a-view-versus-a-copy\n",
      "  data['Prev_Close'] = data['Close'].shift(1)\n",
      "/var/folders/r3/hdngxsmd2vq391vqv6kg6f7w0000gq/T/ipykernel_89948/435440484.py:19: SettingWithCopyWarning: \n",
      "A value is trying to be set on a copy of a slice from a DataFrame\n",
      "\n",
      "See the caveats in the documentation: https://pandas.pydata.org/pandas-docs/stable/user_guide/indexing.html#returning-a-view-versus-a-copy\n",
      "  data.dropna(inplace=True)\n",
      "/Users/kkepins-macwro_1/.local/share/virtualenvs/ml-IYlnPhoE/lib/python3.10/site-packages/sklearn/base.py:439: UserWarning: X does not have valid feature names, but LinearRegression was fitted with feature names\n",
      "  warnings.warn(\n"
     ]
    }
   ],
   "source": [
    "import numpy as np\n",
    "import pandas as pd\n",
    "import yfinance as yf\n",
    "import datetime\n",
    "from sklearn.linear_model import LinearRegression\n",
    "from sklearn.model_selection import train_test_split\n",
    "from sklearn.metrics import mean_squared_error\n",
    "\n",
    "# Pobierz dane\n",
    "start_date = datetime.datetime(2010, 1, 1)\n",
    "end_date = datetime.datetime(2023, 3, 19)\n",
    "data = yf.download(\"EURUSD=X\", start=start_date, end=end_date)\n",
    "\n",
    "# Usuń niepotrzebne kolumny\n",
    "data = data[['Close']]\n",
    "\n",
    "# Dodaj kolumny z wartościami przesuniętymi o 1 dzień\n",
    "data['Prev_Close'] = data['Close'].shift(1)\n",
    "data.dropna(inplace=True)\n",
    "\n",
    "# Przygotuj dane wejściowe i wyjściowe\n",
    "X = data[['Prev_Close']]\n",
    "y = data['Close']\n",
    "\n",
    "# Podziel dane na zbiory treningowe i testowe\n",
    "X_train, X_test, y_train, y_test = train_test_split(X, y, test_size=0.2, random_state=42)\n",
    "\n",
    "# Utwórz model regresji liniowej\n",
    "model = LinearRegression()\n",
    "\n",
    "# Trenuj model\n",
    "model.fit(X_train, y_train)\n",
    "\n",
    "# Przewidywanie na zbiorze testowym\n",
    "y_pred = model.predict(X_test)\n",
    "\n",
    "# Oblicz błąd średniokwadratowy\n",
    "mse = mean_squared_error(y_test, y_pred)\n",
    "print(f'MSE: {mse}')\n",
    "\n",
    "\n"
   ],
   "metadata": {
    "collapsed": false
   }
  },
  {
   "cell_type": "code",
   "execution_count": 10,
   "outputs": [
    {
     "name": "stdout",
     "output_type": "stream",
     "text": [
      "Przewidywana wartość EUR/USD: 1.0616572218632372\n",
      "[1.06165722]\n"
     ]
    },
    {
     "name": "stderr",
     "output_type": "stream",
     "text": [
      "/Users/kkepins-macwro_1/.local/share/virtualenvs/ml-IYlnPhoE/lib/python3.10/site-packages/sklearn/base.py:439: UserWarning: X does not have valid feature names, but LinearRegression was fitted with feature names\n",
      "  warnings.warn(\n"
     ]
    }
   ],
   "source": [
    "# Przykład przewidywania na podstawie nowych danych\n",
    "new_data = np.array([[1.061413]])\n",
    "prediction = model.predict(new_data)\n",
    "print(f'Przewidywana wartość EUR/USD: {prediction[0]}')\n",
    "print(prediction)"
   ],
   "metadata": {
    "collapsed": false
   }
  },
  {
   "cell_type": "code",
   "execution_count": 6,
   "outputs": [
    {
     "name": "stdout",
     "output_type": "stream",
     "text": [
      "[*********************100%***********************]  1 of 1 completed\n"
     ]
    },
    {
     "data": {
      "text/plain": "                Open      High       Low     Close  Adj Close  Volume\nDate                                                                 \n2010-01-01  1.432706  1.440196  1.432706  1.438994   1.438994       0\n2010-01-04  1.431004  1.445191  1.426208  1.442398   1.442398       0\n2010-01-05  1.442710  1.448310  1.435194  1.436596   1.436596       0\n2010-01-06  1.436596  1.443460  1.429123  1.440403   1.440403       0\n2010-01-07  1.440300  1.444481  1.430206  1.431803   1.431803       0\n...              ...       ...       ...       ...        ...     ...\n2023-03-14  1.072501  1.074714  1.067965  1.072501   1.072501       0\n2023-03-15  1.072766  1.076009  1.052034  1.072766   1.072766       0\n2023-03-16  1.058335  1.063456  1.055509  1.058335   1.058335       0\n2023-03-17  1.061413  1.066963  1.061211  1.061413   1.061413       0\n2023-03-20  1.067886  1.073053  1.063242  1.067886   1.067886       0\n\n[3442 rows x 6 columns]",
      "text/html": "<div>\n<style scoped>\n    .dataframe tbody tr th:only-of-type {\n        vertical-align: middle;\n    }\n\n    .dataframe tbody tr th {\n        vertical-align: top;\n    }\n\n    .dataframe thead th {\n        text-align: right;\n    }\n</style>\n<table border=\"1\" class=\"dataframe\">\n  <thead>\n    <tr style=\"text-align: right;\">\n      <th></th>\n      <th>Open</th>\n      <th>High</th>\n      <th>Low</th>\n      <th>Close</th>\n      <th>Adj Close</th>\n      <th>Volume</th>\n    </tr>\n    <tr>\n      <th>Date</th>\n      <th></th>\n      <th></th>\n      <th></th>\n      <th></th>\n      <th></th>\n      <th></th>\n    </tr>\n  </thead>\n  <tbody>\n    <tr>\n      <th>2010-01-01</th>\n      <td>1.432706</td>\n      <td>1.440196</td>\n      <td>1.432706</td>\n      <td>1.438994</td>\n      <td>1.438994</td>\n      <td>0</td>\n    </tr>\n    <tr>\n      <th>2010-01-04</th>\n      <td>1.431004</td>\n      <td>1.445191</td>\n      <td>1.426208</td>\n      <td>1.442398</td>\n      <td>1.442398</td>\n      <td>0</td>\n    </tr>\n    <tr>\n      <th>2010-01-05</th>\n      <td>1.442710</td>\n      <td>1.448310</td>\n      <td>1.435194</td>\n      <td>1.436596</td>\n      <td>1.436596</td>\n      <td>0</td>\n    </tr>\n    <tr>\n      <th>2010-01-06</th>\n      <td>1.436596</td>\n      <td>1.443460</td>\n      <td>1.429123</td>\n      <td>1.440403</td>\n      <td>1.440403</td>\n      <td>0</td>\n    </tr>\n    <tr>\n      <th>2010-01-07</th>\n      <td>1.440300</td>\n      <td>1.444481</td>\n      <td>1.430206</td>\n      <td>1.431803</td>\n      <td>1.431803</td>\n      <td>0</td>\n    </tr>\n    <tr>\n      <th>...</th>\n      <td>...</td>\n      <td>...</td>\n      <td>...</td>\n      <td>...</td>\n      <td>...</td>\n      <td>...</td>\n    </tr>\n    <tr>\n      <th>2023-03-14</th>\n      <td>1.072501</td>\n      <td>1.074714</td>\n      <td>1.067965</td>\n      <td>1.072501</td>\n      <td>1.072501</td>\n      <td>0</td>\n    </tr>\n    <tr>\n      <th>2023-03-15</th>\n      <td>1.072766</td>\n      <td>1.076009</td>\n      <td>1.052034</td>\n      <td>1.072766</td>\n      <td>1.072766</td>\n      <td>0</td>\n    </tr>\n    <tr>\n      <th>2023-03-16</th>\n      <td>1.058335</td>\n      <td>1.063456</td>\n      <td>1.055509</td>\n      <td>1.058335</td>\n      <td>1.058335</td>\n      <td>0</td>\n    </tr>\n    <tr>\n      <th>2023-03-17</th>\n      <td>1.061413</td>\n      <td>1.066963</td>\n      <td>1.061211</td>\n      <td>1.061413</td>\n      <td>1.061413</td>\n      <td>0</td>\n    </tr>\n    <tr>\n      <th>2023-03-20</th>\n      <td>1.067886</td>\n      <td>1.073053</td>\n      <td>1.063242</td>\n      <td>1.067886</td>\n      <td>1.067886</td>\n      <td>0</td>\n    </tr>\n  </tbody>\n</table>\n<p>3442 rows × 6 columns</p>\n</div>"
     },
     "execution_count": 6,
     "metadata": {},
     "output_type": "execute_result"
    }
   ],
   "source": [
    "import numpy as np\n",
    "import pandas as pd\n",
    "import yfinance as yf\n",
    "import datetime\n",
    "from sklearn.linear_model import LinearRegression\n",
    "from sklearn.model_selection import train_test_split\n",
    "from sklearn.metrics import mean_squared_error\n",
    "\n",
    "# Pobierz dane\n",
    "start_date = datetime.datetime(2010, 1, 1)\n",
    "end_date = datetime.datetime(2023, 3, 21)\n",
    "data = yf.download(\"EURUSD=X\", start=start_date, end=end_date)\n",
    "data"
   ],
   "metadata": {
    "collapsed": false
   }
  }
 ],
 "metadata": {
  "kernelspec": {
   "name": "ml3.10",
   "language": "python",
   "display_name": "ml3.10"
  },
  "language_info": {
   "codemirror_mode": {
    "name": "ipython",
    "version": 2
   },
   "file_extension": ".py",
   "mimetype": "text/x-python",
   "name": "python",
   "nbconvert_exporter": "python",
   "pygments_lexer": "ipython2",
   "version": "2.7.6"
  }
 },
 "nbformat": 4,
 "nbformat_minor": 0
}
