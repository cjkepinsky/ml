{
 "cells": [
  {
   "cell_type": "code",
   "execution_count": 1,
   "metadata": {
    "collapsed": true
   },
   "outputs": [
    {
     "name": "stderr",
     "output_type": "stream",
     "text": [
      "/Users/kkepins-macwro_1/.local/share/virtualenvs/data-science-upskills-eseJr18D/lib/python3.10/site-packages/statsmodels/tsa/base/tsa_model.py:471: ValueWarning: A date index has been provided, but it has no associated frequency information and so will be ignored when e.g. forecasting.\n",
      "  self._init_dates(dates, freq)\n"
     ]
    },
    {
     "ename": "LinAlgError",
     "evalue": "6-th leading minor of the array is not positive definite",
     "output_type": "error",
     "traceback": [
      "\u001B[0;31m---------------------------------------------------------------------------\u001B[0m",
      "\u001B[0;31mLinAlgError\u001B[0m                               Traceback (most recent call last)",
      "Cell \u001B[0;32mIn[1], line 16\u001B[0m\n\u001B[1;32m     13\u001B[0m results \u001B[38;5;241m=\u001B[39m model\u001B[38;5;241m.\u001B[39mfit(\u001B[38;5;241m2\u001B[39m) \u001B[38;5;66;03m# drugi parametr to liczba opóźnień (lag)\u001B[39;00m\n\u001B[1;32m     15\u001B[0m \u001B[38;5;66;03m# wyświetlenie podsumowania wyników modelu\u001B[39;00m\n\u001B[0;32m---> 16\u001B[0m \u001B[38;5;28mprint\u001B[39m(\u001B[43mresults\u001B[49m\u001B[38;5;241;43m.\u001B[39;49m\u001B[43msummary\u001B[49m\u001B[43m(\u001B[49m\u001B[43m)\u001B[49m)\n\u001B[1;32m     18\u001B[0m \u001B[38;5;66;03m# wykonanie prognozy na kolejne 10 dni\u001B[39;00m\n\u001B[1;32m     19\u001B[0m forecast \u001B[38;5;241m=\u001B[39m results\u001B[38;5;241m.\u001B[39mforecast(df_diff\u001B[38;5;241m.\u001B[39mvalues[\u001B[38;5;241m-\u001B[39m\u001B[38;5;241m2\u001B[39m:], steps\u001B[38;5;241m=\u001B[39m\u001B[38;5;241m10\u001B[39m)\n",
      "File \u001B[0;32m~/.local/share/virtualenvs/data-science-upskills-eseJr18D/lib/python3.10/site-packages/statsmodels/tsa/vector_ar/var_model.py:1835\u001B[0m, in \u001B[0;36mVARResults.summary\u001B[0;34m(self)\u001B[0m\n\u001B[1;32m   1828\u001B[0m \u001B[38;5;28;01mdef\u001B[39;00m \u001B[38;5;21msummary\u001B[39m(\u001B[38;5;28mself\u001B[39m):\n\u001B[1;32m   1829\u001B[0m     \u001B[38;5;124;03m\"\"\"Compute console output summary of estimates\u001B[39;00m\n\u001B[1;32m   1830\u001B[0m \n\u001B[1;32m   1831\u001B[0m \u001B[38;5;124;03m    Returns\u001B[39;00m\n\u001B[1;32m   1832\u001B[0m \u001B[38;5;124;03m    -------\u001B[39;00m\n\u001B[1;32m   1833\u001B[0m \u001B[38;5;124;03m    summary : VARSummary\u001B[39;00m\n\u001B[1;32m   1834\u001B[0m \u001B[38;5;124;03m    \"\"\"\u001B[39;00m\n\u001B[0;32m-> 1835\u001B[0m     \u001B[38;5;28;01mreturn\u001B[39;00m \u001B[43mVARSummary\u001B[49m\u001B[43m(\u001B[49m\u001B[38;5;28;43mself\u001B[39;49m\u001B[43m)\u001B[49m\n",
      "File \u001B[0;32m~/.local/share/virtualenvs/data-science-upskills-eseJr18D/lib/python3.10/site-packages/statsmodels/tsa/vector_ar/output.py:71\u001B[0m, in \u001B[0;36mVARSummary.__init__\u001B[0;34m(self, estimator)\u001B[0m\n\u001B[1;32m     69\u001B[0m \u001B[38;5;28;01mdef\u001B[39;00m \u001B[38;5;21m__init__\u001B[39m(\u001B[38;5;28mself\u001B[39m, estimator):\n\u001B[1;32m     70\u001B[0m     \u001B[38;5;28mself\u001B[39m\u001B[38;5;241m.\u001B[39mmodel \u001B[38;5;241m=\u001B[39m estimator\n\u001B[0;32m---> 71\u001B[0m     \u001B[38;5;28mself\u001B[39m\u001B[38;5;241m.\u001B[39msummary \u001B[38;5;241m=\u001B[39m \u001B[38;5;28;43mself\u001B[39;49m\u001B[38;5;241;43m.\u001B[39;49m\u001B[43mmake\u001B[49m\u001B[43m(\u001B[49m\u001B[43m)\u001B[49m\n",
      "File \u001B[0;32m~/.local/share/virtualenvs/data-science-upskills-eseJr18D/lib/python3.10/site-packages/statsmodels/tsa/vector_ar/output.py:83\u001B[0m, in \u001B[0;36mVARSummary.make\u001B[0;34m(self, endog_names, exog_names)\u001B[0m\n\u001B[1;32m     80\u001B[0m buf \u001B[38;5;241m=\u001B[39m StringIO()\n\u001B[1;32m     82\u001B[0m buf\u001B[38;5;241m.\u001B[39mwrite(\u001B[38;5;28mself\u001B[39m\u001B[38;5;241m.\u001B[39m_header_table() \u001B[38;5;241m+\u001B[39m \u001B[38;5;124m'\u001B[39m\u001B[38;5;130;01m\\n\u001B[39;00m\u001B[38;5;124m'\u001B[39m)\n\u001B[0;32m---> 83\u001B[0m buf\u001B[38;5;241m.\u001B[39mwrite(\u001B[38;5;28;43mself\u001B[39;49m\u001B[38;5;241;43m.\u001B[39;49m\u001B[43m_stats_table\u001B[49m\u001B[43m(\u001B[49m\u001B[43m)\u001B[49m \u001B[38;5;241m+\u001B[39m \u001B[38;5;124m'\u001B[39m\u001B[38;5;130;01m\\n\u001B[39;00m\u001B[38;5;124m'\u001B[39m)\n\u001B[1;32m     84\u001B[0m buf\u001B[38;5;241m.\u001B[39mwrite(\u001B[38;5;28mself\u001B[39m\u001B[38;5;241m.\u001B[39m_coef_table() \u001B[38;5;241m+\u001B[39m \u001B[38;5;124m'\u001B[39m\u001B[38;5;130;01m\\n\u001B[39;00m\u001B[38;5;124m'\u001B[39m)\n\u001B[1;32m     85\u001B[0m buf\u001B[38;5;241m.\u001B[39mwrite(\u001B[38;5;28mself\u001B[39m\u001B[38;5;241m.\u001B[39m_resid_info() \u001B[38;5;241m+\u001B[39m \u001B[38;5;124m'\u001B[39m\u001B[38;5;130;01m\\n\u001B[39;00m\u001B[38;5;124m'\u001B[39m)\n",
      "File \u001B[0;32m~/.local/share/virtualenvs/data-science-upskills-eseJr18D/lib/python3.10/site-packages/statsmodels/tsa/vector_ar/output.py:130\u001B[0m, in \u001B[0;36mVARSummary._stats_table\u001B[0;34m(self)\u001B[0m\n\u001B[1;32m    122\u001B[0m part2Lstubs \u001B[38;5;241m=\u001B[39m (\u001B[38;5;124m'\u001B[39m\u001B[38;5;124mNo. of Equations:\u001B[39m\u001B[38;5;124m'\u001B[39m,\n\u001B[1;32m    123\u001B[0m                \u001B[38;5;124m'\u001B[39m\u001B[38;5;124mNobs:\u001B[39m\u001B[38;5;124m'\u001B[39m,\n\u001B[1;32m    124\u001B[0m                \u001B[38;5;124m'\u001B[39m\u001B[38;5;124mLog likelihood:\u001B[39m\u001B[38;5;124m'\u001B[39m,\n\u001B[1;32m    125\u001B[0m                \u001B[38;5;124m'\u001B[39m\u001B[38;5;124mAIC:\u001B[39m\u001B[38;5;124m'\u001B[39m)\n\u001B[1;32m    126\u001B[0m part2Rstubs \u001B[38;5;241m=\u001B[39m (\u001B[38;5;124m'\u001B[39m\u001B[38;5;124mBIC:\u001B[39m\u001B[38;5;124m'\u001B[39m,\n\u001B[1;32m    127\u001B[0m                \u001B[38;5;124m'\u001B[39m\u001B[38;5;124mHQIC:\u001B[39m\u001B[38;5;124m'\u001B[39m,\n\u001B[1;32m    128\u001B[0m                \u001B[38;5;124m'\u001B[39m\u001B[38;5;124mFPE:\u001B[39m\u001B[38;5;124m'\u001B[39m,\n\u001B[1;32m    129\u001B[0m                \u001B[38;5;124m'\u001B[39m\u001B[38;5;124mDet(Omega_mle):\u001B[39m\u001B[38;5;124m'\u001B[39m)\n\u001B[0;32m--> 130\u001B[0m part2Ldata \u001B[38;5;241m=\u001B[39m [[model\u001B[38;5;241m.\u001B[39mneqs], [model\u001B[38;5;241m.\u001B[39mnobs], [\u001B[43mmodel\u001B[49m\u001B[38;5;241;43m.\u001B[39;49m\u001B[43mllf\u001B[49m], [model\u001B[38;5;241m.\u001B[39maic]]\n\u001B[1;32m    131\u001B[0m part2Rdata \u001B[38;5;241m=\u001B[39m [[model\u001B[38;5;241m.\u001B[39mbic], [model\u001B[38;5;241m.\u001B[39mhqic], [model\u001B[38;5;241m.\u001B[39mfpe], [model\u001B[38;5;241m.\u001B[39mdetomega]]\n\u001B[1;32m    132\u001B[0m part2Lheader \u001B[38;5;241m=\u001B[39m \u001B[38;5;28;01mNone\u001B[39;00m\n",
      "File \u001B[0;32m~/.local/share/virtualenvs/data-science-upskills-eseJr18D/lib/python3.10/site-packages/pandas/_libs/properties.pyx:36\u001B[0m, in \u001B[0;36mpandas._libs.properties.CachedProperty.__get__\u001B[0;34m()\u001B[0m\n",
      "File \u001B[0;32m~/.local/share/virtualenvs/data-science-upskills-eseJr18D/lib/python3.10/site-packages/statsmodels/tsa/vector_ar/var_model.py:1540\u001B[0m, in \u001B[0;36mVARResults.llf\u001B[0;34m(self)\u001B[0m\n\u001B[1;32m   1537\u001B[0m \u001B[38;5;129m@cache_readonly\u001B[39m\n\u001B[1;32m   1538\u001B[0m \u001B[38;5;28;01mdef\u001B[39;00m \u001B[38;5;21mllf\u001B[39m(\u001B[38;5;28mself\u001B[39m):\n\u001B[1;32m   1539\u001B[0m     \u001B[38;5;124m\"\u001B[39m\u001B[38;5;124mCompute VAR(p) loglikelihood\u001B[39m\u001B[38;5;124m\"\u001B[39m\n\u001B[0;32m-> 1540\u001B[0m     \u001B[38;5;28;01mreturn\u001B[39;00m \u001B[43mvar_loglike\u001B[49m\u001B[43m(\u001B[49m\u001B[38;5;28;43mself\u001B[39;49m\u001B[38;5;241;43m.\u001B[39;49m\u001B[43mresid\u001B[49m\u001B[43m,\u001B[49m\u001B[43m \u001B[49m\u001B[38;5;28;43mself\u001B[39;49m\u001B[38;5;241;43m.\u001B[39;49m\u001B[43msigma_u_mle\u001B[49m\u001B[43m,\u001B[49m\u001B[43m \u001B[49m\u001B[38;5;28;43mself\u001B[39;49m\u001B[38;5;241;43m.\u001B[39;49m\u001B[43mnobs\u001B[49m\u001B[43m)\u001B[49m\n",
      "File \u001B[0;32m~/.local/share/virtualenvs/data-science-upskills-eseJr18D/lib/python3.10/site-packages/statsmodels/tsa/vector_ar/var_model.py:334\u001B[0m, in \u001B[0;36mvar_loglike\u001B[0;34m(resid, omega, nobs)\u001B[0m\n\u001B[1;32m    306\u001B[0m \u001B[38;5;28;01mdef\u001B[39;00m \u001B[38;5;21mvar_loglike\u001B[39m(resid, omega, nobs):\n\u001B[1;32m    307\u001B[0m     \u001B[38;5;124mr\u001B[39m\u001B[38;5;124;03m\"\"\"\u001B[39;00m\n\u001B[1;32m    308\u001B[0m \u001B[38;5;124;03m    Returns the value of the VAR(p) log-likelihood.\u001B[39;00m\n\u001B[1;32m    309\u001B[0m \n\u001B[0;32m   (...)\u001B[0m\n\u001B[1;32m    332\u001B[0m \u001B[38;5;124;03m        \\left(\\ln\\left|\\Omega\\right|-K\\ln\\left(2\\pi\\right)-K\\right)\u001B[39;00m\n\u001B[1;32m    333\u001B[0m \u001B[38;5;124;03m    \"\"\"\u001B[39;00m\n\u001B[0;32m--> 334\u001B[0m     logdet \u001B[38;5;241m=\u001B[39m \u001B[43mlogdet_symm\u001B[49m\u001B[43m(\u001B[49m\u001B[43mnp\u001B[49m\u001B[38;5;241;43m.\u001B[39;49m\u001B[43masarray\u001B[49m\u001B[43m(\u001B[49m\u001B[43momega\u001B[49m\u001B[43m)\u001B[49m\u001B[43m)\u001B[49m\n\u001B[1;32m    335\u001B[0m     neqs \u001B[38;5;241m=\u001B[39m \u001B[38;5;28mlen\u001B[39m(omega)\n\u001B[1;32m    336\u001B[0m     part1 \u001B[38;5;241m=\u001B[39m \u001B[38;5;241m-\u001B[39m(nobs \u001B[38;5;241m*\u001B[39m neqs \u001B[38;5;241m/\u001B[39m \u001B[38;5;241m2\u001B[39m) \u001B[38;5;241m*\u001B[39m np\u001B[38;5;241m.\u001B[39mlog(\u001B[38;5;241m2\u001B[39m \u001B[38;5;241m*\u001B[39m np\u001B[38;5;241m.\u001B[39mpi)\n",
      "File \u001B[0;32m~/.local/share/virtualenvs/data-science-upskills-eseJr18D/lib/python3.10/site-packages/statsmodels/tools/linalg.py:28\u001B[0m, in \u001B[0;36mlogdet_symm\u001B[0;34m(m, check_symm)\u001B[0m\n\u001B[1;32m     26\u001B[0m     \u001B[38;5;28;01mif\u001B[39;00m \u001B[38;5;129;01mnot\u001B[39;00m np\u001B[38;5;241m.\u001B[39mall(m \u001B[38;5;241m==\u001B[39m m\u001B[38;5;241m.\u001B[39mT):  \u001B[38;5;66;03m# would be nice to short-circuit check\u001B[39;00m\n\u001B[1;32m     27\u001B[0m         \u001B[38;5;28;01mraise\u001B[39;00m \u001B[38;5;167;01mValueError\u001B[39;00m(\u001B[38;5;124m\"\u001B[39m\u001B[38;5;124mm is not symmetric.\u001B[39m\u001B[38;5;124m\"\u001B[39m)\n\u001B[0;32m---> 28\u001B[0m c, _ \u001B[38;5;241m=\u001B[39m \u001B[43mlinalg\u001B[49m\u001B[38;5;241;43m.\u001B[39;49m\u001B[43mcho_factor\u001B[49m\u001B[43m(\u001B[49m\u001B[43mm\u001B[49m\u001B[43m,\u001B[49m\u001B[43m \u001B[49m\u001B[43mlower\u001B[49m\u001B[38;5;241;43m=\u001B[39;49m\u001B[38;5;28;43;01mTrue\u001B[39;49;00m\u001B[43m)\u001B[49m\n\u001B[1;32m     29\u001B[0m \u001B[38;5;28;01mreturn\u001B[39;00m \u001B[38;5;241m2\u001B[39m\u001B[38;5;241m*\u001B[39mnp\u001B[38;5;241m.\u001B[39msum(np\u001B[38;5;241m.\u001B[39mlog(c\u001B[38;5;241m.\u001B[39mdiagonal()))\n",
      "File \u001B[0;32m~/.local/share/virtualenvs/data-science-upskills-eseJr18D/lib/python3.10/site-packages/scipy/linalg/_decomp_cholesky.py:152\u001B[0m, in \u001B[0;36mcho_factor\u001B[0;34m(a, lower, overwrite_a, check_finite)\u001B[0m\n\u001B[1;32m     93\u001B[0m \u001B[38;5;28;01mdef\u001B[39;00m \u001B[38;5;21mcho_factor\u001B[39m(a, lower\u001B[38;5;241m=\u001B[39m\u001B[38;5;28;01mFalse\u001B[39;00m, overwrite_a\u001B[38;5;241m=\u001B[39m\u001B[38;5;28;01mFalse\u001B[39;00m, check_finite\u001B[38;5;241m=\u001B[39m\u001B[38;5;28;01mTrue\u001B[39;00m):\n\u001B[1;32m     94\u001B[0m     \u001B[38;5;124;03m\"\"\"\u001B[39;00m\n\u001B[1;32m     95\u001B[0m \u001B[38;5;124;03m    Compute the Cholesky decomposition of a matrix, to use in cho_solve\u001B[39;00m\n\u001B[1;32m     96\u001B[0m \n\u001B[0;32m   (...)\u001B[0m\n\u001B[1;32m    150\u001B[0m \n\u001B[1;32m    151\u001B[0m \u001B[38;5;124;03m    \"\"\"\u001B[39;00m\n\u001B[0;32m--> 152\u001B[0m     c, lower \u001B[38;5;241m=\u001B[39m \u001B[43m_cholesky\u001B[49m\u001B[43m(\u001B[49m\u001B[43ma\u001B[49m\u001B[43m,\u001B[49m\u001B[43m \u001B[49m\u001B[43mlower\u001B[49m\u001B[38;5;241;43m=\u001B[39;49m\u001B[43mlower\u001B[49m\u001B[43m,\u001B[49m\u001B[43m \u001B[49m\u001B[43moverwrite_a\u001B[49m\u001B[38;5;241;43m=\u001B[39;49m\u001B[43moverwrite_a\u001B[49m\u001B[43m,\u001B[49m\u001B[43m \u001B[49m\u001B[43mclean\u001B[49m\u001B[38;5;241;43m=\u001B[39;49m\u001B[38;5;28;43;01mFalse\u001B[39;49;00m\u001B[43m,\u001B[49m\n\u001B[1;32m    153\u001B[0m \u001B[43m                         \u001B[49m\u001B[43mcheck_finite\u001B[49m\u001B[38;5;241;43m=\u001B[39;49m\u001B[43mcheck_finite\u001B[49m\u001B[43m)\u001B[49m\n\u001B[1;32m    154\u001B[0m     \u001B[38;5;28;01mreturn\u001B[39;00m c, lower\n",
      "File \u001B[0;32m~/.local/share/virtualenvs/data-science-upskills-eseJr18D/lib/python3.10/site-packages/scipy/linalg/_decomp_cholesky.py:37\u001B[0m, in \u001B[0;36m_cholesky\u001B[0;34m(a, lower, overwrite_a, clean, check_finite)\u001B[0m\n\u001B[1;32m     35\u001B[0m c, info \u001B[38;5;241m=\u001B[39m potrf(a1, lower\u001B[38;5;241m=\u001B[39mlower, overwrite_a\u001B[38;5;241m=\u001B[39moverwrite_a, clean\u001B[38;5;241m=\u001B[39mclean)\n\u001B[1;32m     36\u001B[0m \u001B[38;5;28;01mif\u001B[39;00m info \u001B[38;5;241m>\u001B[39m \u001B[38;5;241m0\u001B[39m:\n\u001B[0;32m---> 37\u001B[0m     \u001B[38;5;28;01mraise\u001B[39;00m LinAlgError(\u001B[38;5;124m\"\u001B[39m\u001B[38;5;132;01m%d\u001B[39;00m\u001B[38;5;124m-th leading minor of the array is not positive \u001B[39m\u001B[38;5;124m\"\u001B[39m\n\u001B[1;32m     38\u001B[0m                       \u001B[38;5;124m\"\u001B[39m\u001B[38;5;124mdefinite\u001B[39m\u001B[38;5;124m\"\u001B[39m \u001B[38;5;241m%\u001B[39m info)\n\u001B[1;32m     39\u001B[0m \u001B[38;5;28;01mif\u001B[39;00m info \u001B[38;5;241m<\u001B[39m \u001B[38;5;241m0\u001B[39m:\n\u001B[1;32m     40\u001B[0m     \u001B[38;5;28;01mraise\u001B[39;00m \u001B[38;5;167;01mValueError\u001B[39;00m(\u001B[38;5;124m'\u001B[39m\u001B[38;5;124mLAPACK reported an illegal value in \u001B[39m\u001B[38;5;132;01m{}\u001B[39;00m\u001B[38;5;124m-th argument\u001B[39m\u001B[38;5;124m'\u001B[39m\n\u001B[1;32m     41\u001B[0m                      \u001B[38;5;124m'\u001B[39m\u001B[38;5;124mon entry to \u001B[39m\u001B[38;5;124m\"\u001B[39m\u001B[38;5;124mPOTRF\u001B[39m\u001B[38;5;124m\"\u001B[39m\u001B[38;5;124m.\u001B[39m\u001B[38;5;124m'\u001B[39m\u001B[38;5;241m.\u001B[39mformat(\u001B[38;5;241m-\u001B[39minfo))\n",
      "\u001B[0;31mLinAlgError\u001B[0m: 6-th leading minor of the array is not positive definite"
     ]
    }
   ],
   "source": [
    "import pandas as pd\n",
    "from statsmodels.tsa.api import VAR\n",
    "\n",
    "# pobranie danych z Yahoo Finance\n",
    "df = pd.read_csv(\"https://query1.finance.yahoo.com/v7/finance/download/EURUSD=X?period1=1483228800&period2=1640995200&interval=1d&events=history&includeAdjustedClose=true\")\n",
    "df.set_index('Date', inplace=True)\n",
    "\n",
    "# przekształcenie różnicowe\n",
    "df_diff = df.diff().dropna()\n",
    "\n",
    "# dopasowanie modelu VAR\n",
    "model = VAR(df_diff)\n",
    "results = model.fit(2) # drugi parametr to liczba opóźnień (lag)\n",
    "\n",
    "# wyświetlenie podsumowania wyników modelu\n",
    "print(results.summary())\n",
    "\n",
    "# wykonanie prognozy na kolejne 10 dni\n",
    "forecast = results.forecast(df_diff.values[-2:], steps=10)\n",
    "print(forecast)\n"
   ]
  },
  {
   "cell_type": "code",
   "execution_count": 9,
   "outputs": [
    {
     "name": "stdout",
     "output_type": "stream",
     "text": [
      "[*********************100%***********************]  1 of 1 completed\n"
     ]
    },
    {
     "name": "stderr",
     "output_type": "stream",
     "text": [
      "/Users/kkepins-macwro_1/.local/share/virtualenvs/data-science-upskills-eseJr18D/lib/python3.10/site-packages/statsmodels/tsa/base/tsa_model.py:471: ValueWarning: A date index has been provided, but it has no associated frequency information and so will be ignored when e.g. forecasting.\n",
      "  self._init_dates(dates, freq)\n",
      "/Users/kkepins-macwro_1/.local/share/virtualenvs/data-science-upskills-eseJr18D/lib/python3.10/site-packages/statsmodels/tsa/base/tsa_model.py:471: ValueWarning: A date index has been provided, but it is not monotonic and so will be ignored when e.g. forecasting.\n",
      "  self._init_dates(dates, freq)\n"
     ]
    },
    {
     "ename": "ValueError",
     "evalue": "operands could not be broadcast together with shapes (1340,6) (1339,6) ",
     "output_type": "error",
     "traceback": [
      "\u001B[0;31m---------------------------------------------------------------------------\u001B[0m",
      "\u001B[0;31mValueError\u001B[0m                                Traceback (most recent call last)",
      "Cell \u001B[0;32mIn[9], line 52\u001B[0m\n\u001B[1;32m     49\u001B[0m df_diff \u001B[38;5;241m=\u001B[39m df\u001B[38;5;241m.\u001B[39mdiff()\u001B[38;5;241m.\u001B[39mdropna()\n\u001B[1;32m     51\u001B[0m \u001B[38;5;66;03m# Dopasowanie modelu VAR z bootstrapingiem dla 2 opóźnień (lag)\u001B[39;00m\n\u001B[0;32m---> 52\u001B[0m mean_coefs, std_coefs, mean_rmse, std_rmse, mean_aic, std_aic \u001B[38;5;241m=\u001B[39m \u001B[43mVAR_bootstrap\u001B[49m\u001B[43m(\u001B[49m\u001B[43mdf_diff\u001B[49m\u001B[43m,\u001B[49m\u001B[43m \u001B[49m\u001B[38;5;241;43m2\u001B[39;49m\u001B[43m)\u001B[49m\n\u001B[1;32m     54\u001B[0m \u001B[38;5;66;03m# Wyświetlenie wyników\u001B[39;00m\n\u001B[1;32m     55\u001B[0m \u001B[38;5;28mprint\u001B[39m(mean_coefs, std_coefs, mean_rmse, std_rmse, mean_aic, std_aic)\n",
      "Cell \u001B[0;32mIn[9], line 34\u001B[0m, in \u001B[0;36mVAR_bootstrap\u001B[0;34m(data, lags)\u001B[0m\n\u001B[1;32m     32\u001B[0m     coefs[i, :, :, :] \u001B[38;5;241m=\u001B[39m results\u001B[38;5;241m.\u001B[39mcoefs\n\u001B[1;32m     33\u001B[0m     \u001B[38;5;66;03m# rmse_scores[i, :] = rmse(boot_data.iloc[1:, :], results.fittedvalues, axis=0)\u001B[39;00m\n\u001B[0;32m---> 34\u001B[0m     rmse_scores[i, :] \u001B[38;5;241m=\u001B[39m \u001B[43mrmse\u001B[49m\u001B[43m(\u001B[49m\u001B[43mboot_data\u001B[49m\u001B[38;5;241;43m.\u001B[39;49m\u001B[43miloc\u001B[49m\u001B[43m[\u001B[49m\u001B[38;5;241;43m1\u001B[39;49m\u001B[43m:\u001B[49m\u001B[43m,\u001B[49m\u001B[43m \u001B[49m\u001B[43m:\u001B[49m\u001B[43m]\u001B[49m\u001B[43m,\u001B[49m\u001B[43m \u001B[49m\u001B[43mresults\u001B[49m\u001B[38;5;241;43m.\u001B[39;49m\u001B[43mfittedvalues\u001B[49m\u001B[43m,\u001B[49m\u001B[43m \u001B[49m\u001B[43maxis\u001B[49m\u001B[38;5;241;43m=\u001B[39;49m\u001B[38;5;241;43m0\u001B[39;49m\u001B[43m)\u001B[49m\n\u001B[1;32m     35\u001B[0m     aic_scores[i] \u001B[38;5;241m=\u001B[39m results\u001B[38;5;241m.\u001B[39maic\n\u001B[1;32m     37\u001B[0m \u001B[38;5;66;03m# Obliczenie średnich i odchyleń standardowych dla wyników\u001B[39;00m\n",
      "File \u001B[0;32m~/.local/share/virtualenvs/data-science-upskills-eseJr18D/lib/python3.10/site-packages/statsmodels/tools/eval_measures.py:69\u001B[0m, in \u001B[0;36mrmse\u001B[0;34m(x1, x2, axis)\u001B[0m\n\u001B[1;32m     67\u001B[0m x1 \u001B[38;5;241m=\u001B[39m np\u001B[38;5;241m.\u001B[39masanyarray(x1)\n\u001B[1;32m     68\u001B[0m x2 \u001B[38;5;241m=\u001B[39m np\u001B[38;5;241m.\u001B[39masanyarray(x2)\n\u001B[0;32m---> 69\u001B[0m \u001B[38;5;28;01mreturn\u001B[39;00m np\u001B[38;5;241m.\u001B[39msqrt(\u001B[43mmse\u001B[49m\u001B[43m(\u001B[49m\u001B[43mx1\u001B[49m\u001B[43m,\u001B[49m\u001B[43m \u001B[49m\u001B[43mx2\u001B[49m\u001B[43m,\u001B[49m\u001B[43m \u001B[49m\u001B[43maxis\u001B[49m\u001B[38;5;241;43m=\u001B[39;49m\u001B[43maxis\u001B[49m\u001B[43m)\u001B[49m)\n",
      "File \u001B[0;32m~/.local/share/virtualenvs/data-science-upskills-eseJr18D/lib/python3.10/site-packages/statsmodels/tools/eval_measures.py:41\u001B[0m, in \u001B[0;36mmse\u001B[0;34m(x1, x2, axis)\u001B[0m\n\u001B[1;32m     39\u001B[0m x1 \u001B[38;5;241m=\u001B[39m np\u001B[38;5;241m.\u001B[39masanyarray(x1)\n\u001B[1;32m     40\u001B[0m x2 \u001B[38;5;241m=\u001B[39m np\u001B[38;5;241m.\u001B[39masanyarray(x2)\n\u001B[0;32m---> 41\u001B[0m \u001B[38;5;28;01mreturn\u001B[39;00m np\u001B[38;5;241m.\u001B[39mmean((\u001B[43mx1\u001B[49m\u001B[43m \u001B[49m\u001B[38;5;241;43m-\u001B[39;49m\u001B[43m \u001B[49m\u001B[43mx2\u001B[49m) \u001B[38;5;241m*\u001B[39m\u001B[38;5;241m*\u001B[39m \u001B[38;5;241m2\u001B[39m, axis\u001B[38;5;241m=\u001B[39maxis)\n",
      "\u001B[0;31mValueError\u001B[0m: operands could not be broadcast together with shapes (1340,6) (1339,6) "
     ]
    }
   ],
   "source": [
    "import pandas as pd\n",
    "import numpy as np\n",
    "import yfinance as yf\n",
    "from statsmodels.tsa.api import VAR\n",
    "from statsmodels.tools.eval_measures import rmse, aic\n",
    "\n",
    "# Pobranie danych z Yahoo Finance\n",
    "df = yf.download('EURUSD=X', start='2017-01-01', end='2022-02-28', interval='1d')\n",
    "df.dropna(inplace=True)\n",
    "\n",
    "# Model VAR z bootstrapingiem\n",
    "def VAR_bootstrap(data, lags):\n",
    "    # Liczba iteracji bootstrapingu\n",
    "    n_bootstraps = 100\n",
    "\n",
    "    # Inicjalizacja macierzy do przechowywania wyników\n",
    "    n_variables = len(data.columns)\n",
    "    coefs = np.zeros((n_bootstraps, lags, n_variables, n_variables))\n",
    "    rmse_scores = np.zeros((n_bootstraps, n_variables))\n",
    "    aic_scores = np.zeros(n_bootstraps)\n",
    "\n",
    "    # Wykonanie bootstrapingu\n",
    "    for i in range(n_bootstraps):\n",
    "        # Losowe próbkowanie danych\n",
    "        boot_data = data.sample(frac=1, replace=True)\n",
    "\n",
    "        # Dopasowanie modelu VAR\n",
    "        model = VAR(boot_data)\n",
    "        results = model.fit(lags)\n",
    "\n",
    "        # Zapisanie wyników\n",
    "        coefs[i, :, :, :] = results.coefs\n",
    "        # rmse_scores[i, :] = rmse(boot_data.iloc[1:, :], results.fittedvalues, axis=0)\n",
    "        rmse_scores[i, :] = rmse(boot_data.iloc[1:, :], results.fittedvalues, axis=0)\n",
    "        aic_scores[i] = results.aic\n",
    "\n",
    "    # Obliczenie średnich i odchyleń standardowych dla wyników\n",
    "    mean_coefs = np.mean(coefs, axis=0)\n",
    "    std_coefs = np.std(coefs, axis=0)\n",
    "    mean_rmse = np.mean(rmse_scores, axis=0)\n",
    "    std_rmse = np.std(rmse_scores, axis=0)\n",
    "    mean_aic = np.mean(aic_scores)\n",
    "    std_aic = np.std(aic_scores)\n",
    "\n",
    "    # Zwrócenie wyników\n",
    "    return mean_coefs, std_coefs, mean_rmse, std_rmse, mean_aic, std_aic\n",
    "\n",
    "# Przekształcenie danych do postaci zmiennych różnicowych\n",
    "df_diff = df.diff().dropna()\n",
    "\n",
    "# Dopasowanie modelu VAR z bootstrapingiem dla 2 opóźnień (lag)\n",
    "mean_coefs, std_coefs, mean_rmse, std_rmse, mean_aic, std_aic = VAR_bootstrap(df_diff, 2)\n",
    "\n",
    "# Wyświetlenie wyników\n",
    "print(mean_coefs, std_coefs, mean_rmse, std_rmse, mean_aic, std_aic)\n"
   ],
   "metadata": {
    "collapsed": false
   }
  }
 ],
 "metadata": {
  "kernelspec": {
   "display_name": "Python 3",
   "language": "python",
   "name": "python3"
  },
  "language_info": {
   "codemirror_mode": {
    "name": "ipython",
    "version": 2
   },
   "file_extension": ".py",
   "mimetype": "text/x-python",
   "name": "python",
   "nbconvert_exporter": "python",
   "pygments_lexer": "ipython2",
   "version": "2.7.6"
  }
 },
 "nbformat": 4,
 "nbformat_minor": 0
}
