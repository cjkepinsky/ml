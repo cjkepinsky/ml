{
 "cells": [
  {
   "cell_type": "code",
   "execution_count": 1,
   "metadata": {},
   "outputs": [
    {
     "name": "stdout",
     "output_type": "stream",
     "text": [
      "         Date        Open        High         Low       Close   Adj Close  \\\n",
      "0  2020-09-08  113.949997  118.989998  112.680000  112.820000  111.289742   \n",
      "1  2020-09-09  117.260002  119.139999  115.260002  117.320000  115.728691   \n",
      "2  2020-09-10  120.360001  120.500000  112.500000  113.489998  111.950638   \n",
      "3  2020-09-11  114.570000  115.230003  110.000000  112.000000  110.480850   \n",
      "4  2020-09-14  114.720001  115.930000  112.800003  115.360001  113.795273   \n",
      "\n",
      "      Volume  \n",
      "0  231366600  \n",
      "1  176940500  \n",
      "2  182274400  \n",
      "3  180860300  \n",
      "4  140150100  \n"
     ]
    }
   ],
   "source": [
    "import numpy as np\n",
    "import pandas as pd\n",
    "import plotly.graph_objects as go\n",
    "\n",
    "data = pd.read_csv(\"input/AAPL.csv\")\n",
    "print(data.head())"
   ]
  },
  {
   "cell_type": "code",
   "execution_count": null,
   "metadata": {},
   "outputs": [],
   "source": [
    "figure = go.Figure(data=[go.Candlestick(x=data[\"Date\"],\n",
    "                                        open=data[\"Open\"], high=data[\"High\"],\n",
    "                                        low=data[\"Low\"], close=data[\"Close\"])])\n",
    "figure.update_layout(title = \"Apple Stock Price Analysis\", xaxis_rangeslider_visible=False)\n",
    "figure.show()"
   ]
  },
  {
   "cell_type": "code",
   "execution_count": null,
   "metadata": {},
   "outputs": [],
   "source": [
    "print(data.corr())"
   ]
  },
  {
   "cell_type": "code",
   "execution_count": null,
   "metadata": {
    "pycharm": {
     "is_executing": true
    }
   },
   "outputs": [],
   "source": [
    "from autots import AutoTS\n",
    "import pandas as pd\n",
    "import joblib\n",
    "from dslibs.simple_yahoo import get_from_yahoo\n",
    "import sklearn.metrics as skm\n",
    "\n",
    "data = pd.read_csv(\"input/AAPL.csv\")\n",
    "\n",
    "model = AutoTS(forecast_length=30, frequency='infer', ensemble='simple', verbose=0, models_mode=\"deep\", n_jobs=3, initial_template=\"General\")\n",
    "model = model.fit(data, date_col='Date', value_col='Close', id_col=None)\n",
    "prediction = model.predict()\n",
    "forecast = prediction.forecast\n",
    "\n",
    "real = get_from_yahoo('AAPL', '2021-09-09', '2021-10-10')\n",
    "mape = skm.mean_absolute_percentage_error(real['Close'], forecast.values[:, 0])\n",
    "\n",
    "print(model.best_model_name)\n",
    "print(model.best_model_params)\n",
    "\n",
    "joblib.dump(model, \"output/aapl_\"+model.best_model_name+\"_mape_\"+str(mape)+\".joblib\")\n",
    "print(\"Model saved.\")\n",
    "print(\"MAPE: \", mape)\n"
   ]
  },
  {
   "cell_type": "code",
   "execution_count": null,
   "metadata": {},
   "outputs": [],
   "source": [
    "data_2022 = pd.read_csv(\"input/AAPL_2022.csv\")\n",
    "\n",
    "model = model.fit(data_2022, date_col='Date', value_col='Close', id_col=None)\n",
    "prediction = model.predict()\n",
    "forecast = prediction.forecast\n"
   ]
  },
  {
   "cell_type": "code",
   "execution_count": null,
   "metadata": {},
   "outputs": [],
   "source": [
    "# por z https://finance.yahoo.com/quote/AAPL/history?period1=1672531200&period2=1673136000&interval=1d&filter=history&frequency=1d&includeAdjustedClose=true\n",
    "\n",
    "print(forecast)\n"
   ]
  },
  {
   "cell_type": "code",
   "execution_count": null,
   "metadata": {},
   "outputs": [],
   "source": [
    "from dslibs.simple_yahoo import get_from_yahoo\n",
    "\n",
    "real = get_from_yahoo('AAPL', '2021-09-09', '2021-09-15')\n",
    "real"
   ]
  },
  {
   "cell_type": "code",
   "execution_count": null,
   "metadata": {},
   "outputs": [],
   "source": [
    "import sklearn.metrics as skm\n",
    "\n",
    "mae = skm.mean_absolute_error(real['Close'], forecast.values[:, 0])\n",
    "mae"
   ]
  },
  {
   "cell_type": "code",
   "execution_count": null,
   "metadata": {},
   "outputs": [],
   "source": [
    "import joblib\n",
    "\n",
    "joblib.dump(model, \"output/aappl_mae_\"+str(mae)+\".joblib\")\n",
    "\n",
    "print(\"Model saved.\")\n",
    "\n",
    "print(model.best_model_name)\n",
    "print(model.best_model_params)"
   ]
  }
 ],
 "metadata": {
  "kernelspec": {
   "display_name": "ml3.10",
   "language": "python",
   "name": "ml3.10"
  },
  "language_info": {
   "codemirror_mode": {
    "name": "ipython",
    "version": 3
   },
   "file_extension": ".py",
   "mimetype": "text/x-python",
   "name": "python",
   "nbconvert_exporter": "python",
   "pygments_lexer": "ipython3",
   "version": "3.10.10"
  }
 },
 "nbformat": 4,
 "nbformat_minor": 1
}
