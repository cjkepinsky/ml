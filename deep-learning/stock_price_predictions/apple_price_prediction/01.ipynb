{
 "cells": [
  {
   "cell_type": "code",
   "execution_count": 1,
   "metadata": {},
   "outputs": [
    {
     "name": "stdout",
     "output_type": "stream",
     "text": [
      "         Date        Open        High         Low       Close   Adj Close  \\\n",
      "0  2020-09-08  113.949997  118.989998  112.680000  112.820000  111.289742   \n",
      "1  2020-09-09  117.260002  119.139999  115.260002  117.320000  115.728691   \n",
      "2  2020-09-10  120.360001  120.500000  112.500000  113.489998  111.950638   \n",
      "3  2020-09-11  114.570000  115.230003  110.000000  112.000000  110.480850   \n",
      "4  2020-09-14  114.720001  115.930000  112.800003  115.360001  113.795273   \n",
      "\n",
      "      Volume  \n",
      "0  231366600  \n",
      "1  176940500  \n",
      "2  182274400  \n",
      "3  180860300  \n",
      "4  140150100  \n"
     ]
    }
   ],
   "source": [
    "import numpy as np\n",
    "import pandas as pd\n",
    "import plotly.graph_objects as go\n",
    "\n",
    "data = pd.read_csv(\"input/AAPL.csv\")\n",
    "print(data.head())"
   ]
  },
  {
   "cell_type": "code",
   "execution_count": null,
   "metadata": {},
   "outputs": [],
   "source": [
    "figure = go.Figure(data=[go.Candlestick(x=data[\"Date\"],\n",
    "                                        open=data[\"Open\"], high=data[\"High\"],\n",
    "                                        low=data[\"Low\"], close=data[\"Close\"])])\n",
    "figure.update_layout(title = \"Apple Stock Price Analysis\", xaxis_rangeslider_visible=False)\n",
    "figure.show()"
   ]
  },
  {
   "cell_type": "code",
   "execution_count": null,
   "metadata": {},
   "outputs": [],
   "source": [
    "print(data.corr())"
   ]
  },
  {
   "cell_type": "code",
   "execution_count": null,
   "metadata": {},
   "outputs": [
    {
     "name": "stdout",
     "output_type": "stream",
     "text": [
      "Done\n"
     ]
    },
    {
     "name": "stderr",
     "output_type": "stream",
     "text": [
      "2023-04-15 17:32:05.175037: I tensorflow/core/common_runtime/pluggable_device/pluggable_device_factory.cc:306] Could not identify NUMA node of platform GPU ID 0, defaulting to 0. Your kernel may not have been built with NUMA support.\n",
      "2023-04-15 17:32:05.175453: I tensorflow/core/common_runtime/pluggable_device/pluggable_device_factory.cc:272] Created TensorFlow device (/job:localhost/replica:0/task:0/device:GPU:0 with 0 MB memory) -> physical PluggableDevice (device: 0, name: METAL, pci bus id: <undefined>)\n"
     ]
    },
    {
     "name": "stdout",
     "output_type": "stream",
     "text": [
      "Metal device set to: Apple M1\n"
     ]
    },
    {
     "name": "stderr",
     "output_type": "stream",
     "text": [
      "2023-04-15 17:32:07.023750: W tensorflow/tsl/platform/profile_utils/cpu_utils.cc:128] Failed to get CPU frequency: 0 Hz\n",
      "2023-04-15 17:32:09.370859: I tensorflow/core/grappler/optimizers/custom_graph_optimizer_registry.cc:114] Plugin optimizer for device_type GPU is enabled.\n",
      "2023-04-15 17:32:09.656195: I tensorflow/core/grappler/optimizers/custom_graph_optimizer_registry.cc:114] Plugin optimizer for device_type GPU is enabled.\n",
      "2023-04-15 17:32:10.146977: I tensorflow/core/grappler/optimizers/custom_graph_optimizer_registry.cc:114] Plugin optimizer for device_type GPU is enabled.\n",
      "2023-04-15 17:32:11.221383: I tensorflow/core/grappler/optimizers/custom_graph_optimizer_registry.cc:114] Plugin optimizer for device_type GPU is enabled.\n",
      "2023-04-15 17:32:12.551055: W tensorflow/core/framework/op_kernel.cc:1830] OP_REQUIRES failed at xla_ops.cc:418 : NOT_FOUND: could not find registered platform with id: 0x152330510\n",
      "2023-04-15 17:32:12.552720: I tensorflow/core/grappler/optimizers/custom_graph_optimizer_registry.cc:114] Plugin optimizer for device_type GPU is enabled.\n",
      "2023-04-15 17:32:12.567339: W tensorflow/core/framework/op_kernel.cc:1830] OP_REQUIRES failed at xla_ops.cc:418 : NOT_FOUND: could not find registered platform with id: 0x152330510\n"
     ]
    },
    {
     "name": "stdout",
     "output_type": "stream",
     "text": [
      "Template Eval Error: NotFoundError() in model 8: DatepartRegression\n",
      "Template Eval Error: ImportError('GluonTS installation not found or installed version is incompatible with AutoTS.') in model 15: GluonTS\n",
      "Template Eval Error: ImportError('GluonTS installation not found or installed version is incompatible with AutoTS.') in model 16: GluonTS\n",
      "Template Eval Error: ImportError('GluonTS installation not found or installed version is incompatible with AutoTS.') in model 17: GluonTS\n",
      "Template Eval Error: ImportError('GluonTS installation not found or installed version is incompatible with AutoTS.') in model 18: GluonTS\n",
      "Template Eval Error: ImportError('GluonTS installation not found or installed version is incompatible with AutoTS.') in model 19: GluonTS\n",
      "Template Eval Error: ValueError('Only gave one variable to VAR') in model 30: VAR\n",
      "Template Eval Error: ValueError('Only gave one variable to VAR') in model 31: VAR\n",
      "Template Eval Error: ValueError('Only gave one variable to VECM') in model 32: VECM\n",
      "Template Eval Error: ValueError('Only gave one variable to VECM') in model 33: VECM\n",
      "Template Eval Error: ModuleNotFoundError(\"No module named 'fbprophet'\") in model 36: FBProphet\n",
      "Template Eval Error: ImportError('GluonTS installation not found or installed version is incompatible with AutoTS.') in model 37: GluonTS\n",
      "Template Eval Error: ValueError(\"regression_type='User' but not future_regressor supplied.\") in model 39: MultivariateRegression\n",
      "Template Eval Error: ValueError(\"regression_type='User' but no future_regressor passed\") in model 40: DatepartRegression\n",
      "Template Eval Error: ValueError('Only gave one variable to VECM') in model 46: VECM\n",
      "Template Eval Error: ModuleNotFoundError(\"No module named 'fbprophet'\") in model 55: FBProphet\n",
      "Template Eval Error: ValueError('Input X contains NaN.\\nDecisionTreeRegressor does not accept missing values encoded as NaN natively. For supervised learning, you might want to consider sklearn.ensemble.HistGradientBoostingClassifier and Regressor which accept missing values encoded as NaNs natively. Alternatively, it is possible to preprocess the data, for instance by using an imputer transformer in a pipeline or drop samples with missing values. See https://scikit-learn.org/stable/modules/impute.html You can find a list of all estimators that handle NaN values at the following page: https://scikit-learn.org/stable/modules/impute.html#estimators-that-handle-nan-values') in model 60: UnivariateRegression\n",
      "Template Eval Error: ImportError('`arch` package must be installed from pip') in model 61: ARCH\n",
      "Template Eval Error: Exception('Transformer Cointegration failed on fit') in model 73: ARIMA\n"
     ]
    }
   ],
   "source": [
    "from autots import AutoTS\n",
    "import pandas as pd\n",
    "import joblib\n",
    "from dslibs.simple_yahoo import get_from_yahoo\n",
    "import sklearn.metrics as skm\n",
    "\n",
    "data = pd.read_csv(\"input/AAPL.csv\")\n",
    "\n",
    "model = AutoTS(forecast_length=30, frequency='infer', ensemble='simple', verbose=0, models_mode=\"deep\", n_jobs=3, initial_template=\"General\")\n",
    "model = model.fit(data, date_col='Date', value_col='Close', id_col=None)\n",
    "prediction = model.predict()\n",
    "forecast = prediction.forecast\n",
    "\n",
    "real = get_from_yahoo('AAPL', '2021-09-09', '2023-04-14')\n",
    "mape = skm.mean_absolute_percentage_error(real['Close'], forecast.values[:, 0])\n",
    "\n",
    "print(model.best_model_name)\n",
    "print(model.best_model_params)\n",
    "\n",
    "joblib.dump(model, \"output/aapl_\"+model.best_model_name+\"_mape_\"+str(mape)+\".joblib\")\n",
    "print(\"Model saved.\")\n",
    "print(\"MAPE: \", mape)\n"
   ]
  },
  {
   "cell_type": "code",
   "execution_count": null,
   "metadata": {},
   "outputs": [],
   "source": [
    "data_2022 = pd.read_csv(\"input/AAPL_2022.csv\")\n",
    "\n",
    "model = model.fit(data_2022, date_col='Date', value_col='Close', id_col=None)\n",
    "prediction = model.predict()\n",
    "forecast = prediction.forecast\n"
   ]
  },
  {
   "cell_type": "code",
   "execution_count": null,
   "metadata": {},
   "outputs": [],
   "source": [
    "# por z https://finance.yahoo.com/quote/AAPL/history?period1=1672531200&period2=1673136000&interval=1d&filter=history&frequency=1d&includeAdjustedClose=true\n",
    "\n",
    "print(forecast)\n"
   ]
  },
  {
   "cell_type": "code",
   "execution_count": null,
   "metadata": {},
   "outputs": [],
   "source": [
    "from dslibs.simple_yahoo import get_from_yahoo\n",
    "\n",
    "real = get_from_yahoo('AAPL', '2021-09-09', '2021-09-15')\n",
    "real"
   ]
  },
  {
   "cell_type": "code",
   "execution_count": null,
   "metadata": {},
   "outputs": [],
   "source": [
    "import sklearn.metrics as skm\n",
    "\n",
    "mae = skm.mean_absolute_error(real['Close'], forecast.values[:, 0])\n",
    "mae"
   ]
  },
  {
   "cell_type": "code",
   "execution_count": null,
   "metadata": {},
   "outputs": [],
   "source": [
    "import joblib\n",
    "\n",
    "joblib.dump(model, \"output/aappl_mae_\"+str(mae)+\".joblib\")\n",
    "\n",
    "print(\"Model saved.\")\n",
    "\n",
    "print(model.best_model_name)\n",
    "print(model.best_model_params)"
   ]
  }
 ],
 "metadata": {
  "kernelspec": {
   "display_name": "ml3.10",
   "language": "python",
   "name": "ml3.10"
  },
  "language_info": {
   "codemirror_mode": {
    "name": "ipython",
    "version": 3
   },
   "file_extension": ".py",
   "mimetype": "text/x-python",
   "name": "python",
   "nbconvert_exporter": "python",
   "pygments_lexer": "ipython3",
   "version": "3.10.10"
  }
 },
 "nbformat": 4,
 "nbformat_minor": 1
}
