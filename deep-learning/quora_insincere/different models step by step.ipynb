{
 "cells": [
  {
   "cell_type": "code",
   "execution_count": 21,
   "metadata": {
    "collapsed": true
   },
   "outputs": [
    {
     "data": {
      "text/plain": "array(['How did Quebec nationalists see their province as a nation in the 1960s?',\n       'Do you have an adopted dog, how would you encourage people to adopt and not shop?',\n       'Why does velocity affect time? Does velocity affect space geometry?',\n       'How did Otto von Guericke used the Magdeburg hemispheres?',\n       'Can I convert montra helicon D to a mountain bike by just changing the tyres?',\n       'Is Gaza slowly becoming Auschwitz, Dachau or Treblinka for Palestinians?',\n       'Why does Quora automatically ban conservative opinions when reported, but does not do the same for liberal views?',\n       'Is it crazy if I wash or wipe my groceries off? Germs are everywhere.',\n       'Is there such a thing as dressing moderately, and if so, how is that different than dressing modestly?',\n       'Is it just me or have you ever been in this phase wherein you became ignorant to the people you once loved, completely disregarding their feelings/lives so you get to have something go your way and feel temporarily at ease. How did things change?'],\n      dtype=object)"
     },
     "execution_count": 21,
     "metadata": {},
     "output_type": "execute_result"
    }
   ],
   "source": [
    "# https://www.kaggle.com/code/rajsing/quora-text-classification\n",
    "import pandas as pd\n",
    "\n",
    "data_dir = './input'\n",
    "train = data_dir + '/train.csv'\n",
    "test = data_dir + '/test.csv'\n",
    "\n",
    "# sub_df = pd.read_csv(sample)\n",
    "test_df = pd.read_csv(test)\n",
    "raw_df = pd.read_csv(train)\n",
    "# raw_df\n",
    "\n",
    "insincere_df = raw_df[raw_df.target==1]\n",
    "# insincere_df.question_text.values[:10]\n",
    "\n",
    "sincere_df = raw_df[raw_df.target==0]\n",
    "sincere_df.question_text.values[:10]"
   ]
  },
  {
   "cell_type": "code",
   "execution_count": 15,
   "outputs": [
    {
     "data": {
      "text/plain": "<AxesSubplot: >"
     },
     "execution_count": 15,
     "metadata": {},
     "output_type": "execute_result"
    },
    {
     "data": {
      "text/plain": "<Figure size 640x480 with 1 Axes>",
      "image/png": "[encoded data removed]"
     },
     "metadata": {},
     "output_type": "display_data"
    }
   ],
   "source": [
    "raw_df.target.value_counts(normalize=True)\n",
    "raw_df.target.value_counts(normalize=True).plot(kind='bar')"
   ],
   "metadata": {
    "collapsed": false
   }
  },
  {
   "cell_type": "code",
   "execution_count": 16,
   "outputs": [
    {
     "data": {
      "text/plain": "                         qid  \\\n0       0000163e3ea7c7a74cd7   \n1       00002bd4fb5d505b9161   \n2       00007756b4a147d2b0b3   \n3       000086e4b7e1c7146103   \n4       0000c4c3fbe8785a3090   \n...                      ...   \n375801  ffff7fa746bd6d6197a9   \n375802  ffffa1be31c43046ab6b   \n375803  ffffae173b6ca6bfa563   \n375804  ffffb1f7f1a008620287   \n375805  fffff85473f4699474b0   \n\n                                            question_text  \n0       Why do so many women become so rude and arroga...  \n1       When should I apply for RV college of engineer...  \n2       What is it really like to be a nurse practitio...  \n3                                  Who are entrepreneurs?  \n4        Is education really making good people nowadays?  \n...                                                   ...  \n375801  How many countries listed in gold import in in...  \n375802  Is there an alternative to dresses on formal p...  \n375803  Where I can find best friendship quotes in Tel...  \n375804        What are the causes of refraction of light?  \n375805  Climate change is a worrying topic. How much t...  \n\n[375806 rows x 2 columns]",
      "text/html": "<div>\n<style scoped>\n    .dataframe tbody tr th:only-of-type {\n        vertical-align: middle;\n    }\n\n    .dataframe tbody tr th {\n        vertical-align: top;\n    }\n\n    .dataframe thead th {\n        text-align: right;\n    }\n</style>\n<table border=\"1\" class=\"dataframe\">\n  <thead>\n    <tr style=\"text-align: right;\">\n      <th></th>\n      <th>qid</th>\n      <th>question_text</th>\n    </tr>\n  </thead>\n  <tbody>\n    <tr>\n      <th>0</th>\n      <td>0000163e3ea7c7a74cd7</td>\n      <td>Why do so many women become so rude and arroga...</td>\n    </tr>\n    <tr>\n      <th>1</th>\n      <td>00002bd4fb5d505b9161</td>\n      <td>When should I apply for RV college of engineer...</td>\n    </tr>\n    <tr>\n      <th>2</th>\n      <td>00007756b4a147d2b0b3</td>\n      <td>What is it really like to be a nurse practitio...</td>\n    </tr>\n    <tr>\n      <th>3</th>\n      <td>000086e4b7e1c7146103</td>\n      <td>Who are entrepreneurs?</td>\n    </tr>\n    <tr>\n      <th>4</th>\n      <td>0000c4c3fbe8785a3090</td>\n      <td>Is education really making good people nowadays?</td>\n    </tr>\n    <tr>\n      <th>...</th>\n      <td>...</td>\n      <td>...</td>\n    </tr>\n    <tr>\n      <th>375801</th>\n      <td>ffff7fa746bd6d6197a9</td>\n      <td>How many countries listed in gold import in in...</td>\n    </tr>\n    <tr>\n      <th>375802</th>\n      <td>ffffa1be31c43046ab6b</td>\n      <td>Is there an alternative to dresses on formal p...</td>\n    </tr>\n    <tr>\n      <th>375803</th>\n      <td>ffffae173b6ca6bfa563</td>\n      <td>Where I can find best friendship quotes in Tel...</td>\n    </tr>\n    <tr>\n      <th>375804</th>\n      <td>ffffb1f7f1a008620287</td>\n      <td>What are the causes of refraction of light?</td>\n    </tr>\n    <tr>\n      <th>375805</th>\n      <td>fffff85473f4699474b0</td>\n      <td>Climate change is a worrying topic. How much t...</td>\n    </tr>\n  </tbody>\n</table>\n<p>375806 rows × 2 columns</p>\n</div>"
     },
     "execution_count": 16,
     "metadata": {},
     "output_type": "execute_result"
    }
   ],
   "source": [
    "test_df"
   ],
   "metadata": {
    "collapsed": false
   }
  },
  {
   "cell_type": "code",
   "execution_count": 4,
   "outputs": [
    {
     "data": {
      "text/plain": "                          qid  \\\n443046   56d324bb1e2c29f43b12   \n947549   b9ad893dc78c577f8a63   \n523769   6689ebaeeb65b209a412   \n949821   ba1e2c4a0fef09671516   \n1030397  c9ea2b69bf0d74626f46   \n...                       ...   \n998930   c3c03a307a29c69971b4   \n66641    0d119aba95ee6684f506   \n90024    11a46cd148a104b271cf   \n130113   1973e6e2111a0c93193a   \n1137     0037ed037520d82393c0   \n\n                                             question_text  target  \n443046   What is the most effective classroom managemen...       0  \n947549   Can I study abroad after 10th class from Bangl...       0  \n523769         How can I make friends as a college junior?       0  \n949821   How do I download free APK Minecraft: Pocket E...       0  \n1030397  Like Kuvera, is \"Groww\" also a free online inv...       0  \n...                                                    ...     ...  \n998930   How do I research list of reliable charcoal im...       0  \n66641    What are petroleum products, and what is petro...       0  \n90024    What are some services that will let you quick...       0  \n130113   What credit card processors do online marketpl...       0  \n1137          On which number system does a computer work?       0  \n\n[100000 rows x 3 columns]",
      "text/html": "<div>\n<style scoped>\n    .dataframe tbody tr th:only-of-type {\n        vertical-align: middle;\n    }\n\n    .dataframe tbody tr th {\n        vertical-align: top;\n    }\n\n    .dataframe thead th {\n        text-align: right;\n    }\n</style>\n<table border=\"1\" class=\"dataframe\">\n  <thead>\n    <tr style=\"text-align: right;\">\n      <th></th>\n      <th>qid</th>\n      <th>question_text</th>\n      <th>target</th>\n    </tr>\n  </thead>\n  <tbody>\n    <tr>\n      <th>443046</th>\n      <td>56d324bb1e2c29f43b12</td>\n      <td>What is the most effective classroom managemen...</td>\n      <td>0</td>\n    </tr>\n    <tr>\n      <th>947549</th>\n      <td>b9ad893dc78c577f8a63</td>\n      <td>Can I study abroad after 10th class from Bangl...</td>\n      <td>0</td>\n    </tr>\n    <tr>\n      <th>523769</th>\n      <td>6689ebaeeb65b209a412</td>\n      <td>How can I make friends as a college junior?</td>\n      <td>0</td>\n    </tr>\n    <tr>\n      <th>949821</th>\n      <td>ba1e2c4a0fef09671516</td>\n      <td>How do I download free APK Minecraft: Pocket E...</td>\n      <td>0</td>\n    </tr>\n    <tr>\n      <th>1030397</th>\n      <td>c9ea2b69bf0d74626f46</td>\n      <td>Like Kuvera, is \"Groww\" also a free online inv...</td>\n      <td>0</td>\n    </tr>\n    <tr>\n      <th>...</th>\n      <td>...</td>\n      <td>...</td>\n      <td>...</td>\n    </tr>\n    <tr>\n      <th>998930</th>\n      <td>c3c03a307a29c69971b4</td>\n      <td>How do I research list of reliable charcoal im...</td>\n      <td>0</td>\n    </tr>\n    <tr>\n      <th>66641</th>\n      <td>0d119aba95ee6684f506</td>\n      <td>What are petroleum products, and what is petro...</td>\n      <td>0</td>\n    </tr>\n    <tr>\n      <th>90024</th>\n      <td>11a46cd148a104b271cf</td>\n      <td>What are some services that will let you quick...</td>\n      <td>0</td>\n    </tr>\n    <tr>\n      <th>130113</th>\n      <td>1973e6e2111a0c93193a</td>\n      <td>What credit card processors do online marketpl...</td>\n      <td>0</td>\n    </tr>\n    <tr>\n      <th>1137</th>\n      <td>0037ed037520d82393c0</td>\n      <td>On which number system does a computer work?</td>\n      <td>0</td>\n    </tr>\n  </tbody>\n</table>\n<p>100000 rows × 3 columns</p>\n</div>"
     },
     "execution_count": 4,
     "metadata": {},
     "output_type": "execute_result"
    }
   ],
   "source": [
    "SAMPLE_SIZE = 100_000\n",
    "sample_df = raw_df.sample(SAMPLE_SIZE, random_state=42)\n",
    "sample_df"
   ],
   "metadata": {
    "collapsed": false
   }
  },
  {
   "cell_type": "code",
   "execution_count": 18,
   "outputs": [
    {
     "data": {
      "text/plain": "<AxesSubplot: >"
     },
     "execution_count": 18,
     "metadata": {},
     "output_type": "execute_result"
    },
    {
     "data": {
      "text/plain": "<Figure size 640x480 with 1 Axes>",
      "image/png": "[encoded data removed]"
     },
     "metadata": {},
     "output_type": "display_data"
    }
   ],
   "source": [
    "sample_df.target.value_counts(normalize=True).plot(kind='bar')"
   ],
   "metadata": {
    "collapsed": false
   }
  },
  {
   "cell_type": "code",
   "execution_count": 5,
   "outputs": [
    {
     "data": {
      "text/plain": "'Do you have an adopted dog, how would you encourage people to adopt and not shop?'"
     },
     "execution_count": 5,
     "metadata": {},
     "output_type": "execute_result"
    }
   ],
   "source": [
    "q0 = sincere_df.question_text.values[1]\n",
    "q0"
   ],
   "metadata": {
    "collapsed": false
   }
  },
  {
   "cell_type": "code",
   "execution_count": 6,
   "outputs": [
    {
     "data": {
      "text/plain": "'Has the United States become the largest dictatorship in the world?'"
     },
     "execution_count": 6,
     "metadata": {},
     "output_type": "execute_result"
    }
   ],
   "source": [
    "q1 = raw_df[raw_df.target==1].question_text.values[0]\n",
    "q1"
   ],
   "metadata": {
    "collapsed": false
   }
  },
  {
   "cell_type": "code",
   "execution_count": 20,
   "outputs": [
    {
     "name": "stderr",
     "output_type": "stream",
     "text": [
      "[nltk_data] Downloading package punkt to /Users/kkepins-\n",
      "[nltk_data]     macwro_1/nltk_data...\n",
      "[nltk_data]   Package punkt is already up-to-date!\n"
     ]
    },
    {
     "ename": "TypeError",
     "evalue": "list.count() takes exactly one argument (0 given)",
     "output_type": "error",
     "traceback": [
      "\u001B[0;31m---------------------------------------------------------------------------\u001B[0m",
      "\u001B[0;31mTypeError\u001B[0m                                 Traceback (most recent call last)",
      "Cell \u001B[0;32mIn[20], line 14\u001B[0m\n\u001B[1;32m     11\u001B[0m q0_tok \u001B[38;5;241m=\u001B[39m word_tokenize(q0)\n\u001B[1;32m     12\u001B[0m q1_tok \u001B[38;5;241m=\u001B[39m word_tokenize(q1)\n\u001B[0;32m---> 14\u001B[0m \u001B[43mq0_tok\u001B[49m\u001B[38;5;241;43m.\u001B[39;49m\u001B[43mcount\u001B[49m\u001B[43m(\u001B[49m\u001B[43m)\u001B[49m\n",
      "\u001B[0;31mTypeError\u001B[0m: list.count() takes exactly one argument (0 given)"
     ]
    }
   ],
   "source": [
    "# Text Preprocessing Techniques\n",
    "\n",
    "# Tokenization\n",
    "# splitting a documents into words and separators\n",
    "\n",
    "from nltk.tokenize import word_tokenize\n",
    "import nltk\n",
    "\n",
    "nltk.download('punkt')\n",
    "\n",
    "q0_tok = word_tokenize(q0)\n",
    "q1_tok = word_tokenize(q1)\n",
    "\n",
    "q0_tok"
   ],
   "metadata": {
    "collapsed": false
   }
  },
  {
   "cell_type": "code",
   "execution_count": 9,
   "outputs": [
    {
     "name": "stdout",
     "output_type": "stream",
     "text": [
      "i,me,my,myself,we,our,ours,ourselves,you,you're,you've,you'll,you'd,your,yours,yourself,yourselves,he,him,his,himself,she,she's,her,hers,herself,it,it's,its,itself,they,them,their,theirs,themselves,what,which,who,whom,this,that,that'll,these,those,am,is,are,was,were,be,been,being,have,has,had,having,do,does,did,doing,a,an,the,and,but,if,or,because,as,until,while,of,at,by,for,with,about,against,between,into,through,during,before,after,above,below,to,from,up,down,in,out,on,off,over,under,again,further,then,once,here,there,when,where,why,how,all,any,both,each,few,more,most,other,some,such,no,nor,not,only,own,same,so,than,too,very,s,t,can,will,just,don,don't,should,should've,now,d,ll,m,o,re,ve,y,ain,aren,aren't,couldn,couldn't,didn,didn't,doesn,doesn't,hadn,hadn't,hasn,hasn't,haven,haven't,isn,isn't,ma,mightn,mightn't,mustn,mustn't,needn,needn't,shan,shan't,shouldn,shouldn't,wasn,wasn't,weren,weren't,won,won't,wouldn,wouldn't\n",
      "['adopted', 'dog', ',', 'would', 'encourage', 'people', 'adopt', 'shop', '?']\n"
     ]
    },
    {
     "name": "stderr",
     "output_type": "stream",
     "text": [
      "[nltk_data] Downloading package stopwords to /Users/kkepins-\n",
      "[nltk_data]     macwro_1/nltk_data...\n",
      "[nltk_data]   Package stopwords is already up-to-date!\n"
     ]
    }
   ],
   "source": [
    "# stopwords\n",
    "from nltk.corpus import stopwords\n",
    "\n",
    "nltk.download('stopwords')\n",
    "english_words = stopwords.words('english')\n",
    "\n",
    "print(\",\".join(english_words))\n",
    "\n",
    "def remove_stopwords(tokens):\n",
    "    return [word for word in tokens if word.lower() not in english_words]\n",
    "\n",
    "q0_stp = remove_stopwords(q0_tok)\n",
    "q1_stp = remove_stopwords(q1_tok)\n",
    "print(q0_stp)\n"
   ],
   "metadata": {
    "collapsed": false
   }
  },
  {
   "cell_type": "code",
   "execution_count": 11,
   "outputs": [
    {
     "name": "stdout",
     "output_type": "stream",
     "text": [
      "go\n",
      "suppos\n",
      "['adopt', 'dog', ',', 'would', 'encourag', 'peopl', 'adopt', 'shop', '?']\n"
     ]
    }
   ],
   "source": [
    "# Stemmanization\n",
    "\n",
    "from nltk.stem.snowball import SnowballStemmer\n",
    "stemmer = SnowballStemmer(language='english')\n",
    "print(stemmer.stem('going'))\n",
    "print(stemmer.stem('supposedly'))\n",
    "\n",
    "q0_stm = [stemmer.stem(word) for word in q0_stp]\n",
    "q1_stm = [stemmer.stem(word) for word in q1_stp]\n",
    "print(q0_stm)\n"
   ],
   "metadata": {
    "collapsed": false
   }
  },
  {
   "cell_type": "code",
   "execution_count": 12,
   "outputs": [
    {
     "name": "stdout",
     "output_type": "stream",
     "text": [
      "['What is the most effective classroom management skill/technique to create a good learning environment?'\n",
      " 'Can I study abroad after 10th class from Bangladesh?'\n",
      " 'How can I make friends as a college junior?'\n",
      " 'How do I download free APK Minecraft: Pocket Edition for iOS (iPhone)?'\n",
      " 'Like Kuvera, is \"Groww\" also a free online investment platform where I can invest in direct mutual funds?']\n",
      "{'what': 49, 'is': 31, 'the': 47, 'most': 39, 'effective': 16, 'classroom': 9, 'management': 37, 'skill': 44, 'technique': 46, 'to': 48, 'create': 11, 'good': 23, 'learning': 34, 'environment': 17, 'can': 7, 'study': 45, 'abroad': 1, 'after': 2, '10th': 0, 'class': 8, 'from': 21, 'bangladesh': 6, 'how': 25, 'make': 36, 'friends': 20, 'as': 5, 'college': 10, 'junior': 32, 'do': 13, 'download': 14, 'free': 19, 'apk': 4, 'minecraft': 38, 'pocket': 43, 'edition': 15, 'for': 18, 'ios': 29, 'iphone': 30, 'like': 35, 'kuvera': 33, 'groww': 24, 'also': 3, 'online': 41, 'investment': 28, 'platform': 42, 'where': 50, 'invest': 27, 'in': 26, 'direct': 12, 'mutual': 40, 'funds': 22}\n",
      "['10th' 'abroad' 'after' 'also' 'apk' 'as' 'bangladesh' 'can' 'class'\n",
      " 'classroom' 'college' 'create' 'direct' 'do' 'download' 'edition'\n",
      " 'effective' 'environment' 'for' 'free' 'friends' 'from' 'funds' 'good'\n",
      " 'groww' 'how' 'in' 'invest' 'investment' 'ios' 'iphone' 'is' 'junior'\n",
      " 'kuvera' 'learning' 'like' 'make' 'management' 'minecraft' 'most'\n",
      " 'mutual' 'online' 'platform' 'pocket' 'skill' 'study' 'technique' 'the'\n",
      " 'to' 'what' 'where']\n",
      "51\n"
     ]
    }
   ],
   "source": [
    "# Lemanization\n",
    "# 'love'->'love' 'lovely'->'love' 'loved'->'love'\n",
    "# Implementation BagOfheader\n",
    "# 1. Create a vocubulary using CountVectorizer\n",
    "# 2. transform text to vector using CountVectorizer\n",
    "# 3.Configure text preprocessing using CountVectorizer\n",
    "from sklearn.feature_extraction.text import CountVectorizer\n",
    "\n",
    "small_df = sample_df[:5]\n",
    "print(small_df.question_text.values)\n",
    "\n",
    "small_vect = CountVectorizer()\n",
    "small_vect.fit(small_df.question_text)\n",
    "\n",
    "print(small_vect.vocabulary_)\n",
    "print(small_vect.get_feature_names_out())\n",
    "print(len(small_vect.get_feature_names_out()))\n"
   ],
   "metadata": {
    "collapsed": false
   }
  },
  {
   "cell_type": "code",
   "execution_count": 13,
   "outputs": [
    {
     "name": "stdout",
     "output_type": "stream",
     "text": [
      "[[0 0 0 0 0 0 0 0 0 1 0 1 0 0 0 0 1 1 0 0 0 0 0 1 0 0 0 0 0 0 0 1 0 0 1 0\n",
      "  0 1 0 1 0 0 0 0 1 0 1 1 1 1 0]\n",
      " [1 1 1 0 0 0 1 1 1 0 0 0 0 0 0 0 0 0 0 0 0 1 0 0 0 0 0 0 0 0 0 0 0 0 0 0\n",
      "  0 0 0 0 0 0 0 0 0 1 0 0 0 0 0]\n",
      " [0 0 0 0 0 1 0 1 0 0 1 0 0 0 0 0 0 0 0 0 1 0 0 0 0 1 0 0 0 0 0 0 1 0 0 0\n",
      "  1 0 0 0 0 0 0 0 0 0 0 0 0 0 0]\n",
      " [0 0 0 0 1 0 0 0 0 0 0 0 0 1 1 1 0 0 1 1 0 0 0 0 0 1 0 0 0 1 1 0 0 0 0 0\n",
      "  0 0 1 0 0 0 0 1 0 0 0 0 0 0 0]\n",
      " [0 0 0 1 0 0 0 1 0 0 0 0 1 0 0 0 0 0 0 1 0 0 1 0 1 0 1 1 1 0 0 1 0 1 0 1\n",
      "  0 0 0 0 1 1 1 0 0 0 0 0 0 0 1]]\n",
      "51\n"
     ]
    }
   ],
   "source": [
    "vectors = small_vect.transform(small_df.question_text)\n",
    "print(vectors.toarray())\n",
    "print(len(vectors.toarray()[0]))"
   ],
   "metadata": {
    "collapsed": false
   }
  },
  {
   "cell_type": "code",
   "execution_count": 14,
   "outputs": [
    {
     "data": {
      "text/plain": "['what', 'is', 'the', 'realli', '(', 'deal', ')', 'here', '?']"
     },
     "execution_count": 14,
     "metadata": {},
     "output_type": "execute_result"
    }
   ],
   "source": [
    "stemmer = SnowballStemmer(language='english')\n",
    "\n",
    "def tokenizer(text):\n",
    "    return [stemmer.stem(word) for word in word_tokenize(text) ]\n",
    "\n",
    "tokenizer('What is the really (dealing) here?')\n"
   ],
   "metadata": {
    "collapsed": false
   }
  },
  {
   "cell_type": "code",
   "execution_count": 15,
   "outputs": [
    {
     "name": "stderr",
     "output_type": "stream",
     "text": [
      "/Users/kkepins-macwro_1/.local/share/virtualenvs/data-science-upskills-eseJr18D/lib/python3.10/site-packages/sklearn/feature_extraction/text.py:528: UserWarning: The parameter 'token_pattern' will not be used since 'tokenizer' is not None'\n",
      "  warnings.warn(\n",
      "/Users/kkepins-macwro_1/.local/share/virtualenvs/data-science-upskills-eseJr18D/lib/python3.10/site-packages/sklearn/feature_extraction/text.py:409: UserWarning: Your stop_words may be inconsistent with your preprocessing. Tokenizing the stop words generated tokens [\"'d\", \"'s\", 'abov', 'ani', 'becaus', 'befor', 'could', 'doe', 'dure', 'might', 'must', \"n't\", 'need', 'onc', 'onli', 'ourselv', 'sha', 'themselv', 'veri', 'whi', 'wo', 'would', 'yourselv'] not in stop_words.\n",
      "  warnings.warn(\n"
     ]
    },
    {
     "data": {
      "text/plain": "CountVectorizer(max_features=1000,\n                stop_words=['i', 'me', 'my', 'myself', 'we', 'our', 'ours',\n                            'ourselves', 'you', \"you're\", \"you've\", \"you'll\",\n                            \"you'd\", 'your', 'yours', 'yourself', 'yourselves',\n                            'he', 'him', 'his', 'himself', 'she', \"she's\",\n                            'her', 'hers', 'herself', 'it', \"it's\", 'its',\n                            'itself', ...],\n                tokenizer=<function tokenizer at 0x29a691ea0>)",
      "text/html": "<style>#sk-container-id-1 {color: black;background-color: white;}#sk-container-id-1 pre{padding: 0;}#sk-container-id-1 div.sk-toggleable {background-color: white;}#sk-container-id-1 label.sk-toggleable__label {cursor: pointer;display: block;width: 100%;margin-bottom: 0;padding: 0.3em;box-sizing: border-box;text-align: center;}#sk-container-id-1 label.sk-toggleable__label-arrow:before {content: \"▸\";float: left;margin-right: 0.25em;color: #696969;}#sk-container-id-1 label.sk-toggleable__label-arrow:hover:before {color: black;}#sk-container-id-1 div.sk-estimator:hover label.sk-toggleable__label-arrow:before {color: black;}#sk-container-id-1 div.sk-toggleable__content {max-height: 0;max-width: 0;overflow: hidden;text-align: left;background-color: #f0f8ff;}#sk-container-id-1 div.sk-toggleable__content pre {margin: 0.2em;color: black;border-radius: 0.25em;background-color: #f0f8ff;}#sk-container-id-1 input.sk-toggleable__control:checked~div.sk-toggleable__content {max-height: 200px;max-width: 100%;overflow: auto;}#sk-container-id-1 input.sk-toggleable__control:checked~label.sk-toggleable__label-arrow:before {content: \"▾\";}#sk-container-id-1 div.sk-estimator input.sk-toggleable__control:checked~label.sk-toggleable__label {background-color: #d4ebff;}#sk-container-id-1 div.sk-label input.sk-toggleable__control:checked~label.sk-toggleable__label {background-color: #d4ebff;}#sk-container-id-1 input.sk-hidden--visually {border: 0;clip: rect(1px 1px 1px 1px);clip: rect(1px, 1px, 1px, 1px);height: 1px;margin: -1px;overflow: hidden;padding: 0;position: absolute;width: 1px;}#sk-container-id-1 div.sk-estimator {font-family: monospace;background-color: #f0f8ff;border: 1px dotted black;border-radius: 0.25em;box-sizing: border-box;margin-bottom: 0.5em;}#sk-container-id-1 div.sk-estimator:hover {background-color: #d4ebff;}#sk-container-id-1 div.sk-parallel-item::after {content: \"\";width: 100%;border-bottom: 1px solid gray;flex-grow: 1;}#sk-container-id-1 div.sk-label:hover label.sk-toggleable__label {background-color: #d4ebff;}#sk-container-id-1 div.sk-serial::before {content: \"\";position: absolute;border-left: 1px solid gray;box-sizing: border-box;top: 0;bottom: 0;left: 50%;z-index: 0;}#sk-container-id-1 div.sk-serial {display: flex;flex-direction: column;align-items: center;background-color: white;padding-right: 0.2em;padding-left: 0.2em;position: relative;}#sk-container-id-1 div.sk-item {position: relative;z-index: 1;}#sk-container-id-1 div.sk-parallel {display: flex;align-items: stretch;justify-content: center;background-color: white;position: relative;}#sk-container-id-1 div.sk-item::before, #sk-container-id-1 div.sk-parallel-item::before {content: \"\";position: absolute;border-left: 1px solid gray;box-sizing: border-box;top: 0;bottom: 0;left: 50%;z-index: -1;}#sk-container-id-1 div.sk-parallel-item {display: flex;flex-direction: column;z-index: 1;position: relative;background-color: white;}#sk-container-id-1 div.sk-parallel-item:first-child::after {align-self: flex-end;width: 50%;}#sk-container-id-1 div.sk-parallel-item:last-child::after {align-self: flex-start;width: 50%;}#sk-container-id-1 div.sk-parallel-item:only-child::after {width: 0;}#sk-container-id-1 div.sk-dashed-wrapped {border: 1px dashed gray;margin: 0 0.4em 0.5em 0.4em;box-sizing: border-box;padding-bottom: 0.4em;background-color: white;}#sk-container-id-1 div.sk-label label {font-family: monospace;font-weight: bold;display: inline-block;line-height: 1.2em;}#sk-container-id-1 div.sk-label-container {text-align: center;}#sk-container-id-1 div.sk-container {/* jupyter's `normalize.less` sets `[hidden] { display: none; }` but bootstrap.min.css set `[hidden] { display: none !important; }` so we also need the `!important` here to be able to override the default hidden behavior on the sphinx rendered scikit-learn.org. See: https://github.com/scikit-learn/scikit-learn/issues/21755 */display: inline-block !important;position: relative;}#sk-container-id-1 div.sk-text-repr-fallback {display: none;}</style><div id=\"sk-container-id-1\" class=\"sk-top-container\"><div class=\"sk-text-repr-fallback\"><pre>CountVectorizer(max_features=1000,\n                stop_words=[&#x27;i&#x27;, &#x27;me&#x27;, &#x27;my&#x27;, &#x27;myself&#x27;, &#x27;we&#x27;, &#x27;our&#x27;, &#x27;ours&#x27;,\n                            &#x27;ourselves&#x27;, &#x27;you&#x27;, &quot;you&#x27;re&quot;, &quot;you&#x27;ve&quot;, &quot;you&#x27;ll&quot;,\n                            &quot;you&#x27;d&quot;, &#x27;your&#x27;, &#x27;yours&#x27;, &#x27;yourself&#x27;, &#x27;yourselves&#x27;,\n                            &#x27;he&#x27;, &#x27;him&#x27;, &#x27;his&#x27;, &#x27;himself&#x27;, &#x27;she&#x27;, &quot;she&#x27;s&quot;,\n                            &#x27;her&#x27;, &#x27;hers&#x27;, &#x27;herself&#x27;, &#x27;it&#x27;, &quot;it&#x27;s&quot;, &#x27;its&#x27;,\n                            &#x27;itself&#x27;, ...],\n                tokenizer=&lt;function tokenizer at 0x29a691ea0&gt;)</pre><b>In a Jupyter environment, please rerun this cell to show the HTML representation or trust the notebook. <br />On GitHub, the HTML representation is unable to render, please try loading this page with nbviewer.org.</b></div><div class=\"sk-container\" hidden><div class=\"sk-item\"><div class=\"sk-estimator sk-toggleable\"><input class=\"sk-toggleable__control sk-hidden--visually\" id=\"sk-estimator-id-1\" type=\"checkbox\" checked><label for=\"sk-estimator-id-1\" class=\"sk-toggleable__label sk-toggleable__label-arrow\">CountVectorizer</label><div class=\"sk-toggleable__content\"><pre>CountVectorizer(max_features=1000,\n                stop_words=[&#x27;i&#x27;, &#x27;me&#x27;, &#x27;my&#x27;, &#x27;myself&#x27;, &#x27;we&#x27;, &#x27;our&#x27;, &#x27;ours&#x27;,\n                            &#x27;ourselves&#x27;, &#x27;you&#x27;, &quot;you&#x27;re&quot;, &quot;you&#x27;ve&quot;, &quot;you&#x27;ll&quot;,\n                            &quot;you&#x27;d&quot;, &#x27;your&#x27;, &#x27;yours&#x27;, &#x27;yourself&#x27;, &#x27;yourselves&#x27;,\n                            &#x27;he&#x27;, &#x27;him&#x27;, &#x27;his&#x27;, &#x27;himself&#x27;, &#x27;she&#x27;, &quot;she&#x27;s&quot;,\n                            &#x27;her&#x27;, &#x27;hers&#x27;, &#x27;herself&#x27;, &#x27;it&#x27;, &quot;it&#x27;s&quot;, &#x27;its&#x27;,\n                            &#x27;itself&#x27;, ...],\n                tokenizer=&lt;function tokenizer at 0x29a691ea0&gt;)</pre></div></div></div></div></div>"
     },
     "execution_count": 15,
     "metadata": {},
     "output_type": "execute_result"
    }
   ],
   "source": [
    "import time\n",
    "vectorizer = CountVectorizer(lowercase=True,tokenizer=tokenizer, stop_words=english_words, max_features=1000)\n",
    "\n",
    "vectorizer.fit(sample_df.question_text)"
   ],
   "metadata": {
    "collapsed": false
   }
  },
  {
   "cell_type": "code",
   "execution_count": 16,
   "outputs": [
    {
     "name": "stdout",
     "output_type": "stream",
     "text": [
      "1000\n",
      "['!' '$' '%' '&' \"'\" \"''\" \"'m\" \"'s\" '(' ')' ',' '-' '.' '1' '10' '100'\n",
      " '12' '12th' '15' '2' '20' '2017' '2018' '3' '4' '5' '6' '7' '8' ':' '?'\n",
      " '[' ']' '``' 'abl' 'abroad' 'abus' 'accept' 'access' 'accomplish'\n",
      " 'accord' 'account' 'achiev' 'act' 'action' 'activ' 'actor' 'actual' 'ad'\n",
      " 'add' 'address' 'admiss' 'adult' 'advanc' 'advantag' 'advic' 'affect'\n",
      " 'africa' 'african' 'age' 'agre' 'air' 'allow' 'almost' 'alon' 'alreadi'\n",
      " 'also' 'altern' 'alway' 'amazon' 'america' 'american' 'amount' 'analysi'\n",
      " 'android' 'ani' 'anim' 'anoth' 'answer' 'anxieti' 'anyon' 'anyth' 'apart'\n",
      " 'app' 'appear' 'appl' 'appli' 'applic' 'approach' 'arab' 'area' 'armi'\n",
      " 'around' 'art' 'asian' 'ask' 'associ' 'atheist' 'attack' 'attend']\n"
     ]
    }
   ],
   "source": [
    "print(len(vectorizer.vocabulary_))\n",
    "print(vectorizer.get_feature_names_out()[:100])\n"
   ],
   "metadata": {
    "collapsed": false
   }
  },
  {
   "cell_type": "code",
   "execution_count": 17,
   "outputs": [
    {
     "data": {
      "text/plain": "(100000, 1000)"
     },
     "execution_count": 17,
     "metadata": {},
     "output_type": "execute_result"
    }
   ],
   "source": [
    "inputs = vectorizer.transform(sample_df.question_text)\n",
    "inputs.shape\n"
   ],
   "metadata": {
    "collapsed": false
   }
  },
  {
   "cell_type": "code",
   "execution_count": 23,
   "outputs": [
    {
     "name": "stdout",
     "output_type": "stream",
     "text": [
      "  (0, 30)\t1\n",
      "  (0, 157)\t1\n",
      "  (0, 293)\t1\n",
      "  (0, 307)\t1\n",
      "  (0, 394)\t1\n",
      "  (0, 488)\t1\n",
      "  (0, 551)\t1\n",
      "  (0, 625)\t1\n",
      "  (0, 781)\t1\n",
      "  (1, 30)\t1\n",
      "  (2, 19)\t1\n",
      "  (2, 23)\t1\n",
      "  (2, 25)\t1\n",
      "  (2, 27)\t1\n",
      "  (2, 30)\t1\n",
      "  (2, 511)\t1\n",
      "  (2, 622)\t1\n",
      "  (3, 30)\t1\n",
      "  (3, 124)\t1\n",
      "  (4, 30)\t1\n",
      "  (4, 138)\t1\n",
      "  (4, 237)\t1\n",
      "  (5, 30)\t1\n",
      "  (5, 402)\t1\n",
      "  (5, 441)\t1\n",
      "  :\t:\n",
      "  (69995, 984)\t1\n",
      "  (69996, 3)\t1\n",
      "  (69996, 8)\t1\n",
      "  (69996, 9)\t1\n",
      "  (69996, 30)\t2\n",
      "  (69996, 198)\t1\n",
      "  (69996, 230)\t1\n",
      "  (69996, 381)\t1\n",
      "  (69996, 395)\t1\n",
      "  (69996, 402)\t1\n",
      "  (69996, 616)\t1\n",
      "  (69996, 703)\t1\n",
      "  (69997, 30)\t1\n",
      "  (69997, 214)\t1\n",
      "  (69997, 554)\t1\n",
      "  (69997, 706)\t1\n",
      "  (69998, 30)\t1\n",
      "  (69998, 46)\t1\n",
      "  (69998, 343)\t1\n",
      "  (69998, 777)\t1\n",
      "  (69998, 982)\t1\n",
      "  (69999, 30)\t1\n",
      "  (69999, 51)\t1\n",
      "  (69999, 167)\t1\n",
      "  (69999, 704)\t1\n"
     ]
    }
   ],
   "source": [
    "from sklearn.model_selection import train_test_split\n",
    "\n",
    "# stratify\n",
    "train_inputs, val_inputs, train_targets, val_targets = train_test_split(inputs, sample_df.target, test_size=0.3, random_state=42)\n",
    "print(train_inputs)\n",
    "# print(train_targets.shape)\n",
    "\n",
    "# val_targets.target.value_counts(normalize=True).plot(kind='bar')\n"
   ],
   "metadata": {
    "collapsed": false
   }
  },
  {
   "cell_type": "code",
   "execution_count": 19,
   "outputs": [
    {
     "name": "stderr",
     "output_type": "stream",
     "text": [
      "/Users/kkepins-macwro_1/.local/share/virtualenvs/data-science-upskills-eseJr18D/lib/python3.10/site-packages/sklearn/linear_model/_sag.py:350: ConvergenceWarning: The max_iter was reached which means the coef_ did not converge\n",
      "  warnings.warn(\n"
     ]
    },
    {
     "name": "stdout",
     "output_type": "stream",
     "text": [
      "Accuracy:  0.9504428571428571\n",
      "F1:  0.4457581083240134\n",
      "For Sincere:  [0 0 0 0 0 0 1 0 0 0]\n",
      "For Insincere:  [0 0 1 1 0 0 0 1 0 0]\n",
      "Val Accuracy:  0.9467\n",
      "Val F1:  0.40843507214206437\n"
     ]
    },
    {
     "data": {
      "text/plain": "<Figure size 640x480 with 1 Axes>",
      "image/png": "[encoded data removed]"
     },
     "metadata": {},
     "output_type": "display_data"
    }
   ],
   "source": [
    "# Logistic Regression, just for comparizon\n",
    "\n",
    "from sklearn.linear_model import LogisticRegression\n",
    "from sklearn.metrics import accuracy_score, f1_score\n",
    "from libs.simpleplotter import simple_roc\n",
    "\n",
    "MAX_ITER = 1000\n",
    "model = LogisticRegression(max_iter=1000, solver='sag')\n",
    "model.fit(train_inputs, train_targets)\n",
    "\n",
    "train_pred = model.predict(train_inputs)\n",
    "\n",
    "print('Accuracy: ', accuracy_score(train_targets, train_pred))\n",
    "print('F1: ', f1_score(train_targets, train_pred))\n",
    "\n",
    "print('For Sincere: ', model.predict(vectorizer.transform(sincere_df.question_text.values[:10])))\n",
    "print('For Insincere: ', model.predict(vectorizer.transform(insincere_df.question_text.values[:10])))\n",
    "\n",
    "val_pred = model.predict(val_inputs)\n",
    "\n",
    "print('Val Accuracy: ', accuracy_score(val_targets, val_pred))\n",
    "print('Val F1: ', f1_score(val_targets, val_pred))\n",
    "\n",
    "# print('For Sincere: ', model.predict(vectorizer.transform(sincere_df.question_text.values[:10])))\n",
    "# print('For Insincere: ', model.predict(vectorizer.transform(insincere_df.question_text.values[:10])))\n",
    "simple_roc(val_targets, val_pred)\n"
   ],
   "metadata": {
    "collapsed": false
   }
  },
  {
   "cell_type": "code",
   "execution_count": null,
   "outputs": [],
   "source": [
    "import tensorflow as tf\n",
    "\n",
    "text_config = text_tok.get_config()\n",
    "text_vocab = eval(text_config['index_word'])\n",
    "\n",
    "vocab_size = len(text_vocab) + 1\n",
    "# The embedding dimension\n",
    "embedding_dim = 64\n",
    "# Number of RNN units\n",
    "rnn_units = 100\n",
    "#batch size\n",
    "BATCH_SIZE=90\n",
    "# num of NER classes\n",
    "num_classes = len(ner_vocab)+1\n",
    "dropout=0.2\n",
    "\n",
    "def build_model_bilstm(vocab_size, embedding_dim, rnn_units, batch_size, classes):\n",
    "    model = tf.keras.Sequential([\n",
    "        tf.keras.layers.Embedding(vocab_size, embedding_dim, mask_zero=True,\n",
    "                  batch_input_shape=[batch_size,\n",
    "                                     None]),\n",
    "        tf.keras.layers.Bidirectional(tf.keras.layers.LSTM(units=rnn_units,\n",
    "                           return_sequences=True,\n",
    "                           dropout=dropout,\n",
    "                           kernel_initializer=\n",
    "                               tf.keras.initializers.he_normal())),\n",
    "        tf.keras.layers.TimeDistributed(tf.keras.layers.Dense(rnn_units, activation='relu')),\n",
    "        tf.keras.layers.Dense(num_classes, activation=\"softmax\")\n",
    "    ])\n",
    "\n",
    "model = build_model_bilstm(\n",
    "    vocab_size = vocab_size,\n",
    "    embedding_dim=embedding_dim,\n",
    "    rnn_units=rnn_units,\n",
    "    batch_size=BATCH_SIZE,\n",
    "    classes=num_classes)\n",
    "model.summary()\n",
    "model.compile(optimizer=\"adam\", loss=\"categorical_crossentropy\",\n",
    "              metrics=[\"accuracy\"])"
   ],
   "metadata": {
    "collapsed": false
   }
  }
 ],
 "metadata": {
  "kernelspec": {
   "display_name": "Python 3",
   "language": "python",
   "name": "python3"
  },
  "language_info": {
   "codemirror_mode": {
    "name": "ipython",
    "version": 2
   },
   "file_extension": ".py",
   "mimetype": "text/x-python",
   "name": "python",
   "nbconvert_exporter": "python",
   "pygments_lexer": "ipython2",
   "version": "2.7.6"
  }
 },
 "nbformat": 4,
 "nbformat_minor": 0
}
