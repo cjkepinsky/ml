{
 "cells": [
  {
   "cell_type": "code",
   "execution_count": 1,
   "metadata": {
    "collapsed": true
   },
   "outputs": [
    {
     "name": "stderr",
     "output_type": "stream",
     "text": [
      "[nltk_data] Downloading package punkt to /Users/kkepins-\n",
      "[nltk_data]     macwro_1/nltk_data...\n",
      "[nltk_data]   Package punkt is already up-to-date!\n",
      "[nltk_data] Downloading package stopwords to /Users/kkepins-\n",
      "[nltk_data]     macwro_1/nltk_data...\n",
      "[nltk_data]   Package stopwords is already up-to-date!\n"
     ]
    },
    {
     "data": {
      "text/plain": "                          qid  \\\n443046   56d324bb1e2c29f43b12   \n947549   b9ad893dc78c577f8a63   \n523769   6689ebaeeb65b209a412   \n949821   ba1e2c4a0fef09671516   \n1030397  c9ea2b69bf0d74626f46   \n...                       ...   \n1114737  da6f81be4009ccf461ba   \n1061387  cff924434fe209f14b77   \n1260836  f716bbf34983c6ddc707   \n475581   5d20bb6741870ee265c4   \n857174   a7f1dd3be742918e7133   \n\n                                             question_text  target  \n443046   What is the most effective classroom managemen...       0  \n947549   Can I study abroad after 10th class from Bangl...       0  \n523769         How can I make friends as a college junior?       0  \n949821   How do I download free APK Minecraft: Pocket E...       0  \n1030397  Like Kuvera, is \"Groww\" also a free online inv...       0  \n...                                                    ...     ...  \n1114737  Why do so many people want the government to t...       0  \n1061387  Why is the battery blinking when I open the ai...       0  \n1260836  Any real life example that you faced in your l...       0  \n475581   How should I prepare for UPES entrance examina...       0  \n857174   What are some of the great sites in the UAE to...       0  \n\n[50000 rows x 3 columns]",
      "text/html": "<div>\n<style scoped>\n    .dataframe tbody tr th:only-of-type {\n        vertical-align: middle;\n    }\n\n    .dataframe tbody tr th {\n        vertical-align: top;\n    }\n\n    .dataframe thead th {\n        text-align: right;\n    }\n</style>\n<table border=\"1\" class=\"dataframe\">\n  <thead>\n    <tr style=\"text-align: right;\">\n      <th></th>\n      <th>qid</th>\n      <th>question_text</th>\n      <th>target</th>\n    </tr>\n  </thead>\n  <tbody>\n    <tr>\n      <th>443046</th>\n      <td>56d324bb1e2c29f43b12</td>\n      <td>What is the most effective classroom managemen...</td>\n      <td>0</td>\n    </tr>\n    <tr>\n      <th>947549</th>\n      <td>b9ad893dc78c577f8a63</td>\n      <td>Can I study abroad after 10th class from Bangl...</td>\n      <td>0</td>\n    </tr>\n    <tr>\n      <th>523769</th>\n      <td>6689ebaeeb65b209a412</td>\n      <td>How can I make friends as a college junior?</td>\n      <td>0</td>\n    </tr>\n    <tr>\n      <th>949821</th>\n      <td>ba1e2c4a0fef09671516</td>\n      <td>How do I download free APK Minecraft: Pocket E...</td>\n      <td>0</td>\n    </tr>\n    <tr>\n      <th>1030397</th>\n      <td>c9ea2b69bf0d74626f46</td>\n      <td>Like Kuvera, is \"Groww\" also a free online inv...</td>\n      <td>0</td>\n    </tr>\n    <tr>\n      <th>...</th>\n      <td>...</td>\n      <td>...</td>\n      <td>...</td>\n    </tr>\n    <tr>\n      <th>1114737</th>\n      <td>da6f81be4009ccf461ba</td>\n      <td>Why do so many people want the government to t...</td>\n      <td>0</td>\n    </tr>\n    <tr>\n      <th>1061387</th>\n      <td>cff924434fe209f14b77</td>\n      <td>Why is the battery blinking when I open the ai...</td>\n      <td>0</td>\n    </tr>\n    <tr>\n      <th>1260836</th>\n      <td>f716bbf34983c6ddc707</td>\n      <td>Any real life example that you faced in your l...</td>\n      <td>0</td>\n    </tr>\n    <tr>\n      <th>475581</th>\n      <td>5d20bb6741870ee265c4</td>\n      <td>How should I prepare for UPES entrance examina...</td>\n      <td>0</td>\n    </tr>\n    <tr>\n      <th>857174</th>\n      <td>a7f1dd3be742918e7133</td>\n      <td>What are some of the great sites in the UAE to...</td>\n      <td>0</td>\n    </tr>\n  </tbody>\n</table>\n<p>50000 rows × 3 columns</p>\n</div>"
     },
     "execution_count": 1,
     "metadata": {},
     "output_type": "execute_result"
    }
   ],
   "source": [
    "# https://www.kaggle.com/code/rajsing/quora-text-classification\n",
    "import pandas as pd\n",
    "import nltk\n",
    "\n",
    "data_dir = './input'\n",
    "train = data_dir + '/train.csv'\n",
    "test = data_dir + '/test.csv'\n",
    "\n",
    "# sub_df = pd.read_csv(sample)\n",
    "test_df = pd.read_csv(test)\n",
    "raw_df = pd.read_csv(train)\n",
    "# raw_df\n",
    "\n",
    "insincere_df = raw_df[raw_df.target==1]\n",
    "# insincere_df.question_text.values[:10]\n",
    "\n",
    "sincere_df = raw_df[raw_df.target==0]\n",
    "sincere_df.question_text.values[:10]\n",
    "\n",
    "nltk.download('punkt')\n",
    "nltk.download('stopwords')\n",
    "stop_words = nltk.corpus.stopwords.words('english')\n",
    "\n",
    "SAMPLE_SIZE = 50_000\n",
    "sample_df = raw_df.sample(SAMPLE_SIZE, random_state=42)\n",
    "sample_df"
   ]
  },
  {
   "cell_type": "code",
   "execution_count": 2,
   "outputs": [
    {
     "name": "stderr",
     "output_type": "stream",
     "text": [
      "/Users/kkepins-macwro_1/.local/share/virtualenvs/data-science-upskills-eseJr18D/lib/python3.10/site-packages/sklearn/feature_extraction/text.py:528: UserWarning: The parameter 'token_pattern' will not be used since 'tokenizer' is not None'\n",
      "  warnings.warn(\n",
      "/Users/kkepins-macwro_1/.local/share/virtualenvs/data-science-upskills-eseJr18D/lib/python3.10/site-packages/sklearn/feature_extraction/text.py:409: UserWarning: Your stop_words may be inconsistent with your preprocessing. Tokenizing the stop words generated tokens [\"'d\", \"'s\", 'abov', 'ani', 'becaus', 'befor', 'could', 'doe', 'dure', 'might', 'must', \"n't\", 'need', 'onc', 'onli', 'ourselv', 'sha', 'themselv', 'veri', 'whi', 'wo', 'would', 'yourselv'] not in stop_words.\n",
      "  warnings.warn(\n"
     ]
    },
    {
     "name": "stdout",
     "output_type": "stream",
     "text": [
      "(50000, 1000)\n",
      "[[0 0 0 ... 0 0 0]\n",
      " [0 0 0 ... 0 0 0]\n",
      " [0 0 0 ... 0 0 0]\n",
      " ...\n",
      " [0 0 0 ... 0 0 0]\n",
      " [0 0 0 ... 0 0 0]\n",
      " [0 0 0 ... 0 0 0]]\n",
      "--- 12.834693193435669 seconds ---\n"
     ]
    }
   ],
   "source": [
    "# Text Preprocessing Techniques\n",
    "import sklearn as skl\n",
    "import time\n",
    "import tensorflow as tf\n",
    "from sklearn.model_selection import train_test_split\n",
    "\n",
    "start = time.time()\n",
    "# Removing Stop Words, Tokenization & Stemmanization\n",
    "def tokenizer(text):\n",
    "    stemmer = nltk.stem.snowball.SnowballStemmer(language='english')\n",
    "    return [stemmer.stem(word) for word in nltk.tokenize.word_tokenize(text) ]\n",
    "\n",
    "vectorizer = skl.feature_extraction.text.CountVectorizer(lowercase=True\n",
    "                             , tokenizer=tokenizer\n",
    "                             , stop_words=stop_words\n",
    "                             , max_features=1000)\n",
    "\n",
    "vectorizer.fit(sample_df.question_text)\n",
    "inputs = vectorizer.transform(sample_df.question_text).toarray()\n",
    "\n",
    "print(inputs.shape) # (n_samples, n_features)\n",
    "\n",
    "# stratify\n",
    "train_inputs, val_inputs, train_targets, val_targets = train_test_split(inputs\n",
    "                                                                        , sample_df.target\n",
    "                                                                        , test_size=0.5\n",
    "                                                                        , random_state=42)\n",
    "print(train_inputs)\n",
    "\n",
    "print(\"--- %s seconds ---\" % (time.time() - start))\n"
   ],
   "metadata": {
    "collapsed": false
   }
  },
  {
   "cell_type": "code",
   "execution_count": 3,
   "outputs": [
    {
     "name": "stderr",
     "output_type": "stream",
     "text": [
      "2023-02-10 15:39:17.884249: I tensorflow/core/common_runtime/pluggable_device/pluggable_device_factory.cc:306] Could not identify NUMA node of platform GPU ID 0, defaulting to 0. Your kernel may not have been built with NUMA support.\n",
      "2023-02-10 15:39:17.884526: I tensorflow/core/common_runtime/pluggable_device/pluggable_device_factory.cc:272] Created TensorFlow device (/job:localhost/replica:0/task:0/device:GPU:0 with 0 MB memory) -> physical PluggableDevice (device: 0, name: METAL, pci bus id: <undefined>)\n"
     ]
    },
    {
     "name": "stdout",
     "output_type": "stream",
     "text": [
      "Metal device set to: Apple M1\n",
      "Epoch 1/10\n"
     ]
    },
    {
     "name": "stderr",
     "output_type": "stream",
     "text": [
      "2023-02-10 15:39:19.230907: W tensorflow/core/platform/profile_utils/cpu_utils.cc:128] Failed to get CPU frequency: 0 Hz\n",
      "2023-02-10 15:39:19.484496: I tensorflow/core/grappler/optimizers/custom_graph_optimizer_registry.cc:114] Plugin optimizer for device_type GPU is enabled.\n"
     ]
    },
    {
     "name": "stdout",
     "output_type": "stream",
     "text": [
      "782/782 [==============================] - 158s 200ms/step - loss: 0.0618\n",
      "Epoch 2/10\n",
      "782/782 [==============================] - 158s 201ms/step - loss: 0.0618\n",
      "Epoch 3/10\n",
      "782/782 [==============================] - 159s 203ms/step - loss: 0.0618\n",
      "Epoch 4/10\n",
      "782/782 [==============================] - 162s 207ms/step - loss: 0.0618\n",
      "Epoch 5/10\n",
      "782/782 [==============================] - 164s 209ms/step - loss: 0.0618\n",
      "Epoch 6/10\n",
      "782/782 [==============================] - 154s 197ms/step - loss: 0.0618\n",
      "Epoch 7/10\n",
      "782/782 [==============================] - 153s 195ms/step - loss: 0.0618\n",
      "Epoch 8/10\n",
      "782/782 [==============================] - 154s 196ms/step - loss: 0.0618\n",
      "Epoch 9/10\n",
      "782/782 [==============================] - 160s 205ms/step - loss: 0.0618\n",
      "Epoch 10/10\n",
      "782/782 [==============================] - 155s 198ms/step - loss: 0.0618\n",
      "--- 1576.9476408958435 seconds ---\n"
     ]
    }
   ],
   "source": [
    "import tensorflow as tf\n",
    "\n",
    "start = time.time()\n",
    "vocab_size = len(vectorizer.vocabulary_)\n",
    "# The embedding dimension\n",
    "embedding_dim = 8\n",
    "# Number of RNN units\n",
    "rnn_units = 100\n",
    "#batch size\n",
    "batch_size=90\n",
    "# num of NER classes\n",
    "num_classes = train_inputs.shape[1]\n",
    "dropout=0.2\n",
    "\n",
    "# budowanie modelu\n",
    "model = keras.Sequential([\n",
    "    tf.keras.layers.Embedding(input_dim=vocab_size, output_dim=8, input_length=max_length),\n",
    "    tf.keras.layers.Bidirectional(tf.keras.layers.LSTM(64)),\n",
    "    tf.keras.layers.Dense(64, activation='relu'),\n",
    "    tf.keras.layers.Dense(1, activation='sigmoid')\n",
    "])\n",
    "\n",
    "model.compile(loss='binary_crossentropy', optimizer='adam', metrics=['accuracy'])\n",
    "model.fit(padded_sequences, labels, epochs=10)\n",
    "\n",
    "\n",
    "\n",
    "# Konwersja wektorów na tensor i zdefiniowanie warstwy Embedding\n",
    "keras_inputs = tf.keras.layers.Input(shape=(train_inputs.shape[1],))\n",
    "# keras_embedding = tf.keras.layers.Embedding(input_dim=train_inputs.shape[0], output_dim=train_inputs.shape[0], input_length=10)(keras_inputs)\n",
    "\n",
    "model = tf.keras.Sequential([\n",
    "    tf.keras.layers.Input(shape=(train_inputs.shape[1],)),\n",
    "    tf.keras.layers.Embedding(input_dim=train_inputs.shape[1], output_dim=embedding_dim, input_length=train_inputs.shape[1], trainable=False),\n",
    "    # tf.keras.layers.Flatten(),\n",
    "    # tf.keras.layers.Bidirectional(tf.keras.layers.LSTM(units=rnn_units,\n",
    "    #                                                    return_sequences=True,\n",
    "    #                                                    dropout=dropout,\n",
    "    #                                                    kernel_initializer=tf.keras.initializers.he_normal())),\n",
    "    tf.keras.layers.TimeDistributed(tf.keras.layers.Dense(rnn_units, activation='relu')),\n",
    "    tf.keras.layers.Flatten(),\n",
    "    tf.keras.layers.Dense(num_classes, activation=\"softmax\")\n",
    "    # tf.keras.layers.Dense(units=1, activation='sigmoid')\n",
    "])\n",
    "\n",
    "model.compile(optimizer='adam', loss='mse')\n",
    "model.fit(train_inputs, train_targets, epochs=10, batch_size=32)\n",
    "\n",
    "print(\"--- %s seconds ---\" % (time.time() - start))"
   ],
   "metadata": {
    "collapsed": false
   }
  },
  {
   "cell_type": "code",
   "execution_count": 34,
   "outputs": [
    {
     "name": "stdout",
     "output_type": "stream",
     "text": [
      "938/938 [==============================] - 3s 3ms/step - loss: 0.0000e+00\n"
     ]
    },
    {
     "data": {
      "text/plain": "0.0"
     },
     "execution_count": 34,
     "metadata": {},
     "output_type": "execute_result"
    }
   ],
   "source": [
    "from sklearn.metrics import accuracy_score, f1_score\n",
    "from libs.simpleplotter import simple_roc\n",
    "\n",
    "val_pred = model.evaluate(val_inputs)\n",
    "\n",
    "val_pred\n",
    "\n",
    "# print('Val Accuracy: ', accuracy_score(val_targets, val_pred))\n",
    "# print('Val F1: ', f1_score(val_targets, val_pred))\n",
    "\n",
    "# print('For Sincere: ', model.predict(vectorizer.transform(sincere_df.question_text.values[:10])))\n",
    "# print('For Insincere: ', model.predict(vectorizer.transform(insincere_df.question_text.values[:10])))\n",
    "# simple_roc(val_targets, val_pred)\n",
    "\n"
   ],
   "metadata": {
    "collapsed": false
   }
  },
  {
   "cell_type": "code",
   "execution_count": 13,
   "outputs": [
    {
     "name": "stdout",
     "output_type": "stream",
     "text": [
      "Epoch 1/5\n"
     ]
    },
    {
     "ename": "TypeError",
     "evalue": "in user code:\n\n    File \"/Users/kkepins-macwro_1/.local/share/virtualenvs/data-science-upskills-eseJr18D/lib/python3.10/site-packages/keras/engine/training.py\", line 1160, in train_function  *\n        return step_function(self, iterator)\n    File \"/Users/kkepins-macwro_1/.local/share/virtualenvs/data-science-upskills-eseJr18D/lib/python3.10/site-packages/keras/engine/training.py\", line 1146, in step_function  **\n        outputs = model.distribute_strategy.run(run_step, args=(data,))\n    File \"/Users/kkepins-macwro_1/.local/share/virtualenvs/data-science-upskills-eseJr18D/lib/python3.10/site-packages/keras/engine/training.py\", line 1135, in run_step  **\n        outputs = model.train_step(data)\n    File \"/Users/kkepins-macwro_1/.local/share/virtualenvs/data-science-upskills-eseJr18D/lib/python3.10/site-packages/keras/engine/training.py\", line 993, in train_step\n        y_pred = self(x, training=True)\n    File \"/Users/kkepins-macwro_1/.local/share/virtualenvs/data-science-upskills-eseJr18D/lib/python3.10/site-packages/keras/utils/traceback_utils.py\", line 70, in error_handler\n        raise e.with_traceback(filtered_tb) from None\n\n    TypeError: Exception encountered when calling layer \"embedding_4\" \"                 f\"(type Embedding).\n    \n    Failed to convert elements of SparseTensor(indices=Tensor(\"DeserializeSparse:0\", shape=(None, 2), dtype=int64), values=Tensor(\"sequential_4/embedding_4/Cast:0\", shape=(None,), dtype=int32), dense_shape=Tensor(\"stack:0\", shape=(2,), dtype=int64)) to Tensor. Consider casting elements to a supported type. See https://www.tensorflow.org/api_docs/python/tf/dtypes for supported TF dtypes.\n    \n    Call arguments received by layer \"embedding_4\" \"                 f\"(type Embedding):\n      • inputs=<tensorflow.python.framework.sparse_tensor.SparseTensor object at 0x1385af3a0>\n",
     "output_type": "error",
     "traceback": [
      "\u001B[0;31m---------------------------------------------------------------------------\u001B[0m",
      "\u001B[0;31mTypeError\u001B[0m                                 Traceback (most recent call last)",
      "Cell \u001B[0;32mIn[13], line 45\u001B[0m\n\u001B[1;32m     34\u001B[0m model\u001B[38;5;241m.\u001B[39mcompile(optimizer\u001B[38;5;241m=\u001B[39m\u001B[38;5;124m\"\u001B[39m\u001B[38;5;124madam\u001B[39m\u001B[38;5;124m\"\u001B[39m, loss\u001B[38;5;241m=\u001B[39m\u001B[38;5;124m\"\u001B[39m\u001B[38;5;124mcategorical_crossentropy\u001B[39m\u001B[38;5;124m\"\u001B[39m,\n\u001B[1;32m     35\u001B[0m               metrics\u001B[38;5;241m=\u001B[39m[\u001B[38;5;124m\"\u001B[39m\u001B[38;5;124maccuracy\u001B[39m\u001B[38;5;124m\"\u001B[39m])\n\u001B[1;32m     36\u001B[0m \u001B[38;5;66;03m# model.summary()\u001B[39;00m\n\u001B[1;32m     37\u001B[0m \n\u001B[1;32m     38\u001B[0m \u001B[38;5;66;03m# td = tf.data.Dataset()\u001B[39;00m\n\u001B[0;32m   (...)\u001B[0m\n\u001B[1;32m     43\u001B[0m \n\u001B[1;32m     44\u001B[0m \u001B[38;5;66;03m# model.fit(train_inputs_batched, epochs=5)\u001B[39;00m\n\u001B[0;32m---> 45\u001B[0m \u001B[43mmodel\u001B[49m\u001B[38;5;241;43m.\u001B[39;49m\u001B[43mfit\u001B[49m\u001B[43m(\u001B[49m\u001B[43mtrain_inputs\u001B[49m\u001B[43m,\u001B[49m\u001B[43m \u001B[49m\u001B[43mepochs\u001B[49m\u001B[38;5;241;43m=\u001B[39;49m\u001B[38;5;241;43m5\u001B[39;49m\u001B[43m)\u001B[49m\n\u001B[1;32m     47\u001B[0m \u001B[38;5;66;03m# model.evaluate(val_inputs_batched)\u001B[39;00m\n\u001B[1;32m     48\u001B[0m model\u001B[38;5;241m.\u001B[39mevaluate(train_inputs)\n",
      "File \u001B[0;32m~/.local/share/virtualenvs/data-science-upskills-eseJr18D/lib/python3.10/site-packages/keras/utils/traceback_utils.py:70\u001B[0m, in \u001B[0;36mfilter_traceback.<locals>.error_handler\u001B[0;34m(*args, **kwargs)\u001B[0m\n\u001B[1;32m     67\u001B[0m     filtered_tb \u001B[38;5;241m=\u001B[39m _process_traceback_frames(e\u001B[38;5;241m.\u001B[39m__traceback__)\n\u001B[1;32m     68\u001B[0m     \u001B[38;5;66;03m# To get the full stack trace, call:\u001B[39;00m\n\u001B[1;32m     69\u001B[0m     \u001B[38;5;66;03m# `tf.debugging.disable_traceback_filtering()`\u001B[39;00m\n\u001B[0;32m---> 70\u001B[0m     \u001B[38;5;28;01mraise\u001B[39;00m e\u001B[38;5;241m.\u001B[39mwith_traceback(filtered_tb) \u001B[38;5;28;01mfrom\u001B[39;00m \u001B[38;5;28mNone\u001B[39m\n\u001B[1;32m     71\u001B[0m \u001B[38;5;28;01mfinally\u001B[39;00m:\n\u001B[1;32m     72\u001B[0m     \u001B[38;5;28;01mdel\u001B[39;00m filtered_tb\n",
      "File \u001B[0;32m/var/folders/r3/hdngxsmd2vq391vqv6kg6f7w0000gq/T/__autograph_generated_fileiqrnhw3b.py:15\u001B[0m, in \u001B[0;36mouter_factory.<locals>.inner_factory.<locals>.tf__train_function\u001B[0;34m(iterator)\u001B[0m\n\u001B[1;32m     13\u001B[0m \u001B[38;5;28;01mtry\u001B[39;00m:\n\u001B[1;32m     14\u001B[0m     do_return \u001B[38;5;241m=\u001B[39m \u001B[38;5;28;01mTrue\u001B[39;00m\n\u001B[0;32m---> 15\u001B[0m     retval_ \u001B[38;5;241m=\u001B[39m ag__\u001B[38;5;241m.\u001B[39mconverted_call(ag__\u001B[38;5;241m.\u001B[39mld(step_function), (ag__\u001B[38;5;241m.\u001B[39mld(\u001B[38;5;28mself\u001B[39m), ag__\u001B[38;5;241m.\u001B[39mld(iterator)), \u001B[38;5;28;01mNone\u001B[39;00m, fscope)\n\u001B[1;32m     16\u001B[0m \u001B[38;5;28;01mexcept\u001B[39;00m:\n\u001B[1;32m     17\u001B[0m     do_return \u001B[38;5;241m=\u001B[39m \u001B[38;5;28;01mFalse\u001B[39;00m\n",
      "\u001B[0;31mTypeError\u001B[0m: in user code:\n\n    File \"/Users/kkepins-macwro_1/.local/share/virtualenvs/data-science-upskills-eseJr18D/lib/python3.10/site-packages/keras/engine/training.py\", line 1160, in train_function  *\n        return step_function(self, iterator)\n    File \"/Users/kkepins-macwro_1/.local/share/virtualenvs/data-science-upskills-eseJr18D/lib/python3.10/site-packages/keras/engine/training.py\", line 1146, in step_function  **\n        outputs = model.distribute_strategy.run(run_step, args=(data,))\n    File \"/Users/kkepins-macwro_1/.local/share/virtualenvs/data-science-upskills-eseJr18D/lib/python3.10/site-packages/keras/engine/training.py\", line 1135, in run_step  **\n        outputs = model.train_step(data)\n    File \"/Users/kkepins-macwro_1/.local/share/virtualenvs/data-science-upskills-eseJr18D/lib/python3.10/site-packages/keras/engine/training.py\", line 993, in train_step\n        y_pred = self(x, training=True)\n    File \"/Users/kkepins-macwro_1/.local/share/virtualenvs/data-science-upskills-eseJr18D/lib/python3.10/site-packages/keras/utils/traceback_utils.py\", line 70, in error_handler\n        raise e.with_traceback(filtered_tb) from None\n\n    TypeError: Exception encountered when calling layer \"embedding_4\" \"                 f\"(type Embedding).\n    \n    Failed to convert elements of SparseTensor(indices=Tensor(\"DeserializeSparse:0\", shape=(None, 2), dtype=int64), values=Tensor(\"sequential_4/embedding_4/Cast:0\", shape=(None,), dtype=int32), dense_shape=Tensor(\"stack:0\", shape=(2,), dtype=int64)) to Tensor. Consider casting elements to a supported type. See https://www.tensorflow.org/api_docs/python/tf/dtypes for supported TF dtypes.\n    \n    Call arguments received by layer \"embedding_4\" \"                 f\"(type Embedding):\n      • inputs=<tensorflow.python.framework.sparse_tensor.SparseTensor object at 0x1385af3a0>\n"
     ]
    }
   ],
   "source": [
    "\n",
    "# BiLSTM model\n",
    "\n",
    "import tensorflow as tf\n",
    "\n",
    "start = time.time()\n",
    "vocab_size = len(vectorizer.vocabulary_)\n",
    "# The embedding dimension\n",
    "embedding_dim = 64\n",
    "# Number of RNN units\n",
    "rnn_units = 100\n",
    "#batch size\n",
    "batch_size=90\n",
    "# num of NER classes\n",
    "num_classes = inputs.shape[1]\n",
    "dropout=0.2\n",
    "\n",
    "# model.add(tf.keras.layers.Embedding(1000, 64, input_length=10))\n",
    "\n",
    "model = tf.keras.Sequential([\n",
    "    tf.keras.layers.Embedding(vocab_size, embedding_dim, batch_input_shape=[batch_size, None]),\n",
    "\n",
    "    # tf.keras.layers.Embedding(vocab_size, embedding_dim, mask_zero=True,\n",
    "    #           batch_input_shape=[batch_size,\n",
    "    #                              None]),\n",
    "    tf.keras.layers.Bidirectional(tf.keras.layers.LSTM(units=rnn_units,\n",
    "                       return_sequences=True,\n",
    "                       dropout=dropout,\n",
    "                       kernel_initializer=\n",
    "                           tf.keras.initializers.he_normal())),\n",
    "    tf.keras.layers.TimeDistributed(tf.keras.layers.Dense(rnn_units, activation='relu')),\n",
    "    tf.keras.layers.Dense(num_classes, activation=\"softmax\")\n",
    "])\n",
    "\n",
    "model.compile(optimizer=\"adam\", loss=\"categorical_crossentropy\",\n",
    "              metrics=[\"accuracy\"])\n",
    "# model.summary()\n",
    "\n",
    "# td = tf.data.Dataset()\n",
    "# ti = td.sample_from_datasets(train_inputs)\n",
    "\n",
    "# train_inputs_batched = ti.batch(batch_size)\n",
    "# val_inputs_batched = val_inputs.batch(batch_size)\n",
    "\n",
    "# model.fit(train_inputs_batched, epochs=5)\n",
    "model.fit(train_inputs, epochs=5)\n",
    "\n",
    "# model.evaluate(val_inputs_batched)\n",
    "model.evaluate(train_inputs)\n",
    "\n",
    "print(\"--- %s seconds ---\" % (time.time() - start))\n"
   ],
   "metadata": {
    "collapsed": false
   }
  },
  {
   "cell_type": "code",
   "execution_count": 19,
   "outputs": [
    {
     "name": "stderr",
     "output_type": "stream",
     "text": [
      "/Users/kkepins-macwro_1/.local/share/virtualenvs/data-science-upskills-eseJr18D/lib/python3.10/site-packages/sklearn/linear_model/_sag.py:350: ConvergenceWarning: The max_iter was reached which means the coef_ did not converge\n",
      "  warnings.warn(\n"
     ]
    },
    {
     "name": "stdout",
     "output_type": "stream",
     "text": [
      "Accuracy:  0.9504428571428571\n",
      "F1:  0.4457581083240134\n",
      "For Sincere:  [0 0 0 0 0 0 1 0 0 0]\n",
      "For Insincere:  [0 0 1 1 0 0 0 1 0 0]\n",
      "Val Accuracy:  0.9467\n",
      "Val F1:  0.40843507214206437\n"
     ]
    },
    {
     "data": {
      "text/plain": "<Figure size 640x480 with 1 Axes>",
      "image/png": "[encoded data removed]"
     },
     "metadata": {},
     "output_type": "display_data"
    }
   ],
   "source": [
    "# Logistic Regression, just for comparizon\n",
    "\n",
    "from sklearn.linear_model import LogisticRegression\n",
    "from sklearn.metrics import accuracy_score, f1_score\n",
    "from libs.simpleplotter import simple_roc\n",
    "\n",
    "MAX_ITER = 1000\n",
    "model = LogisticRegression(max_iter=1000, solver='sag')\n",
    "\n",
    "model.fit(train_inputs, train_targets)\n",
    "\n",
    "train_pred = model.predict(train_inputs)\n",
    "\n",
    "print('Accuracy: ', accuracy_score(train_targets, train_pred))\n",
    "print('F1: ', f1_score(train_targets, train_pred))\n",
    "\n",
    "print('For Sincere: ', model.predict(vectorizer.transform(sincere_df.question_text.values[:10])))\n",
    "print('For Insincere: ', model.predict(vectorizer.transform(insincere_df.question_text.values[:10])))\n",
    "\n",
    "val_pred = model.predict(val_inputs)\n",
    "\n",
    "print('Val Accuracy: ', accuracy_score(val_targets, val_pred))\n",
    "print('Val F1: ', f1_score(val_targets, val_pred))\n",
    "\n",
    "# print('For Sincere: ', model.predict(vectorizer.transform(sincere_df.question_text.values[:10])))\n",
    "# print('For Insincere: ', model.predict(vectorizer.transform(insincere_df.question_text.values[:10])))\n",
    "simple_roc(val_targets, val_pred)\n"
   ],
   "metadata": {
    "collapsed": false
   }
  }
 ],
 "metadata": {
  "kernelspec": {
   "display_name": "Python 3",
   "language": "python",
   "name": "python3"
  },
  "language_info": {
   "codemirror_mode": {
    "name": "ipython",
    "version": 2
   },
   "file_extension": ".py",
   "mimetype": "text/x-python",
   "name": "python",
   "nbconvert_exporter": "python",
   "pygments_lexer": "ipython2",
   "version": "2.7.6"
  }
 },
 "nbformat": 4,
 "nbformat_minor": 0
}
