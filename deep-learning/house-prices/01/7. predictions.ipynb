{
 "cells": [
  {
   "cell_type": "code",
   "execution_count": null,
   "metadata": {
    "collapsed": true,
    "pycharm": {
     "is_executing": true
    }
   },
   "outputs": [],
   "source": [
    "import pandas as pd\n",
    "from constants import x_test_path, y_test_path, predicted_path, model_path\n",
    "import joblib\n",
    "\n",
    "X_test = pd.read_csv(x_test_path)\n",
    "y_test = pd.read_csv(y_test_path)\n",
    "X_test.info()\n",
    "\n",
    "loaded_model = joblib.load(model_path+\"hyperparamtuning.sav\")\n",
    "predictions = loaded_model.evaluate(X_test, y_test)\n",
    "results = pd.DataFrame(predictions)\n",
    "results.to_csv(predicted_path, index=False)\n"
   ]
  },
  {
   "cell_type": "code",
   "execution_count": null,
   "outputs": [],
   "source": [
    "import pandas as pd\n",
    "from constants import x_test_path, predicted_path, model_path\n",
    "import joblib\n",
    "\n",
    "X_test = pd.read_csv(x_test_path)\n",
    "\n",
    "loaded_model = joblib.load(model_path+\"hyperparamtuning.sav\")\n",
    "predictions = loaded_model.predict(X_test)\n",
    "results = pd.DataFrame(predictions)\n",
    "results.to_csv(predicted_path, index=False)\n",
    "\n",
    "print(\"Results saved.\")\n"
   ],
   "metadata": {
    "collapsed": false
   }
  }
 ],
 "metadata": {
  "kernelspec": {
   "display_name": "Python 3",
   "language": "python",
   "name": "python3"
  },
  "language_info": {
   "codemirror_mode": {
    "name": "ipython",
    "version": 2
   },
   "file_extension": ".py",
   "mimetype": "text/x-python",
   "name": "python",
   "nbconvert_exporter": "python",
   "pygments_lexer": "ipython2",
   "version": "2.7.6"
  }
 },
 "nbformat": 4,
 "nbformat_minor": 0
}
