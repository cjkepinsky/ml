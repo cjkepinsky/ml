{
 "cells": [
  {
   "cell_type": "code",
   "execution_count": 7,
   "id": "ac58128f",
   "metadata": {
    "execution": {
     "iopub.execute_input": "2023-01-20T18:26:47.594019Z",
     "iopub.status.busy": "2023-01-20T18:26:47.593245Z",
     "iopub.status.idle": "2023-01-20T18:26:54.909545Z",
     "shell.execute_reply": "2023-01-20T18:26:54.908572Z"
    },
    "papermill": {
     "duration": 7.327709,
     "end_time": "2023-01-20T18:26:54.912053",
     "exception": false,
     "start_time": "2023-01-20T18:26:47.584344",
     "status": "completed"
    },
    "tags": []
   },
   "outputs": [
    {
     "data": {
      "text/plain": "array([[[0.        , 0.        , 0.        , ..., 0.        ,\n         0.        , 0.        ],\n        [0.        , 0.        , 0.01568627, ..., 0.        ,\n         0.        , 0.        ],\n        [0.        , 0.        , 0.00392157, ..., 0.        ,\n         0.        , 0.        ],\n        ...,\n        [0.        , 0.        , 0.        , ..., 0.        ,\n         0.        , 0.        ],\n        [0.        , 0.        , 0.        , ..., 0.        ,\n         0.        , 0.        ],\n        [0.        , 0.        , 0.        , ..., 0.        ,\n         0.        , 0.        ]],\n\n       [[0.        , 0.        , 0.        , ..., 0.        ,\n         0.        , 0.        ],\n        [0.        , 0.        , 0.        , ..., 0.        ,\n         0.        , 0.        ],\n        [0.        , 0.        , 0.        , ..., 0.        ,\n         0.        , 0.        ],\n        ...,\n        [0.        , 0.        , 0.        , ..., 0.        ,\n         0.        , 0.        ],\n        [0.        , 0.        , 0.        , ..., 0.        ,\n         0.        , 0.        ],\n        [0.        , 0.        , 0.        , ..., 0.        ,\n         0.        , 0.        ]],\n\n       [[0.        , 0.        , 0.        , ..., 0.        ,\n         0.        , 0.        ],\n        [0.        , 0.        , 0.        , ..., 0.        ,\n         0.        , 0.        ],\n        [0.        , 0.        , 0.        , ..., 0.        ,\n         0.        , 0.        ],\n        ...,\n        [0.        , 0.        , 0.        , ..., 0.        ,\n         0.        , 0.        ],\n        [0.        , 0.        , 0.        , ..., 0.        ,\n         0.        , 0.        ],\n        [0.        , 0.        , 0.        , ..., 0.        ,\n         0.        , 0.        ]],\n\n       ...,\n\n       [[0.        , 0.        , 0.        , ..., 0.        ,\n         0.        , 0.        ],\n        [0.        , 0.        , 0.        , ..., 0.        ,\n         0.        , 0.        ],\n        [0.        , 0.        , 0.        , ..., 0.        ,\n         0.        , 0.        ],\n        ...,\n        [0.        , 0.        , 0.01176471, ..., 0.        ,\n         0.        , 0.        ],\n        [0.        , 0.        , 0.00784314, ..., 0.        ,\n         0.        , 0.        ],\n        [0.        , 0.        , 0.        , ..., 0.        ,\n         0.00392157, 0.        ]],\n\n       [[0.        , 0.00392157, 0.01176471, ..., 0.        ,\n         0.00784314, 0.        ],\n        [0.        , 0.        , 0.        , ..., 0.        ,\n         0.        , 0.        ],\n        [0.        , 0.        , 0.45490196, ..., 0.78431373,\n         0.11372549, 0.        ],\n        ...,\n        [0.        , 0.        , 0.01568627, ..., 0.        ,\n         0.01568627, 0.        ],\n        [0.        , 0.        , 0.        , ..., 0.00784314,\n         0.        , 0.        ],\n        [0.        , 0.        , 0.        , ..., 0.        ,\n         0.        , 0.        ]],\n\n       [[0.        , 0.        , 0.        , ..., 0.        ,\n         0.        , 0.        ],\n        [0.        , 0.        , 0.        , ..., 0.        ,\n         0.        , 0.        ],\n        [0.        , 0.        , 0.        , ..., 0.        ,\n         0.        , 0.        ],\n        ...,\n        [0.        , 0.        , 0.        , ..., 0.        ,\n         0.        , 0.        ],\n        [0.        , 0.        , 0.        , ..., 0.        ,\n         0.        , 0.        ],\n        [0.        , 0.        , 0.        , ..., 0.        ,\n         0.        , 0.        ]]])"
     },
     "execution_count": 7,
     "metadata": {},
     "output_type": "execute_result"
    }
   ],
   "source": [
    "import tensorflow as tf\n",
    "import numpy as np\n",
    "import pandas as pd\n",
    "import matplotlib.pyplot as plt\n",
    "import os\n",
    "import plotly.express as px\n",
    "\n",
    "from sklearn.model_selection import train_test_split\n",
    "from tensorflow.keras.regularizers import l2\n",
    "from tensorflow.keras import layers\n",
    "from tensorflow.keras.models import Model, Sequential\n",
    "from tensorflow.keras.layers import BatchNormalization, Dense, Conv2D, Input, MaxPooling2D, Dropout, Flatten\n",
    "from tensorflow.keras.optimizers import Adam\n",
    "\n",
    "train = pd.read_csv('./input/fashion-mnist_train.csv')\n",
    "test = pd.read_csv('./input/fashion-mnist_test.csv')\n",
    "\n",
    "X_train = train.drop('label', axis=1)\n",
    "y_train = train['label']\n",
    "\n",
    "X_test = test.drop('label', axis=1)\n",
    "y_test = test['label']\n",
    "\n",
    "X_train = X_train.values\n",
    "X_test = X_test.values\n",
    "\n",
    "#Reshape the data inorder to fit to our model\n",
    "X_train = X_train.reshape(60000, 28, 28)\n",
    "X_test = X_test.reshape(10000, 28, 28)\n",
    "\n",
    "X_train = X_train / 255\n",
    "X_test = X_test / 255\n",
    "\n",
    "X_train = np.array(X_train)\n",
    "X_test = np.array(X_test)\n",
    "X_test"
   ]
  },
  {
   "cell_type": "code",
   "execution_count": 9,
   "id": "ac0320c7",
   "metadata": {
    "execution": {
     "iopub.execute_input": "2023-01-20T18:36:15.387207Z",
     "iopub.status.busy": "2023-01-20T18:36:15.386861Z",
     "iopub.status.idle": "2023-01-20T18:36:15.502865Z",
     "shell.execute_reply": "2023-01-20T18:36:15.501964Z"
    },
    "papermill": {
     "duration": 0.565575,
     "end_time": "2023-01-20T18:36:15.504966",
     "exception": false,
     "start_time": "2023-01-20T18:36:14.939391",
     "status": "completed"
    },
    "tags": []
   },
   "outputs": [
    {
     "name": "stdout",
     "output_type": "stream",
     "text": [
      "Epoch 1/50\n"
     ]
    },
    {
     "name": "stderr",
     "output_type": "stream",
     "text": [
      "2023-03-13 13:46:40.800323: I tensorflow/core/grappler/optimizers/custom_graph_optimizer_registry.cc:114] Plugin optimizer for device_type GPU is enabled.\n"
     ]
    },
    {
     "name": "stdout",
     "output_type": "stream",
     "text": [
      "1875/1875 [==============================] - ETA: 0s - loss: 0.7997 - accuracy: 0.7664"
     ]
    },
    {
     "name": "stderr",
     "output_type": "stream",
     "text": [
      "2023-03-13 13:47:37.544842: I tensorflow/core/grappler/optimizers/custom_graph_optimizer_registry.cc:114] Plugin optimizer for device_type GPU is enabled.\n"
     ]
    },
    {
     "name": "stdout",
     "output_type": "stream",
     "text": [
      "1875/1875 [==============================] - 64s 34ms/step - loss: 0.7997 - accuracy: 0.7664 - val_loss: 0.5337 - val_accuracy: 0.8508 - lr: 0.0010\n",
      "Epoch 2/50\n",
      "1875/1875 [==============================] - 63s 33ms/step - loss: 0.5219 - accuracy: 0.8502 - val_loss: 0.4456 - val_accuracy: 0.8649 - lr: 0.0010\n",
      "Epoch 3/50\n",
      "1875/1875 [==============================] - 61s 32ms/step - loss: 0.4449 - accuracy: 0.8670 - val_loss: 0.3538 - val_accuracy: 0.8967 - lr: 0.0010\n",
      "Epoch 4/50\n",
      "1875/1875 [==============================] - 62s 33ms/step - loss: 0.3972 - accuracy: 0.8785 - val_loss: 0.3459 - val_accuracy: 0.8928 - lr: 0.0010\n",
      "Epoch 5/50\n",
      "1875/1875 [==============================] - 62s 33ms/step - loss: 0.3724 - accuracy: 0.8876 - val_loss: 0.3219 - val_accuracy: 0.9061 - lr: 0.0010\n",
      "Epoch 6/50\n",
      "1875/1875 [==============================] - 64s 34ms/step - loss: 0.3523 - accuracy: 0.8924 - val_loss: 0.3325 - val_accuracy: 0.8964 - lr: 0.0010\n",
      "Epoch 7/50\n",
      "1875/1875 [==============================] - 61s 33ms/step - loss: 0.3405 - accuracy: 0.8956 - val_loss: 0.3038 - val_accuracy: 0.9047 - lr: 0.0010\n",
      "Epoch 8/50\n",
      "1875/1875 [==============================] - 63s 34ms/step - loss: 0.3309 - accuracy: 0.8996 - val_loss: 0.3012 - val_accuracy: 0.9065 - lr: 0.0010\n",
      "Epoch 9/50\n",
      "1875/1875 [==============================] - 62s 33ms/step - loss: 0.3210 - accuracy: 0.9036 - val_loss: 0.2891 - val_accuracy: 0.9117 - lr: 0.0010\n",
      "Epoch 10/50\n",
      "1875/1875 [==============================] - 65s 34ms/step - loss: 0.3140 - accuracy: 0.9060 - val_loss: 0.2896 - val_accuracy: 0.9140 - lr: 0.0010\n",
      "Epoch 11/50\n",
      "1875/1875 [==============================] - 61s 32ms/step - loss: 0.2986 - accuracy: 0.9099 - val_loss: 0.2692 - val_accuracy: 0.9181 - lr: 9.0484e-04\n",
      "Epoch 12/50\n",
      "1875/1875 [==============================] - 61s 32ms/step - loss: 0.2868 - accuracy: 0.9148 - val_loss: 0.2741 - val_accuracy: 0.9162 - lr: 8.1873e-04\n",
      "Epoch 13/50\n",
      "1875/1875 [==============================] - 60s 32ms/step - loss: 0.2692 - accuracy: 0.9188 - val_loss: 0.2609 - val_accuracy: 0.9211 - lr: 7.4082e-04\n",
      "Epoch 14/50\n",
      "1875/1875 [==============================] - 61s 33ms/step - loss: 0.2596 - accuracy: 0.9204 - val_loss: 0.2604 - val_accuracy: 0.9232 - lr: 6.7032e-04\n",
      "Epoch 15/50\n",
      "1875/1875 [==============================] - 58s 31ms/step - loss: 0.2473 - accuracy: 0.9252 - val_loss: 0.2465 - val_accuracy: 0.9262 - lr: 6.0653e-04\n",
      "Epoch 16/50\n",
      "1875/1875 [==============================] - 61s 33ms/step - loss: 0.2385 - accuracy: 0.9281 - val_loss: 0.2359 - val_accuracy: 0.9279 - lr: 5.4881e-04\n",
      "Epoch 17/50\n",
      "1875/1875 [==============================] - 70s 38ms/step - loss: 0.2300 - accuracy: 0.9297 - val_loss: 0.2420 - val_accuracy: 0.9248 - lr: 4.9659e-04\n",
      "Epoch 18/50\n",
      "1875/1875 [==============================] - 69s 37ms/step - loss: 0.2189 - accuracy: 0.9333 - val_loss: 0.2343 - val_accuracy: 0.9289 - lr: 4.4933e-04\n",
      "Epoch 19/50\n",
      "1875/1875 [==============================] - 72s 39ms/step - loss: 0.2124 - accuracy: 0.9358 - val_loss: 0.2241 - val_accuracy: 0.9326 - lr: 4.0657e-04\n",
      "Epoch 20/50\n",
      "1875/1875 [==============================] - 70s 37ms/step - loss: 0.2024 - accuracy: 0.9387 - val_loss: 0.2312 - val_accuracy: 0.9305 - lr: 3.6788e-04\n",
      "Epoch 21/50\n",
      "1875/1875 [==============================] - 67s 36ms/step - loss: 0.1960 - accuracy: 0.9401 - val_loss: 0.2187 - val_accuracy: 0.9340 - lr: 3.3287e-04\n",
      "Epoch 22/50\n",
      "1875/1875 [==============================] - 61s 33ms/step - loss: 0.1899 - accuracy: 0.9429 - val_loss: 0.2254 - val_accuracy: 0.9335 - lr: 3.0119e-04\n",
      "Epoch 23/50\n",
      "1875/1875 [==============================] - 61s 33ms/step - loss: 0.1861 - accuracy: 0.9433 - val_loss: 0.2211 - val_accuracy: 0.9325 - lr: 2.7253e-04\n",
      "Epoch 24/50\n",
      "1875/1875 [==============================] - 69s 37ms/step - loss: 0.1781 - accuracy: 0.9460 - val_loss: 0.2210 - val_accuracy: 0.9320 - lr: 2.4660e-04\n",
      "Epoch 25/50\n",
      "1875/1875 [==============================] - 66s 35ms/step - loss: 0.1716 - accuracy: 0.9486 - val_loss: 0.2234 - val_accuracy: 0.9336 - lr: 2.2313e-04\n",
      "Epoch 26/50\n",
      "1875/1875 [==============================] - 61s 33ms/step - loss: 0.1689 - accuracy: 0.9489 - val_loss: 0.2175 - val_accuracy: 0.9343 - lr: 2.0190e-04\n",
      "Epoch 27/50\n",
      "1875/1875 [==============================] - 65s 35ms/step - loss: 0.1646 - accuracy: 0.9492 - val_loss: 0.2163 - val_accuracy: 0.9363 - lr: 1.8268e-04\n",
      "Epoch 28/50\n",
      "1875/1875 [==============================] - 65s 35ms/step - loss: 0.1575 - accuracy: 0.9524 - val_loss: 0.2152 - val_accuracy: 0.9351 - lr: 1.6530e-04\n",
      "Epoch 29/50\n",
      "1875/1875 [==============================] - 63s 34ms/step - loss: 0.1551 - accuracy: 0.9531 - val_loss: 0.2121 - val_accuracy: 0.9372 - lr: 1.4957e-04\n",
      "Epoch 30/50\n",
      "1875/1875 [==============================] - 62s 33ms/step - loss: 0.1500 - accuracy: 0.9548 - val_loss: 0.2145 - val_accuracy: 0.9367 - lr: 1.3534e-04\n",
      "Epoch 31/50\n",
      "1875/1875 [==============================] - 62s 33ms/step - loss: 0.1466 - accuracy: 0.9558 - val_loss: 0.2143 - val_accuracy: 0.9350 - lr: 1.2246e-04\n",
      "Epoch 32/50\n",
      "1875/1875 [==============================] - 65s 35ms/step - loss: 0.1429 - accuracy: 0.9564 - val_loss: 0.2174 - val_accuracy: 0.9339 - lr: 1.1080e-04\n",
      "Epoch 33/50\n",
      "1875/1875 [==============================] - 57s 30ms/step - loss: 0.1406 - accuracy: 0.9584 - val_loss: 0.2120 - val_accuracy: 0.9374 - lr: 1.0026e-04\n",
      "Epoch 34/50\n",
      "1875/1875 [==============================] - 64s 34ms/step - loss: 0.1368 - accuracy: 0.9593 - val_loss: 0.2202 - val_accuracy: 0.9363 - lr: 9.0718e-05\n",
      "Epoch 35/50\n",
      "1875/1875 [==============================] - 63s 33ms/step - loss: 0.1348 - accuracy: 0.9594 - val_loss: 0.2131 - val_accuracy: 0.9352 - lr: 8.2085e-05\n",
      "Epoch 36/50\n",
      "1875/1875 [==============================] - 65s 35ms/step - loss: 0.1298 - accuracy: 0.9609 - val_loss: 0.2165 - val_accuracy: 0.9363 - lr: 7.4273e-05\n",
      "Epoch 37/50\n",
      "1875/1875 [==============================] - 63s 34ms/step - loss: 0.1312 - accuracy: 0.9606 - val_loss: 0.2130 - val_accuracy: 0.9362 - lr: 6.7205e-05\n",
      "Epoch 38/50\n",
      "1875/1875 [==============================] - 61s 33ms/step - loss: 0.1289 - accuracy: 0.9613 - val_loss: 0.2163 - val_accuracy: 0.9379 - lr: 6.0810e-05\n",
      "Epoch 39/50\n",
      "1875/1875 [==============================] - 66s 35ms/step - loss: 0.1258 - accuracy: 0.9620 - val_loss: 0.2199 - val_accuracy: 0.9363 - lr: 5.5023e-05\n",
      "Epoch 40/50\n",
      "1875/1875 [==============================] - 69s 37ms/step - loss: 0.1236 - accuracy: 0.9622 - val_loss: 0.2173 - val_accuracy: 0.9369 - lr: 4.9787e-05\n",
      "Epoch 41/50\n",
      "1875/1875 [==============================] - 61s 32ms/step - loss: 0.1230 - accuracy: 0.9629 - val_loss: 0.2159 - val_accuracy: 0.9384 - lr: 4.5049e-05\n",
      "Epoch 42/50\n",
      "1875/1875 [==============================] - 67s 36ms/step - loss: 0.1219 - accuracy: 0.9633 - val_loss: 0.2175 - val_accuracy: 0.9368 - lr: 4.0762e-05\n",
      "Epoch 43/50\n",
      "1875/1875 [==============================] - 76s 40ms/step - loss: 0.1222 - accuracy: 0.9636 - val_loss: 0.2170 - val_accuracy: 0.9369 - lr: 3.6883e-05\n",
      "Epoch 44/50\n",
      "1875/1875 [==============================] - 73s 39ms/step - loss: 0.1187 - accuracy: 0.9647 - val_loss: 0.2182 - val_accuracy: 0.9366 - lr: 3.3373e-05\n",
      "Epoch 45/50\n",
      "1875/1875 [==============================] - 80s 43ms/step - loss: 0.1184 - accuracy: 0.9650 - val_loss: 0.2180 - val_accuracy: 0.9385 - lr: 3.0197e-05\n",
      "Epoch 46/50\n",
      "1875/1875 [==============================] - 71s 38ms/step - loss: 0.1179 - accuracy: 0.9649 - val_loss: 0.2184 - val_accuracy: 0.9371 - lr: 2.7324e-05\n",
      "Epoch 47/50\n",
      "1875/1875 [==============================] - 69s 37ms/step - loss: 0.1143 - accuracy: 0.9655 - val_loss: 0.2198 - val_accuracy: 0.9368 - lr: 2.4723e-05\n",
      "Epoch 48/50\n",
      "1875/1875 [==============================] - 69s 37ms/step - loss: 0.1160 - accuracy: 0.9654 - val_loss: 0.2178 - val_accuracy: 0.9390 - lr: 2.2371e-05\n",
      "Epoch 49/50\n",
      "1875/1875 [==============================] - 75s 40ms/step - loss: 0.1143 - accuracy: 0.9655 - val_loss: 0.2202 - val_accuracy: 0.9372 - lr: 2.0242e-05\n",
      "Epoch 50/50\n",
      "1875/1875 [==============================] - 74s 39ms/step - loss: 0.1147 - accuracy: 0.9662 - val_loss: 0.2181 - val_accuracy: 0.9378 - lr: 1.8316e-05\n"
     ]
    }
   ],
   "source": [
    "import time\n",
    "\n",
    "start = time.time()\n",
    "\n",
    "def scheduler(epoch, lr):\n",
    "    if epoch < 10:\n",
    "        return lr\n",
    "    else:\n",
    "        return lr * tf.math.exp(-0.1)\n",
    "\n",
    "callback = tf.keras.callbacks.LearningRateScheduler(scheduler)\n",
    "\n",
    "inputs = Input((28, 28, 1))\n",
    "\n",
    "x = Conv2D(filters=32, kernel_size=5, strides=1, activation='relu',\n",
    "           kernel_regularizer=tf.keras.regularizers.l2(0.0005))(inputs)\n",
    "x = Conv2D(filters=32, kernel_size=5, strides=1, use_bias=False, activation='relu')(x)\n",
    "x = BatchNormalization()(x)\n",
    "x = MaxPooling2D(strides=2)(x)\n",
    "x = Dropout(0.3)(x)\n",
    "\n",
    "x = Conv2D(filters=64, kernel_size=3, strides=1, activation='relu', kernel_regularizer=l2(0.0005))(x)\n",
    "x = Conv2D(filters=64, kernel_size=3, strides=1, use_bias=False, activation='relu')(x)\n",
    "x = BatchNormalization()(x)\n",
    "x = MaxPooling2D(strides=2)(x)\n",
    "x = Dropout(0.3)(x)\n",
    "\n",
    "x = Flatten()(x)\n",
    "x = Dense(units=256, use_bias=False, activation='relu')(x)\n",
    "x = BatchNormalization()(x)\n",
    "\n",
    "x = Dense(units=128, use_bias=False, kernel_regularizer=l2(0.0005), activation='relu')(x)\n",
    "x = BatchNormalization()(x)\n",
    "\n",
    "x1 = Dense(units=84, use_bias=False, kernel_regularizer=l2(0.0005), activation='relu')(x)\n",
    "x = BatchNormalization()(x1)\n",
    "x2 = Dropout(0.3)(x)\n",
    "x = tf.keras.layers.Add()([x1, x2])\n",
    "\n",
    "outputs = Dense(units=10, activation='softmax')(x)\n",
    "cnn_model = Model(inputs=inputs, outputs=outputs)\n",
    "\n",
    "cnn_model.compile(loss='sparse_categorical_crossentropy', metrics=['accuracy'], optimizer=Adam())\n",
    "history = cnn_model.fit(X_train, y_train, epochs=50, validation_data=(X_test, y_test), callbacks=[callback])\n",
    "\n",
    "print('(Fit: Done in {:.2f} min)'.format((time.time() - start)/60))\n"
   ]
  },
  {
   "cell_type": "code",
   "execution_count": 15,
   "outputs": [
    {
     "name": "stdout",
     "output_type": "stream",
     "text": [
      "Epoch 1/50\n",
      "1875/1875 [==============================] - 69s 36ms/step - loss: 0.1142 - accuracy: 0.9660 - val_loss: 0.2179 - val_accuracy: 0.9380 - lr: 1.8316e-05\n",
      "Epoch 2/50\n",
      "1875/1875 [==============================] - 65s 35ms/step - loss: 0.1128 - accuracy: 0.9668 - val_loss: 0.2190 - val_accuracy: 0.9369 - lr: 1.8316e-05\n",
      "Epoch 3/50\n",
      "1875/1875 [==============================] - 64s 34ms/step - loss: 0.1121 - accuracy: 0.9668 - val_loss: 0.2189 - val_accuracy: 0.9381 - lr: 1.8316e-05\n",
      "Epoch 4/50\n",
      "1875/1875 [==============================] - 64s 34ms/step - loss: 0.1119 - accuracy: 0.9668 - val_loss: 0.2192 - val_accuracy: 0.9381 - lr: 1.8316e-05\n",
      "Epoch 5/50\n",
      "1875/1875 [==============================] - 64s 34ms/step - loss: 0.1110 - accuracy: 0.9665 - val_loss: 0.2195 - val_accuracy: 0.9379 - lr: 1.8316e-05\n",
      "Epoch 6/50\n",
      "1875/1875 [==============================] - 64s 34ms/step - loss: 0.1105 - accuracy: 0.9673 - val_loss: 0.2198 - val_accuracy: 0.9379 - lr: 1.8316e-05\n",
      "Epoch 7/50\n",
      "1875/1875 [==============================] - 60s 32ms/step - loss: 0.1113 - accuracy: 0.9668 - val_loss: 0.2205 - val_accuracy: 0.9374 - lr: 1.8316e-05\n",
      "Epoch 8/50\n",
      "1875/1875 [==============================] - 61s 32ms/step - loss: 0.1097 - accuracy: 0.9684 - val_loss: 0.2214 - val_accuracy: 0.9381 - lr: 1.8316e-05\n",
      "Epoch 9/50\n",
      "1875/1875 [==============================] - 61s 32ms/step - loss: 0.1087 - accuracy: 0.9679 - val_loss: 0.2216 - val_accuracy: 0.9382 - lr: 1.8316e-05\n",
      "Epoch 10/50\n",
      "1875/1875 [==============================] - 69s 37ms/step - loss: 0.1080 - accuracy: 0.9673 - val_loss: 0.2210 - val_accuracy: 0.9389 - lr: 1.8316e-05\n",
      "Epoch 11/50\n",
      "1875/1875 [==============================] - 72s 38ms/step - loss: 0.1078 - accuracy: 0.9683 - val_loss: 0.2221 - val_accuracy: 0.9374 - lr: 1.6573e-05\n",
      "Epoch 12/50\n",
      "1875/1875 [==============================] - 67s 36ms/step - loss: 0.1080 - accuracy: 0.9679 - val_loss: 0.2223 - val_accuracy: 0.9370 - lr: 1.4996e-05\n",
      "Epoch 13/50\n",
      "1875/1875 [==============================] - 73s 39ms/step - loss: 0.1075 - accuracy: 0.9685 - val_loss: 0.2202 - val_accuracy: 0.9376 - lr: 1.3569e-05\n",
      "Epoch 14/50\n",
      "1875/1875 [==============================] - 66s 35ms/step - loss: 0.1078 - accuracy: 0.9673 - val_loss: 0.2211 - val_accuracy: 0.9384 - lr: 1.2277e-05\n",
      "Epoch 15/50\n",
      "1875/1875 [==============================] - 66s 35ms/step - loss: 0.1081 - accuracy: 0.9669 - val_loss: 0.2213 - val_accuracy: 0.9381 - lr: 1.1109e-05\n",
      "Epoch 16/50\n",
      "1875/1875 [==============================] - 62s 33ms/step - loss: 0.1075 - accuracy: 0.9678 - val_loss: 0.2223 - val_accuracy: 0.9374 - lr: 1.0052e-05\n",
      "Epoch 17/50\n",
      "1875/1875 [==============================] - 61s 33ms/step - loss: 0.1080 - accuracy: 0.9675 - val_loss: 0.2226 - val_accuracy: 0.9375 - lr: 9.0953e-06\n",
      "Epoch 18/50\n",
      "1875/1875 [==============================] - 62s 33ms/step - loss: 0.1074 - accuracy: 0.9676 - val_loss: 0.2213 - val_accuracy: 0.9372 - lr: 8.2297e-06\n",
      "Epoch 19/50\n",
      "1875/1875 [==============================] - 53s 28ms/step - loss: 0.1061 - accuracy: 0.9688 - val_loss: 0.2227 - val_accuracy: 0.9370 - lr: 7.4466e-06\n",
      "Epoch 20/50\n",
      "1875/1875 [==============================] - 59s 31ms/step - loss: 0.1068 - accuracy: 0.9689 - val_loss: 0.2228 - val_accuracy: 0.9383 - lr: 6.7379e-06\n",
      "Epoch 21/50\n",
      "1875/1875 [==============================] - 55s 29ms/step - loss: 0.1049 - accuracy: 0.9696 - val_loss: 0.2232 - val_accuracy: 0.9374 - lr: 6.0967e-06\n",
      "Epoch 22/50\n",
      "1875/1875 [==============================] - 59s 32ms/step - loss: 0.1035 - accuracy: 0.9686 - val_loss: 0.2220 - val_accuracy: 0.9382 - lr: 5.5165e-06\n",
      "Epoch 23/50\n",
      "1875/1875 [==============================] - 57s 31ms/step - loss: 0.1051 - accuracy: 0.9690 - val_loss: 0.2224 - val_accuracy: 0.9375 - lr: 4.9916e-06\n",
      "Epoch 24/50\n",
      "1875/1875 [==============================] - 56s 30ms/step - loss: 0.1044 - accuracy: 0.9691 - val_loss: 0.2223 - val_accuracy: 0.9377 - lr: 4.5166e-06\n",
      "Epoch 25/50\n",
      "1875/1875 [==============================] - 66s 35ms/step - loss: 0.1052 - accuracy: 0.9694 - val_loss: 0.2221 - val_accuracy: 0.9376 - lr: 4.0868e-06\n",
      "Epoch 26/50\n",
      "1875/1875 [==============================] - 68s 36ms/step - loss: 0.1051 - accuracy: 0.9685 - val_loss: 0.2223 - val_accuracy: 0.9380 - lr: 3.6979e-06\n",
      "Epoch 27/50\n",
      "1875/1875 [==============================] - 61s 33ms/step - loss: 0.1042 - accuracy: 0.9688 - val_loss: 0.2222 - val_accuracy: 0.9371 - lr: 3.3460e-06\n",
      "Epoch 28/50\n",
      "1875/1875 [==============================] - 64s 34ms/step - loss: 0.1042 - accuracy: 0.9690 - val_loss: 0.2219 - val_accuracy: 0.9378 - lr: 3.0275e-06\n",
      "Epoch 29/50\n",
      "1875/1875 [==============================] - 62s 33ms/step - loss: 0.1054 - accuracy: 0.9684 - val_loss: 0.2220 - val_accuracy: 0.9374 - lr: 2.7394e-06\n",
      "Epoch 30/50\n",
      "1875/1875 [==============================] - 63s 34ms/step - loss: 0.1036 - accuracy: 0.9702 - val_loss: 0.2218 - val_accuracy: 0.9375 - lr: 2.4787e-06\n",
      "Epoch 31/50\n",
      "1875/1875 [==============================] - 64s 34ms/step - loss: 0.1032 - accuracy: 0.9699 - val_loss: 0.2225 - val_accuracy: 0.9378 - lr: 2.2429e-06\n",
      "Epoch 32/50\n",
      "1875/1875 [==============================] - 67s 36ms/step - loss: 0.1035 - accuracy: 0.9697 - val_loss: 0.2227 - val_accuracy: 0.9374 - lr: 2.0294e-06\n",
      "Epoch 33/50\n",
      "1875/1875 [==============================] - 67s 36ms/step - loss: 0.1026 - accuracy: 0.9701 - val_loss: 0.2226 - val_accuracy: 0.9380 - lr: 1.8363e-06\n",
      "Epoch 34/50\n",
      "1875/1875 [==============================] - 74s 39ms/step - loss: 0.1020 - accuracy: 0.9702 - val_loss: 0.2222 - val_accuracy: 0.9375 - lr: 1.6616e-06\n",
      "Epoch 35/50\n",
      "1875/1875 [==============================] - 61s 33ms/step - loss: 0.1018 - accuracy: 0.9705 - val_loss: 0.2225 - val_accuracy: 0.9375 - lr: 1.5034e-06\n",
      "Epoch 36/50\n",
      "1875/1875 [==============================] - 59s 32ms/step - loss: 0.1020 - accuracy: 0.9697 - val_loss: 0.2233 - val_accuracy: 0.9375 - lr: 1.3604e-06\n",
      "Epoch 37/50\n",
      "1875/1875 [==============================] - 64s 34ms/step - loss: 0.1027 - accuracy: 0.9700 - val_loss: 0.2234 - val_accuracy: 0.9376 - lr: 1.2309e-06\n",
      "Epoch 38/50\n",
      "1875/1875 [==============================] - 69s 37ms/step - loss: 0.1046 - accuracy: 0.9691 - val_loss: 0.2230 - val_accuracy: 0.9383 - lr: 1.1138e-06\n",
      "Epoch 39/50\n",
      "1875/1875 [==============================] - 68s 36ms/step - loss: 0.1055 - accuracy: 0.9685 - val_loss: 0.2226 - val_accuracy: 0.9383 - lr: 1.0078e-06\n",
      "Epoch 40/50\n",
      "1875/1875 [==============================] - 63s 34ms/step - loss: 0.1048 - accuracy: 0.9682 - val_loss: 0.2225 - val_accuracy: 0.9380 - lr: 9.1188e-07\n",
      "Epoch 41/50\n",
      "1875/1875 [==============================] - 76s 40ms/step - loss: 0.1042 - accuracy: 0.9689 - val_loss: 0.2228 - val_accuracy: 0.9379 - lr: 8.2510e-07\n",
      "Epoch 42/50\n",
      "1875/1875 [==============================] - 60s 32ms/step - loss: 0.1022 - accuracy: 0.9702 - val_loss: 0.2229 - val_accuracy: 0.9380 - lr: 7.4658e-07\n",
      "Epoch 43/50\n",
      "1875/1875 [==============================] - 72s 38ms/step - loss: 0.1019 - accuracy: 0.9706 - val_loss: 0.2224 - val_accuracy: 0.9379 - lr: 6.7554e-07\n",
      "Epoch 44/50\n",
      "1875/1875 [==============================] - 83s 44ms/step - loss: 0.1026 - accuracy: 0.9694 - val_loss: 0.2224 - val_accuracy: 0.9378 - lr: 6.1125e-07\n",
      "Epoch 45/50\n",
      "1875/1875 [==============================] - 65s 35ms/step - loss: 0.1059 - accuracy: 0.9685 - val_loss: 0.2226 - val_accuracy: 0.9380 - lr: 5.5308e-07\n",
      "Epoch 46/50\n",
      "1875/1875 [==============================] - 82s 44ms/step - loss: 0.1032 - accuracy: 0.9692 - val_loss: 0.2229 - val_accuracy: 0.9380 - lr: 5.0045e-07\n",
      "Epoch 47/50\n",
      "1875/1875 [==============================] - 65s 35ms/step - loss: 0.1051 - accuracy: 0.9685 - val_loss: 0.2222 - val_accuracy: 0.9378 - lr: 4.5283e-07\n",
      "Epoch 48/50\n",
      "1875/1875 [==============================] - 67s 36ms/step - loss: 0.1023 - accuracy: 0.9694 - val_loss: 0.2226 - val_accuracy: 0.9378 - lr: 4.0973e-07\n",
      "Epoch 49/50\n",
      "1875/1875 [==============================] - 58s 31ms/step - loss: 0.1037 - accuracy: 0.9697 - val_loss: 0.2228 - val_accuracy: 0.9385 - lr: 3.7074e-07\n",
      "Epoch 50/50\n",
      "1875/1875 [==============================] - 64s 34ms/step - loss: 0.1044 - accuracy: 0.9684 - val_loss: 0.2231 - val_accuracy: 0.9374 - lr: 3.3546e-07\n",
      "(Fit: Done in 54.08 min)\n"
     ]
    }
   ],
   "source": [
    "\n",
    "start = time.time()\n",
    "\n",
    "history = cnn_model.fit(X_train, y_train, epochs=50, validation_data=(X_test, y_test), callbacks=[callback])\n",
    "\n",
    "print('(Fit: Done in {:.2f} min)'.format((time.time() - start)/60))\n"
   ],
   "metadata": {
    "collapsed": false
   }
  },
  {
   "cell_type": "code",
   "execution_count": 16,
   "outputs": [
    {
     "name": "stdout",
     "output_type": "stream",
     "text": [
      "313/313 [==============================] - 6s 18ms/step - loss: 0.2231 - accuracy: 0.9374\n",
      "===========================\n",
      ">>>> Test Loss : 0.2231\n",
      ">>>> Test Accuracy : 0.9374\n",
      "===========================\n",
      "\n",
      "\n",
      "(Evaluate & Report: Done in 6.27 s)\n"
     ]
    },
    {
     "data": {
      "text/plain": "<Figure size 640x480 with 2 Axes>",
      "image/png": "[encoded data removed]"
     },
     "metadata": {},
     "output_type": "display_data"
    }
   ],
   "source": [
    "import time\n",
    "\n",
    "start = time.time()\n",
    "score = cnn_model.evaluate(X_test, y_test, verbose=1)\n",
    "\n",
    "print('===========================')\n",
    "print('>>>> Test Loss : {:.4f}'.format(score[0]))\n",
    "print('>>>> Test Accuracy : {:.4f}'.format(score[1]))\n",
    "print('===========================\\n\\n')\n",
    "\n",
    "fig, ax = plt.subplots(2, 1)\n",
    "ax[0].plot(history.history['loss'], color='b', label=\"Training loss\")\n",
    "ax[0].plot(history.history['val_loss'], color='r', label=\"validation loss\", axes=ax[0])\n",
    "legend = ax[0].legend(loc='best', shadow=True)\n",
    "\n",
    "ax[1].plot(history.history['accuracy'], color='b', label=\"Training accuracy\")\n",
    "ax[1].plot(history.history['val_accuracy'], color='r', label=\"Validation accuracy\")\n",
    "legend = ax[1].legend(loc='best', shadow=True)\n",
    "\n",
    "print('(Evaluate & Report: Done in {:.2f} s)'.format((time.time() - start)))\n"
   ],
   "metadata": {
    "collapsed": false
   }
  },
  {
   "cell_type": "code",
   "execution_count": 17,
   "outputs": [
    {
     "name": "stderr",
     "output_type": "stream",
     "text": [
      "WARNING:absl:Found untraced functions such as _jit_compiled_convolution_op, _jit_compiled_convolution_op, _jit_compiled_convolution_op, _jit_compiled_convolution_op while saving (showing 4 of 4). These functions will not be directly callable after loading.\n"
     ]
    },
    {
     "name": "stdout",
     "output_type": "stream",
     "text": [
      "INFO:tensorflow:Assets written to: ram://f18fda39-4dc1-4b66-b8df-74c86f158aa4/assets\n"
     ]
    },
    {
     "name": "stderr",
     "output_type": "stream",
     "text": [
      "INFO:tensorflow:Assets written to: ram://f18fda39-4dc1-4b66-b8df-74c86f158aa4/assets\n"
     ]
    },
    {
     "name": "stdout",
     "output_type": "stream",
     "text": [
      "Model saved.\n"
     ]
    }
   ],
   "source": [
    "import joblib\n",
    "\n",
    "filename = \"cnn-model04.joblib\"\n",
    "joblib.dump(cnn_model, filename)\n",
    "\n",
    "print(\"Model saved.\")"
   ],
   "metadata": {
    "collapsed": false
   }
  },
  {
   "cell_type": "code",
   "execution_count": 18,
   "outputs": [
    {
     "name": "stdout",
     "output_type": "stream",
     "text": [
      "313/313 [==============================] - 1s 4ms/step\n"
     ]
    },
    {
     "data": {
      "text/plain": "0       0\n1       1\n2       2\n3       2\n4       3\n       ..\n9995    0\n9996    6\n9997    8\n9998    8\n9999    1\nLength: 10000, dtype: int64"
     },
     "execution_count": 18,
     "metadata": {},
     "output_type": "execute_result"
    }
   ],
   "source": [
    "def prep_submissions(preds_array, file_name='submission.csv'):\n",
    "    preds_df = pd.DataFrame(preds_array)\n",
    "    predicted_labels = preds_df.idxmax(axis=1) #convert back one hot encoding to categorical variabless\n",
    "    return predicted_labels\n",
    "\n",
    "test_preds = cnn_model.predict(X_test)\n",
    "test_preds_labels = prep_submissions(test_preds)\n",
    "test_preds_labels.to_csv(\"submission.csv\")\n",
    "\n",
    "test_preds_labels"
   ],
   "metadata": {
    "collapsed": false
   }
  }
 ],
 "metadata": {
  "kernelspec": {
   "display_name": "Python 3",
   "language": "python",
   "name": "python3"
  },
  "language_info": {
   "codemirror_mode": {
    "name": "ipython",
    "version": 3
   },
   "file_extension": ".py",
   "mimetype": "text/x-python",
   "name": "python",
   "nbconvert_exporter": "python",
   "pygments_lexer": "ipython3",
   "version": "3.7.12"
  },
  "papermill": {
   "default_parameters": {},
   "duration": 1094.252041,
   "end_time": "2023-01-20T18:44:53.979037",
   "environment_variables": {},
   "exception": null,
   "input_path": "__notebook__.ipynb",
   "output_path": "__notebook__.ipynb",
   "parameters": {},
   "start_time": "2023-01-20T18:26:39.726996",
   "version": "2.3.4"
  }
 },
 "nbformat": 4,
 "nbformat_minor": 5
}
