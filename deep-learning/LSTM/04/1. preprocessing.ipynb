{
 "cells": [
  {
   "cell_type": "code",
   "execution_count": 3,
   "metadata": {},
   "outputs": [
    {
     "data": {
      "text/plain": "                    count          mean          std   min     25%     50%  \\\ndate_block_num  2935849.0     14.569911     9.422988   0.0     7.0    14.0   \nshop_id         2935849.0     33.001728    16.226973   0.0    22.0    31.0   \nitem_id         2935849.0  10197.227057  6324.297354   0.0  4476.0  9343.0   \nitem_price      2935849.0    890.853233  1729.799631  -1.0   249.0   399.0   \nitem_cnt_day    2935849.0      1.242641     2.618834 -22.0     1.0     1.0   \n\n                    75%       max  \ndate_block_num     23.0      33.0  \nshop_id            47.0      59.0  \nitem_id         15684.0   22169.0  \nitem_price        999.0  307980.0  \nitem_cnt_day        1.0    2169.0  ",
      "text/html": "<div>\n<style scoped>\n    .dataframe tbody tr th:only-of-type {\n        vertical-align: middle;\n    }\n\n    .dataframe tbody tr th {\n        vertical-align: top;\n    }\n\n    .dataframe thead th {\n        text-align: right;\n    }\n</style>\n<table border=\"1\" class=\"dataframe\">\n  <thead>\n    <tr style=\"text-align: right;\">\n      <th></th>\n      <th>count</th>\n      <th>mean</th>\n      <th>std</th>\n      <th>min</th>\n      <th>25%</th>\n      <th>50%</th>\n      <th>75%</th>\n      <th>max</th>\n    </tr>\n  </thead>\n  <tbody>\n    <tr>\n      <th>date_block_num</th>\n      <td>2935849.0</td>\n      <td>14.569911</td>\n      <td>9.422988</td>\n      <td>0.0</td>\n      <td>7.0</td>\n      <td>14.0</td>\n      <td>23.0</td>\n      <td>33.0</td>\n    </tr>\n    <tr>\n      <th>shop_id</th>\n      <td>2935849.0</td>\n      <td>33.001728</td>\n      <td>16.226973</td>\n      <td>0.0</td>\n      <td>22.0</td>\n      <td>31.0</td>\n      <td>47.0</td>\n      <td>59.0</td>\n    </tr>\n    <tr>\n      <th>item_id</th>\n      <td>2935849.0</td>\n      <td>10197.227057</td>\n      <td>6324.297354</td>\n      <td>0.0</td>\n      <td>4476.0</td>\n      <td>9343.0</td>\n      <td>15684.0</td>\n      <td>22169.0</td>\n    </tr>\n    <tr>\n      <th>item_price</th>\n      <td>2935849.0</td>\n      <td>890.853233</td>\n      <td>1729.799631</td>\n      <td>-1.0</td>\n      <td>249.0</td>\n      <td>399.0</td>\n      <td>999.0</td>\n      <td>307980.0</td>\n    </tr>\n    <tr>\n      <th>item_cnt_day</th>\n      <td>2935849.0</td>\n      <td>1.242641</td>\n      <td>2.618834</td>\n      <td>-22.0</td>\n      <td>1.0</td>\n      <td>1.0</td>\n      <td>1.0</td>\n      <td>2169.0</td>\n    </tr>\n  </tbody>\n</table>\n</div>"
     },
     "execution_count": 3,
     "metadata": {},
     "output_type": "execute_result"
    }
   ],
   "source": [
    "# Objective: predict total sales for every product and store in the next month.\n",
    "# For that I need a monthly sales table and currently I have daily sales only.\n",
    "\n",
    "from libs.simple_plotter import simple_heatmap\n",
    "import pandas as pd\n",
    "\n",
    "\n",
    "# DATA = pd.read_csv('./input/sales_train.csv', parse_dates = ['date'], infer_datetime_format = True, dayfirst = True)\n",
    "DATA = pd.read_csv('./input/sales_train.csv')\n",
    "# shops = pd.read_csv('./input/shops.csv')\n",
    "# items = pd.read_csv('./input/items.csv')\n",
    "# cats = pd.read_csv('./input/item_categories.csv')\n",
    "DATA.describe().transpose()"
   ]
  },
  {
   "cell_type": "code",
   "execution_count": 2,
   "outputs": [
    {
     "data": {
      "text/plain": "         date  date_block_num  shop_id  item_id  item_price  item_cnt_day\n0  02.01.2013               0       59    22154      999.00           1.0\n1  03.01.2013               0       25     2552      899.00           1.0\n2  05.01.2013               0       25     2552      899.00          -1.0\n3  06.01.2013               0       25     2554     1709.05           1.0\n4  15.01.2013               0       25     2555     1099.00           1.0",
      "text/html": "<div>\n<style scoped>\n    .dataframe tbody tr th:only-of-type {\n        vertical-align: middle;\n    }\n\n    .dataframe tbody tr th {\n        vertical-align: top;\n    }\n\n    .dataframe thead th {\n        text-align: right;\n    }\n</style>\n<table border=\"1\" class=\"dataframe\">\n  <thead>\n    <tr style=\"text-align: right;\">\n      <th></th>\n      <th>date</th>\n      <th>date_block_num</th>\n      <th>shop_id</th>\n      <th>item_id</th>\n      <th>item_price</th>\n      <th>item_cnt_day</th>\n    </tr>\n  </thead>\n  <tbody>\n    <tr>\n      <th>0</th>\n      <td>02.01.2013</td>\n      <td>0</td>\n      <td>59</td>\n      <td>22154</td>\n      <td>999.00</td>\n      <td>1.0</td>\n    </tr>\n    <tr>\n      <th>1</th>\n      <td>03.01.2013</td>\n      <td>0</td>\n      <td>25</td>\n      <td>2552</td>\n      <td>899.00</td>\n      <td>1.0</td>\n    </tr>\n    <tr>\n      <th>2</th>\n      <td>05.01.2013</td>\n      <td>0</td>\n      <td>25</td>\n      <td>2552</td>\n      <td>899.00</td>\n      <td>-1.0</td>\n    </tr>\n    <tr>\n      <th>3</th>\n      <td>06.01.2013</td>\n      <td>0</td>\n      <td>25</td>\n      <td>2554</td>\n      <td>1709.05</td>\n      <td>1.0</td>\n    </tr>\n    <tr>\n      <th>4</th>\n      <td>15.01.2013</td>\n      <td>0</td>\n      <td>25</td>\n      <td>2555</td>\n      <td>1099.00</td>\n      <td>1.0</td>\n    </tr>\n  </tbody>\n</table>\n</div>"
     },
     "execution_count": 2,
     "metadata": {},
     "output_type": "execute_result"
    }
   ],
   "source": [
    "DATA.head()"
   ],
   "metadata": {
    "collapsed": false
   }
  },
  {
   "cell_type": "code",
   "execution_count": 4,
   "outputs": [
    {
     "data": {
      "text/plain": "       month_number       shop_id       item_id  monthly_sales\ncount  1.609124e+06  1.609124e+06  1.609124e+06   1.609124e+06\nmean   1.466479e+01  3.280585e+01  1.068099e+04   2.267200e+00\nstd    9.542322e+00  1.653701e+01  6.238883e+03   8.649882e+00\nmin    0.000000e+00  0.000000e+00  0.000000e+00  -2.200000e+01\n25%    6.000000e+00  2.100000e+01  5.045000e+03   1.000000e+00\n50%    1.400000e+01  3.100000e+01  1.049700e+04   1.000000e+00\n75%    2.300000e+01  4.700000e+01  1.606000e+04   2.000000e+00\nmax    3.300000e+01  5.900000e+01  2.216900e+04   2.253000e+03",
      "text/html": "<div>\n<style scoped>\n    .dataframe tbody tr th:only-of-type {\n        vertical-align: middle;\n    }\n\n    .dataframe tbody tr th {\n        vertical-align: top;\n    }\n\n    .dataframe thead th {\n        text-align: right;\n    }\n</style>\n<table border=\"1\" class=\"dataframe\">\n  <thead>\n    <tr style=\"text-align: right;\">\n      <th></th>\n      <th>month_number</th>\n      <th>shop_id</th>\n      <th>item_id</th>\n      <th>monthly_sales</th>\n    </tr>\n  </thead>\n  <tbody>\n    <tr>\n      <th>count</th>\n      <td>1.609124e+06</td>\n      <td>1.609124e+06</td>\n      <td>1.609124e+06</td>\n      <td>1.609124e+06</td>\n    </tr>\n    <tr>\n      <th>mean</th>\n      <td>1.466479e+01</td>\n      <td>3.280585e+01</td>\n      <td>1.068099e+04</td>\n      <td>2.267200e+00</td>\n    </tr>\n    <tr>\n      <th>std</th>\n      <td>9.542322e+00</td>\n      <td>1.653701e+01</td>\n      <td>6.238883e+03</td>\n      <td>8.649882e+00</td>\n    </tr>\n    <tr>\n      <th>min</th>\n      <td>0.000000e+00</td>\n      <td>0.000000e+00</td>\n      <td>0.000000e+00</td>\n      <td>-2.200000e+01</td>\n    </tr>\n    <tr>\n      <th>25%</th>\n      <td>6.000000e+00</td>\n      <td>2.100000e+01</td>\n      <td>5.045000e+03</td>\n      <td>1.000000e+00</td>\n    </tr>\n    <tr>\n      <th>50%</th>\n      <td>1.400000e+01</td>\n      <td>3.100000e+01</td>\n      <td>1.049700e+04</td>\n      <td>1.000000e+00</td>\n    </tr>\n    <tr>\n      <th>75%</th>\n      <td>2.300000e+01</td>\n      <td>4.700000e+01</td>\n      <td>1.606000e+04</td>\n      <td>2.000000e+00</td>\n    </tr>\n    <tr>\n      <th>max</th>\n      <td>3.300000e+01</td>\n      <td>5.900000e+01</td>\n      <td>2.216900e+04</td>\n      <td>2.253000e+03</td>\n    </tr>\n  </tbody>\n</table>\n</div>"
     },
     "execution_count": 4,
     "metadata": {},
     "output_type": "execute_result"
    }
   ],
   "source": [
    "# Preparing the table with monthly sales\n",
    "# it is half of the size of the original table but still more than 1.5 mio of records\n",
    "# this might be hard to process\n",
    "# monthly sales amount varies from -2 to 225\n",
    "\n",
    "monthly_sales = DATA.groupby(['date_block_num', 'shop_id', 'item_id'], as_index=False)['item_cnt_day'].sum()\n",
    "monthly_sales = monthly_sales.rename(columns={\"date_block_num\": \"month_number\", \"item_cnt_day\": \"monthly_sales\"})\n",
    "monthly_sales['monthly_sales'] = monthly_sales['monthly_sales'].astype(int)\n",
    "\n",
    "monthly_sales.describe()"
   ],
   "metadata": {
    "collapsed": false
   }
  },
  {
   "cell_type": "code",
   "execution_count": 5,
   "outputs": [
    {
     "name": "stdout",
     "output_type": "stream",
     "text": [
      "<class 'pandas.core.frame.DataFrame'>\n",
      "RangeIndex: 1609124 entries, 0 to 1609123\n",
      "Data columns (total 4 columns):\n",
      " #   Column         Non-Null Count    Dtype\n",
      "---  ------         --------------    -----\n",
      " 0   month_number   1609124 non-null  int64\n",
      " 1   shop_id        1609124 non-null  int64\n",
      " 2   item_id        1609124 non-null  int64\n",
      " 3   monthly_sales  1609124 non-null  int64\n",
      "dtypes: int64(4)\n",
      "memory usage: 49.1 MB\n"
     ]
    }
   ],
   "source": [
    "# no nulls, all in numbers\n",
    "\n",
    "monthly_sales.info()"
   ],
   "metadata": {
    "collapsed": false
   }
  },
  {
   "cell_type": "code",
   "execution_count": 5,
   "outputs": [
    {
     "data": {
      "text/plain": "         month_number  shop_id  item_id  monthly_sales\n0                   0        0       32              6\n1                   0        0       33              3\n2                   0        0       35              1\n3                   0        0       43              1\n4                   0        0       51              2\n...               ...      ...      ...            ...\n1609119            33       59    22087              6\n1609120            33       59    22088              2\n1609121            33       59    22091              1\n1609122            33       59    22100              1\n1609123            33       59    22102              1\n\n[1609124 rows x 4 columns]",
      "text/html": "<div>\n<style scoped>\n    .dataframe tbody tr th:only-of-type {\n        vertical-align: middle;\n    }\n\n    .dataframe tbody tr th {\n        vertical-align: top;\n    }\n\n    .dataframe thead th {\n        text-align: right;\n    }\n</style>\n<table border=\"1\" class=\"dataframe\">\n  <thead>\n    <tr style=\"text-align: right;\">\n      <th></th>\n      <th>month_number</th>\n      <th>shop_id</th>\n      <th>item_id</th>\n      <th>monthly_sales</th>\n    </tr>\n  </thead>\n  <tbody>\n    <tr>\n      <th>0</th>\n      <td>0</td>\n      <td>0</td>\n      <td>32</td>\n      <td>6</td>\n    </tr>\n    <tr>\n      <th>1</th>\n      <td>0</td>\n      <td>0</td>\n      <td>33</td>\n      <td>3</td>\n    </tr>\n    <tr>\n      <th>2</th>\n      <td>0</td>\n      <td>0</td>\n      <td>35</td>\n      <td>1</td>\n    </tr>\n    <tr>\n      <th>3</th>\n      <td>0</td>\n      <td>0</td>\n      <td>43</td>\n      <td>1</td>\n    </tr>\n    <tr>\n      <th>4</th>\n      <td>0</td>\n      <td>0</td>\n      <td>51</td>\n      <td>2</td>\n    </tr>\n    <tr>\n      <th>...</th>\n      <td>...</td>\n      <td>...</td>\n      <td>...</td>\n      <td>...</td>\n    </tr>\n    <tr>\n      <th>1609119</th>\n      <td>33</td>\n      <td>59</td>\n      <td>22087</td>\n      <td>6</td>\n    </tr>\n    <tr>\n      <th>1609120</th>\n      <td>33</td>\n      <td>59</td>\n      <td>22088</td>\n      <td>2</td>\n    </tr>\n    <tr>\n      <th>1609121</th>\n      <td>33</td>\n      <td>59</td>\n      <td>22091</td>\n      <td>1</td>\n    </tr>\n    <tr>\n      <th>1609122</th>\n      <td>33</td>\n      <td>59</td>\n      <td>22100</td>\n      <td>1</td>\n    </tr>\n    <tr>\n      <th>1609123</th>\n      <td>33</td>\n      <td>59</td>\n      <td>22102</td>\n      <td>1</td>\n    </tr>\n  </tbody>\n</table>\n<p>1609124 rows × 4 columns</p>\n</div>"
     },
     "execution_count": 5,
     "metadata": {},
     "output_type": "execute_result"
    }
   ],
   "source": [
    "monthly_sales\n"
   ],
   "metadata": {
    "collapsed": false
   }
  },
  {
   "cell_type": "code",
   "execution_count": 6,
   "outputs": [
    {
     "name": "stdout",
     "output_type": "stream",
     "text": [
      "<class 'pandas.core.frame.DataFrame'>\n",
      "RangeIndex: 34 entries, 0 to 33\n",
      "Data columns (total 2 columns):\n",
      " #   Column         Non-Null Count  Dtype\n",
      "---  ------         --------------  -----\n",
      " 0   month_number   34 non-null     int64\n",
      " 1   monthly_sales  34 non-null     int64\n",
      "dtypes: int64(2)\n",
      "memory usage: 672.0 bytes\n",
      "None\n"
     ]
    },
    {
     "data": {
      "text/plain": "[<matplotlib.lines.Line2D at 0x1342eae60>]"
     },
     "execution_count": 6,
     "metadata": {},
     "output_type": "execute_result"
    },
    {
     "data": {
      "text/plain": "<Figure size 640x480 with 1 Axes>",
      "image/png": "[encoded data removed]"
     },
     "metadata": {},
     "output_type": "display_data"
    }
   ],
   "source": [
    "# Let's see summarized global sales amount per month, just to take a look at the global sales trends and seasons\n",
    "# there is definitely seasonality and trends related to it.\n",
    "\n",
    "import matplotlib.pyplot as plt\n",
    "\n",
    "global_sales = monthly_sales.groupby(['month_number'], as_index=False)['monthly_sales'].sum()\n",
    "print(global_sales.info())\n",
    "\n",
    "fig, ax = plt.subplots()\n",
    "ax.plot(global_sales.month_number, global_sales.monthly_sales)\n"
   ],
   "metadata": {
    "collapsed": false
   }
  },
  {
   "cell_type": "code",
   "execution_count": 9,
   "outputs": [
    {
     "data": {
      "text/plain": "    shop_id  month_number\n0         0          4821\n1         1          3282\n2         2         15553\n3         3         16827\n4         4         23741\n5         5         24108\n6         6         47250\n7         7         32700\n8         8          2465\n9         9          1591\n10       10         14917\n11       11           371\n12       12         20742\n13       13         12105\n14       14         22853\n15       15         31784\n16       16         31303\n17       17         15125\n18       18         30594\n19       19         36630\n20       20           795\n21       21         36830\n22       22         24720\n23       23          4427\n24       24         29141\n25       25         87977\n26       26         32386\n27       27         48438\n28       28         64639\n29       29         27544\n30       30         30980\n31       31         99241\n32       32          5525\n33       33          3544\n34       34          4135\n35       35         34187\n36       36           258\n37       37         25699\n38       38         26109\n39       39          9781\n40       40          2235\n41       41         25316\n42       42         56861\n43       43         21720\n44       44         27085\n45       45         23156\n46       46         36659\n47       47         32033\n48       48         13580\n49       49         11120\n50       50         36203\n51       51         29890\n52       52         27855\n53       53         30166\n54       54         70471\n55       55         12766\n56       56         43876\n57       57         59972\n58       58         37954\n59       59         25088",
      "text/html": "<div>\n<style scoped>\n    .dataframe tbody tr th:only-of-type {\n        vertical-align: middle;\n    }\n\n    .dataframe tbody tr th {\n        vertical-align: top;\n    }\n\n    .dataframe thead th {\n        text-align: right;\n    }\n</style>\n<table border=\"1\" class=\"dataframe\">\n  <thead>\n    <tr style=\"text-align: right;\">\n      <th></th>\n      <th>shop_id</th>\n      <th>month_number</th>\n    </tr>\n  </thead>\n  <tbody>\n    <tr>\n      <th>0</th>\n      <td>0</td>\n      <td>4821</td>\n    </tr>\n    <tr>\n      <th>1</th>\n      <td>1</td>\n      <td>3282</td>\n    </tr>\n    <tr>\n      <th>2</th>\n      <td>2</td>\n      <td>15553</td>\n    </tr>\n    <tr>\n      <th>3</th>\n      <td>3</td>\n      <td>16827</td>\n    </tr>\n    <tr>\n      <th>4</th>\n      <td>4</td>\n      <td>23741</td>\n    </tr>\n    <tr>\n      <th>5</th>\n      <td>5</td>\n      <td>24108</td>\n    </tr>\n    <tr>\n      <th>6</th>\n      <td>6</td>\n      <td>47250</td>\n    </tr>\n    <tr>\n      <th>7</th>\n      <td>7</td>\n      <td>32700</td>\n    </tr>\n    <tr>\n      <th>8</th>\n      <td>8</td>\n      <td>2465</td>\n    </tr>\n    <tr>\n      <th>9</th>\n      <td>9</td>\n      <td>1591</td>\n    </tr>\n    <tr>\n      <th>10</th>\n      <td>10</td>\n      <td>14917</td>\n    </tr>\n    <tr>\n      <th>11</th>\n      <td>11</td>\n      <td>371</td>\n    </tr>\n    <tr>\n      <th>12</th>\n      <td>12</td>\n      <td>20742</td>\n    </tr>\n    <tr>\n      <th>13</th>\n      <td>13</td>\n      <td>12105</td>\n    </tr>\n    <tr>\n      <th>14</th>\n      <td>14</td>\n      <td>22853</td>\n    </tr>\n    <tr>\n      <th>15</th>\n      <td>15</td>\n      <td>31784</td>\n    </tr>\n    <tr>\n      <th>16</th>\n      <td>16</td>\n      <td>31303</td>\n    </tr>\n    <tr>\n      <th>17</th>\n      <td>17</td>\n      <td>15125</td>\n    </tr>\n    <tr>\n      <th>18</th>\n      <td>18</td>\n      <td>30594</td>\n    </tr>\n    <tr>\n      <th>19</th>\n      <td>19</td>\n      <td>36630</td>\n    </tr>\n    <tr>\n      <th>20</th>\n      <td>20</td>\n      <td>795</td>\n    </tr>\n    <tr>\n      <th>21</th>\n      <td>21</td>\n      <td>36830</td>\n    </tr>\n    <tr>\n      <th>22</th>\n      <td>22</td>\n      <td>24720</td>\n    </tr>\n    <tr>\n      <th>23</th>\n      <td>23</td>\n      <td>4427</td>\n    </tr>\n    <tr>\n      <th>24</th>\n      <td>24</td>\n      <td>29141</td>\n    </tr>\n    <tr>\n      <th>25</th>\n      <td>25</td>\n      <td>87977</td>\n    </tr>\n    <tr>\n      <th>26</th>\n      <td>26</td>\n      <td>32386</td>\n    </tr>\n    <tr>\n      <th>27</th>\n      <td>27</td>\n      <td>48438</td>\n    </tr>\n    <tr>\n      <th>28</th>\n      <td>28</td>\n      <td>64639</td>\n    </tr>\n    <tr>\n      <th>29</th>\n      <td>29</td>\n      <td>27544</td>\n    </tr>\n    <tr>\n      <th>30</th>\n      <td>30</td>\n      <td>30980</td>\n    </tr>\n    <tr>\n      <th>31</th>\n      <td>31</td>\n      <td>99241</td>\n    </tr>\n    <tr>\n      <th>32</th>\n      <td>32</td>\n      <td>5525</td>\n    </tr>\n    <tr>\n      <th>33</th>\n      <td>33</td>\n      <td>3544</td>\n    </tr>\n    <tr>\n      <th>34</th>\n      <td>34</td>\n      <td>4135</td>\n    </tr>\n    <tr>\n      <th>35</th>\n      <td>35</td>\n      <td>34187</td>\n    </tr>\n    <tr>\n      <th>36</th>\n      <td>36</td>\n      <td>258</td>\n    </tr>\n    <tr>\n      <th>37</th>\n      <td>37</td>\n      <td>25699</td>\n    </tr>\n    <tr>\n      <th>38</th>\n      <td>38</td>\n      <td>26109</td>\n    </tr>\n    <tr>\n      <th>39</th>\n      <td>39</td>\n      <td>9781</td>\n    </tr>\n    <tr>\n      <th>40</th>\n      <td>40</td>\n      <td>2235</td>\n    </tr>\n    <tr>\n      <th>41</th>\n      <td>41</td>\n      <td>25316</td>\n    </tr>\n    <tr>\n      <th>42</th>\n      <td>42</td>\n      <td>56861</td>\n    </tr>\n    <tr>\n      <th>43</th>\n      <td>43</td>\n      <td>21720</td>\n    </tr>\n    <tr>\n      <th>44</th>\n      <td>44</td>\n      <td>27085</td>\n    </tr>\n    <tr>\n      <th>45</th>\n      <td>45</td>\n      <td>23156</td>\n    </tr>\n    <tr>\n      <th>46</th>\n      <td>46</td>\n      <td>36659</td>\n    </tr>\n    <tr>\n      <th>47</th>\n      <td>47</td>\n      <td>32033</td>\n    </tr>\n    <tr>\n      <th>48</th>\n      <td>48</td>\n      <td>13580</td>\n    </tr>\n    <tr>\n      <th>49</th>\n      <td>49</td>\n      <td>11120</td>\n    </tr>\n    <tr>\n      <th>50</th>\n      <td>50</td>\n      <td>36203</td>\n    </tr>\n    <tr>\n      <th>51</th>\n      <td>51</td>\n      <td>29890</td>\n    </tr>\n    <tr>\n      <th>52</th>\n      <td>52</td>\n      <td>27855</td>\n    </tr>\n    <tr>\n      <th>53</th>\n      <td>53</td>\n      <td>30166</td>\n    </tr>\n    <tr>\n      <th>54</th>\n      <td>54</td>\n      <td>70471</td>\n    </tr>\n    <tr>\n      <th>55</th>\n      <td>55</td>\n      <td>12766</td>\n    </tr>\n    <tr>\n      <th>56</th>\n      <td>56</td>\n      <td>43876</td>\n    </tr>\n    <tr>\n      <th>57</th>\n      <td>57</td>\n      <td>59972</td>\n    </tr>\n    <tr>\n      <th>58</th>\n      <td>58</td>\n      <td>37954</td>\n    </tr>\n    <tr>\n      <th>59</th>\n      <td>59</td>\n      <td>25088</td>\n    </tr>\n  </tbody>\n</table>\n</div>"
     },
     "execution_count": 9,
     "metadata": {},
     "output_type": "execute_result"
    }
   ],
   "source": [
    "# The full data\n",
    "# I want to extract that trend by using specific shop id or item id.\n",
    "# And it looks like each shop has different amount of items,\n",
    "# monthly_sales\n",
    "\n",
    "items_in_shop = monthly_sales.copy()\n",
    "items_in_shop = items_in_shop.drop(columns=['monthly_sales'])\n",
    "\n",
    "res = items_in_shop.groupby(['shop_id'], as_index=False)['month_number'].count()\n",
    "\n",
    "res\n",
    "#\n",
    "# fig, ax = plt.subplots()\n",
    "# ax.plot(res.shop_id, res.month_number)"
   ],
   "metadata": {
    "collapsed": false
   }
  },
  {
   "cell_type": "code",
   "execution_count": 12,
   "outputs": [
    {
     "data": {
      "text/plain": "       item_id  month_number\n0           26             1\n1           27             1\n2           28             3\n3           29             2\n4           30            26\n...        ...           ...\n14411    22160             7\n14412    22162             8\n14413    22163             3\n14414    22164             9\n14415    22167            21\n\n[14416 rows x 2 columns]",
      "text/html": "<div>\n<style scoped>\n    .dataframe tbody tr th:only-of-type {\n        vertical-align: middle;\n    }\n\n    .dataframe tbody tr th {\n        vertical-align: top;\n    }\n\n    .dataframe thead th {\n        text-align: right;\n    }\n</style>\n<table border=\"1\" class=\"dataframe\">\n  <thead>\n    <tr style=\"text-align: right;\">\n      <th></th>\n      <th>item_id</th>\n      <th>month_number</th>\n    </tr>\n  </thead>\n  <tbody>\n    <tr>\n      <th>0</th>\n      <td>26</td>\n      <td>1</td>\n    </tr>\n    <tr>\n      <th>1</th>\n      <td>27</td>\n      <td>1</td>\n    </tr>\n    <tr>\n      <th>2</th>\n      <td>28</td>\n      <td>3</td>\n    </tr>\n    <tr>\n      <th>3</th>\n      <td>29</td>\n      <td>2</td>\n    </tr>\n    <tr>\n      <th>4</th>\n      <td>30</td>\n      <td>26</td>\n    </tr>\n    <tr>\n      <th>...</th>\n      <td>...</td>\n      <td>...</td>\n    </tr>\n    <tr>\n      <th>14411</th>\n      <td>22160</td>\n      <td>7</td>\n    </tr>\n    <tr>\n      <th>14412</th>\n      <td>22162</td>\n      <td>8</td>\n    </tr>\n    <tr>\n      <th>14413</th>\n      <td>22163</td>\n      <td>3</td>\n    </tr>\n    <tr>\n      <th>14414</th>\n      <td>22164</td>\n      <td>9</td>\n    </tr>\n    <tr>\n      <th>14415</th>\n      <td>22167</td>\n      <td>21</td>\n    </tr>\n  </tbody>\n</table>\n<p>14416 rows × 2 columns</p>\n</div>"
     },
     "execution_count": 12,
     "metadata": {},
     "output_type": "execute_result"
    }
   ],
   "source": [
    "by_shop = monthly_sales.query('shop_id==31')\n",
    "res = by_shop.groupby(['item_id'], as_index=False)['month_number'].count()\n",
    "res\n"
   ],
   "metadata": {
    "collapsed": false
   }
  },
  {
   "cell_type": "code",
   "execution_count": 11,
   "outputs": [
    {
     "name": "stdout",
     "output_type": "stream",
     "text": [
      "shop id: 31 used times: 99241\n",
      "item id: 5822 used times: 1452\n"
     ]
    }
   ],
   "source": [
    "# Let's check which item and shop id are most frequently used.\n",
    "\n",
    "items_frequent = monthly_sales['item_id'].value_counts()\n",
    "shops_frequent = monthly_sales['shop_id'].value_counts()\n",
    "\n",
    "print(\"shop id:\", shops_frequent.index[0], \"used times:\", shops_frequent.values[0])  # 31\n",
    "print(\"item id:\", items_frequent.index[0], \"used times:\", items_frequent.values[0])  # 5822\n",
    "\n",
    "# print(shops_frequent)"
   ],
   "metadata": {
    "collapsed": false
   }
  },
  {
   "cell_type": "code",
   "execution_count": 7,
   "outputs": [
    {
     "name": "stdout",
     "output_type": "stream",
     "text": [
      "Done\n"
     ]
    }
   ],
   "source": [
    "# so, for quick training I will use by_shop table as it's much smaller than the original\n",
    "# import sys, imp\n",
    "# imp.reload(sys.modules['constants'])\n",
    "from constants import preprocessed_data\n",
    "\n",
    "monthly_sales.to_csv(preprocessed_data, index=False)\n",
    "\n",
    "print(\"Done\")\n"
   ],
   "metadata": {
    "collapsed": false
   }
  },
  {
   "cell_type": "markdown",
   "source": [],
   "metadata": {
    "collapsed": false
   }
  }
 ],
 "metadata": {
  "kernelspec": {
   "display_name": "Python 3 (ipykernel)",
   "language": "python",
   "name": "python3"
  },
  "language_info": {
   "codemirror_mode": {
    "name": "ipython",
    "version": 3
   },
   "file_extension": ".py",
   "mimetype": "text/x-python",
   "name": "python",
   "nbconvert_exporter": "python",
   "pygments_lexer": "ipython3",
   "version": "3.9.7"
  }
 },
 "nbformat": 4,
 "nbformat_minor": 1
}
