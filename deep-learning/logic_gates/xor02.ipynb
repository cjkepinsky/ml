{
 "cells": [
  {
   "cell_type": "code",
   "execution_count": 2,
   "metadata": {
    "collapsed": true,
    "pycharm": {
     "name": "#%%\n"
    }
   },
   "outputs": [
    {
     "name": "stdout",
     "output_type": "stream",
     "text": [
      "(4, 2)\n",
      "y: (4,)\n"
     ]
    }
   ],
   "source": [
    "import pandas as pd\n",
    "import numpy as np\n",
    "\n",
    "from libs.simple_processing import separate_target\n",
    "\n",
    "DATA = pd.read_csv('xor.csv', delimiter=';')\n",
    "\n",
    "X, y = separate_target(DATA, 'y')\n",
    "\n",
    "print(X.shape)\n",
    "print('y:', y.shape)\n"
   ]
  },
  {
   "cell_type": "code",
   "execution_count": 17,
   "outputs": [
    {
     "name": "stdout",
     "output_type": "stream",
     "text": [
      "   x1  x2\n",
      "0   0   0\n",
      "1   0   1\n",
      "2   1   0\n",
      "3   1   1\n",
      "0    0\n",
      "1    1\n",
      "2    1\n",
      "3    0\n",
      "Name: y, dtype: int64\n"
     ]
    }
   ],
   "source": [
    "print(X.head())\n",
    "print(y.head())"
   ],
   "metadata": {
    "collapsed": false,
    "pycharm": {
     "name": "#%%\n"
    }
   }
  },
  {
   "cell_type": "code",
   "execution_count": 3,
   "outputs": [
    {
     "name": "stdout",
     "output_type": "stream",
     "text": [
      "[2]\n",
      "(4, 2)\n"
     ]
    }
   ],
   "source": [
    "from sklearn.model_selection import train_test_split\n",
    "from tensorflow.keras.callbacks import EarlyStopping\n",
    "\n",
    "# patience below 7 cuts to early\n",
    "early_stopping = EarlyStopping(\n",
    "    min_delta=0.0005,  # minimium amount of change to count as an improvement\n",
    "    patience=7,  # how many epochs to wait before stopping\n",
    "    restore_best_weights=True,\n",
    ")\n",
    "# X_train, X_valid, y_train, y_valid = train_test_split(X, y, train_size=0.6, random_state=40)\n",
    "\n",
    "X_train = X.copy()\n",
    "y_train = y.copy()\n",
    "X_valid = X.copy()\n",
    "y_valid = y.copy()\n",
    "\n",
    "input_shape = [X_train.shape[1]]\n",
    "print(input_shape)\n",
    "print(X_train.shape)"
   ],
   "metadata": {
    "collapsed": false,
    "pycharm": {
     "name": "#%%\n"
    }
   }
  },
  {
   "cell_type": "code",
   "execution_count": 4,
   "outputs": [
    {
     "name": "stdout",
     "output_type": "stream",
     "text": [
      "0    0\n",
      "1    1\n",
      "2    1\n",
      "3    0\n",
      "Name: y, dtype: int64\n"
     ]
    }
   ],
   "source": [
    "print(y_train)"
   ],
   "metadata": {
    "collapsed": false,
    "pycharm": {
     "name": "#%%\n"
    }
   }
  },
  {
   "cell_type": "code",
   "execution_count": 11,
   "outputs": [
    {
     "name": "stdout",
     "output_type": "stream",
     "text": [
      "Epoch 1/250\n",
      "1/1 [==============================] - ETA: 0s - loss: 0.1629 - binary_accuracy: 0.7500"
     ]
    },
    {
     "name": "stderr",
     "output_type": "stream",
     "text": [
      "2022-10-10 17:38:03.375871: I tensorflow/core/grappler/optimizers/custom_graph_optimizer_registry.cc:113] Plugin optimizer for device_type GPU is enabled.\n"
     ]
    },
    {
     "name": "stdout",
     "output_type": "stream",
     "text": [
      "1/1 [==============================] - 1s 501ms/step - loss: 0.1629 - binary_accuracy: 0.7500 - val_loss: 0.1526 - val_binary_accuracy: 0.7500\n",
      "Epoch 2/250\n",
      "1/1 [==============================] - 0s 34ms/step - loss: 0.1526 - binary_accuracy: 0.7500 - val_loss: 0.1455 - val_binary_accuracy: 0.7500\n",
      "Epoch 3/250\n",
      "1/1 [==============================] - 0s 23ms/step - loss: 0.1455 - binary_accuracy: 0.7500 - val_loss: 0.1397 - val_binary_accuracy: 0.7500\n",
      "Epoch 4/250\n",
      "1/1 [==============================] - 0s 27ms/step - loss: 0.1397 - binary_accuracy: 0.7500 - val_loss: 0.1348 - val_binary_accuracy: 0.7500\n",
      "Epoch 5/250\n",
      "1/1 [==============================] - 0s 27ms/step - loss: 0.1348 - binary_accuracy: 0.7500 - val_loss: 0.1304 - val_binary_accuracy: 0.7500\n",
      "Epoch 6/250\n",
      "1/1 [==============================] - 0s 25ms/step - loss: 0.1304 - binary_accuracy: 0.7500 - val_loss: 0.1265 - val_binary_accuracy: 0.7500\n",
      "Epoch 7/250\n",
      "1/1 [==============================] - ETA: 0s - loss: 0.1265 - binary_accuracy: 0.7500"
     ]
    },
    {
     "name": "stderr",
     "output_type": "stream",
     "text": [
      "2022-10-10 17:38:03.622758: I tensorflow/core/grappler/optimizers/custom_graph_optimizer_registry.cc:113] Plugin optimizer for device_type GPU is enabled.\n"
     ]
    },
    {
     "name": "stdout",
     "output_type": "stream",
     "text": [
      "1/1 [==============================] - 0s 24ms/step - loss: 0.1265 - binary_accuracy: 0.7500 - val_loss: 0.1228 - val_binary_accuracy: 0.7500\n",
      "Epoch 8/250\n",
      "1/1 [==============================] - 0s 23ms/step - loss: 0.1228 - binary_accuracy: 0.7500 - val_loss: 0.1194 - val_binary_accuracy: 0.7500\n",
      "Epoch 9/250\n",
      "1/1 [==============================] - 0s 27ms/step - loss: 0.1194 - binary_accuracy: 0.7500 - val_loss: 0.1162 - val_binary_accuracy: 0.7500\n",
      "Epoch 10/250\n",
      "1/1 [==============================] - 0s 22ms/step - loss: 0.1162 - binary_accuracy: 0.7500 - val_loss: 0.1132 - val_binary_accuracy: 0.7500\n",
      "Epoch 11/250\n",
      "1/1 [==============================] - 0s 24ms/step - loss: 0.1132 - binary_accuracy: 0.7500 - val_loss: 0.1103 - val_binary_accuracy: 0.7500\n",
      "Epoch 12/250\n",
      "1/1 [==============================] - 0s 28ms/step - loss: 0.1103 - binary_accuracy: 0.7500 - val_loss: 0.1076 - val_binary_accuracy: 0.7500\n",
      "Epoch 13/250\n",
      "1/1 [==============================] - 0s 26ms/step - loss: 0.1076 - binary_accuracy: 0.7500 - val_loss: 0.1050 - val_binary_accuracy: 0.7500\n",
      "Epoch 14/250\n",
      "1/1 [==============================] - 0s 28ms/step - loss: 0.1050 - binary_accuracy: 0.7500 - val_loss: 0.1025 - val_binary_accuracy: 0.7500\n",
      "Epoch 15/250\n",
      "1/1 [==============================] - 0s 30ms/step - loss: 0.1025 - binary_accuracy: 0.7500 - val_loss: 0.1000 - val_binary_accuracy: 0.7500\n",
      "Epoch 16/250\n",
      "1/1 [==============================] - 0s 31ms/step - loss: 0.1000 - binary_accuracy: 0.7500 - val_loss: 0.0977 - val_binary_accuracy: 0.7500\n",
      "Epoch 17/250\n",
      "1/1 [==============================] - 0s 60ms/step - loss: 0.0977 - binary_accuracy: 0.7500 - val_loss: 0.0955 - val_binary_accuracy: 0.7500\n",
      "Epoch 18/250\n",
      "1/1 [==============================] - 0s 45ms/step - loss: 0.0955 - binary_accuracy: 0.7500 - val_loss: 0.0933 - val_binary_accuracy: 0.7500\n",
      "Epoch 19/250\n",
      "1/1 [==============================] - 0s 48ms/step - loss: 0.0933 - binary_accuracy: 0.7500 - val_loss: 0.0913 - val_binary_accuracy: 0.7500\n",
      "Epoch 20/250\n",
      "1/1 [==============================] - 0s 40ms/step - loss: 0.0913 - binary_accuracy: 0.7500 - val_loss: 0.0893 - val_binary_accuracy: 0.7500\n",
      "Epoch 21/250\n",
      "1/1 [==============================] - 0s 39ms/step - loss: 0.0893 - binary_accuracy: 0.7500 - val_loss: 0.0873 - val_binary_accuracy: 0.7500\n",
      "Epoch 22/250\n",
      "1/1 [==============================] - 0s 35ms/step - loss: 0.0873 - binary_accuracy: 0.7500 - val_loss: 0.0854 - val_binary_accuracy: 0.7500\n",
      "Epoch 23/250\n",
      "1/1 [==============================] - 0s 29ms/step - loss: 0.0854 - binary_accuracy: 0.7500 - val_loss: 0.0836 - val_binary_accuracy: 0.7500\n",
      "Epoch 24/250\n",
      "1/1 [==============================] - 0s 22ms/step - loss: 0.0836 - binary_accuracy: 0.7500 - val_loss: 0.0819 - val_binary_accuracy: 0.7500\n",
      "Epoch 25/250\n",
      "1/1 [==============================] - 0s 29ms/step - loss: 0.0819 - binary_accuracy: 0.7500 - val_loss: 0.0802 - val_binary_accuracy: 0.7500\n",
      "Epoch 26/250\n",
      "1/1 [==============================] - 0s 31ms/step - loss: 0.0802 - binary_accuracy: 0.7500 - val_loss: 0.0785 - val_binary_accuracy: 1.0000\n",
      "Epoch 27/250\n",
      "1/1 [==============================] - 0s 30ms/step - loss: 0.0785 - binary_accuracy: 1.0000 - val_loss: 0.0770 - val_binary_accuracy: 1.0000\n",
      "Epoch 28/250\n",
      "1/1 [==============================] - 0s 30ms/step - loss: 0.0770 - binary_accuracy: 1.0000 - val_loss: 0.0754 - val_binary_accuracy: 1.0000\n",
      "Epoch 29/250\n",
      "1/1 [==============================] - 0s 27ms/step - loss: 0.0754 - binary_accuracy: 1.0000 - val_loss: 0.0739 - val_binary_accuracy: 1.0000\n",
      "Epoch 30/250\n",
      "1/1 [==============================] - 0s 28ms/step - loss: 0.0739 - binary_accuracy: 1.0000 - val_loss: 0.0725 - val_binary_accuracy: 1.0000\n",
      "Epoch 31/250\n",
      "1/1 [==============================] - 0s 28ms/step - loss: 0.0725 - binary_accuracy: 1.0000 - val_loss: 0.0711 - val_binary_accuracy: 1.0000\n",
      "Epoch 32/250\n",
      "1/1 [==============================] - 0s 29ms/step - loss: 0.0711 - binary_accuracy: 1.0000 - val_loss: 0.0698 - val_binary_accuracy: 1.0000\n",
      "Epoch 33/250\n",
      "1/1 [==============================] - 0s 28ms/step - loss: 0.0698 - binary_accuracy: 1.0000 - val_loss: 0.0685 - val_binary_accuracy: 1.0000\n",
      "Epoch 34/250\n",
      "1/1 [==============================] - 0s 29ms/step - loss: 0.0685 - binary_accuracy: 1.0000 - val_loss: 0.0673 - val_binary_accuracy: 1.0000\n",
      "Epoch 35/250\n",
      "1/1 [==============================] - 0s 32ms/step - loss: 0.0673 - binary_accuracy: 1.0000 - val_loss: 0.0661 - val_binary_accuracy: 1.0000\n",
      "Epoch 36/250\n",
      "1/1 [==============================] - 0s 25ms/step - loss: 0.0661 - binary_accuracy: 1.0000 - val_loss: 0.0649 - val_binary_accuracy: 1.0000\n",
      "Epoch 37/250\n",
      "1/1 [==============================] - 0s 27ms/step - loss: 0.0649 - binary_accuracy: 1.0000 - val_loss: 0.0638 - val_binary_accuracy: 1.0000\n",
      "Epoch 38/250\n",
      "1/1 [==============================] - 0s 32ms/step - loss: 0.0638 - binary_accuracy: 1.0000 - val_loss: 0.0627 - val_binary_accuracy: 1.0000\n",
      "Epoch 39/250\n",
      "1/1 [==============================] - 0s 30ms/step - loss: 0.0627 - binary_accuracy: 1.0000 - val_loss: 0.0617 - val_binary_accuracy: 1.0000\n",
      "Epoch 40/250\n",
      "1/1 [==============================] - 0s 25ms/step - loss: 0.0617 - binary_accuracy: 1.0000 - val_loss: 0.0607 - val_binary_accuracy: 1.0000\n",
      "Epoch 41/250\n",
      "1/1 [==============================] - 0s 24ms/step - loss: 0.0607 - binary_accuracy: 1.0000 - val_loss: 0.0597 - val_binary_accuracy: 1.0000\n",
      "Epoch 42/250\n",
      "1/1 [==============================] - 0s 36ms/step - loss: 0.0597 - binary_accuracy: 1.0000 - val_loss: 0.0588 - val_binary_accuracy: 1.0000\n",
      "Epoch 43/250\n",
      "1/1 [==============================] - 0s 34ms/step - loss: 0.0588 - binary_accuracy: 1.0000 - val_loss: 0.0579 - val_binary_accuracy: 1.0000\n",
      "Epoch 44/250\n",
      "1/1 [==============================] - 0s 40ms/step - loss: 0.0579 - binary_accuracy: 1.0000 - val_loss: 0.0570 - val_binary_accuracy: 1.0000\n",
      "Epoch 45/250\n",
      "1/1 [==============================] - 0s 36ms/step - loss: 0.0570 - binary_accuracy: 1.0000 - val_loss: 0.0562 - val_binary_accuracy: 1.0000\n",
      "Epoch 46/250\n",
      "1/1 [==============================] - 0s 29ms/step - loss: 0.0562 - binary_accuracy: 1.0000 - val_loss: 0.0554 - val_binary_accuracy: 1.0000\n",
      "Epoch 47/250\n",
      "1/1 [==============================] - 0s 24ms/step - loss: 0.0554 - binary_accuracy: 1.0000 - val_loss: 0.0547 - val_binary_accuracy: 1.0000\n",
      "Epoch 48/250\n",
      "1/1 [==============================] - 0s 26ms/step - loss: 0.0547 - binary_accuracy: 1.0000 - val_loss: 0.0540 - val_binary_accuracy: 1.0000\n",
      "Epoch 49/250\n",
      "1/1 [==============================] - 0s 25ms/step - loss: 0.0540 - binary_accuracy: 1.0000 - val_loss: 0.0533 - val_binary_accuracy: 1.0000\n",
      "Epoch 50/250\n",
      "1/1 [==============================] - 0s 28ms/step - loss: 0.0533 - binary_accuracy: 1.0000 - val_loss: 0.0527 - val_binary_accuracy: 1.0000\n",
      "Epoch 51/250\n",
      "1/1 [==============================] - 0s 30ms/step - loss: 0.0527 - binary_accuracy: 1.0000 - val_loss: 0.0520 - val_binary_accuracy: 1.0000\n",
      "Epoch 52/250\n",
      "1/1 [==============================] - 0s 29ms/step - loss: 0.0520 - binary_accuracy: 1.0000 - val_loss: 0.0514 - val_binary_accuracy: 1.0000\n",
      "Epoch 53/250\n",
      "1/1 [==============================] - 0s 27ms/step - loss: 0.0514 - binary_accuracy: 1.0000 - val_loss: 0.0508 - val_binary_accuracy: 1.0000\n",
      "Epoch 54/250\n",
      "1/1 [==============================] - 0s 20ms/step - loss: 0.0508 - binary_accuracy: 1.0000 - val_loss: 0.0502 - val_binary_accuracy: 1.0000\n",
      "Epoch 55/250\n",
      "1/1 [==============================] - 0s 28ms/step - loss: 0.0502 - binary_accuracy: 1.0000 - val_loss: 0.0496 - val_binary_accuracy: 1.0000\n",
      "Epoch 56/250\n",
      "1/1 [==============================] - 0s 29ms/step - loss: 0.0496 - binary_accuracy: 1.0000 - val_loss: 0.0491 - val_binary_accuracy: 1.0000\n",
      "Epoch 57/250\n",
      "1/1 [==============================] - 0s 26ms/step - loss: 0.0491 - binary_accuracy: 1.0000 - val_loss: 0.0485 - val_binary_accuracy: 1.0000\n",
      "Epoch 58/250\n",
      "1/1 [==============================] - 0s 26ms/step - loss: 0.0485 - binary_accuracy: 1.0000 - val_loss: 0.0480 - val_binary_accuracy: 1.0000\n",
      "Epoch 59/250\n",
      "1/1 [==============================] - 0s 26ms/step - loss: 0.0480 - binary_accuracy: 1.0000 - val_loss: 0.0474 - val_binary_accuracy: 1.0000\n",
      "Epoch 60/250\n",
      "1/1 [==============================] - 0s 24ms/step - loss: 0.0474 - binary_accuracy: 1.0000 - val_loss: 0.0469 - val_binary_accuracy: 1.0000\n",
      "Epoch 61/250\n",
      "1/1 [==============================] - 0s 27ms/step - loss: 0.0469 - binary_accuracy: 1.0000 - val_loss: 0.0464 - val_binary_accuracy: 1.0000\n",
      "Epoch 62/250\n",
      "1/1 [==============================] - 0s 26ms/step - loss: 0.0464 - binary_accuracy: 1.0000 - val_loss: 0.0458 - val_binary_accuracy: 1.0000\n",
      "Epoch 63/250\n",
      "1/1 [==============================] - 0s 26ms/step - loss: 0.0458 - binary_accuracy: 1.0000 - val_loss: 0.0453 - val_binary_accuracy: 1.0000\n",
      "Epoch 64/250\n",
      "1/1 [==============================] - 0s 26ms/step - loss: 0.0453 - binary_accuracy: 1.0000 - val_loss: 0.0448 - val_binary_accuracy: 1.0000\n",
      "Epoch 65/250\n",
      "1/1 [==============================] - 0s 30ms/step - loss: 0.0448 - binary_accuracy: 1.0000 - val_loss: 0.0443 - val_binary_accuracy: 1.0000\n",
      "Epoch 66/250\n",
      "1/1 [==============================] - 0s 28ms/step - loss: 0.0443 - binary_accuracy: 1.0000 - val_loss: 0.0438 - val_binary_accuracy: 1.0000\n",
      "Epoch 67/250\n",
      "1/1 [==============================] - 0s 28ms/step - loss: 0.0438 - binary_accuracy: 1.0000 - val_loss: 0.0433 - val_binary_accuracy: 1.0000\n",
      "Epoch 68/250\n",
      "1/1 [==============================] - 0s 25ms/step - loss: 0.0433 - binary_accuracy: 1.0000 - val_loss: 0.0428 - val_binary_accuracy: 1.0000\n",
      "Epoch 69/250\n",
      "1/1 [==============================] - 0s 26ms/step - loss: 0.0428 - binary_accuracy: 1.0000 - val_loss: 0.0423 - val_binary_accuracy: 1.0000\n",
      "Epoch 70/250\n",
      "1/1 [==============================] - 0s 24ms/step - loss: 0.0423 - binary_accuracy: 1.0000 - val_loss: 0.0418 - val_binary_accuracy: 1.0000\n",
      "Epoch 71/250\n",
      "1/1 [==============================] - 0s 30ms/step - loss: 0.0418 - binary_accuracy: 1.0000 - val_loss: 0.0413 - val_binary_accuracy: 1.0000\n",
      "Epoch 72/250\n",
      "1/1 [==============================] - 0s 20ms/step - loss: 0.0413 - binary_accuracy: 1.0000 - val_loss: 0.0408 - val_binary_accuracy: 1.0000\n",
      "Epoch 73/250\n",
      "1/1 [==============================] - 0s 33ms/step - loss: 0.0408 - binary_accuracy: 1.0000 - val_loss: 0.0403 - val_binary_accuracy: 1.0000\n",
      "Epoch 74/250\n",
      "1/1 [==============================] - 0s 24ms/step - loss: 0.0403 - binary_accuracy: 1.0000 - val_loss: 0.0398 - val_binary_accuracy: 1.0000\n",
      "Epoch 75/250\n",
      "1/1 [==============================] - 0s 26ms/step - loss: 0.0398 - binary_accuracy: 1.0000 - val_loss: 0.0393 - val_binary_accuracy: 1.0000\n",
      "Epoch 76/250\n",
      "1/1 [==============================] - 0s 23ms/step - loss: 0.0393 - binary_accuracy: 1.0000 - val_loss: 0.0388 - val_binary_accuracy: 1.0000\n",
      "Epoch 77/250\n",
      "1/1 [==============================] - 0s 41ms/step - loss: 0.0388 - binary_accuracy: 1.0000 - val_loss: 0.0383 - val_binary_accuracy: 1.0000\n",
      "Epoch 78/250\n",
      "1/1 [==============================] - 0s 26ms/step - loss: 0.0383 - binary_accuracy: 1.0000 - val_loss: 0.0378 - val_binary_accuracy: 1.0000\n",
      "Epoch 79/250\n",
      "1/1 [==============================] - 0s 38ms/step - loss: 0.0378 - binary_accuracy: 1.0000 - val_loss: 0.0373 - val_binary_accuracy: 1.0000\n",
      "Epoch 80/250\n",
      "1/1 [==============================] - 0s 26ms/step - loss: 0.0373 - binary_accuracy: 1.0000 - val_loss: 0.0369 - val_binary_accuracy: 1.0000\n",
      "Epoch 81/250\n",
      "1/1 [==============================] - 0s 30ms/step - loss: 0.0369 - binary_accuracy: 1.0000 - val_loss: 0.0364 - val_binary_accuracy: 1.0000\n",
      "Epoch 82/250\n",
      "1/1 [==============================] - 0s 25ms/step - loss: 0.0364 - binary_accuracy: 1.0000 - val_loss: 0.0359 - val_binary_accuracy: 1.0000\n",
      "Epoch 83/250\n",
      "1/1 [==============================] - 0s 28ms/step - loss: 0.0359 - binary_accuracy: 1.0000 - val_loss: 0.0354 - val_binary_accuracy: 1.0000\n",
      "Epoch 84/250\n",
      "1/1 [==============================] - 0s 28ms/step - loss: 0.0354 - binary_accuracy: 1.0000 - val_loss: 0.0349 - val_binary_accuracy: 1.0000\n",
      "Epoch 85/250\n",
      "1/1 [==============================] - 0s 29ms/step - loss: 0.0349 - binary_accuracy: 1.0000 - val_loss: 0.0345 - val_binary_accuracy: 1.0000\n",
      "Epoch 86/250\n",
      "1/1 [==============================] - 0s 26ms/step - loss: 0.0345 - binary_accuracy: 1.0000 - val_loss: 0.0340 - val_binary_accuracy: 1.0000\n",
      "Epoch 87/250\n",
      "1/1 [==============================] - 0s 27ms/step - loss: 0.0340 - binary_accuracy: 1.0000 - val_loss: 0.0336 - val_binary_accuracy: 1.0000\n",
      "Epoch 88/250\n",
      "1/1 [==============================] - 0s 21ms/step - loss: 0.0336 - binary_accuracy: 1.0000 - val_loss: 0.0332 - val_binary_accuracy: 1.0000\n",
      "Epoch 89/250\n",
      "1/1 [==============================] - 0s 25ms/step - loss: 0.0332 - binary_accuracy: 1.0000 - val_loss: 0.0327 - val_binary_accuracy: 1.0000\n",
      "Epoch 90/250\n",
      "1/1 [==============================] - 0s 22ms/step - loss: 0.0327 - binary_accuracy: 1.0000 - val_loss: 0.0323 - val_binary_accuracy: 1.0000\n",
      "Epoch 91/250\n",
      "1/1 [==============================] - 0s 27ms/step - loss: 0.0323 - binary_accuracy: 1.0000 - val_loss: 0.0319 - val_binary_accuracy: 1.0000\n",
      "Epoch 92/250\n",
      "1/1 [==============================] - 0s 25ms/step - loss: 0.0319 - binary_accuracy: 1.0000 - val_loss: 0.0315 - val_binary_accuracy: 1.0000\n",
      "Epoch 93/250\n",
      "1/1 [==============================] - 0s 26ms/step - loss: 0.0315 - binary_accuracy: 1.0000 - val_loss: 0.0311 - val_binary_accuracy: 1.0000\n",
      "Epoch 94/250\n",
      "1/1 [==============================] - 0s 25ms/step - loss: 0.0311 - binary_accuracy: 1.0000 - val_loss: 0.0307 - val_binary_accuracy: 1.0000\n",
      "Epoch 95/250\n",
      "1/1 [==============================] - 0s 27ms/step - loss: 0.0307 - binary_accuracy: 1.0000 - val_loss: 0.0303 - val_binary_accuracy: 1.0000\n",
      "Epoch 96/250\n",
      "1/1 [==============================] - 0s 24ms/step - loss: 0.0303 - binary_accuracy: 1.0000 - val_loss: 0.0299 - val_binary_accuracy: 1.0000\n",
      "Epoch 97/250\n",
      "1/1 [==============================] - 0s 26ms/step - loss: 0.0299 - binary_accuracy: 1.0000 - val_loss: 0.0295 - val_binary_accuracy: 1.0000\n",
      "Epoch 98/250\n",
      "1/1 [==============================] - 0s 24ms/step - loss: 0.0295 - binary_accuracy: 1.0000 - val_loss: 0.0291 - val_binary_accuracy: 1.0000\n",
      "Epoch 99/250\n",
      "1/1 [==============================] - 0s 25ms/step - loss: 0.0291 - binary_accuracy: 1.0000 - val_loss: 0.0287 - val_binary_accuracy: 1.0000\n",
      "Epoch 100/250\n",
      "1/1 [==============================] - 0s 23ms/step - loss: 0.0287 - binary_accuracy: 1.0000 - val_loss: 0.0283 - val_binary_accuracy: 1.0000\n",
      "Epoch 101/250\n",
      "1/1 [==============================] - 0s 26ms/step - loss: 0.0283 - binary_accuracy: 1.0000 - val_loss: 0.0280 - val_binary_accuracy: 1.0000\n",
      "Epoch 102/250\n",
      "1/1 [==============================] - 0s 24ms/step - loss: 0.0280 - binary_accuracy: 1.0000 - val_loss: 0.0276 - val_binary_accuracy: 1.0000\n",
      "Epoch 103/250\n",
      "1/1 [==============================] - 0s 28ms/step - loss: 0.0276 - binary_accuracy: 1.0000 - val_loss: 0.0272 - val_binary_accuracy: 1.0000\n",
      "Epoch 104/250\n",
      "1/1 [==============================] - 0s 30ms/step - loss: 0.0272 - binary_accuracy: 1.0000 - val_loss: 0.0268 - val_binary_accuracy: 1.0000\n",
      "Epoch 105/250\n",
      "1/1 [==============================] - 0s 71ms/step - loss: 0.0268 - binary_accuracy: 1.0000 - val_loss: 0.0264 - val_binary_accuracy: 1.0000\n",
      "Epoch 106/250\n",
      "1/1 [==============================] - 0s 42ms/step - loss: 0.0264 - binary_accuracy: 1.0000 - val_loss: 0.0260 - val_binary_accuracy: 1.0000\n",
      "Epoch 107/250\n",
      "1/1 [==============================] - 0s 30ms/step - loss: 0.0260 - binary_accuracy: 1.0000 - val_loss: 0.0256 - val_binary_accuracy: 1.0000\n",
      "Epoch 108/250\n",
      "1/1 [==============================] - 0s 63ms/step - loss: 0.0256 - binary_accuracy: 1.0000 - val_loss: 0.0252 - val_binary_accuracy: 1.0000\n",
      "Epoch 109/250\n",
      "1/1 [==============================] - 0s 30ms/step - loss: 0.0252 - binary_accuracy: 1.0000 - val_loss: 0.0249 - val_binary_accuracy: 1.0000\n",
      "Epoch 110/250\n",
      "1/1 [==============================] - 0s 28ms/step - loss: 0.0249 - binary_accuracy: 1.0000 - val_loss: 0.0245 - val_binary_accuracy: 1.0000\n",
      "Epoch 111/250\n",
      "1/1 [==============================] - 0s 23ms/step - loss: 0.0245 - binary_accuracy: 1.0000 - val_loss: 0.0241 - val_binary_accuracy: 1.0000\n",
      "Epoch 112/250\n",
      "1/1 [==============================] - 0s 25ms/step - loss: 0.0241 - binary_accuracy: 1.0000 - val_loss: 0.0238 - val_binary_accuracy: 1.0000\n",
      "Epoch 113/250\n",
      "1/1 [==============================] - 0s 24ms/step - loss: 0.0238 - binary_accuracy: 1.0000 - val_loss: 0.0234 - val_binary_accuracy: 1.0000\n",
      "Epoch 114/250\n",
      "1/1 [==============================] - 0s 19ms/step - loss: 0.0234 - binary_accuracy: 1.0000 - val_loss: 0.0230 - val_binary_accuracy: 1.0000\n",
      "Epoch 115/250\n",
      "1/1 [==============================] - 0s 21ms/step - loss: 0.0230 - binary_accuracy: 1.0000 - val_loss: 0.0226 - val_binary_accuracy: 1.0000\n",
      "Epoch 116/250\n",
      "1/1 [==============================] - 0s 21ms/step - loss: 0.0226 - binary_accuracy: 1.0000 - val_loss: 0.0223 - val_binary_accuracy: 1.0000\n",
      "Epoch 117/250\n",
      "1/1 [==============================] - 0s 22ms/step - loss: 0.0223 - binary_accuracy: 1.0000 - val_loss: 0.0219 - val_binary_accuracy: 1.0000\n",
      "Epoch 118/250\n",
      "1/1 [==============================] - 0s 21ms/step - loss: 0.0219 - binary_accuracy: 1.0000 - val_loss: 0.0215 - val_binary_accuracy: 1.0000\n",
      "Epoch 119/250\n",
      "1/1 [==============================] - 0s 21ms/step - loss: 0.0215 - binary_accuracy: 1.0000 - val_loss: 0.0212 - val_binary_accuracy: 1.0000\n",
      "Epoch 120/250\n",
      "1/1 [==============================] - 0s 17ms/step - loss: 0.0212 - binary_accuracy: 1.0000 - val_loss: 0.0208 - val_binary_accuracy: 1.0000\n",
      "Epoch 121/250\n",
      "1/1 [==============================] - 0s 20ms/step - loss: 0.0208 - binary_accuracy: 1.0000 - val_loss: 0.0205 - val_binary_accuracy: 1.0000\n",
      "Epoch 122/250\n",
      "1/1 [==============================] - 0s 19ms/step - loss: 0.0205 - binary_accuracy: 1.0000 - val_loss: 0.0201 - val_binary_accuracy: 1.0000\n",
      "Epoch 123/250\n",
      "1/1 [==============================] - 0s 24ms/step - loss: 0.0201 - binary_accuracy: 1.0000 - val_loss: 0.0198 - val_binary_accuracy: 1.0000\n",
      "Epoch 124/250\n",
      "1/1 [==============================] - 0s 19ms/step - loss: 0.0198 - binary_accuracy: 1.0000 - val_loss: 0.0194 - val_binary_accuracy: 1.0000\n",
      "Epoch 125/250\n",
      "1/1 [==============================] - 0s 21ms/step - loss: 0.0194 - binary_accuracy: 1.0000 - val_loss: 0.0191 - val_binary_accuracy: 1.0000\n",
      "Epoch 126/250\n",
      "1/1 [==============================] - 0s 23ms/step - loss: 0.0191 - binary_accuracy: 1.0000 - val_loss: 0.0187 - val_binary_accuracy: 1.0000\n",
      "Epoch 127/250\n",
      "1/1 [==============================] - 0s 21ms/step - loss: 0.0187 - binary_accuracy: 1.0000 - val_loss: 0.0184 - val_binary_accuracy: 1.0000\n",
      "Epoch 128/250\n",
      "1/1 [==============================] - 0s 20ms/step - loss: 0.0184 - binary_accuracy: 1.0000 - val_loss: 0.0180 - val_binary_accuracy: 1.0000\n",
      "Epoch 129/250\n",
      "1/1 [==============================] - 0s 25ms/step - loss: 0.0180 - binary_accuracy: 1.0000 - val_loss: 0.0177 - val_binary_accuracy: 1.0000\n",
      "Epoch 130/250\n",
      "1/1 [==============================] - 0s 26ms/step - loss: 0.0177 - binary_accuracy: 1.0000 - val_loss: 0.0174 - val_binary_accuracy: 1.0000\n",
      "Epoch 131/250\n",
      "1/1 [==============================] - 0s 26ms/step - loss: 0.0174 - binary_accuracy: 1.0000 - val_loss: 0.0170 - val_binary_accuracy: 1.0000\n",
      "Epoch 132/250\n",
      "1/1 [==============================] - 0s 21ms/step - loss: 0.0170 - binary_accuracy: 1.0000 - val_loss: 0.0167 - val_binary_accuracy: 1.0000\n",
      "Epoch 133/250\n",
      "1/1 [==============================] - 0s 31ms/step - loss: 0.0167 - binary_accuracy: 1.0000 - val_loss: 0.0164 - val_binary_accuracy: 1.0000\n",
      "Epoch 134/250\n",
      "1/1 [==============================] - 0s 22ms/step - loss: 0.0164 - binary_accuracy: 1.0000 - val_loss: 0.0160 - val_binary_accuracy: 1.0000\n",
      "Epoch 135/250\n",
      "1/1 [==============================] - 0s 19ms/step - loss: 0.0160 - binary_accuracy: 1.0000 - val_loss: 0.0157 - val_binary_accuracy: 1.0000\n",
      "Epoch 136/250\n",
      "1/1 [==============================] - 0s 18ms/step - loss: 0.0157 - binary_accuracy: 1.0000 - val_loss: 0.0154 - val_binary_accuracy: 1.0000\n",
      "Epoch 137/250\n",
      "1/1 [==============================] - 0s 24ms/step - loss: 0.0154 - binary_accuracy: 1.0000 - val_loss: 0.0151 - val_binary_accuracy: 1.0000\n",
      "Epoch 138/250\n",
      "1/1 [==============================] - 0s 22ms/step - loss: 0.0151 - binary_accuracy: 1.0000 - val_loss: 0.0148 - val_binary_accuracy: 1.0000\n",
      "Epoch 139/250\n",
      "1/1 [==============================] - 0s 23ms/step - loss: 0.0148 - binary_accuracy: 1.0000 - val_loss: 0.0145 - val_binary_accuracy: 1.0000\n",
      "Epoch 140/250\n",
      "1/1 [==============================] - 0s 20ms/step - loss: 0.0145 - binary_accuracy: 1.0000 - val_loss: 0.0142 - val_binary_accuracy: 1.0000\n",
      "Epoch 141/250\n",
      "1/1 [==============================] - 0s 24ms/step - loss: 0.0142 - binary_accuracy: 1.0000 - val_loss: 0.0138 - val_binary_accuracy: 1.0000\n",
      "Epoch 142/250\n",
      "1/1 [==============================] - 0s 21ms/step - loss: 0.0138 - binary_accuracy: 1.0000 - val_loss: 0.0135 - val_binary_accuracy: 1.0000\n",
      "Epoch 143/250\n",
      "1/1 [==============================] - 0s 26ms/step - loss: 0.0135 - binary_accuracy: 1.0000 - val_loss: 0.0132 - val_binary_accuracy: 1.0000\n",
      "Epoch 144/250\n",
      "1/1 [==============================] - 0s 19ms/step - loss: 0.0132 - binary_accuracy: 1.0000 - val_loss: 0.0129 - val_binary_accuracy: 1.0000\n",
      "Epoch 145/250\n",
      "1/1 [==============================] - 0s 23ms/step - loss: 0.0129 - binary_accuracy: 1.0000 - val_loss: 0.0126 - val_binary_accuracy: 1.0000\n",
      "Epoch 146/250\n",
      "1/1 [==============================] - 0s 21ms/step - loss: 0.0126 - binary_accuracy: 1.0000 - val_loss: 0.0124 - val_binary_accuracy: 1.0000\n",
      "Epoch 147/250\n",
      "1/1 [==============================] - 0s 23ms/step - loss: 0.0124 - binary_accuracy: 1.0000 - val_loss: 0.0121 - val_binary_accuracy: 1.0000\n",
      "Epoch 148/250\n",
      "1/1 [==============================] - 0s 20ms/step - loss: 0.0121 - binary_accuracy: 1.0000 - val_loss: 0.0118 - val_binary_accuracy: 1.0000\n",
      "Epoch 149/250\n",
      "1/1 [==============================] - 0s 22ms/step - loss: 0.0118 - binary_accuracy: 1.0000 - val_loss: 0.0115 - val_binary_accuracy: 1.0000\n",
      "Epoch 150/250\n",
      "1/1 [==============================] - 0s 21ms/step - loss: 0.0115 - binary_accuracy: 1.0000 - val_loss: 0.0112 - val_binary_accuracy: 1.0000\n",
      "Epoch 151/250\n",
      "1/1 [==============================] - 0s 29ms/step - loss: 0.0112 - binary_accuracy: 1.0000 - val_loss: 0.0110 - val_binary_accuracy: 1.0000\n",
      "Epoch 152/250\n",
      "1/1 [==============================] - 0s 24ms/step - loss: 0.0110 - binary_accuracy: 1.0000 - val_loss: 0.0107 - val_binary_accuracy: 1.0000\n",
      "Epoch 153/250\n",
      "1/1 [==============================] - 0s 24ms/step - loss: 0.0107 - binary_accuracy: 1.0000 - val_loss: 0.0104 - val_binary_accuracy: 1.0000\n",
      "Epoch 154/250\n",
      "1/1 [==============================] - 0s 25ms/step - loss: 0.0104 - binary_accuracy: 1.0000 - val_loss: 0.0101 - val_binary_accuracy: 1.0000\n",
      "Epoch 155/250\n",
      "1/1 [==============================] - 0s 25ms/step - loss: 0.0101 - binary_accuracy: 1.0000 - val_loss: 0.0099 - val_binary_accuracy: 1.0000\n",
      "Epoch 156/250\n",
      "1/1 [==============================] - 0s 20ms/step - loss: 0.0099 - binary_accuracy: 1.0000 - val_loss: 0.0096 - val_binary_accuracy: 1.0000\n",
      "Epoch 157/250\n",
      "1/1 [==============================] - 0s 23ms/step - loss: 0.0096 - binary_accuracy: 1.0000 - val_loss: 0.0094 - val_binary_accuracy: 1.0000\n",
      "Epoch 158/250\n",
      "1/1 [==============================] - 0s 22ms/step - loss: 0.0094 - binary_accuracy: 1.0000 - val_loss: 0.0091 - val_binary_accuracy: 1.0000\n",
      "Epoch 159/250\n",
      "1/1 [==============================] - 0s 29ms/step - loss: 0.0091 - binary_accuracy: 1.0000 - val_loss: 0.0089 - val_binary_accuracy: 1.0000\n",
      "Epoch 160/250\n",
      "1/1 [==============================] - 0s 23ms/step - loss: 0.0089 - binary_accuracy: 1.0000 - val_loss: 0.0086 - val_binary_accuracy: 1.0000\n",
      "Epoch 161/250\n",
      "1/1 [==============================] - 0s 20ms/step - loss: 0.0086 - binary_accuracy: 1.0000 - val_loss: 0.0084 - val_binary_accuracy: 1.0000\n",
      "Epoch 162/250\n",
      "1/1 [==============================] - 0s 20ms/step - loss: 0.0084 - binary_accuracy: 1.0000 - val_loss: 0.0081 - val_binary_accuracy: 1.0000\n",
      "Epoch 163/250\n",
      "1/1 [==============================] - 0s 18ms/step - loss: 0.0081 - binary_accuracy: 1.0000 - val_loss: 0.0079 - val_binary_accuracy: 1.0000\n",
      "Epoch 164/250\n",
      "1/1 [==============================] - 0s 19ms/step - loss: 0.0079 - binary_accuracy: 1.0000 - val_loss: 0.0077 - val_binary_accuracy: 1.0000\n",
      "Epoch 165/250\n",
      "1/1 [==============================] - 0s 19ms/step - loss: 0.0077 - binary_accuracy: 1.0000 - val_loss: 0.0074 - val_binary_accuracy: 1.0000\n",
      "Epoch 166/250\n",
      "1/1 [==============================] - 0s 16ms/step - loss: 0.0074 - binary_accuracy: 1.0000 - val_loss: 0.0072 - val_binary_accuracy: 1.0000\n",
      "Epoch 167/250\n",
      "1/1 [==============================] - 0s 19ms/step - loss: 0.0072 - binary_accuracy: 1.0000 - val_loss: 0.0070 - val_binary_accuracy: 1.0000\n",
      "Epoch 168/250\n",
      "1/1 [==============================] - 0s 22ms/step - loss: 0.0070 - binary_accuracy: 1.0000 - val_loss: 0.0068 - val_binary_accuracy: 1.0000\n",
      "Epoch 169/250\n",
      "1/1 [==============================] - 0s 20ms/step - loss: 0.0068 - binary_accuracy: 1.0000 - val_loss: 0.0065 - val_binary_accuracy: 1.0000\n",
      "Epoch 170/250\n",
      "1/1 [==============================] - 0s 20ms/step - loss: 0.0065 - binary_accuracy: 1.0000 - val_loss: 0.0063 - val_binary_accuracy: 1.0000\n",
      "Epoch 171/250\n",
      "1/1 [==============================] - 0s 23ms/step - loss: 0.0063 - binary_accuracy: 1.0000 - val_loss: 0.0061 - val_binary_accuracy: 1.0000\n",
      "Epoch 172/250\n",
      "1/1 [==============================] - 0s 21ms/step - loss: 0.0061 - binary_accuracy: 1.0000 - val_loss: 0.0059 - val_binary_accuracy: 1.0000\n",
      "Epoch 173/250\n",
      "1/1 [==============================] - 0s 20ms/step - loss: 0.0059 - binary_accuracy: 1.0000 - val_loss: 0.0057 - val_binary_accuracy: 1.0000\n",
      "Epoch 174/250\n",
      "1/1 [==============================] - 0s 19ms/step - loss: 0.0057 - binary_accuracy: 1.0000 - val_loss: 0.0055 - val_binary_accuracy: 1.0000\n",
      "Epoch 175/250\n",
      "1/1 [==============================] - 0s 18ms/step - loss: 0.0055 - binary_accuracy: 1.0000 - val_loss: 0.0053 - val_binary_accuracy: 1.0000\n",
      "Epoch 176/250\n",
      "1/1 [==============================] - 0s 19ms/step - loss: 0.0053 - binary_accuracy: 1.0000 - val_loss: 0.0051 - val_binary_accuracy: 1.0000\n",
      "Epoch 177/250\n",
      "1/1 [==============================] - 0s 21ms/step - loss: 0.0051 - binary_accuracy: 1.0000 - val_loss: 0.0050 - val_binary_accuracy: 1.0000\n",
      "Epoch 178/250\n",
      "1/1 [==============================] - 0s 18ms/step - loss: 0.0050 - binary_accuracy: 1.0000 - val_loss: 0.0048 - val_binary_accuracy: 1.0000\n",
      "Epoch 179/250\n",
      "1/1 [==============================] - 0s 18ms/step - loss: 0.0048 - binary_accuracy: 1.0000 - val_loss: 0.0046 - val_binary_accuracy: 1.0000\n",
      "Epoch 180/250\n",
      "1/1 [==============================] - 0s 20ms/step - loss: 0.0046 - binary_accuracy: 1.0000 - val_loss: 0.0044 - val_binary_accuracy: 1.0000\n",
      "Epoch 181/250\n",
      "1/1 [==============================] - 0s 18ms/step - loss: 0.0044 - binary_accuracy: 1.0000 - val_loss: 0.0043 - val_binary_accuracy: 1.0000\n",
      "Epoch 182/250\n",
      "1/1 [==============================] - 0s 19ms/step - loss: 0.0043 - binary_accuracy: 1.0000 - val_loss: 0.0041 - val_binary_accuracy: 1.0000\n",
      "Epoch 183/250\n",
      "1/1 [==============================] - 0s 23ms/step - loss: 0.0041 - binary_accuracy: 1.0000 - val_loss: 0.0039 - val_binary_accuracy: 1.0000\n",
      "Epoch 184/250\n",
      "1/1 [==============================] - 0s 18ms/step - loss: 0.0039 - binary_accuracy: 1.0000 - val_loss: 0.0038 - val_binary_accuracy: 1.0000\n",
      "Epoch 185/250\n",
      "1/1 [==============================] - 0s 19ms/step - loss: 0.0038 - binary_accuracy: 1.0000 - val_loss: 0.0036 - val_binary_accuracy: 1.0000\n",
      "Epoch 186/250\n",
      "1/1 [==============================] - 0s 18ms/step - loss: 0.0036 - binary_accuracy: 1.0000 - val_loss: 0.0034 - val_binary_accuracy: 1.0000\n",
      "Epoch 187/250\n",
      "1/1 [==============================] - 0s 21ms/step - loss: 0.0034 - binary_accuracy: 1.0000 - val_loss: 0.0033 - val_binary_accuracy: 1.0000\n",
      "Epoch 188/250\n",
      "1/1 [==============================] - 0s 19ms/step - loss: 0.0033 - binary_accuracy: 1.0000 - val_loss: 0.0032 - val_binary_accuracy: 1.0000\n",
      "Epoch 189/250\n",
      "1/1 [==============================] - 0s 19ms/step - loss: 0.0032 - binary_accuracy: 1.0000 - val_loss: 0.0030 - val_binary_accuracy: 1.0000\n",
      "Epoch 190/250\n",
      "1/1 [==============================] - 0s 20ms/step - loss: 0.0030 - binary_accuracy: 1.0000 - val_loss: 0.0029 - val_binary_accuracy: 1.0000\n",
      "Epoch 191/250\n",
      "1/1 [==============================] - 0s 22ms/step - loss: 0.0029 - binary_accuracy: 1.0000 - val_loss: 0.0027 - val_binary_accuracy: 1.0000\n",
      "Epoch 192/250\n",
      "1/1 [==============================] - 0s 19ms/step - loss: 0.0027 - binary_accuracy: 1.0000 - val_loss: 0.0026 - val_binary_accuracy: 1.0000\n",
      "Epoch 193/250\n",
      "1/1 [==============================] - 0s 23ms/step - loss: 0.0026 - binary_accuracy: 1.0000 - val_loss: 0.0025 - val_binary_accuracy: 1.0000\n",
      "Epoch 194/250\n",
      "1/1 [==============================] - 0s 21ms/step - loss: 0.0025 - binary_accuracy: 1.0000 - val_loss: 0.0024 - val_binary_accuracy: 1.0000\n",
      "Epoch 195/250\n",
      "1/1 [==============================] - 0s 18ms/step - loss: 0.0024 - binary_accuracy: 1.0000 - val_loss: 0.0022 - val_binary_accuracy: 1.0000\n",
      "Epoch 196/250\n",
      "1/1 [==============================] - 0s 21ms/step - loss: 0.0022 - binary_accuracy: 1.0000 - val_loss: 0.0021 - val_binary_accuracy: 1.0000\n",
      "Epoch 197/250\n",
      "1/1 [==============================] - 0s 21ms/step - loss: 0.0021 - binary_accuracy: 1.0000 - val_loss: 0.0020 - val_binary_accuracy: 1.0000\n",
      "Epoch 198/250\n",
      "1/1 [==============================] - 0s 21ms/step - loss: 0.0020 - binary_accuracy: 1.0000 - val_loss: 0.0019 - val_binary_accuracy: 1.0000\n",
      "Epoch 199/250\n",
      "1/1 [==============================] - 0s 21ms/step - loss: 0.0019 - binary_accuracy: 1.0000 - val_loss: 0.0018 - val_binary_accuracy: 1.0000\n",
      "Epoch 200/250\n",
      "1/1 [==============================] - 0s 18ms/step - loss: 0.0018 - binary_accuracy: 1.0000 - val_loss: 0.0017 - val_binary_accuracy: 1.0000\n",
      "Epoch 201/250\n",
      "1/1 [==============================] - 0s 22ms/step - loss: 0.0017 - binary_accuracy: 1.0000 - val_loss: 0.0016 - val_binary_accuracy: 1.0000\n",
      "Epoch 202/250\n",
      "1/1 [==============================] - 0s 24ms/step - loss: 0.0016 - binary_accuracy: 1.0000 - val_loss: 0.0015 - val_binary_accuracy: 1.0000\n",
      "Epoch 203/250\n",
      "1/1 [==============================] - 0s 21ms/step - loss: 0.0015 - binary_accuracy: 1.0000 - val_loss: 0.0014 - val_binary_accuracy: 1.0000\n",
      "Epoch 204/250\n",
      "1/1 [==============================] - 0s 22ms/step - loss: 0.0014 - binary_accuracy: 1.0000 - val_loss: 0.0013 - val_binary_accuracy: 1.0000\n",
      "Epoch 205/250\n",
      "1/1 [==============================] - 0s 20ms/step - loss: 0.0013 - binary_accuracy: 1.0000 - val_loss: 0.0012 - val_binary_accuracy: 1.0000\n",
      "Epoch 206/250\n",
      "1/1 [==============================] - 0s 20ms/step - loss: 0.0012 - binary_accuracy: 1.0000 - val_loss: 0.0012 - val_binary_accuracy: 1.0000\n",
      "Epoch 207/250\n",
      "1/1 [==============================] - 0s 23ms/step - loss: 0.0012 - binary_accuracy: 1.0000 - val_loss: 0.0011 - val_binary_accuracy: 1.0000\n",
      "Epoch 208/250\n",
      "1/1 [==============================] - 0s 20ms/step - loss: 0.0011 - binary_accuracy: 1.0000 - val_loss: 0.0010 - val_binary_accuracy: 1.0000\n",
      "Epoch 209/250\n",
      "1/1 [==============================] - 0s 22ms/step - loss: 0.0010 - binary_accuracy: 1.0000 - val_loss: 9.3797e-04 - val_binary_accuracy: 1.0000\n",
      "Epoch 210/250\n",
      "1/1 [==============================] - 0s 21ms/step - loss: 9.3797e-04 - binary_accuracy: 1.0000 - val_loss: 8.7356e-04 - val_binary_accuracy: 1.0000\n",
      "Epoch 211/250\n",
      "1/1 [==============================] - 0s 22ms/step - loss: 8.7356e-04 - binary_accuracy: 1.0000 - val_loss: 8.0751e-04 - val_binary_accuracy: 1.0000\n",
      "Epoch 212/250\n",
      "1/1 [==============================] - 0s 22ms/step - loss: 8.0751e-04 - binary_accuracy: 1.0000 - val_loss: 7.4903e-04 - val_binary_accuracy: 1.0000\n",
      "Epoch 213/250\n",
      "1/1 [==============================] - 0s 23ms/step - loss: 7.4903e-04 - binary_accuracy: 1.0000 - val_loss: 6.8951e-04 - val_binary_accuracy: 1.0000\n",
      "Epoch 214/250\n",
      "1/1 [==============================] - 0s 22ms/step - loss: 6.8951e-04 - binary_accuracy: 1.0000 - val_loss: 6.3688e-04 - val_binary_accuracy: 1.0000\n",
      "Minimum Validation Loss: 0.00064\n"
     ]
    }
   ],
   "source": [
    "from tensorflow import keras\n",
    "from tensorflow.keras import layers\n",
    "from ann_visualizer.visualize import ann_viz\n",
    "from graphviz import Source\n",
    "from keras.layers import Activation\n",
    "\n",
    "# initially I got val loss 0.07 because Id column present. After removing it I got 0.13\n",
    "# Then I experimented with optimizers, loss and activation functions and the number of layers and neurons and finally got it back to 0.0700\n",
    "\n",
    "# activation_function = 'relu'\n",
    "from keras import backend as K\n",
    "from keras.utils.generic_utils import get_custom_objects\n",
    "\n",
    "\n",
    "def activation_function(tensor):\n",
    "    print(tensor)\n",
    "    return tf.math.round(tensor, name=None)\n",
    "\n",
    "# get_custom_objects().update({'activation_function': Activation(activation_function)})\n",
    "# activation=lambda x: x/5\n",
    "\n",
    "model = keras.Sequential([\n",
    "    layers.Dense(2, activation=\"relu\", input_shape=input_shape),\n",
    "    # layers.Dense(2, activation=activation_function, input_shape=input_shape),\n",
    "    # layers.Dense(2, activation=lambda x: int(x), input_shape=input_shape),\n",
    "    layers.Dense(6, activation=\"relu\"),\n",
    "    layers.Dense(1)\n",
    "])\n",
    "\n",
    "model.compile(\n",
    "    # optimizer='adam',\n",
    "    #  loss='mae',\n",
    "    loss='mean_squared_error',\n",
    "    # metrics=['accuracy']\n",
    "    metrics=['binary_accuracy']\n",
    ")\n",
    "history = model.fit(\n",
    "    X_train, y_train,\n",
    "    validation_data=(X_valid, y_valid),\n",
    "    batch_size=4,# grupy danych\n",
    "    epochs=250,\n",
    "    callbacks=[early_stopping]\n",
    ")\n",
    "# print(model.summary())\n",
    "\n",
    "# ann_viz(model, title=\"XOR\")\n",
    "# graph = Source.from_file('network.gv')\n",
    "# graph\n",
    "\n",
    "history_df = pd.DataFrame(history.history)\n",
    "print(\"Minimum Validation Loss: {:0.5f}\".format(history_df['val_loss'].min()));"
   ],
   "metadata": {
    "collapsed": false,
    "pycharm": {
     "name": "#%%\n"
    }
   }
  },
  {
   "cell_type": "code",
   "execution_count": 12,
   "outputs": [
    {
     "name": "stdout",
     "output_type": "stream",
     "text": [
      "1/1 [==============================] - 0s 42ms/step\n",
      "[[0.94824106]]\n"
     ]
    },
    {
     "name": "stderr",
     "output_type": "stream",
     "text": [
      "2022-10-10 17:38:10.263980: I tensorflow/core/grappler/optimizers/custom_graph_optimizer_registry.cc:113] Plugin optimizer for device_type GPU is enabled.\n"
     ]
    }
   ],
   "source": [
    "print(model.predict(np.array([[0, 1]])))\n"
   ],
   "metadata": {
    "collapsed": false,
    "pycharm": {
     "name": "#%%\n"
    }
   }
  },
  {
   "cell_type": "code",
   "execution_count": 18,
   "outputs": [
    {
     "name": "stderr",
     "output_type": "stream",
     "text": [
      "2022-10-10 17:47:16.989210: I tensorflow/core/grappler/optimizers/custom_graph_optimizer_registry.cc:113] Plugin optimizer for device_type GPU is enabled.\n"
     ]
    },
    {
     "ename": "InvalidArgumentError",
     "evalue": "Graph execution error:\n\nDetected at node 'sequential_1/dense_3/MatMul' defined at (most recent call last):\n    File \"/Users/kkepins-macwro_1/.pyenv/versions/3.9.13/lib/python3.9/runpy.py\", line 197, in _run_module_as_main\n      return _run_code(code, main_globals, None,\n    File \"/Users/kkepins-macwro_1/.pyenv/versions/3.9.13/lib/python3.9/runpy.py\", line 87, in _run_code\n      exec(code, run_globals)\n    File \"/Users/kkepins-macwro_1/git/machine_learning/env/lib/python3.9/site-packages/ipykernel_launcher.py\", line 17, in <module>\n      app.launch_new_instance()\n    File \"/Users/kkepins-macwro_1/git/machine_learning/env/lib/python3.9/site-packages/traitlets/config/application.py\", line 976, in launch_instance\n      app.start()\n    File \"/Users/kkepins-macwro_1/git/machine_learning/env/lib/python3.9/site-packages/ipykernel/kernelapp.py\", line 712, in start\n      self.io_loop.start()\n    File \"/Users/kkepins-macwro_1/git/machine_learning/env/lib/python3.9/site-packages/tornado/platform/asyncio.py\", line 215, in start\n      self.asyncio_loop.run_forever()\n    File \"/Users/kkepins-macwro_1/.pyenv/versions/3.9.13/lib/python3.9/asyncio/base_events.py\", line 601, in run_forever\n      self._run_once()\n    File \"/Users/kkepins-macwro_1/.pyenv/versions/3.9.13/lib/python3.9/asyncio/base_events.py\", line 1905, in _run_once\n      handle._run()\n    File \"/Users/kkepins-macwro_1/.pyenv/versions/3.9.13/lib/python3.9/asyncio/events.py\", line 80, in _run\n      self._context.run(self._callback, *self._args)\n    File \"/Users/kkepins-macwro_1/git/machine_learning/env/lib/python3.9/site-packages/ipykernel/kernelbase.py\", line 510, in dispatch_queue\n      await self.process_one()\n    File \"/Users/kkepins-macwro_1/git/machine_learning/env/lib/python3.9/site-packages/ipykernel/kernelbase.py\", line 499, in process_one\n      await dispatch(*args)\n    File \"/Users/kkepins-macwro_1/git/machine_learning/env/lib/python3.9/site-packages/ipykernel/kernelbase.py\", line 406, in dispatch_shell\n      await result\n    File \"/Users/kkepins-macwro_1/git/machine_learning/env/lib/python3.9/site-packages/ipykernel/kernelbase.py\", line 730, in execute_request\n      reply_content = await reply_content\n    File \"/Users/kkepins-macwro_1/git/machine_learning/env/lib/python3.9/site-packages/ipykernel/ipkernel.py\", line 383, in do_execute\n      res = shell.run_cell(\n    File \"/Users/kkepins-macwro_1/git/machine_learning/env/lib/python3.9/site-packages/ipykernel/zmqshell.py\", line 528, in run_cell\n      return super().run_cell(*args, **kwargs)\n    File \"/Users/kkepins-macwro_1/git/machine_learning/env/lib/python3.9/site-packages/IPython/core/interactiveshell.py\", line 2881, in run_cell\n      result = self._run_cell(\n    File \"/Users/kkepins-macwro_1/git/machine_learning/env/lib/python3.9/site-packages/IPython/core/interactiveshell.py\", line 2936, in _run_cell\n      return runner(coro)\n    File \"/Users/kkepins-macwro_1/git/machine_learning/env/lib/python3.9/site-packages/IPython/core/async_helpers.py\", line 129, in _pseudo_sync_runner\n      coro.send(None)\n    File \"/Users/kkepins-macwro_1/git/machine_learning/env/lib/python3.9/site-packages/IPython/core/interactiveshell.py\", line 3135, in run_cell_async\n      has_raised = await self.run_ast_nodes(code_ast.body, cell_name,\n    File \"/Users/kkepins-macwro_1/git/machine_learning/env/lib/python3.9/site-packages/IPython/core/interactiveshell.py\", line 3338, in run_ast_nodes\n      if await self.run_code(code, result, async_=asy):\n    File \"/Users/kkepins-macwro_1/git/machine_learning/env/lib/python3.9/site-packages/IPython/core/interactiveshell.py\", line 3398, in run_code\n      exec(code_obj, self.user_global_ns, self.user_ns)\n    File \"/var/folders/r3/hdngxsmd2vq391vqv6kg6f7w0000gq/T/ipykernel_96200/1679664756.py\", line 13, in <cell line: 13>\n      Z = model.predict(numpy.array([X_train]))\n    File \"/Users/kkepins-macwro_1/git/machine_learning/env/lib/python3.9/site-packages/keras/utils/traceback_utils.py\", line 64, in error_handler\n      return fn(*args, **kwargs)\n    File \"/Users/kkepins-macwro_1/git/machine_learning/env/lib/python3.9/site-packages/keras/engine/training.py\", line 2033, in predict\n      tmp_batch_outputs = self.predict_function(iterator)\n    File \"/Users/kkepins-macwro_1/git/machine_learning/env/lib/python3.9/site-packages/keras/engine/training.py\", line 1845, in predict_function\n      return step_function(self, iterator)\n    File \"/Users/kkepins-macwro_1/git/machine_learning/env/lib/python3.9/site-packages/keras/engine/training.py\", line 1834, in step_function\n      outputs = model.distribute_strategy.run(run_step, args=(data,))\n    File \"/Users/kkepins-macwro_1/git/machine_learning/env/lib/python3.9/site-packages/keras/engine/training.py\", line 1823, in run_step\n      outputs = model.predict_step(data)\n    File \"/Users/kkepins-macwro_1/git/machine_learning/env/lib/python3.9/site-packages/keras/engine/training.py\", line 1791, in predict_step\n      return self(x, training=False)\n    File \"/Users/kkepins-macwro_1/git/machine_learning/env/lib/python3.9/site-packages/keras/utils/traceback_utils.py\", line 64, in error_handler\n      return fn(*args, **kwargs)\n    File \"/Users/kkepins-macwro_1/git/machine_learning/env/lib/python3.9/site-packages/keras/engine/training.py\", line 490, in __call__\n      return super().__call__(*args, **kwargs)\n    File \"/Users/kkepins-macwro_1/git/machine_learning/env/lib/python3.9/site-packages/keras/utils/traceback_utils.py\", line 64, in error_handler\n      return fn(*args, **kwargs)\n    File \"/Users/kkepins-macwro_1/git/machine_learning/env/lib/python3.9/site-packages/keras/engine/base_layer.py\", line 1014, in __call__\n      outputs = call_fn(inputs, *args, **kwargs)\n    File \"/Users/kkepins-macwro_1/git/machine_learning/env/lib/python3.9/site-packages/keras/utils/traceback_utils.py\", line 92, in error_handler\n      return fn(*args, **kwargs)\n    File \"/Users/kkepins-macwro_1/git/machine_learning/env/lib/python3.9/site-packages/keras/engine/sequential.py\", line 374, in call\n      return super(Sequential, self).call(inputs, training=training, mask=mask)\n    File \"/Users/kkepins-macwro_1/git/machine_learning/env/lib/python3.9/site-packages/keras/engine/functional.py\", line 458, in call\n      return self._run_internal_graph(\n    File \"/Users/kkepins-macwro_1/git/machine_learning/env/lib/python3.9/site-packages/keras/engine/functional.py\", line 596, in _run_internal_graph\n      outputs = node.layer(*args, **kwargs)\n    File \"/Users/kkepins-macwro_1/git/machine_learning/env/lib/python3.9/site-packages/keras/utils/traceback_utils.py\", line 64, in error_handler\n      return fn(*args, **kwargs)\n    File \"/Users/kkepins-macwro_1/git/machine_learning/env/lib/python3.9/site-packages/keras/engine/base_layer.py\", line 1014, in __call__\n      outputs = call_fn(inputs, *args, **kwargs)\n    File \"/Users/kkepins-macwro_1/git/machine_learning/env/lib/python3.9/site-packages/keras/utils/traceback_utils.py\", line 92, in error_handler\n      return fn(*args, **kwargs)\n    File \"/Users/kkepins-macwro_1/git/machine_learning/env/lib/python3.9/site-packages/keras/layers/core/dense.py\", line 221, in call\n      outputs = tf.matmul(a=inputs, b=self.kernel)\nNode: 'sequential_1/dense_3/MatMul'\nIn[0] and In[1] has different ndims: [1,4,2] vs. [2,2]\n\t [[{{node sequential_1/dense_3/MatMul}}]] [Op:__inference_predict_function_16293]",
     "output_type": "error",
     "traceback": [
      "\u001B[0;31m---------------------------------------------------------------------------\u001B[0m",
      "\u001B[0;31mInvalidArgumentError\u001B[0m                      Traceback (most recent call last)",
      "Input \u001B[0;32mIn [18]\u001B[0m, in \u001B[0;36m<cell line: 13>\u001B[0;34m()\u001B[0m\n\u001B[1;32m     11\u001B[0m resolution \u001B[38;5;241m=\u001B[39m \u001B[38;5;241m0.01\u001B[39m\n\u001B[1;32m     12\u001B[0m \u001B[38;5;66;03m# x, y = numpy.meshgrid(numpy.arange(x_min, x_max, resolution), numpy.arange(y_min, y_max, resolution))\u001B[39;00m\n\u001B[0;32m---> 13\u001B[0m Z \u001B[38;5;241m=\u001B[39m \u001B[43mmodel\u001B[49m\u001B[38;5;241;43m.\u001B[39;49m\u001B[43mpredict\u001B[49m\u001B[43m(\u001B[49m\u001B[43mnumpy\u001B[49m\u001B[38;5;241;43m.\u001B[39;49m\u001B[43marray\u001B[49m\u001B[43m(\u001B[49m\u001B[43m[\u001B[49m\u001B[43mX_train\u001B[49m\u001B[43m]\u001B[49m\u001B[43m)\u001B[49m\u001B[43m)\u001B[49m\n\u001B[1;32m     14\u001B[0m Z \u001B[38;5;241m=\u001B[39m Z\u001B[38;5;241m.\u001B[39mreshape(X_train\u001B[38;5;241m.\u001B[39mshape)\n\u001B[1;32m     15\u001B[0m plt\u001B[38;5;241m.\u001B[39mpcolormesh(X_train, y_train, Z, cmap\u001B[38;5;241m=\u001B[39mcmap)\n",
      "File \u001B[0;32m~/git/machine_learning/env/lib/python3.9/site-packages/keras/utils/traceback_utils.py:67\u001B[0m, in \u001B[0;36mfilter_traceback.<locals>.error_handler\u001B[0;34m(*args, **kwargs)\u001B[0m\n\u001B[1;32m     65\u001B[0m \u001B[38;5;28;01mexcept\u001B[39;00m \u001B[38;5;167;01mException\u001B[39;00m \u001B[38;5;28;01mas\u001B[39;00m e:  \u001B[38;5;66;03m# pylint: disable=broad-except\u001B[39;00m\n\u001B[1;32m     66\u001B[0m   filtered_tb \u001B[38;5;241m=\u001B[39m _process_traceback_frames(e\u001B[38;5;241m.\u001B[39m__traceback__)\n\u001B[0;32m---> 67\u001B[0m   \u001B[38;5;28;01mraise\u001B[39;00m e\u001B[38;5;241m.\u001B[39mwith_traceback(filtered_tb) \u001B[38;5;28;01mfrom\u001B[39;00m \u001B[38;5;28mNone\u001B[39m\n\u001B[1;32m     68\u001B[0m \u001B[38;5;28;01mfinally\u001B[39;00m:\n\u001B[1;32m     69\u001B[0m   \u001B[38;5;28;01mdel\u001B[39;00m filtered_tb\n",
      "File \u001B[0;32m~/git/machine_learning/env/lib/python3.9/site-packages/tensorflow/python/eager/execute.py:54\u001B[0m, in \u001B[0;36mquick_execute\u001B[0;34m(op_name, num_outputs, inputs, attrs, ctx, name)\u001B[0m\n\u001B[1;32m     52\u001B[0m \u001B[38;5;28;01mtry\u001B[39;00m:\n\u001B[1;32m     53\u001B[0m   ctx\u001B[38;5;241m.\u001B[39mensure_initialized()\n\u001B[0;32m---> 54\u001B[0m   tensors \u001B[38;5;241m=\u001B[39m pywrap_tfe\u001B[38;5;241m.\u001B[39mTFE_Py_Execute(ctx\u001B[38;5;241m.\u001B[39m_handle, device_name, op_name,\n\u001B[1;32m     55\u001B[0m                                       inputs, attrs, num_outputs)\n\u001B[1;32m     56\u001B[0m \u001B[38;5;28;01mexcept\u001B[39;00m core\u001B[38;5;241m.\u001B[39m_NotOkStatusException \u001B[38;5;28;01mas\u001B[39;00m e:\n\u001B[1;32m     57\u001B[0m   \u001B[38;5;28;01mif\u001B[39;00m name \u001B[38;5;129;01mis\u001B[39;00m \u001B[38;5;129;01mnot\u001B[39;00m \u001B[38;5;28;01mNone\u001B[39;00m:\n",
      "\u001B[0;31mInvalidArgumentError\u001B[0m: Graph execution error:\n\nDetected at node 'sequential_1/dense_3/MatMul' defined at (most recent call last):\n    File \"/Users/kkepins-macwro_1/.pyenv/versions/3.9.13/lib/python3.9/runpy.py\", line 197, in _run_module_as_main\n      return _run_code(code, main_globals, None,\n    File \"/Users/kkepins-macwro_1/.pyenv/versions/3.9.13/lib/python3.9/runpy.py\", line 87, in _run_code\n      exec(code, run_globals)\n    File \"/Users/kkepins-macwro_1/git/machine_learning/env/lib/python3.9/site-packages/ipykernel_launcher.py\", line 17, in <module>\n      app.launch_new_instance()\n    File \"/Users/kkepins-macwro_1/git/machine_learning/env/lib/python3.9/site-packages/traitlets/config/application.py\", line 976, in launch_instance\n      app.start()\n    File \"/Users/kkepins-macwro_1/git/machine_learning/env/lib/python3.9/site-packages/ipykernel/kernelapp.py\", line 712, in start\n      self.io_loop.start()\n    File \"/Users/kkepins-macwro_1/git/machine_learning/env/lib/python3.9/site-packages/tornado/platform/asyncio.py\", line 215, in start\n      self.asyncio_loop.run_forever()\n    File \"/Users/kkepins-macwro_1/.pyenv/versions/3.9.13/lib/python3.9/asyncio/base_events.py\", line 601, in run_forever\n      self._run_once()\n    File \"/Users/kkepins-macwro_1/.pyenv/versions/3.9.13/lib/python3.9/asyncio/base_events.py\", line 1905, in _run_once\n      handle._run()\n    File \"/Users/kkepins-macwro_1/.pyenv/versions/3.9.13/lib/python3.9/asyncio/events.py\", line 80, in _run\n      self._context.run(self._callback, *self._args)\n    File \"/Users/kkepins-macwro_1/git/machine_learning/env/lib/python3.9/site-packages/ipykernel/kernelbase.py\", line 510, in dispatch_queue\n      await self.process_one()\n    File \"/Users/kkepins-macwro_1/git/machine_learning/env/lib/python3.9/site-packages/ipykernel/kernelbase.py\", line 499, in process_one\n      await dispatch(*args)\n    File \"/Users/kkepins-macwro_1/git/machine_learning/env/lib/python3.9/site-packages/ipykernel/kernelbase.py\", line 406, in dispatch_shell\n      await result\n    File \"/Users/kkepins-macwro_1/git/machine_learning/env/lib/python3.9/site-packages/ipykernel/kernelbase.py\", line 730, in execute_request\n      reply_content = await reply_content\n    File \"/Users/kkepins-macwro_1/git/machine_learning/env/lib/python3.9/site-packages/ipykernel/ipkernel.py\", line 383, in do_execute\n      res = shell.run_cell(\n    File \"/Users/kkepins-macwro_1/git/machine_learning/env/lib/python3.9/site-packages/ipykernel/zmqshell.py\", line 528, in run_cell\n      return super().run_cell(*args, **kwargs)\n    File \"/Users/kkepins-macwro_1/git/machine_learning/env/lib/python3.9/site-packages/IPython/core/interactiveshell.py\", line 2881, in run_cell\n      result = self._run_cell(\n    File \"/Users/kkepins-macwro_1/git/machine_learning/env/lib/python3.9/site-packages/IPython/core/interactiveshell.py\", line 2936, in _run_cell\n      return runner(coro)\n    File \"/Users/kkepins-macwro_1/git/machine_learning/env/lib/python3.9/site-packages/IPython/core/async_helpers.py\", line 129, in _pseudo_sync_runner\n      coro.send(None)\n    File \"/Users/kkepins-macwro_1/git/machine_learning/env/lib/python3.9/site-packages/IPython/core/interactiveshell.py\", line 3135, in run_cell_async\n      has_raised = await self.run_ast_nodes(code_ast.body, cell_name,\n    File \"/Users/kkepins-macwro_1/git/machine_learning/env/lib/python3.9/site-packages/IPython/core/interactiveshell.py\", line 3338, in run_ast_nodes\n      if await self.run_code(code, result, async_=asy):\n    File \"/Users/kkepins-macwro_1/git/machine_learning/env/lib/python3.9/site-packages/IPython/core/interactiveshell.py\", line 3398, in run_code\n      exec(code_obj, self.user_global_ns, self.user_ns)\n    File \"/var/folders/r3/hdngxsmd2vq391vqv6kg6f7w0000gq/T/ipykernel_96200/1679664756.py\", line 13, in <cell line: 13>\n      Z = model.predict(numpy.array([X_train]))\n    File \"/Users/kkepins-macwro_1/git/machine_learning/env/lib/python3.9/site-packages/keras/utils/traceback_utils.py\", line 64, in error_handler\n      return fn(*args, **kwargs)\n    File \"/Users/kkepins-macwro_1/git/machine_learning/env/lib/python3.9/site-packages/keras/engine/training.py\", line 2033, in predict\n      tmp_batch_outputs = self.predict_function(iterator)\n    File \"/Users/kkepins-macwro_1/git/machine_learning/env/lib/python3.9/site-packages/keras/engine/training.py\", line 1845, in predict_function\n      return step_function(self, iterator)\n    File \"/Users/kkepins-macwro_1/git/machine_learning/env/lib/python3.9/site-packages/keras/engine/training.py\", line 1834, in step_function\n      outputs = model.distribute_strategy.run(run_step, args=(data,))\n    File \"/Users/kkepins-macwro_1/git/machine_learning/env/lib/python3.9/site-packages/keras/engine/training.py\", line 1823, in run_step\n      outputs = model.predict_step(data)\n    File \"/Users/kkepins-macwro_1/git/machine_learning/env/lib/python3.9/site-packages/keras/engine/training.py\", line 1791, in predict_step\n      return self(x, training=False)\n    File \"/Users/kkepins-macwro_1/git/machine_learning/env/lib/python3.9/site-packages/keras/utils/traceback_utils.py\", line 64, in error_handler\n      return fn(*args, **kwargs)\n    File \"/Users/kkepins-macwro_1/git/machine_learning/env/lib/python3.9/site-packages/keras/engine/training.py\", line 490, in __call__\n      return super().__call__(*args, **kwargs)\n    File \"/Users/kkepins-macwro_1/git/machine_learning/env/lib/python3.9/site-packages/keras/utils/traceback_utils.py\", line 64, in error_handler\n      return fn(*args, **kwargs)\n    File \"/Users/kkepins-macwro_1/git/machine_learning/env/lib/python3.9/site-packages/keras/engine/base_layer.py\", line 1014, in __call__\n      outputs = call_fn(inputs, *args, **kwargs)\n    File \"/Users/kkepins-macwro_1/git/machine_learning/env/lib/python3.9/site-packages/keras/utils/traceback_utils.py\", line 92, in error_handler\n      return fn(*args, **kwargs)\n    File \"/Users/kkepins-macwro_1/git/machine_learning/env/lib/python3.9/site-packages/keras/engine/sequential.py\", line 374, in call\n      return super(Sequential, self).call(inputs, training=training, mask=mask)\n    File \"/Users/kkepins-macwro_1/git/machine_learning/env/lib/python3.9/site-packages/keras/engine/functional.py\", line 458, in call\n      return self._run_internal_graph(\n    File \"/Users/kkepins-macwro_1/git/machine_learning/env/lib/python3.9/site-packages/keras/engine/functional.py\", line 596, in _run_internal_graph\n      outputs = node.layer(*args, **kwargs)\n    File \"/Users/kkepins-macwro_1/git/machine_learning/env/lib/python3.9/site-packages/keras/utils/traceback_utils.py\", line 64, in error_handler\n      return fn(*args, **kwargs)\n    File \"/Users/kkepins-macwro_1/git/machine_learning/env/lib/python3.9/site-packages/keras/engine/base_layer.py\", line 1014, in __call__\n      outputs = call_fn(inputs, *args, **kwargs)\n    File \"/Users/kkepins-macwro_1/git/machine_learning/env/lib/python3.9/site-packages/keras/utils/traceback_utils.py\", line 92, in error_handler\n      return fn(*args, **kwargs)\n    File \"/Users/kkepins-macwro_1/git/machine_learning/env/lib/python3.9/site-packages/keras/layers/core/dense.py\", line 221, in call\n      outputs = tf.matmul(a=inputs, b=self.kernel)\nNode: 'sequential_1/dense_3/MatMul'\nIn[0] and In[1] has different ndims: [1,4,2] vs. [2,2]\n\t [[{{node sequential_1/dense_3/MatMul}}]] [Op:__inference_predict_function_16293]"
     ]
    }
   ],
   "source": [
    "from sklearn.neural_network._multilayer_perceptron import MLPClassifier\n",
    "import numpy\n",
    "from matplotlib.colors import ListedColormap\n",
    "\n",
    "markers = ('*', '^', 'x')\n",
    "colors = ('brown', 'green', 'yellow')\n",
    "cmap = ListedColormap(colors)\n",
    "# x_min, x_max = X_train[:, 0].min() - 1, X_train[:, 0].max() + 1\n",
    "# y_min, y_max = y_train[:, 0].min() - 1, y_train[:, 0].max() + 1\n",
    "\n",
    "resolution = 0.01\n",
    "# x, y = numpy.meshgrid(numpy.arange(x_min, x_max, resolution), numpy.arange(y_min, y_max, resolution))\n",
    "Z = model.predict(numpy.array([X_train]))\n",
    "Z = Z.reshape(X_train.shape)\n",
    "plt.pcolormesh(X_train, y_train, Z, cmap=cmap)\n",
    "plt.xlim(X_train.min(), X_train.max())\n",
    "plt.ylim(y_train.min(), y_train.max())\n",
    "classes = [\"0\", \"1\"]\n",
    "\n",
    "for index, cl in enumerate(numpy.unique(y_train)):\n",
    "    plt.scatter(X_train[y_train == cl, 0], X_train[y_train == cl, 1], c=cmap(index), marker=markers[index], s=50, label=classes[index])\n",
    "plt.xlabel('X')\n",
    "plt.ylabel('Y')\n",
    "plt.legend(loc='upper left')\n",
    "plt.show()\n",
    "\n"
   ],
   "metadata": {
    "collapsed": false,
    "pycharm": {
     "name": "#%%\n"
    }
   }
  },
  {
   "cell_type": "code",
   "execution_count": 27,
   "outputs": [
    {
     "name": "stdout",
     "output_type": "stream",
     "text": [
      "weights:  [[-0.34849173  0.7927852   0.5323792  -0.91339725  0.7211224 ]\n",
      " [-0.20247483 -0.3839736   0.91132045  0.8482443   0.10412359]]\n",
      "biases:  [ 0.         -0.00097036 -0.00096259  0.         -0.00097353]\n"
     ]
    },
    {
     "data": {
      "text/plain": "<Figure size 432x288 with 1 Axes>",
      "image/png": "[encoded data removed]"
     },
     "metadata": {
      "needs_background": "light"
     },
     "output_type": "display_data"
    }
   ],
   "source": [
    "history_df.loc[109:, ['loss', 'val_loss']].plot()\n",
    "weights = model.layers[1].get_weights()[0]\n",
    "biases = model.layers[1].get_weights()[1]\n",
    "print('weights: ', weights)\n",
    "print('biases: ', biases)"
   ],
   "metadata": {
    "collapsed": false,
    "pycharm": {
     "name": "#%%\n"
    }
   }
  },
  {
   "cell_type": "code",
   "execution_count": 44,
   "outputs": [
    {
     "data": {
      "text/plain": "<Figure size 600x400 with 1 Axes>",
      "image/png": "[encoded data removed]"
     },
     "metadata": {
      "needs_background": "light"
     },
     "output_type": "display_data"
    }
   ],
   "source": [
    "# Change 'relu' to 'elu', 'selu', 'swish'... or something else\n",
    "# How different activation functions look like\n",
    "\n",
    "import tensorflow as tf\n",
    "import matplotlib.pyplot as plt\n",
    "\n",
    "# print(tf.__version__)\n",
    "\n",
    "activation_layer = layers.Activation('relu')\n",
    "\n",
    "x = tf.linspace(-3.0, 3.0, 100)\n",
    "y = activation_layer(x)  # once created, a layer is callable just like a function\n",
    "\n",
    "plt.figure(dpi=100)\n",
    "plt.plot(x, y)\n",
    "plt.xlim(-3, 3)\n",
    "plt.xlabel(\"Input\")\n",
    "plt.ylabel(\"Output\")\n",
    "plt.show()"
   ],
   "metadata": {
    "collapsed": false,
    "pycharm": {
     "name": "#%%\n"
    }
   }
  }
 ],
 "metadata": {
  "kernelspec": {
   "name": "env",
   "language": "python",
   "display_name": "env"
  },
  "language_info": {
   "codemirror_mode": {
    "name": "ipython",
    "version": 2
   },
   "file_extension": ".py",
   "mimetype": "text/x-python",
   "name": "python",
   "nbconvert_exporter": "python",
   "pygments_lexer": "ipython2",
   "version": "2.7.6"
  }
 },
 "nbformat": 4,
 "nbformat_minor": 0
}