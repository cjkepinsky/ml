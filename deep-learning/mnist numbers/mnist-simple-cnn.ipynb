{
 "cells": [
  {
   "cell_type": "markdown",
   "id": "0f56f440",
   "metadata": {
    "papermill": {
     "duration": 0.042103,
     "end_time": "2021-07-25T12:34:58.830670",
     "exception": false,
     "start_time": "2021-07-25T12:34:58.788567",
     "status": "completed"
    },
    "tags": []
   },
   "source": [
    "\n",
    "https://www.kaggle.com/competitions/digit-recognizer\n",
    "\n",
    "MNIST (\"Modified National Institute of Standards and Technology\") is the de facto “hello world” dataset of computer vision. Since its release in 1999, this classic dataset of handwritten images has served as the basis for benchmarking classification algorithms. A new machine learning techniques emerge, MNIST remains a reliable resource for researchers and learners alike.  In this competition, your goal is to correctly identify digits from a dataset of tens of thousands of handwritten images. We’ve curated a set of tutorial-style kernels which cover everything from regression to neural networks. We encourage you to experiment with different algorithms to learn first-hand what works well and how techniques compare."
   ]
  },
  {
   "cell_type": "code",
   "execution_count": 1,
   "id": "b8ea4210",
   "metadata": {
    "_cell_guid": "b1076dfc-b9ad-4769-8c92-a6c4dae69d19",
    "_uuid": "8f2839f25d086af736a60e9eeb907d3b93b6e0e5",
    "execution": {
     "iopub.execute_input": "2021-07-25T12:34:59.016923Z",
     "iopub.status.busy": "2021-07-25T12:34:59.015923Z",
     "iopub.status.idle": "2021-07-25T12:35:03.853339Z",
     "shell.execute_reply": "2021-07-25T12:35:03.852383Z",
     "shell.execute_reply.started": "2021-07-25T03:09:27.742346Z"
    },
    "papermill": {
     "duration": 4.895273,
     "end_time": "2021-07-25T12:35:03.853527",
     "exception": false,
     "start_time": "2021-07-25T12:34:58.958254",
     "status": "completed"
    },
    "tags": []
   },
   "outputs": [
    {
     "name": "stdout",
     "output_type": "stream",
     "text": [
      "Training data size is (42000, 785)\n",
      "Testing data size is (28000, 784)\n"
     ]
    },
    {
     "data": {
      "text/plain": "       pixel0  pixel1  pixel2  pixel3  pixel4  pixel5  pixel6  pixel7  pixel8  \\\n0           0       0       0       0       0       0       0       0       0   \n1           0       0       0       0       0       0       0       0       0   \n2           0       0       0       0       0       0       0       0       0   \n3           0       0       0       0       0       0       0       0       0   \n4           0       0       0       0       0       0       0       0       0   \n...       ...     ...     ...     ...     ...     ...     ...     ...     ...   \n41995       0       0       0       0       0       0       0       0       0   \n41996       0       0       0       0       0       0       0       0       0   \n41997       0       0       0       0       0       0       0       0       0   \n41998       0       0       0       0       0       0       0       0       0   \n41999       0       0       0       0       0       0       0       0       0   \n\n       pixel9  ...  pixel774  pixel775  pixel776  pixel777  pixel778  \\\n0           0  ...         0         0         0         0         0   \n1           0  ...         0         0         0         0         0   \n2           0  ...         0         0         0         0         0   \n3           0  ...         0         0         0         0         0   \n4           0  ...         0         0         0         0         0   \n...       ...  ...       ...       ...       ...       ...       ...   \n41995       0  ...         0         0         0         0         0   \n41996       0  ...         0         0         0         0         0   \n41997       0  ...         0         0         0         0         0   \n41998       0  ...         0         0         0         0         0   \n41999       0  ...         0         0         0         0         0   \n\n       pixel779  pixel780  pixel781  pixel782  pixel783  \n0             0         0         0         0         0  \n1             0         0         0         0         0  \n2             0         0         0         0         0  \n3             0         0         0         0         0  \n4             0         0         0         0         0  \n...         ...       ...       ...       ...       ...  \n41995         0         0         0         0         0  \n41996         0         0         0         0         0  \n41997         0         0         0         0         0  \n41998         0         0         0         0         0  \n41999         0         0         0         0         0  \n\n[42000 rows x 784 columns]",
      "text/html": "<div>\n<style scoped>\n    .dataframe tbody tr th:only-of-type {\n        vertical-align: middle;\n    }\n\n    .dataframe tbody tr th {\n        vertical-align: top;\n    }\n\n    .dataframe thead th {\n        text-align: right;\n    }\n</style>\n<table border=\"1\" class=\"dataframe\">\n  <thead>\n    <tr style=\"text-align: right;\">\n      <th></th>\n      <th>pixel0</th>\n      <th>pixel1</th>\n      <th>pixel2</th>\n      <th>pixel3</th>\n      <th>pixel4</th>\n      <th>pixel5</th>\n      <th>pixel6</th>\n      <th>pixel7</th>\n      <th>pixel8</th>\n      <th>pixel9</th>\n      <th>...</th>\n      <th>pixel774</th>\n      <th>pixel775</th>\n      <th>pixel776</th>\n      <th>pixel777</th>\n      <th>pixel778</th>\n      <th>pixel779</th>\n      <th>pixel780</th>\n      <th>pixel781</th>\n      <th>pixel782</th>\n      <th>pixel783</th>\n    </tr>\n  </thead>\n  <tbody>\n    <tr>\n      <th>0</th>\n      <td>0</td>\n      <td>0</td>\n      <td>0</td>\n      <td>0</td>\n      <td>0</td>\n      <td>0</td>\n      <td>0</td>\n      <td>0</td>\n      <td>0</td>\n      <td>0</td>\n      <td>...</td>\n      <td>0</td>\n      <td>0</td>\n      <td>0</td>\n      <td>0</td>\n      <td>0</td>\n      <td>0</td>\n      <td>0</td>\n      <td>0</td>\n      <td>0</td>\n      <td>0</td>\n    </tr>\n    <tr>\n      <th>1</th>\n      <td>0</td>\n      <td>0</td>\n      <td>0</td>\n      <td>0</td>\n      <td>0</td>\n      <td>0</td>\n      <td>0</td>\n      <td>0</td>\n      <td>0</td>\n      <td>0</td>\n      <td>...</td>\n      <td>0</td>\n      <td>0</td>\n      <td>0</td>\n      <td>0</td>\n      <td>0</td>\n      <td>0</td>\n      <td>0</td>\n      <td>0</td>\n      <td>0</td>\n      <td>0</td>\n    </tr>\n    <tr>\n      <th>2</th>\n      <td>0</td>\n      <td>0</td>\n      <td>0</td>\n      <td>0</td>\n      <td>0</td>\n      <td>0</td>\n      <td>0</td>\n      <td>0</td>\n      <td>0</td>\n      <td>0</td>\n      <td>...</td>\n      <td>0</td>\n      <td>0</td>\n      <td>0</td>\n      <td>0</td>\n      <td>0</td>\n      <td>0</td>\n      <td>0</td>\n      <td>0</td>\n      <td>0</td>\n      <td>0</td>\n    </tr>\n    <tr>\n      <th>3</th>\n      <td>0</td>\n      <td>0</td>\n      <td>0</td>\n      <td>0</td>\n      <td>0</td>\n      <td>0</td>\n      <td>0</td>\n      <td>0</td>\n      <td>0</td>\n      <td>0</td>\n      <td>...</td>\n      <td>0</td>\n      <td>0</td>\n      <td>0</td>\n      <td>0</td>\n      <td>0</td>\n      <td>0</td>\n      <td>0</td>\n      <td>0</td>\n      <td>0</td>\n      <td>0</td>\n    </tr>\n    <tr>\n      <th>4</th>\n      <td>0</td>\n      <td>0</td>\n      <td>0</td>\n      <td>0</td>\n      <td>0</td>\n      <td>0</td>\n      <td>0</td>\n      <td>0</td>\n      <td>0</td>\n      <td>0</td>\n      <td>...</td>\n      <td>0</td>\n      <td>0</td>\n      <td>0</td>\n      <td>0</td>\n      <td>0</td>\n      <td>0</td>\n      <td>0</td>\n      <td>0</td>\n      <td>0</td>\n      <td>0</td>\n    </tr>\n    <tr>\n      <th>...</th>\n      <td>...</td>\n      <td>...</td>\n      <td>...</td>\n      <td>...</td>\n      <td>...</td>\n      <td>...</td>\n      <td>...</td>\n      <td>...</td>\n      <td>...</td>\n      <td>...</td>\n      <td>...</td>\n      <td>...</td>\n      <td>...</td>\n      <td>...</td>\n      <td>...</td>\n      <td>...</td>\n      <td>...</td>\n      <td>...</td>\n      <td>...</td>\n      <td>...</td>\n      <td>...</td>\n    </tr>\n    <tr>\n      <th>41995</th>\n      <td>0</td>\n      <td>0</td>\n      <td>0</td>\n      <td>0</td>\n      <td>0</td>\n      <td>0</td>\n      <td>0</td>\n      <td>0</td>\n      <td>0</td>\n      <td>0</td>\n      <td>...</td>\n      <td>0</td>\n      <td>0</td>\n      <td>0</td>\n      <td>0</td>\n      <td>0</td>\n      <td>0</td>\n      <td>0</td>\n      <td>0</td>\n      <td>0</td>\n      <td>0</td>\n    </tr>\n    <tr>\n      <th>41996</th>\n      <td>0</td>\n      <td>0</td>\n      <td>0</td>\n      <td>0</td>\n      <td>0</td>\n      <td>0</td>\n      <td>0</td>\n      <td>0</td>\n      <td>0</td>\n      <td>0</td>\n      <td>...</td>\n      <td>0</td>\n      <td>0</td>\n      <td>0</td>\n      <td>0</td>\n      <td>0</td>\n      <td>0</td>\n      <td>0</td>\n      <td>0</td>\n      <td>0</td>\n      <td>0</td>\n    </tr>\n    <tr>\n      <th>41997</th>\n      <td>0</td>\n      <td>0</td>\n      <td>0</td>\n      <td>0</td>\n      <td>0</td>\n      <td>0</td>\n      <td>0</td>\n      <td>0</td>\n      <td>0</td>\n      <td>0</td>\n      <td>...</td>\n      <td>0</td>\n      <td>0</td>\n      <td>0</td>\n      <td>0</td>\n      <td>0</td>\n      <td>0</td>\n      <td>0</td>\n      <td>0</td>\n      <td>0</td>\n      <td>0</td>\n    </tr>\n    <tr>\n      <th>41998</th>\n      <td>0</td>\n      <td>0</td>\n      <td>0</td>\n      <td>0</td>\n      <td>0</td>\n      <td>0</td>\n      <td>0</td>\n      <td>0</td>\n      <td>0</td>\n      <td>0</td>\n      <td>...</td>\n      <td>0</td>\n      <td>0</td>\n      <td>0</td>\n      <td>0</td>\n      <td>0</td>\n      <td>0</td>\n      <td>0</td>\n      <td>0</td>\n      <td>0</td>\n      <td>0</td>\n    </tr>\n    <tr>\n      <th>41999</th>\n      <td>0</td>\n      <td>0</td>\n      <td>0</td>\n      <td>0</td>\n      <td>0</td>\n      <td>0</td>\n      <td>0</td>\n      <td>0</td>\n      <td>0</td>\n      <td>0</td>\n      <td>...</td>\n      <td>0</td>\n      <td>0</td>\n      <td>0</td>\n      <td>0</td>\n      <td>0</td>\n      <td>0</td>\n      <td>0</td>\n      <td>0</td>\n      <td>0</td>\n      <td>0</td>\n    </tr>\n  </tbody>\n</table>\n<p>42000 rows × 784 columns</p>\n</div>"
     },
     "execution_count": 1,
     "metadata": {},
     "output_type": "execute_result"
    }
   ],
   "source": [
    "import warnings\n",
    "warnings.filterwarnings(\"ignore\")\n",
    "\n",
    "import pandas as pd\n",
    "import numpy as np\n",
    "import matplotlib.pyplot as plt\n",
    "import matplotlib.image as mpimg\n",
    "import seaborn as sns\n",
    "%matplotlib inline\n",
    "\n",
    "np.random.seed(2)\n",
    "\n",
    "from sklearn.model_selection import train_test_split\n",
    "from sklearn.metrics import confusion_matrix\n",
    "import itertools\n",
    "\n",
    "from keras.utils.np_utils import to_categorical # convert to one-hot-encoding\n",
    "from keras.models import Sequential\n",
    "from keras.layers import Dense, Dropout, Flatten, Conv2D, MaxPool2D, BatchNormalization\n",
    "from keras.optimizers import RMSprop\n",
    "from keras.preprocessing.image import ImageDataGenerator\n",
    "from keras.callbacks import ReduceLROnPlateau\n",
    "from keras.datasets import mnist\n",
    "import tensorflow as tf\n",
    "\n",
    "sns.set(style='white', context='notebook', palette='deep')\n",
    "\n",
    "train = pd.read_csv('./input/train.csv')\n",
    "test = pd.read_csv('./input/test.csv')\n",
    "# sub = pd.read_csv('../input/sample_submission.csv')\n",
    "print(f\"Training data size is {train.shape}\\nTesting data size is {test.shape}\")\n",
    "Y_train = train[\"label\"]\n",
    "X_train = train.drop(labels = [\"label\"], axis = 1)\n",
    "\n",
    "X_train"
   ]
  },
  {
   "cell_type": "code",
   "execution_count": 2,
   "id": "82d2c4b0",
   "metadata": {
    "execution": {
     "iopub.execute_input": "2021-07-25T12:35:11.173408Z",
     "iopub.status.busy": "2021-07-25T12:35:11.172832Z",
     "iopub.status.idle": "2021-07-25T12:35:11.414304Z",
     "shell.execute_reply": "2021-07-25T12:35:11.414745Z",
     "shell.execute_reply.started": "2021-07-25T03:09:44.302044Z"
    },
    "papermill": {
     "duration": 0.294548,
     "end_time": "2021-07-25T12:35:11.414895",
     "exception": false,
     "start_time": "2021-07-25T12:35:11.120347",
     "status": "completed"
    },
    "tags": []
   },
   "outputs": [
    {
     "data": {
      "text/plain": "<Figure size 640x480 with 1 Axes>",
      "image/png": "[encoded data removed]"
     },
     "metadata": {},
     "output_type": "display_data"
    }
   ],
   "source": [
    "import matplotlib.pyplot as plt\n",
    "\n",
    "numbers = np.arange(0, 10, 1)\n",
    "counts = np.bincount(Y_train)\n",
    "\n",
    "plt.figure()\n",
    "plt.bar(numbers, counts, color='darkorange', label='labels' )\n",
    "plt.xlabel('labels')\n",
    "plt.ylabel('count')\n",
    "plt.title('Labels count')\n",
    "plt.legend(loc=\"upper right\")\n",
    "plt.show()"
   ]
  },
  {
   "cell_type": "code",
   "execution_count": 3,
   "outputs": [
    {
     "data": {
      "text/plain": "array([[0, 0, 0, ..., 0, 0, 0],\n       [0, 0, 0, ..., 0, 0, 0],\n       [0, 0, 0, ..., 0, 0, 0],\n       ...,\n       [0, 0, 0, ..., 0, 0, 0],\n       [0, 0, 0, ..., 0, 0, 0],\n       [0, 0, 0, ..., 0, 0, 0]], dtype=uint8)"
     },
     "execution_count": 3,
     "metadata": {},
     "output_type": "execute_result"
    }
   ],
   "source": [
    "# Load additional training data sets\n",
    "\n",
    "# X shape: (70000, 28, 28)\n",
    "(x_train1, y_train1), (x_test1, y_test1) = mnist.load_data()\n",
    "\n",
    "train1 = np.concatenate([x_train1, x_test1], axis=0)\n",
    "y_train1 = np.concatenate([y_train1, y_test1], axis=0)\n",
    "\n",
    "Y_train1 = y_train1\n",
    "\n",
    "# reshape to vectors => (70000, 784)\n",
    "X_train1 = train1.reshape(-1, 28*28)\n",
    "X_train1"
   ],
   "metadata": {
    "collapsed": false
   }
  },
  {
   "cell_type": "markdown",
   "source": [
    "**Is The Target Label Balanced ?**"
   ],
   "metadata": {
    "collapsed": false
   }
  },
  {
   "cell_type": "code",
   "execution_count": 122,
   "outputs": [
    {
     "data": {
      "text/plain": "(70000, 28, 28)"
     },
     "execution_count": 122,
     "metadata": {},
     "output_type": "execute_result"
    }
   ],
   "source": [
    "train1.shape"
   ],
   "metadata": {
    "collapsed": false
   }
  },
  {
   "cell_type": "markdown",
   "id": "51fe830e",
   "metadata": {
    "papermill": {
     "duration": 0.04638,
     "end_time": "2021-07-25T12:35:11.512282",
     "exception": false,
     "start_time": "2021-07-25T12:35:11.465902",
     "status": "completed"
    },
    "tags": []
   },
   "source": [
    "## 2.2 Normalization"
   ]
  },
  {
   "cell_type": "markdown",
   "id": "1435b277",
   "metadata": {
    "papermill": {
     "duration": 0.046773,
     "end_time": "2021-07-25T12:35:11.609783",
     "exception": false,
     "start_time": "2021-07-25T12:35:11.563010",
     "status": "completed"
    },
    "tags": []
   },
   "source": [
    "We perform a grayscale normalization to reduce the effect of illumination's differences. \n",
    "\n",
    "Moreover the CNN converg faster on [0..1] data than on [0..255]."
   ]
  },
  {
   "cell_type": "code",
   "execution_count": 4,
   "id": "c56d6104",
   "metadata": {
    "execution": {
     "iopub.execute_input": "2021-07-25T12:35:11.712736Z",
     "iopub.status.busy": "2021-07-25T12:35:11.712095Z",
     "iopub.status.idle": "2021-07-25T12:35:12.031834Z",
     "shell.execute_reply": "2021-07-25T12:35:12.030923Z",
     "shell.execute_reply.started": "2021-07-25T03:09:45.806649Z"
    },
    "papermill": {
     "duration": 0.373363,
     "end_time": "2021-07-25T12:35:12.031979",
     "exception": false,
     "start_time": "2021-07-25T12:35:11.658616",
     "status": "completed"
    },
    "tags": []
   },
   "outputs": [
    {
     "data": {
      "text/plain": "       pixel0  pixel1  pixel2  pixel3  pixel4  pixel5  pixel6  pixel7  pixel8  \\\n0         0.0     0.0     0.0     0.0     0.0     0.0     0.0     0.0     0.0   \n1         0.0     0.0     0.0     0.0     0.0     0.0     0.0     0.0     0.0   \n2         0.0     0.0     0.0     0.0     0.0     0.0     0.0     0.0     0.0   \n3         0.0     0.0     0.0     0.0     0.0     0.0     0.0     0.0     0.0   \n4         0.0     0.0     0.0     0.0     0.0     0.0     0.0     0.0     0.0   \n...       ...     ...     ...     ...     ...     ...     ...     ...     ...   \n41995     0.0     0.0     0.0     0.0     0.0     0.0     0.0     0.0     0.0   \n41996     0.0     0.0     0.0     0.0     0.0     0.0     0.0     0.0     0.0   \n41997     0.0     0.0     0.0     0.0     0.0     0.0     0.0     0.0     0.0   \n41998     0.0     0.0     0.0     0.0     0.0     0.0     0.0     0.0     0.0   \n41999     0.0     0.0     0.0     0.0     0.0     0.0     0.0     0.0     0.0   \n\n       pixel9  ...  pixel774  pixel775  pixel776  pixel777  pixel778  \\\n0         0.0  ...       0.0       0.0       0.0       0.0       0.0   \n1         0.0  ...       0.0       0.0       0.0       0.0       0.0   \n2         0.0  ...       0.0       0.0       0.0       0.0       0.0   \n3         0.0  ...       0.0       0.0       0.0       0.0       0.0   \n4         0.0  ...       0.0       0.0       0.0       0.0       0.0   \n...       ...  ...       ...       ...       ...       ...       ...   \n41995     0.0  ...       0.0       0.0       0.0       0.0       0.0   \n41996     0.0  ...       0.0       0.0       0.0       0.0       0.0   \n41997     0.0  ...       0.0       0.0       0.0       0.0       0.0   \n41998     0.0  ...       0.0       0.0       0.0       0.0       0.0   \n41999     0.0  ...       0.0       0.0       0.0       0.0       0.0   \n\n       pixel779  pixel780  pixel781  pixel782  pixel783  \n0           0.0       0.0       0.0       0.0       0.0  \n1           0.0       0.0       0.0       0.0       0.0  \n2           0.0       0.0       0.0       0.0       0.0  \n3           0.0       0.0       0.0       0.0       0.0  \n4           0.0       0.0       0.0       0.0       0.0  \n...         ...       ...       ...       ...       ...  \n41995       0.0       0.0       0.0       0.0       0.0  \n41996       0.0       0.0       0.0       0.0       0.0  \n41997       0.0       0.0       0.0       0.0       0.0  \n41998       0.0       0.0       0.0       0.0       0.0  \n41999       0.0       0.0       0.0       0.0       0.0  \n\n[42000 rows x 784 columns]",
      "text/html": "<div>\n<style scoped>\n    .dataframe tbody tr th:only-of-type {\n        vertical-align: middle;\n    }\n\n    .dataframe tbody tr th {\n        vertical-align: top;\n    }\n\n    .dataframe thead th {\n        text-align: right;\n    }\n</style>\n<table border=\"1\" class=\"dataframe\">\n  <thead>\n    <tr style=\"text-align: right;\">\n      <th></th>\n      <th>pixel0</th>\n      <th>pixel1</th>\n      <th>pixel2</th>\n      <th>pixel3</th>\n      <th>pixel4</th>\n      <th>pixel5</th>\n      <th>pixel6</th>\n      <th>pixel7</th>\n      <th>pixel8</th>\n      <th>pixel9</th>\n      <th>...</th>\n      <th>pixel774</th>\n      <th>pixel775</th>\n      <th>pixel776</th>\n      <th>pixel777</th>\n      <th>pixel778</th>\n      <th>pixel779</th>\n      <th>pixel780</th>\n      <th>pixel781</th>\n      <th>pixel782</th>\n      <th>pixel783</th>\n    </tr>\n  </thead>\n  <tbody>\n    <tr>\n      <th>0</th>\n      <td>0.0</td>\n      <td>0.0</td>\n      <td>0.0</td>\n      <td>0.0</td>\n      <td>0.0</td>\n      <td>0.0</td>\n      <td>0.0</td>\n      <td>0.0</td>\n      <td>0.0</td>\n      <td>0.0</td>\n      <td>...</td>\n      <td>0.0</td>\n      <td>0.0</td>\n      <td>0.0</td>\n      <td>0.0</td>\n      <td>0.0</td>\n      <td>0.0</td>\n      <td>0.0</td>\n      <td>0.0</td>\n      <td>0.0</td>\n      <td>0.0</td>\n    </tr>\n    <tr>\n      <th>1</th>\n      <td>0.0</td>\n      <td>0.0</td>\n      <td>0.0</td>\n      <td>0.0</td>\n      <td>0.0</td>\n      <td>0.0</td>\n      <td>0.0</td>\n      <td>0.0</td>\n      <td>0.0</td>\n      <td>0.0</td>\n      <td>...</td>\n      <td>0.0</td>\n      <td>0.0</td>\n      <td>0.0</td>\n      <td>0.0</td>\n      <td>0.0</td>\n      <td>0.0</td>\n      <td>0.0</td>\n      <td>0.0</td>\n      <td>0.0</td>\n      <td>0.0</td>\n    </tr>\n    <tr>\n      <th>2</th>\n      <td>0.0</td>\n      <td>0.0</td>\n      <td>0.0</td>\n      <td>0.0</td>\n      <td>0.0</td>\n      <td>0.0</td>\n      <td>0.0</td>\n      <td>0.0</td>\n      <td>0.0</td>\n      <td>0.0</td>\n      <td>...</td>\n      <td>0.0</td>\n      <td>0.0</td>\n      <td>0.0</td>\n      <td>0.0</td>\n      <td>0.0</td>\n      <td>0.0</td>\n      <td>0.0</td>\n      <td>0.0</td>\n      <td>0.0</td>\n      <td>0.0</td>\n    </tr>\n    <tr>\n      <th>3</th>\n      <td>0.0</td>\n      <td>0.0</td>\n      <td>0.0</td>\n      <td>0.0</td>\n      <td>0.0</td>\n      <td>0.0</td>\n      <td>0.0</td>\n      <td>0.0</td>\n      <td>0.0</td>\n      <td>0.0</td>\n      <td>...</td>\n      <td>0.0</td>\n      <td>0.0</td>\n      <td>0.0</td>\n      <td>0.0</td>\n      <td>0.0</td>\n      <td>0.0</td>\n      <td>0.0</td>\n      <td>0.0</td>\n      <td>0.0</td>\n      <td>0.0</td>\n    </tr>\n    <tr>\n      <th>4</th>\n      <td>0.0</td>\n      <td>0.0</td>\n      <td>0.0</td>\n      <td>0.0</td>\n      <td>0.0</td>\n      <td>0.0</td>\n      <td>0.0</td>\n      <td>0.0</td>\n      <td>0.0</td>\n      <td>0.0</td>\n      <td>...</td>\n      <td>0.0</td>\n      <td>0.0</td>\n      <td>0.0</td>\n      <td>0.0</td>\n      <td>0.0</td>\n      <td>0.0</td>\n      <td>0.0</td>\n      <td>0.0</td>\n      <td>0.0</td>\n      <td>0.0</td>\n    </tr>\n    <tr>\n      <th>...</th>\n      <td>...</td>\n      <td>...</td>\n      <td>...</td>\n      <td>...</td>\n      <td>...</td>\n      <td>...</td>\n      <td>...</td>\n      <td>...</td>\n      <td>...</td>\n      <td>...</td>\n      <td>...</td>\n      <td>...</td>\n      <td>...</td>\n      <td>...</td>\n      <td>...</td>\n      <td>...</td>\n      <td>...</td>\n      <td>...</td>\n      <td>...</td>\n      <td>...</td>\n      <td>...</td>\n    </tr>\n    <tr>\n      <th>41995</th>\n      <td>0.0</td>\n      <td>0.0</td>\n      <td>0.0</td>\n      <td>0.0</td>\n      <td>0.0</td>\n      <td>0.0</td>\n      <td>0.0</td>\n      <td>0.0</td>\n      <td>0.0</td>\n      <td>0.0</td>\n      <td>...</td>\n      <td>0.0</td>\n      <td>0.0</td>\n      <td>0.0</td>\n      <td>0.0</td>\n      <td>0.0</td>\n      <td>0.0</td>\n      <td>0.0</td>\n      <td>0.0</td>\n      <td>0.0</td>\n      <td>0.0</td>\n    </tr>\n    <tr>\n      <th>41996</th>\n      <td>0.0</td>\n      <td>0.0</td>\n      <td>0.0</td>\n      <td>0.0</td>\n      <td>0.0</td>\n      <td>0.0</td>\n      <td>0.0</td>\n      <td>0.0</td>\n      <td>0.0</td>\n      <td>0.0</td>\n      <td>...</td>\n      <td>0.0</td>\n      <td>0.0</td>\n      <td>0.0</td>\n      <td>0.0</td>\n      <td>0.0</td>\n      <td>0.0</td>\n      <td>0.0</td>\n      <td>0.0</td>\n      <td>0.0</td>\n      <td>0.0</td>\n    </tr>\n    <tr>\n      <th>41997</th>\n      <td>0.0</td>\n      <td>0.0</td>\n      <td>0.0</td>\n      <td>0.0</td>\n      <td>0.0</td>\n      <td>0.0</td>\n      <td>0.0</td>\n      <td>0.0</td>\n      <td>0.0</td>\n      <td>0.0</td>\n      <td>...</td>\n      <td>0.0</td>\n      <td>0.0</td>\n      <td>0.0</td>\n      <td>0.0</td>\n      <td>0.0</td>\n      <td>0.0</td>\n      <td>0.0</td>\n      <td>0.0</td>\n      <td>0.0</td>\n      <td>0.0</td>\n    </tr>\n    <tr>\n      <th>41998</th>\n      <td>0.0</td>\n      <td>0.0</td>\n      <td>0.0</td>\n      <td>0.0</td>\n      <td>0.0</td>\n      <td>0.0</td>\n      <td>0.0</td>\n      <td>0.0</td>\n      <td>0.0</td>\n      <td>0.0</td>\n      <td>...</td>\n      <td>0.0</td>\n      <td>0.0</td>\n      <td>0.0</td>\n      <td>0.0</td>\n      <td>0.0</td>\n      <td>0.0</td>\n      <td>0.0</td>\n      <td>0.0</td>\n      <td>0.0</td>\n      <td>0.0</td>\n    </tr>\n    <tr>\n      <th>41999</th>\n      <td>0.0</td>\n      <td>0.0</td>\n      <td>0.0</td>\n      <td>0.0</td>\n      <td>0.0</td>\n      <td>0.0</td>\n      <td>0.0</td>\n      <td>0.0</td>\n      <td>0.0</td>\n      <td>0.0</td>\n      <td>...</td>\n      <td>0.0</td>\n      <td>0.0</td>\n      <td>0.0</td>\n      <td>0.0</td>\n      <td>0.0</td>\n      <td>0.0</td>\n      <td>0.0</td>\n      <td>0.0</td>\n      <td>0.0</td>\n      <td>0.0</td>\n    </tr>\n  </tbody>\n</table>\n<p>42000 rows × 784 columns</p>\n</div>"
     },
     "execution_count": 4,
     "metadata": {},
     "output_type": "execute_result"
    }
   ],
   "source": [
    "# Normalize data to make CNN faster\n",
    "X_train = X_train / 255.0\n",
    "test = test / 255.0\n",
    "\n",
    "X_train1 = X_train1 / 255.0\n",
    "X_train"
   ]
  },
  {
   "cell_type": "markdown",
   "id": "a7fa3371",
   "metadata": {
    "papermill": {
     "duration": 0.048157,
     "end_time": "2021-07-25T12:35:12.130277",
     "exception": false,
     "start_time": "2021-07-25T12:35:12.082120",
     "status": "completed"
    },
    "tags": []
   },
   "source": [
    "**Merging all the data we got**"
   ]
  },
  {
   "cell_type": "code",
   "execution_count": 5,
   "id": "52253d65",
   "metadata": {
    "execution": {
     "iopub.execute_input": "2021-07-25T12:35:12.233295Z",
     "iopub.status.busy": "2021-07-25T12:35:12.232084Z",
     "iopub.status.idle": "2021-07-25T12:35:12.509394Z",
     "shell.execute_reply": "2021-07-25T12:35:12.508791Z",
     "shell.execute_reply.started": "2021-07-25T03:09:47.420064Z"
    },
    "papermill": {
     "duration": 0.33171,
     "end_time": "2021-07-25T12:35:12.509535",
     "exception": false,
     "start_time": "2021-07-25T12:35:12.177825",
     "status": "completed"
    },
    "tags": []
   },
   "outputs": [
    {
     "data": {
      "text/plain": "array([[0., 0., 0., ..., 0., 0., 0.],\n       [0., 0., 0., ..., 0., 0., 0.],\n       [0., 0., 0., ..., 0., 0., 0.],\n       ...,\n       [0., 0., 0., ..., 0., 0., 0.],\n       [0., 0., 0., ..., 0., 0., 0.],\n       [0., 0., 0., ..., 0., 0., 0.]])"
     },
     "execution_count": 5,
     "metadata": {},
     "output_type": "execute_result"
    }
   ],
   "source": [
    "# Reshape Picture is 3D array (height = 28px, width = 28px , canal = 1)\n",
    "X_train = np.concatenate((X_train.values, X_train1))\n",
    "Y_train = np.concatenate((Y_train, Y_train1))\n",
    "X_train"
   ]
  },
  {
   "cell_type": "markdown",
   "id": "b63e53ec",
   "metadata": {
    "papermill": {
     "duration": 0.051064,
     "end_time": "2021-07-25T12:35:12.607461",
     "exception": false,
     "start_time": "2021-07-25T12:35:12.556397",
     "status": "completed"
    },
    "tags": []
   },
   "source": [
    "## 2.3 Reshape"
   ]
  },
  {
   "cell_type": "code",
   "execution_count": 6,
   "id": "710d5d73",
   "metadata": {
    "execution": {
     "iopub.execute_input": "2021-07-25T12:35:12.708625Z",
     "iopub.status.busy": "2021-07-25T12:35:12.707912Z",
     "iopub.status.idle": "2021-07-25T12:35:12.711653Z",
     "shell.execute_reply": "2021-07-25T12:35:12.712091Z",
     "shell.execute_reply.started": "2021-07-25T03:09:48.527056Z"
    },
    "papermill": {
     "duration": 0.055626,
     "end_time": "2021-07-25T12:35:12.712245",
     "exception": false,
     "start_time": "2021-07-25T12:35:12.656619",
     "status": "completed"
    },
    "tags": []
   },
   "outputs": [
    {
     "data": {
      "text/plain": "(112000, 28, 28, 1)"
     },
     "execution_count": 6,
     "metadata": {},
     "output_type": "execute_result"
    }
   ],
   "source": [
    "# Reshape image in 3 dimensions (height = 28px, width = 28px , canal = 1)\n",
    "# canal = 1 => For gray scale\n",
    "X_train = X_train.reshape(-1,28,28,1)\n",
    "test = test.values.reshape(-1,28,28,1)\n",
    "X_train.shape"
   ]
  },
  {
   "cell_type": "markdown",
   "id": "f58a5c04",
   "metadata": {
    "papermill": {
     "duration": 0.047175,
     "end_time": "2021-07-25T12:35:12.806518",
     "exception": false,
     "start_time": "2021-07-25T12:35:12.759343",
     "status": "completed"
    },
    "tags": []
   },
   "source": [
    "**One-Hot Encoding**"
   ]
  },
  {
   "cell_type": "code",
   "execution_count": 7,
   "id": "88f551dd",
   "metadata": {
    "execution": {
     "iopub.execute_input": "2021-07-25T12:35:12.905711Z",
     "iopub.status.busy": "2021-07-25T12:35:12.905048Z",
     "iopub.status.idle": "2021-07-25T12:35:12.912083Z",
     "shell.execute_reply": "2021-07-25T12:35:12.910933Z",
     "shell.execute_reply.started": "2021-07-25T03:09:49.326826Z"
    },
    "papermill": {
     "duration": 0.057422,
     "end_time": "2021-07-25T12:35:12.912215",
     "exception": false,
     "start_time": "2021-07-25T12:35:12.854793",
     "status": "completed"
    },
    "tags": []
   },
   "outputs": [
    {
     "data": {
      "text/plain": "array([[0., 1., 0., ..., 0., 0., 0.],\n       [1., 0., 0., ..., 0., 0., 0.],\n       [0., 1., 0., ..., 0., 0., 0.],\n       ...,\n       [0., 0., 0., ..., 0., 0., 0.],\n       [0., 0., 0., ..., 0., 0., 0.],\n       [0., 0., 0., ..., 0., 0., 0.]], dtype=float32)"
     },
     "execution_count": 7,
     "metadata": {},
     "output_type": "execute_result"
    }
   ],
   "source": [
    "# Convert label to one hot vectors (ex : 2 -> [0,0,1,0,0,0,0,0,0,0])\n",
    "Y_train = to_categorical(Y_train, num_classes = 10)\n",
    "Y_train"
   ]
  },
  {
   "cell_type": "markdown",
   "id": "da40626c",
   "metadata": {
    "papermill": {
     "duration": 0.045866,
     "end_time": "2021-07-25T12:35:13.006817",
     "exception": false,
     "start_time": "2021-07-25T12:35:12.960951",
     "status": "completed"
    },
    "tags": []
   },
   "source": [
    "Labels are 10 digits numbers from 0 to 9. We need to encode these lables to one hot vectors (ex : 2 -> [0,0,1,0,0,0,0,0,0,0])."
   ]
  },
  {
   "cell_type": "markdown",
   "id": "224be2dd",
   "metadata": {
    "papermill": {
     "duration": 0.046717,
     "end_time": "2021-07-25T12:35:13.104148",
     "exception": false,
     "start_time": "2021-07-25T12:35:13.057431",
     "status": "completed"
    },
    "tags": []
   },
   "source": [
    "## 2.5 Split training and valdiation set"
   ]
  },
  {
   "cell_type": "code",
   "execution_count": 8,
   "id": "f7a599d2",
   "metadata": {
    "execution": {
     "iopub.execute_input": "2021-07-25T12:35:13.209926Z",
     "iopub.status.busy": "2021-07-25T12:35:13.208784Z",
     "iopub.status.idle": "2021-07-25T12:35:13.441543Z",
     "shell.execute_reply": "2021-07-25T12:35:13.441004Z",
     "shell.execute_reply.started": "2021-07-25T03:09:50.391871Z"
    },
    "papermill": {
     "duration": 0.286846,
     "end_time": "2021-07-25T12:35:13.441689",
     "exception": false,
     "start_time": "2021-07-25T12:35:13.154843",
     "status": "completed"
    },
    "tags": []
   },
   "outputs": [
    {
     "data": {
      "text/plain": "((100800, 28, 28, 1), (11200, 28, 28, 1), (100800, 10), (11200, 10))"
     },
     "execution_count": 8,
     "metadata": {},
     "output_type": "execute_result"
    }
   ],
   "source": [
    "# Split the train and the validation set for the fitting\n",
    "X_train, X_val, Y_train, Y_val = train_test_split(X_train, Y_train, test_size = 0.1, random_state=2)\n",
    "\n",
    "X_train.shape, X_val.shape, Y_train.shape, Y_val.shape"
   ]
  },
  {
   "cell_type": "markdown",
   "id": "cdc7761d",
   "metadata": {
    "papermill": {
     "duration": 0.055144,
     "end_time": "2021-07-25T12:35:13.651378",
     "exception": false,
     "start_time": "2021-07-25T12:35:13.596234",
     "status": "completed"
    },
    "tags": []
   },
   "source": [
    "I choosed to split the train set in two parts : a small fraction (10%) became the validation set which the model is evaluated and the rest (90%) is used to train the model."
   ]
  },
  {
   "cell_type": "markdown",
   "id": "4bfe775b",
   "metadata": {
    "papermill": {
     "duration": 0.08299,
     "end_time": "2021-07-25T12:35:13.816303",
     "exception": false,
     "start_time": "2021-07-25T12:35:13.733313",
     "status": "completed"
    },
    "tags": []
   },
   "source": [
    "**Data Visualization**"
   ]
  },
  {
   "cell_type": "code",
   "execution_count": 9,
   "id": "9f73b306",
   "metadata": {
    "execution": {
     "iopub.execute_input": "2021-07-25T12:35:14.036180Z",
     "iopub.status.busy": "2021-07-25T12:35:14.035303Z",
     "iopub.status.idle": "2021-07-25T12:35:14.351550Z",
     "shell.execute_reply": "2021-07-25T12:35:14.350762Z",
     "shell.execute_reply.started": "2021-07-25T03:09:51.48974Z"
    },
    "papermill": {
     "duration": 0.433576,
     "end_time": "2021-07-25T12:35:14.351690",
     "exception": false,
     "start_time": "2021-07-25T12:35:13.918114",
     "status": "completed"
    },
    "tags": []
   },
   "outputs": [
    {
     "data": {
      "text/plain": "<Figure size 640x480 with 1 Axes>",
      "image/png": "[encoded data removed]"
     },
     "metadata": {},
     "output_type": "display_data"
    }
   ],
   "source": [
    "# Draw an example of a data set to see\n",
    "g = plt.imshow(X_train[189][:,:,0])"
   ]
  },
  {
   "cell_type": "markdown",
   "id": "e042c90a",
   "metadata": {
    "papermill": {
     "duration": 0.051134,
     "end_time": "2021-07-25T12:35:14.457043",
     "exception": false,
     "start_time": "2021-07-25T12:35:14.405909",
     "status": "completed"
    },
    "tags": []
   },
   "source": [
    "# 3. CNN\n",
    "## 3.1 Define the model"
   ]
  },
  {
   "cell_type": "markdown",
   "id": "0ad269c1",
   "metadata": {
    "papermill": {
     "duration": 0.050348,
     "end_time": "2021-07-25T12:35:14.572456",
     "exception": false,
     "start_time": "2021-07-25T12:35:14.522108",
     "status": "completed"
    },
    "tags": []
   },
   "source": [
    "I used the Keras Sequential API, where you have just to add one layer at a time, starting from the input.\n",
    "\n",
    "The first is the convolutional (Conv2D) layer. It is like a set of learnable filters. I choosed to set 64 filters for the two firsts conv2D layers and 64 filters for the two second layers and 64 filters for one third layers and 256 for the last one. Each filter transforms a part of the image (defined by the kernel size) using the kernel filter. The kernel filter matrix is applied on the whole image. Filters can be seen as a transformation of the image.\n",
    "\n",
    "The CNN can isolate features that are useful everywhere from these transformed images (feature maps).\n",
    "\n",
    "The second important layer in CNN is the pooling (MaxPool2D) layer. This layer simply acts as a downsampling filter. It looks at the 2 neighboring pixels and picks the maximal value. These are used to reduce computational cost, and to some extent also reduce overfitting. We have to choose the pooling size (i.e the area size pooled each time) more the pooling dimension is high, more the downsampling is important. \n",
    "\n",
    "Combining convolutional and pooling layers, CNN are able to combine local features and learn more global features of the image.\n",
    "\n",
    "'relu' is the rectifier (activation function max(0,x). The rectifier activation function is used to add non linearity to the network. \n",
    "\n",
    "The Flatten layer is use to convert the final feature maps into a one single 1D vector. This flattening step is needed so that you can make use of fully connected layers after some convolutional/maxpool layers. It combines all the found local features of the previous convolutional layers.\n",
    "\n",
    "In the end i used the features in two fully-connected (Dense) layers which is just artificial an neural networks (ANN) classifier. In the last layer(Dense(10,activation=\"softmax\")) the net outputs distribution of probability of each class."
   ]
  },
  {
   "cell_type": "markdown",
   "id": "d3081211",
   "metadata": {
    "papermill": {
     "duration": 0.049283,
     "end_time": "2021-07-25T12:35:14.677487",
     "exception": false,
     "start_time": "2021-07-25T12:35:14.628204",
     "status": "completed"
    },
    "tags": []
   },
   "source": [
    "**Model Definition**"
   ]
  },
  {
   "cell_type": "code",
   "execution_count": 10,
   "id": "73cfde84",
   "metadata": {
    "execution": {
     "iopub.execute_input": "2021-07-25T12:35:14.794710Z",
     "iopub.status.busy": "2021-07-25T12:35:14.793630Z",
     "iopub.status.idle": "2021-07-25T12:35:17.063335Z",
     "shell.execute_reply": "2021-07-25T12:35:17.062281Z",
     "shell.execute_reply.started": "2021-07-25T03:09:53.585716Z"
    },
    "papermill": {
     "duration": 2.332576,
     "end_time": "2021-07-25T12:35:17.063512",
     "exception": false,
     "start_time": "2021-07-25T12:35:14.730936",
     "status": "completed"
    },
    "tags": []
   },
   "outputs": [
    {
     "name": "stderr",
     "output_type": "stream",
     "text": [
      "2023-03-07 08:46:26.329344: I tensorflow/core/common_runtime/pluggable_device/pluggable_device_factory.cc:306] Could not identify NUMA node of platform GPU ID 0, defaulting to 0. Your kernel may not have been built with NUMA support.\n",
      "2023-03-07 08:46:26.329634: I tensorflow/core/common_runtime/pluggable_device/pluggable_device_factory.cc:272] Created TensorFlow device (/job:localhost/replica:0/task:0/device:GPU:0 with 0 MB memory) -> physical PluggableDevice (device: 0, name: METAL, pci bus id: <undefined>)\n"
     ]
    },
    {
     "name": "stdout",
     "output_type": "stream",
     "text": [
      "Metal device set to: Apple M1\n"
     ]
    }
   ],
   "source": [
    "#Creating CNN model\n",
    "\"\"\"\n",
    "  [[Conv2D->relu]*2 -> BatchNormalization -> MaxPool2D -> Dropout]*2 -> \n",
    "  [Conv2D->relu]*2 -> BatchNormalization -> Dropout -> \n",
    "  Flatten -> Dense -> BatchNormalization -> Dropout -> Out\n",
    "\"\"\"\n",
    "model = Sequential()\n",
    "\n",
    "model.add(Conv2D(filters = 64, kernel_size = (5,5),padding = 'Same', activation ='relu', input_shape = (28,28,1)))\n",
    "model.add(BatchNormalization())\n",
    "\n",
    "model.add(Conv2D(filters = 64, kernel_size = (5,5),padding = 'Same', activation ='relu'))\n",
    "model.add(BatchNormalization())\n",
    "\n",
    "model.add(MaxPool2D(pool_size=(2,2)))\n",
    "model.add(Dropout(0.25))\n",
    "\n",
    "model.add(Conv2D(filters = 64, kernel_size = (3,3),padding = 'Same', activation ='relu'))\n",
    "model.add(BatchNormalization())\n",
    "\n",
    "model.add(Conv2D(filters = 64, kernel_size = (3,3),padding = 'Same', activation ='relu'))\n",
    "model.add(BatchNormalization())\n",
    "model.add(MaxPool2D(pool_size=(2,2), strides=(2,2)))\n",
    "model.add(Dropout(0.25))\n",
    "\n",
    "model.add(Conv2D(filters = 64, kernel_size = (3,3), padding = 'Same',  activation ='relu'))\n",
    "model.add(BatchNormalization())\n",
    "model.add(Dropout(0.25))\n",
    "\n",
    "model.add(Flatten())\n",
    "model.add(Dense(256, activation = \"relu\"))\n",
    "model.add(BatchNormalization())\n",
    "model.add(Dropout(0.25))\n",
    "model.add(Dense(10, activation = \"softmax\"))\n",
    "\n",
    "# print out model look\n",
    "from keras.utils import plot_model\n",
    "plot_model(model, to_file='model.png', show_shapes=True, show_layer_names=True)\n",
    "from IPython.display import Image\n",
    "# Image(\"model.png\")"
   ]
  },
  {
   "cell_type": "markdown",
   "id": "5595d124",
   "metadata": {
    "papermill": {
     "duration": 0.048931,
     "end_time": "2021-07-25T12:35:17.166452",
     "exception": false,
     "start_time": "2021-07-25T12:35:17.117521",
     "status": "completed"
    },
    "tags": []
   },
   "source": [
    "**Plot CNN model**"
   ]
  },
  {
   "cell_type": "code",
   "execution_count": 11,
   "id": "eabd7983",
   "metadata": {
    "execution": {
     "iopub.execute_input": "2021-07-25T12:35:18.156570Z",
     "iopub.status.busy": "2021-07-25T12:35:18.155709Z",
     "iopub.status.idle": "2021-07-25T12:35:18.157885Z",
     "shell.execute_reply": "2021-07-25T12:35:18.157247Z",
     "shell.execute_reply.started": "2021-07-25T03:09:56.229769Z"
    },
    "papermill": {
     "duration": 0.09969,
     "end_time": "2021-07-25T12:35:18.158041",
     "exception": false,
     "start_time": "2021-07-25T12:35:18.058351",
     "status": "completed"
    },
    "tags": []
   },
   "outputs": [],
   "source": [
    "# Define Optimizer (Root Mean Square Propagation)\n",
    "# RMSprop (Root Mean Square Propagation) to algorytm optymalizacji gradientowej stosowany w sieciach neuronowych, który stanowi modyfikację algorytmu propagacji wstecznej (backpropagation), stosuje on zmienny współczynnik uczenia (learning rate) dla każdej wagi sieci neuronowej. Współczynnik ten jest aktualizowany na podstawie średniej kroczącej kwadratu gradientu dla danej wagi. Innymi słowy, algorytm RMSprop zachowuje średnią kroczącą gradientu dla każdej wagi, a następnie dzieli aktualny gradient przez pierwiastek z tej średniej.\n",
    "\n",
    "optimizer = RMSprop(lr=0.001, rho=0.9, epsilon=1e-08, decay=0.0)\n",
    "\n",
    "# Compile model\n",
    "model.compile(optimizer = optimizer , loss = \"categorical_crossentropy\", metrics=[\"accuracy\"])\n",
    "\n",
    "# Audjusting learning rate\n",
    "learning_rate_reduction = ReduceLROnPlateau(monitor='val_acc',\n",
    "                                            patience=3,\n",
    "                                            verbose=1,\n",
    "                                            factor=0.5,\n",
    "                                            min_lr=0.00001)\n",
    "\n"
   ]
  },
  {
   "cell_type": "markdown",
   "id": "baf07aff",
   "metadata": {
    "papermill": {
     "duration": 0.059368,
     "end_time": "2021-07-25T12:35:18.797260",
     "exception": false,
     "start_time": "2021-07-25T12:35:18.737892",
     "status": "completed"
    },
    "tags": []
   },
   "source": [
    "## 3.2 Data augmentation"
   ]
  },
  {
   "cell_type": "markdown",
   "id": "14f73239",
   "metadata": {
    "papermill": {
     "duration": 0.054753,
     "end_time": "2021-07-25T12:35:18.906751",
     "exception": false,
     "start_time": "2021-07-25T12:35:18.851998",
     "status": "completed"
    },
    "tags": []
   },
   "source": [
    "In order to avoid overfitting problem, we need to expand artificially our handwritten digit dataset. We can make your existing dataset even larger. The idea is to alter the training data with small transformations to reproduce the variations occuring when someone is writing a digit.\n",
    "\n",
    "For example, the number is not centered \n",
    "The scale is not the same (some who write with big/small numbers)\n",
    "The image is rotated...\n",
    "\n",
    "Approaches that alter the training data in ways that change the array representation while keeping the label the same are known as data augmentation techniques. Some popular augmentations people use are grayscales, horizontal flips, vertical flips, random crops, color jitters, translations, rotations, and much more. \n",
    "\n",
    "By applying just a couple of these transformations to our training data, we can easily double or triple the number of training examples and create a very robust model.\n",
    "\n",
    "The improvement is important : \n",
    "   - Without data augmentation i obtained an accuracy of 99.114%\n",
    "   - With data augmentation i achieved 99.985% of accuracy"
   ]
  },
  {
   "cell_type": "code",
   "execution_count": 12,
   "id": "37167663",
   "metadata": {
    "execution": {
     "iopub.execute_input": "2021-07-25T12:35:19.022686Z",
     "iopub.status.busy": "2021-07-25T12:35:19.021668Z",
     "iopub.status.idle": "2021-07-25T12:35:19.149490Z",
     "shell.execute_reply": "2021-07-25T12:35:19.148991Z",
     "shell.execute_reply.started": "2021-07-25T03:10:12.181226Z"
    },
    "papermill": {
     "duration": 0.188287,
     "end_time": "2021-07-25T12:35:19.149635",
     "exception": false,
     "start_time": "2021-07-25T12:35:18.961348",
     "status": "completed"
    },
    "tags": []
   },
   "outputs": [
    {
     "data": {
      "text/plain": "<keras.preprocessing.image.NumpyArrayIterator at 0x29f89a3b0>"
     },
     "execution_count": 12,
     "metadata": {},
     "output_type": "execute_result"
    }
   ],
   "source": [
    "#Data Augmentation\n",
    "# Pozwala ona na dynamiczne generowanie danych podczas procesu uczenia modelu, co może być przydatne w przypadku dużych zbiorów danych obrazowych, których nie da się wczytać w całości do pamięci.\n",
    "\n",
    "#Adjusting epochs and batch_size\n",
    "batch_size = 128\n",
    "\n",
    "datagen = ImageDataGenerator(\n",
    "        featurewise_center=False, # set input mean to 0 over the dataset\n",
    "        samplewise_center=False,  # set each sample mean to 0\n",
    "        featurewise_std_normalization=False,  # divide inputs by std of the dataset\n",
    "        samplewise_std_normalization=False,  # divide each input by its std\n",
    "        zca_whitening=False,  # apply ZCA whitening\n",
    "        rotation_range=10,  # randomly rotate images in the range (degrees, 0 to 180)\n",
    "        zoom_range = 0.1, # Randomly zoom image \n",
    "        width_shift_range=0.1,  # randomly shift images horizontally (fraction of total width)\n",
    "        height_shift_range=0.1,  # randomly shift images vertically (fraction of total height)\n",
    "        horizontal_flip=False,  # randomly flip images\n",
    "        vertical_flip=False)  # randomly flip images\n",
    "\n",
    "#datagen.fit(X_train)\n",
    "train_gen = datagen.flow(X_train, Y_train, batch_size=batch_size)\n",
    "train_gen"
   ]
  },
  {
   "cell_type": "markdown",
   "id": "d5792d3c",
   "metadata": {
    "papermill": {
     "duration": 0.0517,
     "end_time": "2021-07-25T12:35:19.258531",
     "exception": false,
     "start_time": "2021-07-25T12:35:19.206831",
     "status": "completed"
    },
    "tags": []
   },
   "source": [
    "For the data augmentation, i choosed to :\n",
    "   - Randomly rotate some training images by 10 degrees\n",
    "   - Randomly  Zoom by 10% some training images\n",
    "   - Randomly shift images horizontally by 10% of the width\n",
    "   - Randomly shift images vertically by 10% of the height\n",
    "   \n",
    "I did not apply a vertical_flip nor horizontal_flip since it could have lead to misclassify symetrical numbers such as 6 and 9.\n",
    "\n",
    "Once our model is ready, we fit the training dataset ."
   ]
  },
  {
   "cell_type": "markdown",
   "id": "6e213eb1",
   "metadata": {
    "papermill": {
     "duration": 0.051337,
     "end_time": "2021-07-25T12:35:19.366530",
     "exception": false,
     "start_time": "2021-07-25T12:35:19.315193",
     "status": "completed"
    },
    "tags": []
   },
   "source": [
    "## 3.3 Model training"
   ]
  },
  {
   "cell_type": "code",
   "execution_count": 14,
   "id": "7591548b",
   "metadata": {
    "execution": {
     "iopub.execute_input": "2021-07-25T12:35:19.480433Z",
     "iopub.status.busy": "2021-07-25T12:35:19.479710Z",
     "iopub.status.idle": "2021-07-25T12:58:26.380137Z",
     "shell.execute_reply": "2021-07-25T12:58:26.380649Z",
     "shell.execute_reply.started": "2021-07-25T03:10:14.980044Z"
    },
    "papermill": {
     "duration": 1386.959378,
     "end_time": "2021-07-25T12:58:26.380839",
     "exception": false,
     "start_time": "2021-07-25T12:35:19.421461",
     "status": "completed"
    },
    "tags": []
   },
   "outputs": [
    {
     "name": "stdout",
     "output_type": "stream",
     "text": [
      "Epoch 1/3\n"
     ]
    },
    {
     "name": "stderr",
     "output_type": "stream",
     "text": [
      "2023-03-07 08:59:28.336049: W tensorflow/core/platform/profile_utils/cpu_utils.cc:128] Failed to get CPU frequency: 0 Hz\n",
      "2023-03-07 08:59:29.495330: I tensorflow/core/grappler/optimizers/custom_graph_optimizer_registry.cc:114] Plugin optimizer for device_type GPU is enabled.\n",
      "2023-03-07 09:00:45.076412: I tensorflow/core/grappler/optimizers/custom_graph_optimizer_registry.cc:114] Plugin optimizer for device_type GPU is enabled.\n"
     ]
    },
    {
     "name": "stdout",
     "output_type": "stream",
     "text": [
      "WARNING:tensorflow:Learning rate reduction is conditioned on metric `val_acc` which is not available. Available metrics are: loss,accuracy,val_loss,val_accuracy,lr\n",
      "788/788 - 80s - loss: 0.1433 - accuracy: 0.9552 - val_loss: 0.0341 - val_accuracy: 0.9889 - lr: 0.0010 - 80s/epoch - 102ms/step\n",
      "Epoch 2/3\n",
      "WARNING:tensorflow:Learning rate reduction is conditioned on metric `val_acc` which is not available. Available metrics are: loss,accuracy,val_loss,val_accuracy,lr\n",
      "788/788 - 71s - loss: 0.0481 - accuracy: 0.9852 - val_loss: 0.0320 - val_accuracy: 0.9904 - lr: 0.0010 - 71s/epoch - 91ms/step\n",
      "Epoch 3/3\n",
      "WARNING:tensorflow:Learning rate reduction is conditioned on metric `val_acc` which is not available. Available metrics are: loss,accuracy,val_loss,val_accuracy,lr\n",
      "788/788 - 79s - loss: 0.0386 - accuracy: 0.9882 - val_loss: 0.0237 - val_accuracy: 0.9917 - lr: 0.0010 - 79s/epoch - 100ms/step\n"
     ]
    }
   ],
   "source": [
    "epochs = 3\n",
    "\n",
    "history = model.fit(train_gen\n",
    "                    , epochs = epochs\n",
    "                    , validation_data = (X_val,Y_val)\n",
    "                    , verbose = 2\n",
    "                    # , steps_per_epoch=X_train.shape[0] # batch_size\n",
    "                    , callbacks=[learning_rate_reduction]\n",
    "                    # , validation_steps = X_val.shape[0] # batch_size\n",
    "                    )"
   ]
  },
  {
   "cell_type": "markdown",
   "id": "5e24d3be",
   "metadata": {
    "papermill": {
     "duration": 0.077861,
     "end_time": "2021-07-25T12:58:26.702429",
     "exception": false,
     "start_time": "2021-07-25T12:58:26.624568",
     "status": "completed"
    },
    "tags": []
   },
   "source": [
    "# 4. Evaluate the model\n",
    "## 4.1 Training and validation curves"
   ]
  },
  {
   "cell_type": "code",
   "execution_count": 15,
   "id": "0a036df9",
   "metadata": {
    "execution": {
     "iopub.execute_input": "2021-07-25T12:58:26.908017Z",
     "iopub.status.busy": "2021-07-25T12:58:26.906936Z",
     "iopub.status.idle": "2021-07-25T12:58:27.245271Z",
     "shell.execute_reply": "2021-07-25T12:58:27.245762Z",
     "shell.execute_reply.started": "2021-07-25T03:35:31.349427Z"
    },
    "papermill": {
     "duration": 0.464105,
     "end_time": "2021-07-25T12:58:27.245907",
     "exception": false,
     "start_time": "2021-07-25T12:58:26.781802",
     "status": "completed"
    },
    "tags": []
   },
   "outputs": [
    {
     "data": {
      "text/plain": "<Figure size 640x480 with 2 Axes>",
      "image/png": "[encoded data removed]"
     },
     "metadata": {},
     "output_type": "display_data"
    }
   ],
   "source": [
    "# Draw the loss and accuracy curves of the training set and the validation set.\n",
    "# Can judge whether it is under-fitting or over-fitting\n",
    "fig, ax = plt.subplots(2,1)\n",
    "ax[0].plot(history.history['loss'], color='b', label=\"Training loss\")\n",
    "ax[0].plot(history.history['val_loss'], color='r', label=\"validation loss\",axes =ax[0])\n",
    "legend = ax[0].legend(loc='best', shadow=True)\n",
    "\n",
    "ax[1].plot(history.history['accuracy'], color='b', label=\"Training accuracy\")\n",
    "ax[1].plot(history.history['val_accuracy'], color='r',label=\"Validation accuracy\")\n",
    "legend = ax[1].legend(loc='best', shadow=True)"
   ]
  },
  {
   "cell_type": "markdown",
   "id": "a9a8e380",
   "metadata": {
    "papermill": {
     "duration": 0.082402,
     "end_time": "2021-07-25T12:58:27.409611",
     "exception": false,
     "start_time": "2021-07-25T12:58:27.327209",
     "status": "completed"
    },
    "tags": []
   },
   "source": [
    "## 4.2 Confusion matrix"
   ]
  },
  {
   "cell_type": "markdown",
   "id": "eda05304",
   "metadata": {
    "papermill": {
     "duration": 0.077835,
     "end_time": "2021-07-25T12:58:27.569976",
     "exception": false,
     "start_time": "2021-07-25T12:58:27.492141",
     "status": "completed"
    },
    "tags": []
   },
   "source": [
    "Confusion matrix can be very helpful to see your model drawbacks and behavior.\n",
    "\n",
    "I plot the confusion matrix of the validation results. "
   ]
  },
  {
   "cell_type": "code",
   "execution_count": 16,
   "id": "28bfba72",
   "metadata": {
    "execution": {
     "iopub.execute_input": "2021-07-25T12:58:27.742670Z",
     "iopub.status.busy": "2021-07-25T12:58:27.741986Z",
     "iopub.status.idle": "2021-07-25T12:58:27.745605Z",
     "shell.execute_reply": "2021-07-25T12:58:27.745161Z",
     "shell.execute_reply.started": "2021-07-25T03:35:31.72719Z"
    },
    "papermill": {
     "duration": 0.093894,
     "end_time": "2021-07-25T12:58:27.745707",
     "exception": false,
     "start_time": "2021-07-25T12:58:27.651813",
     "status": "completed"
    },
    "tags": []
   },
   "outputs": [
    {
     "name": "stderr",
     "output_type": "stream",
     "text": [
      "2023-03-07 09:08:20.362370: I tensorflow/core/grappler/optimizers/custom_graph_optimizer_registry.cc:114] Plugin optimizer for device_type GPU is enabled.\n"
     ]
    },
    {
     "name": "stdout",
     "output_type": "stream",
     "text": [
      "350/350 [==============================] - 5s 12ms/step\n"
     ]
    },
    {
     "data": {
      "text/plain": "<Figure size 640x480 with 2 Axes>",
      "image/png": "[encoded data removed]"
     },
     "metadata": {},
     "output_type": "display_data"
    }
   ],
   "source": [
    "# Draw a confusion matrix that can be used to observe high false positives\n",
    "\n",
    "def plot_confusion_matrix(cm, classes,\n",
    "                          normalize=False,\n",
    "                          title='Confusion matrix',\n",
    "                          cmap=plt.cm.Blues):\n",
    "    \"\"\"\n",
    "    This function prints and plots the confusion matrix.\n",
    "    Normalization can be applied by setting `normalize=True`.\n",
    "    \"\"\"\n",
    "    plt.imshow(cm, interpolation='nearest', cmap=cmap)\n",
    "    plt.title(title)\n",
    "    plt.colorbar()\n",
    "    tick_marks = np.arange(len(classes))\n",
    "    plt.xticks(tick_marks, classes, rotation=45)\n",
    "    plt.yticks(tick_marks, classes)\n",
    "\n",
    "    if normalize:\n",
    "        cm = cm.astype('float') / cm.sum(axis=1)[:, np.newaxis]\n",
    "\n",
    "    thresh = cm.max() / 2.\n",
    "    for i, j in itertools.product(range(cm.shape[0]), range(cm.shape[1])):\n",
    "        plt.text(j, i, cm[i, j],\n",
    "                 horizontalalignment=\"center\",\n",
    "                 color=\"white\" if cm[i, j] > thresh else \"black\")\n",
    "        \n",
    "    plt.tight_layout()\n",
    "    plt.ylabel('True label')\n",
    "    plt.xlabel('Predicted label');\n",
    "\n",
    "# Predict the values from the validation dataset\n",
    "Y_pred = model.predict(X_val)\n",
    "# Convert predictions classes to one hot vectors\n",
    "Y_pred_classes = np.argmax(Y_pred, axis = 1)\n",
    "# Convert validation observations to one hot vectors\n",
    "Y_true = np.argmax(Y_val, axis = 1)\n",
    "# compute the confusion matrix\n",
    "confusion_mtx = confusion_matrix(Y_true, Y_pred_classes)\n",
    "# plot the confusion matrix\n",
    "plot_confusion_matrix(confusion_mtx, classes = range(10))"
   ]
  },
  {
   "cell_type": "markdown",
   "id": "507ede11",
   "metadata": {
    "papermill": {
     "duration": 0.085382,
     "end_time": "2021-07-25T12:58:29.778229",
     "exception": false,
     "start_time": "2021-07-25T12:58:29.692847",
     "status": "completed"
    },
    "tags": []
   },
   "source": [
    "**Bounus : Displaying The Errors And Showing The Top 6 Errors And It's True Label**"
   ]
  },
  {
   "cell_type": "code",
   "execution_count": 18,
   "id": "6532e3e0",
   "metadata": {
    "execution": {
     "iopub.execute_input": "2021-07-25T12:58:30.174992Z",
     "iopub.status.busy": "2021-07-25T12:58:30.136731Z",
     "iopub.status.idle": "2021-07-25T12:58:30.819895Z",
     "shell.execute_reply": "2021-07-25T12:58:30.818822Z",
     "shell.execute_reply.started": "2021-07-25T03:35:33.246668Z"
    },
    "papermill": {
     "duration": 0.787357,
     "end_time": "2021-07-25T12:58:30.820022",
     "exception": false,
     "start_time": "2021-07-25T12:58:30.032665",
     "status": "completed"
    },
    "tags": []
   },
   "outputs": [
    {
     "data": {
      "text/plain": "<Figure size 640x480 with 6 Axes>",
      "image/png": "[encoded data removed]"
     },
     "metadata": {},
     "output_type": "display_data"
    }
   ],
   "source": [
    "\n",
    "def display_errors(errors_index,img_errors,pred_errors, obs_errors):\n",
    "    \"\"\" This function shows 6 images with their predicted and real labels\"\"\"\n",
    "    n = 0\n",
    "    nrows = 2\n",
    "    ncols = 3\n",
    "    fig, ax = plt.subplots(nrows,ncols,sharex=True,sharey=True)\n",
    "    for row in range(nrows):\n",
    "        for col in range(ncols):\n",
    "            error = errors_index[n]\n",
    "            ax[row,col].imshow((img_errors[error]).reshape((28,28)))\n",
    "            ax[row,col].set_title(\"Predicted :{}\\nTrue :{}\".format(pred_errors[error],obs_errors[error]))\n",
    "            n += 1\n",
    "\n",
    "# Show some wrong results, and the difference between the predicted label and the real labe\n",
    "errors = (Y_pred_classes - Y_true != 0)\n",
    "\n",
    "Y_pred_classes_errors = Y_pred_classes[errors]\n",
    "Y_pred_errors = Y_pred[errors]\n",
    "Y_true_errors = Y_true[errors]\n",
    "X_val_errors = X_val[errors]\n",
    "\n",
    "# Probabilities of the wrong predicted numbers\n",
    "Y_pred_errors_prob = np.max(Y_pred_errors,axis = 1)\n",
    "\n",
    "# Predicted probabilities of the true values in the error set\n",
    "true_prob_errors = np.diagonal(np.take(Y_pred_errors, Y_true_errors, axis=1))\n",
    "\n",
    "# Difference between the probability of the predicted label and the true label\n",
    "delta_pred_true_errors = Y_pred_errors_prob - true_prob_errors\n",
    "\n",
    "# Sorted list of the delta prob errors\n",
    "sorted_dela_errors = np.argsort(delta_pred_true_errors)\n",
    "\n",
    "# Top 6 errors \n",
    "most_important_errors = sorted_dela_errors[-6:]\n",
    "\n",
    "# Show the top 6 errors\n",
    "display_errors(most_important_errors, X_val_errors, Y_pred_classes_errors, Y_true_errors)"
   ]
  },
  {
   "cell_type": "markdown",
   "id": "736b83e1",
   "metadata": {
    "papermill": {
     "duration": 0.14507,
     "end_time": "2021-07-25T12:58:31.105911",
     "exception": false,
     "start_time": "2021-07-25T12:58:30.960841",
     "status": "completed"
    },
    "tags": []
   },
   "source": [
    "# 5. Prediction and submition"
   ]
  },
  {
   "cell_type": "markdown",
   "id": "d4338353",
   "metadata": {
    "papermill": {
     "duration": 0.09934,
     "end_time": "2021-07-25T12:58:31.347330",
     "exception": false,
     "start_time": "2021-07-25T12:58:31.247990",
     "status": "completed"
    },
    "tags": []
   },
   "source": [
    "## 5.1 Prediction validation results"
   ]
  },
  {
   "cell_type": "code",
   "execution_count": 20,
   "id": "35da0d9c",
   "metadata": {
    "execution": {
     "iopub.execute_input": "2021-07-25T12:58:31.518729Z",
     "iopub.status.busy": "2021-07-25T12:58:31.517520Z",
     "iopub.status.idle": "2021-07-25T12:58:32.893886Z",
     "shell.execute_reply": "2021-07-25T12:58:32.893344Z",
     "shell.execute_reply.started": "2021-07-25T03:35:33.868065Z"
    },
    "papermill": {
     "duration": 1.463707,
     "end_time": "2021-07-25T12:58:32.894021",
     "exception": false,
     "start_time": "2021-07-25T12:58:31.430314",
     "status": "completed"
    },
    "tags": []
   },
   "outputs": [
    {
     "name": "stdout",
     "output_type": "stream",
     "text": [
      "875/875 [==============================] - 11s 12ms/step\n"
     ]
    },
    {
     "data": {
      "text/plain": "0        2\n1        0\n2        9\n3        0\n4        3\n        ..\n27995    9\n27996    7\n27997    3\n27998    9\n27999    2\nName: Label, Length: 28000, dtype: int64"
     },
     "execution_count": 20,
     "metadata": {},
     "output_type": "execute_result"
    }
   ],
   "source": [
    "# Make predictions about test sets\n",
    "results = model.predict(test)\n",
    "\n",
    "# Convert one-hot vector to number\n",
    "results = np.argmax(results, axis = 1)\n",
    "\n",
    "results = pd.Series(results, name=\"Label\")\n",
    "\n",
    "results"
   ]
  },
  {
   "cell_type": "code",
   "execution_count": 18,
   "id": "13272a60",
   "metadata": {
    "execution": {
     "iopub.execute_input": "2021-07-25T12:58:33.074345Z",
     "iopub.status.busy": "2021-07-25T12:58:33.073636Z",
     "iopub.status.idle": "2021-07-25T12:58:33.122085Z",
     "shell.execute_reply": "2021-07-25T12:58:33.121668Z",
     "shell.execute_reply.started": "2021-07-25T03:35:35.471891Z"
    },
    "papermill": {
     "duration": 0.140427,
     "end_time": "2021-07-25T12:58:33.122195",
     "exception": false,
     "start_time": "2021-07-25T12:58:32.981768",
     "status": "completed"
    },
    "tags": []
   },
   "outputs": [],
   "source": [
    "# Save the final result in cnn_mnist_submission.csv\n",
    "submission = pd.concat([pd.Series(range(1, 28001), name = \"ImageId\"), results], axis = 1)\n",
    "\n",
    "submission.to_csv(\"cnn_mnist_submission.csv\",index=False)"
   ]
  }
 ],
 "metadata": {
  "kernelspec": {
   "display_name": "Python 3",
   "language": "python",
   "name": "python3"
  },
  "language_info": {
   "codemirror_mode": {
    "name": "ipython",
    "version": 3
   },
   "file_extension": ".py",
   "mimetype": "text/x-python",
   "name": "python",
   "nbconvert_exporter": "python",
   "pygments_lexer": "ipython3",
   "version": "3.7.10"
  },
  "papermill": {
   "default_parameters": {},
   "duration": 12176.87535,
   "end_time": "2021-07-25T15:57:49.077786",
   "environment_variables": {},
   "exception": null,
   "input_path": "__notebook__.ipynb",
   "output_path": "__notebook__.ipynb",
   "parameters": {},
   "start_time": "2021-07-25T12:34:52.202436",
   "version": "2.3.3"
  }
 },
 "nbformat": 4,
 "nbformat_minor": 5
}
