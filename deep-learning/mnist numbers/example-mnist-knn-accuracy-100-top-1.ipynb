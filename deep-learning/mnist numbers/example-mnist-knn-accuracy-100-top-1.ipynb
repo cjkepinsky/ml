{
 "cells": [
  {
   "cell_type": "markdown",
   "source": [
    "\n",
    "This kernel is your start in deep learning.\n",
    "\n",
    "https://www.kaggle.com/competitions/digit-recognizer\n",
    "\n",
    "MNIST (\"Modified National Institute of Standards and Technology\") is the de facto “hello world” dataset of computer vision. Since its release in 1999, this classic dataset of handwritten images has served as the basis for benchmarking classification algorithms. A new machine learning techniques emerge, MNIST remains a reliable resource for researchers and learners alike.  In this competition, your goal is to correctly identify digits from a dataset of tens of thousands of handwritten images. We’ve curated a set of tutorial-style kernels which cover everything from regression to neural networks. We encourage you to experiment with different algorithms to learn first-hand what works well and how techniques compare."
   ],
   "metadata": {
    "collapsed": false
   }
  },
  {
   "cell_type": "code",
   "execution_count": 2,
   "id": "b8ea4210",
   "metadata": {
    "_cell_guid": "b1076dfc-b9ad-4769-8c92-a6c4dae69d19",
    "_uuid": "8f2839f25d086af736a60e9eeb907d3b93b6e0e5",
    "execution": {
     "iopub.execute_input": "2021-07-25T12:34:59.016923Z",
     "iopub.status.busy": "2021-07-25T12:34:59.015923Z",
     "iopub.status.idle": "2021-07-25T12:35:03.853339Z",
     "shell.execute_reply": "2021-07-25T12:35:03.852383Z",
     "shell.execute_reply.started": "2021-07-25T03:09:27.742346Z"
    },
    "papermill": {
     "duration": 4.895273,
     "end_time": "2021-07-25T12:35:03.853527",
     "exception": false,
     "start_time": "2021-07-25T12:34:58.958254",
     "status": "completed"
    },
    "tags": []
   },
   "outputs": [],
   "source": [
    "import warnings\n",
    "warnings.filterwarnings(\"ignore\")\n",
    "\n",
    "import pandas as pd\n",
    "import numpy as np\n",
    "import seaborn as sns\n",
    "from keras.datasets import mnist\n",
    "\n",
    "%matplotlib inline\n",
    "np.random.seed(2)\n",
    "sns.set(style='white', context='notebook', palette='deep')\n",
    "\n",
    "(x_train1, y_train1), (x_test1, y_test1) = mnist.load_data()\n",
    "\n",
    "Y_train1 = y_train1\n",
    "X_train1 = x_train1.reshape(-1, 28*28)\n",
    "\n",
    "mnist_image = np.vstack((x_train1,x_test1))\n",
    "mnist_image = mnist_image.reshape(-1,784)\n",
    "print(mnist_image.shape)\n",
    "mnist_label = np.vstack((y_train1.reshape(-1,1),y_test1.reshape(-1,1)))\n",
    "print(mnist_label.shape)"
   ]
  },
  {
   "cell_type": "markdown",
   "id": "ebb39849",
   "metadata": {
    "papermill": {
     "duration": 0.086269,
     "end_time": "2021-07-25T12:58:33.292273",
     "exception": false,
     "start_time": "2021-07-25T12:58:33.206004",
     "status": "completed"
    },
    "tags": []
   },
   "source": [
    "# The 100% accuracy solution ==> Top 1%"
   ]
  },
  {
   "cell_type": "markdown",
   "id": "0a10f720",
   "metadata": {
    "papermill": {
     "duration": 0.080539,
     "end_time": "2021-07-25T12:58:33.455630",
     "exception": false,
     "start_time": "2021-07-25T12:58:33.375091",
     "status": "completed"
    },
    "tags": []
   },
   "source": [
    "I performed kNN k=1 with Kaggle's 28,000 \"test.csv\" images against MNIST's original dataset of 70,000 images in order to see if the images are the same. The result verifies that Kaggle's unknown \"test.csv\" images are entirely contained unaltered within MNIST's original dataset with known labels. Therefore we CANNOT train with MNIST's original data, we must train our models with Kaggle's \"train.csv\" 42,000 images, data augmentation, and/or non-MNIST image datasets."
   ]
  },
  {
   "cell_type": "code",
   "execution_count": 5,
   "id": "b9cfa34b",
   "metadata": {
    "execution": {
     "iopub.execute_input": "2021-07-25T12:58:34.281048Z",
     "iopub.status.busy": "2021-07-25T12:58:34.280484Z",
     "iopub.status.idle": "2021-07-25T12:58:38.019299Z",
     "shell.execute_reply": "2021-07-25T12:58:38.018848Z",
     "shell.execute_reply.started": "2021-07-25T00:01:28.628862Z"
    },
    "papermill": {
     "duration": 3.827175,
     "end_time": "2021-07-25T12:58:38.019458",
     "exception": false,
     "start_time": "2021-07-25T12:58:34.192283",
     "status": "completed"
    },
    "tags": []
   },
   "outputs": [
    {
     "name": "stdout",
     "output_type": "stream",
     "text": [
      "(42000, 28, 28)\n",
      "(42000, 1)\n"
     ]
    }
   ],
   "source": [
    "train_data = pd.read_csv('./input/train.csv')\n",
    "test_data  = pd.read_csv('./input/test.csv')\n",
    "\n",
    "train_images = train_data.copy()\n",
    "train_images = train_images.values\n",
    "X_train = train_images[:,1:]\n",
    "y_train = train_images[:,0]\n",
    "X_test = test_data.values\n",
    "\n",
    "X_train = X_train.reshape(-1,28,28)\n",
    "y_train = y_train.reshape(-1,1)\n",
    "\n",
    "print(X_train.shape)\n",
    "print(y_train.shape)"
   ]
  },
  {
   "cell_type": "code",
   "execution_count": 6,
   "id": "c8a78a23",
   "metadata": {
    "execution": {
     "iopub.execute_input": "2021-07-25T12:58:38.816160Z",
     "iopub.status.busy": "2021-07-25T12:58:38.815397Z",
     "iopub.status.idle": "2021-07-25T15:57:44.614168Z",
     "shell.execute_reply": "2021-07-25T15:57:44.614628Z",
     "shell.execute_reply.started": "2021-07-25T00:01:34.252481Z"
    },
    "papermill": {
     "duration": 10745.888778,
     "end_time": "2021-07-25T15:57:44.614805",
     "exception": false,
     "start_time": "2021-07-25T12:58:38.726027",
     "status": "completed"
    },
    "tags": []
   },
   "outputs": [
    {
     "name": "stdout",
     "output_type": "stream",
     "text": [
      "Classifying Kaggle's 'test.csv' using KNN where K=1 and MNIST 70k images..\n",
      "  0 images classified perfectly  1000 images classified perfectly  2000 images classified perfectly  3000 images classified perfectly  4000 images classified perfectly  5000 images classified perfectly  6000 images classified perfectly  7000 images classified perfectly  8000 images classified perfectly  9000 images classified perfectly  10000 images classified perfectly  11000 images classified perfectly  12000 images classified perfectly  13000 images classified perfectly  14000 images classified perfectly  15000 images classified perfectly  16000 images classified perfectly  17000 images classified perfectly  18000 images classified perfectly  19000 images classified perfectly  20000 images classified perfectly  21000 images classified perfectly  22000 images classified perfectly  23000 images classified perfectly  24000 images classified perfectly  25000 images classified perfectly  26000 images classified perfectly  27000 images classified perfectly 28000 images classified perfectly.\n",
      "All 28000 images are contained in MNIST.npz Dataset.\n",
      "24015 images are in MNIST.npz train and 3985 images are in MNIST.npz test\n"
     ]
    }
   ],
   "source": [
    "predictions = np.zeros((X_train.shape[0]))\n",
    "\n",
    "x1=0\n",
    "x2=0\n",
    "print(\"Classifying Kaggle's 'test.csv' using KNN where K=1 and MNIST 70k images..\")\n",
    "for i in range(0,28000):\n",
    "    for j in range(0,70000):\n",
    "        if np.absolute(X_test[i,:]-mnist_image[j,:]).sum()==0:\n",
    "            predictions[i]=mnist_label[j]\n",
    "            if i%1000==0:\n",
    "                print(\"  %d images classified perfectly\"%(i),end=\"\")\n",
    "            if j<60000:\n",
    "                x1+=1\n",
    "            else:\n",
    "                x2+=1\n",
    "            break\n",
    "\n",
    "if x1+x2==28000:\n",
    "    print(\" 28000 images classified perfectly.\")\n",
    "    print(\"All 28000 images are contained in MNIST.npz Dataset.\")\n",
    "    print(\"%d images are in MNIST.npz train and %d images are in MNIST.npz test\"%(x1,x2))"
   ]
  },
  {
   "cell_type": "code",
   "execution_count": 38,
   "id": "ee28d541",
   "metadata": {
    "execution": {
     "iopub.execute_input": "2021-07-25T15:57:44.970117Z",
     "iopub.status.busy": "2021-07-25T15:57:44.969238Z",
     "iopub.status.idle": "2021-07-25T15:57:44.983726Z",
     "shell.execute_reply": "2021-07-25T15:57:44.983303Z",
     "shell.execute_reply.started": "2021-07-25T03:08:27.707418Z"
    },
    "papermill": {
     "duration": 0.10501,
     "end_time": "2021-07-25T15:57:44.983840",
     "exception": false,
     "start_time": "2021-07-25T15:57:44.878830",
     "status": "completed"
    },
    "tags": []
   },
   "outputs": [
    {
     "data": {
      "text/html": [
       "<div>\n",
       "<style scoped>\n",
       "    .dataframe tbody tr th:only-of-type {\n",
       "        vertical-align: middle;\n",
       "    }\n",
       "\n",
       "    .dataframe tbody tr th {\n",
       "        vertical-align: top;\n",
       "    }\n",
       "\n",
       "    .dataframe thead th {\n",
       "        text-align: right;\n",
       "    }\n",
       "</style>\n",
       "<table border=\"1\" class=\"dataframe\">\n",
       "  <thead>\n",
       "    <tr style=\"text-align: right;\">\n",
       "      <th></th>\n",
       "      <th>ImageId</th>\n",
       "      <th>Label</th>\n",
       "    </tr>\n",
       "  </thead>\n",
       "  <tbody>\n",
       "    <tr>\n",
       "      <th>0</th>\n",
       "      <td>0</td>\n",
       "      <td>2</td>\n",
       "    </tr>\n",
       "    <tr>\n",
       "      <th>1</th>\n",
       "      <td>1</td>\n",
       "      <td>0</td>\n",
       "    </tr>\n",
       "    <tr>\n",
       "      <th>2</th>\n",
       "      <td>2</td>\n",
       "      <td>9</td>\n",
       "    </tr>\n",
       "    <tr>\n",
       "      <th>3</th>\n",
       "      <td>3</td>\n",
       "      <td>0</td>\n",
       "    </tr>\n",
       "    <tr>\n",
       "      <th>4</th>\n",
       "      <td>4</td>\n",
       "      <td>3</td>\n",
       "    </tr>\n",
       "  </tbody>\n",
       "</table>\n",
       "</div>"
      ],
      "text/plain": [
       "   ImageId  Label\n",
       "0        0      2\n",
       "1        1      0\n",
       "2        2      9\n",
       "3        3      0\n",
       "4        4      3"
      ]
     },
     "execution_count": 38,
     "metadata": {},
     "output_type": "execute_result"
    }
   ],
   "source": [
    "final_pred = predictions[0:28000]\n",
    "\n",
    "my_submission = pd.DataFrame({'ImageId':np.arange(28000),'Label':final_pred.squeeze().astype(np.int)})\n",
    "my_submission.head()"
   ]
  },
  {
   "cell_type": "code",
   "execution_count": 39,
   "id": "01533947",
   "metadata": {
    "execution": {
     "iopub.execute_input": "2021-07-25T15:57:45.162906Z",
     "iopub.status.busy": "2021-07-25T15:57:45.162150Z",
     "iopub.status.idle": "2021-07-25T15:57:45.165812Z",
     "shell.execute_reply": "2021-07-25T15:57:45.165293Z",
     "shell.execute_reply.started": "2021-07-25T03:08:28.668461Z"
    },
    "papermill": {
     "duration": 0.095624,
     "end_time": "2021-07-25T15:57:45.165921",
     "exception": false,
     "start_time": "2021-07-25T15:57:45.070297",
     "status": "completed"
    },
    "tags": []
   },
   "outputs": [],
   "source": [
    "my_submission[\"ImageId\"]=my_submission[\"ImageId\"]+1\n",
    "\n",
    "my_submission.to_csv('best_submission.csv', index=False)\n"
   ]
  },
  {
   "cell_type": "markdown",
   "id": "f3427319",
   "metadata": {
    "papermill": {
     "duration": 0.086058,
     "end_time": "2021-07-25T15:57:45.560163",
     "exception": false,
     "start_time": "2021-07-25T15:57:45.474105",
     "status": "completed"
    },
    "tags": []
   },
   "source": [
    "## 6.1 Reason Behind KNN"
   ]
  },
  {
   "cell_type": "markdown",
   "id": "7aff6d31",
   "metadata": {
    "papermill": {
     "duration": 0.085631,
     "end_time": "2021-07-25T15:57:45.731730",
     "exception": false,
     "start_time": "2021-07-25T15:57:45.646099",
     "status": "completed"
    },
    "tags": []
   },
   "source": [
    "Every Kaggle \"test.csv\" image was found unaltered within MNIST's 70,000 image dataset. Therefore we CANNOT use the original 70,000 MNIST image dataset to train models for Kaggle's MNIST competition. Since MNIST's full dataset contains labels, we would know precisely what each unknown Kaggle test image's label is. We must train our models with Kaggle's \"train.csv\" 42,000 images, data augmentation, and/or non-MNIST image datasets. The following csv file would score 100% on Kaggle's public and private leaderboard if submitted."
   ]
  },
  {
   "cell_type": "markdown",
   "id": "9ee7d921",
   "metadata": {
    "papermill": {
     "duration": 0.086655,
     "end_time": "2021-07-25T15:57:45.904914",
     "exception": false,
     "start_time": "2021-07-25T15:57:45.818259",
     "status": "completed"
    },
    "tags": []
   },
   "source": [
    "# 7. References\n",
    "\n",
    "1. https://keras.io/models/sequential/\n",
    "2. https://keras.io/layers/core/\n",
    "3. https://keras.io/layers/convolutional/\n",
    "4. https://keras.io/layers/pooling/\n",
    "5. https://www.kaggle.com/elcaiseri/mnist-simple-cnn-keras-accuracy-0-99-top-1\n",
    "6. https://www.kaggle.com/yassineghouzam/introduction-to-cnn-keras-0-997-top-6\n",
    "7. https://www.kaggle.com/kanncaa1/convolutional-neural-network-cnn-tutorial\n",
    "8. https://www.analyticsvidhya.com/blog/2018/03/introduction-k-neighbours-algorithm-clustering/"
   ]
  },
  {
   "cell_type": "markdown",
   "id": "5b89c539",
   "metadata": {
    "papermill": {
     "duration": 0.086927,
     "end_time": "2021-07-25T15:57:46.078145",
     "exception": false,
     "start_time": "2021-07-25T15:57:45.991218",
     "status": "completed"
    },
    "tags": []
   },
   "source": [
    "# 8. Sklearn Soluation"
   ]
  },
  {
   "cell_type": "markdown",
   "id": "69247920",
   "metadata": {
    "papermill": {
     "duration": 0.086555,
     "end_time": "2021-07-25T15:57:46.250843",
     "exception": false,
     "start_time": "2021-07-25T15:57:46.164288",
     "status": "completed"
    },
    "tags": []
   },
   "source": [
    "You can find out anthor soluation using simple model sklearn \"Random Forest Classifier\" with more than 94.5% accuracy here on this link **<a href='https://www.kaggle.com/elcaiseri/mnist-simple-sklearn-model-95-accuracy'>MNIST: Simple Sklearn Model</a>**"
   ]
  },
  {
   "cell_type": "markdown",
   "id": "a30f47b5",
   "metadata": {
    "papermill": {
     "duration": 0.086294,
     "end_time": "2021-07-25T15:57:46.423389",
     "exception": false,
     "start_time": "2021-07-25T15:57:46.337095",
     "status": "completed"
    },
    "tags": []
   },
   "source": [
    "## Finally,  **<span style='color:#FF6701;'>UPVOTE</span>**  this kernel if you found it useful, feel free in comments."
   ]
  }
 ],
 "metadata": {
  "kernelspec": {
   "display_name": "Python 3",
   "language": "python",
   "name": "python3"
  },
  "language_info": {
   "codemirror_mode": {
    "name": "ipython",
    "version": 3
   },
   "file_extension": ".py",
   "mimetype": "text/x-python",
   "name": "python",
   "nbconvert_exporter": "python",
   "pygments_lexer": "ipython3",
   "version": "3.7.10"
  },
  "papermill": {
   "default_parameters": {},
   "duration": 12176.87535,
   "end_time": "2021-07-25T15:57:49.077786",
   "environment_variables": {},
   "exception": null,
   "input_path": "__notebook__.ipynb",
   "output_path": "__notebook__.ipynb",
   "parameters": {},
   "start_time": "2021-07-25T12:34:52.202436",
   "version": "2.3.3"
  }
 },
 "nbformat": 4,
 "nbformat_minor": 5
}
