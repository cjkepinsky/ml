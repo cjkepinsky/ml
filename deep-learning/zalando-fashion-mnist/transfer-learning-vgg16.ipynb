{
 "cells": [
  {
   "metadata": {
    "_cell_guid": "0fd216d4-dd9f-4c8f-9292-df9aa7c17aca",
    "_uuid": "1c70132a25ea771c9caaa6b9dbfd2d65955be21d"
   },
   "cell_type": "markdown",
   "source": [
    "## Transfer learning\n",
    "Transfer learning (uczenie transferowe) to technika uczenia maszynowego, w której wykorzystuje się już wytrenowany model do rozwiązania innego zadania lub problemu, niż ten dla którego był pierwotnie stworzony.\n",
    "\n",
    "Idea ta wynika z faktu, że wiele złożonych modeli uczenia maszynowego wymaga ogromnej ilości danych treningowych oraz czasu i zasobów obliczeniowych, aby zostać skutecznie wytrenowanymi. W niektórych przypadkach, takie zasoby mogą być ograniczone lub trudne do zdobycia.\n",
    "\n",
    "Wykorzystanie transfer learning pozwala uniknąć konieczności treningu całego modelu od podstaw i pozwala na wykorzystanie już istniejących modeli, które zostały wytrenowane na dużych zbiorach danych. Dzięki temu, model może być dostosowany do nowego zadania z mniejszą ilością danych treningowych i krótszym czasem treningu.\n",
    "\n",
    "Technika ta polega na pobraniu istniejącego modelu wytrenowanego na dużym zbiorze danych (np. ImageNet) i dostosowaniu go do nowego problemu przez zamrożenie jednej lub kilku warstw, a następnie przystosowanie pozostałych warstw do nowego zbioru danych poprzez trening na mniejszej liczbie epok.\n",
    "\n",
    "Transfer learning jest stosowany w wielu dziedzinach, w tym w przetwarzaniu obrazów, języka naturalnego, rozpoznawaniu mowy, detekcji obiektów, itp."
   ]
  },
  {
   "metadata": {
    "_cell_guid": "b1076dfc-b9ad-4769-8c92-a6c4dae69d19",
    "_uuid": "8f2839f25d086af736a60e9eeb907d3b93b6e0e5",
    "trusted": true
   },
   "cell_type": "code",
   "source": [
    "import numpy as np # linear algebra\n",
    "import pandas as pd # data processing, CSV file I/O (e.g. pd.read_csv)\n",
    "import os, time\n",
    "import matplotlib.pyplot as plt\n",
    "#from keras.datasets import fashion_mnist\n",
    "from sklearn.model_selection import train_test_split\n",
    "import keras\n",
    "from keras.utils import to_categorical\n",
    "from keras.models import Sequential\n",
    "from keras.layers import Conv2D, MaxPooling2D\n",
    "from keras.layers import Dense, Dropout, Flatten\n",
    "#from keras.layers.advanced_activations import LeakyReLU\n",
    "from keras.preprocessing.image import ImageDataGenerator\n",
    "from keras.applications import VGG16;\n",
    "from keras.applications.vgg16 import preprocess_input\n",
    "import os\n",
    "\n",
    "# Read csv data files\n",
    "train_data = pd.read_csv('./input/fashion-mnist_train.csv')\n",
    "test_data = pd.read_csv('./input/fashion-mnist_test.csv')\n",
    "\n",
    "# train_data\n",
    "\n",
    "train_data.shape #(60,000*785)\n",
    "test_data.shape #(10000,785)\n",
    "\n",
    "train_X= np.array(train_data.iloc[:,1:])\n",
    "test_X= np.array(test_data.iloc[:,1:])\n",
    "train_Y= np.array (train_data.iloc[:,0]) # (60000,)\n",
    "test_Y = np.array(test_data.iloc[:,0]) #(10000,)\n",
    "\n",
    "# train_data.head()\n",
    "# train_X.shape, test_X.shape\n",
    "\n",
    "classes = np.unique(train_Y)\n",
    "num_classes = len(classes)\n",
    "# num_classes\n",
    "\n",
    "# Convert the images into 3 channels\n",
    "train_X=np.dstack([train_X] * 3)\n",
    "test_X=np.dstack([test_X]*3)\n",
    "# train_X.shape,test_X.shape\n",
    "\n",
    "# Reshape images as per the tensor format required by tensorflow\n",
    "train_X = train_X.reshape(-1, 28,28,3)\n",
    "test_X= test_X.reshape (-1,28,28,3)\n",
    "# train_X.shape,test_X.shape\n",
    "\n",
    "# Resize the images 48*48 as required by VGG16\n",
    "from keras.utils import img_to_array, array_to_img\n",
    "train_X = np.asarray([img_to_array(array_to_img(im, scale=False).resize((48,48))) for im in train_X])\n",
    "test_X = np.asarray([img_to_array(array_to_img(im, scale=False).resize((48,48))) for im in test_X])\n",
    "#train_x = preprocess_input(x)\n",
    "# train_X.shape, test_X.shape\n",
    "\n",
    "# Normalise the data and change data type\n",
    "train_X = train_X / 255.\n",
    "test_X = test_X / 255.\n",
    "train_X = train_X.astype('float32')\n",
    "test_X = test_X.astype('float32')\n",
    "\n",
    "# Converting Labels to one hot encoded format\n",
    "train_Y_one_hot = to_categorical(train_Y)\n",
    "test_Y_one_hot = to_categorical(test_Y)\n",
    "\n",
    "# Splitting train data as train and validation data\n",
    "train_X,valid_X,train_label,valid_label = train_test_split(train_X,\n",
    "                                                           train_Y_one_hot,\n",
    "                                                           test_size=0.2,\n",
    "                                                           random_state=13\n",
    "                                                           )\n",
    "\n",
    "# Preprocessing the input\n",
    "train_X = preprocess_input(train_X)\n",
    "valid_X = preprocess_input(valid_X)\n",
    "test_X  = preprocess_input (test_X)\n",
    "\n",
    "\n",
    "# Finally check the data size whether it is as per tensorflow and VGG16 requirement\n",
    "train_X.shape, train_label.shape, valid_X.shape, valid_label.shape\n"
   ],
   "execution_count": 16,
   "outputs": [
    {
     "data": {
      "text/plain": "((48000, 48, 48, 3), (48000, 10), (12000, 48, 48, 3), (12000, 10))"
     },
     "execution_count": 16,
     "metadata": {},
     "output_type": "execute_result"
    }
   ]
  },
  {
   "metadata": {
    "collapsed": true,
    "_uuid": "113ac9912ec68548ab6c9663d2a268b341d19318",
    "_cell_guid": "b9a862b8-83a7-4920-9662-4e7d5b06fa2a",
    "trusted": true
   },
   "cell_type": "code",
   "source": [
    "\n",
    "from keras.models import Sequential, Model\n",
    "\n",
    "# Define the parameters for instanitaing VGG16 model.\n",
    "IMG_WIDTH = 48\n",
    "IMG_HEIGHT = 48\n",
    "IMG_DEPTH = 3\n",
    "BATCH_SIZE = 16\n",
    "\n",
    "\n",
    "#  Create base model of VGG16\n",
    "# conv_base = VGG16(weights='../input/keras-models/vgg16_weights_tf_dim_ordering_tf_kernels_notop.h5',\n",
    "conv_base = VGG16(include_top=False,\n",
    "                  input_shape=(IMG_HEIGHT, IMG_WIDTH, IMG_DEPTH)\n",
    "                  )\n",
    "\n",
    "# Extracting features\n",
    "train_features = conv_base.predict(np.array(train_X), batch_size=BATCH_SIZE, verbose=1)\n",
    "test_features = conv_base.predict(np.array(test_X), batch_size=BATCH_SIZE, verbose=1)\n",
    "val_features = conv_base.predict(np.array(valid_X), batch_size=BATCH_SIZE, verbose=1)\n",
    "\n",
    "\n",
    "for layer in conv_base.layers:\n",
    "   layer.trainable = False\n",
    "\n",
    "\n",
    "# dodanie nowych warstw\n",
    "x = Flatten()(conv_base.output)\n",
    "x = Dense(1024, activation='relu')(x)\n",
    "x = Dense(256, activation='relu')(x)\n",
    "output = Dense(10, activation='softmax')(x)\n",
    "\n",
    "# utworzenie nowego modelu z wstępnie wytrenowanym modelem VGG16 i nowymi warstwami\n",
    "model = Model(inputs=conv_base.input, outputs=output)\n",
    "\n",
    "# kompilacja modelu\n",
    "model.compile(loss='sparse_categorical_crossentropy', optimizer='adam', metrics=['accuracy'])\n",
    "\n",
    "# predykcja na zbiorze testowym\n",
    "# predictions = model.predict(np.array(test_X))\n",
    "\n",
    "model.summary()\n",
    "\n"
   ],
   "execution_count": 10,
   "outputs": [
    {
     "name": "stderr",
     "output_type": "stream",
     "text": [
      "2023-03-06 16:21:11.638827: I tensorflow/core/grappler/optimizers/custom_graph_optimizer_registry.cc:114] Plugin optimizer for device_type GPU is enabled.\n"
     ]
    },
    {
     "name": "stdout",
     "output_type": "stream",
     "text": [
      "3000/3000 [==============================] - 53s 17ms/step\n",
      "625/625 [==============================] - 11s 18ms/step\n",
      "750/750 [==============================] - 14s 18ms/step\n",
      "Model: \"model_1\"\n",
      "_________________________________________________________________\n",
      " Layer (type)                Output Shape              Param #   \n",
      "=================================================================\n",
      " input_2 (InputLayer)        [(None, 48, 48, 3)]       0         \n",
      "                                                                 \n",
      " block1_conv1 (Conv2D)       (None, 48, 48, 64)        1792      \n",
      "                                                                 \n",
      " block1_conv2 (Conv2D)       (None, 48, 48, 64)        36928     \n",
      "                                                                 \n",
      " block1_pool (MaxPooling2D)  (None, 24, 24, 64)        0         \n",
      "                                                                 \n",
      " block2_conv1 (Conv2D)       (None, 24, 24, 128)       73856     \n",
      "                                                                 \n",
      " block2_conv2 (Conv2D)       (None, 24, 24, 128)       147584    \n",
      "                                                                 \n",
      " block2_pool (MaxPooling2D)  (None, 12, 12, 128)       0         \n",
      "                                                                 \n",
      " block3_conv1 (Conv2D)       (None, 12, 12, 256)       295168    \n",
      "                                                                 \n",
      " block3_conv2 (Conv2D)       (None, 12, 12, 256)       590080    \n",
      "                                                                 \n",
      " block3_conv3 (Conv2D)       (None, 12, 12, 256)       590080    \n",
      "                                                                 \n",
      " block3_pool (MaxPooling2D)  (None, 6, 6, 256)         0         \n",
      "                                                                 \n",
      " block4_conv1 (Conv2D)       (None, 6, 6, 512)         1180160   \n",
      "                                                                 \n",
      " block4_conv2 (Conv2D)       (None, 6, 6, 512)         2359808   \n",
      "                                                                 \n",
      " block4_conv3 (Conv2D)       (None, 6, 6, 512)         2359808   \n",
      "                                                                 \n",
      " block4_pool (MaxPooling2D)  (None, 3, 3, 512)         0         \n",
      "                                                                 \n",
      " block5_conv1 (Conv2D)       (None, 3, 3, 512)         2359808   \n",
      "                                                                 \n",
      " block5_conv2 (Conv2D)       (None, 3, 3, 512)         2359808   \n",
      "                                                                 \n",
      " block5_conv3 (Conv2D)       (None, 3, 3, 512)         2359808   \n",
      "                                                                 \n",
      " block5_pool (MaxPooling2D)  (None, 1, 1, 512)         0         \n",
      "                                                                 \n",
      " flatten_1 (Flatten)         (None, 512)               0         \n",
      "                                                                 \n",
      " dense_3 (Dense)             (None, 1024)              525312    \n",
      "                                                                 \n",
      " dense_4 (Dense)             (None, 256)               262400    \n",
      "                                                                 \n",
      " dense_5 (Dense)             (None, 10)                2570      \n",
      "                                                                 \n",
      "=================================================================\n",
      "Total params: 15,504,970\n",
      "Trainable params: 790,282\n",
      "Non-trainable params: 14,714,688\n",
      "_________________________________________________________________\n"
     ]
    }
   ]
  },
  {
   "cell_type": "code",
   "execution_count": 17,
   "outputs": [
    {
     "name": "stdout",
     "output_type": "stream",
     "text": [
      "Epoch 1/10\n"
     ]
    },
    {
     "ename": "ValueError",
     "evalue": "in user code:\n\n    File \"/Users/kkepins-macwro_1/.local/share/virtualenvs/data-science-upskills-eseJr18D/lib/python3.10/site-packages/keras/engine/training.py\", line 1160, in train_function  *\n        return step_function(self, iterator)\n    File \"/Users/kkepins-macwro_1/.local/share/virtualenvs/data-science-upskills-eseJr18D/lib/python3.10/site-packages/keras/engine/training.py\", line 1146, in step_function  **\n        outputs = model.distribute_strategy.run(run_step, args=(data,))\n    File \"/Users/kkepins-macwro_1/.local/share/virtualenvs/data-science-upskills-eseJr18D/lib/python3.10/site-packages/keras/engine/training.py\", line 1135, in run_step  **\n        outputs = model.train_step(data)\n    File \"/Users/kkepins-macwro_1/.local/share/virtualenvs/data-science-upskills-eseJr18D/lib/python3.10/site-packages/keras/engine/training.py\", line 994, in train_step\n        loss = self.compute_loss(x, y, y_pred, sample_weight)\n    File \"/Users/kkepins-macwro_1/.local/share/virtualenvs/data-science-upskills-eseJr18D/lib/python3.10/site-packages/keras/engine/training.py\", line 1052, in compute_loss\n        return self.compiled_loss(\n    File \"/Users/kkepins-macwro_1/.local/share/virtualenvs/data-science-upskills-eseJr18D/lib/python3.10/site-packages/keras/engine/compile_utils.py\", line 265, in __call__\n        loss_value = loss_obj(y_t, y_p, sample_weight=sw)\n    File \"/Users/kkepins-macwro_1/.local/share/virtualenvs/data-science-upskills-eseJr18D/lib/python3.10/site-packages/keras/losses.py\", line 152, in __call__\n        losses = call_fn(y_true, y_pred)\n    File \"/Users/kkepins-macwro_1/.local/share/virtualenvs/data-science-upskills-eseJr18D/lib/python3.10/site-packages/keras/losses.py\", line 272, in call  **\n        return ag_fn(y_true, y_pred, **self._fn_kwargs)\n    File \"/Users/kkepins-macwro_1/.local/share/virtualenvs/data-science-upskills-eseJr18D/lib/python3.10/site-packages/keras/losses.py\", line 2084, in sparse_categorical_crossentropy\n        return backend.sparse_categorical_crossentropy(\n    File \"/Users/kkepins-macwro_1/.local/share/virtualenvs/data-science-upskills-eseJr18D/lib/python3.10/site-packages/keras/backend.py\", line 5630, in sparse_categorical_crossentropy\n        res = tf.nn.sparse_softmax_cross_entropy_with_logits(\n\n    ValueError: `labels.shape` must equal `logits.shape` except for the last dimension. Received: labels.shape=(320,) and logits.shape=(32, 10)\n",
     "output_type": "error",
     "traceback": [
      "\u001B[0;31m---------------------------------------------------------------------------\u001B[0m",
      "\u001B[0;31mValueError\u001B[0m                                Traceback (most recent call last)",
      "Cell \u001B[0;32mIn[17], line 8\u001B[0m\n\u001B[1;32m      1\u001B[0m \u001B[38;5;66;03m# Flatten extracted features\u001B[39;00m\n\u001B[1;32m      2\u001B[0m \u001B[38;5;66;03m# train_features_flat = np.reshape(train_features, (48000, 1*1*512))\u001B[39;00m\n\u001B[1;32m      3\u001B[0m \u001B[38;5;66;03m# test_features_flat = np.reshape(test_features, (10000, 1*1*512))\u001B[39;00m\n\u001B[0;32m   (...)\u001B[0m\n\u001B[1;32m      6\u001B[0m \n\u001B[1;32m      7\u001B[0m \u001B[38;5;66;03m# trenowanie nowego modelu tylko dla nowych warstw\u001B[39;00m\n\u001B[0;32m----> 8\u001B[0m history \u001B[38;5;241m=\u001B[39m \u001B[43mmodel\u001B[49m\u001B[38;5;241;43m.\u001B[39;49m\u001B[43mfit\u001B[49m\u001B[43m(\u001B[49m\u001B[43mnp\u001B[49m\u001B[38;5;241;43m.\u001B[39;49m\u001B[43marray\u001B[49m\u001B[43m(\u001B[49m\u001B[43mtrain_X\u001B[49m\u001B[43m)\u001B[49m\u001B[43m,\u001B[49m\u001B[43m \u001B[49m\u001B[43mtrain_label\u001B[49m\u001B[43m,\u001B[49m\u001B[43m \u001B[49m\u001B[43mepochs\u001B[49m\u001B[38;5;241;43m=\u001B[39;49m\u001B[38;5;241;43m10\u001B[39;49m\u001B[43m)\u001B[49m\n\u001B[1;32m     10\u001B[0m score \u001B[38;5;241m=\u001B[39m model\u001B[38;5;241m.\u001B[39mevaluate(np\u001B[38;5;241m.\u001B[39marray(test_X), verbose\u001B[38;5;241m=\u001B[39m\u001B[38;5;241m1\u001B[39m)\n\u001B[1;32m     12\u001B[0m \u001B[38;5;28mprint\u001B[39m(\u001B[38;5;124m'\u001B[39m\u001B[38;5;124m===========================\u001B[39m\u001B[38;5;124m'\u001B[39m)\n",
      "File \u001B[0;32m~/.local/share/virtualenvs/data-science-upskills-eseJr18D/lib/python3.10/site-packages/keras/utils/traceback_utils.py:70\u001B[0m, in \u001B[0;36mfilter_traceback.<locals>.error_handler\u001B[0;34m(*args, **kwargs)\u001B[0m\n\u001B[1;32m     67\u001B[0m     filtered_tb \u001B[38;5;241m=\u001B[39m _process_traceback_frames(e\u001B[38;5;241m.\u001B[39m__traceback__)\n\u001B[1;32m     68\u001B[0m     \u001B[38;5;66;03m# To get the full stack trace, call:\u001B[39;00m\n\u001B[1;32m     69\u001B[0m     \u001B[38;5;66;03m# `tf.debugging.disable_traceback_filtering()`\u001B[39;00m\n\u001B[0;32m---> 70\u001B[0m     \u001B[38;5;28;01mraise\u001B[39;00m e\u001B[38;5;241m.\u001B[39mwith_traceback(filtered_tb) \u001B[38;5;28;01mfrom\u001B[39;00m \u001B[38;5;28mNone\u001B[39m\n\u001B[1;32m     71\u001B[0m \u001B[38;5;28;01mfinally\u001B[39;00m:\n\u001B[1;32m     72\u001B[0m     \u001B[38;5;28;01mdel\u001B[39;00m filtered_tb\n",
      "File \u001B[0;32m/var/folders/r3/hdngxsmd2vq391vqv6kg6f7w0000gq/T/__autograph_generated_fileeua6xpvj.py:15\u001B[0m, in \u001B[0;36mouter_factory.<locals>.inner_factory.<locals>.tf__train_function\u001B[0;34m(iterator)\u001B[0m\n\u001B[1;32m     13\u001B[0m \u001B[38;5;28;01mtry\u001B[39;00m:\n\u001B[1;32m     14\u001B[0m     do_return \u001B[38;5;241m=\u001B[39m \u001B[38;5;28;01mTrue\u001B[39;00m\n\u001B[0;32m---> 15\u001B[0m     retval_ \u001B[38;5;241m=\u001B[39m ag__\u001B[38;5;241m.\u001B[39mconverted_call(ag__\u001B[38;5;241m.\u001B[39mld(step_function), (ag__\u001B[38;5;241m.\u001B[39mld(\u001B[38;5;28mself\u001B[39m), ag__\u001B[38;5;241m.\u001B[39mld(iterator)), \u001B[38;5;28;01mNone\u001B[39;00m, fscope)\n\u001B[1;32m     16\u001B[0m \u001B[38;5;28;01mexcept\u001B[39;00m:\n\u001B[1;32m     17\u001B[0m     do_return \u001B[38;5;241m=\u001B[39m \u001B[38;5;28;01mFalse\u001B[39;00m\n",
      "\u001B[0;31mValueError\u001B[0m: in user code:\n\n    File \"/Users/kkepins-macwro_1/.local/share/virtualenvs/data-science-upskills-eseJr18D/lib/python3.10/site-packages/keras/engine/training.py\", line 1160, in train_function  *\n        return step_function(self, iterator)\n    File \"/Users/kkepins-macwro_1/.local/share/virtualenvs/data-science-upskills-eseJr18D/lib/python3.10/site-packages/keras/engine/training.py\", line 1146, in step_function  **\n        outputs = model.distribute_strategy.run(run_step, args=(data,))\n    File \"/Users/kkepins-macwro_1/.local/share/virtualenvs/data-science-upskills-eseJr18D/lib/python3.10/site-packages/keras/engine/training.py\", line 1135, in run_step  **\n        outputs = model.train_step(data)\n    File \"/Users/kkepins-macwro_1/.local/share/virtualenvs/data-science-upskills-eseJr18D/lib/python3.10/site-packages/keras/engine/training.py\", line 994, in train_step\n        loss = self.compute_loss(x, y, y_pred, sample_weight)\n    File \"/Users/kkepins-macwro_1/.local/share/virtualenvs/data-science-upskills-eseJr18D/lib/python3.10/site-packages/keras/engine/training.py\", line 1052, in compute_loss\n        return self.compiled_loss(\n    File \"/Users/kkepins-macwro_1/.local/share/virtualenvs/data-science-upskills-eseJr18D/lib/python3.10/site-packages/keras/engine/compile_utils.py\", line 265, in __call__\n        loss_value = loss_obj(y_t, y_p, sample_weight=sw)\n    File \"/Users/kkepins-macwro_1/.local/share/virtualenvs/data-science-upskills-eseJr18D/lib/python3.10/site-packages/keras/losses.py\", line 152, in __call__\n        losses = call_fn(y_true, y_pred)\n    File \"/Users/kkepins-macwro_1/.local/share/virtualenvs/data-science-upskills-eseJr18D/lib/python3.10/site-packages/keras/losses.py\", line 272, in call  **\n        return ag_fn(y_true, y_pred, **self._fn_kwargs)\n    File \"/Users/kkepins-macwro_1/.local/share/virtualenvs/data-science-upskills-eseJr18D/lib/python3.10/site-packages/keras/losses.py\", line 2084, in sparse_categorical_crossentropy\n        return backend.sparse_categorical_crossentropy(\n    File \"/Users/kkepins-macwro_1/.local/share/virtualenvs/data-science-upskills-eseJr18D/lib/python3.10/site-packages/keras/backend.py\", line 5630, in sparse_categorical_crossentropy\n        res = tf.nn.sparse_softmax_cross_entropy_with_logits(\n\n    ValueError: `labels.shape` must equal `logits.shape` except for the last dimension. Received: labels.shape=(320,) and logits.shape=(32, 10)\n"
     ]
    }
   ],
   "source": [
    "# Flatten extracted features\n",
    "# train_features_flat = np.reshape(train_features, (48000, 1*1*512))\n",
    "# test_features_flat = np.reshape(test_features, (10000, 1*1*512))\n",
    "# val_features_flat = np.reshape(val_features, (12000, 1*1*512))\n",
    "\n",
    "\n",
    "# trenowanie nowego modelu tylko dla nowych warstw\n",
    "history = model.fit(np.array(train_X), train_label, epochs=10)\n",
    "\n",
    "score = model.evaluate(np.array(test_X), verbose=1)\n",
    "\n",
    "print('===========================')\n",
    "print('>>>> Test Loss : {:.4f}'.format(score[0]))\n",
    "print('>>>> Test Accuracy : {:.4f}'.format(score[1]))\n",
    "print('===========================\\n\\n')\n",
    "\n"
   ],
   "metadata": {
    "collapsed": false
   }
  },
  {
   "cell_type": "code",
   "execution_count": 14,
   "outputs": [
    {
     "data": {
      "text/plain": "(48000, 48, 48, 3)"
     },
     "execution_count": 14,
     "metadata": {},
     "output_type": "execute_result"
    }
   ],
   "source": [
    "train_X.shape\n"
   ],
   "metadata": {
    "collapsed": false
   }
  },
  {
   "cell_type": "code",
   "execution_count": 25,
   "outputs": [
    {
     "data": {
      "text/plain": "array([2, 9, 6, ..., 8, 8, 7])"
     },
     "execution_count": 25,
     "metadata": {},
     "output_type": "execute_result"
    }
   ],
   "source": [
    "train_Y"
   ],
   "metadata": {
    "collapsed": false
   }
  },
  {
   "cell_type": "code",
   "execution_count": 14,
   "outputs": [
    {
     "data": {
      "text/plain": "array([[1., 0., 0., ..., 0., 0., 0.],\n       [0., 1., 0., ..., 0., 0., 0.],\n       [0., 0., 1., ..., 0., 0., 0.],\n       ...,\n       [0., 0., 0., ..., 0., 1., 0.],\n       [0., 0., 0., ..., 0., 1., 0.],\n       [0., 1., 0., ..., 0., 0., 0.]], dtype=float32)"
     },
     "execution_count": 14,
     "metadata": {},
     "output_type": "execute_result"
    }
   ],
   "source": [
    "test_Y_one_hot"
   ],
   "metadata": {
    "collapsed": false
   }
  },
  {
   "metadata": {
    "collapsed": true,
    "_uuid": "edd015a505d1088b0aacc5f7ee5434cfa40929ef",
    "_cell_guid": "ca1c5a1a-c870-4c5a-a086-77aaa1934f28",
    "trusted": true
   },
   "cell_type": "code",
   "source": [
    "from keras import models\n",
    "from keras.models import Model\n",
    "from keras import layers\n",
    "from keras import optimizers\n",
    "from keras import callbacks\n",
    "from keras.layers import LeakyReLU\n",
    "\n",
    "# 6.1 Saving the features so that they can be used for future\n",
    "np.savez(\"train_features\", train_features, train_label)\n",
    "np.savez(\"test_features\", test_features, test_Y)\n",
    "np.savez(\"val_features\", val_features, valid_label)\n",
    "\n",
    "# Current shape of features\n",
    "print(train_features.shape, \"\\n\",  test_features.shape, \"\\n\", val_features.shape)\n",
    "\n",
    "# Flatten extracted features\n",
    "train_features_flat = np.reshape(train_features, (48000, 1*1*512))\n",
    "test_features_flat = np.reshape(test_features, (10000, 1*1*512))\n",
    "val_features_flat = np.reshape(val_features, (12000, 1*1*512))\n",
    "\n",
    "# 7.0 Define the densely connected classifier followed by leakyrelu layer and finally dense layer for the number of classes\n",
    "NB_TRAIN_SAMPLES = train_features_flat.shape[0]\n",
    "NB_VALIDATION_SAMPLES = val_features_flat.shape[0]\n",
    "NB_EPOCHS = 30\n",
    "\n",
    "model = models.Sequential()\n",
    "model.add(layers.Dense(512, activation='relu', input_dim=(1*1*512)))\n",
    "model.add(layers.LeakyReLU(alpha=0.1))\n",
    "model.add(layers.Dense(num_classes, activation='softmax'))\n",
    "\n",
    "# Compile the model.\n",
    "model.compile(\n",
    "    loss='categorical_crossentropy',\n",
    "    optimizer=optimizers.Adam(),\n",
    "    # optimizer=optimizers.RMSprop(lr=2e-5),\n",
    "    metrics=['acc'])\n",
    "\n",
    "# Incorporating reduced learning and early stopping for callback\n",
    "reduce_learning = callbacks.ReduceLROnPlateau(\n",
    "    monitor='val_loss',\n",
    "    factor=0.2,\n",
    "    patience=2,\n",
    "    verbose=1,\n",
    "    mode='auto',\n",
    "    epsilon=0.0001,\n",
    "    cooldown=2,\n",
    "    min_lr=0)\n",
    "\n",
    "eary_stopping = callbacks.EarlyStopping(\n",
    "    monitor='val_loss',\n",
    "    min_delta=0,\n",
    "    patience=7,\n",
    "    verbose=1,\n",
    "    mode='auto')\n",
    "\n",
    "callbacks = [reduce_learning, eary_stopping]\n",
    "\n",
    "# Train the the model\n",
    "history = model.fit(\n",
    "    train_features_flat,\n",
    "    train_label,\n",
    "    epochs=NB_EPOCHS,\n",
    "    validation_data=(val_features_flat, valid_label),\n",
    "    callbacks=callbacks\n",
    ")\n",
    "\n",
    "# plot the loss and accuracy\n",
    "acc = history.history['acc']\n",
    "val_acc = history.history['val_acc']\n",
    "loss = history.history['loss']\n",
    "val_loss = history.history['val_loss']\n",
    "epochs = range(1, len(acc) + 1)\n",
    "\n",
    "plt.title('Training and validation accuracy')\n",
    "plt.plot(epochs, acc, 'red', label='Training acc')\n",
    "plt.plot(epochs, val_acc, 'blue', label='Validation acc')\n",
    "plt.legend()\n",
    "\n",
    "plt.figure()\n",
    "plt.title('Training and validation loss')\n",
    "plt.plot(epochs, loss, 'red', label='Training loss')\n",
    "plt.plot(epochs, val_loss, 'blue', label='Validation loss')\n",
    "plt.legend()\n",
    "plt.show()"
   ],
   "execution_count": 8,
   "outputs": [
    {
     "name": "stdout",
     "output_type": "stream",
     "text": [
      "(48000, 1, 1, 512) \n",
      " (10000, 1, 1, 512) \n",
      " (12000, 1, 1, 512)\n",
      "WARNING:tensorflow:`epsilon` argument is deprecated and will be removed, use `min_delta` instead.\n",
      "Epoch 1/30\n"
     ]
    },
    {
     "name": "stderr",
     "output_type": "stream",
     "text": [
      "2023-02-27 17:13:25.286233: I tensorflow/core/grappler/optimizers/custom_graph_optimizer_registry.cc:114] Plugin optimizer for device_type GPU is enabled.\n"
     ]
    },
    {
     "name": "stdout",
     "output_type": "stream",
     "text": [
      "1498/1500 [============================>.] - ETA: 0s - loss: 1.4522 - acc: 0.4620"
     ]
    },
    {
     "name": "stderr",
     "output_type": "stream",
     "text": [
      "2023-02-27 17:13:40.746078: I tensorflow/core/grappler/optimizers/custom_graph_optimizer_registry.cc:114] Plugin optimizer for device_type GPU is enabled.\n"
     ]
    },
    {
     "name": "stdout",
     "output_type": "stream",
     "text": [
      "1500/1500 [==============================] - 19s 12ms/step - loss: 1.4519 - acc: 0.4622 - val_loss: 1.2131 - val_acc: 0.5723 - lr: 0.0010\n",
      "Epoch 2/30\n",
      "1500/1500 [==============================] - 16s 11ms/step - loss: 1.0910 - acc: 0.6008 - val_loss: 1.0110 - val_acc: 0.6120 - lr: 0.0010\n",
      "Epoch 3/30\n",
      "1500/1500 [==============================] - 16s 11ms/step - loss: 0.9855 - acc: 0.6409 - val_loss: 0.9611 - val_acc: 0.6564 - lr: 0.0010\n",
      "Epoch 4/30\n",
      "1500/1500 [==============================] - 16s 11ms/step - loss: 0.9381 - acc: 0.6557 - val_loss: 0.9617 - val_acc: 0.6359 - lr: 0.0010\n",
      "Epoch 5/30\n",
      "1500/1500 [==============================] - 15s 10ms/step - loss: 0.9000 - acc: 0.6699 - val_loss: 0.9248 - val_acc: 0.6587 - lr: 0.0010\n",
      "Epoch 6/30\n",
      "1500/1500 [==============================] - 17s 11ms/step - loss: 0.8772 - acc: 0.6788 - val_loss: 0.8781 - val_acc: 0.6785 - lr: 0.0010\n",
      "Epoch 7/30\n",
      "1500/1500 [==============================] - 21s 14ms/step - loss: 0.8665 - acc: 0.6812 - val_loss: 0.8544 - val_acc: 0.6963 - lr: 0.0010\n",
      "Epoch 8/30\n",
      "1500/1500 [==============================] - 19s 13ms/step - loss: 0.8488 - acc: 0.6884 - val_loss: 0.8178 - val_acc: 0.7039 - lr: 0.0010\n",
      "Epoch 9/30\n",
      "1500/1500 [==============================] - 25s 16ms/step - loss: 0.8395 - acc: 0.6929 - val_loss: 0.8772 - val_acc: 0.6815 - lr: 0.0010\n",
      "Epoch 10/30\n",
      "1498/1500 [============================>.] - ETA: 0s - loss: 0.8306 - acc: 0.6967\n",
      "Epoch 10: ReduceLROnPlateau reducing learning rate to 0.00020000000949949026.\n",
      "1500/1500 [==============================] - 20s 14ms/step - loss: 0.8308 - acc: 0.6966 - val_loss: 0.8374 - val_acc: 0.6917 - lr: 0.0010\n",
      "Epoch 11/30\n",
      "1500/1500 [==============================] - 16s 11ms/step - loss: 0.7624 - acc: 0.7256 - val_loss: 0.7666 - val_acc: 0.7267 - lr: 2.0000e-04\n",
      "Epoch 12/30\n",
      "1500/1500 [==============================] - 16s 11ms/step - loss: 0.7564 - acc: 0.7263 - val_loss: 0.7735 - val_acc: 0.7212 - lr: 2.0000e-04\n",
      "Epoch 13/30\n",
      "1500/1500 [==============================] - 16s 11ms/step - loss: 0.7509 - acc: 0.7289 - val_loss: 0.7625 - val_acc: 0.7204 - lr: 2.0000e-04\n",
      "Epoch 14/30\n",
      "1500/1500 [==============================] - 19s 13ms/step - loss: 0.7456 - acc: 0.7306 - val_loss: 0.7497 - val_acc: 0.7282 - lr: 2.0000e-04\n",
      "Epoch 15/30\n",
      "1500/1500 [==============================] - 17s 11ms/step - loss: 0.7427 - acc: 0.7304 - val_loss: 0.7694 - val_acc: 0.7227 - lr: 2.0000e-04\n",
      "Epoch 16/30\n",
      "1495/1500 [============================>.] - ETA: 0s - loss: 0.7396 - acc: 0.7342\n",
      "Epoch 16: ReduceLROnPlateau reducing learning rate to 4.0000001899898055e-05.\n",
      "1500/1500 [==============================] - 17s 11ms/step - loss: 0.7395 - acc: 0.7342 - val_loss: 0.7533 - val_acc: 0.7306 - lr: 2.0000e-04\n",
      "Epoch 17/30\n",
      "1500/1500 [==============================] - 16s 10ms/step - loss: 0.7223 - acc: 0.7415 - val_loss: 0.7332 - val_acc: 0.7398 - lr: 4.0000e-05\n",
      "Epoch 18/30\n",
      "1500/1500 [==============================] - 16s 11ms/step - loss: 0.7210 - acc: 0.7423 - val_loss: 0.7304 - val_acc: 0.7414 - lr: 4.0000e-05\n",
      "Epoch 19/30\n",
      "1500/1500 [==============================] - 16s 11ms/step - loss: 0.7206 - acc: 0.7413 - val_loss: 0.7357 - val_acc: 0.7352 - lr: 4.0000e-05\n",
      "Epoch 20/30\n",
      "1499/1500 [============================>.] - ETA: 0s - loss: 0.7193 - acc: 0.7417\n",
      "Epoch 20: ReduceLROnPlateau reducing learning rate to 8.000000525498762e-06.\n",
      "1500/1500 [==============================] - 17s 11ms/step - loss: 0.7193 - acc: 0.7417 - val_loss: 0.7315 - val_acc: 0.7388 - lr: 4.0000e-05\n",
      "Epoch 21/30\n",
      "1500/1500 [==============================] - 16s 11ms/step - loss: 0.7155 - acc: 0.7445 - val_loss: 0.7272 - val_acc: 0.7408 - lr: 8.0000e-06\n",
      "Epoch 22/30\n",
      "1500/1500 [==============================] - 20s 13ms/step - loss: 0.7152 - acc: 0.7442 - val_loss: 0.7270 - val_acc: 0.7398 - lr: 8.0000e-06\n",
      "Epoch 23/30\n",
      "1500/1500 [==============================] - 18s 12ms/step - loss: 0.7149 - acc: 0.7449 - val_loss: 0.7267 - val_acc: 0.7416 - lr: 8.0000e-06\n",
      "Epoch 24/30\n",
      "1500/1500 [==============================] - 17s 11ms/step - loss: 0.7147 - acc: 0.7442 - val_loss: 0.7270 - val_acc: 0.7395 - lr: 8.0000e-06\n",
      "Epoch 25/30\n",
      "1495/1500 [============================>.] - ETA: 0s - loss: 0.7145 - acc: 0.7438\n",
      "Epoch 25: ReduceLROnPlateau reducing learning rate to 1.6000001778593287e-06.\n",
      "1500/1500 [==============================] - 19s 13ms/step - loss: 0.7144 - acc: 0.7438 - val_loss: 0.7277 - val_acc: 0.7394 - lr: 8.0000e-06\n",
      "Epoch 26/30\n",
      "1500/1500 [==============================] - 19s 13ms/step - loss: 0.7139 - acc: 0.7450 - val_loss: 0.7263 - val_acc: 0.7416 - lr: 1.6000e-06\n",
      "Epoch 27/30\n",
      "1500/1500 [==============================] - 16s 10ms/step - loss: 0.7137 - acc: 0.7451 - val_loss: 0.7260 - val_acc: 0.7410 - lr: 1.6000e-06\n",
      "Epoch 28/30\n",
      "1500/1500 [==============================] - 16s 11ms/step - loss: 0.7136 - acc: 0.7450 - val_loss: 0.7258 - val_acc: 0.7417 - lr: 1.6000e-06\n",
      "Epoch 29/30\n",
      "1500/1500 [==============================] - 17s 11ms/step - loss: 0.7136 - acc: 0.7450 - val_loss: 0.7261 - val_acc: 0.7403 - lr: 1.6000e-06\n",
      "Epoch 30/30\n",
      "1498/1500 [============================>.] - ETA: 0s - loss: 0.7135 - acc: 0.7449\n",
      "Epoch 30: ReduceLROnPlateau reducing learning rate to 3.200000264769187e-07.\n",
      "1500/1500 [==============================] - 16s 11ms/step - loss: 0.7136 - acc: 0.7449 - val_loss: 0.7258 - val_acc: 0.7414 - lr: 1.6000e-06\n"
     ]
    },
    {
     "data": {
      "text/plain": "<Figure size 640x480 with 1 Axes>",
      "image/png": "[encoded data removed]"
     },
     "metadata": {},
     "output_type": "display_data"
    },
    {
     "data": {
      "text/plain": "<Figure size 640x480 with 1 Axes>",
      "image/png": "[encoded data removed]"
     },
     "metadata": {},
     "output_type": "display_data"
    }
   ]
  },
  {
   "metadata": {
    "_cell_guid": "9cde6c7a-22ef-4c40-a1f9-c23aa3ccbb87",
    "_uuid": "806070772ca7bb192301cdc01dc60bb5b378c59a"
   },
   "cell_type": "markdown",
   "source": [
    "References\n",
    "https://www.kaggle.com/crawford/diagnose-lung-disease-with-vgg16\n",
    "https://www.programcreek.com/python/example/92213/keras.applications.vgg16.VGG16\n",
    "http://www.socouldanyone.com/2013/03/converting-grayscale-to-rgb-with-numpy.html"
   ]
  }
 ],
 "metadata": {
  "kernelspec": {
   "display_name": "Python 3",
   "language": "python",
   "name": "python3"
  },
  "language_info": {
   "name": "python",
   "version": "3.6.4",
   "mimetype": "text/x-python",
   "codemirror_mode": {
    "name": "ipython",
    "version": 3
   },
   "pygments_lexer": "ipython3",
   "nbconvert_exporter": "python",
   "file_extension": ".py"
  }
 },
 "nbformat": 4,
 "nbformat_minor": 1
}
