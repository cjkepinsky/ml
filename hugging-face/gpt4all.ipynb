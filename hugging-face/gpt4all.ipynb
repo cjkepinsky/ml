{
 "cells": [
  {
   "cell_type": "code",
   "execution_count": 1,
   "metadata": {},
   "outputs": [
    {
     "name": "stdout",
     "output_type": "stream",
     "text": [
      "Requirement already satisfied: nomic in /Users/kkepins-macwro_1/.pyenv/versions/3.9.13/lib/python3.9/site-packages (1.1.6)\r\n",
      "Requirement already satisfied: jsonlines in /Users/kkepins-macwro_1/.pyenv/versions/3.9.13/lib/python3.9/site-packages (from nomic) (3.1.0)\r\n",
      "Requirement already satisfied: tqdm in /Users/kkepins-macwro_1/.pyenv/versions/3.9.13/lib/python3.9/site-packages (from nomic) (4.64.1)\r\n",
      "Requirement already satisfied: requests in /Users/kkepins-macwro_1/.pyenv/versions/3.9.13/lib/python3.9/site-packages (from nomic) (2.28.1)\r\n",
      "Requirement already satisfied: rich in /Users/kkepins-macwro_1/.pyenv/versions/3.9.13/lib/python3.9/site-packages (from nomic) (13.3.4)\r\n",
      "Requirement already satisfied: pydantic in /Users/kkepins-macwro_1/.pyenv/versions/3.9.13/lib/python3.9/site-packages (from nomic) (1.10.7)\r\n",
      "Requirement already satisfied: pyarrow in /Users/kkepins-macwro_1/.pyenv/versions/3.9.13/lib/python3.9/site-packages (from nomic) (11.0.0)\r\n",
      "Requirement already satisfied: click in /Users/kkepins-macwro_1/.pyenv/versions/3.9.13/lib/python3.9/site-packages (from nomic) (8.1.3)\r\n",
      "Requirement already satisfied: loguru in /Users/kkepins-macwro_1/.pyenv/versions/3.9.13/lib/python3.9/site-packages (from nomic) (0.7.0)\r\n",
      "Requirement already satisfied: wonderwords in /Users/kkepins-macwro_1/.pyenv/versions/3.9.13/lib/python3.9/site-packages (from nomic) (2.2.0)\r\n",
      "Requirement already satisfied: cohere in /Users/kkepins-macwro_1/.pyenv/versions/3.9.13/lib/python3.9/site-packages (from nomic) (4.2.0)\r\n",
      "Requirement already satisfied: numpy in /Users/kkepins-macwro_1/.local/lib/python3.9/site-packages (from nomic) (1.23.4)\r\n",
      "Requirement already satisfied: aiohttp<4.0,>=3.0 in /Users/kkepins-macwro_1/.pyenv/versions/3.9.13/lib/python3.9/site-packages (from cohere->nomic) (3.8.4)\r\n",
      "Requirement already satisfied: backoff<3.0,>=2.0 in /Users/kkepins-macwro_1/.pyenv/versions/3.9.13/lib/python3.9/site-packages (from cohere->nomic) (2.2.1)\r\n",
      "Requirement already satisfied: charset-normalizer<3,>=2 in /Users/kkepins-macwro_1/.pyenv/versions/3.9.13/lib/python3.9/site-packages (from requests->nomic) (2.1.1)\r\n",
      "Requirement already satisfied: urllib3<1.27,>=1.21.1 in /Users/kkepins-macwro_1/.pyenv/versions/3.9.13/lib/python3.9/site-packages (from requests->nomic) (1.26.13)\r\n",
      "Requirement already satisfied: certifi>=2017.4.17 in /Users/kkepins-macwro_1/.pyenv/versions/3.9.13/lib/python3.9/site-packages (from requests->nomic) (2022.9.24)\r\n",
      "Requirement already satisfied: idna<4,>=2.5 in /Users/kkepins-macwro_1/.pyenv/versions/3.9.13/lib/python3.9/site-packages (from requests->nomic) (3.4)\r\n",
      "Requirement already satisfied: attrs>=19.2.0 in /Users/kkepins-macwro_1/.pyenv/versions/3.9.13/lib/python3.9/site-packages (from jsonlines->nomic) (21.4.0)\r\n",
      "Requirement already satisfied: typing-extensions>=4.2.0 in /Users/kkepins-macwro_1/.pyenv/versions/3.9.13/lib/python3.9/site-packages (from pydantic->nomic) (4.4.0)\r\n",
      "Requirement already satisfied: pygments<3.0.0,>=2.13.0 in /Users/kkepins-macwro_1/.pyenv/versions/3.9.13/lib/python3.9/site-packages (from rich->nomic) (2.15.1)\r\n",
      "Requirement already satisfied: markdown-it-py<3.0.0,>=2.2.0 in /Users/kkepins-macwro_1/.pyenv/versions/3.9.13/lib/python3.9/site-packages (from rich->nomic) (2.2.0)\r\n",
      "Requirement already satisfied: multidict<7.0,>=4.5 in /Users/kkepins-macwro_1/.pyenv/versions/3.9.13/lib/python3.9/site-packages (from aiohttp<4.0,>=3.0->cohere->nomic) (6.0.4)\r\n",
      "Requirement already satisfied: async-timeout<5.0,>=4.0.0a3 in /Users/kkepins-macwro_1/.pyenv/versions/3.9.13/lib/python3.9/site-packages (from aiohttp<4.0,>=3.0->cohere->nomic) (4.0.2)\r\n",
      "Requirement already satisfied: yarl<2.0,>=1.0 in /Users/kkepins-macwro_1/.pyenv/versions/3.9.13/lib/python3.9/site-packages (from aiohttp<4.0,>=3.0->cohere->nomic) (1.8.2)\r\n",
      "Requirement already satisfied: aiosignal>=1.1.2 in /Users/kkepins-macwro_1/.pyenv/versions/3.9.13/lib/python3.9/site-packages (from aiohttp<4.0,>=3.0->cohere->nomic) (1.3.1)\r\n",
      "Requirement already satisfied: frozenlist>=1.1.1 in /Users/kkepins-macwro_1/.pyenv/versions/3.9.13/lib/python3.9/site-packages (from aiohttp<4.0,>=3.0->cohere->nomic) (1.3.3)\r\n",
      "Requirement already satisfied: mdurl~=0.1 in /Users/kkepins-macwro_1/.pyenv/versions/3.9.13/lib/python3.9/site-packages (from markdown-it-py<3.0.0,>=2.2.0->rich->nomic) (0.1.2)\r\n",
      "\r\n",
      "\u001B[1m[\u001B[0m\u001B[34;49mnotice\u001B[0m\u001B[1;39;49m]\u001B[0m\u001B[39;49m A new release of pip is available: \u001B[0m\u001B[31;49m23.0.1\u001B[0m\u001B[39;49m -> \u001B[0m\u001B[32;49m23.1\u001B[0m\r\n",
      "\u001B[1m[\u001B[0m\u001B[34;49mnotice\u001B[0m\u001B[1;39;49m]\u001B[0m\u001B[39;49m To update, run: \u001B[0m\u001B[32;49mpip install --upgrade pip\u001B[0m\r\n"
     ]
    }
   ],
   "source": [
    "# https://github.com/nomic-ai/gpt4all\n",
    "!pip install nomic\n"
   ]
  },
  {
   "cell_type": "code",
   "execution_count": 4,
   "metadata": {},
   "outputs": [
    {
     "ename": "ModuleNotFoundError",
     "evalue": "No module named 'nomic'",
     "output_type": "error",
     "traceback": [
      "\u001B[0;31m---------------------------------------------------------------------------\u001B[0m",
      "\u001B[0;31mModuleNotFoundError\u001B[0m                       Traceback (most recent call last)",
      "Cell \u001B[0;32mIn[4], line 1\u001B[0m\n\u001B[0;32m----> 1\u001B[0m \u001B[38;5;28;01mfrom\u001B[39;00m \u001B[38;5;21;01mnomic\u001B[39;00m \u001B[38;5;28;01mimport\u001B[39;00m GPT4All\n\u001B[1;32m      2\u001B[0m m \u001B[38;5;241m=\u001B[39m GPT4All()\n\u001B[1;32m      3\u001B[0m m\u001B[38;5;241m.\u001B[39mopen()\n",
      "\u001B[0;31mModuleNotFoundError\u001B[0m: No module named 'nomic'"
     ]
    }
   ],
   "source": [
    "# from nomic.gpt4all import GPT4All\n",
    "import nomic\n",
    "\n",
    "m = GPT4All()\n",
    "m.open()\n",
    "m.prompt('write me a story about a lonely computer')"
   ]
  },
  {
   "cell_type": "code",
   "execution_count": null,
   "metadata": {},
   "outputs": [],
   "source": []
  }
 ],
 "metadata": {
  "kernelspec": {
   "display_name": "ml3.10",
   "language": "python",
   "name": "ml3.10"
  },
  "language_info": {
   "codemirror_mode": {
    "name": "ipython",
    "version": 3
   },
   "file_extension": ".py",
   "mimetype": "text/x-python",
   "name": "python",
   "nbconvert_exporter": "python",
   "pygments_lexer": "ipython3",
   "version": "3.10.10"
  }
 },
 "nbformat": 4,
 "nbformat_minor": 1
}
