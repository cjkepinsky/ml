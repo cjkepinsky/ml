{
 "cells": [
  {
   "cell_type": "code",
   "execution_count": 1,
   "metadata": {},
   "outputs": [
    {
     "name": "stdout",
     "output_type": "stream",
     "text": [
      "Requirement already satisfied: gpt4all in /Users/krzysztof/.local/share/virtualenvs/ml-uTCkY2ki/lib/python3.10/site-packages (2.6.0)\n",
      "Requirement already satisfied: requests in /Users/krzysztof/.local/share/virtualenvs/ml-uTCkY2ki/lib/python3.10/site-packages (from gpt4all) (2.31.0)\n",
      "Requirement already satisfied: tqdm in /Users/krzysztof/.local/share/virtualenvs/ml-uTCkY2ki/lib/python3.10/site-packages (from gpt4all) (4.66.2)\n",
      "Requirement already satisfied: typing-extensions>=4.3.0 in /Users/krzysztof/.local/share/virtualenvs/ml-uTCkY2ki/lib/python3.10/site-packages (from gpt4all) (4.11.0)\n",
      "Requirement already satisfied: charset-normalizer<4,>=2 in /Users/krzysztof/.local/share/virtualenvs/ml-uTCkY2ki/lib/python3.10/site-packages (from requests->gpt4all) (3.3.2)\n",
      "Requirement already satisfied: idna<4,>=2.5 in /Users/krzysztof/.local/share/virtualenvs/ml-uTCkY2ki/lib/python3.10/site-packages (from requests->gpt4all) (3.7)\n",
      "Requirement already satisfied: urllib3<3,>=1.21.1 in /Users/krzysztof/.local/share/virtualenvs/ml-uTCkY2ki/lib/python3.10/site-packages (from requests->gpt4all) (2.2.1)\n",
      "Requirement already satisfied: certifi>=2017.4.17 in /Users/krzysztof/.local/share/virtualenvs/ml-uTCkY2ki/lib/python3.10/site-packages (from requests->gpt4all) (2024.2.2)\n"
     ]
    }
   ],
   "source": [
    "# https://docs.gpt4all.io/gpt4all_python.html#quickstart\n",
    "\n",
    "!pip install gpt4all"
   ]
  },
  {
   "cell_type": "code",
   "execution_count": 2,
   "metadata": {},
   "outputs": [
    {
     "name": "stdout",
     "output_type": "stream",
     "text": [
      "hello, write me example of cypress test for google page\n",
      "\n",
      "Here's an example of a Cypress test that interacts with the Google homepage. This test checks if the search bar is working correctly and whether clicking on the \"I'm Feeling Lucky\" button leads to a new tab opening with the first result for a random query.\n",
      "```javascript\n",
      "describe('Google Homepage Test', () => {\n",
      "  beforeEach(() => {\n",
      "    cy.visit('https://www.google.com/');\n",
      "  });\n",
      "\n",
      "  it('Verifies search bar functionality and \"I'm Feeling Lucky\" button click', () => {\n",
      "    // Enter a random query into the search box\n",
      "    const randomQuery = Cypress.random() % 100;\n",
      "    cy.get('#searchBox').type(randomQuery);\n",
      "\n",
      "    // Click on the \"I'm Feeling Lucky\" button\n",
      "    cy.contains('I\\'m Feeling Lucky').click();\n",
      "\n",
      "    // Check if a new tab is opened with the first result for the random query\n",
      "    cy.get('#main-content').should('not.be.empty');\n",
      "  });\n",
      "});\n",
      "```\n",
      "This test uses Cypress's built-in commands to interact with the Google homepage, such as `visit` and `type`. It also makes use of the `Cypress.random()` function to generate a random query for testing purposes. The test checks if a new tab is opened after clicking on \"I'm Feeling Lucky\" by checking that the main content area of the page is not empty.\n",
      "\n",
      "Please note that this example assumes you have Cypress installed and running in your project, and it uses some basic JavaScript syntax to interact with the DOM elements. If you are new to Cypress or JavaScript, I recommend reading through the [Cypress documentation](https://www.cypress.io/docs/) for more information on how to use these commands effectively.\n"
     ]
    }
   ],
   "source": [
    "from gpt4all import GPT4All\n",
    "\n",
    "model_name = 'wizardlm-13b-v1.2.Q4_0.gguf'\n",
    "#model_name = 'orca-mini-3b-gguf2-q4_0.gguf'\n",
    "\n",
    "model = GPT4All(model_name=model_name) # allow_download=False for offline mode\n",
    "\n",
    "prompt = 'hello, write me example of cypress test for google page'\n",
    "\n",
    "with model.chat_session():\n",
    "    response = model.generate(prompt=prompt, max_tokens=1024, temp=0.7, top_k=40, top_p=0.4, min_p=0.0, repeat_penalty=1.18)\n",
    "#    response2 = model.generate(prompt='write me a short poem', temp=0)\n",
    "#    response3 = model.generate(prompt='thank you', temp=0)\n",
    "#    print(model.current_chat_session)\n",
    "\n",
    "print(prompt)\n",
    "print()\n",
    "print(response)"
   ]
  },
  {
   "cell_type": "code",
   "execution_count": 3,
   "metadata": {},
   "outputs": [
    {
     "name": "stdout",
     "output_type": "stream",
     "text": [
      "why did you use async/await?\n",
      "\n",
      " speed insights api\n",
      "```javascript\n",
      "describe('Google PageSpeed Insights API Test', () => {\n",
      "  it('should return a performance score and optimization suggestions', async () => {\n",
      "    const url = 'https://www.example.com'; // replace with the URL you want to test\n",
      "\n",
      "    // Make a GET request to the Google PageSpeed Insights API\n",
      "    const response = await cypress.request({\n",
      "      method: 'GET',\n",
      "      url: `https://www.googleapis.com/pagespeedonline/v5/runPagespeed?url=${encodeURIComponent(url)}&snippet=1024`,\n",
      "      headers: {\n",
      "        'Authorization': `Bearer ${YOUR_API_KEY}`, // replace with your Google API key\n",
      "        'Content-Type': 'application/json'\n",
      "      }\n",
      "    });\n",
      "\n",
      "    // Check if the request was successful\n",
      "    expect(response.status).to.equal(200);\n",
      "\n",
      "    // Extract the performance score and optimization suggestions from the response body\n",
      "    const {score, suggestions} = JSON.parse(response.body);\n",
      "\n",
      "    // Print the results\n",
      "    console.log(`Performance Score: ${score}`);\n",
      "    console.log('Optimization Suggestions:');\n",
      "    suggestions.forEach((suggestion) => {\n",
      "      console.log(`- ${suggestion.title}: ${suggestion.description}`);\n",
      "    });\n",
      "  });\n",
      "});\n",
      "```\n",
      "This example demonstrates how to write a Cypress test that uses the Google PageSpeed Insights API to analyze a website's performance and provide optimization suggestions. Replace `https://www.example.com` with the URL you want to test, and replace `YOUR_API_KEY` with your actual Google API key.\n",
      "\n",
      "The test sends a GET request to the Google PageSpeed Insights API with the specified URL and snippet size (1024 in this example). It then checks if the response status is 200, indicating a successful request. The test extracts the performance score and optimization suggestions from the response body and prints them to the console.\n"
     ]
    }
   ],
   "source": [
    "\n",
    "prompt2 = 'why did you use async/await?'\n",
    "\n",
    "response2 = model.generate(prompt=prompt, max_tokens=1024, temp=0.7, top_k=40, top_p=0.4, min_p=0.0, repeat_penalty=1.18)\n",
    "\n",
    "print(prompt2)\n",
    "print()\n",
    "print(response2)"
   ]
  },
  {
   "cell_type": "code",
   "execution_count": null,
   "metadata": {},
   "outputs": [],
   "source": []
  }
 ],
 "metadata": {
  "kernelspec": {
   "display_name": "Python 3 (ipykernel)",
   "language": "python",
   "name": "python3"
  },
  "language_info": {
   "codemirror_mode": {
    "name": "ipython",
    "version": 3
   },
   "file_extension": ".py",
   "mimetype": "text/x-python",
   "name": "python",
   "nbconvert_exporter": "python",
   "pygments_lexer": "ipython3",
   "version": "3.10.14"
  }
 },
 "nbformat": 4,
 "nbformat_minor": 4
}
