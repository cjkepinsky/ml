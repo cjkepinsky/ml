{
 "cells": [
  {
   "cell_type": "code",
   "execution_count": 3,
   "metadata": {
    "collapsed": true
   },
   "outputs": [
    {
     "name": "stdout",
     "output_type": "stream",
     "text": [
      "Requirement already satisfied: langchain in /Users/kkepins-macwro_1/.pyenv/versions/3.9.13/lib/python3.9/site-packages (0.0.144)\r\n",
      "Requirement already satisfied: deeplake in /Users/kkepins-macwro_1/.pyenv/versions/3.9.13/lib/python3.9/site-packages (3.2.22)\r\n",
      "Requirement already satisfied: openai in /Users/kkepins-macwro_1/.pyenv/versions/3.9.13/lib/python3.9/site-packages (0.27.4)\r\n",
      "Requirement already satisfied: tiktoken in /Users/kkepins-macwro_1/.pyenv/versions/3.9.13/lib/python3.9/site-packages (0.3.3)\r\n",
      "Requirement already satisfied: PyYAML>=5.4.1 in /Users/kkepins-macwro_1/.pyenv/versions/3.9.13/lib/python3.9/site-packages (from langchain) (6.0)\r\n",
      "Requirement already satisfied: aiohttp<4.0.0,>=3.8.3 in /Users/kkepins-macwro_1/.pyenv/versions/3.9.13/lib/python3.9/site-packages (from langchain) (3.8.4)\r\n",
      "Requirement already satisfied: numexpr<3.0.0,>=2.8.4 in /Users/kkepins-macwro_1/.pyenv/versions/3.9.13/lib/python3.9/site-packages (from langchain) (2.8.4)\r\n",
      "Requirement already satisfied: tenacity<9.0.0,>=8.1.0 in /Users/kkepins-macwro_1/.pyenv/versions/3.9.13/lib/python3.9/site-packages (from langchain) (8.1.0)\r\n",
      "Requirement already satisfied: openapi-schema-pydantic<2.0,>=1.2 in /Users/kkepins-macwro_1/.pyenv/versions/3.9.13/lib/python3.9/site-packages (from langchain) (1.2.4)\r\n",
      "Requirement already satisfied: dataclasses-json<0.6.0,>=0.5.7 in /Users/kkepins-macwro_1/.pyenv/versions/3.9.13/lib/python3.9/site-packages (from langchain) (0.5.7)\r\n",
      "Requirement already satisfied: numpy<2,>=1 in /Users/kkepins-macwro_1/.local/lib/python3.9/site-packages (from langchain) (1.23.4)\r\n",
      "Requirement already satisfied: requests<3,>=2 in /Users/kkepins-macwro_1/.pyenv/versions/3.9.13/lib/python3.9/site-packages (from langchain) (2.28.1)\r\n",
      "Requirement already satisfied: SQLAlchemy<2,>=1 in /Users/kkepins-macwro_1/.pyenv/versions/3.9.13/lib/python3.9/site-packages (from langchain) (1.4.47)\r\n",
      "Requirement already satisfied: pydantic<2,>=1 in /Users/kkepins-macwro_1/.pyenv/versions/3.9.13/lib/python3.9/site-packages (from langchain) (1.10.7)\r\n",
      "Requirement already satisfied: async-timeout<5.0.0,>=4.0.0 in /Users/kkepins-macwro_1/.pyenv/versions/3.9.13/lib/python3.9/site-packages (from langchain) (4.0.2)\r\n",
      "Requirement already satisfied: nest-asyncio in /Users/kkepins-macwro_1/.pyenv/versions/3.9.13/lib/python3.9/site-packages (from deeplake) (1.5.5)\r\n",
      "Requirement already satisfied: pyjwt in /Users/kkepins-macwro_1/.pyenv/versions/3.9.13/lib/python3.9/site-packages (from deeplake) (2.6.0)\r\n",
      "Requirement already satisfied: pathos in /Users/kkepins-macwro_1/.pyenv/versions/3.9.13/lib/python3.9/site-packages (from deeplake) (0.3.0)\r\n",
      "Requirement already satisfied: numcodecs in /Users/kkepins-macwro_1/.pyenv/versions/3.9.13/lib/python3.9/site-packages (from deeplake) (0.11.0)\r\n",
      "Requirement already satisfied: humbug>=0.3.1 in /Users/kkepins-macwro_1/.pyenv/versions/3.9.13/lib/python3.9/site-packages (from deeplake) (0.3.1)\r\n",
      "Requirement already satisfied: click in /Users/kkepins-macwro_1/.pyenv/versions/3.9.13/lib/python3.9/site-packages (from deeplake) (8.1.3)\r\n",
      "Requirement already satisfied: pillow in /Users/kkepins-macwro_1/.pyenv/versions/3.9.13/lib/python3.9/site-packages (from deeplake) (9.3.0)\r\n",
      "Requirement already satisfied: tqdm in /Users/kkepins-macwro_1/.pyenv/versions/3.9.13/lib/python3.9/site-packages (from deeplake) (4.64.1)\r\n",
      "Requirement already satisfied: aioboto3==10.4.0 in /Users/kkepins-macwro_1/.pyenv/versions/3.9.13/lib/python3.9/site-packages (from deeplake) (10.4.0)\r\n",
      "Requirement already satisfied: boto3 in /Users/kkepins-macwro_1/.pyenv/versions/3.9.13/lib/python3.9/site-packages (from deeplake) (1.24.59)\r\n",
      "Requirement already satisfied: aiobotocore[boto3]==2.4.2 in /Users/kkepins-macwro_1/.pyenv/versions/3.9.13/lib/python3.9/site-packages (from aioboto3==10.4.0->deeplake) (2.4.2)\r\n",
      "Requirement already satisfied: wrapt>=1.10.10 in /Users/kkepins-macwro_1/.pyenv/versions/3.9.13/lib/python3.9/site-packages (from aiobotocore[boto3]==2.4.2->aioboto3==10.4.0->deeplake) (1.14.1)\r\n",
      "Requirement already satisfied: botocore<1.27.60,>=1.27.59 in /Users/kkepins-macwro_1/.pyenv/versions/3.9.13/lib/python3.9/site-packages (from aiobotocore[boto3]==2.4.2->aioboto3==10.4.0->deeplake) (1.27.59)\r\n",
      "Requirement already satisfied: aioitertools>=0.5.1 in /Users/kkepins-macwro_1/.pyenv/versions/3.9.13/lib/python3.9/site-packages (from aiobotocore[boto3]==2.4.2->aioboto3==10.4.0->deeplake) (0.11.0)\r\n",
      "Requirement already satisfied: regex>=2022.1.18 in /Users/kkepins-macwro_1/.pyenv/versions/3.9.13/lib/python3.9/site-packages (from tiktoken) (2022.10.31)\r\n",
      "Requirement already satisfied: yarl<2.0,>=1.0 in /Users/kkepins-macwro_1/.pyenv/versions/3.9.13/lib/python3.9/site-packages (from aiohttp<4.0.0,>=3.8.3->langchain) (1.8.2)\r\n",
      "Requirement already satisfied: attrs>=17.3.0 in /Users/kkepins-macwro_1/.pyenv/versions/3.9.13/lib/python3.9/site-packages (from aiohttp<4.0.0,>=3.8.3->langchain) (21.4.0)\r\n",
      "Requirement already satisfied: multidict<7.0,>=4.5 in /Users/kkepins-macwro_1/.pyenv/versions/3.9.13/lib/python3.9/site-packages (from aiohttp<4.0.0,>=3.8.3->langchain) (6.0.4)\r\n",
      "Requirement already satisfied: charset-normalizer<4.0,>=2.0 in /Users/kkepins-macwro_1/.pyenv/versions/3.9.13/lib/python3.9/site-packages (from aiohttp<4.0.0,>=3.8.3->langchain) (2.1.1)\r\n",
      "Requirement already satisfied: frozenlist>=1.1.1 in /Users/kkepins-macwro_1/.pyenv/versions/3.9.13/lib/python3.9/site-packages (from aiohttp<4.0.0,>=3.8.3->langchain) (1.3.3)\r\n",
      "Requirement already satisfied: aiosignal>=1.1.2 in /Users/kkepins-macwro_1/.pyenv/versions/3.9.13/lib/python3.9/site-packages (from aiohttp<4.0.0,>=3.8.3->langchain) (1.3.1)\r\n",
      "Requirement already satisfied: s3transfer<0.7.0,>=0.6.0 in /Users/kkepins-macwro_1/.pyenv/versions/3.9.13/lib/python3.9/site-packages (from boto3->deeplake) (0.6.0)\r\n",
      "Requirement already satisfied: jmespath<2.0.0,>=0.7.1 in /Users/kkepins-macwro_1/.pyenv/versions/3.9.13/lib/python3.9/site-packages (from boto3->deeplake) (1.0.1)\r\n",
      "Requirement already satisfied: typing-inspect>=0.4.0 in /Users/kkepins-macwro_1/.pyenv/versions/3.9.13/lib/python3.9/site-packages (from dataclasses-json<0.6.0,>=0.5.7->langchain) (0.8.0)\r\n",
      "Requirement already satisfied: marshmallow-enum<2.0.0,>=1.5.1 in /Users/kkepins-macwro_1/.pyenv/versions/3.9.13/lib/python3.9/site-packages (from dataclasses-json<0.6.0,>=0.5.7->langchain) (1.5.1)\r\n",
      "Requirement already satisfied: marshmallow<4.0.0,>=3.3.0 in /Users/kkepins-macwro_1/.pyenv/versions/3.9.13/lib/python3.9/site-packages (from dataclasses-json<0.6.0,>=0.5.7->langchain) (3.19.0)\r\n",
      "Requirement already satisfied: typing-extensions>=4.2.0 in /Users/kkepins-macwro_1/.pyenv/versions/3.9.13/lib/python3.9/site-packages (from pydantic<2,>=1->langchain) (4.4.0)\r\n",
      "Requirement already satisfied: urllib3<1.27,>=1.21.1 in /Users/kkepins-macwro_1/.pyenv/versions/3.9.13/lib/python3.9/site-packages (from requests<3,>=2->langchain) (1.26.13)\r\n",
      "Requirement already satisfied: idna<4,>=2.5 in /Users/kkepins-macwro_1/.pyenv/versions/3.9.13/lib/python3.9/site-packages (from requests<3,>=2->langchain) (3.4)\r\n",
      "Requirement already satisfied: certifi>=2017.4.17 in /Users/kkepins-macwro_1/.pyenv/versions/3.9.13/lib/python3.9/site-packages (from requests<3,>=2->langchain) (2022.9.24)\r\n",
      "Requirement already satisfied: entrypoints in /Users/kkepins-macwro_1/.pyenv/versions/3.9.13/lib/python3.9/site-packages (from numcodecs->deeplake) (0.4)\r\n",
      "Requirement already satisfied: multiprocess>=0.70.14 in /Users/kkepins-macwro_1/.pyenv/versions/3.9.13/lib/python3.9/site-packages (from pathos->deeplake) (0.70.14)\r\n",
      "Requirement already satisfied: pox>=0.3.2 in /Users/kkepins-macwro_1/.pyenv/versions/3.9.13/lib/python3.9/site-packages (from pathos->deeplake) (0.3.2)\r\n",
      "Requirement already satisfied: ppft>=1.7.6.6 in /Users/kkepins-macwro_1/.pyenv/versions/3.9.13/lib/python3.9/site-packages (from pathos->deeplake) (1.7.6.6)\r\n",
      "Requirement already satisfied: dill>=0.3.6 in /Users/kkepins-macwro_1/.pyenv/versions/3.9.13/lib/python3.9/site-packages (from pathos->deeplake) (0.3.6)\r\n",
      "Requirement already satisfied: python-dateutil<3.0.0,>=2.1 in /Users/kkepins-macwro_1/.pyenv/versions/3.9.13/lib/python3.9/site-packages (from botocore<1.27.60,>=1.27.59->aiobotocore[boto3]==2.4.2->aioboto3==10.4.0->deeplake) (2.8.2)\r\n",
      "Requirement already satisfied: packaging>=17.0 in /Users/kkepins-macwro_1/.pyenv/versions/3.9.13/lib/python3.9/site-packages (from marshmallow<4.0.0,>=3.3.0->dataclasses-json<0.6.0,>=0.5.7->langchain) (21.3)\r\n",
      "Requirement already satisfied: mypy-extensions>=0.3.0 in /Users/kkepins-macwro_1/.pyenv/versions/3.9.13/lib/python3.9/site-packages (from typing-inspect>=0.4.0->dataclasses-json<0.6.0,>=0.5.7->langchain) (1.0.0)\r\n",
      "Requirement already satisfied: pyparsing!=3.0.5,>=2.0.2 in /Users/kkepins-macwro_1/.pyenv/versions/3.9.13/lib/python3.9/site-packages (from packaging>=17.0->marshmallow<4.0.0,>=3.3.0->dataclasses-json<0.6.0,>=0.5.7->langchain) (3.0.9)\r\n",
      "Requirement already satisfied: six>=1.5 in /Users/kkepins-macwro_1/.pyenv/versions/3.9.13/lib/python3.9/site-packages (from python-dateutil<3.0.0,>=2.1->botocore<1.27.60,>=1.27.59->aiobotocore[boto3]==2.4.2->aioboto3==10.4.0->deeplake) (1.16.0)\r\n",
      "\r\n",
      "\u001b[1m[\u001b[0m\u001b[34;49mnotice\u001b[0m\u001b[1;39;49m]\u001b[0m\u001b[39;49m A new release of pip is available: \u001b[0m\u001b[31;49m23.0.1\u001b[0m\u001b[39;49m -> \u001b[0m\u001b[32;49m23.1\u001b[0m\r\n",
      "\u001b[1m[\u001b[0m\u001b[34;49mnotice\u001b[0m\u001b[1;39;49m]\u001b[0m\u001b[39;49m To update, run: \u001b[0m\u001b[32;49mpip install --upgrade pip\u001b[0m\r\n",
      "Requirement already satisfied: openai in /Users/kkepins-macwro_1/.pyenv/versions/3.9.13/lib/python3.9/site-packages (0.27.4)\r\n",
      "Requirement already satisfied: tqdm in /Users/kkepins-macwro_1/.pyenv/versions/3.9.13/lib/python3.9/site-packages (from openai) (4.64.1)\r\n",
      "Requirement already satisfied: aiohttp in /Users/kkepins-macwro_1/.pyenv/versions/3.9.13/lib/python3.9/site-packages (from openai) (3.8.4)\r\n",
      "Requirement already satisfied: requests>=2.20 in /Users/kkepins-macwro_1/.pyenv/versions/3.9.13/lib/python3.9/site-packages (from openai) (2.28.1)\r\n",
      "Requirement already satisfied: idna<4,>=2.5 in /Users/kkepins-macwro_1/.pyenv/versions/3.9.13/lib/python3.9/site-packages (from requests>=2.20->openai) (3.4)\r\n",
      "Requirement already satisfied: charset-normalizer<3,>=2 in /Users/kkepins-macwro_1/.pyenv/versions/3.9.13/lib/python3.9/site-packages (from requests>=2.20->openai) (2.1.1)\r\n",
      "Requirement already satisfied: urllib3<1.27,>=1.21.1 in /Users/kkepins-macwro_1/.pyenv/versions/3.9.13/lib/python3.9/site-packages (from requests>=2.20->openai) (1.26.13)\r\n",
      "Requirement already satisfied: certifi>=2017.4.17 in /Users/kkepins-macwro_1/.pyenv/versions/3.9.13/lib/python3.9/site-packages (from requests>=2.20->openai) (2022.9.24)\r\n",
      "Requirement already satisfied: async-timeout<5.0,>=4.0.0a3 in /Users/kkepins-macwro_1/.pyenv/versions/3.9.13/lib/python3.9/site-packages (from aiohttp->openai) (4.0.2)\r\n",
      "Requirement already satisfied: multidict<7.0,>=4.5 in /Users/kkepins-macwro_1/.pyenv/versions/3.9.13/lib/python3.9/site-packages (from aiohttp->openai) (6.0.4)\r\n",
      "Requirement already satisfied: yarl<2.0,>=1.0 in /Users/kkepins-macwro_1/.pyenv/versions/3.9.13/lib/python3.9/site-packages (from aiohttp->openai) (1.8.2)\r\n",
      "Requirement already satisfied: attrs>=17.3.0 in /Users/kkepins-macwro_1/.pyenv/versions/3.9.13/lib/python3.9/site-packages (from aiohttp->openai) (21.4.0)\r\n",
      "Requirement already satisfied: frozenlist>=1.1.1 in /Users/kkepins-macwro_1/.pyenv/versions/3.9.13/lib/python3.9/site-packages (from aiohttp->openai) (1.3.3)\r\n",
      "Requirement already satisfied: aiosignal>=1.1.2 in /Users/kkepins-macwro_1/.pyenv/versions/3.9.13/lib/python3.9/site-packages (from aiohttp->openai) (1.3.1)\r\n",
      "\r\n",
      "\u001b[1m[\u001b[0m\u001b[34;49mnotice\u001b[0m\u001b[1;39;49m]\u001b[0m\u001b[39;49m A new release of pip is available: \u001b[0m\u001b[31;49m23.0.1\u001b[0m\u001b[39;49m -> \u001b[0m\u001b[32;49m23.1\u001b[0m\r\n",
      "\u001b[1m[\u001b[0m\u001b[34;49mnotice\u001b[0m\u001b[1;39;49m]\u001b[0m\u001b[39;49m To update, run: \u001b[0m\u001b[32;49mpip install --upgrade pip\u001b[0m\r\n"
     ]
    }
   ],
   "source": [
    "!pip install --upgrade langchain deeplake openai tiktoken\n",
    "!pip install openai"
   ]
  },
  {
   "cell_type": "code",
   "execution_count": 1,
   "metadata": {
    "collapsed": false
   },
   "outputs": [],
   "source": [
    "import os\n",
    "import getpass\n",
    "\n",
    "from langchain.embeddings.openai import OpenAIEmbeddings\n",
    "from langchain.vectorstores import DeepLake\n",
    "\n",
    "os.environ['OPENAI_API_KEY'] = getpass.getpass('OpenAI API Key:')\n",
    "os.environ['ACTIVELOOP_TOKEN'] = getpass.getpass('Activeloop Token:')\n",
    "embeddings = OpenAIEmbeddings()\n",
    "\n",
    "import os\n",
    "from langchain.document_loaders import TextLoader\n",
    "\n",
    "root_dir = './the-algorithm'\n",
    "docs = []\n",
    "for dirpath, dirnames, filenames in os.walk(root_dir):\n",
    "    for file in filenames:\n",
    "        try:\n",
    "            loader = TextLoader(os.path.join(dirpath, file), encoding='utf-8')\n",
    "            docs.extend(loader.load_and_split())\n",
    "        except Exception as e:\n",
    "            pass\n",
    "\n",
    "from langchain.text_splitter import CharacterTextSplitter\n",
    "\n",
    "text_splitter = CharacterTextSplitter(chunk_size=1000, chunk_overlap=0)\n",
    "texts = text_splitter.split_documents(docs)\n",
    "\n",
    "db = DeepLake.from_documents(texts, embeddings, dataset_path=\"hub://davitbun/twitter-algorithm\")\n"
   ]
  },
  {
   "cell_type": "code",
   "execution_count": null,
   "metadata": {
    "collapsed": false
   },
   "outputs": [],
   "source": [
    "\n",
    "db = DeepLake(dataset_path=\"hub://davitbun/twitter-algorithm\", read_only=True, embedding_function=embeddings)\n"
   ]
  }
 ],
 "metadata": {
  "kernelspec": {
   "display_name": "ml-UcTW3lEd",
   "language": "python",
   "name": "python3"
  },
  "language_info": {
   "codemirror_mode": {
    "name": "ipython",
    "version": 3
   },
   "file_extension": ".py",
   "mimetype": "text/x-python",
   "name": "python",
   "nbconvert_exporter": "python",
   "pygments_lexer": "ipython3",
   "version": "3.10.11"
  }
 },
 "nbformat": 4,
 "nbformat_minor": 0
}
