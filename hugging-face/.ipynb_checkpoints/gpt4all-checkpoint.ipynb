{
 "cells": [
  {
   "cell_type": "code",
   "execution_count": 1,
   "metadata": {
    "collapsed": true
   },
   "outputs": [
    {
     "name": "stdout",
     "output_type": "stream",
     "text": [
      "Collecting nomic\r\n",
      "  Downloading nomic-1.1.6.tar.gz (29 kB)\r\n",
      "  Preparing metadata (setup.py) ... \u001b[?25ldone\r\n",
      "\u001b[?25hRequirement already satisfied: click in /Users/kkepins-macwro_1/.pyenv/versions/3.9.13/lib/python3.9/site-packages (from nomic) (8.1.3)\r\n",
      "Collecting jsonlines\r\n",
      "  Downloading jsonlines-3.1.0-py3-none-any.whl (8.6 kB)\r\n",
      "Collecting loguru\r\n",
      "  Downloading loguru-0.7.0-py3-none-any.whl (59 kB)\r\n",
      "\u001b[2K     \u001b[90m━━━━━━━━━━━━━━━━━━━━━━━━━━━━━━━━━━━━━━━━\u001b[0m \u001b[32m60.0/60.0 kB\u001b[0m \u001b[31m4.2 MB/s\u001b[0m eta \u001b[36m0:00:00\u001b[0m\r\n",
      "\u001b[?25hCollecting rich\r\n",
      "  Downloading rich-13.3.4-py3-none-any.whl (238 kB)\r\n",
      "\u001b[2K     \u001b[90m━━━━━━━━━━━━━━━━━━━━━━━━━━━━━━━━━━━━━━━\u001b[0m \u001b[32m238.7/238.7 kB\u001b[0m \u001b[31m8.1 MB/s\u001b[0m eta \u001b[36m0:00:00\u001b[0m\r\n",
      "\u001b[?25hRequirement already satisfied: requests in /Users/kkepins-macwro_1/.pyenv/versions/3.9.13/lib/python3.9/site-packages (from nomic) (2.28.1)\r\n",
      "Requirement already satisfied: numpy in /Users/kkepins-macwro_1/.local/lib/python3.9/site-packages (from nomic) (1.23.4)\r\n",
      "Requirement already satisfied: pydantic in /Users/kkepins-macwro_1/.pyenv/versions/3.9.13/lib/python3.9/site-packages (from nomic) (1.10.7)\r\n",
      "Collecting wonderwords\r\n",
      "  Downloading wonderwords-2.2.0-py3-none-any.whl (44 kB)\r\n",
      "\u001b[2K     \u001b[90m━━━━━━━━━━━━━━━━━━━━━━━━━━━━━━━━━━━━━━━━\u001b[0m \u001b[32m45.0/45.0 kB\u001b[0m \u001b[31m5.9 MB/s\u001b[0m eta \u001b[36m0:00:00\u001b[0m\r\n",
      "\u001b[?25hRequirement already satisfied: tqdm in /Users/kkepins-macwro_1/.pyenv/versions/3.9.13/lib/python3.9/site-packages (from nomic) (4.64.1)\r\n",
      "Collecting cohere\r\n",
      "  Downloading cohere-4.2.0-py3-none-any.whl (31 kB)\r\n",
      "Collecting pyarrow\r\n",
      "  Downloading pyarrow-11.0.0-cp39-cp39-macosx_11_0_arm64.whl (22.4 MB)\r\n",
      "\u001b[2K     \u001b[90m━━━━━━━━━━━━━━━━━━━━━━━━━━━━━━━━━━━━━━━━\u001b[0m \u001b[32m22.4/22.4 MB\u001b[0m \u001b[31m78.8 MB/s\u001b[0m eta \u001b[36m0:00:00\u001b[0m00:01\u001b[0m00:01\u001b[0m\r\n",
      "\u001b[?25hCollecting backoff<3.0,>=2.0\r\n",
      "  Downloading backoff-2.2.1-py3-none-any.whl (15 kB)\r\n",
      "Requirement already satisfied: aiohttp<4.0,>=3.0 in /Users/kkepins-macwro_1/.pyenv/versions/3.9.13/lib/python3.9/site-packages (from cohere->nomic) (3.8.4)\r\n",
      "Requirement already satisfied: urllib3<1.27,>=1.21.1 in /Users/kkepins-macwro_1/.pyenv/versions/3.9.13/lib/python3.9/site-packages (from requests->nomic) (1.26.13)\r\n",
      "Requirement already satisfied: certifi>=2017.4.17 in /Users/kkepins-macwro_1/.pyenv/versions/3.9.13/lib/python3.9/site-packages (from requests->nomic) (2022.9.24)\r\n",
      "Requirement already satisfied: charset-normalizer<3,>=2 in /Users/kkepins-macwro_1/.pyenv/versions/3.9.13/lib/python3.9/site-packages (from requests->nomic) (2.1.1)\r\n",
      "Requirement already satisfied: idna<4,>=2.5 in /Users/kkepins-macwro_1/.pyenv/versions/3.9.13/lib/python3.9/site-packages (from requests->nomic) (3.4)\r\n",
      "Requirement already satisfied: attrs>=19.2.0 in /Users/kkepins-macwro_1/.pyenv/versions/3.9.13/lib/python3.9/site-packages (from jsonlines->nomic) (21.4.0)\r\n",
      "Requirement already satisfied: typing-extensions>=4.2.0 in /Users/kkepins-macwro_1/.pyenv/versions/3.9.13/lib/python3.9/site-packages (from pydantic->nomic) (4.4.0)\r\n",
      "Collecting pygments<3.0.0,>=2.13.0\r\n",
      "  Downloading Pygments-2.15.1-py3-none-any.whl (1.1 MB)\r\n",
      "\u001b[2K     \u001b[90m━━━━━━━━━━━━━━━━━━━━━━━━━━━━━━━━━━━━━━━━\u001b[0m \u001b[32m1.1/1.1 MB\u001b[0m \u001b[31m95.6 MB/s\u001b[0m eta \u001b[36m0:00:00\u001b[0m\r\n",
      "\u001b[?25hCollecting markdown-it-py<3.0.0,>=2.2.0\r\n",
      "  Downloading markdown_it_py-2.2.0-py3-none-any.whl (84 kB)\r\n",
      "\u001b[2K     \u001b[90m━━━━━━━━━━━━━━━━━━━━━━━━━━━━━━━━━━━━━━━━\u001b[0m \u001b[32m84.5/84.5 kB\u001b[0m \u001b[31m10.6 MB/s\u001b[0m eta \u001b[36m0:00:00\u001b[0m\r\n",
      "\u001b[?25hRequirement already satisfied: multidict<7.0,>=4.5 in /Users/kkepins-macwro_1/.pyenv/versions/3.9.13/lib/python3.9/site-packages (from aiohttp<4.0,>=3.0->cohere->nomic) (6.0.4)\r\n",
      "Requirement already satisfied: async-timeout<5.0,>=4.0.0a3 in /Users/kkepins-macwro_1/.pyenv/versions/3.9.13/lib/python3.9/site-packages (from aiohttp<4.0,>=3.0->cohere->nomic) (4.0.2)\r\n",
      "Requirement already satisfied: yarl<2.0,>=1.0 in /Users/kkepins-macwro_1/.pyenv/versions/3.9.13/lib/python3.9/site-packages (from aiohttp<4.0,>=3.0->cohere->nomic) (1.8.2)\r\n",
      "Requirement already satisfied: frozenlist>=1.1.1 in /Users/kkepins-macwro_1/.pyenv/versions/3.9.13/lib/python3.9/site-packages (from aiohttp<4.0,>=3.0->cohere->nomic) (1.3.3)\r\n",
      "Requirement already satisfied: aiosignal>=1.1.2 in /Users/kkepins-macwro_1/.pyenv/versions/3.9.13/lib/python3.9/site-packages (from aiohttp<4.0,>=3.0->cohere->nomic) (1.3.1)\r\n",
      "Collecting mdurl~=0.1\r\n",
      "  Downloading mdurl-0.1.2-py3-none-any.whl (10.0 kB)\r\n",
      "Building wheels for collected packages: nomic\r\n",
      "  Building wheel for nomic (setup.py) ... \u001b[?25ldone\r\n",
      "\u001b[?25h  Created wheel for nomic: filename=nomic-1.1.6-py3-none-any.whl size=31965 sha256=3d7daf17f1785e48f29a88e40153ecdb06a45c90a71b35e43ed6239340f222c6\r\n",
      "  Stored in directory: /Users/kkepins-macwro_1/Library/Caches/pip/wheels/7e/03/dc/3f0189b7a91ff78e15b4d0e594f2bf42f4a308ae2c1b3b712b\r\n",
      "Successfully built nomic\r\n",
      "Installing collected packages: wonderwords, pygments, pyarrow, mdurl, loguru, jsonlines, backoff, markdown-it-py, rich, cohere, nomic\r\n",
      "  Attempting uninstall: pygments\r\n",
      "    Found existing installation: Pygments 2.12.0\r\n",
      "    Uninstalling Pygments-2.12.0:\r\n",
      "      Successfully uninstalled Pygments-2.12.0\r\n",
      "Successfully installed backoff-2.2.1 cohere-4.2.0 jsonlines-3.1.0 loguru-0.7.0 markdown-it-py-2.2.0 mdurl-0.1.2 nomic-1.1.6 pyarrow-11.0.0 pygments-2.15.1 rich-13.3.4 wonderwords-2.2.0\r\n",
      "\r\n",
      "\u001b[1m[\u001b[0m\u001b[34;49mnotice\u001b[0m\u001b[1;39;49m]\u001b[0m\u001b[39;49m A new release of pip is available: \u001b[0m\u001b[31;49m23.0.1\u001b[0m\u001b[39;49m -> \u001b[0m\u001b[32;49m23.1\u001b[0m\r\n",
      "\u001b[1m[\u001b[0m\u001b[34;49mnotice\u001b[0m\u001b[1;39;49m]\u001b[0m\u001b[39;49m To update, run: \u001b[0m\u001b[32;49mpip install --upgrade pip\u001b[0m\r\n"
     ]
    }
   ],
   "source": [
    "# https://github.com/nomic-ai/gpt4all\n",
    "!pip install nomic\n"
   ]
  },
  {
   "cell_type": "code",
   "execution_count": 1,
   "metadata": {},
   "outputs": [
    {
     "ename": "ModuleNotFoundError",
     "evalue": "No module named 'nomic'",
     "output_type": "error",
     "traceback": [
      "\u001b[0;31m---------------------------------------------------------------------------\u001b[0m",
      "\u001b[0;31mModuleNotFoundError\u001b[0m                       Traceback (most recent call last)",
      "Cell \u001b[0;32mIn[1], line 1\u001b[0m\n\u001b[0;32m----> 1\u001b[0m \u001b[38;5;28;01mfrom\u001b[39;00m \u001b[38;5;21;01mnomic\u001b[39;00m\u001b[38;5;21;01m.\u001b[39;00m\u001b[38;5;21;01mgpt4all\u001b[39;00m \u001b[38;5;28;01mimport\u001b[39;00m GPT4All\n\u001b[1;32m      2\u001b[0m m \u001b[38;5;241m=\u001b[39m GPT4All()\n\u001b[1;32m      3\u001b[0m m\u001b[38;5;241m.\u001b[39mopen()\n",
      "\u001b[0;31mModuleNotFoundError\u001b[0m: No module named 'nomic'"
     ]
    }
   ],
   "source": [
    "from nomic.gpt4all import GPT4All\n",
    "m = GPT4All()\n",
    "m.open()\n",
    "m.prompt('write me a story about a lonely computer')"
   ]
  }
 ],
 "metadata": {
  "kernelspec": {
   "display_name": "ml3.10",
   "language": "python",
   "name": "ml3.10"
  },
  "language_info": {
   "codemirror_mode": {
    "name": "ipython",
    "version": 3
   },
   "file_extension": ".py",
   "mimetype": "text/x-python",
   "name": "python",
   "nbconvert_exporter": "python",
   "pygments_lexer": "ipython3",
   "version": "3.10.10"
  }
 },
 "nbformat": 4,
 "nbformat_minor": 1
}
