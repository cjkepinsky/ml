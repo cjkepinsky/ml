{
 "cells": [
  {
   "cell_type": "code",
   "execution_count": null,
   "metadata": {
    "collapsed": true
   },
   "outputs": [],
   "source": [
    "from pyllamacpp.model import Model\n",
    "\n",
    "def new_text_callback(text: str):\n",
    "    print(text, end=\"\", flush=True)\n",
    "\n",
    "model = Model(ggml_model='./models/gpt4all-model.bin', n_ctx=512)\n",
    "model.generate(\"Once upon a time, \", n_predict=55, new_text_callback=new_text_callback, n_threads=8)"
   ]
  }
 ],
 "metadata": {
  "kernelspec": {
   "name": "ml3.10",
   "language": "python",
   "display_name": "ml3.10"
  },
  "language_info": {
   "codemirror_mode": {
    "name": "ipython",
    "version": 2
   },
   "file_extension": ".py",
   "mimetype": "text/x-python",
   "name": "python",
   "nbconvert_exporter": "python",
   "pygments_lexer": "ipython2",
   "version": "2.7.6"
  }
 },
 "nbformat": 4,
 "nbformat_minor": 0
}
