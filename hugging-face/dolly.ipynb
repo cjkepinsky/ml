{
 "cells": [
  {
   "cell_type": "code",
   "execution_count": 3,
   "metadata": {
    "collapsed": true
   },
   "outputs": [
    {
     "name": "stdout",
     "output_type": "stream",
     "text": [
      "\r\n",
      "\u001B[1m[\u001B[0m\u001B[34;49mnotice\u001B[0m\u001B[1;39;49m]\u001B[0m\u001B[39;49m A new release of pip is available: \u001B[0m\u001B[31;49m23.0.1\u001B[0m\u001B[39;49m -> \u001B[0m\u001B[32;49m23.1\u001B[0m\r\n",
      "\u001B[1m[\u001B[0m\u001B[34;49mnotice\u001B[0m\u001B[1;39;49m]\u001B[0m\u001B[39;49m To update, run: \u001B[0m\u001B[32;49mpip install --upgrade pip\u001B[0m\r\n",
      "Requirement already satisfied: accelerate in /Users/kkepins-macwro_1/.pyenv/versions/3.9.13/lib/python3.9/site-packages (0.18.0)\r\n",
      "Requirement already satisfied: packaging>=20.0 in /Users/kkepins-macwro_1/.pyenv/versions/3.9.13/lib/python3.9/site-packages (from accelerate) (21.3)\r\n",
      "Requirement already satisfied: pyyaml in /Users/kkepins-macwro_1/.pyenv/versions/3.9.13/lib/python3.9/site-packages (from accelerate) (6.0)\r\n",
      "Requirement already satisfied: numpy>=1.17 in /Users/kkepins-macwro_1/.local/lib/python3.9/site-packages (from accelerate) (1.23.4)\r\n",
      "Requirement already satisfied: psutil in /Users/kkepins-macwro_1/.pyenv/versions/3.9.13/lib/python3.9/site-packages (from accelerate) (5.9.1)\r\n",
      "Requirement already satisfied: torch>=1.4.0 in /Users/kkepins-macwro_1/.pyenv/versions/3.9.13/lib/python3.9/site-packages (from accelerate) (2.0.0)\r\n",
      "Requirement already satisfied: pyparsing!=3.0.5,>=2.0.2 in /Users/kkepins-macwro_1/.pyenv/versions/3.9.13/lib/python3.9/site-packages (from packaging>=20.0->accelerate) (3.0.9)\r\n",
      "Requirement already satisfied: typing-extensions in /Users/kkepins-macwro_1/.pyenv/versions/3.9.13/lib/python3.9/site-packages (from torch>=1.4.0->accelerate) (4.4.0)\r\n",
      "Requirement already satisfied: sympy in /Users/kkepins-macwro_1/.pyenv/versions/3.9.13/lib/python3.9/site-packages (from torch>=1.4.0->accelerate) (1.11.1)\r\n",
      "Requirement already satisfied: networkx in /Users/kkepins-macwro_1/.pyenv/versions/3.9.13/lib/python3.9/site-packages (from torch>=1.4.0->accelerate) (2.8.8)\r\n",
      "Requirement already satisfied: jinja2 in /Users/kkepins-macwro_1/.pyenv/versions/3.9.13/lib/python3.9/site-packages (from torch>=1.4.0->accelerate) (3.1.2)\r\n",
      "Requirement already satisfied: filelock in /Users/kkepins-macwro_1/.pyenv/versions/3.9.13/lib/python3.9/site-packages (from torch>=1.4.0->accelerate) (3.7.1)\r\n",
      "Requirement already satisfied: MarkupSafe>=2.0 in /Users/kkepins-macwro_1/.pyenv/versions/3.9.13/lib/python3.9/site-packages (from jinja2->torch>=1.4.0->accelerate) (2.1.1)\r\n",
      "Requirement already satisfied: mpmath>=0.19 in /Users/kkepins-macwro_1/.pyenv/versions/3.9.13/lib/python3.9/site-packages (from sympy->torch>=1.4.0->accelerate) (1.3.0)\r\n",
      "\r\n",
      "\u001B[1m[\u001B[0m\u001B[34;49mnotice\u001B[0m\u001B[1;39;49m]\u001B[0m\u001B[39;49m A new release of pip is available: \u001B[0m\u001B[31;49m23.0.1\u001B[0m\u001B[39;49m -> \u001B[0m\u001B[32;49m23.1\u001B[0m\r\n",
      "\u001B[1m[\u001B[0m\u001B[34;49mnotice\u001B[0m\u001B[1;39;49m]\u001B[0m\u001B[39;49m To update, run: \u001B[0m\u001B[32;49mpip install --upgrade pip\u001B[0m\r\n"
     ]
    }
   ],
   "source": [
    "!pip install accelerate>=0.12.0 transformers[torch]==4.25.1\n",
    "!pip install accelerate\n"
   ]
  },
  {
   "cell_type": "code",
   "execution_count": 2,
   "outputs": [
    {
     "data": {
      "text/plain": "Downloading (…)\"pytorch_model.bin\";:   0%|          | 0.00/13.8G [00:00<?, ?B/s]",
      "application/vnd.jupyter.widget-view+json": {
       "version_major": 2,
       "version_minor": 0,
       "model_id": "4c17c8cd22a84a04ba5d0f0412661b76"
      }
     },
     "metadata": {},
     "output_type": "display_data"
    },
    {
     "data": {
      "text/plain": "Downloading (…)okenizer_config.json:   0%|          | 0.00/450 [00:00<?, ?B/s]",
      "application/vnd.jupyter.widget-view+json": {
       "version_major": 2,
       "version_minor": 0,
       "model_id": "db820d8a244c4a9997e648f4771e17a8"
      }
     },
     "metadata": {},
     "output_type": "display_data"
    },
    {
     "data": {
      "text/plain": "Downloading (…)/main/tokenizer.json:   0%|          | 0.00/2.11M [00:00<?, ?B/s]",
      "application/vnd.jupyter.widget-view+json": {
       "version_major": 2,
       "version_minor": 0,
       "model_id": "8d3ad6bf10e34131b744d7e167d7150d"
      }
     },
     "metadata": {},
     "output_type": "display_data"
    },
    {
     "data": {
      "text/plain": "Downloading (…)cial_tokens_map.json:   0%|          | 0.00/228 [00:00<?, ?B/s]",
      "application/vnd.jupyter.widget-view+json": {
       "version_major": 2,
       "version_minor": 0,
       "model_id": "b1de209289ec43248edbc5d2a720b250"
      }
     },
     "metadata": {},
     "output_type": "display_data"
    }
   ],
   "source": [
    "import torch\n",
    "from transformers import pipeline\n",
    "\n",
    "generate_text = pipeline(model=\"databricks/dolly-v2-7b\", torch_dtype=torch.bfloat16, trust_remote_code=True)\n",
    "\n"
   ],
   "metadata": {
    "collapsed": false
   }
  },
  {
   "cell_type": "code",
   "execution_count": null,
   "outputs": [],
   "source": [
    "res = generate_text(\"Explain to me the difference between nuclear fission and fusion.\")\n",
    "print(res[0][\"generated_text\"])"
   ],
   "metadata": {
    "collapsed": false,
    "pycharm": {
     "is_executing": true
    }
   }
  }
 ],
 "metadata": {
  "kernelspec": {
   "name": "ml3.10",
   "language": "python",
   "display_name": "ml3.10"
  },
  "language_info": {
   "codemirror_mode": {
    "name": "ipython",
    "version": 2
   },
   "file_extension": ".py",
   "mimetype": "text/x-python",
   "name": "python",
   "nbconvert_exporter": "python",
   "pygments_lexer": "ipython2",
   "version": "2.7.6"
  }
 },
 "nbformat": 4,
 "nbformat_minor": 0
}
