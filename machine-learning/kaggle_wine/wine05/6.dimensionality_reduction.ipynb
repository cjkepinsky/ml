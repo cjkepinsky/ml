{
 "cells": [
  {
   "cell_type": "code",
   "execution_count": 3,
   "outputs": [
    {
     "name": "stdout",
     "output_type": "stream",
     "text": [
      "(1599, 12)\n"
     ]
    }
   ],
   "source": [
    "# Let's run the preprocessing on both train and test data\n",
    "from libs.simple_processing import normalize, separate_target, dropna_rows, remove_columns\n",
    "import pandas as pd # data processing, CSV file I/O (e.g. pd.read_csv)\n",
    "from constants import source_path, target_name, x_path, y_path\n",
    "\n",
    "X = pd.read_csv(x_path)\n",
    "y = pd.read_csv(y_path)\n",
    "\n",
    "print(X.shape)"
   ],
   "metadata": {
    "collapsed": false,
    "pycharm": {
     "name": "#%%\n"
    }
   }
  },
  {
   "cell_type": "code",
   "execution_count": 2,
   "outputs": [
    {
     "name": "stdout",
     "output_type": "stream",
     "text": [
      "X shape:  (1599, 11)\n",
      "> Reducer: none\n",
      "> Model: GradientBoostingClassifier\n",
      "- F1 score:  0.6971766576002016\n",
      "- cv:  2\n",
      "\n",
      "> Reducer: PCA(n_components='mle')\n",
      "- X reduced shape:  (1599, 10)\n",
      "> Model: GradientBoostingClassifier\n"
     ]
    },
    {
     "name": "stderr",
     "output_type": "stream",
     "text": [
      "/Users/kkepins-macwro_1/opt/anaconda3/lib/python3.9/site-packages/sklearn/metrics/_ranking.py:949: UndefinedMetricWarning: No positive samples in y_true, true positive value should be meaningless\n",
      "  warnings.warn(\"No positive samples in y_true, \"\n"
     ]
    },
    {
     "name": "stdout",
     "output_type": "stream",
     "text": [
      "- F1 score:  0.7174454442827287\n",
      "- cv:  2\n",
      "\n",
      "> Reducer: UMAP(learning_rate=0.005, n_components=10, n_epochs=500)\n"
     ]
    },
    {
     "name": "stderr",
     "output_type": "stream",
     "text": [
      "/Users/kkepins-macwro_1/opt/anaconda3/lib/python3.9/site-packages/sklearn/metrics/_ranking.py:949: UndefinedMetricWarning: No positive samples in y_true, true positive value should be meaningless\n",
      "  warnings.warn(\"No positive samples in y_true, \"\n",
      "OMP: Info #271: omp_set_nested routine deprecated, please use omp_set_max_active_levels instead.\n"
     ]
    },
    {
     "name": "stdout",
     "output_type": "stream",
     "text": [
      "- X reduced shape:  (1599, 10)\n",
      "> Model: GradientBoostingClassifier\n",
      "- F1 score:  0.6169716603801975\n",
      "- cv:  2\n",
      "\n",
      "Done.\n"
     ]
    },
    {
     "name": "stderr",
     "output_type": "stream",
     "text": [
      "/Users/kkepins-macwro_1/opt/anaconda3/lib/python3.9/site-packages/sklearn/metrics/_ranking.py:949: UndefinedMetricWarning: No positive samples in y_true, true positive value should be meaningless\n",
      "  warnings.warn(\"No positive samples in y_true, \"\n"
     ]
    },
    {
     "data": {
      "text/plain": "<Figure size 432x288 with 1 Axes>",
      "image/png": "[encoded data removed]"
     },
     "metadata": {
      "needs_background": "light"
     },
     "output_type": "display_data"
    }
   ],
   "source": [
    "from sklearn.model_selection import GridSearchCV\n",
    "from libs.simple_processing import categorize_train_valid_test, train_test_split, categorize\n",
    "from sklearn.ensemble import GradientBoostingClassifier\n",
    "from libs.simple_hyper_tuner import predict_print_valid_scores\n",
    "from libs.simple_hyper_tuner import gridsearchcv_tuner\n",
    "import umap\n",
    "from sklearn import decomposition\n",
    "from sklearn import svm\n",
    "from sklearn.linear_model import LogisticRegression, LinearRegression\n",
    "from xgboost import XGBClassifier\n",
    "from sklearn.naive_bayes import GaussianNB\n",
    "from sklearn.ensemble import AdaBoostClassifier\n",
    "import numpy as np\n",
    "\n",
    "splitter_params  = {'train_size': [0.8], 'random_state': [50]}\n",
    "target_dimensions = 8\n",
    "n_neighbors = 10\n",
    "cv = [2]\n",
    "\n",
    "params = [\n",
    "    {   # F1 score:  0.6971766576002016\n",
    "        'splitter': splitter_params, 'cv': cv,\n",
    "        'model': GradientBoostingClassifier(\n",
    "            n_estimators=400, random_state=0, learning_rate=0.025, max_depth=5, max_features=\"auto\"),\n",
    "        'hyperparams': {},\n",
    "        'reducer': {}\n",
    "    },\n",
    "    {   # F1 score:  0.7174454442827287\n",
    "        'splitter': splitter_params, 'cv': cv,\n",
    "        'model': GradientBoostingClassifier(\n",
    "            n_estimators=1400, learning_rate=0.005, random_state=0, max_depth=5, max_features=\"auto\"),\n",
    "        'hyperparams': {},\n",
    "        'reducer': decomposition.PCA(n_components='mle')\n",
    "    },\n",
    "    {   # F1 score:  0.6169716603801975\n",
    "        'splitter': splitter_params, 'cv': cv,\n",
    "        'model': GradientBoostingClassifier(\n",
    "            n_estimators=400, random_state=0, learning_rate=0.025, max_depth=5, max_features=\"auto\"),\n",
    "        'hyperparams': {},\n",
    "        'reducer': umap.UMAP(n_components=10, n_epochs=500, learning_rate=0.005)\n",
    "    },\n",
    "    # {   # F1 score:  0.7174454442827287\n",
    "    #     'splitter': splitter_params, 'cv': [2],\n",
    "    #     'model': GradientBoostingClassifier(\n",
    "    #         n_estimators=1400, random_state=0, learning_rate=0.005, max_depth=5, max_features=\"auto\"),\n",
    "    #     'hyperparams': {},\n",
    "    #     'reducer': decomposition.PCA(n_components='mle')\n",
    "    # },\n",
    "    # {   # F1 score:  0.7174454442827287\n",
    "    #     'splitter': splitter_params, 'cv': [5],\n",
    "    #     'model': XGBClassifier(n_estimators=100),\n",
    "    #     'hyperparams': {},\n",
    "    #     'reducer': decomposition.PCA(n_components='mle')\n",
    "    # },\n",
    "    # {   # F1 score:  0.6705686795994994\n",
    "    #     'splitter': splitter_params, 'cv': [2],\n",
    "    #     'model': XGBClassifier(n_estimators=100),\n",
    "    #     'hyperparams': {},\n",
    "    #     'reducer': umap.UMAP(n_components=10, n_epochs=50, learning_rate=0.001)\n",
    "    # },\n",
    "    # {\n",
    "    #     'splitter': splitter_params, 'cv': [2],\n",
    "    #     'model': GradientBoostingClassifier(\n",
    "    #         n_estimators=400, random_state=0, learning_rate=0.025, max_depth=5, max_features=\"auto\"),\n",
    "    #     'hyperparams': {},\n",
    "    #     'reducer': umap.UMAP(n_components=10)\n",
    "    # },\n",
    "    # {\n",
    "    #     'splitter': splitter_params, 'cv': [2],\n",
    "    #     'model': GradientBoostingClassifier(\n",
    "    #         n_estimators=400, random_state=0, learning_rate=0.025, max_depth=5, max_features=\"auto\"),\n",
    "    #     'hyperparams': {},\n",
    "    #     'reducer': umap.UMAP(n_components=10, n_epochs=500, learning_rate=0.025)\n",
    "    # },\n",
    "    # {   # F1 score:  0.6493902043719906\n",
    "    #     'splitter': splitter_params, 'cv': [2],\n",
    "    #     'model': GradientBoostingClassifier(\n",
    "    #         n_estimators=400, random_state=0, learning_rate=0.025, max_depth=5, max_features=\"auto\"),\n",
    "    #     'hyperparams': {},\n",
    "    #     'reducer': umap.UMAP(n_components=10, n_epochs=1000, learning_rate=0.001)\n",
    "    # },\n",
    "    # {\n",
    "    #     'splitter': splitter_params, 'cv': [2],\n",
    "    #     'model': GradientBoostingClassifier(\n",
    "    #         n_estimators=400, random_state=0, learning_rate=0.025, max_depth=5, max_features=\"auto\"\n",
    "    #     ),\n",
    "    #     'hyperparams': {},\n",
    "    #     'reducer': umap.UMAP(n_neighbors=n_neighbors, n_components=target_dimensions),\n",
    "    # },\n",
    "    # {\n",
    "    #     'splitter': splitter_params, 'cv': [2],\n",
    "    #     'model': svm.SVC(\n",
    "    #         # kernel=\"poly\"\n",
    "    #         # , decision_function_shape=\"ovr\"\n",
    "    #         # , C=1\n",
    "    #         # , probability=True\n",
    "    #     ),\n",
    "    #     'hyperparams': {},\n",
    "    #     'reducer': umap.UMAP(n_neighbors=n_neighbors, n_components=target_dimensions),\n",
    "    # },\n",
    "    # {\n",
    "    #     'splitter': splitter_params, 'cv': [2],\n",
    "    #     'model': svm.LinearSVC(max_iter=1000),\n",
    "    #     'hyperparams': {},\n",
    "    #     'reducer': umap.UMAP(n_neighbors=n_neighbors, n_components=target_dimensions),\n",
    "    # },\n",
    "    #\n",
    "    # {   # F1 score:  0.5226810499043859\n",
    "    #     'splitter': splitter_params, 'cv': [2],\n",
    "    #     'model': AdaBoostClassifier(n_estimators=1500, random_state=50),\n",
    "    #     'hyperparams': {},\n",
    "    #     'reducer': decomposition.PCA(n_components='mle')\n",
    "    # },\n",
    "    # {   # F1 score:  0.5167932412790698\n",
    "    #     'splitter': splitter_params, 'cv': [4],\n",
    "    #     'model': AdaBoostClassifier(),\n",
    "    #     'hyperparams': {},\n",
    "    #     'reducer': umap.UMAP(n_neighbors=n_neighbors, n_components=target_dimensions)\n",
    "    # },\n",
    "    # {\n",
    "    #     'splitter': splitter_params, 'cv': [4],\n",
    "    #     'model': LogisticRegression(max_iter=1000),\n",
    "    #     'hyperparams': {},\n",
    "    #     'reducer': decomposition.PCA(n_components=target_dimensions)\n",
    "    # },\n",
    "    # {\n",
    "    #     'splitter': splitter_params, 'cv': [4],\n",
    "    #     'model': LogisticRegression(max_iter=1000),\n",
    "    #     'hyperparams': {},\n",
    "    #     'reducer': umap.UMAP(n_neighbors=n_neighbors, n_components=target_dimensions)\n",
    "    # },\n",
    "    # {\n",
    "    #     'splitter': splitter_params, 'cv': [2],\n",
    "    #     'model': GaussianNB(),\n",
    "    #     'hyperparams': {},\n",
    "    #     'reducer': decomposition.PCA(n_components=7)\n",
    "    # },\n",
    "    # {\n",
    "    #     'splitter': splitter_params, 'cv': [2],\n",
    "    #     'model': GaussianNB(),\n",
    "    #     'hyperparams': {},\n",
    "    #     'reducer': umap.UMAP(n_neighbors=10, n_components=7)\n",
    "    # },\n",
    "    # {\n",
    "    #     'splitter': splitter_params, 'cv': [2],\n",
    "    #     'model': GradientBoostingClassifier(\n",
    "    #         n_estimators=400, random_state=0, learning_rate=0.025, max_depth=5, max_features=\"auto\"\n",
    "    #     ),\n",
    "    #     'hyperparams': {},\n",
    "    #     'reducer': decomposition.PCA(n_components=6)\n",
    "    # },\n",
    "    # {\n",
    "    #     'splitter': splitter_params, 'cv': [2],\n",
    "    #     'model': GradientBoostingClassifier(\n",
    "    #         n_estimators=400, random_state=0, learning_rate=0.025, max_depth=5, max_features=\"auto\"\n",
    "    #     ),\n",
    "    #     'hyperparams': {},\n",
    "    #     'reducer': decomposition.PCA(n_components=target_dimensions)\n",
    "    # },\n",
    "    # {\n",
    "    #     'splitter': splitter_params, 'cv': [2],\n",
    "    #     'model': XGBClassifier(),\n",
    "    #     'hyperparams': {},\n",
    "    #     'reducer': decomposition.PCA(n_components=target_dimensions)\n",
    "    # },\n",
    "    # {\n",
    "    #     'splitter': splitter_params, 'cv': [2],\n",
    "    #     'model': svm.SVC(\n",
    "    #         # kernel=\"poly\"\n",
    "    #         # , decision_function_shape=\"ovr\"\n",
    "    #         # , C=1\n",
    "    #         # , probability=True\n",
    "    #     ),\n",
    "    #     'hyperparams': {},\n",
    "    #     'reducer': decomposition.PCA(n_components=target_dimensions)\n",
    "    # },\n",
    "    # {\n",
    "    #     'splitter': splitter_params, 'cv': [2],\n",
    "    #     'model': svm.LinearSVC(max_iter=1000),\n",
    "    #     'hyperparams': {},\n",
    "    #     'reducer': decomposition.PCA(n_components=target_dimensions)\n",
    "    # }\n",
    "]\n",
    "\n",
    "winner = gridsearchcv_tuner(X, y, params, 0, False)\n"
   ],
   "metadata": {
    "collapsed": false,
    "pycharm": {
     "name": "#%%\n"
    }
   }
  }
 ],
 "metadata": {
  "kernelspec": {
   "display_name": "Python 3",
   "language": "python",
   "name": "python3"
  },
  "language_info": {
   "codemirror_mode": {
    "name": "ipython",
    "version": 2
   },
   "file_extension": ".py",
   "mimetype": "text/x-python",
   "name": "python",
   "nbconvert_exporter": "python",
   "pygments_lexer": "ipython2",
   "version": "2.7.6"
  }
 },
 "nbformat": 4,
 "nbformat_minor": 0
}