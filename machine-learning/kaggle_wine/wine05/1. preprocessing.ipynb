{
 "cells": [
  {
   "cell_type": "code",
   "execution_count": 2,
   "metadata": {},
   "outputs": [
    {
     "name": "stdout",
     "output_type": "stream",
     "text": [
      "Done\n"
     ]
    }
   ],
   "source": [
    "# Let's run the preprocessing on both train and test data\n",
    "from libs.simple_processing import normalize, separate_target, dropna_rows, remove_columns\n",
    "import pandas as pd # data processing, CSV file I/O (e.g. pd.read_csv)\n",
    "from constants import source_path, target_name, x_path, y_path\n",
    "\n",
    "DATA = pd.read_csv(source_path)\n",
    "\n",
    "print(\"Done\")"
   ]
  },
  {
   "cell_type": "code",
   "execution_count": 3,
   "metadata": {
    "pycharm": {
     "name": "#%%\n"
    }
   },
   "outputs": [
    {
     "name": "stdout",
     "output_type": "stream",
     "text": [
      "(1599, 11)\n"
     ]
    }
   ],
   "source": [
    "# DATA = remove_columns(DATA, ['citric acid'])\n",
    "# DATA = remove_columns(DATA, ['density'])\n",
    "# DATA = remove_columns(DATA, ['pH'])\n",
    "\n",
    "\n",
    "X, y = separate_target(DATA, target_name)\n",
    "X = dropna_rows(X, X.columns)\n",
    "\n",
    "# Data Normalization\n",
    "X = normalize(X)\n",
    "\n",
    "# Data Categorization\n",
    "# from libs.simple_processing import categorize\n",
    "# X_train, X_valid = categorize(X_train, X_valid)\n",
    "# print(\"Done\")\n",
    "\n",
    "print(X.shape)"
   ]
  },
  {
   "cell_type": "code",
   "execution_count": null,
   "metadata": {
    "pycharm": {
     "name": "#%%\n"
    }
   },
   "outputs": [],
   "source": [
    "X.head()"
   ]
  },
  {
   "cell_type": "code",
   "execution_count": null,
   "metadata": {
    "pycharm": {
     "name": "#%%\n"
    }
   },
   "outputs": [],
   "source": [
    "y.shape"
   ]
  },
  {
   "cell_type": "code",
   "execution_count": 13,
   "metadata": {
    "pycharm": {
     "name": "#%%\n"
    }
   },
   "outputs": [
    {
     "name": "stdout",
     "output_type": "stream",
     "text": [
      "Done\n"
     ]
    }
   ],
   "source": [
    "X.to_csv(x_path)\n",
    "y.to_csv(y_path)\n",
    "\n",
    "print(\"Done\")"
   ]
  }
 ],
 "metadata": {
  "kernelspec": {
   "display_name": "Python 3 (ipykernel)",
   "language": "python",
   "name": "python3"
  },
  "language_info": {
   "codemirror_mode": {
    "name": "ipython",
    "version": 3
   },
   "file_extension": ".py",
   "mimetype": "text/x-python",
   "name": "python",
   "nbconvert_exporter": "python",
   "pygments_lexer": "ipython3",
   "version": "3.9.7"
  }
 },
 "nbformat": 4,
 "nbformat_minor": 1
}