{
 "cells": [
  {
   "cell_type": "code",
   "execution_count": 1,
   "metadata": {
    "collapsed": true
   },
   "outputs": [
    {
     "ename": "ImportError",
     "evalue": "cannot import name 'test_x_path' from 'constants' (/Users/kkepins-macwro_1/git/machine_learning/wine/wine05/constants.py)",
     "output_type": "error",
     "traceback": [
      "\u001B[0;31m---------------------------------------------------------------------------\u001B[0m",
      "\u001B[0;31mImportError\u001B[0m                               Traceback (most recent call last)",
      "\u001B[0;32m/var/folders/r3/hdngxsmd2vq391vqv6kg6f7w0000gq/T/ipykernel_60892/3363150233.py\u001B[0m in \u001B[0;36m<module>\u001B[0;34m\u001B[0m\n\u001B[1;32m      2\u001B[0m \u001B[0;32mfrom\u001B[0m \u001B[0msklearn\u001B[0m\u001B[0;34m.\u001B[0m\u001B[0mensemble\u001B[0m \u001B[0;32mimport\u001B[0m \u001B[0mGradientBoostingClassifier\u001B[0m\u001B[0;34m\u001B[0m\u001B[0;34m\u001B[0m\u001B[0m\n\u001B[1;32m      3\u001B[0m \u001B[0;32mfrom\u001B[0m \u001B[0mlibs\u001B[0m\u001B[0;34m.\u001B[0m\u001B[0msimple_hyper_tuner\u001B[0m \u001B[0;32mimport\u001B[0m \u001B[0mpredict_print_valid_scores\u001B[0m\u001B[0;34m\u001B[0m\u001B[0;34m\u001B[0m\u001B[0m\n\u001B[0;32m----> 4\u001B[0;31m \u001B[0;32mfrom\u001B[0m \u001B[0mconstants\u001B[0m \u001B[0;32mimport\u001B[0m \u001B[0msource_path\u001B[0m\u001B[0;34m,\u001B[0m \u001B[0mtarget_name\u001B[0m\u001B[0;34m,\u001B[0m \u001B[0mx_path\u001B[0m\u001B[0;34m,\u001B[0m \u001B[0my_path\u001B[0m\u001B[0;34m,\u001B[0m \u001B[0mtest_x_path\u001B[0m\u001B[0;34m,\u001B[0m \u001B[0mpredictions_path\u001B[0m\u001B[0;34m,\u001B[0m \u001B[0mmodel_path\u001B[0m\u001B[0;34m\u001B[0m\u001B[0;34m\u001B[0m\u001B[0m\n\u001B[0m\u001B[1;32m      5\u001B[0m \u001B[0;32mimport\u001B[0m \u001B[0mjoblib\u001B[0m\u001B[0;34m\u001B[0m\u001B[0;34m\u001B[0m\u001B[0m\n\u001B[1;32m      6\u001B[0m \u001B[0;32mfrom\u001B[0m \u001B[0msklearn\u001B[0m\u001B[0;34m.\u001B[0m\u001B[0mmodel_selection\u001B[0m \u001B[0;32mimport\u001B[0m \u001B[0mGridSearchCV\u001B[0m\u001B[0;34m\u001B[0m\u001B[0;34m\u001B[0m\u001B[0m\n",
      "\u001B[0;31mImportError\u001B[0m: cannot import name 'test_x_path' from 'constants' (/Users/kkepins-macwro_1/git/machine_learning/wine/wine05/constants.py)"
     ]
    }
   ],
   "source": [
    "import pandas as pd  # data processing, CSV file I/O (e.g. pd.read_csv)\n",
    "from sklearn.ensemble import GradientBoostingClassifier\n",
    "from libs.simple_hyper_tuner import predict_print_valid_scores\n",
    "from constants import source_path, target_name, x_path, y_path, test_x_path, predictions_path, model_path\n",
    "import joblib\n",
    "from sklearn.model_selection import GridSearchCV\n",
    "from libs.simple_processing import categorize_train_valid_test, train_test_split\n",
    "import numpy\n",
    "\n",
    "X = pd.read_csv(x_path)\n",
    "y = pd.read_csv(y_path)[target_name]\n",
    "test_X = pd.read_csv(test_x_path)\n",
    "\n",
    "X.info()"
   ]
  },
  {
   "cell_type": "code",
   "execution_count": null,
   "outputs": [],
   "source": [
    "test_X.info()"
   ],
   "metadata": {
    "collapsed": false,
    "pycharm": {
     "name": "#%%\n"
    }
   }
  },
  {
   "cell_type": "code",
   "execution_count": null,
   "outputs": [],
   "source": [
    "cv = 2\n",
    "random_state = 50\n",
    "train_size = 0.8\n",
    "\n",
    "X_train, X_valid, y_train, y_valid = train_test_split(X, y, train_size=train_size, random_state=random_state)\n",
    "X_train, X_valid, X_test = categorize_train_valid_test(X_train, X_valid, test_X)\n",
    "\n",
    "params = {\n",
    "    'model': GradientBoostingClassifier(\n",
    "        n_estimators=400, random_state=0, learning_rate=0.025, max_depth=5, max_features=\"auto\"\n",
    "    )\n",
    "}\n",
    "\n",
    "grid_model = GridSearchCV(params['model'], {}, cv=cv, n_jobs=3, verbose=0)\n",
    "grid_model.fit(X_train, y_train)\n",
    "f1 = predict_print_valid_scores(grid_model, X_valid, y_valid, 0)"
   ],
   "metadata": {
    "collapsed": false,
    "pycharm": {
     "name": "#%%\n"
    }
   }
  },
  {
   "cell_type": "code",
   "execution_count": null,
   "outputs": [],
   "source": [
    "# Saving the model\n",
    "joblib.dump(grid_model, model_path, compress=3)\n",
    "\n",
    "print(\"Model saved.\")"
   ],
   "metadata": {
    "collapsed": false,
    "pycharm": {
     "name": "#%%\n"
    }
   }
  },
  {
   "cell_type": "code",
   "execution_count": null,
   "outputs": [],
   "source": [
    "# Saving predictions\n",
    "predictions = grid_model.predict(X_test)\n",
    "results = pd.DataFrame({\"PassengerId\": X_test[\"PassengerId\"],\"Survived\": predictions})\n",
    "results.to_csv(predictions_path, index=False)\n",
    "# numpy.savetxt(predictions_path, predictions, delimiter=\",\")\n",
    "\n",
    "print(\"Results saved.\")\n"
   ],
   "metadata": {
    "collapsed": false,
    "pycharm": {
     "name": "#%%\n"
    }
   }
  }
 ],
 "metadata": {
  "kernelspec": {
   "display_name": "Python 3",
   "language": "python",
   "name": "python3"
  },
  "language_info": {
   "codemirror_mode": {
    "name": "ipython",
    "version": 2
   },
   "file_extension": ".py",
   "mimetype": "text/x-python",
   "name": "python",
   "nbconvert_exporter": "python",
   "pygments_lexer": "ipython2",
   "version": "2.7.6"
  }
 },
 "nbformat": 4,
 "nbformat_minor": 0
}