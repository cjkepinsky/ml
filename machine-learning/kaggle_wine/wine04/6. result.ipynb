{
 "cells": [
  {
   "cell_type": "code",
   "execution_count": 3,
   "metadata": {
    "collapsed": true
   },
   "outputs": [
    {
     "data": {
      "text/plain": "   Unnamed: 0  fixed acidity  volatile acidity  citric acid  residual sugar  \\\n0           0       0.247788          0.397260         0.00        0.068493   \n1           1       0.283186          0.520548         0.00        0.116438   \n2           2       0.283186          0.438356         0.04        0.095890   \n3           3       0.584071          0.109589         0.56        0.068493   \n4           4       0.247788          0.397260         0.00        0.068493   \n\n   chlorides  free sulfur dioxide  total sulfur dioxide   density        pH  \\\n0   0.106845             0.140845              0.098940  0.567548  0.606299   \n1   0.143573             0.338028              0.215548  0.494126  0.362205   \n2   0.133556             0.197183              0.169611  0.508811  0.409449   \n3   0.105175             0.225352              0.190813  0.582232  0.330709   \n4   0.106845             0.140845              0.098940  0.567548  0.606299   \n\n   sulphates   alcohol  \n0   0.137725  0.153846  \n1   0.209581  0.215385  \n2   0.191617  0.215385  \n3   0.149701  0.215385  \n4   0.137725  0.153846  ",
      "text/html": "<div>\n<style scoped>\n    .dataframe tbody tr th:only-of-type {\n        vertical-align: middle;\n    }\n\n    .dataframe tbody tr th {\n        vertical-align: top;\n    }\n\n    .dataframe thead th {\n        text-align: right;\n    }\n</style>\n<table border=\"1\" class=\"dataframe\">\n  <thead>\n    <tr style=\"text-align: right;\">\n      <th></th>\n      <th>Unnamed: 0</th>\n      <th>fixed acidity</th>\n      <th>volatile acidity</th>\n      <th>citric acid</th>\n      <th>residual sugar</th>\n      <th>chlorides</th>\n      <th>free sulfur dioxide</th>\n      <th>total sulfur dioxide</th>\n      <th>density</th>\n      <th>pH</th>\n      <th>sulphates</th>\n      <th>alcohol</th>\n    </tr>\n  </thead>\n  <tbody>\n    <tr>\n      <th>0</th>\n      <td>0</td>\n      <td>0.247788</td>\n      <td>0.397260</td>\n      <td>0.00</td>\n      <td>0.068493</td>\n      <td>0.106845</td>\n      <td>0.140845</td>\n      <td>0.098940</td>\n      <td>0.567548</td>\n      <td>0.606299</td>\n      <td>0.137725</td>\n      <td>0.153846</td>\n    </tr>\n    <tr>\n      <th>1</th>\n      <td>1</td>\n      <td>0.283186</td>\n      <td>0.520548</td>\n      <td>0.00</td>\n      <td>0.116438</td>\n      <td>0.143573</td>\n      <td>0.338028</td>\n      <td>0.215548</td>\n      <td>0.494126</td>\n      <td>0.362205</td>\n      <td>0.209581</td>\n      <td>0.215385</td>\n    </tr>\n    <tr>\n      <th>2</th>\n      <td>2</td>\n      <td>0.283186</td>\n      <td>0.438356</td>\n      <td>0.04</td>\n      <td>0.095890</td>\n      <td>0.133556</td>\n      <td>0.197183</td>\n      <td>0.169611</td>\n      <td>0.508811</td>\n      <td>0.409449</td>\n      <td>0.191617</td>\n      <td>0.215385</td>\n    </tr>\n    <tr>\n      <th>3</th>\n      <td>3</td>\n      <td>0.584071</td>\n      <td>0.109589</td>\n      <td>0.56</td>\n      <td>0.068493</td>\n      <td>0.105175</td>\n      <td>0.225352</td>\n      <td>0.190813</td>\n      <td>0.582232</td>\n      <td>0.330709</td>\n      <td>0.149701</td>\n      <td>0.215385</td>\n    </tr>\n    <tr>\n      <th>4</th>\n      <td>4</td>\n      <td>0.247788</td>\n      <td>0.397260</td>\n      <td>0.00</td>\n      <td>0.068493</td>\n      <td>0.106845</td>\n      <td>0.140845</td>\n      <td>0.098940</td>\n      <td>0.567548</td>\n      <td>0.606299</td>\n      <td>0.137725</td>\n      <td>0.153846</td>\n    </tr>\n  </tbody>\n</table>\n</div>"
     },
     "execution_count": 3,
     "metadata": {},
     "output_type": "execute_result"
    }
   ],
   "source": [
    "from constants import target_name, x_path, y_path\n",
    "import pandas as pd # data processing, CSV file I/O (e.g. pd.read_csv)\n",
    "from libs.simple_hyper_tuner import gridsearchcv_tuner\n",
    "from libs.simpleplotter import feature_importance\n",
    "from xgboost import XGBClassifier\n",
    "\n",
    "cv = [2]\n",
    "random_state = [50]\n",
    "train_size = [0.8]\n",
    "\n",
    "X = pd.read_csv(x_path)\n",
    "y = pd.read_csv(y_path)[target_name]\n",
    "\n",
    "X.head()"
   ]
  },
  {
   "cell_type": "code",
   "execution_count": 4,
   "outputs": [
    {
     "name": "stdout",
     "output_type": "stream",
     "text": [
      "> Model: XGBClassifier\n"
     ]
    },
    {
     "name": "stderr",
     "output_type": "stream",
     "text": [
      "/Users/kkepins-macwro/opt/anaconda3/lib/python3.9/site-packages/xgboost/sklearn.py:1224: UserWarning: The use of label encoder in XGBClassifier is deprecated and will be removed in a future release. To remove this warning, do the following: 1) Pass option use_label_encoder=False when constructing XGBClassifier object; and 2) Encode your labels (y) as integers starting with 0, i.e. 0, 1, 2, ..., [num_class - 1].\n",
      "  warnings.warn(label_encoder_deprecation_msg, UserWarning)\n",
      "/Users/kkepins-macwro/opt/anaconda3/lib/python3.9/site-packages/xgboost/sklearn.py:1224: UserWarning: The use of label encoder in XGBClassifier is deprecated and will be removed in a future release. To remove this warning, do the following: 1) Pass option use_label_encoder=False when constructing XGBClassifier object; and 2) Encode your labels (y) as integers starting with 0, i.e. 0, 1, 2, ..., [num_class - 1].\n",
      "  warnings.warn(label_encoder_deprecation_msg, UserWarning)\n",
      "/Users/kkepins-macwro/opt/anaconda3/lib/python3.9/site-packages/xgboost/sklearn.py:1224: UserWarning: The use of label encoder in XGBClassifier is deprecated and will be removed in a future release. To remove this warning, do the following: 1) Pass option use_label_encoder=False when constructing XGBClassifier object; and 2) Encode your labels (y) as integers starting with 0, i.e. 0, 1, 2, ..., [num_class - 1].\n",
      "  warnings.warn(label_encoder_deprecation_msg, UserWarning)\n",
      "/Users/kkepins-macwro/opt/anaconda3/lib/python3.9/site-packages/xgboost/sklearn.py:1224: UserWarning: The use of label encoder in XGBClassifier is deprecated and will be removed in a future release. To remove this warning, do the following: 1) Pass option use_label_encoder=False when constructing XGBClassifier object; and 2) Encode your labels (y) as integers starting with 0, i.e. 0, 1, 2, ..., [num_class - 1].\n",
      "  warnings.warn(label_encoder_deprecation_msg, UserWarning)\n",
      "/Users/kkepins-macwro/opt/anaconda3/lib/python3.9/site-packages/xgboost/sklearn.py:1224: UserWarning: The use of label encoder in XGBClassifier is deprecated and will be removed in a future release. To remove this warning, do the following: 1) Pass option use_label_encoder=False when constructing XGBClassifier object; and 2) Encode your labels (y) as integers starting with 0, i.e. 0, 1, 2, ..., [num_class - 1].\n",
      "  warnings.warn(label_encoder_deprecation_msg, UserWarning)\n",
      "/Users/kkepins-macwro/opt/anaconda3/lib/python3.9/site-packages/xgboost/sklearn.py:1224: UserWarning: The use of label encoder in XGBClassifier is deprecated and will be removed in a future release. To remove this warning, do the following: 1) Pass option use_label_encoder=False when constructing XGBClassifier object; and 2) Encode your labels (y) as integers starting with 0, i.e. 0, 1, 2, ..., [num_class - 1].\n",
      "  warnings.warn(label_encoder_deprecation_msg, UserWarning)\n"
     ]
    },
    {
     "name": "stdout",
     "output_type": "stream",
     "text": [
      "[00:04:54] WARNING: ../src/learner.cc:1115: Starting in XGBoost 1.3.0, the default evaluation metric used with the objective 'multi:softprob' was changed from 'merror' to 'mlogloss'. Explicitly set eval_metric if you'd like to restore the old behavior.\n",
      "- Accuracy score:  0.74375\n",
      "- Accuracy count:  238 / 320\n",
      "- Precision score:  0.7192593640020111\n",
      "- Recall score:  0.74375\n",
      "- F1 score:  0.7311720411753895\n",
      "GridSearchCV Training Results:\n",
      "- Best Score:  0.6591145833333333\n",
      "Params:\n",
      "- cv:  5\n",
      "- Splitter Params:  {'train_size': 0.8, 'random_state': 50}\n",
      "- Model Params:  XGBClassifier(base_score=None, booster=None, colsample_bylevel=None,\n",
      "              colsample_bynode=None, colsample_bytree=None,\n",
      "              enable_categorical=False, gamma=None, gpu_id=None,\n",
      "              importance_type=None, interaction_constraints=None,\n",
      "              learning_rate=None, max_delta_step=None, max_depth=None,\n",
      "              min_child_weight=None, missing=nan, monotone_constraints=None,\n",
      "              n_estimators=100, n_jobs=None, num_parallel_tree=None,\n",
      "              predictor=None, random_state=None, reg_alpha=None,\n",
      "              reg_lambda=None, scale_pos_weight=None, subsample=None,\n",
      "              tree_method=None, validate_parameters=None, verbosity=None)\n",
      "- Best H-Params:  {}\n",
      "\n",
      "Done.\n"
     ]
    },
    {
     "name": "stderr",
     "output_type": "stream",
     "text": [
      "/Users/kkepins-macwro/opt/anaconda3/lib/python3.9/site-packages/sklearn/metrics/_classification.py:1318: UndefinedMetricWarning: Precision is ill-defined and being set to 0.0 in labels with no predicted samples. Use `zero_division` parameter to control this behavior.\n",
      "  _warn_prf(average, modifier, msg_start, len(result))\n",
      "/Users/kkepins-macwro/opt/anaconda3/lib/python3.9/site-packages/sklearn/metrics/_ranking.py:999: UndefinedMetricWarning: No positive samples in y_true, true positive value should be meaningless\n",
      "  warnings.warn(\n"
     ]
    },
    {
     "data": {
      "text/plain": "<Figure size 432x288 with 1 Axes>",
      "image/png": "[encoded data removed]"
     },
     "metadata": {
      "needs_background": "light"
     },
     "output_type": "display_data"
    }
   ],
   "source": [
    "\n",
    "params = [\n",
    "    {\n",
    "        'splitter': {'train_size': train_size, 'random_state': random_state},\n",
    "        'cv': [5],\n",
    "        'model': XGBClassifier(n_estimators=100),\n",
    "        'hyperparams': {}\n",
    "    }\n",
    "]\n",
    "\n",
    "model = gridsearchcv_tuner(X, y, params, 1)"
   ],
   "metadata": {
    "collapsed": false,
    "pycharm": {
     "name": "#%%\n"
    }
   }
  },
  {
   "cell_type": "code",
   "execution_count": 5,
   "outputs": [
    {
     "data": {
      "text/plain": "<Figure size 432x288 with 1 Axes>",
      "image/png": "[encoded data removed]"
     },
     "metadata": {
      "needs_background": "light"
     },
     "output_type": "display_data"
    }
   ],
   "source": [
    "feature_importance(model, X)"
   ],
   "metadata": {
    "collapsed": false,
    "pycharm": {
     "name": "#%%\n"
    }
   }
  }
 ],
 "metadata": {
  "kernelspec": {
   "display_name": "Python 3",
   "language": "python",
   "name": "python3"
  },
  "language_info": {
   "codemirror_mode": {
    "name": "ipython",
    "version": 2
   },
   "file_extension": ".py",
   "mimetype": "text/x-python",
   "name": "python",
   "nbconvert_exporter": "python",
   "pygments_lexer": "ipython2",
   "version": "2.7.6"
  }
 },
 "nbformat": 4,
 "nbformat_minor": 0
}