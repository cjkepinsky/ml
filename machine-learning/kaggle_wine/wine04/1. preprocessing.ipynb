{
 "cells": [
  {
   "cell_type": "code",
   "execution_count": 6,
   "metadata": {
    "collapsed": true
   },
   "outputs": [
    {
     "name": "stdout",
     "output_type": "stream",
     "text": [
      "Done\n"
     ]
    }
   ],
   "source": [
    "# Let's run the preprocessing on both train and test data\n",
    "from libs.simple_processing import normalize, separate_target, dropna_rows, remove_columns\n",
    "import pandas as pd # data processing, CSV file I/O (e.g. pd.read_csv)\n",
    "from constants import source_path, target_name, x_path, y_path\n",
    "\n",
    "DATA = pd.read_csv(source_path)\n",
    "\n",
    "\n",
    "# DATA = remove_columns(DATA, ['citric acid'])\n",
    "# DATA = remove_columns(DATA, ['density'])\n",
    "# DATA = remove_columns(DATA, ['pH'])\n",
    "\n",
    "\n",
    "X, y = separate_target(DATA, target_name)\n",
    "X = dropna_rows(X, X.columns)\n",
    "\n",
    "# Data Normalization\n",
    "X = normalize(X)\n",
    "\n",
    "# Data Categorization\n",
    "# from libs.simple_processing import categorize\n",
    "# X_train, X_valid = categorize(X_train, X_valid)\n",
    "# print(\"Done\")\n",
    "\n",
    "print(\"Done\")"
   ]
  },
  {
   "cell_type": "code",
   "execution_count": 3,
   "outputs": [
    {
     "data": {
      "text/plain": "   fixed acidity  volatile acidity  residual sugar  chlorides  \\\n0       0.247788          0.397260        0.068493   0.106845   \n1       0.283186          0.520548        0.116438   0.143573   \n2       0.283186          0.438356        0.095890   0.133556   \n3       0.584071          0.109589        0.068493   0.105175   \n4       0.247788          0.397260        0.068493   0.106845   \n\n   free sulfur dioxide  total sulfur dioxide  sulphates   alcohol  \n0             0.140845              0.098940   0.137725  0.153846  \n1             0.338028              0.215548   0.209581  0.215385  \n2             0.197183              0.169611   0.191617  0.215385  \n3             0.225352              0.190813   0.149701  0.215385  \n4             0.140845              0.098940   0.137725  0.153846  ",
      "text/html": "<div>\n<style scoped>\n    .dataframe tbody tr th:only-of-type {\n        vertical-align: middle;\n    }\n\n    .dataframe tbody tr th {\n        vertical-align: top;\n    }\n\n    .dataframe thead th {\n        text-align: right;\n    }\n</style>\n<table border=\"1\" class=\"dataframe\">\n  <thead>\n    <tr style=\"text-align: right;\">\n      <th></th>\n      <th>fixed acidity</th>\n      <th>volatile acidity</th>\n      <th>residual sugar</th>\n      <th>chlorides</th>\n      <th>free sulfur dioxide</th>\n      <th>total sulfur dioxide</th>\n      <th>sulphates</th>\n      <th>alcohol</th>\n    </tr>\n  </thead>\n  <tbody>\n    <tr>\n      <th>0</th>\n      <td>0.247788</td>\n      <td>0.397260</td>\n      <td>0.068493</td>\n      <td>0.106845</td>\n      <td>0.140845</td>\n      <td>0.098940</td>\n      <td>0.137725</td>\n      <td>0.153846</td>\n    </tr>\n    <tr>\n      <th>1</th>\n      <td>0.283186</td>\n      <td>0.520548</td>\n      <td>0.116438</td>\n      <td>0.143573</td>\n      <td>0.338028</td>\n      <td>0.215548</td>\n      <td>0.209581</td>\n      <td>0.215385</td>\n    </tr>\n    <tr>\n      <th>2</th>\n      <td>0.283186</td>\n      <td>0.438356</td>\n      <td>0.095890</td>\n      <td>0.133556</td>\n      <td>0.197183</td>\n      <td>0.169611</td>\n      <td>0.191617</td>\n      <td>0.215385</td>\n    </tr>\n    <tr>\n      <th>3</th>\n      <td>0.584071</td>\n      <td>0.109589</td>\n      <td>0.068493</td>\n      <td>0.105175</td>\n      <td>0.225352</td>\n      <td>0.190813</td>\n      <td>0.149701</td>\n      <td>0.215385</td>\n    </tr>\n    <tr>\n      <th>4</th>\n      <td>0.247788</td>\n      <td>0.397260</td>\n      <td>0.068493</td>\n      <td>0.106845</td>\n      <td>0.140845</td>\n      <td>0.098940</td>\n      <td>0.137725</td>\n      <td>0.153846</td>\n    </tr>\n  </tbody>\n</table>\n</div>"
     },
     "execution_count": 3,
     "metadata": {},
     "output_type": "execute_result"
    }
   ],
   "source": [
    "X.head()"
   ],
   "metadata": {
    "collapsed": false,
    "pycharm": {
     "name": "#%%\n"
    }
   }
  },
  {
   "cell_type": "code",
   "execution_count": 4,
   "outputs": [
    {
     "data": {
      "text/plain": "0    5\n1    5\n2    5\n3    6\n4    5\nName: quality, dtype: int64"
     },
     "execution_count": 4,
     "metadata": {},
     "output_type": "execute_result"
    }
   ],
   "source": [
    "y.head()"
   ],
   "metadata": {
    "collapsed": false,
    "pycharm": {
     "name": "#%%\n"
    }
   }
  },
  {
   "cell_type": "code",
   "execution_count": 7,
   "outputs": [
    {
     "name": "stdout",
     "output_type": "stream",
     "text": [
      "Done\n"
     ]
    }
   ],
   "source": [
    "X.to_csv(x_path)\n",
    "y.to_csv(y_path)\n",
    "\n",
    "print(\"Done\")"
   ],
   "metadata": {
    "collapsed": false,
    "pycharm": {
     "name": "#%%\n"
    }
   }
  }
 ],
 "metadata": {
  "kernelspec": {
   "display_name": "Python 3",
   "language": "python",
   "name": "python3"
  },
  "language_info": {
   "codemirror_mode": {
    "name": "ipython",
    "version": 2
   },
   "file_extension": ".py",
   "mimetype": "text/x-python",
   "name": "python",
   "nbconvert_exporter": "python",
   "pygments_lexer": "ipython2",
   "version": "2.7.6"
  }
 },
 "nbformat": 4,
 "nbformat_minor": 0
}