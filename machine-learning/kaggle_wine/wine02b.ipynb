{
 "cells": [
  {
   "cell_type": "raw",
   "source": [],
   "metadata": {
    "collapsed": false
   }
  },
  {
   "cell_type": "code",
   "execution_count": 1,
   "outputs": [
    {
     "name": "stdout",
     "output_type": "stream",
     "text": [
      "Done\n"
     ]
    }
   ],
   "source": [
    "# https://www.kaggle.com/uciml/red-wine-quality-cortez-et-al-2009\n",
    "import numpy as np # linear algebra\n",
    "from sklearn.model_selection import GridSearchCV\n",
    "import pandas as pd # data processing, CSV file I/O (e.g. pd.read_csv)\n",
    "import matplotlib.pyplot as plt\n",
    "import seaborn as sns\n",
    "from sklearn.model_selection import train_test_split\n",
    "from sklearn.ensemble import GradientBoostingClassifier\n",
    "from libs.simple_analyzer import print_analytics\n",
    "\n",
    "DATA = pd.read_csv(\"input/data.csv\")\n",
    "target_name = 'quality'\n",
    "\n",
    "print('Done')"
   ],
   "metadata": {
    "collapsed": false,
    "pycharm": {
     "name": "#%%\n"
    }
   }
  },
  {
   "cell_type": "markdown",
   "source": [
    "\n",
    "# Exploring the Data, planning the preprocessing\n"
   ],
   "metadata": {
    "collapsed": false
   }
  },
  {
   "cell_type": "code",
   "execution_count": 2,
   "outputs": [],
   "source": [
    "# print_analytics(DATA, target_name)"
   ],
   "metadata": {
    "collapsed": false,
    "pycharm": {
     "name": "#%%\n"
    }
   }
  },
  {
   "cell_type": "markdown",
   "source": [
    "# Data Pre-processing\n"
   ],
   "metadata": {
    "collapsed": false
   }
  },
  {
   "cell_type": "code",
   "execution_count": 3,
   "outputs": [
    {
     "name": "stdout",
     "output_type": "stream",
     "text": [
      "Done\n"
     ]
    }
   ],
   "source": [
    "# Let's run the preprocessing on both train and test data\n",
    "from libs.simple_processing import normalize, separate_target, dropna_rows\n",
    "\n",
    "X, y = separate_target(DATA, target_name)\n",
    "X = dropna_rows(X, X.columns)\n",
    "\n",
    "# Data Normalization\n",
    "X = normalize(X)\n",
    "# X_train.head()\n",
    "print(\"Done\")"
   ],
   "metadata": {
    "collapsed": false,
    "pycharm": {
     "name": "#%%\n"
    }
   }
  },
  {
   "cell_type": "markdown",
   "source": [],
   "metadata": {
    "collapsed": false
   }
  },
  {
   "cell_type": "markdown",
   "source": [
    "# Data Categorization\n"
   ],
   "metadata": {
    "collapsed": false
   }
  },
  {
   "cell_type": "code",
   "execution_count": 4,
   "outputs": [
    {
     "name": "stdout",
     "output_type": "stream",
     "text": [
      "Not helpful. Done\n"
     ]
    }
   ],
   "source": [
    "from libs.simple_processing import categorize\n",
    "# X_train, X_valid = categorize(X_train, X_valid)\n",
    "print(\"Not helpful. Done\")"
   ],
   "metadata": {
    "collapsed": false,
    "pycharm": {
     "name": "#%%\n"
    }
   }
  },
  {
   "cell_type": "markdown",
   "source": [
    "as we can see the number of records in train data is lowered"
   ],
   "metadata": {
    "collapsed": false
   }
  },
  {
   "cell_type": "code",
   "execution_count": 5,
   "outputs": [],
   "source": [
    "from libs.simpleplotter import simple_heatmap\n",
    "# simple_heatmap(X_train)"
   ],
   "metadata": {
    "collapsed": false,
    "pycharm": {
     "name": "#%%\n"
    }
   }
  },
  {
   "cell_type": "markdown",
   "source": [
    "# Models Training & Hyper-params Tuning for Different Classification Models\n"
   ],
   "metadata": {
    "collapsed": false
   }
  },
  {
   "cell_type": "code",
   "execution_count": 32,
   "outputs": [
    {
     "name": "stdout",
     "output_type": "stream",
     "text": [
      "> Model: GradientBoostingClassifier\n",
      "GridSearchCV Training Results:\n",
      "- Best Score:  0.6465992647058824\n",
      "Validation Results:\n",
      "- Accuracy score:  0.728125\n",
      "- Accuracy count:  233 / 320\n",
      "- Precision score:  0.7206890443313954\n",
      "- Recall score:  0.728125\n",
      "- F1 score:  0.721640208070996\n",
      "Params:\n",
      "- cv:  5\n",
      "- Splitter Params:  {'train_size': 0.8, 'random_state': 50}\n",
      "- Model Params:  GradientBoostingClassifier(learning_rate=0.11, max_depth=7, max_features='log2',\n",
      "                           n_estimators=35, n_iter_no_change=1,\n",
      "                           random_state=30)\n",
      "- Best H-Params:  {'max_depth': 7}\n",
      "\n",
      "Done.\n"
     ]
    }
   ],
   "source": [
    "from sklearn.naive_bayes import GaussianNB\n",
    "from sklearn.neighbors import KNeighborsClassifier\n",
    "from sklearn.ensemble import RandomForestClassifier\n",
    "from sklearn.tree import DecisionTreeClassifier\n",
    "from libs.simple_processing import get_model_name, print_scores\n",
    "from pandas import DataFrame\n",
    "from sklearn.gaussian_process import GaussianProcessClassifier\n",
    "import imblearn\n",
    "from sklearn.linear_model import LogisticRegression\n",
    "from sklearn.linear_model import SGDClassifier\n",
    "from libs.simple_hyper_tuner import gridsearchcv_tuner\n",
    "\n",
    "params = [\n",
    "\n",
    "#     # 0.8011627906976744\n",
    "#     # {'max_depth': 10, 'n_estimators': 90}\n",
    "#     # {\n",
    "#     #     'model': RandomForestClassifier(criterion='entropy', n_jobs=3, max_features=\"auto\", bootstrap=False),\n",
    "#     #     'hyperparams': {\n",
    "#     #         'n_estimators': range(20, 100, 10),\n",
    "#     #         'max_depth': range(4, 10, 1)\n",
    "#     #     }\n",
    "#     # }\n",
    "#     # 0.8069767441860465\n",
    "#     # {'max_depth': 8, 'n_estimators': 120, 'random_state': 10}\n",
    "#     # {\n",
    "#     #     'model': RandomForestClassifier(criterion='entropy', n_jobs=3, max_features=\"auto\", bootstrap=True),\n",
    "#     #     'hyperparams': {\n",
    "#     #         'random_state': range(0, 60, 10),\n",
    "#     #         'n_estimators': range(80, 150, 10),\n",
    "#     #         'max_depth': range(7, 15, 1)\n",
    "#     #     }\n",
    "#     # }\n",
    "#     # 0.8012311901504787\n",
    "#     # {'ccp_alpha': 0.0, 'max_depth': 7, 'max_samples': 50, 'n_estimators': 110, 'random_state': 0}\n",
    "#     # {\n",
    "#     #     'model': RandomForestClassifier(criterion='entropy', n_jobs=3, max_features=\"auto\", bootstrap=True),\n",
    "#     #     'hyperparams': {\n",
    "#     #         'ccp_alpha': np.arange(0, 1, 0.2),\n",
    "#     #         'max_samples': range(10, 80, 10),\n",
    "#     #         'random_state': range(0, 30, 5),\n",
    "#     #         'n_estimators': range(100, 140, 10),\n",
    "#     #         'max_depth': range(7, 10, 1)\n",
    "#     #     }\n",
    "#     # }\n",
    "#     # 0.8012995896032832\n",
    "#     # {'max_depth': 6, 'max_samples': 65, 'n_estimators': 100, 'random_state': 0}\n",
    "#     # {\n",
    "#     #     'model': RandomForestClassifier(criterion='entropy', n_jobs=3, max_features=\"auto\", bootstrap=True),\n",
    "#     #     'hyperparams': {\n",
    "#     #         'max_samples': range(40, 70, 5),\n",
    "#     #         'random_state': range(0, 30, 5),\n",
    "#     #         'n_estimators': range(100, 130, 10),\n",
    "#     #         'max_depth': range(5, 9, 1)\n",
    "#     #     }\n",
    "#     # }\n",
    "#     # 0.8012995896032832\n",
    "#     # {'max_depth': 6, 'max_samples': 65, 'n_estimators': 60}\n",
    "#     # {\n",
    "#     #     'model': RandomForestClassifier(criterion='entropy', n_jobs=3, max_features=\"auto\", bootstrap=True, random_state=0),\n",
    "#     #     'hyperparams': {\n",
    "#     #         'max_samples': range(50, 80, 5),\n",
    "#     #         'n_estimators': range(40, 80, 10),\n",
    "#     #         'max_depth': range(5, 9, 1)\n",
    "#     #     }\n",
    "#     # }\n",
    "#     # 0.8012995896032832\n",
    "#     # {'max_depth': 6, 'max_features': 'auto', 'max_samples': 65, 'n_estimators': 60}\n",
    "#     # {\n",
    "#     #     'model': RandomForestClassifier(criterion='entropy', n_jobs=3, bootstrap=True, oob_score=True, random_state=0),\n",
    "#     #     'hyperparams': {\n",
    "#     #         'max_features':[\"auto\", \"sqrt\", \"log2\"],\n",
    "#     #         'max_samples': range(50, 80, 5),\n",
    "#     #         'n_estimators': range(40, 80, 10),\n",
    "#     #         'max_depth': range(4, 8, 1)\n",
    "#     #     }\n",
    "#     # }\n",
    "#     # 0.7370041039671682\n",
    "#     # {'learning_rate': 0.09, 'max_depth': 6, 'n_estimators': 11, 'random_state': 5}\n",
    "#     # {\n",
    "#     #     'model': GradientBoostingClassifier(max_features=\"auto\"),\n",
    "#     #     'hyperparams': {\n",
    "#     #         # 'criterion': ['friedman_mse', 'mse', 'mae'],\n",
    "#     #         'random_state': range(0, 30, 5),\n",
    "#     #         'n_estimators': range(5, 15, 1),\n",
    "#     #         'learning_rate': np.arange(0.01, 0.1, 0.01),\n",
    "#     #         'max_depth': range(4, 8, 1)\n",
    "#     #     }\n",
    "#     # }\n",
    "#     # 0.7954856361149111\n",
    "#     # {'learning_rate': 1.0199999999999996, 'max_depth': 5, 'n_estimators': 12, 'random_state': 10}\n",
    "#     # {\n",
    "#     #     'model': GradientBoostingClassifier(max_features=\"auto\"),\n",
    "#     #     'hyperparams': {\n",
    "#     #         # 'criterion': ['friedman_mse', 'mse', 'mae'],\n",
    "#     #         'random_state': range(0, 15, 5),\n",
    "#     #         'n_estimators': range(10, 13, 1),\n",
    "#     #         'learning_rate': np.arange(0.07, 1.2, 0.01),\n",
    "#     #         'max_depth': range(5, 8, 1)\n",
    "#     #     }\n",
    "#     # }\n",
    "#     # 0.8185362517099863\n",
    "#     # {'learning_rate': 1.2, 'max_depth': 6, 'n_estimators': 80, 'random_state': 6}\n",
    "#     # {\n",
    "#     #     'model': GradientBoostingClassifier(max_features=\"auto\"),\n",
    "#     #     'hyperparams': {\n",
    "#     #         # 'criterion': ['friedman_mse', 'mse', 'mae'],\n",
    "#     #         'random_state': range(0, 10, 2),\n",
    "#     #         'n_estimators': range(20, 100, 10),\n",
    "#     #         'learning_rate': np.arange(0.9, 1.5, 0.1),\n",
    "#     #         'max_depth': range(4, 12, 2)\n",
    "#     #     }\n",
    "#     # }\n",
    "#     # 0.8245554035567715\n",
    "#     # {'criterion': 'mse', 'learning_rate': 1.2000000000000002, 'max_depth': 6, 'n_estimators': 75, 'random_state': 6}\n",
    "#     {\n",
    "#         'model': GradientBoostingClassifier(loss='deviance', max_features=\"auto\"),\n",
    "#         'hyperparams': {\n",
    "#             'criterion': ['friedman_mse', 'mse', 'mae'],\n",
    "#             # 'loss':['deviance', 'exponential'],\n",
    "#             'random_state': range(5, 8, 1),\n",
    "#             'n_estimators': range(60, 90, 5),\n",
    "#             'learning_rate': np.arange(1, 1.4, 0.1),\n",
    "#             'max_depth': range(4, 9, 1)\n",
    "#         }\n",
    "#     }\n",
    "#     # {'learning_rate': 1.2000000000000002, 'max_depth': 7, 'n_estimators': 81, 'random_state': 5}\n",
    "#     # {\n",
    "#     #     'model': GradientBoostingClassifier(criterion='mse', loss='deviance', max_features=\"auto\"),\n",
    "#     #     'hyperparams': {\n",
    "#     #         # 'criterion': ['friedman_mse', 'mse', 'mae'],\n",
    "#     #         # 'loss':['deviance', 'exponential'],\n",
    "#     #         'random_state': range(0, 10, 2),\n",
    "#     #         'n_estimators': range(80, 85, 1),\n",
    "#     #         'learning_rate': np.arange(1, 1.4, 0.1),\n",
    "#     #         'max_depth': range(6, 11, 1)\n",
    "#     #     }\n",
    "#     # }\n",
    "#     # cv=3\n",
    "#     # train / test: 50 / 50\n",
    "#     {\n",
    "#         'model': GradientBoostingClassifier(criterion='mse', loss='deviance', max_features=\"auto\"),\n",
    "#         'hyperparams': {\n",
    "#             'random_state': range(0, 10, 2),\n",
    "#             'n_estimators': range(80, 83, 1),\n",
    "#             'learning_rate': np.arange(1, 1.4, 0.1),\n",
    "#             'max_depth': range(6, 9, 1)\n",
    "#         }\n",
    "#     }\n",
    "#         {\n",
    "#             'model': SMOTE(loss='deviance', criterion='mse', random_state=6, n_estimators=75, learning_rate=1.2, max_depth=6, max_features='log2'),\n",
    "#             'hyperparams': {\n",
    "#                 'max_features': ['auto', 'log2', 2, 6, 10]\n",
    "#             }\n",
    "#         }\n",
    "\n",
    "\n",
    "    # MULTICLASS:\n",
    "    # 0.5160309076682316\n",
    "    # {'copy_X_train': True, 'max_iter_predict': 1, 'multi_class': 'one_vs_one', 'n_restarts_optimizer': 0, 'random_state': 0, 'warm_start': False}\n",
    "    #     {\n",
    "    #         'model': GaussianProcessClassifier(),\n",
    "    #         'hyperparams': {\n",
    "    #             'copy_X_train': [True, False],\n",
    "    #             'multi_class': ['one_vs_rest', 'one_vs_one'],\n",
    "    #             'random_state': range(0, 3, 1),\n",
    "    #             'n_restarts_optimizer': range(0, 3, 1),\n",
    "    #             'max_iter_predict': range(0, 3, 1),\n",
    "    #             'warm_start': [True, False]\n",
    "    #         }\n",
    "    #     }\n",
    "    # 0.5676386443661972\n",
    "    # {'C': 1.2000000000000002, 'multi_class': 'auto', 'penalty': 'l2', 'random_state': 0, 'solver': 'newton-cg', 'warm_start': True}\n",
    "    #     {\n",
    "    #         'model': LogisticRegression(),\n",
    "    #         'hyperparams': {\n",
    "    #             'C': np.arange(0.6, 1.4, 0.2),\n",
    "    #             'multi_class': ['auto', 'ovr', 'warn'],\n",
    "    #             'random_state': range(0, 12, 2),\n",
    "    #             'penalty': ['l2'],\n",
    "    #             'solver': ['newton-cg', 'lbfgs', 'liblinear', 'sag', 'saga'],\n",
    "    #             'warm_start': [True, False]\n",
    "    #         }\n",
    "    #     }\n",
    "    # 0.5871752450980392\n",
    "    # {'C': 1.4, 'multi_class': 'auto', 'penalty': 'l2', 'random_state': 0, 'warm_start': True}, cv=5\n",
    "    #     {\n",
    "    #         'model': LogisticRegression(solver='newton-cg'),\n",
    "    #         'hyperparams': {\n",
    "    #             'C': np.arange(1, 2, 0.2),\n",
    "    #             'multi_class': ['auto', 'ovr', 'warn'],\n",
    "    #             'random_state': range(0, 8, 2),\n",
    "    #             'penalty': ['l1', 'l2'],\n",
    "    #             # 'solver': ['newton-cg', 'lbfgs', 'liblinear', 'sag', 'saga'],\n",
    "    #             'warm_start': [True, False]\n",
    "    #         }\n",
    "    #     }\n",
    "    # 0.5660834800469483\n",
    "    # {'eta0': 0.03, 'fit_intercept': True, 'learning_rate': 'adaptive', 'loss': 'hinge', 'max_iter': 500, 'penalty': 'l1', 'random_state': None, 'shuffle': False}\n",
    "    #     {\n",
    "    #         'model': SGDClassifier(),\n",
    "    #         'hyperparams': {\n",
    "    #             # 'alpha': np.arange(0.0001, 0.001, 0.0003),\n",
    "    #             # 'tol': np.arange(0.001, 0.01, 0.003),\n",
    "    #             'eta0': np.arange(0.0, 0.1, 0.03),\n",
    "    #             'loss': ['hinge', 'log', 'modified_huber', 'squared_hinge', 'perceptron'],\n",
    "    #             'max_iter': range(500, 1500, 200),\n",
    "    #             'random_state': [None, 0, 4, 10, 20],\n",
    "    #             'penalty': ['l1', 'l2'],\n",
    "    #             # 'solver': ['newton-cg', 'lbfgs', 'liblinear', 'sag', 'saga'],\n",
    "    #             'learning_rate': ['constant', 'optimal', 'invscaling', 'adaptive'],\n",
    "    #             'shuffle': [True, False],\n",
    "    #             'fit_intercept': [True, False]\n",
    "    #         }\n",
    "    #     }\n",
    "    # 0.5723359252738653\n",
    "    # {'alpha': 0.00030000000000000003, 'fit_intercept': True, 'learning_rate': 'adaptive', 'loss': 'log', 'shuffle': False, 'tol': 0.002}\n",
    "    #     {\n",
    "    #         'model': SGDClassifier(eta0=0.03, penalty='l1', max_iter=55000, random_state=None),\n",
    "    #         'hyperparams': {\n",
    "    #             'alpha': np.arange(0.0001, 0.0005, 0.0001),\n",
    "    #             'tol': np.arange(0.001, 0.005, 0.001),\n",
    "    #             'loss': ['hinge', 'log', 'modified_huber', 'squared_hinge', 'perceptron'],\n",
    "    #             # 'max_iter': range(500, 1500, 200),\n",
    "    #             # 'random_state': [None, 0, 4, 10, 20],\n",
    "    #             # 'penalty': ['l1', 'l2'],\n",
    "    #             'learning_rate': ['constant', 'optimal', 'invscaling', 'adaptive'],\n",
    "    #             'shuffle': [True, False],\n",
    "    #             'fit_intercept': [True, False]\n",
    "    #         }\n",
    "    #     }\n",
    "\n",
    "    # 0.612987822769953\n",
    "    # {'criterion': 'friedman_mse', 'learning_rate': 1.0, 'max_depth': 5, 'n_estimators': 80, 'random_state': 7}\n",
    "    #     {\n",
    "    #         'model': GradientBoostingClassifier(loss='deviance', max_features=\"auto\"),\n",
    "    #         'hyperparams': {\n",
    "    #             'criterion': ['friedman_mse', 'mse', 'absolute_error'],\n",
    "    #             # 'loss':['deviance', 'exponential'],\n",
    "    #             'random_state': range(5, 15, 2),\n",
    "    #             'n_estimators': range(75, 85, 2),\n",
    "    #             'learning_rate': np.arange(0.8, 1.2, 0.1),\n",
    "    #             'max_depth': range(4, 7, 1)\n",
    "    #         }\n",
    "    #     }\n",
    "    # 0.6122016823161189\n",
    "    # {'learning_rate': 0.8, 'max_depth': 5, 'n_estimators': 84, 'random_state': 5}\n",
    "#          > Model: GradientBoostingClassifier\n",
    "# Fitting 2 folds for each of 192 candidates, totalling 384 fits\n",
    "# 0.6122016823161189\n",
    "# {'learning_rate': 0.8, 'max_depth': 5, 'n_estimators': 84, 'random_state': 5}\n",
    "    #     {\n",
    "    #         'model': GradientBoostingClassifier(max_features=\"auto\", criterion=\"friedman_mse\"),\n",
    "    #         'hyperparams': {\n",
    "    #             # 'criterion': ['friedman_mse', 'mse', 'absolute_error'],\n",
    "    #             # 'loss':['deviance', 'exponential'],\n",
    "    #             'random_state': range(5, 15, 3),\n",
    "    #             'n_estimators': range(75, 85, 3),\n",
    "    #             'learning_rate': np.arange(0.8, 1.2, 0.1),\n",
    "    #             'max_depth': range(4, 7, 1)\n",
    "    #         }\n",
    "    #     }\n",
    "\n",
    "    #      > Model: GradientBoostingClassifier cv:  4\n",
    "    #     0.6317300156739812\n",
    "    #     {'random_state': 25}\n",
    "    # - F1 score:  0.7127565219911619\n",
    "    # {\n",
    "    #     'splitter': {\n",
    "    #         'train_size': [0.8],\n",
    "    #         'random_state': [40, 50]\n",
    "    #     },\n",
    "    #     'cv': [5],\n",
    "    #     'model': GradientBoostingClassifier(n_estimators=55, loss='deviance', learning_rate=0.9, max_depth=6, max_features='log2', random_state=25),\n",
    "    #     'hyperparams': {\n",
    "    #         'learning_rate':np.arange(0.1, 1, 0.1)\n",
    "    #     }\n",
    "    # }\n",
    "\n",
    "    # - F1 score:  0.7211048661042033\n",
    "    # Params:\n",
    "    # - cv:  5\n",
    "    #    - Splitter Params:  {'train_size': 0.8, 'random_state': 50}\n",
    "    #                        - Best H-Params:  {'learning_rate': 0.11, 'max_depth': 7, 'n_estimators': 35, 'random_state': 30}\n",
    "    # {\n",
    "    #     'splitter': {\n",
    "    #         'train_size': [0.8],\n",
    "    #         'random_state': [50]\n",
    "    #     },\n",
    "    #     'cv': [5],\n",
    "    #     'model': GradientBoostingClassifier(n_estimators=55, loss='deviance', max_features='log2', random_state=25),\n",
    "    #     'hyperparams': {\n",
    "    #         'n_estimators': range(20, 60, 5),\n",
    "    #         'max_depth': range(3, 9, 2),\n",
    "    #         'random_state': [10, 20, 25, 30],\n",
    "    #         'learning_rate':np.arange(0.09, 0.2, 0.02)\n",
    "    #     }\n",
    "    # }\n",
    "\n",
    "    # - F1 score:  0.7211048661042033\n",
    "    #     Params:\n",
    "    #     - cv:  5\n",
    "    #    - Splitter Params:  {'train_size': 0.8, 'random_state': 50}\n",
    "    #                        - Best H-Params:  {'learning_rate': 0.11, 'max_depth': 7}\n",
    "    # {\n",
    "    #     'splitter': {'train_size': [0.8], 'random_state': [50]},\n",
    "    #     'cv': [5],\n",
    "    #     'model': GradientBoostingClassifier(n_estimators=35, loss='deviance', max_features='log2', random_state=30),\n",
    "    #     'hyperparams': {\n",
    "    #         'max_depth': range(5, 9, 1),\n",
    "    #         'learning_rate':np.arange(0.1, 0.13, 0.01)\n",
    "    #     }\n",
    "    # }\n",
    "    {\n",
    "        'splitter': {'train_size': [0.8], 'random_state': [50]},\n",
    "        'cv': [5],\n",
    "        'model': GradientBoostingClassifier(max_depth=7, learning_rate=0.11, n_estimators=35, loss='deviance', max_features='log2', random_state=30\n",
    "                                            # , min_impurity_decrease=0, min_weight_fraction_leaf=0\n",
    "                                            # , min_samples_split=4, min_samples_leaf=1, criterion=\"friedman_mse\", subsample=0.7\n",
    "                                            , n_iter_no_change=1\n",
    "                                            # , tol=0.0001\n",
    "                                            ),\n",
    "        'hyperparams': {\n",
    "            # 'min_samples_split':np.arange(3, 6, 1),\n",
    "            # 'min_samples_leaf':np.arange(1, 4, 1),\n",
    "            # 'subsample':np.arange(0.6, 0.9, 0.1),\n",
    "            # 'criterion': ['friedman_mse', 'squared_error'],\n",
    "            'max_depth': range(5, 8, 1)\n",
    "            # , 'learning_rate':np.arange(0.09, 0.13, 0.01)\n",
    "            # , 'min_weight_fraction_leaf':np.arange(0, 0.14, 0.02)\n",
    "            # , 'min_impurity_decrease':np.arange(0, 0.14, 0.02)\n",
    "            #  , 'max_leaf_nodes':range(1, 7, 1)\n",
    "            # , 'warm_start': [True, False]\n",
    "            # , 'validation_fraction': np.arange(0, 0.005, 0.001)\n",
    "            # , 'tol': np.arange(0, 0.005, 0.001)\n",
    "            # , 'ccp_alpha': np.arange(0, 0.005, 0.001)\n",
    "            # , 'n_iter_no_change':range(1, 7, 1)\n",
    "\n",
    "        }\n",
    "    }\n",
    "]\n",
    "\n",
    "winner = gridsearchcv_tuner(X, y, params)\n",
    "\n",
    "# from libs.simple_hyper_tuner import gridsearchcv_print_valid_scores\n",
    "# gridsearchcv_print_valid_scores(winner, X, y)\n"
   ],
   "metadata": {
    "collapsed": false,
    "pycharm": {
     "name": "#%%\n"
    }
   }
  },
  {
   "cell_type": "code",
   "execution_count": 12,
   "outputs": [
    {
     "name": "stderr",
     "output_type": "stream",
     "text": [
      "/Users/kkepins-macwro/opt/anaconda3/lib/python3.9/site-packages/sklearn/metrics/_ranking.py:999: UndefinedMetricWarning: No positive samples in y_true, true positive value should be meaningless\n",
      "  warnings.warn(\n"
     ]
    },
    {
     "name": "stdout",
     "output_type": "stream",
     "text": [
      "Validation Results:\n",
      "- Accuracy score:  0.728125\n",
      "- Accuracy count:  233 / 320\n",
      "- Precision score:  0.7206890443313954\n",
      "- Recall score:  0.728125\n",
      "- F1 score:  0.721640208070996\n",
      "Done\n"
     ]
    },
    {
     "data": {
      "text/plain": "<Figure size 432x288 with 1 Axes>",
      "image/png": "[encoded data removed]"
     },
     "metadata": {
      "needs_background": "light"
     },
     "output_type": "display_data"
    }
   ],
   "source": [
    "from libs.simple_hyper_tuner import predict_print_valid_scores\n",
    "from libs.simpleplotter import simple_roc\n",
    "X_train, X_valid, y_train, y_valid = train_test_split(X, y, train_size=0.8, random_state=50)\n",
    "X_train, X_valid = categorize(X_train, X_valid)\n",
    "\n",
    "model = GradientBoostingClassifier(max_depth=7, learning_rate=0.11, n_estimators=35, loss='deviance', max_features='log2', random_state=30, n_iter_no_change=1)\n",
    "model.fit(X_train, y_train)\n",
    "y_pred = model.predict(X_valid)\n",
    "simple_roc(y_valid, y_pred)\n",
    "\n",
    "print(\"Validation Results:\")\n",
    "f1 = predict_print_valid_scores(model, X_valid, y_valid)\n",
    "\n",
    "print(\"Done\")\n"
   ],
   "metadata": {
    "collapsed": false,
    "pycharm": {
     "name": "#%%\n"
    }
   }
  },
  {
   "cell_type": "code",
   "execution_count": 8,
   "outputs": [
    {
     "name": "stdout",
     "output_type": "stream",
     "text": [
      "Done\n"
     ]
    }
   ],
   "source": [
    "# from libs.single_scoring import get_scoring\n",
    "# parameters = [\n",
    "# #     params:  {'n_estimators': 450, 'learning_rate': 0.035, 'max_depth': 6}\n",
    "# # => train data: 0.973 val data: 0.716\n",
    "# #     {\n",
    "# #         'modelName': globals()[\"GradientBoostingClassifier\"],\n",
    "# #         'rnames': ['n_estimators', 'learning_rate', 'max_depth'],\n",
    "# #         'rvalues': [range(150, 500, 100), np.arange(0.02, 0.04, 0.005), range(4, 7, 1)],\n",
    "# #         'pnames': [],\n",
    "# #         'pvalues': []\n",
    "# #     }\n",
    "#     {\n",
    "#         'modelName': globals()[\"GradientBoostingClassifier\"],\n",
    "#         'rnames': ['n_estimators', 'learning_rate', 'max_depth'],\n",
    "#         'rvalues': [range(350, 1000, 100), np.arange(0.03, 0.08, 0.01), range(5, 9, 1)],\n",
    "#         'pnames': [],\n",
    "#         'pvalues': []\n",
    "#     }\n",
    "#     # {\n",
    "#     #     'modelName': GradientBoostingClassifier(),\n",
    "#     #     'rnames': ['n_estimators', 'learning_rate', 'max_depth'],\n",
    "#     #     'rvalues': [range(350, 1000, 100), np.arange(0.03, 0.08, 0.01), range(5, 9, 1)],\n",
    "#     #     'pnames': ['criterion'],\n",
    "#     #     'pvalues': [\"mse\"]\n",
    "#     # }\n",
    "# ]\n",
    "#\n",
    "# for p in parameters:\n",
    "#     score = get_scoring(X_train, y_train, X_valid, y_valid, p['modelName'], p['rnames'], p['rvalues'], p['pnames'], p['pvalues'])\n",
    "#\n",
    "#\n",
    "print(\"Done\")\n"
   ],
   "metadata": {
    "collapsed": false,
    "pycharm": {
     "name": "#%%\n"
    }
   }
  },
  {
   "cell_type": "code",
   "execution_count": 89,
   "outputs": [
    {
     "name": "stdout",
     "output_type": "stream",
     "text": [
      "train Score:  0.8764659890539483\n",
      "val Score:  0.6875\n",
      "919     6\n",
      "223     6\n",
      "994     5\n",
      "918     6\n",
      "1171    6\n",
      "       ..\n",
      "1016    7\n",
      "165     5\n",
      "7       7\n",
      "219     5\n",
      "1350    5\n",
      "Name: quality, Length: 1279, dtype: int64\n",
      "[6 6 5 ... 7 5 5]\n"
     ]
    },
    {
     "data": {
      "text/plain": "           1035  49    799   538   660   990   398   1068  1155  468   ...  \\\nquality     7.0   5.0   6.0   7.0   6.0   5.0   6.0   7.0   5.0   6.0  ...   \nUnnamed 0   NaN   5.0   NaN   NaN   NaN   NaN   NaN   NaN   NaN   NaN  ...   \n\n           1525  942   236   772   442   1335  1027  34    504   1491  \nquality     5.0   7.0   6.0   5.0   7.0   6.0   5.0   5.0   7.0   5.0  \nUnnamed 0   NaN   NaN   6.0   NaN   NaN   NaN   NaN   5.0   NaN   NaN  \n\n[2 rows x 320 columns]",
      "text/html": "<div>\n<style scoped>\n    .dataframe tbody tr th:only-of-type {\n        vertical-align: middle;\n    }\n\n    .dataframe tbody tr th {\n        vertical-align: top;\n    }\n\n    .dataframe thead th {\n        text-align: right;\n    }\n</style>\n<table border=\"1\" class=\"dataframe\">\n  <thead>\n    <tr style=\"text-align: right;\">\n      <th></th>\n      <th>1035</th>\n      <th>49</th>\n      <th>799</th>\n      <th>538</th>\n      <th>660</th>\n      <th>990</th>\n      <th>398</th>\n      <th>1068</th>\n      <th>1155</th>\n      <th>468</th>\n      <th>...</th>\n      <th>1525</th>\n      <th>942</th>\n      <th>236</th>\n      <th>772</th>\n      <th>442</th>\n      <th>1335</th>\n      <th>1027</th>\n      <th>34</th>\n      <th>504</th>\n      <th>1491</th>\n    </tr>\n  </thead>\n  <tbody>\n    <tr>\n      <th>quality</th>\n      <td>7.0</td>\n      <td>5.0</td>\n      <td>6.0</td>\n      <td>7.0</td>\n      <td>6.0</td>\n      <td>5.0</td>\n      <td>6.0</td>\n      <td>7.0</td>\n      <td>5.0</td>\n      <td>6.0</td>\n      <td>...</td>\n      <td>5.0</td>\n      <td>7.0</td>\n      <td>6.0</td>\n      <td>5.0</td>\n      <td>7.0</td>\n      <td>6.0</td>\n      <td>5.0</td>\n      <td>5.0</td>\n      <td>7.0</td>\n      <td>5.0</td>\n    </tr>\n    <tr>\n      <th>Unnamed 0</th>\n      <td>NaN</td>\n      <td>5.0</td>\n      <td>NaN</td>\n      <td>NaN</td>\n      <td>NaN</td>\n      <td>NaN</td>\n      <td>NaN</td>\n      <td>NaN</td>\n      <td>NaN</td>\n      <td>NaN</td>\n      <td>...</td>\n      <td>NaN</td>\n      <td>NaN</td>\n      <td>6.0</td>\n      <td>NaN</td>\n      <td>NaN</td>\n      <td>NaN</td>\n      <td>NaN</td>\n      <td>5.0</td>\n      <td>NaN</td>\n      <td>NaN</td>\n    </tr>\n  </tbody>\n</table>\n<p>2 rows × 320 columns</p>\n</div>"
     },
     "execution_count": 89,
     "metadata": {},
     "output_type": "execute_result"
    }
   ],
   "source": [
    "# FROM GRIDSEARCHCV\n",
    "\n",
    "    # 0.8245554035567715\n",
    "#     # {'criterion': 'mse', 'learning_rate': 1.2000000000000002, 'max_depth': 6, 'n_estimators': 75, 'random_state': 6}\n",
    "# {'criterion': 'mse', 'learning_rate': 1.2000000000000002, 'max_depth': 6, 'n_estimators': 75, 'random_state': 6}\n",
    "\n",
    "#     BEST params:  {'n_estimators': 90, 'learning_rate': 0.7, 'max_depth': 11}\n",
    "# => train data: 1.000 val data: 0.756\n",
    "#     {\n",
    "#         'modelName': globals()[\"GradientBoostingClassifier\"],\n",
    "#         'hyperParamNames': ['n_estimators', 'learning_rate', 'max_depth'],\n",
    "#         'hyperParamValues': [range(80, 110, 10), np.arange(0.5, 0.8, 0.1), range(8, 12, 1)],\n",
    "#         'params': {'max_features': \"auto\", \"n_jobs\": 3, 'criterion': 'mse'}\n",
    "#     }\n",
    "\n",
    "model = GradientBoostingClassifier(max_features=\"auto\", criterion='squared_error', learning_rate=0.01, max_depth=4, n_estimators=380, random_state=100)\n",
    "model.fit(X_train, y_train)\n",
    "# print_scores(y_valid, y_pred)\n",
    "print('train Score: ', model.score(X_train, y_train))\n",
    "print('val Score: ', model.score(X_valid, y_valid))\n",
    "yt_pred = model.predict(X_train)\n",
    "y_pred = model.predict(X_valid)\n",
    "df = DataFrame([y_valid, y_pred] )\n",
    "print(y_train)\n",
    "print(yt_pred)\n",
    "df.head()\n"
   ],
   "metadata": {
    "collapsed": false,
    "pycharm": {
     "name": "#%%\n"
    }
   }
  },
  {
   "cell_type": "code",
   "execution_count": 18,
   "outputs": [
    {
     "data": {
      "text/plain": "      y_valid  y_pred\n1035        7       6\n49          5       5\n799         6       6\n538         7       6\n660         6       6\n...       ...     ...\n1335        6       6\n1027        5       6\n34          5       5\n504         7       6\n1491        5       5\n\n[320 rows x 2 columns]",
      "text/html": "<div>\n<style scoped>\n    .dataframe tbody tr th:only-of-type {\n        vertical-align: middle;\n    }\n\n    .dataframe tbody tr th {\n        vertical-align: top;\n    }\n\n    .dataframe thead th {\n        text-align: right;\n    }\n</style>\n<table border=\"1\" class=\"dataframe\">\n  <thead>\n    <tr style=\"text-align: right;\">\n      <th></th>\n      <th>y_valid</th>\n      <th>y_pred</th>\n    </tr>\n  </thead>\n  <tbody>\n    <tr>\n      <th>1035</th>\n      <td>7</td>\n      <td>6</td>\n    </tr>\n    <tr>\n      <th>49</th>\n      <td>5</td>\n      <td>5</td>\n    </tr>\n    <tr>\n      <th>799</th>\n      <td>6</td>\n      <td>6</td>\n    </tr>\n    <tr>\n      <th>538</th>\n      <td>7</td>\n      <td>6</td>\n    </tr>\n    <tr>\n      <th>660</th>\n      <td>6</td>\n      <td>6</td>\n    </tr>\n    <tr>\n      <th>...</th>\n      <td>...</td>\n      <td>...</td>\n    </tr>\n    <tr>\n      <th>1335</th>\n      <td>6</td>\n      <td>6</td>\n    </tr>\n    <tr>\n      <th>1027</th>\n      <td>5</td>\n      <td>6</td>\n    </tr>\n    <tr>\n      <th>34</th>\n      <td>5</td>\n      <td>5</td>\n    </tr>\n    <tr>\n      <th>504</th>\n      <td>7</td>\n      <td>6</td>\n    </tr>\n    <tr>\n      <th>1491</th>\n      <td>5</td>\n      <td>5</td>\n    </tr>\n  </tbody>\n</table>\n<p>320 rows × 2 columns</p>\n</div>"
     },
     "execution_count": 18,
     "metadata": {},
     "output_type": "execute_result"
    }
   ],
   "source": [
    "output = pd.DataFrame({'y_valid': y_valid, 'y_pred': y_pred})\n",
    "output\n"
   ],
   "metadata": {
    "collapsed": false,
    "pycharm": {
     "name": "#%%\n"
    }
   }
  },
  {
   "cell_type": "code",
   "execution_count": 20,
   "outputs": [
    {
     "data": {
      "text/plain": "<Figure size 360x360 with 1 Axes>",
      "image/png": "[encoded data removed]"
     },
     "metadata": {
      "needs_background": "light"
     },
     "output_type": "display_data"
    },
    {
     "data": {
      "text/plain": "array([[  0,   0,   2,   1,   0,   0],\n       [  0,   0,   5,   3,   0,   0],\n       [  0,   1, 116,  19,   0,   0],\n       [  0,   2,  26,  91,   6,   0],\n       [  0,   0,   5,  17,  20,   0],\n       [  0,   0,   0,   2,   4,   0]])"
     },
     "execution_count": 20,
     "metadata": {},
     "output_type": "execute_result"
    }
   ],
   "source": [
    "from libs.simpleplotter import simple_confusion_matrix\n",
    "\n",
    "simple_confusion_matrix(y_valid, y_pred, winner.classes_)"
   ],
   "metadata": {
    "collapsed": false,
    "pycharm": {
     "name": "#%%\n"
    }
   }
  },
  {
   "cell_type": "markdown",
   "source": [
    "## Score\n"
   ],
   "metadata": {
    "collapsed": false
   }
  },
  {
   "cell_type": "code",
   "execution_count": 36,
   "outputs": [
    {
     "name": "stdout",
     "output_type": "stream",
     "text": [
      "train Score:  0.5840500390930414\n",
      "val Score:  0.628125\n"
     ]
    },
    {
     "name": "stderr",
     "output_type": "stream",
     "text": [
      "/Users/kkepins-macwro/opt/anaconda3/lib/python3.9/site-packages/sklearn/linear_model/_logistic.py:814: ConvergenceWarning: lbfgs failed to converge (status=1):\n",
      "STOP: TOTAL NO. of ITERATIONS REACHED LIMIT.\n",
      "\n",
      "Increase the number of iterations (max_iter) or scale the data as shown in:\n",
      "    https://scikit-learn.org/stable/modules/preprocessing.html\n",
      "Please also refer to the documentation for alternative solver options:\n",
      "    https://scikit-learn.org/stable/modules/linear_model.html#logistic-regression\n",
      "  n_iter_i = _check_optimize_result(\n"
     ]
    }
   ],
   "source": [
    "from sklearn.linear_model import LogisticRegression\n",
    "\n",
    "model = LogisticRegression()\n",
    "model.fit(X_train, y_train)\n",
    "# print_scores(y_valid, y_pred)\n",
    "print('train Score: ', model.score(X_train, y_train))\n",
    "print('val Score: ', model.score(X_valid, y_valid))"
   ],
   "metadata": {
    "collapsed": false,
    "pycharm": {
     "name": "#%%\n"
    }
   }
  },
  {
   "cell_type": "code",
   "execution_count": 37,
   "outputs": [
    {
     "name": "stdout",
     "output_type": "stream",
     "text": [
      "train Score:  0.6825645035183737\n",
      "val Score:  0.653125\n"
     ]
    }
   ],
   "source": [
    "# BEST params:  {'n_estimators': 110, 'bootstrap': False, 'max_depth': 9}\n",
    "# => train data: 0.934 val data: 0.731\n",
    "# {\n",
    "#     'modelName': globals()[\"RandomForestClassifier\"],\n",
    "#     'hyperParamNames': ['n_estimators', 'bootstrap', 'max_depth'],\n",
    "#     'hyperParamValues': [range(80, 140, 10), [True, False], range(7, 10, 1)],\n",
    "#     'params': {'random_state': 0, \"n_jobs\": 3, 'criterion': 'gini', 'max_leaf_nodes': 19}\n",
    "# }\n",
    "model = RandomForestClassifier(criterion='gini', max_depth=9, n_estimators=110, n_jobs=3, random_state=0, max_leaf_nodes=19)\n",
    "model.fit(X_train, y_train)\n",
    "# y_pred = model.predict(X_valid)\n",
    "# print_scores(y_valid, y_pred)\n",
    "print('train Score: ', model.score(X_train, y_train))\n",
    "print('val Score: ', model.score(X_valid, y_valid))"
   ],
   "metadata": {
    "collapsed": false,
    "pycharm": {
     "name": "#%%\n"
    }
   }
  },
  {
   "cell_type": "code",
   "execution_count": 9,
   "outputs": [
    {
     "ename": "NameError",
     "evalue": "name 'KNeighborsClassifier' is not defined",
     "output_type": "error",
     "traceback": [
      "\u001B[0;31m---------------------------------------------------------------------------\u001B[0m",
      "\u001B[0;31mNameError\u001B[0m                                 Traceback (most recent call last)",
      "\u001B[0;32m/var/folders/r3/hdngxsmd2vq391vqv6kg6f7w0000gn/T/ipykernel_67037/4288626908.py\u001B[0m in \u001B[0;36m<module>\u001B[0;34m\u001B[0m\n\u001B[1;32m      1\u001B[0m \u001B[0;32mfrom\u001B[0m \u001B[0mlibs\u001B[0m\u001B[0;34m.\u001B[0m\u001B[0msimple_processing\u001B[0m \u001B[0;32mimport\u001B[0m \u001B[0mprint_scores\u001B[0m\u001B[0;34m\u001B[0m\u001B[0;34m\u001B[0m\u001B[0m\n\u001B[1;32m      2\u001B[0m \u001B[0;34m\u001B[0m\u001B[0m\n\u001B[0;32m----> 3\u001B[0;31m \u001B[0mmodel\u001B[0m \u001B[0;34m=\u001B[0m \u001B[0mKNeighborsClassifier\u001B[0m\u001B[0;34m(\u001B[0m\u001B[0mn_jobs\u001B[0m\u001B[0;34m=\u001B[0m\u001B[0;36m4\u001B[0m\u001B[0;34m,\u001B[0m \u001B[0mn_neighbors\u001B[0m\u001B[0;34m=\u001B[0m\u001B[0;36m19\u001B[0m\u001B[0;34m)\u001B[0m\u001B[0;34m\u001B[0m\u001B[0;34m\u001B[0m\u001B[0m\n\u001B[0m\u001B[1;32m      4\u001B[0m \u001B[0mmodel\u001B[0m\u001B[0;34m.\u001B[0m\u001B[0mfit\u001B[0m\u001B[0;34m(\u001B[0m\u001B[0mX_train\u001B[0m\u001B[0;34m,\u001B[0m \u001B[0my_train\u001B[0m\u001B[0;34m)\u001B[0m\u001B[0;34m\u001B[0m\u001B[0;34m\u001B[0m\u001B[0m\n\u001B[1;32m      5\u001B[0m \u001B[0my_pred\u001B[0m \u001B[0;34m=\u001B[0m \u001B[0mmodel\u001B[0m\u001B[0;34m.\u001B[0m\u001B[0mpredict\u001B[0m\u001B[0;34m(\u001B[0m\u001B[0mX_valid\u001B[0m\u001B[0;34m)\u001B[0m\u001B[0;34m\u001B[0m\u001B[0;34m\u001B[0m\u001B[0m\n",
      "\u001B[0;31mNameError\u001B[0m: name 'KNeighborsClassifier' is not defined"
     ]
    }
   ],
   "source": [
    "from libs.simple_processing import print_scores\n",
    "\n",
    "model = KNeighborsClassifier(n_jobs=4, n_neighbors=19)\n",
    "model.fit(X_train, y_train)\n",
    "y_pred = model.predict(X_valid)\n",
    "# print_scores(y_valid, y_pred)\n",
    "print('train Score: ', model.score(X_train, y_train))\n",
    "print('val Score: ', model.score(X_valid, y_valid))"
   ],
   "metadata": {
    "collapsed": false,
    "pycharm": {
     "name": "#%%\n"
    }
   }
  },
  {
   "cell_type": "code",
   "execution_count": 8,
   "outputs": [
    {
     "ename": "NameError",
     "evalue": "name 'GaussianNB' is not defined",
     "output_type": "error",
     "traceback": [
      "\u001B[0;31m---------------------------------------------------------------------------\u001B[0m",
      "\u001B[0;31mNameError\u001B[0m                                 Traceback (most recent call last)",
      "\u001B[0;32m/var/folders/r3/hdngxsmd2vq391vqv6kg6f7w0000gn/T/ipykernel_67037/3663724640.py\u001B[0m in \u001B[0;36m<module>\u001B[0;34m\u001B[0m\n\u001B[0;32m----> 1\u001B[0;31m \u001B[0mmodel\u001B[0m \u001B[0;34m=\u001B[0m \u001B[0mGaussianNB\u001B[0m\u001B[0;34m(\u001B[0m\u001B[0;34m)\u001B[0m\u001B[0;34m\u001B[0m\u001B[0;34m\u001B[0m\u001B[0m\n\u001B[0m\u001B[1;32m      2\u001B[0m \u001B[0mmodel\u001B[0m\u001B[0;34m.\u001B[0m\u001B[0mfit\u001B[0m\u001B[0;34m(\u001B[0m\u001B[0mX_train\u001B[0m\u001B[0;34m,\u001B[0m \u001B[0my_train\u001B[0m\u001B[0;34m)\u001B[0m\u001B[0;34m\u001B[0m\u001B[0;34m\u001B[0m\u001B[0m\n\u001B[1;32m      3\u001B[0m \u001B[0;31m# y_pred = model.predict(X_valid)\u001B[0m\u001B[0;34m\u001B[0m\u001B[0;34m\u001B[0m\u001B[0m\n\u001B[1;32m      4\u001B[0m \u001B[0mprint\u001B[0m\u001B[0;34m(\u001B[0m\u001B[0;34m'train Score: '\u001B[0m\u001B[0;34m,\u001B[0m \u001B[0mmodel\u001B[0m\u001B[0;34m.\u001B[0m\u001B[0mscore\u001B[0m\u001B[0;34m(\u001B[0m\u001B[0mX_train\u001B[0m\u001B[0;34m,\u001B[0m \u001B[0my_train\u001B[0m\u001B[0;34m)\u001B[0m\u001B[0;34m)\u001B[0m\u001B[0;34m\u001B[0m\u001B[0;34m\u001B[0m\u001B[0m\n\u001B[1;32m      5\u001B[0m \u001B[0mprint\u001B[0m\u001B[0;34m(\u001B[0m\u001B[0;34m'val Score: '\u001B[0m\u001B[0;34m,\u001B[0m \u001B[0mmodel\u001B[0m\u001B[0;34m.\u001B[0m\u001B[0mscore\u001B[0m\u001B[0;34m(\u001B[0m\u001B[0mX_valid\u001B[0m\u001B[0;34m,\u001B[0m \u001B[0my_valid\u001B[0m\u001B[0;34m)\u001B[0m\u001B[0;34m)\u001B[0m\u001B[0;34m\u001B[0m\u001B[0;34m\u001B[0m\u001B[0m\n",
      "\u001B[0;31mNameError\u001B[0m: name 'GaussianNB' is not defined"
     ]
    }
   ],
   "source": [
    "model = GaussianNB()\n",
    "model.fit(X_train, y_train)\n",
    "# y_pred = model.predict(X_valid)\n",
    "print('train Score: ', model.score(X_train, y_train))\n",
    "print('val Score: ', model.score(X_valid, y_valid))"
   ],
   "metadata": {
    "collapsed": false,
    "pycharm": {
     "name": "#%%\n"
    }
   }
  },
  {
   "cell_type": "code",
   "execution_count": 10,
   "outputs": [
    {
     "ename": "NameError",
     "evalue": "name 'DecisionTreeClassifier' is not defined",
     "output_type": "error",
     "traceback": [
      "\u001B[0;31m---------------------------------------------------------------------------\u001B[0m",
      "\u001B[0;31mNameError\u001B[0m                                 Traceback (most recent call last)",
      "\u001B[0;32m/var/folders/r3/hdngxsmd2vq391vqv6kg6f7w0000gn/T/ipykernel_67037/3067927615.py\u001B[0m in \u001B[0;36m<module>\u001B[0;34m\u001B[0m\n\u001B[1;32m      1\u001B[0m \u001B[0;32mfrom\u001B[0m \u001B[0mlibs\u001B[0m\u001B[0;34m.\u001B[0m\u001B[0msimpleplotter\u001B[0m \u001B[0;32mimport\u001B[0m \u001B[0mdecision_tree\u001B[0m\u001B[0;34m\u001B[0m\u001B[0;34m\u001B[0m\u001B[0m\n\u001B[0;32m----> 2\u001B[0;31m \u001B[0mmodel\u001B[0m \u001B[0;34m=\u001B[0m \u001B[0mDecisionTreeClassifier\u001B[0m\u001B[0;34m(\u001B[0m\u001B[0mmax_depth\u001B[0m\u001B[0;34m=\u001B[0m\u001B[0;36m9\u001B[0m\u001B[0;34m,\u001B[0m \u001B[0mrandom_state\u001B[0m\u001B[0;34m=\u001B[0m\u001B[0;36m0\u001B[0m\u001B[0;34m,\u001B[0m \u001B[0mmax_leaf_nodes\u001B[0m\u001B[0;34m=\u001B[0m\u001B[0;36m9\u001B[0m \u001B[0;34m)\u001B[0m\u001B[0;34m\u001B[0m\u001B[0;34m\u001B[0m\u001B[0m\n\u001B[0m\u001B[1;32m      3\u001B[0m \u001B[0mmodel\u001B[0m\u001B[0;34m.\u001B[0m\u001B[0mfit\u001B[0m\u001B[0;34m(\u001B[0m\u001B[0mX_train\u001B[0m\u001B[0;34m,\u001B[0m \u001B[0my_train\u001B[0m\u001B[0;34m)\u001B[0m\u001B[0;34m\u001B[0m\u001B[0;34m\u001B[0m\u001B[0m\n\u001B[1;32m      4\u001B[0m \u001B[0;31m# y_pred = model.predict(X_valid)\u001B[0m\u001B[0;34m\u001B[0m\u001B[0;34m\u001B[0m\u001B[0m\n\u001B[1;32m      5\u001B[0m \u001B[0;31m# print_scores(y_valid, y_pred)\u001B[0m\u001B[0;34m\u001B[0m\u001B[0;34m\u001B[0m\u001B[0m\n",
      "\u001B[0;31mNameError\u001B[0m: name 'DecisionTreeClassifier' is not defined"
     ]
    }
   ],
   "source": [
    "from libs.simpleplotter import decision_tree\n",
    "model = DecisionTreeClassifier(max_depth=9, random_state=0, max_leaf_nodes=9 )\n",
    "model.fit(X_train, y_train)\n",
    "# y_pred = model.predict(X_valid)\n",
    "# print_scores(y_valid, y_pred)\n",
    "print('train Score: ', model.score(X_train, y_train))\n",
    "print('val Score: ', model.score(X_valid, y_valid))\n",
    "# decision_tree(model, X_train)"
   ],
   "metadata": {
    "collapsed": false,
    "pycharm": {
     "name": "#%%\n"
    }
   }
  },
  {
   "cell_type": "code",
   "execution_count": null,
   "outputs": [],
   "source": [
    "# BEST params:  {'n_estimators': 130, 'learning_rate': 0.8999999999999999, 'max_depth': 11}\n",
    "# => train data: 1.000 val data: 0.738\n",
    "model = GradientBoostingClassifier(max_features=\"auto\", learning_rate=1.2, max_depth=6, n_estimators=80)\n",
    "model.fit(X_train, y_train)\n",
    "# print_scores(y_valid, y_pred)\n",
    "print('train Score: ', model.score(X_train, y_train))\n",
    "print('val Score: ', model.score(X_valid, y_valid))\n"
   ],
   "metadata": {
    "collapsed": false,
    "pycharm": {
     "name": "#%%\n"
    }
   }
  },
  {
   "cell_type": "markdown",
   "source": [
    "# Winner"
   ],
   "metadata": {
    "collapsed": false
   }
  },
  {
   "cell_type": "code",
   "execution_count": null,
   "outputs": [],
   "source": [
    "model = GradientBoostingClassifier(max_features=\"auto\", criterion='mse', learning_rate=0.7, max_depth=11, n_estimators=90, random_state=6)\n",
    "model.fit(X_train, y_train)\n",
    "# print_scores(y_valid, y_pred)\n",
    "print('train Score: ', model.score(X_train, y_train))\n",
    "print('val Score: ', model.score(X_valid, y_valid))\n"
   ],
   "metadata": {
    "collapsed": false,
    "pycharm": {
     "name": "#%%\n"
    }
   }
  },
  {
   "cell_type": "markdown",
   "source": [
    "## Receiver Operating Characteristic (ROC)"
   ],
   "metadata": {
    "collapsed": false
   }
  },
  {
   "cell_type": "code",
   "execution_count": 11,
   "outputs": [
    {
     "ename": "NameError",
     "evalue": "name 'y_pred' is not defined",
     "output_type": "error",
     "traceback": [
      "\u001B[0;31m---------------------------------------------------------------------------\u001B[0m",
      "\u001B[0;31mNameError\u001B[0m                                 Traceback (most recent call last)",
      "\u001B[0;32m/var/folders/r3/hdngxsmd2vq391vqv6kg6f7w0000gn/T/ipykernel_67037/1210169819.py\u001B[0m in \u001B[0;36m<module>\u001B[0;34m\u001B[0m\n\u001B[1;32m      1\u001B[0m \u001B[0;32mfrom\u001B[0m \u001B[0mlibs\u001B[0m\u001B[0;34m.\u001B[0m\u001B[0msimpleplotter\u001B[0m \u001B[0;32mimport\u001B[0m \u001B[0msimple_roc\u001B[0m\u001B[0;34m\u001B[0m\u001B[0;34m\u001B[0m\u001B[0m\n\u001B[1;32m      2\u001B[0m \u001B[0;34m\u001B[0m\u001B[0m\n\u001B[0;32m----> 3\u001B[0;31m \u001B[0msimple_roc\u001B[0m\u001B[0;34m(\u001B[0m\u001B[0my_valid\u001B[0m\u001B[0;34m,\u001B[0m \u001B[0my_pred\u001B[0m\u001B[0;34m)\u001B[0m\u001B[0;34m\u001B[0m\u001B[0;34m\u001B[0m\u001B[0m\n\u001B[0m",
      "\u001B[0;31mNameError\u001B[0m: name 'y_pred' is not defined"
     ]
    }
   ],
   "source": [
    "from libs.simpleplotter import simple_roc\n",
    "\n",
    "simple_roc(y_valid, y_pred)"
   ],
   "metadata": {
    "collapsed": false,
    "pycharm": {
     "name": "#%%\n"
    }
   }
  },
  {
   "cell_type": "markdown",
   "source": [
    "## Confusion Matrix / Macierz pomyłek"
   ],
   "metadata": {
    "collapsed": false
   }
  },
  {
   "cell_type": "code",
   "execution_count": null,
   "outputs": [],
   "source": [
    "from libs.simpleplotter import simple_confusion_matrix\n",
    "conf_matrix = simple_confusion_matrix(y_valid, y_pred, model.classes_)"
   ],
   "metadata": {
    "collapsed": false,
    "pycharm": {
     "name": "#%%\n"
    }
   }
  },
  {
   "cell_type": "markdown",
   "source": [
    "## Which features became decision makers for the model?"
   ],
   "metadata": {
    "collapsed": false
   }
  },
  {
   "cell_type": "code",
   "execution_count": 27,
   "outputs": [
    {
     "data": {
      "text/plain": "<Figure size 432x288 with 1 Axes>",
      "image/png": "[encoded data removed]"
     },
     "metadata": {
      "needs_background": "light"
     },
     "output_type": "display_data"
    }
   ],
   "source": [
    "from libs.simpleplotter import feature_importance\n",
    "\n",
    "feature_importance(winner, X_train)"
   ],
   "metadata": {
    "collapsed": false,
    "pycharm": {
     "name": "#%%\n"
    }
   }
  },
  {
   "cell_type": "markdown",
   "source": [
    "# Generating Model Predictions For Test Data & Saving the results for Kaggle Competition"
   ],
   "metadata": {
    "collapsed": false
   }
  },
  {
   "cell_type": "code",
   "execution_count": null,
   "outputs": [],
   "source": [
    "# y_pred = winner.predict(X)\n",
    "# output = pd.DataFrame({'Id': Ids, 'Species': y_pred})\n",
    "#\n",
    "# print_scores(y, y_pred)\n",
    "# output.to_csv('./submission.csv', index=False)\n",
    "# SUBMISSION = pd.read_csv(\"./submission.csv\")\n",
    "# SUBMISSION"
   ],
   "metadata": {
    "collapsed": false,
    "pycharm": {
     "name": "#%%\n"
    }
   }
  }
 ],
 "metadata": {
  "kernelspec": {
   "display_name": "Python 3",
   "language": "python",
   "name": "python3"
  },
  "language_info": {
   "codemirror_mode": {
    "name": "ipython",
    "version": 2
   },
   "file_extension": ".py",
   "mimetype": "text/x-python",
   "name": "python",
   "nbconvert_exporter": "python",
   "pygments_lexer": "ipython2",
   "version": "2.7.6"
  }
 },
 "nbformat": 4,
 "nbformat_minor": 0
}