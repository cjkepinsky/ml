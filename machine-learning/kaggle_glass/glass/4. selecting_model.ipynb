{
 "cells": [
  {
   "cell_type": "code",
   "execution_count": 1,
   "metadata": {
    "collapsed": true
   },
   "outputs": [
    {
     "data": {
      "text/plain": "   Unnamed: 0        RI        Na        Mg        Al        Si         K  \\\n0           0  0.432836  0.437594  1.000000  0.252336  0.351786  0.009662   \n1           1  0.283582  0.475188  0.801782  0.333333  0.521429  0.077295   \n2           2  0.220808  0.421053  0.790646  0.389408  0.567857  0.062802   \n3           3  0.285777  0.372932  0.821826  0.311526  0.500000  0.091787   \n4           4  0.275241  0.381955  0.806236  0.295950  0.583929  0.088567   \n\n         Ca   Ba   Fe  \n0  0.308550  0.0  0.0  \n1  0.223048  0.0  0.0  \n2  0.218401  0.0  0.0  \n3  0.259294  0.0  0.0  \n4  0.245353  0.0  0.0  ",
      "text/html": "<div>\n<style scoped>\n    .dataframe tbody tr th:only-of-type {\n        vertical-align: middle;\n    }\n\n    .dataframe tbody tr th {\n        vertical-align: top;\n    }\n\n    .dataframe thead th {\n        text-align: right;\n    }\n</style>\n<table border=\"1\" class=\"dataframe\">\n  <thead>\n    <tr style=\"text-align: right;\">\n      <th></th>\n      <th>Unnamed: 0</th>\n      <th>RI</th>\n      <th>Na</th>\n      <th>Mg</th>\n      <th>Al</th>\n      <th>Si</th>\n      <th>K</th>\n      <th>Ca</th>\n      <th>Ba</th>\n      <th>Fe</th>\n    </tr>\n  </thead>\n  <tbody>\n    <tr>\n      <th>0</th>\n      <td>0</td>\n      <td>0.432836</td>\n      <td>0.437594</td>\n      <td>1.000000</td>\n      <td>0.252336</td>\n      <td>0.351786</td>\n      <td>0.009662</td>\n      <td>0.308550</td>\n      <td>0.0</td>\n      <td>0.0</td>\n    </tr>\n    <tr>\n      <th>1</th>\n      <td>1</td>\n      <td>0.283582</td>\n      <td>0.475188</td>\n      <td>0.801782</td>\n      <td>0.333333</td>\n      <td>0.521429</td>\n      <td>0.077295</td>\n      <td>0.223048</td>\n      <td>0.0</td>\n      <td>0.0</td>\n    </tr>\n    <tr>\n      <th>2</th>\n      <td>2</td>\n      <td>0.220808</td>\n      <td>0.421053</td>\n      <td>0.790646</td>\n      <td>0.389408</td>\n      <td>0.567857</td>\n      <td>0.062802</td>\n      <td>0.218401</td>\n      <td>0.0</td>\n      <td>0.0</td>\n    </tr>\n    <tr>\n      <th>3</th>\n      <td>3</td>\n      <td>0.285777</td>\n      <td>0.372932</td>\n      <td>0.821826</td>\n      <td>0.311526</td>\n      <td>0.500000</td>\n      <td>0.091787</td>\n      <td>0.259294</td>\n      <td>0.0</td>\n      <td>0.0</td>\n    </tr>\n    <tr>\n      <th>4</th>\n      <td>4</td>\n      <td>0.275241</td>\n      <td>0.381955</td>\n      <td>0.806236</td>\n      <td>0.295950</td>\n      <td>0.583929</td>\n      <td>0.088567</td>\n      <td>0.245353</td>\n      <td>0.0</td>\n      <td>0.0</td>\n    </tr>\n  </tbody>\n</table>\n</div>"
     },
     "execution_count": 1,
     "metadata": {},
     "output_type": "execute_result"
    }
   ],
   "source": [
    "from libs.simple_hyper_tuner import quick_gridsearchcv_overview\n",
    "from constants import source_path, target_name, x_path, y_path\n",
    "import pandas as pd # data processing, CSV file I/O (e.g. pd.read_csv)\n",
    "\n",
    "X = pd.read_csv(x_path)\n",
    "y = pd.read_csv(y_path)[target_name]\n",
    "\n",
    "X.head()"
   ]
  },
  {
   "cell_type": "code",
   "execution_count": 2,
   "outputs": [
    {
     "data": {
      "text/plain": "0    1\n1    1\n2    1\n3    1\n4    1\nName: Type, dtype: int64"
     },
     "execution_count": 2,
     "metadata": {},
     "output_type": "execute_result"
    }
   ],
   "source": [
    "y.head()"
   ],
   "metadata": {
    "collapsed": false,
    "pycharm": {
     "name": "#%%\n"
    }
   }
  },
  {
   "cell_type": "code",
   "execution_count": 3,
   "outputs": [
    {
     "name": "stdout",
     "output_type": "stream",
     "text": [
      "> Model: GaussianNB\n",
      "- F1 score:  0.7902887809864554\n",
      "- cv:  2\n",
      "\n",
      "> Model: KNeighborsClassifier\n",
      "- F1 score:  1.0\n",
      "- cv:  2\n",
      "\n",
      "> Model: LinearSVC\n"
     ]
    },
    {
     "name": "stderr",
     "output_type": "stream",
     "text": [
      "/Users/kkepins-macwro/opt/anaconda3/lib/python3.9/site-packages/sklearn/svm/_base.py:1206: ConvergenceWarning: Liblinear failed to converge, increase the number of iterations.\n",
      "  warnings.warn(\n",
      "/Users/kkepins-macwro/opt/anaconda3/lib/python3.9/site-packages/sklearn/svm/_base.py:1206: ConvergenceWarning: Liblinear failed to converge, increase the number of iterations.\n",
      "  warnings.warn(\n",
      "/Users/kkepins-macwro/opt/anaconda3/lib/python3.9/site-packages/sklearn/svm/_base.py:1206: ConvergenceWarning: Liblinear failed to converge, increase the number of iterations.\n",
      "  warnings.warn(\n"
     ]
    },
    {
     "name": "stdout",
     "output_type": "stream",
     "text": [
      "- F1 score:  0.6361501838646987\n",
      "- cv:  2\n",
      "\n",
      "> Model: SVC\n",
      "- F1 score:  0.8848343359971267\n",
      "- cv:  2\n",
      "\n",
      "> Model: LogisticRegression\n",
      "- F1 score:  0.7994186046511628\n",
      "- cv:  2\n",
      "\n",
      "> Model: DecisionTreeClassifier\n",
      "- F1 score:  1.0\n",
      "- cv:  2\n",
      "\n",
      "> Model: RandomForestClassifier\n",
      "- F1 score:  0.9767441860465116\n",
      "- cv:  2\n",
      "\n",
      "> Model: XGBClassifier\n"
     ]
    },
    {
     "name": "stderr",
     "output_type": "stream",
     "text": [
      "/Users/kkepins-macwro/opt/anaconda3/lib/python3.9/site-packages/xgboost/sklearn.py:1224: UserWarning: The use of label encoder in XGBClassifier is deprecated and will be removed in a future release. To remove this warning, do the following: 1) Pass option use_label_encoder=False when constructing XGBClassifier object; and 2) Encode your labels (y) as integers starting with 0, i.e. 0, 1, 2, ..., [num_class - 1].\n",
      "  warnings.warn(label_encoder_deprecation_msg, UserWarning)\n",
      "/Users/kkepins-macwro/opt/anaconda3/lib/python3.9/site-packages/xgboost/sklearn.py:1224: UserWarning: The use of label encoder in XGBClassifier is deprecated and will be removed in a future release. To remove this warning, do the following: 1) Pass option use_label_encoder=False when constructing XGBClassifier object; and 2) Encode your labels (y) as integers starting with 0, i.e. 0, 1, 2, ..., [num_class - 1].\n",
      "  warnings.warn(label_encoder_deprecation_msg, UserWarning)\n",
      "/Users/kkepins-macwro/opt/anaconda3/lib/python3.9/site-packages/xgboost/sklearn.py:1224: UserWarning: The use of label encoder in XGBClassifier is deprecated and will be removed in a future release. To remove this warning, do the following: 1) Pass option use_label_encoder=False when constructing XGBClassifier object; and 2) Encode your labels (y) as integers starting with 0, i.e. 0, 1, 2, ..., [num_class - 1].\n",
      "  warnings.warn(label_encoder_deprecation_msg, UserWarning)\n"
     ]
    },
    {
     "name": "stdout",
     "output_type": "stream",
     "text": [
      "[23:16:08] WARNING: ../src/learner.cc:1115: Starting in XGBoost 1.3.0, the default evaluation metric used with the objective 'multi:softprob' was changed from 'merror' to 'mlogloss'. Explicitly set eval_metric if you'd like to restore the old behavior.\n",
      "- F1 score:  0.9313881265347392\n",
      "- cv:  2\n",
      "\n",
      "> Model: GradientBoostingClassifier\n",
      "- F1 score:  1.0\n",
      "- cv:  2\n",
      "\n",
      "Done.\n"
     ]
    }
   ],
   "source": [
    "winner = quick_gridsearchcv_overview(X, y, [2], [0.8], [50], 0)"
   ],
   "metadata": {
    "collapsed": false,
    "pycharm": {
     "name": "#%%\n"
    }
   }
  }
 ],
 "metadata": {
  "kernelspec": {
   "display_name": "Python 3",
   "language": "python",
   "name": "python3"
  },
  "language_info": {
   "codemirror_mode": {
    "name": "ipython",
    "version": 2
   },
   "file_extension": ".py",
   "mimetype": "text/x-python",
   "name": "python",
   "nbconvert_exporter": "python",
   "pygments_lexer": "ipython2",
   "version": "2.7.6"
  }
 },
 "nbformat": 4,
 "nbformat_minor": 0
}