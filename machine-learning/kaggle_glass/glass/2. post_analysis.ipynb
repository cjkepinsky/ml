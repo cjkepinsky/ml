{
 "cells": [
  {
   "cell_type": "code",
   "execution_count": 1,
   "metadata": {
    "collapsed": true
   },
   "outputs": [
    {
     "data": {
      "text/plain": "   Id        RI        Na        Mg        Al        Si         K        Ca  \\\n0   0  0.432836  0.437594  1.000000  0.252336  0.351786  0.009662  0.308550   \n1   1  0.283582  0.475188  0.801782  0.333333  0.521429  0.077295  0.223048   \n2   2  0.220808  0.421053  0.790646  0.389408  0.567857  0.062802  0.218401   \n3   3  0.285777  0.372932  0.821826  0.311526  0.500000  0.091787  0.259294   \n4   4  0.275241  0.381955  0.806236  0.295950  0.583929  0.088567  0.245353   \n\n    Ba   Fe  \n0  0.0  0.0  \n1  0.0  0.0  \n2  0.0  0.0  \n3  0.0  0.0  \n4  0.0  0.0  ",
      "text/html": "<div>\n<style scoped>\n    .dataframe tbody tr th:only-of-type {\n        vertical-align: middle;\n    }\n\n    .dataframe tbody tr th {\n        vertical-align: top;\n    }\n\n    .dataframe thead th {\n        text-align: right;\n    }\n</style>\n<table border=\"1\" class=\"dataframe\">\n  <thead>\n    <tr style=\"text-align: right;\">\n      <th></th>\n      <th>Id</th>\n      <th>RI</th>\n      <th>Na</th>\n      <th>Mg</th>\n      <th>Al</th>\n      <th>Si</th>\n      <th>K</th>\n      <th>Ca</th>\n      <th>Ba</th>\n      <th>Fe</th>\n    </tr>\n  </thead>\n  <tbody>\n    <tr>\n      <th>0</th>\n      <td>0</td>\n      <td>0.432836</td>\n      <td>0.437594</td>\n      <td>1.000000</td>\n      <td>0.252336</td>\n      <td>0.351786</td>\n      <td>0.009662</td>\n      <td>0.308550</td>\n      <td>0.0</td>\n      <td>0.0</td>\n    </tr>\n    <tr>\n      <th>1</th>\n      <td>1</td>\n      <td>0.283582</td>\n      <td>0.475188</td>\n      <td>0.801782</td>\n      <td>0.333333</td>\n      <td>0.521429</td>\n      <td>0.077295</td>\n      <td>0.223048</td>\n      <td>0.0</td>\n      <td>0.0</td>\n    </tr>\n    <tr>\n      <th>2</th>\n      <td>2</td>\n      <td>0.220808</td>\n      <td>0.421053</td>\n      <td>0.790646</td>\n      <td>0.389408</td>\n      <td>0.567857</td>\n      <td>0.062802</td>\n      <td>0.218401</td>\n      <td>0.0</td>\n      <td>0.0</td>\n    </tr>\n    <tr>\n      <th>3</th>\n      <td>3</td>\n      <td>0.285777</td>\n      <td>0.372932</td>\n      <td>0.821826</td>\n      <td>0.311526</td>\n      <td>0.500000</td>\n      <td>0.091787</td>\n      <td>0.259294</td>\n      <td>0.0</td>\n      <td>0.0</td>\n    </tr>\n    <tr>\n      <th>4</th>\n      <td>4</td>\n      <td>0.275241</td>\n      <td>0.381955</td>\n      <td>0.806236</td>\n      <td>0.295950</td>\n      <td>0.583929</td>\n      <td>0.088567</td>\n      <td>0.245353</td>\n      <td>0.0</td>\n      <td>0.0</td>\n    </tr>\n  </tbody>\n</table>\n</div>"
     },
     "execution_count": 1,
     "metadata": {},
     "output_type": "execute_result"
    }
   ],
   "source": [
    "from libs.simple_analyzer import print_simple_correlations\n",
    "from constants import target_name, x_path, y_path\n",
    "import pandas as pd # data processing, CSV file I/O (e.g. pd.read_csv)\n",
    "\n",
    "X = pd.read_csv(x_path)\n",
    "y = pd.read_csv(y_path)[target_name]\n",
    "\n",
    "# from libs.simple_processing import remove_columns\n",
    "# X = remove_columns(X, [\"Unnamed\"])\n",
    "\n",
    "X.head()"
   ]
  },
  {
   "cell_type": "code",
   "execution_count": 2,
   "outputs": [
    {
     "data": {
      "text/plain": "0    1\n1    1\n2    1\n3    1\n4    1\nName: Type, dtype: int64"
     },
     "execution_count": 2,
     "metadata": {},
     "output_type": "execute_result"
    }
   ],
   "source": [
    "y.head()"
   ],
   "metadata": {
    "collapsed": false,
    "pycharm": {
     "name": "#%%\n"
    }
   }
  },
  {
   "cell_type": "code",
   "execution_count": 3,
   "outputs": [
    {
     "name": "stdout",
     "output_type": "stream",
     "text": [
      "Correlations >= 0.3:\n",
      "\n",
      "Unnamed: 0:\n",
      "\n",
      "RI:\n",
      "\n",
      "Na:\n",
      " - Unnamed: 0: 0.38\n",
      "\n",
      "Mg:\n",
      " - Unnamed: 0: -0.65\n",
      "\n",
      "Al:\n",
      " - Unnamed: 0: 0.49\n",
      " - RI: -0.41\n",
      " - Mg: -0.48\n",
      "\n",
      "Si:\n",
      " - RI: -0.54\n",
      "\n",
      "K:\n",
      " - Al: 0.33\n",
      "\n",
      "Ca:\n",
      " - RI: 0.81\n",
      " - Mg: -0.44\n",
      " - K: -0.32\n",
      "\n",
      "Ba:\n",
      " - Unnamed: 0: 0.45\n",
      " - Na: 0.33\n",
      " - Mg: -0.49\n",
      " - Al: 0.48\n",
      "\n",
      "Fe:\n",
      "Done\n"
     ]
    }
   ],
   "source": [
    "print_simple_correlations(X)"
   ],
   "metadata": {
    "collapsed": false,
    "pycharm": {
     "name": "#%%\n"
    }
   }
  }
 ],
 "metadata": {
  "kernelspec": {
   "display_name": "Python 3",
   "language": "python",
   "name": "python3"
  },
  "language_info": {
   "codemirror_mode": {
    "name": "ipython",
    "version": 2
   },
   "file_extension": ".py",
   "mimetype": "text/x-python",
   "name": "python",
   "nbconvert_exporter": "python",
   "pygments_lexer": "ipython2",
   "version": "2.7.6"
  }
 },
 "nbformat": 4,
 "nbformat_minor": 0
}