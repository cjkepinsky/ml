{
 "cells": [
  {
   "cell_type": "code",
   "execution_count": 7,
   "metadata": {
    "collapsed": true
   },
   "outputs": [
    {
     "data": {
      "text/plain": "         RI        Na        Mg        Al        Si         K        Ca   Ba  \\\n0  0.432836  0.437594  1.000000  0.252336  0.351786  0.009662  0.308550  0.0   \n1  0.283582  0.475188  0.801782  0.333333  0.521429  0.077295  0.223048  0.0   \n2  0.220808  0.421053  0.790646  0.389408  0.567857  0.062802  0.218401  0.0   \n3  0.285777  0.372932  0.821826  0.311526  0.500000  0.091787  0.259294  0.0   \n4  0.275241  0.381955  0.806236  0.295950  0.583929  0.088567  0.245353  0.0   \n\n    Fe  \n0  0.0  \n1  0.0  \n2  0.0  \n3  0.0  \n4  0.0  ",
      "text/html": "<div>\n<style scoped>\n    .dataframe tbody tr th:only-of-type {\n        vertical-align: middle;\n    }\n\n    .dataframe tbody tr th {\n        vertical-align: top;\n    }\n\n    .dataframe thead th {\n        text-align: right;\n    }\n</style>\n<table border=\"1\" class=\"dataframe\">\n  <thead>\n    <tr style=\"text-align: right;\">\n      <th></th>\n      <th>RI</th>\n      <th>Na</th>\n      <th>Mg</th>\n      <th>Al</th>\n      <th>Si</th>\n      <th>K</th>\n      <th>Ca</th>\n      <th>Ba</th>\n      <th>Fe</th>\n    </tr>\n  </thead>\n  <tbody>\n    <tr>\n      <th>0</th>\n      <td>0.432836</td>\n      <td>0.437594</td>\n      <td>1.000000</td>\n      <td>0.252336</td>\n      <td>0.351786</td>\n      <td>0.009662</td>\n      <td>0.308550</td>\n      <td>0.0</td>\n      <td>0.0</td>\n    </tr>\n    <tr>\n      <th>1</th>\n      <td>0.283582</td>\n      <td>0.475188</td>\n      <td>0.801782</td>\n      <td>0.333333</td>\n      <td>0.521429</td>\n      <td>0.077295</td>\n      <td>0.223048</td>\n      <td>0.0</td>\n      <td>0.0</td>\n    </tr>\n    <tr>\n      <th>2</th>\n      <td>0.220808</td>\n      <td>0.421053</td>\n      <td>0.790646</td>\n      <td>0.389408</td>\n      <td>0.567857</td>\n      <td>0.062802</td>\n      <td>0.218401</td>\n      <td>0.0</td>\n      <td>0.0</td>\n    </tr>\n    <tr>\n      <th>3</th>\n      <td>0.285777</td>\n      <td>0.372932</td>\n      <td>0.821826</td>\n      <td>0.311526</td>\n      <td>0.500000</td>\n      <td>0.091787</td>\n      <td>0.259294</td>\n      <td>0.0</td>\n      <td>0.0</td>\n    </tr>\n    <tr>\n      <th>4</th>\n      <td>0.275241</td>\n      <td>0.381955</td>\n      <td>0.806236</td>\n      <td>0.295950</td>\n      <td>0.583929</td>\n      <td>0.088567</td>\n      <td>0.245353</td>\n      <td>0.0</td>\n      <td>0.0</td>\n    </tr>\n  </tbody>\n</table>\n</div>"
     },
     "execution_count": 7,
     "metadata": {},
     "output_type": "execute_result"
    }
   ],
   "source": [
    "# Let's run the preprocessing on both train and test data\n",
    "from libs.simple_processing import normalize, separate_target, dropna_rows, remove_columns\n",
    "import pandas as pd # data processing, CSV file I/O (e.g. pd.read_csv)\n",
    "from constants import source_path, target_name, x_path, y_path\n",
    "\n",
    "DATA = pd.read_csv(source_path)\n",
    "\n",
    "# for the need of Receiver Operating Characteristic (ROC) diagram we need to convert strings to ints\n",
    "\n",
    "X, y = separate_target(DATA, target_name)\n",
    "# X = dropna_rows(X, X.columns)\n",
    "\n",
    "# Data Normalization\n",
    "X = normalize(X)\n",
    "\n",
    "# Data Categorization\n",
    "# from libs.simple_processing import categorize\n",
    "# X_train, X_valid = categorize(X_train, X_valid)\n",
    "# print(\"Done\")\n",
    "\n",
    "X.head()"
   ]
  },
  {
   "cell_type": "code",
   "execution_count": 9,
   "outputs": [
    {
     "data": {
      "text/plain": "0    1\n1    1\n2    1\n3    1\n4    1\nName: Type, dtype: int64"
     },
     "execution_count": 9,
     "metadata": {},
     "output_type": "execute_result"
    }
   ],
   "source": [
    "# y = y[target_name]\n",
    "y.head()\n"
   ],
   "metadata": {
    "collapsed": false,
    "pycharm": {
     "name": "#%%\n"
    }
   }
  },
  {
   "cell_type": "code",
   "execution_count": 10,
   "outputs": [
    {
     "name": "stdout",
     "output_type": "stream",
     "text": [
      "Done\n"
     ]
    }
   ],
   "source": [
    "X.to_csv(x_path)\n",
    "y.to_csv(y_path)\n",
    "\n",
    "print(\"Done\")"
   ],
   "metadata": {
    "collapsed": false,
    "pycharm": {
     "name": "#%%\n"
    }
   }
  }
 ],
 "metadata": {
  "kernelspec": {
   "display_name": "Python 3",
   "language": "python",
   "name": "python3"
  },
  "language_info": {
   "codemirror_mode": {
    "name": "ipython",
    "version": 2
   },
   "file_extension": ".py",
   "mimetype": "text/x-python",
   "name": "python",
   "nbconvert_exporter": "python",
   "pygments_lexer": "ipython2",
   "version": "2.7.6"
  }
 },
 "nbformat": 4,
 "nbformat_minor": 0
}