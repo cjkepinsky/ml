{
 "cells": [
  {
   "cell_type": "code",
   "execution_count": 33,
   "metadata": {
    "collapsed": true,
    "pycharm": {
     "name": "#%%\n"
    }
   },
   "outputs": [
    {
     "data": {
      "text/plain": "   SepalLengthCm  SepalWidthCm  PetalLengthCm  PetalWidthCm\n0      -0.900681      1.032057      -1.341272     -1.312977\n1      -1.143017     -0.124958      -1.341272     -1.312977\n2      -1.385353      0.337848      -1.398138     -1.312977\n3      -1.506521      0.106445      -1.284407     -1.312977\n4      -1.021849      1.263460      -1.341272     -1.312977",
      "text/html": "<div><div id=ebfaddca-ba51-467e-9f61-8a2e678c0595 style=\"display:none; background-color:#9D6CFF; color:white; width:200px; height:30px; padding-left:5px; border-radius:4px; flex-direction:row; justify-content:space-around; align-items:center;\" onmouseover=\"this.style.backgroundColor='#BA9BF8'\" onmouseout=\"this.style.backgroundColor='#9D6CFF'\" onclick=\"window.commands?.execute('create-mitosheet-from-dataframe-output');\">See Full Dataframe in Mito</div> <script> if (window.commands?.hasCommand('create-mitosheet-from-dataframe-output')) document.getElementById('ebfaddca-ba51-467e-9f61-8a2e678c0595').style.display = 'flex' </script> <table border=\"1\" class=\"dataframe\">\n  <thead>\n    <tr style=\"text-align: right;\">\n      <th></th>\n      <th>SepalLengthCm</th>\n      <th>SepalWidthCm</th>\n      <th>PetalLengthCm</th>\n      <th>PetalWidthCm</th>\n    </tr>\n  </thead>\n  <tbody>\n    <tr>\n      <th>0</th>\n      <td>-0.900681</td>\n      <td>1.032057</td>\n      <td>-1.341272</td>\n      <td>-1.312977</td>\n    </tr>\n    <tr>\n      <th>1</th>\n      <td>-1.143017</td>\n      <td>-0.124958</td>\n      <td>-1.341272</td>\n      <td>-1.312977</td>\n    </tr>\n    <tr>\n      <th>2</th>\n      <td>-1.385353</td>\n      <td>0.337848</td>\n      <td>-1.398138</td>\n      <td>-1.312977</td>\n    </tr>\n    <tr>\n      <th>3</th>\n      <td>-1.506521</td>\n      <td>0.106445</td>\n      <td>-1.284407</td>\n      <td>-1.312977</td>\n    </tr>\n    <tr>\n      <th>4</th>\n      <td>-1.021849</td>\n      <td>1.263460</td>\n      <td>-1.341272</td>\n      <td>-1.312977</td>\n    </tr>\n  </tbody>\n</table></div>"
     },
     "execution_count": 33,
     "metadata": {},
     "output_type": "execute_result"
    }
   ],
   "source": [
    "from constants import source_path, target_name, x_path, y_path\n",
    "import pandas as pd\n",
    "from tensorflow.keras import layers\n",
    "\n",
    "X = pd.read_csv(x_path)\n",
    "y = pd.read_csv(y_path)\n",
    "\n",
    "X.head()\n"
   ]
  },
  {
   "cell_type": "code",
   "execution_count": 8,
   "outputs": [
    {
     "data": {
      "text/plain": "    Species\n0 -1.224745\n1 -1.224745\n2 -1.224745\n3 -1.224745\n4 -1.224745",
      "text/html": "<div><div id=e6b72893-a1d0-4b79-9701-1ec984fc92ce style=\"display:none; background-color:#9D6CFF; color:white; width:200px; height:30px; padding-left:5px; border-radius:4px; flex-direction:row; justify-content:space-around; align-items:center;\" onmouseover=\"this.style.backgroundColor='#BA9BF8'\" onmouseout=\"this.style.backgroundColor='#9D6CFF'\" onclick=\"window.commands?.execute('create-mitosheet-from-dataframe-output');\">See Full Dataframe in Mito</div> <script> if (window.commands?.hasCommand('create-mitosheet-from-dataframe-output')) document.getElementById('e6b72893-a1d0-4b79-9701-1ec984fc92ce').style.display = 'flex' </script> <table border=\"1\" class=\"dataframe\">\n  <thead>\n    <tr style=\"text-align: right;\">\n      <th></th>\n      <th>Species</th>\n    </tr>\n  </thead>\n  <tbody>\n    <tr>\n      <th>0</th>\n      <td>-1.224745</td>\n    </tr>\n    <tr>\n      <th>1</th>\n      <td>-1.224745</td>\n    </tr>\n    <tr>\n      <th>2</th>\n      <td>-1.224745</td>\n    </tr>\n    <tr>\n      <th>3</th>\n      <td>-1.224745</td>\n    </tr>\n    <tr>\n      <th>4</th>\n      <td>-1.224745</td>\n    </tr>\n  </tbody>\n</table></div>"
     },
     "execution_count": 8,
     "metadata": {},
     "output_type": "execute_result"
    }
   ],
   "source": [
    "y.head()\n"
   ],
   "metadata": {
    "collapsed": false,
    "pycharm": {
     "name": "#%%\n"
    }
   }
  },
  {
   "cell_type": "code",
   "execution_count": 34,
   "outputs": [
    {
     "name": "stdout",
     "output_type": "stream",
     "text": [
      "[4]\n",
      "(90, 4)\n"
     ]
    }
   ],
   "source": [
    "from sklearn.model_selection import train_test_split\n",
    "from tensorflow.keras.callbacks import EarlyStopping\n",
    "\n",
    "# patience below 7 cuts to early\n",
    "early_stopping = EarlyStopping(\n",
    "    min_delta=0.0001, # minimium amount of change to count as an improvement\n",
    "    patience=7, # how many epochs to wait before stopping\n",
    "    restore_best_weights=True,\n",
    ")\n",
    "X_train, X_valid, y_train, y_valid = train_test_split(X, y, train_size=0.6, random_state=0)\n",
    "\n",
    "input_shape = [X_train.shape[1]]\n",
    "print(input_shape)\n",
    "print(X_train.shape)"
   ],
   "metadata": {
    "collapsed": false,
    "pycharm": {
     "name": "#%%\n"
    }
   }
  },
  {
   "cell_type": "code",
   "execution_count": 36,
   "outputs": [
    {
     "name": "stdout",
     "output_type": "stream",
     "text": [
      "--- Multiplier: 1\n",
      "Epoch 1/50\n"
     ]
    },
    {
     "name": "stderr",
     "output_type": "stream",
     "text": [
      "2022-09-19 10:56:37.750107: I tensorflow/core/grappler/optimizers/custom_graph_optimizer_registry.cc:113] Plugin optimizer for device_type GPU is enabled.\n"
     ]
    },
    {
     "name": "stdout",
     "output_type": "stream",
     "text": [
      "1/1 [==============================] - 1s 722ms/step - loss: 1.0802 - accuracy: 0.3000 - val_loss: 2.9272 - val_accuracy: 0.3833\n",
      "Epoch 2/50\n",
      "1/1 [==============================] - 0s 44ms/step - loss: 2.6058 - accuracy: 0.3000 - val_loss: 1.1697 - val_accuracy: 0.3833\n",
      "Epoch 3/50\n",
      "1/1 [==============================] - 0s 35ms/step - loss: 1.1526 - accuracy: 0.3000 - val_loss: 1.0556 - val_accuracy: 0.1500\n",
      "Epoch 4/50\n",
      "1/1 [==============================] - ETA: 0s - loss: 1.3450 - accuracy: 0.1778"
     ]
    },
    {
     "name": "stderr",
     "output_type": "stream",
     "text": [
      "2022-09-19 10:56:38.126741: I tensorflow/core/grappler/optimizers/custom_graph_optimizer_registry.cc:113] Plugin optimizer for device_type GPU is enabled.\n"
     ]
    },
    {
     "name": "stdout",
     "output_type": "stream",
     "text": [
      "1/1 [==============================] - 0s 50ms/step - loss: 1.3450 - accuracy: 0.1778 - val_loss: 1.4355 - val_accuracy: 0.0000e+00\n",
      "Epoch 5/50\n",
      "1/1 [==============================] - 0s 37ms/step - loss: 1.8374 - accuracy: 0.0000e+00 - val_loss: 1.2129 - val_accuracy: 0.0000e+00\n",
      "Epoch 6/50\n",
      "1/1 [==============================] - 0s 43ms/step - loss: 1.5568 - accuracy: 0.0000e+00 - val_loss: 0.9102 - val_accuracy: 0.3833\n",
      "Epoch 7/50\n",
      "1/1 [==============================] - 0s 52ms/step - loss: 1.1155 - accuracy: 0.3000 - val_loss: 0.9706 - val_accuracy: 0.3833\n",
      "Epoch 8/50\n",
      "1/1 [==============================] - 0s 31ms/step - loss: 1.0216 - accuracy: 0.3000 - val_loss: 1.2961 - val_accuracy: 0.3833\n",
      "Epoch 9/50\n",
      "1/1 [==============================] - 0s 30ms/step - loss: 1.2306 - accuracy: 0.3000 - val_loss: 1.4931 - val_accuracy: 0.3833\n",
      "Epoch 10/50\n",
      "1/1 [==============================] - 0s 40ms/step - loss: 1.3805 - accuracy: 0.3000 - val_loss: 1.3891 - val_accuracy: 0.3833\n",
      "Epoch 11/50\n",
      "1/1 [==============================] - 0s 27ms/step - loss: 1.2974 - accuracy: 0.3000 - val_loss: 1.1237 - val_accuracy: 0.3833\n",
      "Epoch 12/50\n",
      "1/1 [==============================] - 0s 33ms/step - loss: 1.1007 - accuracy: 0.3000 - val_loss: 0.9115 - val_accuracy: 0.3833\n",
      "Epoch 13/50\n",
      "1/1 [==============================] - 0s 44ms/step - loss: 0.9787 - accuracy: 0.3000 - val_loss: 0.8526 - val_accuracy: 0.3833\n",
      "Epoch 14/50\n",
      "1/1 [==============================] - 0s 34ms/step - loss: 1.0051 - accuracy: 0.3000 - val_loss: 0.8925 - val_accuracy: 0.3833\n",
      "Epoch 15/50\n",
      "1/1 [==============================] - 0s 34ms/step - loss: 1.1034 - accuracy: 0.3000 - val_loss: 0.9193 - val_accuracy: 0.3833\n",
      "Epoch 16/50\n",
      "1/1 [==============================] - 0s 38ms/step - loss: 1.1497 - accuracy: 0.3000 - val_loss: 0.8867 - val_accuracy: 0.3833\n",
      "Epoch 17/50\n",
      "1/1 [==============================] - 0s 40ms/step - loss: 1.0980 - accuracy: 0.3000 - val_loss: 0.8367 - val_accuracy: 0.3833\n",
      "Epoch 18/50\n",
      "1/1 [==============================] - 0s 37ms/step - loss: 1.0001 - accuracy: 0.3000 - val_loss: 0.8342 - val_accuracy: 0.3833\n",
      "Epoch 19/50\n",
      "1/1 [==============================] - 0s 49ms/step - loss: 0.9358 - accuracy: 0.3000 - val_loss: 0.8985 - val_accuracy: 0.3833\n",
      "Epoch 20/50\n",
      "1/1 [==============================] - 0s 33ms/step - loss: 0.9403 - accuracy: 0.3000 - val_loss: 0.9858 - val_accuracy: 0.3833\n",
      "Epoch 21/50\n",
      "1/1 [==============================] - 0s 39ms/step - loss: 0.9836 - accuracy: 0.3000 - val_loss: 1.0301 - val_accuracy: 0.3833\n",
      "Epoch 22/50\n",
      "1/1 [==============================] - 0s 33ms/step - loss: 1.0085 - accuracy: 0.3000 - val_loss: 1.0000 - val_accuracy: 0.3833\n",
      "Epoch 23/50\n",
      "1/1 [==============================] - 0s 28ms/step - loss: 0.9850 - accuracy: 0.3000 - val_loss: 0.9178 - val_accuracy: 0.3833\n",
      "Epoch 24/50\n",
      "1/1 [==============================] - 0s 30ms/step - loss: 0.9307 - accuracy: 0.3000 - val_loss: 0.8333 - val_accuracy: 0.3833\n",
      "Epoch 25/50\n",
      "1/1 [==============================] - 0s 29ms/step - loss: 0.8860 - accuracy: 0.3000 - val_loss: 0.7826 - val_accuracy: 0.3833\n",
      "Epoch 26/50\n",
      "1/1 [==============================] - 0s 28ms/step - loss: 0.8758 - accuracy: 0.3000 - val_loss: 0.7667 - val_accuracy: 0.3833\n",
      "Epoch 27/50\n",
      "1/1 [==============================] - 0s 42ms/step - loss: 0.8910 - accuracy: 0.3000 - val_loss: 0.7629 - val_accuracy: 0.3833\n",
      "Epoch 28/50\n",
      "1/1 [==============================] - 0s 27ms/step - loss: 0.9015 - accuracy: 0.3000 - val_loss: 0.7525 - val_accuracy: 0.3833\n",
      "Epoch 29/50\n",
      "1/1 [==============================] - 0s 29ms/step - loss: 0.8861 - accuracy: 0.3000 - val_loss: 0.7382 - val_accuracy: 0.3833\n",
      "Epoch 30/50\n",
      "1/1 [==============================] - 0s 29ms/step - loss: 0.8502 - accuracy: 0.3000 - val_loss: 0.7360 - val_accuracy: 0.3833\n",
      "Epoch 31/50\n",
      "1/1 [==============================] - 0s 30ms/step - loss: 0.8163 - accuracy: 0.3000 - val_loss: 0.7541 - val_accuracy: 0.3833\n",
      "Epoch 32/50\n",
      "1/1 [==============================] - 0s 32ms/step - loss: 0.8011 - accuracy: 0.3000 - val_loss: 0.7808 - val_accuracy: 0.3833\n",
      "Epoch 33/50\n",
      "1/1 [==============================] - 0s 39ms/step - loss: 0.8009 - accuracy: 0.3000 - val_loss: 0.7927 - val_accuracy: 0.3833\n",
      "Epoch 34/50\n",
      "1/1 [==============================] - 0s 56ms/step - loss: 0.7982 - accuracy: 0.3000 - val_loss: 0.7744 - val_accuracy: 0.3833\n",
      "Epoch 35/50\n",
      "1/1 [==============================] - 0s 39ms/step - loss: 0.7798 - accuracy: 0.3000 - val_loss: 0.7311 - val_accuracy: 0.3833\n",
      "Epoch 36/50\n",
      "1/1 [==============================] - 0s 39ms/step - loss: 0.7487 - accuracy: 0.3000 - val_loss: 0.6823 - val_accuracy: 0.3833\n",
      "Epoch 37/50\n",
      "1/1 [==============================] - 0s 34ms/step - loss: 0.7193 - accuracy: 0.3000 - val_loss: 0.6445 - val_accuracy: 0.3833\n",
      "Epoch 38/50\n",
      "1/1 [==============================] - 0s 29ms/step - loss: 0.7010 - accuracy: 0.3000 - val_loss: 0.6203 - val_accuracy: 0.3833\n",
      "Epoch 39/50\n",
      "1/1 [==============================] - 0s 30ms/step - loss: 0.6901 - accuracy: 0.3000 - val_loss: 0.6021 - val_accuracy: 0.3833\n",
      "Epoch 40/50\n",
      "1/1 [==============================] - 0s 28ms/step - loss: 0.6745 - accuracy: 0.3000 - val_loss: 0.5841 - val_accuracy: 0.3833\n",
      "Epoch 41/50\n",
      "1/1 [==============================] - 0s 37ms/step - loss: 0.6477 - accuracy: 0.3000 - val_loss: 0.5691 - val_accuracy: 0.3833\n",
      "Epoch 42/50\n",
      "1/1 [==============================] - 0s 34ms/step - loss: 0.6150 - accuracy: 0.3000 - val_loss: 0.5616 - val_accuracy: 0.3833\n",
      "Epoch 43/50\n",
      "1/1 [==============================] - 0s 27ms/step - loss: 0.5863 - accuracy: 0.3000 - val_loss: 0.5588 - val_accuracy: 0.3833\n",
      "Epoch 44/50\n",
      "1/1 [==============================] - 0s 30ms/step - loss: 0.5644 - accuracy: 0.3000 - val_loss: 0.5493 - val_accuracy: 0.3833\n",
      "Epoch 45/50\n",
      "1/1 [==============================] - 0s 36ms/step - loss: 0.5428 - accuracy: 0.3000 - val_loss: 0.5238 - val_accuracy: 0.3833\n",
      "Epoch 46/50\n",
      "1/1 [==============================] - 0s 31ms/step - loss: 0.5141 - accuracy: 0.3000 - val_loss: 0.4844 - val_accuracy: 0.3833\n",
      "Epoch 47/50\n",
      "1/1 [==============================] - 0s 33ms/step - loss: 0.4791 - accuracy: 0.3000 - val_loss: 0.4424 - val_accuracy: 0.3833\n",
      "Epoch 48/50\n",
      "1/1 [==============================] - 0s 28ms/step - loss: 0.4453 - accuracy: 0.3000 - val_loss: 0.4068 - val_accuracy: 0.3833\n",
      "Epoch 49/50\n",
      "1/1 [==============================] - 0s 39ms/step - loss: 0.4166 - accuracy: 0.3000 - val_loss: 0.3780 - val_accuracy: 0.3833\n",
      "Epoch 50/50\n",
      "1/1 [==============================] - 0s 31ms/step - loss: 0.3891 - accuracy: 0.3000 - val_loss: 0.3516 - val_accuracy: 0.3833\n",
      "Minimum Validation Loss: 0.3516\n",
      "--- Multiplier: 2\n",
      "Epoch 1/50\n",
      "1/1 [==============================] - ETA: 0s - loss: 1.9247 - accuracy: 0.0000e+00"
     ]
    },
    {
     "name": "stderr",
     "output_type": "stream",
     "text": [
      "2022-09-19 10:56:40.472586: I tensorflow/core/grappler/optimizers/custom_graph_optimizer_registry.cc:113] Plugin optimizer for device_type GPU is enabled.\n"
     ]
    },
    {
     "name": "stdout",
     "output_type": "stream",
     "text": [
      "1/1 [==============================] - 1s 523ms/step - loss: 1.9247 - accuracy: 0.0000e+00 - val_loss: 11.3171 - val_accuracy: 0.3833\n",
      "Epoch 2/50\n",
      "1/1 [==============================] - 0s 26ms/step - loss: 10.3786 - accuracy: 0.3000 - val_loss: 2.5609 - val_accuracy: 0.3833\n",
      "Epoch 3/50\n",
      "1/1 [==============================] - 0s 74ms/step - loss: 2.2839 - accuracy: 0.3000 - val_loss: 1.6719 - val_accuracy: 0.0000e+00\n",
      "Epoch 4/50\n",
      "1/1 [==============================] - ETA: 0s - loss: 2.1269 - accuracy: 0.0000e+00"
     ]
    },
    {
     "name": "stderr",
     "output_type": "stream",
     "text": [
      "2022-09-19 10:56:40.682322: I tensorflow/core/grappler/optimizers/custom_graph_optimizer_registry.cc:113] Plugin optimizer for device_type GPU is enabled.\n"
     ]
    },
    {
     "name": "stdout",
     "output_type": "stream",
     "text": [
      "1/1 [==============================] - 0s 33ms/step - loss: 2.1269 - accuracy: 0.0000e+00 - val_loss: 4.1876 - val_accuracy: 0.0000e+00\n",
      "Epoch 5/50\n",
      "1/1 [==============================] - 0s 30ms/step - loss: 4.9594 - accuracy: 0.0000e+00 - val_loss: 3.3006 - val_accuracy: 0.0000e+00\n",
      "Epoch 6/50\n",
      "1/1 [==============================] - 0s 34ms/step - loss: 3.9813 - accuracy: 0.0000e+00 - val_loss: 1.4233 - val_accuracy: 0.0000e+00\n",
      "Epoch 7/50\n",
      "1/1 [==============================] - 0s 35ms/step - loss: 1.8233 - accuracy: 0.0000e+00 - val_loss: 0.9451 - val_accuracy: 0.3833\n",
      "Epoch 8/50\n",
      "1/1 [==============================] - 0s 25ms/step - loss: 1.0267 - accuracy: 0.3000 - val_loss: 1.8349 - val_accuracy: 0.3833\n",
      "Epoch 9/50\n",
      "1/1 [==============================] - 0s 33ms/step - loss: 1.6626 - accuracy: 0.3000 - val_loss: 2.7718 - val_accuracy: 0.3833\n",
      "Epoch 10/50\n",
      "1/1 [==============================] - 0s 31ms/step - loss: 2.4645 - accuracy: 0.3000 - val_loss: 2.8677 - val_accuracy: 0.3833\n",
      "Epoch 11/50\n",
      "1/1 [==============================] - 0s 36ms/step - loss: 2.5485 - accuracy: 0.3000 - val_loss: 2.2279 - val_accuracy: 0.3833\n",
      "Epoch 12/50\n",
      "1/1 [==============================] - 0s 24ms/step - loss: 1.9918 - accuracy: 0.3000 - val_loss: 1.4346 - val_accuracy: 0.3833\n",
      "Epoch 13/50\n",
      "1/1 [==============================] - 0s 24ms/step - loss: 1.3374 - accuracy: 0.3000 - val_loss: 0.9562 - val_accuracy: 0.3833\n",
      "Epoch 14/50\n",
      "1/1 [==============================] - 0s 26ms/step - loss: 1.0152 - accuracy: 0.3000 - val_loss: 0.9022 - val_accuracy: 0.3833\n",
      "Epoch 15/50\n",
      "1/1 [==============================] - 0s 25ms/step - loss: 1.1022 - accuracy: 0.3000 - val_loss: 1.0899 - val_accuracy: 0.0000e+00\n",
      "Epoch 16/50\n",
      "1/1 [==============================] - 0s 27ms/step - loss: 1.3925 - accuracy: 0.0000e+00 - val_loss: 1.2614 - val_accuracy: 0.0000e+00\n",
      "Epoch 17/50\n",
      "1/1 [==============================] - 0s 24ms/step - loss: 1.6166 - accuracy: 0.0000e+00 - val_loss: 1.2694 - val_accuracy: 0.0000e+00\n",
      "Epoch 18/50\n",
      "1/1 [==============================] - 0s 29ms/step - loss: 1.6264 - accuracy: 0.0000e+00 - val_loss: 1.1296 - val_accuracy: 0.0000e+00\n",
      "Epoch 19/50\n",
      "1/1 [==============================] - 0s 27ms/step - loss: 1.4456 - accuracy: 0.0000e+00 - val_loss: 0.9567 - val_accuracy: 0.3833\n",
      "Epoch 20/50\n",
      "1/1 [==============================] - 0s 30ms/step - loss: 1.2018 - accuracy: 0.3000 - val_loss: 0.8664 - val_accuracy: 0.3833\n",
      "Epoch 21/50\n",
      "1/1 [==============================] - 0s 27ms/step - loss: 1.0259 - accuracy: 0.3000 - val_loss: 0.9084 - val_accuracy: 0.3833\n",
      "Epoch 22/50\n",
      "1/1 [==============================] - 0s 24ms/step - loss: 0.9818 - accuracy: 0.3000 - val_loss: 1.0505 - val_accuracy: 0.3833\n",
      "Epoch 23/50\n",
      "1/1 [==============================] - 0s 26ms/step - loss: 1.0502 - accuracy: 0.3000 - val_loss: 1.2098 - val_accuracy: 0.3833\n",
      "Epoch 24/50\n",
      "1/1 [==============================] - 0s 24ms/step - loss: 1.1573 - accuracy: 0.3000 - val_loss: 1.3039 - val_accuracy: 0.3833\n",
      "Epoch 25/50\n",
      "1/1 [==============================] - 0s 29ms/step - loss: 1.2258 - accuracy: 0.3000 - val_loss: 1.2933 - val_accuracy: 0.3833\n",
      "Epoch 26/50\n",
      "1/1 [==============================] - 0s 28ms/step - loss: 1.2167 - accuracy: 0.3000 - val_loss: 1.1933 - val_accuracy: 0.3833\n",
      "Epoch 27/50\n",
      "1/1 [==============================] - 0s 29ms/step - loss: 1.1416 - accuracy: 0.3000 - val_loss: 1.0548 - val_accuracy: 0.3833\n",
      "Epoch 28/50\n",
      "1/1 [==============================] - 0s 27ms/step - loss: 1.0449 - accuracy: 0.3000 - val_loss: 0.9324 - val_accuracy: 0.3833\n",
      "Epoch 29/50\n",
      "1/1 [==============================] - 0s 38ms/step - loss: 0.9733 - accuracy: 0.3000 - val_loss: 0.8587 - val_accuracy: 0.3833\n",
      "Epoch 30/50\n",
      "1/1 [==============================] - 0s 27ms/step - loss: 0.9509 - accuracy: 0.3000 - val_loss: 0.8356 - val_accuracy: 0.3833\n",
      "Epoch 31/50\n",
      "1/1 [==============================] - 0s 23ms/step - loss: 0.9726 - accuracy: 0.3000 - val_loss: 0.8429 - val_accuracy: 0.3833\n",
      "Epoch 32/50\n",
      "1/1 [==============================] - 0s 27ms/step - loss: 1.0125 - accuracy: 0.3000 - val_loss: 0.8542 - val_accuracy: 0.3833\n",
      "Epoch 33/50\n",
      "1/1 [==============================] - 0s 27ms/step - loss: 1.0412 - accuracy: 0.3000 - val_loss: 0.8527 - val_accuracy: 0.3833\n",
      "Epoch 34/50\n",
      "1/1 [==============================] - 0s 23ms/step - loss: 1.0407 - accuracy: 0.3000 - val_loss: 0.8371 - val_accuracy: 0.3833\n",
      "Epoch 35/50\n",
      "1/1 [==============================] - 0s 27ms/step - loss: 1.0114 - accuracy: 0.3000 - val_loss: 0.8192 - val_accuracy: 0.3833\n",
      "Epoch 36/50\n",
      "1/1 [==============================] - 0s 25ms/step - loss: 0.9681 - accuracy: 0.3000 - val_loss: 0.8138 - val_accuracy: 0.3833\n",
      "Epoch 37/50\n",
      "1/1 [==============================] - 0s 22ms/step - loss: 0.9301 - accuracy: 0.3000 - val_loss: 0.8292 - val_accuracy: 0.3833\n",
      "Epoch 38/50\n",
      "1/1 [==============================] - 0s 31ms/step - loss: 0.9108 - accuracy: 0.3000 - val_loss: 0.8621 - val_accuracy: 0.3833\n",
      "Epoch 39/50\n",
      "1/1 [==============================] - 0s 27ms/step - loss: 0.9118 - accuracy: 0.3000 - val_loss: 0.8994 - val_accuracy: 0.3833\n",
      "Epoch 40/50\n",
      "1/1 [==============================] - 0s 22ms/step - loss: 0.9241 - accuracy: 0.3000 - val_loss: 0.9247 - val_accuracy: 0.3833\n",
      "Epoch 41/50\n",
      "1/1 [==============================] - 0s 25ms/step - loss: 0.9340 - accuracy: 0.3000 - val_loss: 0.9267 - val_accuracy: 0.3833\n",
      "Epoch 42/50\n",
      "1/1 [==============================] - 0s 30ms/step - loss: 0.9316 - accuracy: 0.3000 - val_loss: 0.9041 - val_accuracy: 0.3833\n",
      "Epoch 43/50\n",
      "1/1 [==============================] - 0s 29ms/step - loss: 0.9149 - accuracy: 0.3000 - val_loss: 0.8651 - val_accuracy: 0.3833\n",
      "Epoch 44/50\n",
      "1/1 [==============================] - 0s 30ms/step - loss: 0.8902 - accuracy: 0.3000 - val_loss: 0.8223 - val_accuracy: 0.3833\n",
      "Epoch 45/50\n",
      "1/1 [==============================] - 0s 29ms/step - loss: 0.8669 - accuracy: 0.3000 - val_loss: 0.7862 - val_accuracy: 0.3833\n",
      "Epoch 46/50\n",
      "1/1 [==============================] - 0s 22ms/step - loss: 0.8518 - accuracy: 0.3000 - val_loss: 0.7614 - val_accuracy: 0.3833\n",
      "Epoch 47/50\n",
      "1/1 [==============================] - 0s 36ms/step - loss: 0.8462 - accuracy: 0.3000 - val_loss: 0.7464 - val_accuracy: 0.3833\n",
      "Epoch 48/50\n",
      "1/1 [==============================] - 0s 33ms/step - loss: 0.8454 - accuracy: 0.3000 - val_loss: 0.7366 - val_accuracy: 0.3833\n",
      "Epoch 49/50\n",
      "1/1 [==============================] - 0s 26ms/step - loss: 0.8428 - accuracy: 0.3000 - val_loss: 0.7278 - val_accuracy: 0.3833\n",
      "Epoch 50/50\n",
      "1/1 [==============================] - 0s 24ms/step - loss: 0.8336 - accuracy: 0.3000 - val_loss: 0.7191 - val_accuracy: 0.3833\n",
      "Minimum Validation Loss: 0.7191\n",
      "--- Multiplier: 3\n",
      "Epoch 1/50\n",
      "1/1 [==============================] - ETA: 0s - loss: 1.0486 - accuracy: 0.3000"
     ]
    },
    {
     "name": "stderr",
     "output_type": "stream",
     "text": [
      "2022-09-19 10:56:42.560903: I tensorflow/core/grappler/optimizers/custom_graph_optimizer_registry.cc:113] Plugin optimizer for device_type GPU is enabled.\n"
     ]
    },
    {
     "name": "stdout",
     "output_type": "stream",
     "text": [
      "1/1 [==============================] - 1s 531ms/step - loss: 1.0486 - accuracy: 0.3000 - val_loss: 50.8395 - val_accuracy: 0.3833\n",
      "Epoch 2/50\n",
      "1/1 [==============================] - 0s 32ms/step - loss: 48.6078 - accuracy: 0.3000 - val_loss: 4.8408 - val_accuracy: 0.3833\n",
      "Epoch 3/50\n",
      "1/1 [==============================] - 0s 35ms/step - loss: 4.3241 - accuracy: 0.3000 - val_loss: 9.3652 - val_accuracy: 0.0000e+00\n",
      "Epoch 4/50\n",
      "1/1 [==============================] - 0s 46ms/step - loss: 10.4928 - accuracy: 0.0000e+00 - val_loss: 19.0872 - val_accuracy: 0.0000e+00\n",
      "Epoch 5/50\n"
     ]
    },
    {
     "name": "stderr",
     "output_type": "stream",
     "text": [
      "2022-09-19 10:56:42.818293: I tensorflow/core/grappler/optimizers/custom_graph_optimizer_registry.cc:113] Plugin optimizer for device_type GPU is enabled.\n"
     ]
    },
    {
     "name": "stdout",
     "output_type": "stream",
     "text": [
      "1/1 [==============================] - 0s 47ms/step - loss: 20.6708 - accuracy: 0.0000e+00 - val_loss: 13.5866 - val_accuracy: 0.0000e+00\n",
      "Epoch 6/50\n",
      "1/1 [==============================] - 0s 36ms/step - loss: 14.9346 - accuracy: 0.0000e+00 - val_loss: 5.4093 - val_accuracy: 0.0000e+00\n",
      "Epoch 7/50\n",
      "1/1 [==============================] - 0s 90ms/step - loss: 6.2738 - accuracy: 0.0000e+00 - val_loss: 1.2714 - val_accuracy: 0.0000e+00\n",
      "Epoch 8/50\n",
      "1/1 [==============================] - 0s 60ms/step - loss: 1.6296 - accuracy: 0.0000e+00 - val_loss: 1.2851 - val_accuracy: 0.3833\n",
      "Epoch 9/50\n",
      "1/1 [==============================] - 0s 46ms/step - loss: 1.2235 - accuracy: 0.3000 - val_loss: 3.1787 - val_accuracy: 0.3833\n",
      "Epoch 10/50\n",
      "1/1 [==============================] - 0s 42ms/step - loss: 2.8216 - accuracy: 0.3000 - val_loss: 4.9805 - val_accuracy: 0.3833\n",
      "Epoch 11/50\n",
      "1/1 [==============================] - 0s 36ms/step - loss: 4.4532 - accuracy: 0.3000 - val_loss: 5.7489 - val_accuracy: 0.3833\n",
      "Epoch 12/50\n",
      "1/1 [==============================] - 0s 35ms/step - loss: 5.1611 - accuracy: 0.3000 - val_loss: 5.4250 - val_accuracy: 0.3833\n",
      "Epoch 13/50\n",
      "1/1 [==============================] - 0s 34ms/step - loss: 4.8624 - accuracy: 0.3000 - val_loss: 4.4154 - val_accuracy: 0.3833\n",
      "Epoch 14/50\n",
      "1/1 [==============================] - 0s 31ms/step - loss: 3.9373 - accuracy: 0.3000 - val_loss: 3.2084 - val_accuracy: 0.3833\n",
      "Epoch 15/50\n",
      "1/1 [==============================] - 0s 47ms/step - loss: 2.8492 - accuracy: 0.3000 - val_loss: 2.1564 - val_accuracy: 0.3833\n",
      "Epoch 16/50\n",
      "1/1 [==============================] - 0s 29ms/step - loss: 1.9301 - accuracy: 0.3000 - val_loss: 1.4224 - val_accuracy: 0.3833\n",
      "Epoch 17/50\n",
      "1/1 [==============================] - 0s 28ms/step - loss: 1.3284 - accuracy: 0.3000 - val_loss: 1.0219 - val_accuracy: 0.3833\n",
      "Epoch 18/50\n",
      "1/1 [==============================] - 0s 27ms/step - loss: 1.0499 - accuracy: 0.3000 - val_loss: 0.8895 - val_accuracy: 0.3833\n",
      "Epoch 19/50\n",
      "1/1 [==============================] - 0s 30ms/step - loss: 1.0240 - accuracy: 0.3000 - val_loss: 0.9326 - val_accuracy: 0.3833\n",
      "Epoch 20/50\n",
      "1/1 [==============================] - 0s 32ms/step - loss: 1.1552 - accuracy: 0.3000 - val_loss: 1.0620 - val_accuracy: 0.0000e+00\n",
      "Epoch 21/50\n",
      "1/1 [==============================] - 0s 30ms/step - loss: 1.3532 - accuracy: 0.0000e+00 - val_loss: 1.2069 - val_accuracy: 0.0000e+00\n",
      "Epoch 22/50\n",
      "1/1 [==============================] - 0s 38ms/step - loss: 1.5476 - accuracy: 0.0000e+00 - val_loss: 1.3200 - val_accuracy: 0.0000e+00\n",
      "Epoch 23/50\n",
      "1/1 [==============================] - 0s 33ms/step - loss: 1.6916 - accuracy: 0.0000e+00 - val_loss: 1.3771 - val_accuracy: 0.0000e+00\n",
      "Epoch 24/50\n",
      "1/1 [==============================] - 0s 28ms/step - loss: 1.7626 - accuracy: 0.0000e+00 - val_loss: 1.3735 - val_accuracy: 0.0000e+00\n",
      "Epoch 25/50\n",
      "1/1 [==============================] - 0s 29ms/step - loss: 1.7580 - accuracy: 0.0000e+00 - val_loss: 1.3189 - val_accuracy: 0.0000e+00\n",
      "Epoch 26/50\n",
      "1/1 [==============================] - 0s 28ms/step - loss: 1.6897 - accuracy: 0.0000e+00 - val_loss: 1.2307 - val_accuracy: 0.0000e+00\n",
      "Epoch 27/50\n",
      "1/1 [==============================] - 0s 27ms/step - loss: 1.5778 - accuracy: 0.0000e+00 - val_loss: 1.1290 - val_accuracy: 0.0000e+00\n",
      "Epoch 28/50\n",
      "1/1 [==============================] - 0s 29ms/step - loss: 1.4448 - accuracy: 0.0000e+00 - val_loss: 1.0318 - val_accuracy: 0.3000\n",
      "Epoch 29/50\n",
      "1/1 [==============================] - 0s 26ms/step - loss: 1.3110 - accuracy: 0.2111 - val_loss: 0.9528 - val_accuracy: 0.3833\n",
      "Epoch 30/50\n",
      "1/1 [==============================] - 0s 38ms/step - loss: 1.1925 - accuracy: 0.3000 - val_loss: 0.9001 - val_accuracy: 0.3833\n",
      "Epoch 31/50\n",
      "1/1 [==============================] - 0s 55ms/step - loss: 1.0992 - accuracy: 0.3000 - val_loss: 0.8767 - val_accuracy: 0.3833\n",
      "Epoch 32/50\n",
      "1/1 [==============================] - 0s 34ms/step - loss: 1.0357 - accuracy: 0.3000 - val_loss: 0.8807 - val_accuracy: 0.3833\n",
      "Epoch 33/50\n",
      "1/1 [==============================] - 0s 32ms/step - loss: 1.0016 - accuracy: 0.3000 - val_loss: 0.9072 - val_accuracy: 0.3833\n",
      "Epoch 34/50\n",
      "1/1 [==============================] - 0s 32ms/step - loss: 0.9930 - accuracy: 0.3000 - val_loss: 0.9489 - val_accuracy: 0.3833\n",
      "Epoch 35/50\n",
      "1/1 [==============================] - 0s 35ms/step - loss: 1.0036 - accuracy: 0.3000 - val_loss: 0.9980 - val_accuracy: 0.3833\n",
      "Epoch 36/50\n",
      "1/1 [==============================] - 0s 26ms/step - loss: 1.0261 - accuracy: 0.3000 - val_loss: 1.0468 - val_accuracy: 0.3833\n",
      "Epoch 37/50\n",
      "1/1 [==============================] - 0s 38ms/step - loss: 1.0534 - accuracy: 0.3000 - val_loss: 1.0887 - val_accuracy: 0.3833\n",
      "Epoch 38/50\n",
      "1/1 [==============================] - 0s 34ms/step - loss: 1.0790 - accuracy: 0.3000 - val_loss: 1.1190 - val_accuracy: 0.3833\n",
      "Epoch 39/50\n",
      "1/1 [==============================] - 0s 33ms/step - loss: 1.0982 - accuracy: 0.3000 - val_loss: 1.1350 - val_accuracy: 0.3833\n",
      "Epoch 40/50\n",
      "1/1 [==============================] - 0s 33ms/step - loss: 1.1083 - accuracy: 0.3000 - val_loss: 1.1360 - val_accuracy: 0.3833\n",
      "Epoch 41/50\n",
      "1/1 [==============================] - 0s 33ms/step - loss: 1.1083 - accuracy: 0.3000 - val_loss: 1.1231 - val_accuracy: 0.3833\n",
      "Epoch 42/50\n",
      "1/1 [==============================] - 0s 33ms/step - loss: 1.0988 - accuracy: 0.3000 - val_loss: 1.0989 - val_accuracy: 0.3833\n",
      "Epoch 43/50\n",
      "1/1 [==============================] - 0s 29ms/step - loss: 1.0818 - accuracy: 0.3000 - val_loss: 1.0667 - val_accuracy: 0.3833\n",
      "Epoch 44/50\n",
      "1/1 [==============================] - 0s 37ms/step - loss: 1.0599 - accuracy: 0.3000 - val_loss: 1.0302 - val_accuracy: 0.3833\n",
      "Epoch 45/50\n",
      "1/1 [==============================] - 0s 36ms/step - loss: 1.0362 - accuracy: 0.3000 - val_loss: 0.9927 - val_accuracy: 0.3833\n",
      "Epoch 46/50\n",
      "1/1 [==============================] - 0s 32ms/step - loss: 1.0133 - accuracy: 0.3000 - val_loss: 0.9571 - val_accuracy: 0.3833\n",
      "Epoch 47/50\n",
      "1/1 [==============================] - 0s 32ms/step - loss: 0.9934 - accuracy: 0.3000 - val_loss: 0.9257 - val_accuracy: 0.3833\n",
      "Epoch 48/50\n",
      "1/1 [==============================] - 0s 33ms/step - loss: 0.9780 - accuracy: 0.3000 - val_loss: 0.8995 - val_accuracy: 0.3833\n",
      "Epoch 49/50\n",
      "1/1 [==============================] - 0s 31ms/step - loss: 0.9676 - accuracy: 0.3000 - val_loss: 0.8790 - val_accuracy: 0.3833\n",
      "Epoch 50/50\n",
      "1/1 [==============================] - 0s 29ms/step - loss: 0.9621 - accuracy: 0.3000 - val_loss: 0.8640 - val_accuracy: 0.3833\n",
      "Minimum Validation Loss: 0.8640\n",
      "--- Multiplier: 4\n",
      "Epoch 1/50\n",
      "1/1 [==============================] - ETA: 0s - loss: 1.0686 - accuracy: 0.3000"
     ]
    },
    {
     "name": "stderr",
     "output_type": "stream",
     "text": [
      "2022-09-19 10:56:45.138165: I tensorflow/core/grappler/optimizers/custom_graph_optimizer_registry.cc:113] Plugin optimizer for device_type GPU is enabled.\n"
     ]
    },
    {
     "name": "stdout",
     "output_type": "stream",
     "text": [
      "1/1 [==============================] - 0s 497ms/step - loss: 1.0686 - accuracy: 0.3000 - val_loss: 105.1067 - val_accuracy: 0.0000e+00\n",
      "Epoch 2/50\n",
      "1/1 [==============================] - 0s 42ms/step - loss: 108.7130 - accuracy: 0.0000e+00 - val_loss: 9.7532 - val_accuracy: 0.0000e+00\n",
      "Epoch 3/50\n",
      "1/1 [==============================] - 0s 35ms/step - loss: 10.9134 - accuracy: 0.0000e+00 - val_loss: 19.9343 - val_accuracy: 0.3833\n",
      "Epoch 4/50\n",
      "1/1 [==============================] - ETA: 0s - loss: 18.6214 - accuracy: 0.3000"
     ]
    },
    {
     "name": "stderr",
     "output_type": "stream",
     "text": [
      "2022-09-19 10:56:45.346159: I tensorflow/core/grappler/optimizers/custom_graph_optimizer_registry.cc:113] Plugin optimizer for device_type GPU is enabled.\n"
     ]
    },
    {
     "name": "stdout",
     "output_type": "stream",
     "text": [
      "1/1 [==============================] - 0s 53ms/step - loss: 18.6214 - accuracy: 0.3000 - val_loss: 38.8512 - val_accuracy: 0.3833\n",
      "Epoch 5/50\n",
      "1/1 [==============================] - 0s 46ms/step - loss: 36.9340 - accuracy: 0.3000 - val_loss: 27.4410 - val_accuracy: 0.3833\n",
      "Epoch 6/50\n",
      "1/1 [==============================] - 0s 65ms/step - loss: 25.8648 - accuracy: 0.3000 - val_loss: 12.0069 - val_accuracy: 0.3833\n",
      "Epoch 7/50\n",
      "1/1 [==============================] - 0s 47ms/step - loss: 11.0412 - accuracy: 0.3000 - val_loss: 3.4012 - val_accuracy: 0.3833\n",
      "Epoch 8/50\n",
      "1/1 [==============================] - 0s 39ms/step - loss: 3.0215 - accuracy: 0.3000 - val_loss: 0.9359 - val_accuracy: 0.3833\n",
      "Epoch 9/50\n",
      "1/1 [==============================] - 0s 51ms/step - loss: 1.0163 - accuracy: 0.3000 - val_loss: 1.4603 - val_accuracy: 0.0000e+00\n",
      "Epoch 10/50\n",
      "1/1 [==============================] - 0s 54ms/step - loss: 1.8671 - accuracy: 0.0000e+00 - val_loss: 2.7841 - val_accuracy: 0.0000e+00\n",
      "Epoch 11/50\n",
      "1/1 [==============================] - 0s 48ms/step - loss: 3.4018 - accuracy: 0.0000e+00 - val_loss: 3.8249 - val_accuracy: 0.0000e+00\n",
      "Epoch 12/50\n",
      "1/1 [==============================] - 0s 33ms/step - loss: 4.5582 - accuracy: 0.0000e+00 - val_loss: 4.2150 - val_accuracy: 0.0000e+00\n",
      "Epoch 13/50\n",
      "1/1 [==============================] - 0s 42ms/step - loss: 4.9875 - accuracy: 0.0000e+00 - val_loss: 3.9960 - val_accuracy: 0.0000e+00\n",
      "Epoch 14/50\n",
      "1/1 [==============================] - 0s 38ms/step - loss: 4.7493 - accuracy: 0.0000e+00 - val_loss: 3.3944 - val_accuracy: 0.0000e+00\n",
      "Epoch 15/50\n",
      "1/1 [==============================] - 0s 38ms/step - loss: 4.0877 - accuracy: 0.0000e+00 - val_loss: 2.6614 - val_accuracy: 0.0000e+00\n",
      "Epoch 16/50\n",
      "1/1 [==============================] - 0s 35ms/step - loss: 3.2697 - accuracy: 0.0000e+00 - val_loss: 1.9843 - val_accuracy: 0.0000e+00\n",
      "Epoch 17/50\n",
      "1/1 [==============================] - 0s 41ms/step - loss: 2.4956 - accuracy: 0.0000e+00 - val_loss: 1.4627 - val_accuracy: 0.0000e+00\n",
      "Epoch 18/50\n",
      "1/1 [==============================] - 0s 38ms/step - loss: 1.8747 - accuracy: 0.0000e+00 - val_loss: 1.1239 - val_accuracy: 0.0000e+00\n",
      "Epoch 19/50\n",
      "1/1 [==============================] - 0s 41ms/step - loss: 1.4406 - accuracy: 0.0000e+00 - val_loss: 0.9515 - val_accuracy: 0.3833\n",
      "Epoch 20/50\n",
      "1/1 [==============================] - 0s 42ms/step - loss: 1.1807 - accuracy: 0.3000 - val_loss: 0.9097 - val_accuracy: 0.3833\n",
      "Epoch 21/50\n",
      "1/1 [==============================] - 0s 37ms/step - loss: 1.0609 - accuracy: 0.3000 - val_loss: 0.9590 - val_accuracy: 0.3833\n",
      "Epoch 22/50\n",
      "1/1 [==============================] - 0s 37ms/step - loss: 1.0424 - accuracy: 0.3000 - val_loss: 1.0631 - val_accuracy: 0.3833\n",
      "Epoch 23/50\n",
      "1/1 [==============================] - 0s 44ms/step - loss: 1.0890 - accuracy: 0.3000 - val_loss: 1.1923 - val_accuracy: 0.3833\n",
      "Epoch 24/50\n",
      "1/1 [==============================] - 0s 40ms/step - loss: 1.1706 - accuracy: 0.3000 - val_loss: 1.3232 - val_accuracy: 0.3833\n",
      "Epoch 25/50\n",
      "1/1 [==============================] - 0s 41ms/step - loss: 1.2636 - accuracy: 0.3000 - val_loss: 1.4392 - val_accuracy: 0.3833\n",
      "Epoch 26/50\n",
      "1/1 [==============================] - 0s 40ms/step - loss: 1.3508 - accuracy: 0.3000 - val_loss: 1.5292 - val_accuracy: 0.3833\n",
      "Epoch 27/50\n",
      "1/1 [==============================] - 0s 36ms/step - loss: 1.4205 - accuracy: 0.3000 - val_loss: 1.5872 - val_accuracy: 0.3833\n",
      "Epoch 28/50\n",
      "1/1 [==============================] - 0s 35ms/step - loss: 1.4661 - accuracy: 0.3000 - val_loss: 1.6116 - val_accuracy: 0.3833\n",
      "Epoch 29/50\n",
      "1/1 [==============================] - 0s 33ms/step - loss: 1.4852 - accuracy: 0.3000 - val_loss: 1.6039 - val_accuracy: 0.3833\n",
      "Epoch 30/50\n",
      "1/1 [==============================] - 0s 42ms/step - loss: 1.4788 - accuracy: 0.3000 - val_loss: 1.5683 - val_accuracy: 0.3833\n",
      "Epoch 31/50\n",
      "1/1 [==============================] - 0s 39ms/step - loss: 1.4503 - accuracy: 0.3000 - val_loss: 1.5107 - val_accuracy: 0.3833\n",
      "Epoch 32/50\n",
      "1/1 [==============================] - 0s 31ms/step - loss: 1.4046 - accuracy: 0.3000 - val_loss: 1.4376 - val_accuracy: 0.3833\n",
      "Epoch 33/50\n",
      "1/1 [==============================] - 0s 35ms/step - loss: 1.3475 - accuracy: 0.3000 - val_loss: 1.3559 - val_accuracy: 0.3833\n",
      "Epoch 34/50\n",
      "1/1 [==============================] - 0s 35ms/step - loss: 1.2850 - accuracy: 0.3000 - val_loss: 1.2717 - val_accuracy: 0.3833\n",
      "Epoch 35/50\n",
      "1/1 [==============================] - 0s 32ms/step - loss: 1.2224 - accuracy: 0.3000 - val_loss: 1.1903 - val_accuracy: 0.3833\n",
      "Epoch 36/50\n",
      "1/1 [==============================] - 0s 32ms/step - loss: 1.1644 - accuracy: 0.3000 - val_loss: 1.1159 - val_accuracy: 0.3833\n",
      "Epoch 37/50\n",
      "1/1 [==============================] - 0s 37ms/step - loss: 1.1141 - accuracy: 0.3000 - val_loss: 1.0512 - val_accuracy: 0.3833\n",
      "Epoch 38/50\n",
      "1/1 [==============================] - 0s 59ms/step - loss: 1.0740 - accuracy: 0.3000 - val_loss: 0.9979 - val_accuracy: 0.3833\n",
      "Epoch 39/50\n",
      "1/1 [==============================] - 0s 34ms/step - loss: 1.0448 - accuracy: 0.3000 - val_loss: 0.9565 - val_accuracy: 0.3833\n",
      "Epoch 40/50\n",
      "1/1 [==============================] - 0s 34ms/step - loss: 1.0264 - accuracy: 0.3000 - val_loss: 0.9262 - val_accuracy: 0.3833\n",
      "Epoch 41/50\n",
      "1/1 [==============================] - 0s 33ms/step - loss: 1.0178 - accuracy: 0.3000 - val_loss: 0.9058 - val_accuracy: 0.3833\n",
      "Epoch 42/50\n",
      "1/1 [==============================] - 0s 30ms/step - loss: 1.0172 - accuracy: 0.3000 - val_loss: 0.8936 - val_accuracy: 0.3833\n",
      "Epoch 43/50\n",
      "1/1 [==============================] - 0s 32ms/step - loss: 1.0225 - accuracy: 0.3000 - val_loss: 0.8874 - val_accuracy: 0.3833\n",
      "Epoch 44/50\n",
      "1/1 [==============================] - 0s 44ms/step - loss: 1.0315 - accuracy: 0.3000 - val_loss: 0.8853 - val_accuracy: 0.3833\n",
      "Epoch 45/50\n",
      "1/1 [==============================] - 0s 32ms/step - loss: 1.0419 - accuracy: 0.3000 - val_loss: 0.8855 - val_accuracy: 0.3833\n",
      "Epoch 46/50\n",
      "1/1 [==============================] - 0s 38ms/step - loss: 1.0518 - accuracy: 0.3000 - val_loss: 0.8863 - val_accuracy: 0.3833\n",
      "Epoch 47/50\n",
      "1/1 [==============================] - 0s 34ms/step - loss: 1.0597 - accuracy: 0.3000 - val_loss: 0.8869 - val_accuracy: 0.3833\n",
      "Epoch 48/50\n",
      "1/1 [==============================] - 0s 36ms/step - loss: 1.0645 - accuracy: 0.3000 - val_loss: 0.8865 - val_accuracy: 0.3833\n",
      "Epoch 49/50\n",
      "1/1 [==============================] - 0s 39ms/step - loss: 1.0657 - accuracy: 0.3000 - val_loss: 0.8848 - val_accuracy: 0.3833\n",
      "Epoch 50/50\n",
      "1/1 [==============================] - 0s 35ms/step - loss: 1.0633 - accuracy: 0.3000 - val_loss: 0.8822 - val_accuracy: 0.3833\n",
      "Minimum Validation Loss: 0.8822\n",
      "--- Multiplier: 5\n",
      "Epoch 1/50\n",
      "1/1 [==============================] - ETA: 0s - loss: 1.0490 - accuracy: 0.3000"
     ]
    },
    {
     "name": "stderr",
     "output_type": "stream",
     "text": [
      "2022-09-19 10:56:47.882896: I tensorflow/core/grappler/optimizers/custom_graph_optimizer_registry.cc:113] Plugin optimizer for device_type GPU is enabled.\n"
     ]
    },
    {
     "name": "stdout",
     "output_type": "stream",
     "text": [
      "1/1 [==============================] - 1s 573ms/step - loss: 1.0490 - accuracy: 0.3000 - val_loss: 84.6050 - val_accuracy: 0.0000e+00\n",
      "Epoch 2/50\n",
      "1/1 [==============================] - 0s 44ms/step - loss: 87.6339 - accuracy: 0.0000e+00 - val_loss: 5.2622 - val_accuracy: 0.3833\n",
      "Epoch 3/50\n",
      "1/1 [==============================] - 0s 40ms/step - loss: 4.7114 - accuracy: 0.3000 - val_loss: 47.2145 - val_accuracy: 0.3833\n",
      "Epoch 4/50\n",
      "1/1 [==============================] - ETA: 0s - loss: 45.1749 - accuracy: 0.3000"
     ]
    },
    {
     "name": "stderr",
     "output_type": "stream",
     "text": [
      "2022-09-19 10:56:48.137990: I tensorflow/core/grappler/optimizers/custom_graph_optimizer_registry.cc:113] Plugin optimizer for device_type GPU is enabled.\n"
     ]
    },
    {
     "name": "stdout",
     "output_type": "stream",
     "text": [
      "1/1 [==============================] - 0s 51ms/step - loss: 45.1749 - accuracy: 0.3000 - val_loss: 30.5392 - val_accuracy: 0.3833\n",
      "Epoch 5/50\n",
      "1/1 [==============================] - 0s 42ms/step - loss: 28.9256 - accuracy: 0.3000 - val_loss: 7.7932 - val_accuracy: 0.3833\n",
      "Epoch 6/50\n",
      "1/1 [==============================] - 0s 44ms/step - loss: 7.0712 - accuracy: 0.3000 - val_loss: 0.8140 - val_accuracy: 0.3833\n",
      "Epoch 7/50\n",
      "1/1 [==============================] - 0s 34ms/step - loss: 0.9107 - accuracy: 0.3000 - val_loss: 3.5646 - val_accuracy: 0.0000e+00\n",
      "Epoch 8/50\n",
      "1/1 [==============================] - 0s 34ms/step - loss: 4.2277 - accuracy: 0.0000e+00 - val_loss: 7.4207 - val_accuracy: 0.0000e+00\n",
      "Epoch 9/50\n",
      "1/1 [==============================] - 0s 33ms/step - loss: 8.3846 - accuracy: 0.0000e+00 - val_loss: 8.6646 - val_accuracy: 0.0000e+00\n",
      "Epoch 10/50\n",
      "1/1 [==============================] - 0s 41ms/step - loss: 9.7097 - accuracy: 0.0000e+00 - val_loss: 7.3732 - val_accuracy: 0.0000e+00\n",
      "Epoch 11/50\n",
      "1/1 [==============================] - 0s 42ms/step - loss: 8.3451 - accuracy: 0.0000e+00 - val_loss: 5.0239 - val_accuracy: 0.0000e+00\n",
      "Epoch 12/50\n",
      "1/1 [==============================] - 0s 36ms/step - loss: 5.8336 - accuracy: 0.0000e+00 - val_loss: 2.8849 - val_accuracy: 0.0000e+00\n",
      "Epoch 13/50\n",
      "1/1 [==============================] - 0s 35ms/step - loss: 3.4957 - accuracy: 0.0000e+00 - val_loss: 1.5147 - val_accuracy: 0.0000e+00\n",
      "Epoch 14/50\n",
      "1/1 [==============================] - 0s 35ms/step - loss: 1.9255 - accuracy: 0.0000e+00 - val_loss: 0.9320 - val_accuracy: 0.3833\n",
      "Epoch 15/50\n",
      "1/1 [==============================] - 0s 37ms/step - loss: 1.1607 - accuracy: 0.3000 - val_loss: 0.9248 - val_accuracy: 0.3833\n",
      "Epoch 16/50\n",
      "1/1 [==============================] - 0s 35ms/step - loss: 0.9980 - accuracy: 0.3000 - val_loss: 1.2462 - val_accuracy: 0.3833\n",
      "Epoch 17/50\n",
      "1/1 [==============================] - 0s 37ms/step - loss: 1.1929 - accuracy: 0.3000 - val_loss: 1.6893 - val_accuracy: 0.3833\n",
      "Epoch 18/50\n",
      "1/1 [==============================] - 0s 39ms/step - loss: 1.5389 - accuracy: 0.3000 - val_loss: 2.1050 - val_accuracy: 0.3833\n",
      "Epoch 19/50\n",
      "1/1 [==============================] - 0s 33ms/step - loss: 1.8859 - accuracy: 0.3000 - val_loss: 2.4011 - val_accuracy: 0.3833\n",
      "Epoch 20/50\n",
      "1/1 [==============================] - 0s 36ms/step - loss: 2.1401 - accuracy: 0.3000 - val_loss: 2.5374 - val_accuracy: 0.3833\n",
      "Epoch 21/50\n",
      "1/1 [==============================] - 0s 35ms/step - loss: 2.2586 - accuracy: 0.3000 - val_loss: 2.5159 - val_accuracy: 0.3833\n",
      "Epoch 22/50\n",
      "1/1 [==============================] - 0s 38ms/step - loss: 2.2404 - accuracy: 0.3000 - val_loss: 2.3676 - val_accuracy: 0.3833\n",
      "Epoch 23/50\n",
      "1/1 [==============================] - 0s 33ms/step - loss: 2.1126 - accuracy: 0.3000 - val_loss: 2.1376 - val_accuracy: 0.3833\n",
      "Epoch 24/50\n",
      "1/1 [==============================] - 0s 40ms/step - loss: 1.9163 - accuracy: 0.3000 - val_loss: 1.8722 - val_accuracy: 0.3833\n",
      "Epoch 25/50\n",
      "1/1 [==============================] - 0s 34ms/step - loss: 1.6941 - accuracy: 0.3000 - val_loss: 1.6101 - val_accuracy: 0.3833\n",
      "Epoch 26/50\n",
      "1/1 [==============================] - 0s 35ms/step - loss: 1.4811 - accuracy: 0.3000 - val_loss: 1.3785 - val_accuracy: 0.3833\n",
      "Epoch 27/50\n",
      "1/1 [==============================] - 0s 36ms/step - loss: 1.3014 - accuracy: 0.3000 - val_loss: 1.1925 - val_accuracy: 0.3833\n",
      "Epoch 28/50\n",
      "1/1 [==============================] - 0s 33ms/step - loss: 1.1678 - accuracy: 0.3000 - val_loss: 1.0574 - val_accuracy: 0.3833\n",
      "Epoch 29/50\n",
      "1/1 [==============================] - 0s 32ms/step - loss: 1.0832 - accuracy: 0.3000 - val_loss: 0.9707 - val_accuracy: 0.3833\n",
      "Epoch 30/50\n",
      "1/1 [==============================] - 0s 35ms/step - loss: 1.0438 - accuracy: 0.3000 - val_loss: 0.9251 - val_accuracy: 0.3833\n",
      "Epoch 31/50\n",
      "1/1 [==============================] - 0s 35ms/step - loss: 1.0412 - accuracy: 0.3000 - val_loss: 0.9111 - val_accuracy: 0.3833\n",
      "Epoch 32/50\n",
      "1/1 [==============================] - 0s 40ms/step - loss: 1.0649 - accuracy: 0.3000 - val_loss: 0.9181 - val_accuracy: 0.3833\n",
      "Epoch 33/50\n",
      "1/1 [==============================] - 0s 42ms/step - loss: 1.1037 - accuracy: 0.3000 - val_loss: 0.9362 - val_accuracy: 0.3833\n",
      "Epoch 34/50\n",
      "1/1 [==============================] - 0s 36ms/step - loss: 1.1475 - accuracy: 0.3000 - val_loss: 0.9572 - val_accuracy: 0.3833\n",
      "Epoch 35/50\n",
      "1/1 [==============================] - 0s 41ms/step - loss: 1.1878 - accuracy: 0.3000 - val_loss: 0.9749 - val_accuracy: 0.3833\n",
      "Epoch 36/50\n",
      "1/1 [==============================] - 0s 36ms/step - loss: 1.2185 - accuracy: 0.3000 - val_loss: 0.9855 - val_accuracy: 0.3833\n",
      "Epoch 37/50\n",
      "1/1 [==============================] - 0s 35ms/step - loss: 1.2360 - accuracy: 0.3000 - val_loss: 0.9874 - val_accuracy: 0.3833\n",
      "Epoch 38/50\n",
      "1/1 [==============================] - 0s 42ms/step - loss: 1.2391 - accuracy: 0.3000 - val_loss: 0.9811 - val_accuracy: 0.3833\n",
      "Epoch 39/50\n",
      "1/1 [==============================] - 0s 39ms/step - loss: 1.2287 - accuracy: 0.3000 - val_loss: 0.9685 - val_accuracy: 0.3833\n",
      "Epoch 40/50\n",
      "1/1 [==============================] - 0s 36ms/step - loss: 1.2074 - accuracy: 0.3000 - val_loss: 0.9524 - val_accuracy: 0.3833\n",
      "Epoch 41/50\n",
      "1/1 [==============================] - 0s 36ms/step - loss: 1.1788 - accuracy: 0.3000 - val_loss: 0.9361 - val_accuracy: 0.3833\n",
      "Epoch 42/50\n",
      "1/1 [==============================] - 0s 35ms/step - loss: 1.1468 - accuracy: 0.3000 - val_loss: 0.9226 - val_accuracy: 0.3833\n",
      "Epoch 43/50\n",
      "1/1 [==============================] - 0s 35ms/step - loss: 1.1152 - accuracy: 0.3000 - val_loss: 0.9141 - val_accuracy: 0.3833\n",
      "Epoch 44/50\n",
      "1/1 [==============================] - 0s 37ms/step - loss: 1.0872 - accuracy: 0.3000 - val_loss: 0.9122 - val_accuracy: 0.3833\n",
      "Epoch 45/50\n",
      "1/1 [==============================] - 0s 40ms/step - loss: 1.0650 - accuracy: 0.3000 - val_loss: 0.9173 - val_accuracy: 0.3833\n",
      "Epoch 46/50\n",
      "1/1 [==============================] - 0s 41ms/step - loss: 1.0498 - accuracy: 0.3000 - val_loss: 0.9289 - val_accuracy: 0.3833\n",
      "Epoch 47/50\n",
      "1/1 [==============================] - 0s 37ms/step - loss: 1.0418 - accuracy: 0.3000 - val_loss: 0.9455 - val_accuracy: 0.3833\n",
      "Epoch 48/50\n",
      "1/1 [==============================] - 0s 37ms/step - loss: 1.0401 - accuracy: 0.3000 - val_loss: 0.9652 - val_accuracy: 0.3833\n",
      "Epoch 49/50\n",
      "1/1 [==============================] - 0s 36ms/step - loss: 1.0433 - accuracy: 0.3000 - val_loss: 0.9857 - val_accuracy: 0.3833\n",
      "Epoch 50/50\n",
      "1/1 [==============================] - 0s 37ms/step - loss: 1.0497 - accuracy: 0.3000 - val_loss: 1.0048 - val_accuracy: 0.3833\n",
      "Minimum Validation Loss: 0.8140\n"
     ]
    },
    {
     "data": {
      "text/plain": "<Figure size 432x288 with 1 Axes>",
      "image/png": "[encoded data removed]"
     },
     "metadata": {
      "needs_background": "light"
     },
     "output_type": "display_data"
    },
    {
     "data": {
      "text/plain": "<Figure size 432x288 with 1 Axes>",
      "image/png": "[encoded data removed]"
     },
     "metadata": {
      "needs_background": "light"
     },
     "output_type": "display_data"
    },
    {
     "data": {
      "text/plain": "<Figure size 432x288 with 1 Axes>",
      "image/png": "[encoded data removed]"
     },
     "metadata": {
      "needs_background": "light"
     },
     "output_type": "display_data"
    },
    {
     "data": {
      "text/plain": "<Figure size 432x288 with 1 Axes>",
      "image/png": "[encoded data removed]"
     },
     "metadata": {
      "needs_background": "light"
     },
     "output_type": "display_data"
    },
    {
     "data": {
      "text/plain": "<Figure size 432x288 with 1 Axes>",
      "image/png": "[encoded data removed]"
     },
     "metadata": {
      "needs_background": "light"
     },
     "output_type": "display_data"
    }
   ],
   "source": [
    "from tensorflow import keras\n",
    "\n",
    "# initially I got val loss 0.07 because Id column present. After removing it I got 0.13\n",
    "# Then I experimented with optimizers, loss and activation functions and the number of layers and neurons and finally got it back to 0.0700\n",
    "\n",
    "activation_function = 'sigmoid'\n",
    "# activation_function = 'swish'\n",
    "multipliers = [1, 2, 3, 4, 5]\n",
    "\n",
    "for multiplier in multipliers:\n",
    "    print(\"--- Multiplier:\", multiplier)\n",
    "    model = keras.Sequential([\n",
    "        layers.Dense(multiplier*256, activation=activation_function, input_shape=input_shape),\n",
    "        layers.Dense(multiplier*512, activation=activation_function),\n",
    "        layers.Dense(multiplier*256, activation=activation_function),\n",
    "        layers.Dense(1)\n",
    "    ])\n",
    "\n",
    "    model.compile(\n",
    "       optimizer='adam',\n",
    "       # optimizer='adadelta',\n",
    "       #  loss='mae',\n",
    "       loss='mean_squared_error',\n",
    "       metrics=['accuracy']\n",
    "    )\n",
    "    history = model.fit(\n",
    "        X_train, y_train,\n",
    "        validation_data=(X_valid, y_valid),\n",
    "        batch_size=128,\n",
    "        epochs=50\n",
    "        # callbacks=[early_stopping]\n",
    "    )\n",
    "    # print(model.summary())\n",
    "    history_df = pd.DataFrame(history.history)\n",
    "    history_df.loc[:, ['loss', 'val_loss']].plot()\n",
    "    print(\"Minimum Validation Loss: {:0.4f}\".format(history_df['val_loss'].min()));"
   ],
   "metadata": {
    "collapsed": false,
    "pycharm": {
     "name": "#%%\n"
    }
   }
  },
  {
   "cell_type": "code",
   "execution_count": null,
   "outputs": [],
   "source": [
    "print(model.predict(np.array([[0, 1]])))\n"
   ],
   "metadata": {
    "collapsed": false,
    "pycharm": {
     "name": "#%%\n"
    }
   }
  },
  {
   "cell_type": "code",
   "execution_count": 12,
   "outputs": [
    {
     "name": "stdout",
     "output_type": "stream",
     "text": [
      "2.9.2\n"
     ]
    },
    {
     "data": {
      "text/plain": "<Figure size 600x400 with 1 Axes>",
      "image/png": "[encoded data removed]"
     },
     "metadata": {
      "needs_background": "light"
     },
     "output_type": "display_data"
    }
   ],
   "source": [
    "# Change 'relu' to 'elu', 'selu', 'swish'... or something else\n",
    "# How different activation functions look like\n",
    "\n",
    "import tensorflow as tf\n",
    "import matplotlib.pyplot as plt\n",
    "\n",
    "print(tf.__version__)\n",
    "\n",
    "activation_layer = layers.Activation('sigmoid')\n",
    "\n",
    "x = tf.linspace(-3.0, 3.0, 100)\n",
    "y = activation_layer(x) # once created, a layer is callable just like a function\n",
    "\n",
    "plt.figure(dpi=100)\n",
    "plt.plot(x, y)\n",
    "plt.xlim(-3, 3)\n",
    "plt.xlabel(\"Input\")\n",
    "plt.ylabel(\"Output\")\n",
    "plt.show()"
   ],
   "metadata": {
    "collapsed": false,
    "pycharm": {
     "name": "#%%\n"
    }
   }
  }
 ],
 "metadata": {
  "kernelspec": {
   "name": "env",
   "language": "python",
   "display_name": "env"
  },
  "language_info": {
   "codemirror_mode": {
    "name": "ipython",
    "version": 2
   },
   "file_extension": ".py",
   "mimetype": "text/x-python",
   "name": "python",
   "nbconvert_exporter": "python",
   "pygments_lexer": "ipython2",
   "version": "2.7.6"
  }
 },
 "nbformat": 4,
 "nbformat_minor": 0
}