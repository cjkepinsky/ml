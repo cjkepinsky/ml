{
 "cells": [
  {
   "cell_type": "code",
   "execution_count": 3,
   "metadata": {
    "collapsed": true,
    "pycharm": {
     "name": "#%%\n"
    }
   },
   "outputs": [
    {
     "data": {
      "text/plain": "   Unnamed: 0        Id  SepalLengthCm  SepalWidthCm  PetalLengthCm  \\\n0           0  0.000000       0.222222      0.625000       0.067797   \n1           1  0.006711       0.166667      0.416667       0.067797   \n2           2  0.013423       0.111111      0.500000       0.050847   \n3           3  0.020134       0.083333      0.458333       0.084746   \n4           4  0.026846       0.194444      0.666667       0.067797   \n\n   PetalWidthCm  \n0      0.041667  \n1      0.041667  \n2      0.041667  \n3      0.041667  \n4      0.041667  ",
      "text/html": "<div>\n<style scoped>\n    .dataframe tbody tr th:only-of-type {\n        vertical-align: middle;\n    }\n\n    .dataframe tbody tr th {\n        vertical-align: top;\n    }\n\n    .dataframe thead th {\n        text-align: right;\n    }\n</style>\n<table border=\"1\" class=\"dataframe\">\n  <thead>\n    <tr style=\"text-align: right;\">\n      <th></th>\n      <th>Unnamed: 0</th>\n      <th>Id</th>\n      <th>SepalLengthCm</th>\n      <th>SepalWidthCm</th>\n      <th>PetalLengthCm</th>\n      <th>PetalWidthCm</th>\n    </tr>\n  </thead>\n  <tbody>\n    <tr>\n      <th>0</th>\n      <td>0</td>\n      <td>0.000000</td>\n      <td>0.222222</td>\n      <td>0.625000</td>\n      <td>0.067797</td>\n      <td>0.041667</td>\n    </tr>\n    <tr>\n      <th>1</th>\n      <td>1</td>\n      <td>0.006711</td>\n      <td>0.166667</td>\n      <td>0.416667</td>\n      <td>0.067797</td>\n      <td>0.041667</td>\n    </tr>\n    <tr>\n      <th>2</th>\n      <td>2</td>\n      <td>0.013423</td>\n      <td>0.111111</td>\n      <td>0.500000</td>\n      <td>0.050847</td>\n      <td>0.041667</td>\n    </tr>\n    <tr>\n      <th>3</th>\n      <td>3</td>\n      <td>0.020134</td>\n      <td>0.083333</td>\n      <td>0.458333</td>\n      <td>0.084746</td>\n      <td>0.041667</td>\n    </tr>\n    <tr>\n      <th>4</th>\n      <td>4</td>\n      <td>0.026846</td>\n      <td>0.194444</td>\n      <td>0.666667</td>\n      <td>0.067797</td>\n      <td>0.041667</td>\n    </tr>\n  </tbody>\n</table>\n</div>"
     },
     "execution_count": 3,
     "metadata": {},
     "output_type": "execute_result"
    }
   ],
   "source": [
    "from libs.simple_analyzer import print_simple_correlations\n",
    "from constants import target_name, x_path, y_path\n",
    "import pandas as pd # data processing, CSV file I/O (e.g. pd.read_csv)\n",
    "\n",
    "X = pd.read_csv(x_path)\n",
    "y = pd.read_csv(y_path)[target_name]\n",
    "\n",
    "# from libs.simple_processing import remove_columns\n",
    "# X = remove_columns(X, [\"Unnamed\"])\n",
    "\n",
    "X.head()"
   ]
  },
  {
   "cell_type": "code",
   "execution_count": 11,
   "outputs": [
    {
     "data": {
      "text/plain": "0    1\n1    1\n2    1\n3    1\n4    1\nName: Species, dtype: int64"
     },
     "execution_count": 11,
     "metadata": {},
     "output_type": "execute_result"
    }
   ],
   "source": [
    "y.head()"
   ],
   "metadata": {
    "collapsed": false,
    "pycharm": {
     "name": "#%%\n"
    }
   }
  },
  {
   "cell_type": "code",
   "execution_count": 4,
   "outputs": [
    {
     "name": "stdout",
     "output_type": "stream",
     "text": [
      "Correlations >= 0.3:\n",
      "\n",
      "Unnamed: 0:\n",
      "\n",
      "Id:\n",
      " - Unnamed: 0: 1.00\n",
      "\n",
      "SepalLengthCm:\n",
      " - Unnamed: 0: 0.72\n",
      " - Id: 0.72\n",
      "\n",
      "SepalWidthCm:\n",
      " - Unnamed: 0: -0.40\n",
      " - Id: -0.40\n",
      "\n",
      "PetalLengthCm:\n",
      " - Unnamed: 0: 0.88\n",
      " - Id: 0.88\n",
      " - SepalLengthCm: 0.87\n",
      " - SepalWidthCm: -0.42\n",
      "\n",
      "PetalWidthCm:\n",
      " - Unnamed: 0: 0.90\n",
      " - Id: 0.90\n",
      " - SepalLengthCm: 0.82\n",
      " - SepalWidthCm: -0.36\n",
      " - PetalLengthCm: 0.96\n",
      "Done\n"
     ]
    }
   ],
   "source": [
    "print_simple_correlations(X)"
   ],
   "metadata": {
    "collapsed": false,
    "pycharm": {
     "name": "#%%\n"
    }
   }
  },
  {
   "cell_type": "code",
   "execution_count": null,
   "outputs": [],
   "source": [],
   "metadata": {
    "collapsed": false,
    "pycharm": {
     "name": "#%%\n"
    }
   }
  }
 ],
 "metadata": {
  "kernelspec": {
   "display_name": "Python 3",
   "language": "python",
   "name": "python3"
  },
  "language_info": {
   "codemirror_mode": {
    "name": "ipython",
    "version": 2
   },
   "file_extension": ".py",
   "mimetype": "text/x-python",
   "name": "python",
   "nbconvert_exporter": "python",
   "pygments_lexer": "ipython2",
   "version": "2.7.6"
  }
 },
 "nbformat": 4,
 "nbformat_minor": 0
}