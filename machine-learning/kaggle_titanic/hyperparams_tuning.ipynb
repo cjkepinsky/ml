{
 "cells": [
  {
   "cell_type": "code",
   "execution_count": 1,
   "id": "d84a291e",
   "metadata": {},
   "outputs": [
    {
     "name": "stdout",
     "output_type": "stream",
     "text": [
      "Done\n"
     ]
    }
   ],
   "source": [
    "# This notebook was partially inspired by\n",
    "# https://www.kaggle.com/tanmayunhale/titanic-top-4-hyperparameter-tuning/notebook\n",
    "# https://www.kaggle.com/himanshusirsat/titanic-ml\n",
    "\n",
    "import re\n",
    "import numpy as np # linear algebra\n",
    "from sklearn.model_selection import GridSearchCV\n",
    "import pandas as pd # data processing, CSV file I/O (e.g. pd.read_csv)\n",
    "import matplotlib.pyplot as plt\n",
    "import seaborn as sns\n",
    "from sklearn.model_selection import train_test_split\n",
    "from sklearn.ensemble import GradientBoostingClassifier\n",
    "\n",
    "print('Done')"
   ]
  },
  {
   "cell_type": "markdown",
   "source": [
    "# Introductory Materials\n",
    "\n",
    "visualization of the ship evacuation process: https://www.youtube.com/watch?v=03IAn3TXVOc\n",
    "Titanic Deckplans: https://www.encyclopedia-titanica.org/titanic-deckplans/\n",
    "\n",
    "on the above video reconstruction we can see that the crew was strictly ordered to evacuate women and children first.\n",
    "On the deckplans we can see that 3rd class decks were located below class 1 decks.\n"
   ],
   "metadata": {
    "collapsed": false,
    "pycharm": {
     "name": "#%% md\n"
    }
   }
  },
  {
   "cell_type": "code",
   "execution_count": 2,
   "outputs": [],
   "source": [
    "# Gathering train and test data\n",
    "XTRAIN = pd.read_csv(\"input/train.csv\")\n",
    "XTEST = pd.read_csv(\"input/test.csv\")"
   ],
   "metadata": {
    "collapsed": false,
    "pycharm": {
     "name": "#%%\n"
    }
   }
  },
  {
   "cell_type": "markdown",
   "source": [
    "\n",
    "# Exploring the Data, planning the preprocessing\n",
    "\n",
    "So, in training data we have 891 records with 12 columns.\n",
    "5 of them consist text data\n",
    "\n",
    "## Looking at missing data\n",
    "a lot of missing data in column Cabin, also some missing in Age\n"
   ],
   "metadata": {
    "collapsed": false,
    "pycharm": {
     "name": "#%% md\n"
    }
   }
  },
  {
   "cell_type": "markdown",
   "source": [],
   "metadata": {
    "collapsed": false
   }
  },
  {
   "cell_type": "code",
   "execution_count": 3,
   "outputs": [
    {
     "name": "stdout",
     "output_type": "stream",
     "text": [
      "<class 'pandas.core.frame.DataFrame'>\n",
      "RangeIndex: 891 entries, 0 to 890\n",
      "Data columns (total 12 columns):\n",
      " #   Column       Non-Null Count  Dtype  \n",
      "---  ------       --------------  -----  \n",
      " 0   PassengerId  891 non-null    int64  \n",
      " 1   Survived     891 non-null    int64  \n",
      " 2   Pclass       891 non-null    int64  \n",
      " 3   Name         891 non-null    object \n",
      " 4   Sex          891 non-null    object \n",
      " 5   Age          714 non-null    float64\n",
      " 6   SibSp        891 non-null    int64  \n",
      " 7   Parch        891 non-null    int64  \n",
      " 8   Ticket       891 non-null    object \n",
      " 9   Fare         891 non-null    float64\n",
      " 10  Cabin        204 non-null    object \n",
      " 11  Embarked     889 non-null    object \n",
      "dtypes: float64(2), int64(5), object(5)\n",
      "memory usage: 83.7+ KB\n"
     ]
    }
   ],
   "source": [
    "XTRAIN.info()"
   ],
   "metadata": {
    "collapsed": false,
    "pycharm": {
     "name": "#%%\n"
    }
   }
  },
  {
   "cell_type": "markdown",
   "source": [
    "for the test data we can see that there is less missing data than in train data\n",
    "but also we have only 418 records and 11 cols (no 'Survival')"
   ],
   "metadata": {
    "collapsed": false,
    "pycharm": {
     "name": "#%% md\n"
    }
   }
  },
  {
   "cell_type": "code",
   "execution_count": 4,
   "outputs": [
    {
     "name": "stdout",
     "output_type": "stream",
     "text": [
      "<class 'pandas.core.frame.DataFrame'>\n",
      "RangeIndex: 418 entries, 0 to 417\n",
      "Data columns (total 11 columns):\n",
      " #   Column       Non-Null Count  Dtype  \n",
      "---  ------       --------------  -----  \n",
      " 0   PassengerId  418 non-null    int64  \n",
      " 1   Pclass       418 non-null    int64  \n",
      " 2   Name         418 non-null    object \n",
      " 3   Sex          418 non-null    object \n",
      " 4   Age          332 non-null    float64\n",
      " 5   SibSp        418 non-null    int64  \n",
      " 6   Parch        418 non-null    int64  \n",
      " 7   Ticket       418 non-null    object \n",
      " 8   Fare         417 non-null    float64\n",
      " 9   Cabin        91 non-null     object \n",
      " 10  Embarked     418 non-null    object \n",
      "dtypes: float64(2), int64(4), object(5)\n",
      "memory usage: 36.0+ KB\n"
     ]
    }
   ],
   "source": [
    "XTEST.info()"
   ],
   "metadata": {
    "collapsed": false,
    "pycharm": {
     "name": "#%%\n"
    }
   }
  },
  {
   "cell_type": "markdown",
   "source": [
    "## Sex\n",
    "Most of the passengers were male"
   ],
   "metadata": {
    "collapsed": false,
    "pycharm": {
     "name": "#%% md\n"
    }
   }
  },
  {
   "cell_type": "code",
   "execution_count": 5,
   "outputs": [
    {
     "data": {
      "text/plain": "<AxesSubplot:xlabel='Sex', ylabel='count'>"
     },
     "execution_count": 5,
     "metadata": {},
     "output_type": "execute_result"
    },
    {
     "data": {
      "text/plain": "<Figure size 432x288 with 1 Axes>",
      "image/png": "[encoded data removed]"
     },
     "metadata": {
      "needs_background": "light"
     },
     "output_type": "display_data"
    }
   ],
   "source": [
    "sns.countplot(x=\"Sex\",data=XTRAIN)"
   ],
   "metadata": {
    "collapsed": false,
    "pycharm": {
     "name": "#%%\n"
    }
   }
  },
  {
   "cell_type": "markdown",
   "source": [
    "## Parch - parent / child\n",
    "Most of them werent with their parents or children"
   ],
   "metadata": {
    "collapsed": false,
    "pycharm": {
     "name": "#%% md\n"
    }
   }
  },
  {
   "cell_type": "code",
   "execution_count": 6,
   "outputs": [
    {
     "data": {
      "text/plain": "<AxesSubplot:xlabel='Parch', ylabel='count'>"
     },
     "execution_count": 6,
     "metadata": {},
     "output_type": "execute_result"
    },
    {
     "data": {
      "text/plain": "<Figure size 432x288 with 1 Axes>",
      "image/png": "[encoded data removed]"
     },
     "metadata": {
      "needs_background": "light"
     },
     "output_type": "display_data"
    }
   ],
   "source": [
    "sns.countplot(x=\"Parch\",data=XTRAIN)"
   ],
   "metadata": {
    "collapsed": false,
    "pycharm": {
     "name": "#%%\n"
    }
   }
  },
  {
   "cell_type": "markdown",
   "source": [
    "## SibSp - Siblings / Spouses\n",
    "Also, most of them didnt have any siblings on spouses"
   ],
   "metadata": {
    "collapsed": false,
    "pycharm": {
     "name": "#%% md\n"
    }
   }
  },
  {
   "cell_type": "code",
   "execution_count": 7,
   "outputs": [
    {
     "data": {
      "text/plain": "<AxesSubplot:xlabel='SibSp', ylabel='count'>"
     },
     "execution_count": 7,
     "metadata": {},
     "output_type": "execute_result"
    },
    {
     "data": {
      "text/plain": "<Figure size 432x288 with 1 Axes>",
      "image/png": "[encoded data removed]"
     },
     "metadata": {
      "needs_background": "light"
     },
     "output_type": "display_data"
    }
   ],
   "source": [
    "sns.countplot(x=\"SibSp\",data=XTRAIN)"
   ],
   "metadata": {
    "collapsed": false,
    "pycharm": {
     "name": "#%%\n"
    }
   }
  },
  {
   "cell_type": "markdown",
   "source": [
    "## Pclass\n",
    "The majority of passengers were travelling in class 3"
   ],
   "metadata": {
    "collapsed": false,
    "pycharm": {
     "name": "#%% md\n"
    }
   }
  },
  {
   "cell_type": "code",
   "execution_count": 8,
   "outputs": [
    {
     "data": {
      "text/plain": "<AxesSubplot:xlabel='Pclass', ylabel='count'>"
     },
     "execution_count": 8,
     "metadata": {},
     "output_type": "execute_result"
    },
    {
     "data": {
      "text/plain": "<Figure size 432x288 with 1 Axes>",
      "image/png": "[encoded data removed]"
     },
     "metadata": {
      "needs_background": "light"
     },
     "output_type": "display_data"
    }
   ],
   "source": [
    "sns.countplot(x=\"Pclass\",data=XTRAIN)"
   ],
   "metadata": {
    "collapsed": false,
    "pycharm": {
     "name": "#%%\n"
    }
   }
  },
  {
   "cell_type": "markdown",
   "source": [
    "## Fare (opłata)\n",
    "We can see 3 main Fare groups, most of them in low and medium Fare range"
   ],
   "metadata": {
    "collapsed": false,
    "pycharm": {
     "name": "#%% md\n"
    }
   }
  },
  {
   "cell_type": "code",
   "execution_count": 10,
   "outputs": [
    {
     "data": {
      "text/plain": "<AxesSubplot:xlabel='Fare', ylabel='count'>"
     },
     "execution_count": 10,
     "metadata": {},
     "output_type": "execute_result"
    },
    {
     "data": {
      "text/plain": "<Figure size 432x288 with 1 Axes>",
      "image/png": "[encoded data removed]"
     },
     "metadata": {
      "needs_background": "light"
     },
     "output_type": "display_data"
    }
   ],
   "source": [
    "sns.countplot(x=\"Fare\",data=XTRAIN)"
   ],
   "metadata": {
    "collapsed": false,
    "pycharm": {
     "name": "#%%\n"
    }
   }
  },
  {
   "cell_type": "markdown",
   "source": [
    "## Embarked (zaokrętowanie)\n",
    "Most of the passengers went from Southampton\n",
    "Embarked column consists name for one of the cities the Titanic embarked in: S - Southampton, C - Cherbourg, Q - Queenstown"
   ],
   "metadata": {
    "collapsed": false,
    "pycharm": {
     "name": "#%% md\n"
    }
   }
  },
  {
   "cell_type": "code",
   "execution_count": 11,
   "outputs": [
    {
     "data": {
      "text/plain": "<AxesSubplot:xlabel='Embarked', ylabel='count'>"
     },
     "execution_count": 11,
     "metadata": {},
     "output_type": "execute_result"
    },
    {
     "data": {
      "text/plain": "<Figure size 432x288 with 1 Axes>",
      "image/png": "[encoded data removed]"
     },
     "metadata": {
      "needs_background": "light"
     },
     "output_type": "display_data"
    }
   ],
   "source": [
    "sns.countplot(x=\"Embarked\",data=XTRAIN)"
   ],
   "metadata": {
    "collapsed": false,
    "pycharm": {
     "name": "#%%\n"
    }
   }
  },
  {
   "cell_type": "markdown",
   "source": [
    "## Age\n",
    "The variety of passengers Age - most of them in their mid age"
   ],
   "metadata": {
    "collapsed": false,
    "pycharm": {
     "name": "#%% md\n"
    }
   }
  },
  {
   "cell_type": "code",
   "execution_count": 12,
   "outputs": [
    {
     "data": {
      "text/plain": "<AxesSubplot:xlabel='Age', ylabel='count'>"
     },
     "execution_count": 12,
     "metadata": {},
     "output_type": "execute_result"
    },
    {
     "data": {
      "text/plain": "<Figure size 432x288 with 1 Axes>",
      "image/png": "[encoded data removed]"
     },
     "metadata": {
      "needs_background": "light"
     },
     "output_type": "display_data"
    }
   ],
   "source": [
    "sns.countplot(x=\"Age\",data=XTRAIN)"
   ],
   "metadata": {
    "collapsed": false,
    "pycharm": {
     "name": "#%%\n"
    }
   }
  },
  {
   "cell_type": "markdown",
   "source": [
    "# Correlations between data\n",
    "\n",
    "We are most interested in correlation with Survived column:\n",
    "- Pclass: negative correlation suggests that most of the victims were in 3rd class, and most survivals were in 1st class\n",
    "- Fare: positive correlation suggests that the more passenger paid the more likely he survived\n",
    "\n",
    "- There are also some redundant correlations between other columns (redundancy / nadmarowość):\n",
    "- Pclass vs Fare: these 2 columns seems to have negatively correlated data\n",
    "- Pclass vs Age negative correlation suggests that 1st class passengers were the oldest ones\n",
    "- Age vs SibSp neg correlation suggests that number of siblings / spouses was higher for younger passengers\n",
    "- SibSp vs Parch correlation suggests that the more siblings / spouses the more parents / children\n",
    "- Parch vs Fare correlation also suggests that families paid higher price for tickets\n",
    "The redundancy needs to be taken care of as we want features data to be as unique as possible"
   ],
   "metadata": {
    "collapsed": false,
    "pycharm": {
     "name": "#%% md\n"
    }
   }
  },
  {
   "cell_type": "code",
   "execution_count": 12,
   "outputs": [
    {
     "data": {
      "text/plain": "<AxesSubplot:>"
     },
     "execution_count": 12,
     "metadata": {},
     "output_type": "execute_result"
    },
    {
     "data": {
      "text/plain": "<Figure size 864x720 with 2 Axes>",
      "image/png": "[encoded data removed]"
     },
     "metadata": {
      "needs_background": "light"
     },
     "output_type": "display_data"
    }
   ],
   "source": [
    "# Heatmap\n",
    "data_correlations = XTRAIN.corr()\n",
    "fig, ax = plt.subplots(figsize=(12, 10))\n",
    "sns.heatmap(data_correlations, annot=True)"
   ],
   "metadata": {
    "collapsed": false,
    "pycharm": {
     "name": "#%%\n"
    }
   }
  },
  {
   "cell_type": "markdown",
   "source": [
    "## Sex vs Survived\n",
    "The majority of the victims were male\n",
    "The majority of survivers were women\n",
    "That's because women and children took priority in evacuation by the captain orders"
   ],
   "metadata": {
    "collapsed": false,
    "pycharm": {
     "name": "#%% md\n"
    }
   }
  },
  {
   "cell_type": "code",
   "execution_count": 13,
   "outputs": [
    {
     "data": {
      "text/plain": "<AxesSubplot:xlabel='Sex', ylabel='count'>"
     },
     "execution_count": 13,
     "metadata": {},
     "output_type": "execute_result"
    },
    {
     "data": {
      "text/plain": "<Figure size 432x288 with 1 Axes>",
      "image/png": "[encoded data removed]"
     },
     "metadata": {
      "needs_background": "light"
     },
     "output_type": "display_data"
    }
   ],
   "source": [
    "sns.countplot(x=\"Sex\",hue=\"Survived\",data=XTRAIN)"
   ],
   "metadata": {
    "collapsed": false,
    "pycharm": {
     "name": "#%%\n"
    }
   }
  },
  {
   "cell_type": "markdown",
   "source": [
    "## Fare vs Survived\n",
    "Most victims are those who paid low prices"
   ],
   "metadata": {
    "collapsed": false,
    "pycharm": {
     "name": "#%% md\n"
    }
   }
  },
  {
   "cell_type": "code",
   "execution_count": 15,
   "outputs": [
    {
     "data": {
      "text/plain": "<AxesSubplot:xlabel='Fare', ylabel='count'>"
     },
     "execution_count": 15,
     "metadata": {},
     "output_type": "execute_result"
    },
    {
     "data": {
      "text/plain": "<Figure size 432x288 with 1 Axes>",
      "image/png": "[encoded data removed]"
     },
     "metadata": {
      "needs_background": "light"
     },
     "output_type": "display_data"
    }
   ],
   "source": [
    "sns.countplot(x=\"Fare\",hue=\"Survived\",data=XTRAIN)\n",
    "\n",
    "# the lower Fare"
   ],
   "metadata": {
    "collapsed": false,
    "pycharm": {
     "name": "#%%\n"
    }
   }
  },
  {
   "cell_type": "markdown",
   "source": [
    "## Pclass vs Survived\n",
    "mostly people from 3rd class died\n",
    "these data is much cleaner than Fare and shows the same correlation"
   ],
   "metadata": {
    "collapsed": false,
    "pycharm": {
     "name": "#%% md\n"
    }
   }
  },
  {
   "cell_type": "code",
   "execution_count": 16,
   "outputs": [
    {
     "data": {
      "text/plain": "<AxesSubplot:xlabel='Pclass', ylabel='count'>"
     },
     "execution_count": 16,
     "metadata": {},
     "output_type": "execute_result"
    },
    {
     "data": {
      "text/plain": "<Figure size 432x288 with 1 Axes>",
      "image/png": "[encoded data removed]"
     },
     "metadata": {
      "needs_background": "light"
     },
     "output_type": "display_data"
    }
   ],
   "source": [
    "sns.countplot(x=\"Pclass\",hue=\"Survived\",data=XTRAIN)"
   ],
   "metadata": {
    "collapsed": false,
    "pycharm": {
     "name": "#%%\n"
    }
   }
  },
  {
   "cell_type": "markdown",
   "source": [
    "## SibSp vs Survived\n",
    "most of victims were nor siblings or spouses"
   ],
   "metadata": {
    "collapsed": false,
    "pycharm": {
     "name": "#%% md\n"
    }
   }
  },
  {
   "cell_type": "code",
   "execution_count": 17,
   "outputs": [
    {
     "data": {
      "text/plain": "<AxesSubplot:xlabel='SibSp', ylabel='count'>"
     },
     "execution_count": 17,
     "metadata": {},
     "output_type": "execute_result"
    },
    {
     "data": {
      "text/plain": "<Figure size 432x288 with 1 Axes>",
      "image/png": "[encoded data removed]"
     },
     "metadata": {
      "needs_background": "light"
     },
     "output_type": "display_data"
    }
   ],
   "source": [
    "sns.countplot(x=\"SibSp\",hue=\"Survived\",data=XTRAIN)"
   ],
   "metadata": {
    "collapsed": false,
    "pycharm": {
     "name": "#%%\n"
    }
   }
  },
  {
   "cell_type": "markdown",
   "source": [
    "## Age vs Survived\n",
    "Most of the victims were young or mid-aged"
   ],
   "metadata": {
    "collapsed": false,
    "pycharm": {
     "name": "#%% md\n"
    }
   }
  },
  {
   "cell_type": "code",
   "execution_count": 18,
   "outputs": [
    {
     "data": {
      "text/plain": "<AxesSubplot:xlabel='Age', ylabel='count'>"
     },
     "execution_count": 18,
     "metadata": {},
     "output_type": "execute_result"
    },
    {
     "data": {
      "text/plain": "<Figure size 432x288 with 1 Axes>",
      "image/png": "[encoded data removed]"
     },
     "metadata": {
      "needs_background": "light"
     },
     "output_type": "display_data"
    }
   ],
   "source": [
    "sns.countplot(x=\"Age\",hue=\"Survived\",data=XTRAIN)"
   ],
   "metadata": {
    "collapsed": false,
    "pycharm": {
     "name": "#%%\n"
    }
   }
  },
  {
   "cell_type": "code",
   "execution_count": 19,
   "id": "3c16a414",
   "metadata": {},
   "outputs": [
    {
     "data": {
      "text/plain": "   PassengerId  Survived  Pclass  \\\n0            1         0       3   \n1            2         1       1   \n2            3         1       3   \n3            4         1       1   \n4            5         0       3   \n\n                                                Name     Sex   Age  SibSp  \\\n0                            Braund, Mr. Owen Harris    male  22.0      1   \n1  Cumings, Mrs. John Bradley (Florence Briggs Th...  female  38.0      1   \n2                             Heikkinen, Miss. Laina  female  26.0      0   \n3       Futrelle, Mrs. Jacques Heath (Lily May Peel)  female  35.0      1   \n4                           Allen, Mr. William Henry    male  35.0      0   \n\n   Parch            Ticket     Fare Cabin Embarked  \n0      0         A/5 21171   7.2500   NaN        S  \n1      0          PC 17599  71.2833   C85        C  \n2      0  STON/O2. 3101282   7.9250   NaN        S  \n3      0            113803  53.1000  C123        S  \n4      0            373450   8.0500   NaN        S  ",
      "text/html": "<div>\n<style scoped>\n    .dataframe tbody tr th:only-of-type {\n        vertical-align: middle;\n    }\n\n    .dataframe tbody tr th {\n        vertical-align: top;\n    }\n\n    .dataframe thead th {\n        text-align: right;\n    }\n</style>\n<table border=\"1\" class=\"dataframe\">\n  <thead>\n    <tr style=\"text-align: right;\">\n      <th></th>\n      <th>PassengerId</th>\n      <th>Survived</th>\n      <th>Pclass</th>\n      <th>Name</th>\n      <th>Sex</th>\n      <th>Age</th>\n      <th>SibSp</th>\n      <th>Parch</th>\n      <th>Ticket</th>\n      <th>Fare</th>\n      <th>Cabin</th>\n      <th>Embarked</th>\n    </tr>\n  </thead>\n  <tbody>\n    <tr>\n      <th>0</th>\n      <td>1</td>\n      <td>0</td>\n      <td>3</td>\n      <td>Braund, Mr. Owen Harris</td>\n      <td>male</td>\n      <td>22.0</td>\n      <td>1</td>\n      <td>0</td>\n      <td>A/5 21171</td>\n      <td>7.2500</td>\n      <td>NaN</td>\n      <td>S</td>\n    </tr>\n    <tr>\n      <th>1</th>\n      <td>2</td>\n      <td>1</td>\n      <td>1</td>\n      <td>Cumings, Mrs. John Bradley (Florence Briggs Th...</td>\n      <td>female</td>\n      <td>38.0</td>\n      <td>1</td>\n      <td>0</td>\n      <td>PC 17599</td>\n      <td>71.2833</td>\n      <td>C85</td>\n      <td>C</td>\n    </tr>\n    <tr>\n      <th>2</th>\n      <td>3</td>\n      <td>1</td>\n      <td>3</td>\n      <td>Heikkinen, Miss. Laina</td>\n      <td>female</td>\n      <td>26.0</td>\n      <td>0</td>\n      <td>0</td>\n      <td>STON/O2. 3101282</td>\n      <td>7.9250</td>\n      <td>NaN</td>\n      <td>S</td>\n    </tr>\n    <tr>\n      <th>3</th>\n      <td>4</td>\n      <td>1</td>\n      <td>1</td>\n      <td>Futrelle, Mrs. Jacques Heath (Lily May Peel)</td>\n      <td>female</td>\n      <td>35.0</td>\n      <td>1</td>\n      <td>0</td>\n      <td>113803</td>\n      <td>53.1000</td>\n      <td>C123</td>\n      <td>S</td>\n    </tr>\n    <tr>\n      <th>4</th>\n      <td>5</td>\n      <td>0</td>\n      <td>3</td>\n      <td>Allen, Mr. William Henry</td>\n      <td>male</td>\n      <td>35.0</td>\n      <td>0</td>\n      <td>0</td>\n      <td>373450</td>\n      <td>8.0500</td>\n      <td>NaN</td>\n      <td>S</td>\n    </tr>\n  </tbody>\n</table>\n</div>"
     },
     "execution_count": 19,
     "metadata": {},
     "output_type": "execute_result"
    }
   ],
   "source": [
    "XTRAIN.head()"
   ]
  },
  {
   "cell_type": "markdown",
   "source": [
    "## Missing, Categorical & Not Useful Data\n",
    "\n",
    "Let's see more details about nulls:\n",
    "Cabin - has only 210 not-null records (out of 891), so we should drop it as not helpful.\n",
    "Age - has some missing data, let's fill that up with an average of it\n",
    "Embarked - we cans drop these 2 record"
   ],
   "metadata": {
    "collapsed": false,
    "pycharm": {
     "name": "#%% md\n"
    }
   }
  },
  {
   "cell_type": "code",
   "execution_count": 20,
   "id": "10465696",
   "metadata": {},
   "outputs": [
    {
     "data": {
      "text/plain": "PassengerId      0\nSurvived         0\nPclass           0\nName             0\nSex              0\nAge            177\nSibSp            0\nParch            0\nTicket           0\nFare             0\nCabin          687\nEmbarked         2\ndtype: int64"
     },
     "execution_count": 20,
     "metadata": {},
     "output_type": "execute_result"
    }
   ],
   "source": [
    "XTRAIN.isnull().sum()"
   ]
  },
  {
   "cell_type": "markdown",
   "source": [
    "for the test data we have similar situation with Age,\n",
    "also 1 Fare record is missing, will drop that one."
   ],
   "metadata": {
    "collapsed": false,
    "pycharm": {
     "name": "#%% md\n"
    }
   }
  },
  {
   "cell_type": "code",
   "execution_count": 21,
   "id": "d26198e2",
   "metadata": {},
   "outputs": [
    {
     "data": {
      "text/plain": "PassengerId      0\nPclass           0\nName             0\nSex              0\nAge             86\nSibSp            0\nParch            0\nTicket           0\nFare             1\nCabin          327\nEmbarked         0\ndtype: int64"
     },
     "execution_count": 21,
     "metadata": {},
     "output_type": "execute_result"
    }
   ],
   "source": [
    "XTEST.isnull().sum()"
   ]
  },
  {
   "cell_type": "markdown",
   "source": [
    "Also, columns: Ticket, Name will be dropped as they have only unique strings, so they can't become Categorical columns\n",
    "Sex, Embarked - will be converted to Categorical"
   ],
   "metadata": {
    "collapsed": false,
    "pycharm": {
     "name": "#%% md\n"
    }
   }
  },
  {
   "cell_type": "code",
   "execution_count": 22,
   "id": "c585efe9",
   "metadata": {},
   "outputs": [
    {
     "data": {
      "text/plain": "                           Name   Sex  Ticket    Cabin Embarked\ncount                       891   891     891      204      889\nunique                      891     2     681      147        3\ntop     Braund, Mr. Owen Harris  male  347082  B96 B98        S\nfreq                          1   577       7        4      644",
      "text/html": "<div>\n<style scoped>\n    .dataframe tbody tr th:only-of-type {\n        vertical-align: middle;\n    }\n\n    .dataframe tbody tr th {\n        vertical-align: top;\n    }\n\n    .dataframe thead th {\n        text-align: right;\n    }\n</style>\n<table border=\"1\" class=\"dataframe\">\n  <thead>\n    <tr style=\"text-align: right;\">\n      <th></th>\n      <th>Name</th>\n      <th>Sex</th>\n      <th>Ticket</th>\n      <th>Cabin</th>\n      <th>Embarked</th>\n    </tr>\n  </thead>\n  <tbody>\n    <tr>\n      <th>count</th>\n      <td>891</td>\n      <td>891</td>\n      <td>891</td>\n      <td>204</td>\n      <td>889</td>\n    </tr>\n    <tr>\n      <th>unique</th>\n      <td>891</td>\n      <td>2</td>\n      <td>681</td>\n      <td>147</td>\n      <td>3</td>\n    </tr>\n    <tr>\n      <th>top</th>\n      <td>Braund, Mr. Owen Harris</td>\n      <td>male</td>\n      <td>347082</td>\n      <td>B96 B98</td>\n      <td>S</td>\n    </tr>\n    <tr>\n      <th>freq</th>\n      <td>1</td>\n      <td>577</td>\n      <td>7</td>\n      <td>4</td>\n      <td>644</td>\n    </tr>\n  </tbody>\n</table>\n</div>"
     },
     "execution_count": 22,
     "metadata": {},
     "output_type": "execute_result"
    }
   ],
   "source": [
    "XTRAIN.describe(include='object')"
   ]
  },
  {
   "cell_type": "markdown",
   "source": [
    "Same for the test data:"
   ],
   "metadata": {
    "collapsed": false
   }
  },
  {
   "cell_type": "code",
   "execution_count": 23,
   "id": "c82bc9dc",
   "metadata": {},
   "outputs": [
    {
     "data": {
      "text/plain": "                    Name   Sex    Ticket            Cabin Embarked\ncount                418   418       418               91      418\nunique               418     2       363               76        3\ntop     Kelly, Mr. James  male  PC 17608  B57 B59 B63 B66        S\nfreq                   1   266         5                3      270",
      "text/html": "<div>\n<style scoped>\n    .dataframe tbody tr th:only-of-type {\n        vertical-align: middle;\n    }\n\n    .dataframe tbody tr th {\n        vertical-align: top;\n    }\n\n    .dataframe thead th {\n        text-align: right;\n    }\n</style>\n<table border=\"1\" class=\"dataframe\">\n  <thead>\n    <tr style=\"text-align: right;\">\n      <th></th>\n      <th>Name</th>\n      <th>Sex</th>\n      <th>Ticket</th>\n      <th>Cabin</th>\n      <th>Embarked</th>\n    </tr>\n  </thead>\n  <tbody>\n    <tr>\n      <th>count</th>\n      <td>418</td>\n      <td>418</td>\n      <td>418</td>\n      <td>91</td>\n      <td>418</td>\n    </tr>\n    <tr>\n      <th>unique</th>\n      <td>418</td>\n      <td>2</td>\n      <td>363</td>\n      <td>76</td>\n      <td>3</td>\n    </tr>\n    <tr>\n      <th>top</th>\n      <td>Kelly, Mr. James</td>\n      <td>male</td>\n      <td>PC 17608</td>\n      <td>B57 B59 B63 B66</td>\n      <td>S</td>\n    </tr>\n    <tr>\n      <th>freq</th>\n      <td>1</td>\n      <td>266</td>\n      <td>5</td>\n      <td>3</td>\n      <td>270</td>\n    </tr>\n  </tbody>\n</table>\n</div>"
     },
     "execution_count": 23,
     "metadata": {},
     "output_type": "execute_result"
    }
   ],
   "source": [
    "XTEST.describe(include='object')"
   ]
  },
  {
   "cell_type": "markdown",
   "source": [
    "Let's see what we can do with missing Embarked values.\n",
    "Below you can see that the most frequent value is 'S'.\n",
    "Let's fill empty Embarked values with 'S' as this is the most common one."
   ],
   "metadata": {
    "collapsed": false,
    "pycharm": {
     "name": "#%% md\n"
    }
   }
  },
  {
   "cell_type": "code",
   "execution_count": 24,
   "id": "138f5844",
   "metadata": {},
   "outputs": [
    {
     "data": {
      "text/plain": "S    644\nC    168\nQ     77\nName: Embarked, dtype: int64"
     },
     "execution_count": 24,
     "metadata": {},
     "output_type": "execute_result"
    }
   ],
   "source": [
    "XTRAIN.Embarked.value_counts()"
   ]
  },
  {
   "cell_type": "markdown",
   "source": [
    "Same for the test data:"
   ],
   "metadata": {
    "collapsed": false,
    "pycharm": {
     "name": "#%% md\n"
    }
   }
  },
  {
   "cell_type": "code",
   "execution_count": 25,
   "id": "66be59ca",
   "metadata": {},
   "outputs": [
    {
     "data": {
      "text/plain": "S    270\nC    102\nQ     46\nName: Embarked, dtype: int64"
     },
     "execution_count": 25,
     "metadata": {},
     "output_type": "execute_result"
    }
   ],
   "source": [
    "XTEST.Embarked.value_counts()"
   ]
  },
  {
   "cell_type": "markdown",
   "id": "2c65cbc8",
   "metadata": {
    "pycharm": {
     "name": "#%% md\n"
    }
   },
   "source": [
    "\n",
    "# Data Processing\n"
   ]
  },
  {
   "cell_type": "code",
   "execution_count": 26,
   "id": "d27905c4",
   "metadata": {},
   "outputs": [],
   "source": [
    "# let's define a function that will do all the preprocessing discussed above\n",
    "def preprocess_data(df):\n",
    "    # replace empty ages with an average\n",
    "    df['Age'].fillna(df[\"Age\"].mean(), inplace=True)\n",
    "\n",
    "    # fill missing embarked values with the most common one\n",
    "    df['Embarked'].fillna('S', inplace=True)\n",
    "\n",
    "    # we don't need whole age, as experiments show that age < 18\n",
    "    # is most important for survival\n",
    "    df[\"is_child\"] = df[\"Age\"]<18\n",
    "\n",
    "    # dropping rows with empty records\n",
    "    df.dropna(inplace=True)\n",
    "    \n",
    "    # converting Categorical cols into numbers\n",
    "    df = pd.get_dummies(df, columns=[\"Pclass\", \"Embarked\", \"Sex\", \"is_child\"])\n",
    "\n",
    "    # better column naming\n",
    "    df[\"is_woman\"] = df[\"Sex_female\"]\n",
    "    df[\"is_child\"] = df[\"is_child_True\"]\n",
    "\n",
    "    # \"Pclass_2\", \"Pclass_3\" are neg correlated to Pclass_1 but the previous experiments shown that removing them\n",
    "    # makes results worse - so we are leaving it\n",
    "    df.drop(['Name', 'Cabin', 'Ticket', 'Sex_female', 'Sex_male', 'Age', 'SibSp', 'Parch'], axis='columns', inplace=True)\n",
    "    df.drop(['Embarked_Q', \"Embarked_C\", \"is_child_True\", \"is_child_False\"], axis='columns', inplace=True)\n",
    "\n",
    "    return df\n",
    "\n",
    "\n",
    "# Let's run the preprocessing on both train and test data\n",
    "X = preprocess_data(XTRAIN)\n",
    "XTEST = preprocess_data(XTEST)\n",
    "\n",
    "# we will need this column for results submission\n",
    "PassengerColumn = XTEST.PassengerId\n",
    "\n",
    "X.drop(['PassengerId'], axis='columns', inplace=True)\n",
    "XTEST.drop(['PassengerId'], axis='columns', inplace=True)\n"
   ]
  },
  {
   "cell_type": "markdown",
   "source": [
    "As we can see, the columns structure is much more meaningful and clear now:"
   ],
   "metadata": {
    "collapsed": false,
    "pycharm": {
     "name": "#%% md\n"
    }
   }
  },
  {
   "cell_type": "code",
   "execution_count": 27,
   "outputs": [
    {
     "data": {
      "text/plain": "    Survived     Fare  Pclass_1  Pclass_2  Pclass_3  Embarked_S  is_woman  \\\n1          1  71.2833         1         0         0           0         1   \n3          1  53.1000         1         0         0           1         1   \n6          0  51.8625         1         0         0           1         0   \n10         1  16.7000         0         0         1           1         1   \n11         1  26.5500         1         0         0           1         1   \n\n    is_child  \n1          0  \n3          0  \n6          0  \n10         1  \n11         0  ",
      "text/html": "<div>\n<style scoped>\n    .dataframe tbody tr th:only-of-type {\n        vertical-align: middle;\n    }\n\n    .dataframe tbody tr th {\n        vertical-align: top;\n    }\n\n    .dataframe thead th {\n        text-align: right;\n    }\n</style>\n<table border=\"1\" class=\"dataframe\">\n  <thead>\n    <tr style=\"text-align: right;\">\n      <th></th>\n      <th>Survived</th>\n      <th>Fare</th>\n      <th>Pclass_1</th>\n      <th>Pclass_2</th>\n      <th>Pclass_3</th>\n      <th>Embarked_S</th>\n      <th>is_woman</th>\n      <th>is_child</th>\n    </tr>\n  </thead>\n  <tbody>\n    <tr>\n      <th>1</th>\n      <td>1</td>\n      <td>71.2833</td>\n      <td>1</td>\n      <td>0</td>\n      <td>0</td>\n      <td>0</td>\n      <td>1</td>\n      <td>0</td>\n    </tr>\n    <tr>\n      <th>3</th>\n      <td>1</td>\n      <td>53.1000</td>\n      <td>1</td>\n      <td>0</td>\n      <td>0</td>\n      <td>1</td>\n      <td>1</td>\n      <td>0</td>\n    </tr>\n    <tr>\n      <th>6</th>\n      <td>0</td>\n      <td>51.8625</td>\n      <td>1</td>\n      <td>0</td>\n      <td>0</td>\n      <td>1</td>\n      <td>0</td>\n      <td>0</td>\n    </tr>\n    <tr>\n      <th>10</th>\n      <td>1</td>\n      <td>16.7000</td>\n      <td>0</td>\n      <td>0</td>\n      <td>1</td>\n      <td>1</td>\n      <td>1</td>\n      <td>1</td>\n    </tr>\n    <tr>\n      <th>11</th>\n      <td>1</td>\n      <td>26.5500</td>\n      <td>1</td>\n      <td>0</td>\n      <td>0</td>\n      <td>1</td>\n      <td>1</td>\n      <td>0</td>\n    </tr>\n  </tbody>\n</table>\n</div>"
     },
     "execution_count": 27,
     "metadata": {},
     "output_type": "execute_result"
    }
   ],
   "source": [
    "X.head()"
   ],
   "metadata": {
    "collapsed": false,
    "pycharm": {
     "name": "#%%\n"
    }
   }
  },
  {
   "cell_type": "markdown",
   "source": [
    "Also, there are no nulls:"
   ],
   "metadata": {
    "collapsed": false,
    "pycharm": {
     "name": "#%% md\n"
    }
   }
  },
  {
   "cell_type": "code",
   "execution_count": 28,
   "outputs": [
    {
     "name": "stdout",
     "output_type": "stream",
     "text": [
      "<class 'pandas.core.frame.DataFrame'>\n",
      "Int64Index: 204 entries, 1 to 889\n",
      "Data columns (total 8 columns):\n",
      " #   Column      Non-Null Count  Dtype  \n",
      "---  ------      --------------  -----  \n",
      " 0   Survived    204 non-null    int64  \n",
      " 1   Fare        204 non-null    float64\n",
      " 2   Pclass_1    204 non-null    uint8  \n",
      " 3   Pclass_2    204 non-null    uint8  \n",
      " 4   Pclass_3    204 non-null    uint8  \n",
      " 5   Embarked_S  204 non-null    uint8  \n",
      " 6   is_woman    204 non-null    uint8  \n",
      " 7   is_child    204 non-null    uint8  \n",
      "dtypes: float64(1), int64(1), uint8(6)\n",
      "memory usage: 6.0 KB\n"
     ]
    }
   ],
   "source": [
    "X.info()"
   ],
   "metadata": {
    "collapsed": false,
    "pycharm": {
     "name": "#%%\n"
    }
   }
  },
  {
   "cell_type": "code",
   "execution_count": 29,
   "id": "9114d06d",
   "metadata": {},
   "outputs": [
    {
     "data": {
      "text/plain": "Survived      0\nFare          0\nPclass_1      0\nPclass_2      0\nPclass_3      0\nEmbarked_S    0\nis_woman      0\nis_child      0\ndtype: int64"
     },
     "execution_count": 29,
     "metadata": {},
     "output_type": "execute_result"
    }
   ],
   "source": [
    "X.isnull().sum()"
   ]
  },
  {
   "cell_type": "code",
   "execution_count": 30,
   "id": "8297bc7e",
   "metadata": {},
   "outputs": [
    {
     "data": {
      "text/plain": "Fare          0\nPclass_1      0\nPclass_2      0\nPclass_3      0\nEmbarked_S    0\nis_woman      0\nis_child      0\ndtype: int64"
     },
     "execution_count": 30,
     "metadata": {},
     "output_type": "execute_result"
    }
   ],
   "source": [
    "XTEST.isnull().sum()"
   ]
  },
  {
   "cell_type": "markdown",
   "id": "91cc684f",
   "metadata": {
    "pycharm": {
     "name": "#%% md\n"
    }
   },
   "source": [
    "\n",
    "# Post-Processing Data Analysis\n"
   ]
  },
  {
   "cell_type": "markdown",
   "source": [
    "- Survived vs is_woman 55% neg correlation\n",
    "- is_child vs Survival 16% positive correlation\n",
    "- Embarked_S vs Survived neg 12% corr\n",
    "- scale_fare vs Survival 13% corr"
   ],
   "metadata": {
    "collapsed": false,
    "pycharm": {
     "name": "#%% md\n"
    }
   }
  },
  {
   "cell_type": "code",
   "execution_count": 30,
   "id": "2e0d63e6",
   "metadata": {},
   "outputs": [
    {
     "data": {
      "text/plain": "<AxesSubplot:>"
     },
     "execution_count": 30,
     "metadata": {},
     "output_type": "execute_result"
    },
    {
     "data": {
      "text/plain": "<Figure size 864x720 with 2 Axes>",
      "image/png": "[encoded data removed]"
     },
     "metadata": {
      "needs_background": "light"
     },
     "output_type": "display_data"
    }
   ],
   "source": [
    "# Heatmap\n",
    "plt.subplots(figsize=(12, 10))\n",
    "sns.heatmap(X.corr(), annot=True)"
   ]
  },
  {
   "cell_type": "markdown",
   "source": [
    "# Preparing for Model Training\n",
    "\n",
    "## Separating target from features"
   ],
   "metadata": {
    "collapsed": false,
    "pycharm": {
     "name": "#%% md\n"
    }
   }
  },
  {
   "cell_type": "code",
   "execution_count": 31,
   "id": "5b704d4d",
   "metadata": {},
   "outputs": [
    {
     "name": "stdout",
     "output_type": "stream",
     "text": [
      "<class 'pandas.core.frame.DataFrame'>\n",
      "Int64Index: 204 entries, 1 to 889\n",
      "Data columns (total 7 columns):\n",
      " #   Column      Non-Null Count  Dtype  \n",
      "---  ------      --------------  -----  \n",
      " 0   Fare        204 non-null    float64\n",
      " 1   Pclass_1    204 non-null    uint8  \n",
      " 2   Pclass_2    204 non-null    uint8  \n",
      " 3   Pclass_3    204 non-null    uint8  \n",
      " 4   Embarked_S  204 non-null    uint8  \n",
      " 5   is_woman    204 non-null    uint8  \n",
      " 6   is_child    204 non-null    uint8  \n",
      "dtypes: float64(1), uint8(6)\n",
      "memory usage: 4.4 KB\n"
     ]
    }
   ],
   "source": [
    "y = X['Survived']\n",
    "X = X.drop(['Survived'], axis=1)\n",
    "X.info()"
   ]
  },
  {
   "cell_type": "markdown",
   "source": [
    "## Splitting train data into train & validation data\n",
    "as we can see the number of records in train data is lowered"
   ],
   "metadata": {
    "collapsed": false,
    "pycharm": {
     "name": "#%% md\n"
    }
   }
  },
  {
   "cell_type": "code",
   "execution_count": 32,
   "id": "642c3498",
   "metadata": {},
   "outputs": [
    {
     "name": "stdout",
     "output_type": "stream",
     "text": [
      "<class 'pandas.core.frame.DataFrame'>\n",
      "Int64Index: 163 entries, 515 to 745\n",
      "Data columns (total 7 columns):\n",
      " #   Column      Non-Null Count  Dtype  \n",
      "---  ------      --------------  -----  \n",
      " 0   Fare        163 non-null    float64\n",
      " 1   Pclass_1    163 non-null    uint8  \n",
      " 2   Pclass_2    163 non-null    uint8  \n",
      " 3   Pclass_3    163 non-null    uint8  \n",
      " 4   Embarked_S  163 non-null    uint8  \n",
      " 5   is_woman    163 non-null    uint8  \n",
      " 6   is_child    163 non-null    uint8  \n",
      "dtypes: float64(1), uint8(6)\n",
      "memory usage: 3.5 KB\n"
     ]
    }
   ],
   "source": [
    "X_train, X_valid, y_train, y_valid = train_test_split(X, y, train_size=0.8, test_size=0.2, random_state=0)\n",
    "X_train.info()"
   ]
  },
  {
   "cell_type": "markdown",
   "id": "1139f3ba",
   "metadata": {
    "pycharm": {
     "name": "#%% md\n"
    }
   },
   "source": [
    "# Models Training & Hyper-params Tuning for Different Classification Models\n"
   ]
  },
  {
   "cell_type": "code",
   "execution_count": 33,
   "id": "2c5d9fa4",
   "metadata": {},
   "outputs": [
    {
     "name": "stdout",
     "output_type": "stream",
     "text": [
      "> Model: LogisticRegression\n",
      "Fitting 5 folds for each of 8 candidates, totalling 40 fits\n",
      "Best params: {'C': 0.7, 'penalty': 'l2'}\n",
      "Best score: 0.7729166666666666\n",
      "Accuracy score:  0.6341463414634146\n",
      "Accuracy count:  26 / 41\n",
      "Precision score:  0.6405878674171357\n",
      "Recall score:  0.6341463414634146\n",
      "F1 score:  0.6370027135534855\n",
      "\n",
      "> Model: DecisionTreeClassifier\n",
      "Fitting 5 folds for each of 4 candidates, totalling 20 fits\n",
      "Best params: {'max_depth': 10}\n",
      "Best score: 0.7484848484848484\n",
      "Accuracy score:  0.6829268292682927\n",
      "Accuracy count:  28 / 41\n",
      "Precision score:  0.677767354596623\n",
      "Recall score:  0.6829268292682927\n",
      "F1 score:  0.6799375872546605\n",
      "\n",
      "> Model: GradientBoostingClassifier\n",
      "Fitting 5 folds for each of 54 candidates, totalling 270 fits\n",
      "Best params: {'learning_rate': 0.04000000000000001, 'max_depth': 5, 'n_estimators': 350}\n",
      "Best score: 0.8285984848484848\n",
      "Accuracy score:  0.7560975609756098\n",
      "Accuracy count:  31 / 41\n",
      "Precision score:  0.7560975609756098\n",
      "Recall score:  0.7560975609756098\n",
      "F1 score:  0.7560975609756098\n",
      "\n",
      "Done.\n"
     ]
    }
   ],
   "source": [
    "from sklearn.tree import DecisionTreeClassifier\n",
    "# Ensemble Machine Learning Approach\n",
    "# https://www.datacamp.com/community/tutorials/adaboost-classifier-python?utm_source=adwords_ppc&utm_medium=cpc&utm_campaignid=14989519638&utm_adgroupid=127836677279&utm_device=c&utm_keyword=&utm_matchtype=&utm_network=g&utm_adpostion=&utm_creative=278443377095&utm_targetid=dsa-429603003980&utm_loc_interest_ms=&utm_loc_physical_ms=9061060&gclid=CjwKCAiA_omPBhBBEiwAcg7smbQQMeHghK-VyfEArRtCwA53E1PErY_NcMUYp7qCJNy_hRerXLHf9RoC4aUQAvD_BwE\n",
    "\n",
    "from sklearn.linear_model import LogisticRegression\n",
    "from libs.simple_processing import get_model_name\n",
    "\n",
    "params = [\n",
    "    {\n",
    "        # possible to experiment with different solvers and max_iter param\n",
    "        'model': LogisticRegression(solver='liblinear', max_iter=1000, fit_intercept=True),\n",
    "        'hyperparams': {\n",
    "            'penalty': ['l1', 'l2'],\n",
    "            'C': [0.7, 0.8, 0.9, 1]\n",
    "        }\n",
    "    },\n",
    "    {\n",
    "        'model': DecisionTreeClassifier(random_state=0, max_features=\"auto\"),\n",
    "        'hyperparams': {\n",
    "            'max_depth': [6, 7, 8, 10]\n",
    "        }\n",
    "    },\n",
    "    {\n",
    "        'model': GradientBoostingClassifier(random_state=0, max_features=\"auto\"),\n",
    "        'hyperparams': {\n",
    "            'n_estimators': range(250, 400, 50),\n",
    "            'learning_rate': np.arange(0.02, 0.05, 0.005),\n",
    "            'max_depth': range(4, 7, 1)\n",
    "        }\n",
    "    }\n",
    "]\n",
    "from libs.simple_processing import print_scores\n",
    "\n",
    "grid_model = {}\n",
    "\n",
    "# also tried to use cv=4 and 6-15 but it made results worse\n",
    "# Values for scoring: https://scikit-learn.org/stable/modules/model_evaluation.html#scoring-parameter\n",
    "\n",
    "for p in params:\n",
    "    print('> Model:', get_model_name(p['model']))\n",
    "    grid_model = GridSearchCV(p['model'], p['hyperparams'], cv=5, n_jobs=-1, scoring='accuracy', verbose=1)\n",
    "    grid_model.fit(X_train, y_train)\n",
    "    print('Best params:', grid_model.best_params_)\n",
    "    print('Best score:', grid_model.best_score_)\n",
    "    y_pred = grid_model.predict(X_valid)\n",
    "    print_scores(y_valid, y_pred)\n",
    "\n",
    "print('Done.')"
   ]
  },
  {
   "cell_type": "markdown",
   "source": [
    "# Hyper-params Tuning Summary\n",
    "Best performing model is GradientBoostingClassifier with accuracy score around 82,8%"
   ],
   "metadata": {
    "collapsed": false
   }
  },
  {
   "cell_type": "markdown",
   "source": [
    "## The Winner"
   ],
   "metadata": {
    "collapsed": false
   }
  },
  {
   "cell_type": "code",
   "execution_count": 34,
   "outputs": [
    {
     "data": {
      "text/plain": "     y_valid  y_pred\n96         0       0\n230        1       1\n174        0       1\n193        1       1\n487        0       1\n394        1       1\n21         1       0\n544        0       0\n61         1       1\n689        1       1",
      "text/html": "<div>\n<style scoped>\n    .dataframe tbody tr th:only-of-type {\n        vertical-align: middle;\n    }\n\n    .dataframe tbody tr th {\n        vertical-align: top;\n    }\n\n    .dataframe thead th {\n        text-align: right;\n    }\n</style>\n<table border=\"1\" class=\"dataframe\">\n  <thead>\n    <tr style=\"text-align: right;\">\n      <th></th>\n      <th>y_valid</th>\n      <th>y_pred</th>\n    </tr>\n  </thead>\n  <tbody>\n    <tr>\n      <th>96</th>\n      <td>0</td>\n      <td>0</td>\n    </tr>\n    <tr>\n      <th>230</th>\n      <td>1</td>\n      <td>1</td>\n    </tr>\n    <tr>\n      <th>174</th>\n      <td>0</td>\n      <td>1</td>\n    </tr>\n    <tr>\n      <th>193</th>\n      <td>1</td>\n      <td>1</td>\n    </tr>\n    <tr>\n      <th>487</th>\n      <td>0</td>\n      <td>1</td>\n    </tr>\n    <tr>\n      <th>394</th>\n      <td>1</td>\n      <td>1</td>\n    </tr>\n    <tr>\n      <th>21</th>\n      <td>1</td>\n      <td>0</td>\n    </tr>\n    <tr>\n      <th>544</th>\n      <td>0</td>\n      <td>0</td>\n    </tr>\n    <tr>\n      <th>61</th>\n      <td>1</td>\n      <td>1</td>\n    </tr>\n    <tr>\n      <th>689</th>\n      <td>1</td>\n      <td>1</td>\n    </tr>\n  </tbody>\n</table>\n</div>"
     },
     "execution_count": 34,
     "metadata": {},
     "output_type": "execute_result"
    }
   ],
   "source": [
    "# model = GradientBoostingClassifier(n_estimators=300, random_state=0, learning_rate=0.010, max_depth=6)\n",
    "\n",
    "model = GradientBoostingClassifier(learning_rate=0.04000000000000001, max_depth=5, n_estimators=350)\n",
    "model.fit(X_train, y_train)\n",
    "y_pred = model.predict(X_valid)\n",
    "pred_results = pd.DataFrame({'y_valid' : y_valid, 'y_pred': y_pred})\n",
    "\n",
    "pred_results.head(10)"
   ],
   "metadata": {
    "collapsed": false,
    "pycharm": {
     "name": "#%%\n"
    }
   }
  },
  {
   "cell_type": "markdown",
   "source": [
    "## Receiver Operating Characteristic (ROC)"
   ],
   "metadata": {
    "collapsed": false
   }
  },
  {
   "cell_type": "code",
   "execution_count": 35,
   "outputs": [
    {
     "data": {
      "text/plain": "<Figure size 432x288 with 1 Axes>",
      "image/png": "[encoded data removed]"
     },
     "metadata": {
      "needs_background": "light"
     },
     "output_type": "display_data"
    }
   ],
   "source": [
    "from libs.simpleplotter import *\n",
    "\n",
    "simple_roc(y_valid, y_pred)"
   ],
   "metadata": {
    "collapsed": false,
    "pycharm": {
     "name": "#%%\n"
    }
   }
  },
  {
   "cell_type": "markdown",
   "source": [
    "## Confusion Matrix / Macierz pomyłek"
   ],
   "metadata": {
    "collapsed": false,
    "pycharm": {
     "name": "#%% md\n"
    }
   }
  },
  {
   "cell_type": "markdown",
   "source": [
    "Now, let's take a look at the results"
   ],
   "metadata": {
    "collapsed": false
   }
  },
  {
   "cell_type": "code",
   "execution_count": 36,
   "outputs": [
    {
     "data": {
      "text/plain": "<Figure size 180x180 with 1 Axes>",
      "image/png": "[encoded data removed]"
     },
     "metadata": {
      "needs_background": "light"
     },
     "output_type": "display_data"
    }
   ],
   "source": [
    "conf_matrix = simple_confusion_matrix(y_valid, y_pred, model.classes_)"
   ],
   "metadata": {
    "collapsed": false,
    "pycharm": {
     "name": "#%%\n"
    }
   }
  },
  {
   "cell_type": "code",
   "execution_count": 37,
   "outputs": [
    {
     "name": "stdout",
     "output_type": "stream",
     "text": [
      "TP: 22\n",
      "TN: 9\n",
      "FP: 5\n",
      "FN: 5\n"
     ]
    }
   ],
   "source": [
    "# crosstab = pd.crosstab(pred_results.y_pred, pred_results.y_valid)\n",
    "print('TP:', conf_matrix[1][1])\n",
    "print('TN:', conf_matrix[0][0])\n",
    "print('FP:', conf_matrix[0][1])\n",
    "print('FN:', conf_matrix[1][0])"
   ],
   "metadata": {
    "collapsed": false,
    "pycharm": {
     "name": "#%%\n"
    }
   }
  },
  {
   "cell_type": "markdown",
   "source": [
    "Accuracy score / Dokładność [(TP+TN) / (TP+TN+FP+FN)]: how many of the values were predicted correctly?\n",
    "Accuracy count: number of correct predictions\n",
    "Precision score / Precyzja [TP / (TP+FP)]: how many passengers that the model thought survived actually did survive?\n",
    "Recall score / Pełność [TP / (TP+FN]: how many of the actual survivors the model correctly predicted?\n",
    "(also known as true positive rate / wskaźnik skuteczności - ryzyko niepoprawnego oznaczenia ofiary wypadku)\n",
    "F1 score [2(prec x rec) / (prec + rec)]: combination of the above precision and recall scores"
   ],
   "metadata": {
    "collapsed": false,
    "pycharm": {
     "name": "#%% md\n"
    }
   }
  },
  {
   "cell_type": "code",
   "execution_count": 38,
   "outputs": [
    {
     "name": "stdout",
     "output_type": "stream",
     "text": [
      "Accuracy score:  0.7560975609756098\n",
      "Accuracy count:  31 / 41\n",
      "Precision score:  0.7560975609756098\n",
      "Recall score:  0.7560975609756098\n",
      "F1 score:  0.7560975609756098\n"
     ]
    }
   ],
   "source": [
    "from libs.simple_processing import print_scores\n",
    "print_scores(y_valid, y_pred)"
   ],
   "metadata": {
    "collapsed": false,
    "pycharm": {
     "name": "#%%\n"
    }
   }
  },
  {
   "cell_type": "markdown",
   "source": [
    "## Which features became decision makers for the model?"
   ],
   "metadata": {
    "collapsed": false,
    "pycharm": {
     "name": "#%% md\n"
    }
   }
  },
  {
   "cell_type": "code",
   "execution_count": 37,
   "outputs": [
    {
     "data": {
      "text/plain": "<Figure size 432x288 with 1 Axes>",
      "image/png": "[encoded data removed]"
     },
     "metadata": {
      "needs_background": "light"
     },
     "output_type": "display_data"
    }
   ],
   "source": [
    "from libs.simpleplotter import feature_importance\n",
    "\n",
    "feature_importance(model, X_train)"
   ],
   "metadata": {
    "collapsed": false,
    "pycharm": {
     "name": "#%%\n"
    }
   }
  },
  {
   "cell_type": "markdown",
   "id": "c21dc002",
   "metadata": {
    "pycharm": {
     "name": "#%% md\n"
    }
   },
   "source": [
    "# Generating Model Predictions For Test Data & Saving the results for Kaggle Competition"
   ]
  },
  {
   "cell_type": "code",
   "execution_count": 38,
   "outputs": [
    {
     "data": {
      "text/plain": "    PassengerId  Survived\n0           904         1\n1           906         1\n2           916         1\n3           918         1\n4           920         1\n..          ...       ...\n86         1296         0\n87         1297         0\n88         1299         0\n89         1303         1\n90         1306         1\n\n[91 rows x 2 columns]",
      "text/html": "<div>\n<style scoped>\n    .dataframe tbody tr th:only-of-type {\n        vertical-align: middle;\n    }\n\n    .dataframe tbody tr th {\n        vertical-align: top;\n    }\n\n    .dataframe thead th {\n        text-align: right;\n    }\n</style>\n<table border=\"1\" class=\"dataframe\">\n  <thead>\n    <tr style=\"text-align: right;\">\n      <th></th>\n      <th>PassengerId</th>\n      <th>Survived</th>\n    </tr>\n  </thead>\n  <tbody>\n    <tr>\n      <th>0</th>\n      <td>904</td>\n      <td>1</td>\n    </tr>\n    <tr>\n      <th>1</th>\n      <td>906</td>\n      <td>1</td>\n    </tr>\n    <tr>\n      <th>2</th>\n      <td>916</td>\n      <td>1</td>\n    </tr>\n    <tr>\n      <th>3</th>\n      <td>918</td>\n      <td>1</td>\n    </tr>\n    <tr>\n      <th>4</th>\n      <td>920</td>\n      <td>1</td>\n    </tr>\n    <tr>\n      <th>...</th>\n      <td>...</td>\n      <td>...</td>\n    </tr>\n    <tr>\n      <th>86</th>\n      <td>1296</td>\n      <td>0</td>\n    </tr>\n    <tr>\n      <th>87</th>\n      <td>1297</td>\n      <td>0</td>\n    </tr>\n    <tr>\n      <th>88</th>\n      <td>1299</td>\n      <td>0</td>\n    </tr>\n    <tr>\n      <th>89</th>\n      <td>1303</td>\n      <td>1</td>\n    </tr>\n    <tr>\n      <th>90</th>\n      <td>1306</td>\n      <td>1</td>\n    </tr>\n  </tbody>\n</table>\n<p>91 rows × 2 columns</p>\n</div>"
     },
     "execution_count": 38,
     "metadata": {},
     "output_type": "execute_result"
    }
   ],
   "source": [
    "y_test = model.predict(XTEST)\n",
    "output = pd.DataFrame({'PassengerId': PassengerColumn, 'Survived': y_test})\n",
    "output.to_csv('./submission.csv', index=False)\n",
    "SUBMISSION = pd.read_csv(\"./submission.csv\")\n",
    "SUBMISSION"
   ],
   "metadata": {
    "collapsed": false,
    "pycharm": {
     "name": "#%%\n"
    }
   }
  }
 ],
 "metadata": {
  "kernelspec": {
   "display_name": "Python 3 (ipykernel)",
   "language": "python",
   "name": "python3"
  },
  "language_info": {
   "codemirror_mode": {
    "name": "ipython",
    "version": 3
   },
   "file_extension": ".py",
   "mimetype": "text/x-python",
   "name": "python",
   "nbconvert_exporter": "python",
   "pygments_lexer": "ipython3",
   "version": "3.9.7"
  }
 },
 "nbformat": 4,
 "nbformat_minor": 5
}