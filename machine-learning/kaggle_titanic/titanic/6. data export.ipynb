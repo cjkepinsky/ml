{
 "cells": [
  {
   "cell_type": "code",
   "execution_count": 1,
   "metadata": {
    "collapsed": true
   },
   "outputs": [
    {
     "name": "stdout",
     "output_type": "stream",
     "text": [
      "<class 'pandas.core.frame.DataFrame'>\n",
      "RangeIndex: 891 entries, 0 to 890\n",
      "Data columns (total 9 columns):\n",
      " #   Column       Non-Null Count  Dtype  \n",
      "---  ------       --------------  -----  \n",
      " 0   Unnamed: 0   891 non-null    int64  \n",
      " 1   PassengerId  891 non-null    int64  \n",
      " 2   Pclass       891 non-null    int64  \n",
      " 3   Sex          891 non-null    object \n",
      " 4   Age          891 non-null    float64\n",
      " 5   SibSp        891 non-null    int64  \n",
      " 6   Parch        891 non-null    int64  \n",
      " 7   Fare         891 non-null    float64\n",
      " 8   Embarked     891 non-null    object \n",
      "dtypes: float64(2), int64(5), object(2)\n",
      "memory usage: 62.8+ KB\n"
     ]
    }
   ],
   "source": [
    "import pandas as pd  # data processing, CSV file I/O (e.g. pd.read_csv)\n",
    "from sklearn.ensemble import GradientBoostingClassifier\n",
    "from libs.simple_hyper_tuner import predict_print_valid_scores\n",
    "from constants import source_path, target_name, x_path, y_path, test_x_path, predictions_path, model_path\n",
    "import joblib\n",
    "from sklearn.model_selection import GridSearchCV\n",
    "from libs.simple_processing import categorize_train_valid_test, train_test_split\n",
    "import numpy\n",
    "\n",
    "X = pd.read_csv(x_path)\n",
    "y = pd.read_csv(y_path)[target_name]\n",
    "test_X = pd.read_csv(test_x_path)\n",
    "\n",
    "X.info()"
   ]
  },
  {
   "cell_type": "code",
   "execution_count": 2,
   "outputs": [
    {
     "name": "stdout",
     "output_type": "stream",
     "text": [
      "<class 'pandas.core.frame.DataFrame'>\n",
      "RangeIndex: 418 entries, 0 to 417\n",
      "Data columns (total 9 columns):\n",
      " #   Column       Non-Null Count  Dtype  \n",
      "---  ------       --------------  -----  \n",
      " 0   Unnamed: 0   418 non-null    int64  \n",
      " 1   PassengerId  418 non-null    int64  \n",
      " 2   Pclass       418 non-null    int64  \n",
      " 3   Sex          418 non-null    object \n",
      " 4   Age          418 non-null    float64\n",
      " 5   SibSp        418 non-null    int64  \n",
      " 6   Parch        418 non-null    int64  \n",
      " 7   Fare         418 non-null    float64\n",
      " 8   Embarked     418 non-null    object \n",
      "dtypes: float64(2), int64(5), object(2)\n",
      "memory usage: 29.5+ KB\n"
     ]
    }
   ],
   "source": [
    "test_X.info()"
   ],
   "metadata": {
    "collapsed": false,
    "pycharm": {
     "name": "#%%\n"
    }
   }
  },
  {
   "cell_type": "code",
   "execution_count": 3,
   "outputs": [
    {
     "name": "stdout",
     "output_type": "stream",
     "text": [
      "- F1 score:  0.802101506489654\n"
     ]
    },
    {
     "data": {
      "text/plain": "<Figure size 432x288 with 1 Axes>",
      "image/png": "[encoded data removed]"
     },
     "metadata": {
      "needs_background": "light"
     },
     "output_type": "display_data"
    }
   ],
   "source": [
    "cv = 2\n",
    "random_state = 50\n",
    "train_size = 0.8\n",
    "\n",
    "X_train, X_valid, y_train, y_valid = train_test_split(X, y, train_size=train_size, random_state=random_state)\n",
    "X_train, X_valid, X_test = categorize_train_valid_test(X_train, X_valid, test_X)\n",
    "\n",
    "params = {\n",
    "    'model': GradientBoostingClassifier(\n",
    "        n_estimators=400, random_state=0, learning_rate=0.025, max_depth=5, max_features=\"auto\"\n",
    "    )\n",
    "}\n",
    "\n",
    "grid_model = GridSearchCV(params['model'], {}, cv=cv, n_jobs=3, verbose=0)\n",
    "grid_model.fit(X_train, y_train)\n",
    "f1 = predict_print_valid_scores(grid_model, X_valid, y_valid, 0)"
   ],
   "metadata": {
    "collapsed": false,
    "pycharm": {
     "name": "#%%\n"
    }
   }
  },
  {
   "cell_type": "code",
   "execution_count": 4,
   "outputs": [
    {
     "name": "stdout",
     "output_type": "stream",
     "text": [
      "Model saved.\n"
     ]
    }
   ],
   "source": [
    "# Saving the model\n",
    "joblib.dump(grid_model, model_path, compress=3)\n",
    "grid_model = joblib.load(model_path)\n",
    "print(\"Model saved.\")"
   ],
   "metadata": {
    "collapsed": false,
    "pycharm": {
     "name": "#%%\n"
    }
   }
  },
  {
   "cell_type": "code",
   "execution_count": 5,
   "outputs": [
    {
     "name": "stdout",
     "output_type": "stream",
     "text": [
      "Results saved.\n"
     ]
    }
   ],
   "source": [
    "# Saving predictions\n",
    "predictions = grid_model.predict(X_test)\n",
    "results = pd.DataFrame({\"PassengerId\": X_test[\"PassengerId\"],\"Survived\": predictions})\n",
    "results.to_csv(predictions_path, index=False)\n",
    "# numpy.savetxt(predictions_path, predictions, delimiter=\",\")\n",
    "\n",
    "print(\"Results saved.\")\n"
   ],
   "metadata": {
    "collapsed": false,
    "pycharm": {
     "name": "#%%\n"
    }
   }
  }
 ],
 "metadata": {
  "kernelspec": {
   "display_name": "Python 3",
   "language": "python",
   "name": "python3"
  },
  "language_info": {
   "codemirror_mode": {
    "name": "ipython",
    "version": 2
   },
   "file_extension": ".py",
   "mimetype": "text/x-python",
   "name": "python",
   "nbconvert_exporter": "python",
   "pygments_lexer": "ipython2",
   "version": "2.7.6"
  }
 },
 "nbformat": 4,
 "nbformat_minor": 0
}