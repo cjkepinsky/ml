{
 "cells": [
  {
   "cell_type": "code",
   "execution_count": 35,
   "outputs": [],
   "source": [
    "# https://www.kaggle.com/alexisbcook/titanic-tutorial\n",
    "# https://www.kaggle.com/startupsci/titanic-data-science-solutions/notebook\n",
    "import pandas as pd\n",
    "import libs.simple_processing as pds\n",
    "from sklearn.ensemble import GradientBoostingClassifier\n",
    "import numpy as np\n",
    "import re"
   ],
   "metadata": {
    "collapsed": false,
    "pycharm": {
     "name": "#%%\n"
    }
   }
  },
  {
   "cell_type": "code",
   "execution_count": 36,
   "outputs": [
    {
     "name": "stdout",
     "output_type": "stream",
     "text": [
      "<class 'pandas.core.frame.DataFrame'>\n",
      "RangeIndex: 418 entries, 0 to 417\n",
      "Data columns (total 11 columns):\n",
      " #   Column       Non-Null Count  Dtype  \n",
      "---  ------       --------------  -----  \n",
      " 0   PassengerId  418 non-null    int64  \n",
      " 1   Pclass       418 non-null    int64  \n",
      " 2   Name         418 non-null    object \n",
      " 3   Sex          418 non-null    object \n",
      " 4   Age          332 non-null    float64\n",
      " 5   SibSp        418 non-null    int64  \n",
      " 6   Parch        418 non-null    int64  \n",
      " 7   Ticket       418 non-null    object \n",
      " 8   Fare         417 non-null    float64\n",
      " 9   Cabin        91 non-null     object \n",
      " 10  Embarked     418 non-null    object \n",
      "dtypes: float64(2), int64(4), object(5)\n",
      "memory usage: 36.0+ KB\n"
     ]
    }
   ],
   "source": [
    "results = {}\n",
    "# Read the data\n",
    "X = pd.read_csv('input/train.csv')\n",
    "X_test_full = pd.read_csv('input/test.csv')\n",
    "\n",
    "X_test_full.info()\n",
    "TEST = X_test_full.copy()\n",
    "PassengerIds = X_test_full.PassengerId.copy()"
   ],
   "metadata": {
    "collapsed": false,
    "pycharm": {
     "name": "#%%\n"
    }
   }
  },
  {
   "cell_type": "code",
   "execution_count": 37,
   "outputs": [
    {
     "data": {
      "text/plain": "     PassengerId  Pclass     Sex   Age  SibSp  Parch      Fare Embarked\n0            892       3    male  34.5      0      0    7.8292        Q\n1            893       3  female  47.0      1      0    7.0000        S\n2            894       2    male  62.0      0      0    9.6875        Q\n3            895       3    male  27.0      0      0    8.6625        S\n4            896       3  female  22.0      1      1   12.2875        S\n..           ...     ...     ...   ...    ...    ...       ...      ...\n409         1301       3  female   3.0      1      1   13.7750        S\n411         1303       1  female  37.0      1      0   90.0000        Q\n412         1304       3  female  28.0      0      0    7.7750        S\n414         1306       1  female  39.0      0      0  108.9000        C\n415         1307       3    male  38.5      0      0    7.2500        S\n\n[331 rows x 8 columns]",
      "text/html": "<div>\n<style scoped>\n    .dataframe tbody tr th:only-of-type {\n        vertical-align: middle;\n    }\n\n    .dataframe tbody tr th {\n        vertical-align: top;\n    }\n\n    .dataframe thead th {\n        text-align: right;\n    }\n</style>\n<table border=\"1\" class=\"dataframe\">\n  <thead>\n    <tr style=\"text-align: right;\">\n      <th></th>\n      <th>PassengerId</th>\n      <th>Pclass</th>\n      <th>Sex</th>\n      <th>Age</th>\n      <th>SibSp</th>\n      <th>Parch</th>\n      <th>Fare</th>\n      <th>Embarked</th>\n    </tr>\n  </thead>\n  <tbody>\n    <tr>\n      <th>0</th>\n      <td>892</td>\n      <td>3</td>\n      <td>male</td>\n      <td>34.5</td>\n      <td>0</td>\n      <td>0</td>\n      <td>7.8292</td>\n      <td>Q</td>\n    </tr>\n    <tr>\n      <th>1</th>\n      <td>893</td>\n      <td>3</td>\n      <td>female</td>\n      <td>47.0</td>\n      <td>1</td>\n      <td>0</td>\n      <td>7.0000</td>\n      <td>S</td>\n    </tr>\n    <tr>\n      <th>2</th>\n      <td>894</td>\n      <td>2</td>\n      <td>male</td>\n      <td>62.0</td>\n      <td>0</td>\n      <td>0</td>\n      <td>9.6875</td>\n      <td>Q</td>\n    </tr>\n    <tr>\n      <th>3</th>\n      <td>895</td>\n      <td>3</td>\n      <td>male</td>\n      <td>27.0</td>\n      <td>0</td>\n      <td>0</td>\n      <td>8.6625</td>\n      <td>S</td>\n    </tr>\n    <tr>\n      <th>4</th>\n      <td>896</td>\n      <td>3</td>\n      <td>female</td>\n      <td>22.0</td>\n      <td>1</td>\n      <td>1</td>\n      <td>12.2875</td>\n      <td>S</td>\n    </tr>\n    <tr>\n      <th>...</th>\n      <td>...</td>\n      <td>...</td>\n      <td>...</td>\n      <td>...</td>\n      <td>...</td>\n      <td>...</td>\n      <td>...</td>\n      <td>...</td>\n    </tr>\n    <tr>\n      <th>409</th>\n      <td>1301</td>\n      <td>3</td>\n      <td>female</td>\n      <td>3.0</td>\n      <td>1</td>\n      <td>1</td>\n      <td>13.7750</td>\n      <td>S</td>\n    </tr>\n    <tr>\n      <th>411</th>\n      <td>1303</td>\n      <td>1</td>\n      <td>female</td>\n      <td>37.0</td>\n      <td>1</td>\n      <td>0</td>\n      <td>90.0000</td>\n      <td>Q</td>\n    </tr>\n    <tr>\n      <th>412</th>\n      <td>1304</td>\n      <td>3</td>\n      <td>female</td>\n      <td>28.0</td>\n      <td>0</td>\n      <td>0</td>\n      <td>7.7750</td>\n      <td>S</td>\n    </tr>\n    <tr>\n      <th>414</th>\n      <td>1306</td>\n      <td>1</td>\n      <td>female</td>\n      <td>39.0</td>\n      <td>0</td>\n      <td>0</td>\n      <td>108.9000</td>\n      <td>C</td>\n    </tr>\n    <tr>\n      <th>415</th>\n      <td>1307</td>\n      <td>3</td>\n      <td>male</td>\n      <td>38.5</td>\n      <td>0</td>\n      <td>0</td>\n      <td>7.2500</td>\n      <td>S</td>\n    </tr>\n  </tbody>\n</table>\n<p>331 rows × 8 columns</p>\n</div>"
     },
     "execution_count": 37,
     "metadata": {},
     "output_type": "execute_result"
    }
   ],
   "source": [
    "def get_surname(name):\n",
    "    reg = re.compile('([A-Za-z]+),')\n",
    "    return reg.findall(name)[0]\n",
    "\n",
    "\n",
    "def process_data(df):\n",
    "    # df['Surname'] = df.apply(lambda row: get_surname(row['Name']), axis='columns')\n",
    "    df.drop(['Name', 'Cabin', 'Ticket'], axis='columns', inplace=True)\n",
    "    df.dropna(axis='index', subset=df.columns, inplace=True)\n",
    "\n",
    "    return df\n",
    "\n",
    "\n",
    "X = process_data(X)\n",
    "X_test_full = process_data(X_test_full)\n",
    "\n",
    "\n",
    "X, y = pds.separate_target(X, 'Survived')\n",
    "\n",
    "# Splitting into train and validation data\n",
    "train_perc = 0.8\n",
    "valid_perc = 0.2\n",
    "X_train_full, X_valid_full, y_train, y_valid = pds.split_train_test(X, y, train_perc, valid_perc)\n",
    "\n",
    "# converting categorical cols into numerical\n",
    "X_train, X_valid, X_test = pds.categorical_numerical_cols(X_train_full, X_valid_full, X_test_full)\n",
    "\n",
    "X_test_full"
   ],
   "metadata": {
    "collapsed": false,
    "pycharm": {
     "name": "#%%\n"
    }
   }
  },
  {
   "cell_type": "code",
   "execution_count": 38,
   "outputs": [
    {
     "name": "stdout",
     "output_type": "stream",
     "text": [
      "0       892\n",
      "1       893\n",
      "2       894\n",
      "3       895\n",
      "4       896\n",
      "       ... \n",
      "409    1301\n",
      "411    1303\n",
      "412    1304\n",
      "414    1306\n",
      "415    1307\n",
      "Name: PassengerId, Length: 331, dtype: int64\n"
     ]
    }
   ],
   "source": [
    "PassengerColumn = X_test.PassengerId\n",
    "\n",
    "X_train.drop(['PassengerId'], axis='columns', inplace=True)\n",
    "X_valid.drop(['PassengerId'], axis='columns', inplace=True)\n",
    "X_test.drop(['PassengerId'], axis='columns', inplace=True)\n",
    "\n",
    "max_train = 0\n",
    "max_valid = 0\n",
    "max_est = 0\n",
    "max_lr = 0\n",
    "max_md = 0\n",
    "\n",
    "print(PassengerColumn)\n",
    "# print(X_train)\n",
    "# print(X_valid)"
   ],
   "metadata": {
    "collapsed": false,
    "pycharm": {
     "name": "#%%\n"
    }
   }
  },
  {
   "cell_type": "code",
   "execution_count": 39,
   "outputs": [
    {
     "name": "stdout",
     "output_type": "stream",
     "text": [
      "train_perc: 0.80 valid_perc: 0.20 est: 300 lr: 0.010 md: 5 => train data: 0.923 val data: 0.832\n",
      "train_perc: 0.80 valid_perc: 0.20 est: 300 lr: 0.010 md: 6 => train data: 0.946 val data: 0.839\n",
      "train_perc: 0.80 valid_perc: 0.20 est: 300 lr: 0.015 md: 6 => train data: 0.960 val data: 0.839\n",
      "train_perc: 0.80 valid_perc: 0.20 est: 300 lr: 0.020 md: 5 => train data: 0.956 val data: 0.839\n",
      "train_perc: 0.80 valid_perc: 0.20 est: 300 lr: 0.020 md: 6 => train data: 0.968 val data: 0.839\n",
      "train_perc: 0.80 valid_perc: 0.20 est: 300 lr: 0.025 md: 5 => train data: 0.961 val data: 0.825\n",
      "train_perc: 0.80 valid_perc: 0.20 est: 300 lr: 0.025 md: 6 => train data: 0.979 val data: 0.825\n",
      "train_perc: 0.80 valid_perc: 0.20 est: 350 lr: 0.010 md: 5 => train data: 0.921 val data: 0.832\n",
      "train_perc: 0.80 valid_perc: 0.20 est: 350 lr: 0.010 md: 6 => train data: 0.949 val data: 0.832\n",
      "train_perc: 0.80 valid_perc: 0.20 est: 350 lr: 0.015 md: 5 => train data: 0.947 val data: 0.825\n",
      "train_perc: 0.80 valid_perc: 0.20 est: 350 lr: 0.015 md: 6 => train data: 0.970 val data: 0.832\n",
      "train_perc: 0.80 valid_perc: 0.20 est: 350 lr: 0.020 md: 5 => train data: 0.965 val data: 0.832\n",
      "train_perc: 0.80 valid_perc: 0.20 est: 350 lr: 0.020 md: 6 => train data: 0.972 val data: 0.839\n",
      "train_perc: 0.80 valid_perc: 0.20 est: 350 lr: 0.025 md: 5 => train data: 0.968 val data: 0.832\n",
      "train_perc: 0.80 valid_perc: 0.20 est: 350 lr: 0.025 md: 6 => train data: 0.981 val data: 0.839\n",
      "train_perc: 0.80 valid_perc: 0.20 est: 400 lr: 0.010 md: 5 => train data: 0.931 val data: 0.832\n",
      "train_perc: 0.80 valid_perc: 0.20 est: 400 lr: 0.010 md: 6 => train data: 0.953 val data: 0.832\n",
      "train_perc: 0.80 valid_perc: 0.20 est: 400 lr: 0.015 md: 5 => train data: 0.954 val data: 0.832\n",
      "train_perc: 0.80 valid_perc: 0.20 est: 400 lr: 0.015 md: 6 => train data: 0.974 val data: 0.832\n",
      "train_perc: 0.80 valid_perc: 0.20 est: 400 lr: 0.020 md: 5 => train data: 0.967 val data: 0.832\n",
      "train_perc: 0.80 valid_perc: 0.20 est: 400 lr: 0.020 md: 6 => train data: 0.977 val data: 0.832\n",
      "train_perc: 0.80 valid_perc: 0.20 est: 400 lr: 0.025 md: 5 => train data: 0.974 val data: 0.853\n",
      "train_perc: 0.80 valid_perc: 0.20 est: 400 lr: 0.025 md: 6 => train data: 0.984 val data: 0.832\n",
      "BEST: train_perc: 0.80 valid_perc: 0.20 est: 400 lr: 0.025 md: 5 => train data: 0.974 val data: 0.853\n"
     ]
    }
   ],
   "source": [
    "\n",
    "for i in range(300, 450, 50):\n",
    "    for lr in np.arange(0.01, 0.03, 0.005):\n",
    "        for md in range(5, 7, 1):\n",
    "            model = GradientBoostingClassifier(n_estimators=i, random_state=0, learning_rate=lr, max_depth=md)\n",
    "            model.fit(X_train, y_train)\n",
    "            train_score = model.score(X_train, y_train)\n",
    "            valid_score = model.score(X_valid, y_valid)\n",
    "            if valid_score > max_valid:\n",
    "                max_train = train_score\n",
    "                max_valid = valid_score\n",
    "                max_est = i\n",
    "                max_lr = lr\n",
    "                max_md = md\n",
    "\n",
    "            if valid_score > 0.82:\n",
    "                print('train_perc: {:.2f}' .format(train_perc) + ' valid_perc: {:.2f}' .format(valid_perc) + ' est: {:.0f}'.format(i) + ' lr: {:.3f}'.format(lr) + ' md: {:.0f}'.format(md)\n",
    "                      + ' => train data: {:.3f}'.format(train_score)\n",
    "                      + ' val data: {:.3f}'.format(valid_score))\n",
    "\n",
    "\n",
    "print('BEST: train_perc: {:.2f}' .format(train_perc) + ' valid_perc: {:.2f}' .format(valid_perc) + ' est: {:.0f}'.format(max_est) + ' lr: {:.3f}'.format(max_lr) + ' md: {:.0f}'.format(max_md)\n",
    "      + ' => train data: {:.3f}'.format(max_train)\n",
    "      + ' val data: {:.3f}'.format(max_valid))\n"
   ],
   "metadata": {
    "collapsed": false,
    "pycharm": {
     "name": "#%%\n"
    }
   }
  },
  {
   "cell_type": "code",
   "execution_count": 40,
   "outputs": [
    {
     "name": "stdout",
     "output_type": "stream",
     "text": [
      "Accuracy score:  0.8531468531468531\n",
      "Accuracy count:  122 / 143\n",
      "Precision score:  0.8533765085489222\n",
      "Recall score:  0.8531468531468531\n",
      "F1 score:  0.8521813492227694\n",
      "\n"
     ]
    }
   ],
   "source": [
    "# Accuracy score:  0.8391608391608392\n",
    "# model = GradientBoostingClassifier(n_estimators=350, random_state=0, learning_rate=0.02, max_depth=6)\n",
    "# Accuracy score:  0.8461538461538461\n",
    "from libs.simple_processing import print_scores\n",
    "\n",
    "winner = GradientBoostingClassifier(n_estimators=400, random_state=0, learning_rate=0.025, max_depth=5, max_features=\"auto\")\n",
    "# bez nazwisk\n",
    "# winner = GradientBoostingClassifier(n_estimators=400, random_state=0, learning_rate=0.025, max_depth=5, max_features=\"auto\")\n",
    "winner.fit(X_train, y_train)\n",
    "\n",
    "y_pred = winner.predict(X_valid)\n",
    "pd.DataFrame({'y_valid' : y_valid, 'y_pred': y_pred})\n",
    "\n",
    "print_scores(y_valid, y_pred)"
   ],
   "metadata": {
    "collapsed": false,
    "pycharm": {
     "name": "#%%\n"
    }
   }
  },
  {
   "cell_type": "markdown",
   "source": [
    "## ROC"
   ],
   "metadata": {
    "collapsed": false,
    "pycharm": {
     "name": "#%% md\n"
    }
   }
  },
  {
   "cell_type": "code",
   "execution_count": 41,
   "outputs": [
    {
     "data": {
      "text/plain": "<Figure size 432x288 with 1 Axes>",
      "image/png": "[encoded data removed]"
     },
     "metadata": {
      "needs_background": "light"
     },
     "output_type": "display_data"
    }
   ],
   "source": [
    "import libs.simpleplotter as plot\n",
    "\n",
    "plot.simple_roc(y_valid, y_pred)"
   ],
   "metadata": {
    "collapsed": false,
    "pycharm": {
     "name": "#%%\n"
    }
   }
  },
  {
   "cell_type": "code",
   "execution_count": 42,
   "outputs": [
    {
     "data": {
      "text/plain": "<Figure size 180x180 with 1 Axes>",
      "image/png": "[encoded data removed]"
     },
     "metadata": {
      "needs_background": "light"
     },
     "output_type": "display_data"
    },
    {
     "data": {
      "text/plain": "array([[74,  8],\n       [13, 48]])"
     },
     "execution_count": 42,
     "metadata": {},
     "output_type": "execute_result"
    }
   ],
   "source": [
    "from libs.simpleplotter import simple_confusion_matrix\n",
    "\n",
    "simple_confusion_matrix(y_valid, y_pred, winner.classes_)"
   ],
   "metadata": {
    "collapsed": false,
    "pycharm": {
     "name": "#%%\n"
    }
   }
  },
  {
   "cell_type": "code",
   "execution_count": 43,
   "outputs": [
    {
     "data": {
      "text/plain": "     PassengerId  Survived\n0            892         0\n1            893         0\n2            894         1\n3            895         0\n4            896         1\n..           ...       ...\n326         1301         1\n327         1303         1\n328         1304         0\n329         1306         1\n330         1307         0\n\n[331 rows x 2 columns]",
      "text/html": "<div>\n<style scoped>\n    .dataframe tbody tr th:only-of-type {\n        vertical-align: middle;\n    }\n\n    .dataframe tbody tr th {\n        vertical-align: top;\n    }\n\n    .dataframe thead th {\n        text-align: right;\n    }\n</style>\n<table border=\"1\" class=\"dataframe\">\n  <thead>\n    <tr style=\"text-align: right;\">\n      <th></th>\n      <th>PassengerId</th>\n      <th>Survived</th>\n    </tr>\n  </thead>\n  <tbody>\n    <tr>\n      <th>0</th>\n      <td>892</td>\n      <td>0</td>\n    </tr>\n    <tr>\n      <th>1</th>\n      <td>893</td>\n      <td>0</td>\n    </tr>\n    <tr>\n      <th>2</th>\n      <td>894</td>\n      <td>1</td>\n    </tr>\n    <tr>\n      <th>3</th>\n      <td>895</td>\n      <td>0</td>\n    </tr>\n    <tr>\n      <th>4</th>\n      <td>896</td>\n      <td>1</td>\n    </tr>\n    <tr>\n      <th>...</th>\n      <td>...</td>\n      <td>...</td>\n    </tr>\n    <tr>\n      <th>326</th>\n      <td>1301</td>\n      <td>1</td>\n    </tr>\n    <tr>\n      <th>327</th>\n      <td>1303</td>\n      <td>1</td>\n    </tr>\n    <tr>\n      <th>328</th>\n      <td>1304</td>\n      <td>0</td>\n    </tr>\n    <tr>\n      <th>329</th>\n      <td>1306</td>\n      <td>1</td>\n    </tr>\n    <tr>\n      <th>330</th>\n      <td>1307</td>\n      <td>0</td>\n    </tr>\n  </tbody>\n</table>\n<p>331 rows × 2 columns</p>\n</div>"
     },
     "execution_count": 43,
     "metadata": {},
     "output_type": "execute_result"
    }
   ],
   "source": [
    "y_test = winner.predict(X_test)\n",
    "output = pd.DataFrame({'PassengerId': PassengerColumn, 'Survived': y_test})\n",
    "output.to_csv('./submission.csv', index=False)\n",
    "SUBMISSION = pd.read_csv(\"./submission.csv\")\n",
    "SUBMISSION"
   ],
   "metadata": {
    "collapsed": false,
    "pycharm": {
     "name": "#%%\n"
    }
   }
  },
  {
   "cell_type": "markdown",
   "source": [
    "Let's see which features were the most important for the training"
   ],
   "metadata": {
    "collapsed": false
   }
  },
  {
   "cell_type": "code",
   "execution_count": 44,
   "outputs": [],
   "source": [
    "labels = X_train.keys()\n",
    "labels_filtered = []\n",
    "importance_filtered = []\n",
    "importance_threshold = 0.005\n",
    "\n",
    "for index in range(len(winner.feature_importances_)):\n",
    "    if winner.feature_importances_[index] > importance_threshold:\n",
    "        labels_filtered.append(labels[index])\n",
    "        importance_filtered.append(winner.feature_importances_[index])\n"
   ],
   "metadata": {
    "collapsed": false,
    "pycharm": {
     "name": "#%%\n"
    }
   }
  },
  {
   "cell_type": "code",
   "execution_count": 45,
   "outputs": [
    {
     "data": {
      "text/plain": "<Figure size 432x288 with 1 Axes>",
      "image/png": "[encoded data removed]"
     },
     "metadata": {
      "needs_background": "light"
     },
     "output_type": "display_data"
    }
   ],
   "source": [
    "import matplotlib.pyplot as plt\n",
    "\n",
    "plt.barh(y=range(len(labels_filtered)), width=importance_filtered, align='center')\n",
    "plt.yticks(np.arange(len(labels_filtered)), labels_filtered)\n",
    "plt.xlabel(\"importance\")\n",
    "plt.ylabel(ylabel=\"feature\")\n",
    "plt.show()"
   ],
   "metadata": {
    "collapsed": false,
    "pycharm": {
     "name": "#%%\n"
    }
   }
  }
 ],
 "metadata": {
  "kernelspec": {
   "display_name": "Python 3",
   "language": "python",
   "name": "python3"
  },
  "language_info": {
   "codemirror_mode": {
    "name": "ipython",
    "version": 2
   },
   "file_extension": ".py",
   "mimetype": "text/x-python",
   "name": "python",
   "nbconvert_exporter": "python",
   "pygments_lexer": "ipython2",
   "version": "2.7.6"
  }
 },
 "nbformat": 4,
 "nbformat_minor": 0
}